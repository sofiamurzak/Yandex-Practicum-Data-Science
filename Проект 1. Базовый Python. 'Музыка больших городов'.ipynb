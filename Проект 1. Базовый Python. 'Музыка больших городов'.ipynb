{
 "cells": [
  {
   "cell_type": "markdown",
   "metadata": {},
   "source": [
    "<div style=\"border:solid lightseagreen 3px; padding: 20px\">\n",
    "<div>    \n",
    "<p><font color=\"black\" >\n",
    "Привет! Меня зовут Мария Четырева, и я буду делать ревью твоего проекта. Давай будем общаться на «ты». \n",
    "По ходу твоего решения я буду оставлять комментарии, обрати внимание на их цвет.</font></p>\n",
    "</div>\n",
    "\n",
    "<div class=\"alert alert-success\">\n",
    "\n",
    "<b>✔️</b> Зеленым цветом отмечены удачные и элегантные решения, на которые можно опираться в будущем.\n",
    "\n",
    "</div>\n",
    "\n",
    "<div class=\"alert alert-warning\">\n",
    "\n",
    "<b>⚠️</b> Жёлтым цветом выделено то, что в следующий раз можно сделать по-другому. Это не критичные ошибки, исправление которых остается на твое усмотрение. Однако постарайся, чтобы после твоих доработок их было не больше 3.\n",
    "\n",
    "</div>\n",
    "\n",
    "<div class=\"alert alert-danger\">\n",
    "\n",
    "<b>❌</b> Красным цветом отмечены критичные ошибки, без исправления которых проект не будет принят.\n",
    "\n",
    "</div>\n",
    "\n",
    "<p><font color=\"black\" >Давай работать над проектом в диалоге: если ты что-то меняешь в проекте по моим рекомендациям — пиши об этом. Выбери для своих комментариев какой-то заметный цвет, так мне будет легче отследить изменения, например вот так:\n",
    "\n",
    "<div class=\"alert alert-info\">\n",
    "<b>Комментарий студента:</b> Ок\n",
    "<br>\n",
    "</div>\n",
    "    \n",
    "Пожалуйста, не перемещай, не изменяй и не удаляй мои комментарии. Всё это поможет выполнить повторную проверку твоего проекта оперативнее. </font></p>\n",
    "\n",
    "</div>"
   ]
  },
  {
   "cell_type": "markdown",
   "metadata": {},
   "source": [
    "<div style=\"border:solid lightseagreen 3px; padding: 20px\">\n",
    "<div>\n",
    "<b>Общий комментарий ревьюера: </b>\n",
    "   К сожалению, не выполнены задания начиная с 3 пункта. Возможно, ты забыла сохранить проект.\n",
    "   Исправь замечания, которые я отметила для решенных заданий, доделай нерешенные и присылай на повторное ревью. Удачи!\n",
    "\n",
    "</div>\n",
    "    \n",
    " <div class=\"alert alert-success\">\n",
    "<b>✔️ Комментарий ревьюера v2:</b> Отлично! Все исправления засчитаны, а начиная с пункта 3 критических замечаний не возникло (только одно «желтое»). Отправляю работу, чтобы ты смогла ознакомиться с проверкой всех пунктов. Если все понятно и нет вопросов, присылай работу еще раз и я ее засчитаю </div>\n",
    "    \n",
    " <div class=\"alert alert-success\">\n",
    "<b>✔️ Комментарий ревьюера v3:</b> Круто, что ты стараешься учесть все пожелания) Работу принимаю. Удачи в дальнейших проектах! </div>\n",
    "    "
   ]
  },
  {
   "cell_type": "markdown",
   "metadata": {
    "id": "E0vqbgi9ay0H"
   },
   "source": [
    "# Яндекс.Музыка"
   ]
  },
  {
   "cell_type": "markdown",
   "metadata": {
    "id": "VUC88oWjTJw2"
   },
   "source": [
    "Сравнение Москвы и Петербурга окружено мифами. Например:\n",
    " * Москва — мегаполис, подчинённый жёсткому ритму рабочей недели;\n",
    " * Петербург — культурная столица, со своими вкусами.\n",
    "\n",
    "На данных Яндекс.Музыки вы сравните поведение пользователей двух столиц.\n",
    "\n",
    "**Цель исследования** — проверьте три гипотезы:\n",
    "1. Активность пользователей зависит от дня недели. Причём в Москве и Петербурге это проявляется по-разному.\n",
    "2. В понедельник утром в Москве преобладают одни жанры, а в Петербурге — другие. Так же и вечером пятницы преобладают разные жанры — в зависимости от города. \n",
    "3. Москва и Петербург предпочитают разные жанры музыки. В Москве чаще слушают поп-музыку, в Петербурге — русский рэп.\n",
    "\n",
    "**Ход исследования**\n",
    "\n",
    "Данные о поведении пользователей вы получите из файла `yandex_music_project.csv`. О качестве данных ничего не известно. Поэтому перед проверкой гипотез понадобится обзор данных. \n",
    "\n",
    "Вы проверите данные на ошибки и оцените их влияние на исследование. Затем, на этапе предобработки вы поищете возможность исправить самые критичные ошибки данных.\n",
    " \n",
    "Таким образом, исследование пройдёт в три этапа:\n",
    " 1. Обзор данных.\n",
    " 2. Предобработка данных.\n",
    " 3. Проверка гипотез.\n",
    "\n"
   ]
  },
  {
   "cell_type": "markdown",
   "metadata": {
    "id": "Ml1hmfXC_Zcs"
   },
   "source": [
    "## Обзор данных\n",
    "\n",
    "Составьте первое представление о данных Яндекс.Музыки.\n",
    "\n",
    "\n"
   ]
  },
  {
   "cell_type": "markdown",
   "metadata": {
    "id": "57eAOGIz_Zcs"
   },
   "source": [
    "Основной инструмент аналитика — `pandas`. Импортируйте эту библиотеку."
   ]
  },
  {
   "cell_type": "code",
   "execution_count": 1,
   "metadata": {
    "id": "AXN7PHPN_Zcs"
   },
   "outputs": [],
   "source": [
    "import pandas as pd # импорт библиотеки pandas"
   ]
  },
  {
   "cell_type": "markdown",
   "metadata": {},
   "source": [
    "<div class=\"alert alert-success\">\n",
    "\n",
    "<b>✔️ Комментарий ревьюера:</b> Очень здорово, что ты используешь сокращение pd для Pandas, это общепринятое сокращение для этой библиотеки для удобной дальнейшей работы.\n",
    "\n",
    "</div>"
   ]
  },
  {
   "cell_type": "markdown",
   "metadata": {
    "id": "SG23P8tt_Zcs"
   },
   "source": [
    "Прочитайте файл `yandex_music_project.csv` из папки `/datasets` и сохраните его в переменной `df`:"
   ]
  },
  {
   "cell_type": "code",
   "execution_count": 2,
   "metadata": {
    "id": "fFVu7vqh_Zct"
   },
   "outputs": [],
   "source": [
    "df = pd.read_csv('/datasets/yandex_music_project.csv')# чтение файла с данными и сохранение в df"
   ]
  },
  {
   "cell_type": "markdown",
   "metadata": {
    "id": "rDoOMd3uTqnZ"
   },
   "source": [
    "Выведите на экран первые десять строк таблицы:"
   ]
  },
  {
   "cell_type": "code",
   "execution_count": 3,
   "metadata": {
    "id": "oWTVX3gW_Zct",
    "scrolled": true
   },
   "outputs": [
    {
     "data": {
      "text/html": [
       "<div>\n",
       "<style scoped>\n",
       "    .dataframe tbody tr th:only-of-type {\n",
       "        vertical-align: middle;\n",
       "    }\n",
       "\n",
       "    .dataframe tbody tr th {\n",
       "        vertical-align: top;\n",
       "    }\n",
       "\n",
       "    .dataframe thead th {\n",
       "        text-align: right;\n",
       "    }\n",
       "</style>\n",
       "<table border=\"1\" class=\"dataframe\">\n",
       "  <thead>\n",
       "    <tr style=\"text-align: right;\">\n",
       "      <th></th>\n",
       "      <th>userID</th>\n",
       "      <th>Track</th>\n",
       "      <th>artist</th>\n",
       "      <th>genre</th>\n",
       "      <th>City</th>\n",
       "      <th>time</th>\n",
       "      <th>Day</th>\n",
       "    </tr>\n",
       "  </thead>\n",
       "  <tbody>\n",
       "    <tr>\n",
       "      <td>0</td>\n",
       "      <td>FFB692EC</td>\n",
       "      <td>Kamigata To Boots</td>\n",
       "      <td>The Mass Missile</td>\n",
       "      <td>rock</td>\n",
       "      <td>Saint-Petersburg</td>\n",
       "      <td>20:28:33</td>\n",
       "      <td>Wednesday</td>\n",
       "    </tr>\n",
       "    <tr>\n",
       "      <td>1</td>\n",
       "      <td>55204538</td>\n",
       "      <td>Delayed Because of Accident</td>\n",
       "      <td>Andreas Rönnberg</td>\n",
       "      <td>rock</td>\n",
       "      <td>Moscow</td>\n",
       "      <td>14:07:09</td>\n",
       "      <td>Friday</td>\n",
       "    </tr>\n",
       "    <tr>\n",
       "      <td>2</td>\n",
       "      <td>20EC38</td>\n",
       "      <td>Funiculì funiculà</td>\n",
       "      <td>Mario Lanza</td>\n",
       "      <td>pop</td>\n",
       "      <td>Saint-Petersburg</td>\n",
       "      <td>20:58:07</td>\n",
       "      <td>Wednesday</td>\n",
       "    </tr>\n",
       "    <tr>\n",
       "      <td>3</td>\n",
       "      <td>A3DD03C9</td>\n",
       "      <td>Dragons in the Sunset</td>\n",
       "      <td>Fire + Ice</td>\n",
       "      <td>folk</td>\n",
       "      <td>Saint-Petersburg</td>\n",
       "      <td>08:37:09</td>\n",
       "      <td>Monday</td>\n",
       "    </tr>\n",
       "    <tr>\n",
       "      <td>4</td>\n",
       "      <td>E2DC1FAE</td>\n",
       "      <td>Soul People</td>\n",
       "      <td>Space Echo</td>\n",
       "      <td>dance</td>\n",
       "      <td>Moscow</td>\n",
       "      <td>08:34:34</td>\n",
       "      <td>Monday</td>\n",
       "    </tr>\n",
       "    <tr>\n",
       "      <td>5</td>\n",
       "      <td>842029A1</td>\n",
       "      <td>Преданная</td>\n",
       "      <td>IMPERVTOR</td>\n",
       "      <td>rusrap</td>\n",
       "      <td>Saint-Petersburg</td>\n",
       "      <td>13:09:41</td>\n",
       "      <td>Friday</td>\n",
       "    </tr>\n",
       "    <tr>\n",
       "      <td>6</td>\n",
       "      <td>4CB90AA5</td>\n",
       "      <td>True</td>\n",
       "      <td>Roman Messer</td>\n",
       "      <td>dance</td>\n",
       "      <td>Moscow</td>\n",
       "      <td>13:00:07</td>\n",
       "      <td>Wednesday</td>\n",
       "    </tr>\n",
       "    <tr>\n",
       "      <td>7</td>\n",
       "      <td>F03E1C1F</td>\n",
       "      <td>Feeling This Way</td>\n",
       "      <td>Polina Griffith</td>\n",
       "      <td>dance</td>\n",
       "      <td>Moscow</td>\n",
       "      <td>20:47:49</td>\n",
       "      <td>Wednesday</td>\n",
       "    </tr>\n",
       "    <tr>\n",
       "      <td>8</td>\n",
       "      <td>8FA1D3BE</td>\n",
       "      <td>И вновь продолжается бой</td>\n",
       "      <td>NaN</td>\n",
       "      <td>ruspop</td>\n",
       "      <td>Moscow</td>\n",
       "      <td>09:17:40</td>\n",
       "      <td>Friday</td>\n",
       "    </tr>\n",
       "    <tr>\n",
       "      <td>9</td>\n",
       "      <td>E772D5C0</td>\n",
       "      <td>Pessimist</td>\n",
       "      <td>NaN</td>\n",
       "      <td>dance</td>\n",
       "      <td>Saint-Petersburg</td>\n",
       "      <td>21:20:49</td>\n",
       "      <td>Wednesday</td>\n",
       "    </tr>\n",
       "  </tbody>\n",
       "</table>\n",
       "</div>"
      ],
      "text/plain": [
       "     userID                        Track            artist   genre  \\\n",
       "0  FFB692EC            Kamigata To Boots  The Mass Missile    rock   \n",
       "1  55204538  Delayed Because of Accident  Andreas Rönnberg    rock   \n",
       "2    20EC38            Funiculì funiculà       Mario Lanza     pop   \n",
       "3  A3DD03C9        Dragons in the Sunset        Fire + Ice    folk   \n",
       "4  E2DC1FAE                  Soul People        Space Echo   dance   \n",
       "5  842029A1                    Преданная         IMPERVTOR  rusrap   \n",
       "6  4CB90AA5                         True      Roman Messer   dance   \n",
       "7  F03E1C1F             Feeling This Way   Polina Griffith   dance   \n",
       "8  8FA1D3BE     И вновь продолжается бой               NaN  ruspop   \n",
       "9  E772D5C0                    Pessimist               NaN   dance   \n",
       "\n",
       "             City        time        Day  \n",
       "0  Saint-Petersburg  20:28:33  Wednesday  \n",
       "1            Moscow  14:07:09     Friday  \n",
       "2  Saint-Petersburg  20:58:07  Wednesday  \n",
       "3  Saint-Petersburg  08:37:09     Monday  \n",
       "4            Moscow  08:34:34     Monday  \n",
       "5  Saint-Petersburg  13:09:41     Friday  \n",
       "6            Moscow  13:00:07  Wednesday  \n",
       "7            Moscow  20:47:49  Wednesday  \n",
       "8            Moscow  09:17:40     Friday  \n",
       "9  Saint-Petersburg  21:20:49  Wednesday  "
      ]
     },
     "execution_count": 3,
     "metadata": {},
     "output_type": "execute_result"
    }
   ],
   "source": [
    "df.head(10)# получение первых 10 строк таблицы df"
   ]
  },
  {
   "cell_type": "markdown",
   "metadata": {},
   "source": [
    "<div class=\"alert alert-danger\">\n",
    "\n",
    "<b>❌ Комментарий ревьюера </b> Для вывода датафреймов действительно используется функция display(). Но в данном случае для вывода на экран не нужно использовать ни print(), ни display(): результат и так будет выведен, так как это последняя (и единственная) строчка ячейки.\n",
    "\n",
    "</div>"
   ]
  },
  {
   "cell_type": "markdown",
   "metadata": {},
   "source": [
    "<div class=\"alert alert-info\">\n",
    "<b>Комментарий студента:</b> Убрала функцию для вывода таблицы, так как результат последней строки ячейки выводится сам. \n",
    "<br>\n",
    "</div>"
   ]
  },
  {
   "cell_type": "markdown",
   "metadata": {},
   "source": [
    "<div class=\"alert alert-success\">\n",
    "\n",
    "<b>✔️ Комментарий ревьюера v2:</b> 👍\n",
    "\n",
    "</div>"
   ]
  },
  {
   "cell_type": "markdown",
   "metadata": {
    "id": "EO73Kwic_Zct"
   },
   "source": [
    "Одной командой получить общую информацию о таблице:"
   ]
  },
  {
   "cell_type": "code",
   "execution_count": 4,
   "metadata": {
    "id": "DSf2kIb-_Zct"
   },
   "outputs": [
    {
     "name": "stdout",
     "output_type": "stream",
     "text": [
      "<class 'pandas.core.frame.DataFrame'>\n",
      "RangeIndex: 65079 entries, 0 to 65078\n",
      "Data columns (total 7 columns):\n",
      "  userID    65079 non-null object\n",
      "Track       63848 non-null object\n",
      "artist      57876 non-null object\n",
      "genre       63881 non-null object\n",
      "  City      65079 non-null object\n",
      "time        65079 non-null object\n",
      "Day         65079 non-null object\n",
      "dtypes: object(7)\n",
      "memory usage: 3.5+ MB\n"
     ]
    }
   ],
   "source": [
    "df.info()# получение общей информации о данных в таблице df"
   ]
  },
  {
   "cell_type": "markdown",
   "metadata": {
    "id": "TaQ2Iwbr_Zct"
   },
   "source": [
    "Итак, в таблице семь столбцов. Тип данных во всех столбцах — `object`.\n",
    "\n",
    "Согласно документации к данным:\n",
    "* `userID` — идентификатор пользователя;\n",
    "* `Track` — название трека;  \n",
    "* `artist` — имя исполнителя;\n",
    "* `genre` — название жанра;\n",
    "* `City` — город пользователя;\n",
    "* `time` — время начала прослушивания;\n",
    "* `Day` — день недели.\n",
    "\n",
    "В названиях колонок видны три нарушения стиля:\n",
    "1. Строчные буквы сочетаются с прописными.\n",
    "2. Встречаются пробелы.\n",
    "3. <font color='blue'>Написание не в \"змеином_регистре\"</font>\n",
    "\n",
    "\n",
    "\n",
    "Количество значений в столбцах различается. Значит, в данных есть пропущенные значения.\n"
   ]
  },
  {
   "cell_type": "markdown",
   "metadata": {},
   "source": [
    "<div class=\"alert alert-success\">\n",
    "\n",
    "<b>✔️ Комментарий ревьюера:</b> Верно подмечено, shake_case — признак хорошего тона\n",
    "\n",
    "</div>"
   ]
  },
  {
   "cell_type": "markdown",
   "metadata": {
    "id": "MCB6-dXG_Zct"
   },
   "source": [
    "**Выводы**\n",
    "\n",
    "В каждой строке таблицы — данные о прослушанном треке. Часть колонок описывает саму композицию: название, исполнителя и жанр. Остальные данные рассказывают о пользователе: из какого он города, когда он слушал музыку. \n",
    "\n",
    "Предварительно можно утверждать, что, данных достаточно для проверки гипотез. Но встречаются пропуски в данных, а в названиях колонок — расхождения с хорошим стилем.\n",
    "\n",
    "Чтобы двигаться дальше, нужно устранить проблемы в данных."
   ]
  },
  {
   "cell_type": "markdown",
   "metadata": {
    "id": "SjYF6Ub9_Zct"
   },
   "source": [
    "## Предобработка данных\n",
    "Исправьте стиль в заголовках столбцов, исключите пропуски. Затем проверьте данные на дубликаты."
   ]
  },
  {
   "cell_type": "markdown",
   "metadata": {
    "id": "dIaKXr29_Zct"
   },
   "source": [
    "### Стиль заголовков\n",
    "Выведите на экран названия столбцов:"
   ]
  },
  {
   "cell_type": "code",
   "execution_count": 5,
   "metadata": {
    "id": "oKOTdF_Q_Zct"
   },
   "outputs": [
    {
     "data": {
      "text/plain": [
       "Index(['  userID', 'Track', 'artist', 'genre', '  City  ', 'time', 'Day'], dtype='object')"
      ]
     },
     "execution_count": 5,
     "metadata": {},
     "output_type": "execute_result"
    }
   ],
   "source": [
    "df.columns # перечень названий столбцов таблицы df"
   ]
  },
  {
   "cell_type": "markdown",
   "metadata": {},
   "source": [
    "<div class=\"alert alert-danger\">\n",
    "\n",
    "<b>❌ Комментарий ревьюера </b> Избыточный вызов print() — исправь здесь и далее\n",
    "\n",
    "</div>"
   ]
  },
  {
   "cell_type": "markdown",
   "metadata": {},
   "source": [
    "<div class=\"alert alert-info\">\n",
    "<b>Комментарий студента:</b> Убрала функцию вывода, в последующих ячейках с кодом так же уберу функции вывода.\n",
    "<br>\n",
    "</div>"
   ]
  },
  {
   "cell_type": "markdown",
   "metadata": {},
   "source": [
    "<div class=\"alert alert-success\">\n",
    "\n",
    "<b>✔️ Комментарий ревьюера v2:</b> Отлично!\n",
    "\n",
    "</div>"
   ]
  },
  {
   "cell_type": "markdown",
   "metadata": {
    "id": "zj5534cv_Zct"
   },
   "source": [
    "Приведите названия в соответствие с хорошим стилем:\n",
    "* несколько слов в названии запишите в «змеином_регистре»,\n",
    "* все символы сделайте строчными,\n",
    "* устраните пробелы.\n",
    "\n",
    "Для этого переименуйте колонки так:\n",
    "* `'  userID'` → `'user_id'`;\n",
    "* `'Track'` → `'track'`;\n",
    "* `'  City  '` → `'city'`;\n",
    "* `'Day'` → `'day'`."
   ]
  },
  {
   "cell_type": "code",
   "execution_count": 6,
   "metadata": {
    "id": "ISlFqs5y_Zct"
   },
   "outputs": [],
   "source": [
    "df = df.rename(columns = {'  userID':'user_id','Track':'track','  City  ':'city','Day':'day'})# переименование столбцов"
   ]
  },
  {
   "cell_type": "markdown",
   "metadata": {
    "id": "1dqbh00J_Zct"
   },
   "source": [
    "Проверьте результат. Для этого ещё раз выведите на экран названия столбцов:"
   ]
  },
  {
   "cell_type": "code",
   "execution_count": 7,
   "metadata": {
    "id": "d4NOAmTW_Zct"
   },
   "outputs": [
    {
     "data": {
      "text/plain": [
       "Index(['user_id', 'track', 'artist', 'genre', 'city', 'time', 'day'], dtype='object')"
      ]
     },
     "execution_count": 7,
     "metadata": {},
     "output_type": "execute_result"
    }
   ],
   "source": [
    "df.columns # проверка результатов - перечень названий столбцов"
   ]
  },
  {
   "cell_type": "markdown",
   "metadata": {},
   "source": [
    "<div class=\"alert alert-success\">\n",
    "\n",
    "<b>✔️ Комментарий ревьюера:</b> Вот теперь с названиями столбцов все в порядке!\n",
    "\n",
    "</div>"
   ]
  },
  {
   "cell_type": "markdown",
   "metadata": {
    "id": "5ISfbcfY_Zct"
   },
   "source": [
    "### Пропуски значений\n",
    "Сначала посчитайте, сколько в таблице пропущенных значений. Для этого достаточно двух методов `pandas`:"
   ]
  },
  {
   "cell_type": "code",
   "execution_count": 8,
   "metadata": {
    "id": "RskX29qr_Zct"
   },
   "outputs": [
    {
     "data": {
      "text/plain": [
       "user_id       0\n",
       "track      1231\n",
       "artist     7203\n",
       "genre      1198\n",
       "city          0\n",
       "time          0\n",
       "day           0\n",
       "dtype: int64"
      ]
     },
     "execution_count": 8,
     "metadata": {},
     "output_type": "execute_result"
    }
   ],
   "source": [
    "df.isna().sum()# подсчёт пропусков"
   ]
  },
  {
   "cell_type": "markdown",
   "metadata": {},
   "source": [
    "<div class=\"alert alert-success\">\n",
    "<b>✔️ Комментарий ревьюера:</b> Ты использовала метод isna() для нахождения пропущенных значений, это отлично! На самом деле, isnull() и isna() делают одно и то же, но использование isna() предпочтительнее.  </div>"
   ]
  },
  {
   "cell_type": "markdown",
   "metadata": {
    "id": "qubhgnlO_Zct"
   },
   "source": [
    "Не все пропущенные значения влияют на исследование. Так в `track` и `artist` пропуски не важны для вашей работы. Достаточно заменить их явными обозначениями.\n",
    "\n",
    "Но пропуски в `genre` могут помешать сравнению музыкальных вкусов в Москве и Санкт-Петербурге. На практике было бы правильно установить причину пропусков и восстановить данные. Такой возможности нет в учебном проекте. Придётся:\n",
    "* заполнить и эти пропуски явными обозначениями,\n",
    "* оценить, насколько они повредят расчётам. "
   ]
  },
  {
   "cell_type": "markdown",
   "metadata": {
    "id": "fSv2laPA_Zct"
   },
   "source": [
    "Замените пропущенные значения в столбцах `track`, `artist` и `genre` на строку `'unknown'`. Для этого создайте список `columns_to_replace`, переберите его элементы циклом `for` и для каждого столбца выполните замену пропущенных значений:"
   ]
  },
  {
   "cell_type": "code",
   "execution_count": 9,
   "metadata": {
    "id": "KplB5qWs_Zct"
   },
   "outputs": [],
   "source": [
    "columns_to_replace = ['track','artist','genre']\n",
    "for column in columns_to_replace:\n",
    "    df[column] = df[column].fillna('unknown') # перебор названий столбцов в цикле и замена пропущенных значений на 'unknown'"
   ]
  },
  {
   "cell_type": "markdown",
   "metadata": {},
   "source": [
    "<div class=\"alert alert-success\">\n",
    "<b>✔️ Комментарий ревьюера:</b> Цикл позволяет оптимизировать повторение одних и тех же команд, это удобно!\n",
    "    \n",
    "</div>"
   ]
  },
  {
   "cell_type": "markdown",
   "metadata": {
    "id": "Ilsm-MZo_Zct"
   },
   "source": [
    "Убедитесь, что в таблице не осталось пропусков. Для этого ещё раз посчитайте пропущенные значения."
   ]
  },
  {
   "cell_type": "code",
   "execution_count": 10,
   "metadata": {
    "id": "Tq4nYRX4_Zct"
   },
   "outputs": [
    {
     "data": {
      "text/plain": [
       "user_id    0\n",
       "track      0\n",
       "artist     0\n",
       "genre      0\n",
       "city       0\n",
       "time       0\n",
       "day        0\n",
       "dtype: int64"
      ]
     },
     "execution_count": 10,
     "metadata": {},
     "output_type": "execute_result"
    }
   ],
   "source": [
    "df.isna().sum()# подсчёт пропусков"
   ]
  },
  {
   "cell_type": "markdown",
   "metadata": {
    "id": "BWKRtBJ3_Zct"
   },
   "source": [
    "### Дубликаты\n",
    "Посчитайте явные дубликаты в таблице одной командой:"
   ]
  },
  {
   "cell_type": "code",
   "execution_count": 11,
   "metadata": {
    "id": "36eES_S0_Zct"
   },
   "outputs": [
    {
     "data": {
      "text/plain": [
       "'Количество явных дубликатов: 3826'"
      ]
     },
     "execution_count": 11,
     "metadata": {},
     "output_type": "execute_result"
    }
   ],
   "source": [
    "f'Количество явных дубликатов: {df.duplicated().sum()}'# подсчёт явных дубликатов"
   ]
  },
  {
   "cell_type": "markdown",
   "metadata": {},
   "source": [
    "<div class=\"alert alert-success\">\n",
    "<b>✔️ Комментарий ревьюера:</b> В дальнейшем советую подписывать выводимые результаты. Это позволит быстрее разобраться в выводимых данных и не запутаться. В этом поможет метод «format», который является стандартным в языке python. Примеры использования можешь посмотреть тут: \n",
    "    \n",
    "   https://www.codecademy.com/resources/docs/python/strings/format\n",
    " </div>"
   ]
  },
  {
   "cell_type": "markdown",
   "metadata": {},
   "source": [
    "<div class=\"alert alert-info\">\n",
    "<b>Комментарий студента:</b> В тренажере было написано, что \"Современные стандарты не рекомендуют применять метод format(). Но раньше он был популярен.\" Поэтому я решила использовать F-строки для вывода результата ячейки. Только вот без функции print результат выводится в кавычках, не знаю, как это убрать.\n",
    "<br>\n",
    "</div>"
   ]
  },
  {
   "cell_type": "markdown",
   "metadata": {},
   "source": [
    "<div class=\"alert alert-success\">\n",
    "\n",
    "<b>✔️ Комментарий ревьюера v2:</b> Да, f-строки лучше. При выводе f-строкой за print() ругать не буду)\n",
    "\n",
    "</div>"
   ]
  },
  {
   "cell_type": "markdown",
   "metadata": {
    "id": "Ot25h6XR_Zct"
   },
   "source": [
    "Вызовите специальный метод `pandas`, чтобы удалить явные дубликаты:"
   ]
  },
  {
   "cell_type": "code",
   "execution_count": 12,
   "metadata": {
    "id": "exFHq6tt_Zct"
   },
   "outputs": [],
   "source": [
    "df = df.drop_duplicates().reset_index(drop = True)# удаление явных дубликатов (с удалением старых индексов и формированием новых)"
   ]
  },
  {
   "cell_type": "markdown",
   "metadata": {
    "id": "Im2YwBEG_Zct"
   },
   "source": [
    "Ещё раз посчитайте явные дубликаты в таблице — убедитесь, что полностью от них избавились:"
   ]
  },
  {
   "cell_type": "code",
   "execution_count": 13,
   "metadata": {
    "id": "-8PuNWQ0_Zct"
   },
   "outputs": [
    {
     "data": {
      "text/plain": [
       "'Количество дубликатов: 0'"
      ]
     },
     "execution_count": 13,
     "metadata": {},
     "output_type": "execute_result"
    }
   ],
   "source": [
    "f'Количество дубликатов: {df.duplicated().sum()}'# проверка на отсутствие дубликатов"
   ]
  },
  {
   "cell_type": "markdown",
   "metadata": {},
   "source": [
    "<div class=\"alert alert-success\">\n",
    "<b>✔️ Комментарий ревьюера:</b> Отлично, избавились от дубликатов\n",
    "</div>"
   ]
  },
  {
   "cell_type": "markdown",
   "metadata": {
    "id": "QlFBsxAr_Zct"
   },
   "source": [
    "Теперь избавьтесь от неявных дубликатов в колонке `genre`. Например, название одного и того же жанра может быть записано немного по-разному. Такие ошибки тоже повлияют на результат исследования."
   ]
  },
  {
   "cell_type": "markdown",
   "metadata": {
    "id": "eSjWwsOh_Zct"
   },
   "source": [
    "Выведите на экран список уникальных названий жанров, отсортированный в алфавитном порядке. Для этого:\n",
    "* извлеките нужный столбец датафрейма, \n",
    "* примените к нему метод сортировки,\n",
    "* для отсортированного столбца вызовите метод, который вернёт уникальные значения из столбца."
   ]
  },
  {
   "cell_type": "code",
   "execution_count": 14,
   "metadata": {
    "id": "JIUcqzZN_Zct"
   },
   "outputs": [
    {
     "data": {
      "text/plain": [
       "array(['acid', 'acoustic', 'action', 'adult', 'africa', 'afrikaans',\n",
       "       'alternative', 'alternativepunk', 'ambient', 'americana',\n",
       "       'animated', 'anime', 'arabesk', 'arabic', 'arena',\n",
       "       'argentinetango', 'art', 'audiobook', 'author', 'avantgarde',\n",
       "       'axé', 'baile', 'balkan', 'beats', 'bigroom', 'black', 'bluegrass',\n",
       "       'blues', 'bollywood', 'bossa', 'brazilian', 'breakbeat', 'breaks',\n",
       "       'broadway', 'cantautori', 'cantopop', 'canzone', 'caribbean',\n",
       "       'caucasian', 'celtic', 'chamber', 'chanson', 'children', 'chill',\n",
       "       'chinese', 'choral', 'christian', 'christmas', 'classical',\n",
       "       'classicmetal', 'club', 'colombian', 'comedy', 'conjazz',\n",
       "       'contemporary', 'country', 'cuban', 'dance', 'dancehall',\n",
       "       'dancepop', 'dark', 'death', 'deep', 'deutschrock', 'deutschspr',\n",
       "       'dirty', 'disco', 'dnb', 'documentary', 'downbeat', 'downtempo',\n",
       "       'drum', 'dub', 'dubstep', 'eastern', 'easy', 'electronic',\n",
       "       'electropop', 'emo', 'entehno', 'epicmetal', 'estrada', 'ethnic',\n",
       "       'eurofolk', 'european', 'experimental', 'extrememetal', 'fado',\n",
       "       'fairytail', 'film', 'fitness', 'flamenco', 'folk', 'folklore',\n",
       "       'folkmetal', 'folkrock', 'folktronica', 'forró', 'frankreich',\n",
       "       'französisch', 'french', 'funk', 'future', 'gangsta', 'garage',\n",
       "       'german', 'ghazal', 'gitarre', 'glitch', 'gospel', 'gothic',\n",
       "       'grime', 'grunge', 'gypsy', 'handsup', \"hard'n'heavy\", 'hardcore',\n",
       "       'hardstyle', 'hardtechno', 'hip', 'hip-hop', 'hiphop',\n",
       "       'historisch', 'holiday', 'hop', 'horror', 'house', 'hymn', 'idm',\n",
       "       'independent', 'indian', 'indie', 'indipop', 'industrial',\n",
       "       'inspirational', 'instrumental', 'international', 'irish', 'jam',\n",
       "       'japanese', 'jazz', 'jewish', 'jpop', 'jungle', 'k-pop',\n",
       "       'karadeniz', 'karaoke', 'kayokyoku', 'korean', 'laiko', 'latin',\n",
       "       'latino', 'leftfield', 'local', 'lounge', 'loungeelectronic',\n",
       "       'lovers', 'malaysian', 'mandopop', 'marschmusik', 'meditative',\n",
       "       'mediterranean', 'melodic', 'metal', 'metalcore', 'mexican',\n",
       "       'middle', 'minimal', 'miscellaneous', 'modern', 'mood', 'mpb',\n",
       "       'muslim', 'native', 'neoklassik', 'neue', 'new', 'newage',\n",
       "       'newwave', 'nu', 'nujazz', 'numetal', 'oceania', 'old', 'opera',\n",
       "       'orchestral', 'other', 'piano', 'podcasts', 'pop', 'popdance',\n",
       "       'popelectronic', 'popeurodance', 'poprussian', 'post',\n",
       "       'posthardcore', 'postrock', 'power', 'progmetal', 'progressive',\n",
       "       'psychedelic', 'punjabi', 'punk', 'quebecois', 'ragga', 'ram',\n",
       "       'rancheras', 'rap', 'rave', 'reggae', 'reggaeton', 'regional',\n",
       "       'relax', 'religious', 'retro', 'rhythm', 'rnb', 'rnr', 'rock',\n",
       "       'rockabilly', 'rockalternative', 'rockindie', 'rockother',\n",
       "       'romance', 'roots', 'ruspop', 'rusrap', 'rusrock', 'russian',\n",
       "       'salsa', 'samba', 'scenic', 'schlager', 'self', 'sertanejo',\n",
       "       'shanson', 'shoegazing', 'showtunes', 'singer', 'ska', 'skarock',\n",
       "       'slow', 'smooth', 'soft', 'soul', 'soulful', 'sound', 'soundtrack',\n",
       "       'southern', 'specialty', 'speech', 'spiritual', 'sport',\n",
       "       'stonerrock', 'surf', 'swing', 'synthpop', 'synthrock',\n",
       "       'sängerportrait', 'tango', 'tanzorchester', 'taraftar', 'tatar',\n",
       "       'tech', 'techno', 'teen', 'thrash', 'top', 'traditional',\n",
       "       'tradjazz', 'trance', 'tribal', 'trip', 'triphop', 'tropical',\n",
       "       'türk', 'türkçe', 'ukrrock', 'unknown', 'urban', 'uzbek',\n",
       "       'variété', 'vi', 'videogame', 'vocal', 'western', 'world',\n",
       "       'worldbeat', 'ïîï', 'электроника'], dtype=object)"
      ]
     },
     "execution_count": 14,
     "metadata": {},
     "output_type": "execute_result"
    }
   ],
   "source": [
    "df['genre'].sort_values().unique()# Просмотр уникальных названий жанров"
   ]
  },
  {
   "cell_type": "markdown",
   "metadata": {},
   "source": [
    "<div class=\"alert alert-warning\">\n",
    "<b>⚠️ Комментарий ревьюера:</b> Отлично, получили отсортированный список всех жанров. Но в методе sort_values() значение параметра ascending и так по умолчанию True, так что можно его явно не указывать  </div>"
   ]
  },
  {
   "cell_type": "markdown",
   "metadata": {},
   "source": [
    "<div class=\"alert alert-info\">\n",
    "<b>Комментарий студента:</b> Убрала уточнение по методу сортировки, так как он по умолчанию по возрастанию.<br>\n",
    "</div>"
   ]
  },
  {
   "cell_type": "markdown",
   "metadata": {},
   "source": [
    "<div class=\"alert alert-success\">\n",
    "\n",
    "<b>✔️ Комментарий ревьюера v2:</b> 👍\n",
    "\n",
    "</div>"
   ]
  },
  {
   "cell_type": "markdown",
   "metadata": {
    "id": "qej-Qmuo_Zct"
   },
   "source": [
    "Просмотрите список и найдите неявные дубликаты названия `hiphop`. Это могут быть названия с ошибками или альтернативные названия того же жанра.\n",
    "\n",
    "Вы увидите следующие неявные дубликаты:\n",
    "* *hip*,\n",
    "* *hop*,\n",
    "* *hip-hop*.\n",
    "\n",
    "Чтобы очистить от них таблицу, напишите функцию `replace_wrong_genres()` с двумя параметрами: \n",
    "* `wrong_genres` — список дубликатов,\n",
    "* `correct_genre` — строка с правильным значением.\n",
    "\n",
    "Функция должна исправить колонку `genre` в таблице `df`: заменить каждое значение из списка `wrong_genres` на значение из `correct_genre`."
   ]
  },
  {
   "cell_type": "code",
   "execution_count": 15,
   "metadata": {
    "id": "ErNDkmns_Zct"
   },
   "outputs": [],
   "source": [
    "def replace_wrong_genres (wrong_genres, correct_genre):\n",
    "    for wrong_genre in wrong_genres:\n",
    "        df['genre'] = df['genre'].replace(wrong_genre, correct_genre)# Функция для замены неявных дубликатов"
   ]
  },
  {
   "cell_type": "markdown",
   "metadata": {},
   "source": [
    "<div class=\"alert alert-success\">\n",
    "<b>✔️ Комментарий ревьюера:</b> Функция написана верно </div>"
   ]
  },
  {
   "cell_type": "markdown",
   "metadata": {
    "id": "aDoBJxbA_Zct"
   },
   "source": [
    "Вызовите `replace_wrong_genres()` и передайте ей такие аргументы, чтобы она устранила неявные дубликаты: вместо `hip`, `hop` и `hip-hop` в таблице должно быть значение `hiphop`:"
   ]
  },
  {
   "cell_type": "code",
   "execution_count": 16,
   "metadata": {
    "id": "YN5i2hpmSo09"
   },
   "outputs": [],
   "source": [
    "duplicates = ['hip','hop','hip-hop']\n",
    "correct_name = 'hiphop'\n",
    "replace_wrong_genres(duplicates, correct_name)# Устранение неявных дубликатов"
   ]
  },
  {
   "cell_type": "markdown",
   "metadata": {
    "id": "zQKF16_RG15m"
   },
   "source": [
    "Проверьте, что заменили неправильные названия:\n",
    "\n",
    "*   hip\n",
    "*   hop\n",
    "*   hip-hop\n",
    "\n",
    "Выведите отсортированный список уникальных значений столбца `genre`:"
   ]
  },
  {
   "cell_type": "code",
   "execution_count": 17,
   "metadata": {
    "id": "wvixALnFG15m"
   },
   "outputs": [
    {
     "data": {
      "text/plain": [
       "array(['acid', 'acoustic', 'action', 'adult', 'africa', 'afrikaans',\n",
       "       'alternative', 'alternativepunk', 'ambient', 'americana',\n",
       "       'animated', 'anime', 'arabesk', 'arabic', 'arena',\n",
       "       'argentinetango', 'art', 'audiobook', 'author', 'avantgarde',\n",
       "       'axé', 'baile', 'balkan', 'beats', 'bigroom', 'black', 'bluegrass',\n",
       "       'blues', 'bollywood', 'bossa', 'brazilian', 'breakbeat', 'breaks',\n",
       "       'broadway', 'cantautori', 'cantopop', 'canzone', 'caribbean',\n",
       "       'caucasian', 'celtic', 'chamber', 'chanson', 'children', 'chill',\n",
       "       'chinese', 'choral', 'christian', 'christmas', 'classical',\n",
       "       'classicmetal', 'club', 'colombian', 'comedy', 'conjazz',\n",
       "       'contemporary', 'country', 'cuban', 'dance', 'dancehall',\n",
       "       'dancepop', 'dark', 'death', 'deep', 'deutschrock', 'deutschspr',\n",
       "       'dirty', 'disco', 'dnb', 'documentary', 'downbeat', 'downtempo',\n",
       "       'drum', 'dub', 'dubstep', 'eastern', 'easy', 'electronic',\n",
       "       'electropop', 'emo', 'entehno', 'epicmetal', 'estrada', 'ethnic',\n",
       "       'eurofolk', 'european', 'experimental', 'extrememetal', 'fado',\n",
       "       'fairytail', 'film', 'fitness', 'flamenco', 'folk', 'folklore',\n",
       "       'folkmetal', 'folkrock', 'folktronica', 'forró', 'frankreich',\n",
       "       'französisch', 'french', 'funk', 'future', 'gangsta', 'garage',\n",
       "       'german', 'ghazal', 'gitarre', 'glitch', 'gospel', 'gothic',\n",
       "       'grime', 'grunge', 'gypsy', 'handsup', \"hard'n'heavy\", 'hardcore',\n",
       "       'hardstyle', 'hardtechno', 'hiphop', 'historisch', 'holiday',\n",
       "       'horror', 'house', 'hymn', 'idm', 'independent', 'indian', 'indie',\n",
       "       'indipop', 'industrial', 'inspirational', 'instrumental',\n",
       "       'international', 'irish', 'jam', 'japanese', 'jazz', 'jewish',\n",
       "       'jpop', 'jungle', 'k-pop', 'karadeniz', 'karaoke', 'kayokyoku',\n",
       "       'korean', 'laiko', 'latin', 'latino', 'leftfield', 'local',\n",
       "       'lounge', 'loungeelectronic', 'lovers', 'malaysian', 'mandopop',\n",
       "       'marschmusik', 'meditative', 'mediterranean', 'melodic', 'metal',\n",
       "       'metalcore', 'mexican', 'middle', 'minimal', 'miscellaneous',\n",
       "       'modern', 'mood', 'mpb', 'muslim', 'native', 'neoklassik', 'neue',\n",
       "       'new', 'newage', 'newwave', 'nu', 'nujazz', 'numetal', 'oceania',\n",
       "       'old', 'opera', 'orchestral', 'other', 'piano', 'podcasts', 'pop',\n",
       "       'popdance', 'popelectronic', 'popeurodance', 'poprussian', 'post',\n",
       "       'posthardcore', 'postrock', 'power', 'progmetal', 'progressive',\n",
       "       'psychedelic', 'punjabi', 'punk', 'quebecois', 'ragga', 'ram',\n",
       "       'rancheras', 'rap', 'rave', 'reggae', 'reggaeton', 'regional',\n",
       "       'relax', 'religious', 'retro', 'rhythm', 'rnb', 'rnr', 'rock',\n",
       "       'rockabilly', 'rockalternative', 'rockindie', 'rockother',\n",
       "       'romance', 'roots', 'ruspop', 'rusrap', 'rusrock', 'russian',\n",
       "       'salsa', 'samba', 'scenic', 'schlager', 'self', 'sertanejo',\n",
       "       'shanson', 'shoegazing', 'showtunes', 'singer', 'ska', 'skarock',\n",
       "       'slow', 'smooth', 'soft', 'soul', 'soulful', 'sound', 'soundtrack',\n",
       "       'southern', 'specialty', 'speech', 'spiritual', 'sport',\n",
       "       'stonerrock', 'surf', 'swing', 'synthpop', 'synthrock',\n",
       "       'sängerportrait', 'tango', 'tanzorchester', 'taraftar', 'tatar',\n",
       "       'tech', 'techno', 'teen', 'thrash', 'top', 'traditional',\n",
       "       'tradjazz', 'trance', 'tribal', 'trip', 'triphop', 'tropical',\n",
       "       'türk', 'türkçe', 'ukrrock', 'unknown', 'urban', 'uzbek',\n",
       "       'variété', 'vi', 'videogame', 'vocal', 'western', 'world',\n",
       "       'worldbeat', 'ïîï', 'электроника'], dtype=object)"
      ]
     },
     "execution_count": 17,
     "metadata": {},
     "output_type": "execute_result"
    }
   ],
   "source": [
    "df['genre'].sort_values(ascending = True).unique()# Проверка на неявные дубликаты"
   ]
  },
  {
   "cell_type": "markdown",
   "metadata": {},
   "source": [
    "<font color='blue'>В значениях колонки \"genre\" замечен еще один неявный дубликат. \"электроника\" и \"electronic\" - это один и тот же жанр, написанный на разных языках. Необходимо заменить все значения \"электроника\" на тот же жанр, написанный латиницей. А так же жанр 'ïîï' расшифровывается как жанр 'pop'.</font>"
   ]
  },
  {
   "cell_type": "code",
   "execution_count": 18,
   "metadata": {},
   "outputs": [],
   "source": [
    "df['genre'] = df['genre'].replace('электроника', 'electronic')\n",
    "df['genre'] = df['genre'].replace('ïîï', 'pop')#заменим значения \"электроника\" на \"electronic\""
   ]
  },
  {
   "cell_type": "markdown",
   "metadata": {},
   "source": [
    "<div class=\"alert alert-success\">\n",
    "<b>✔️ Комментарий ревьюера:</b> Молодец, что заметила и другие неявные дубликаты! Хотя так тщательно прорабатывать жанры в задании и не требовалось) А воспользоваться для замены можно было опять нашей новой функцией replace_wrong_genres </div>"
   ]
  },
  {
   "cell_type": "code",
   "execution_count": 19,
   "metadata": {},
   "outputs": [
    {
     "data": {
      "text/plain": [
       "array(['acid', 'acoustic', 'action', 'adult', 'africa', 'afrikaans',\n",
       "       'alternative', 'alternativepunk', 'ambient', 'americana',\n",
       "       'animated', 'anime', 'arabesk', 'arabic', 'arena',\n",
       "       'argentinetango', 'art', 'audiobook', 'author', 'avantgarde',\n",
       "       'axé', 'baile', 'balkan', 'beats', 'bigroom', 'black', 'bluegrass',\n",
       "       'blues', 'bollywood', 'bossa', 'brazilian', 'breakbeat', 'breaks',\n",
       "       'broadway', 'cantautori', 'cantopop', 'canzone', 'caribbean',\n",
       "       'caucasian', 'celtic', 'chamber', 'chanson', 'children', 'chill',\n",
       "       'chinese', 'choral', 'christian', 'christmas', 'classical',\n",
       "       'classicmetal', 'club', 'colombian', 'comedy', 'conjazz',\n",
       "       'contemporary', 'country', 'cuban', 'dance', 'dancehall',\n",
       "       'dancepop', 'dark', 'death', 'deep', 'deutschrock', 'deutschspr',\n",
       "       'dirty', 'disco', 'dnb', 'documentary', 'downbeat', 'downtempo',\n",
       "       'drum', 'dub', 'dubstep', 'eastern', 'easy', 'electronic',\n",
       "       'electropop', 'emo', 'entehno', 'epicmetal', 'estrada', 'ethnic',\n",
       "       'eurofolk', 'european', 'experimental', 'extrememetal', 'fado',\n",
       "       'fairytail', 'film', 'fitness', 'flamenco', 'folk', 'folklore',\n",
       "       'folkmetal', 'folkrock', 'folktronica', 'forró', 'frankreich',\n",
       "       'französisch', 'french', 'funk', 'future', 'gangsta', 'garage',\n",
       "       'german', 'ghazal', 'gitarre', 'glitch', 'gospel', 'gothic',\n",
       "       'grime', 'grunge', 'gypsy', 'handsup', \"hard'n'heavy\", 'hardcore',\n",
       "       'hardstyle', 'hardtechno', 'hiphop', 'historisch', 'holiday',\n",
       "       'horror', 'house', 'hymn', 'idm', 'independent', 'indian', 'indie',\n",
       "       'indipop', 'industrial', 'inspirational', 'instrumental',\n",
       "       'international', 'irish', 'jam', 'japanese', 'jazz', 'jewish',\n",
       "       'jpop', 'jungle', 'k-pop', 'karadeniz', 'karaoke', 'kayokyoku',\n",
       "       'korean', 'laiko', 'latin', 'latino', 'leftfield', 'local',\n",
       "       'lounge', 'loungeelectronic', 'lovers', 'malaysian', 'mandopop',\n",
       "       'marschmusik', 'meditative', 'mediterranean', 'melodic', 'metal',\n",
       "       'metalcore', 'mexican', 'middle', 'minimal', 'miscellaneous',\n",
       "       'modern', 'mood', 'mpb', 'muslim', 'native', 'neoklassik', 'neue',\n",
       "       'new', 'newage', 'newwave', 'nu', 'nujazz', 'numetal', 'oceania',\n",
       "       'old', 'opera', 'orchestral', 'other', 'piano', 'podcasts', 'pop',\n",
       "       'popdance', 'popelectronic', 'popeurodance', 'poprussian', 'post',\n",
       "       'posthardcore', 'postrock', 'power', 'progmetal', 'progressive',\n",
       "       'psychedelic', 'punjabi', 'punk', 'quebecois', 'ragga', 'ram',\n",
       "       'rancheras', 'rap', 'rave', 'reggae', 'reggaeton', 'regional',\n",
       "       'relax', 'religious', 'retro', 'rhythm', 'rnb', 'rnr', 'rock',\n",
       "       'rockabilly', 'rockalternative', 'rockindie', 'rockother',\n",
       "       'romance', 'roots', 'ruspop', 'rusrap', 'rusrock', 'russian',\n",
       "       'salsa', 'samba', 'scenic', 'schlager', 'self', 'sertanejo',\n",
       "       'shanson', 'shoegazing', 'showtunes', 'singer', 'ska', 'skarock',\n",
       "       'slow', 'smooth', 'soft', 'soul', 'soulful', 'sound', 'soundtrack',\n",
       "       'southern', 'specialty', 'speech', 'spiritual', 'sport',\n",
       "       'stonerrock', 'surf', 'swing', 'synthpop', 'synthrock',\n",
       "       'sängerportrait', 'tango', 'tanzorchester', 'taraftar', 'tatar',\n",
       "       'tech', 'techno', 'teen', 'thrash', 'top', 'traditional',\n",
       "       'tradjazz', 'trance', 'tribal', 'trip', 'triphop', 'tropical',\n",
       "       'türk', 'türkçe', 'ukrrock', 'unknown', 'urban', 'uzbek',\n",
       "       'variété', 'vi', 'videogame', 'vocal', 'western', 'world',\n",
       "       'worldbeat'], dtype=object)"
      ]
     },
     "execution_count": 19,
     "metadata": {},
     "output_type": "execute_result"
    }
   ],
   "source": [
    "df['genre'].sort_values(ascending = True).unique()#выведем уникальные значения в колонке genre"
   ]
  },
  {
   "cell_type": "markdown",
   "metadata": {
    "id": "jz6a9-7HQUDd"
   },
   "source": [
    "**Выводы**\n",
    "\n",
    "Предобработка обнаружила три проблемы в данных:\n",
    "\n",
    "- нарушения в стиле заголовков,\n",
    "- пропущенные значения,\n",
    "- дубликаты — явные и неявные.\n",
    "\n",
    "Вы исправили заголовки, чтобы упростить работу с таблицей. Без дубликатов исследование станет более точным.\n",
    "\n",
    "Пропущенные значения вы заменили на `'unknown'`. Ещё предстоит увидеть, не повредят ли исследованию пропуски в колонке `genre`.\n",
    "\n",
    "Теперь можно перейти к проверке гипотез. "
   ]
  },
  {
   "cell_type": "markdown",
   "metadata": {
    "id": "WttZHXH0SqKk"
   },
   "source": [
    "## Проверка гипотез"
   ]
  },
  {
   "cell_type": "markdown",
   "metadata": {},
   "source": [
    "<div class=\"alert alert-danger\">\n",
    "\n",
    "<b>❌ Комментарий ревьюера </b> Не забудь сделать все задания ниже\n",
    "\n",
    "</div>"
   ]
  },
  {
   "cell_type": "markdown",
   "metadata": {},
   "source": [
    "<div class=\"alert alert-info\">\n",
    "<b>Комментарий студента:</b> Я доделала всю работу до конца и нажала отправить, почему-то не сохранился финальный результат:( Надеюсь, в этот раз все отправилось.<br>\n",
    "</div>"
   ]
  },
  {
   "cell_type": "markdown",
   "metadata": {
    "id": "Im936VVi_Zcu"
   },
   "source": [
    "### Сравнение поведения пользователей двух столиц"
   ]
  },
  {
   "cell_type": "markdown",
   "metadata": {
    "id": "nwt_MuaL_Zcu"
   },
   "source": [
    "Первая гипотеза утверждает, что пользователи по-разному слушают музыку в Москве и Санкт-Петербурге. Проверьте это предположение по данным о трёх днях недели — понедельнике, среде и пятнице. Для этого:\n",
    "\n",
    "* Разделите пользователей Москвы и Санкт-Петербурга\n",
    "* Сравните, сколько треков послушала каждая группа пользователей в понедельник, среду и пятницу.\n"
   ]
  },
  {
   "cell_type": "markdown",
   "metadata": {
    "id": "8Dw_YMmT_Zcu"
   },
   "source": [
    "Для тренировки сначала выполните каждый из расчётов по отдельности. \n",
    "\n",
    "Оцените активность пользователей в каждом городе. Сгруппируйте данные по городу и посчитайте прослушивания в каждой группе.\n",
    "\n"
   ]
  },
  {
   "cell_type": "code",
   "execution_count": 20,
   "metadata": {
    "id": "0_Qs96oh_Zcu"
   },
   "outputs": [
    {
     "data": {
      "text/plain": [
       "city\n",
       "Moscow              42741\n",
       "Saint-Petersburg    18512\n",
       "Name: user_id, dtype: int64"
      ]
     },
     "execution_count": 20,
     "metadata": {},
     "output_type": "execute_result"
    }
   ],
   "source": [
    "df.groupby('city')['user_id'].count()# Подсчёт прослушиваний в каждом городе"
   ]
  },
  {
   "cell_type": "markdown",
   "metadata": {
    "id": "dzli3w8o_Zcu"
   },
   "source": [
    "В Москве прослушиваний больше, чем в Петербурге. Из этого не следует, что московские пользователи чаще слушают музыку. Просто самих пользователей в Москве больше.\n",
    "\n",
    "Теперь сгруппируйте данные по дню недели и подсчитайте прослушивания в понедельник, среду и пятницу. Учтите, что в данных есть информация только о прослушиваниях только за эти дни.\n"
   ]
  },
  {
   "cell_type": "code",
   "execution_count": 21,
   "metadata": {
    "id": "uZMKjiJz_Zcu"
   },
   "outputs": [
    {
     "data": {
      "text/plain": [
       "day\n",
       "Friday       21840\n",
       "Monday       21354\n",
       "Wednesday    18059\n",
       "Name: user_id, dtype: int64"
      ]
     },
     "execution_count": 21,
     "metadata": {},
     "output_type": "execute_result"
    }
   ],
   "source": [
    "df.groupby('day')['user_id'].count()# Подсчёт прослушиваний в каждый из трёх дней"
   ]
  },
  {
   "cell_type": "markdown",
   "metadata": {
    "id": "cC2tNrlL_Zcu"
   },
   "source": [
    "В среднем пользователи из двух городов менее активны по средам. Но картина может измениться, если рассмотреть каждый город в отдельности."
   ]
  },
  {
   "cell_type": "markdown",
   "metadata": {
    "id": "POzs8bGa_Zcu"
   },
   "source": [
    "Вы видели, как работает группировка по городу и по дням недели. Теперь напишите функцию, которая объединит два эти расчёта.\n",
    "\n",
    "Создайте функцию `number_tracks()`, которая посчитает прослушивания для заданного дня и города. Ей понадобятся два параметра:\n",
    "* день недели,\n",
    "* название города.\n",
    "\n",
    "В функции сохраните в переменную строки исходной таблицы, у которых значение:\n",
    "  * в колонке `day` равно параметру `day`,\n",
    "  * в колонке `city` равно параметру `city`.\n",
    "\n",
    "Для этого примените последовательную фильтрацию с логической индексацией.\n",
    "\n",
    "Затем посчитайте значения в столбце `user_id` получившейся таблицы. Результат сохраните в новую переменную. Верните эту переменную из функции."
   ]
  },
  {
   "cell_type": "code",
   "execution_count": 22,
   "metadata": {
    "id": "Nz3GdQB1_Zcu"
   },
   "outputs": [],
   "source": [
    "# <создание функции number_tracks()>\n",
    "def number_tracks (day,city):# Объявляется функция с двумя параметрами: day, city.\n",
    "    track_list = df[(df['day'] == day) & (df['city'] == city)]\n",
    "    track_list_count = track_list['user_id'].count()\n",
    "    return track_list_count\n",
    "# В переменной track_list сохраняются те строки таблицы df, для которых \n",
    "# значение в столбце 'day' равно параметру day и одновременно значение\n",
    "# в столбце 'city' равно параметру city (используйте последовательную фильтрацию\n",
    "# с помощью логической индексации).\n",
    "# В переменной track_list_count сохраняется число значений столбца 'user_id',\n",
    "# рассчитанное методом count() для таблицы track_list.\n",
    "# Функция возвращает число - значение track_list_count.\n",
    "\n",
    "# Функция для подсчёта прослушиваний для конкретного города и дня.\n",
    "# С помощью последовательной фильтрации с логической индексацией она \n",
    "# сначала получит из исходной таблицы строки с нужным днём,\n",
    "# затем из результата отфильтрует строки с нужным городом,\n",
    "# методом count() посчитает количество значений в колонке user_id. \n",
    "# Это количество функция вернёт в качестве результата"
   ]
  },
  {
   "cell_type": "markdown",
   "metadata": {},
   "source": [
    "<div class=\"alert alert-warning\">\n",
    "<b>⚠️ Комментарий ревьюера:</b> Как и требовалось в задании, ты воспользовалась последовательной логической индексацией, молодец! В дальнейших курсах ты познакомишься с продвинутыми методами фильтрации, например с использованием логических операций. Тогда фильтрация выполняется легко и просто одной строкой:\n",
    "\n",
    "   track_list = df[(df['day'] == day) & (df['city'] == city)]\n",
    "   \n",
    "   Можешь попробовать, если тебе интересно\n",
    "</div>"
   ]
  },
  {
   "cell_type": "markdown",
   "metadata": {},
   "source": [
    "<div class=\"alert alert-info\">\n",
    "<b>Комментарий студента:</b> Попробовала воспользоваться этим методом, в последующей функции тоже его применила.</div>"
   ]
  },
  {
   "cell_type": "markdown",
   "metadata": {},
   "source": [
    "<div class=\"alert alert-success\">\n",
    "\n",
    "<b>✔️ Комментарий ревьюера v3:</b> Отлично!\n",
    "\n",
    "</div>"
   ]
  },
  {
   "cell_type": "markdown",
   "metadata": {
    "id": "ytf7xFrFJQ2r"
   },
   "source": [
    "Вызовите `number_tracks()` шесть раз, меняя значение параметров — так, чтобы получить данные для каждого города в каждый из трёх дней."
   ]
  },
  {
   "cell_type": "code",
   "execution_count": 23,
   "metadata": {
    "id": "rJcRATNQ_Zcu"
   },
   "outputs": [
    {
     "data": {
      "text/plain": [
       "'Количество прослушиваний в Москве по понедельникам: 15740'"
      ]
     },
     "execution_count": 23,
     "metadata": {},
     "output_type": "execute_result"
    }
   ],
   "source": [
    "f\"Количество прослушиваний в Москве по понедельникам: {number_tracks('Monday','Moscow')}\"# количество прослушиваний в Москве по понедельникам"
   ]
  },
  {
   "cell_type": "code",
   "execution_count": 24,
   "metadata": {
    "id": "hq_ncZ5T_Zcu"
   },
   "outputs": [
    {
     "data": {
      "text/plain": [
       "'Количество прослушиваний в Санкт-петербурге по понедельникам: 5614'"
      ]
     },
     "execution_count": 24,
     "metadata": {},
     "output_type": "execute_result"
    }
   ],
   "source": [
    "f\"Количество прослушиваний в Санкт-петербурге по понедельникам: {number_tracks('Monday','Saint-Petersburg')}\"# количество прослушиваний в Санкт-Петербурге по понедельникам"
   ]
  },
  {
   "cell_type": "code",
   "execution_count": 25,
   "metadata": {
    "id": "_NTy2VPU_Zcu"
   },
   "outputs": [
    {
     "data": {
      "text/plain": [
       "'Количество прослушиваний в Москве по средам: 11056'"
      ]
     },
     "execution_count": 25,
     "metadata": {},
     "output_type": "execute_result"
    }
   ],
   "source": [
    "f\"Количество прослушиваний в Москве по средам: {number_tracks('Wednesday','Moscow')}\"# количество прослушиваний в Москве по средам"
   ]
  },
  {
   "cell_type": "code",
   "execution_count": 26,
   "metadata": {
    "id": "j2y3TAwo_Zcu"
   },
   "outputs": [
    {
     "data": {
      "text/plain": [
       "'Количество прослушиваний в Санкт-петербурге по средам: 7003'"
      ]
     },
     "execution_count": 26,
     "metadata": {},
     "output_type": "execute_result"
    }
   ],
   "source": [
    "f\"Количество прослушиваний в Санкт-петербурге по средам: {number_tracks('Wednesday','Saint-Petersburg')}\"# количество прослушиваний в Санкт-Петербурге по средам"
   ]
  },
  {
   "cell_type": "code",
   "execution_count": 27,
   "metadata": {
    "id": "vYDw5u_K_Zcu"
   },
   "outputs": [
    {
     "data": {
      "text/plain": [
       "'Количество прослушиваний в Москве по пятницам: 15945'"
      ]
     },
     "execution_count": 27,
     "metadata": {},
     "output_type": "execute_result"
    }
   ],
   "source": [
    "f\"Количество прослушиваний в Москве по пятницам: {number_tracks('Friday','Moscow')}\"# количество прослушиваний в Москве по пятницам"
   ]
  },
  {
   "cell_type": "code",
   "execution_count": 28,
   "metadata": {
    "id": "8_yzFtW3_Zcu"
   },
   "outputs": [
    {
     "data": {
      "text/plain": [
       "'Количество прослушиваний в Санкт-петербурге по пятницам: 5895'"
      ]
     },
     "execution_count": 28,
     "metadata": {},
     "output_type": "execute_result"
    }
   ],
   "source": [
    "f\"Количество прослушиваний в Санкт-петербурге по пятницам: {number_tracks('Friday','Saint-Petersburg')}\"# количество прослушиваний в Санкт-Петербурге по пятницам"
   ]
  },
  {
   "cell_type": "markdown",
   "metadata": {
    "id": "7QXffbO-_Zcu"
   },
   "source": [
    "Создайте c помощью конструктора `pd.DataFrame` таблицу, где\n",
    "* названия колонок — `['city', 'monday', 'wednesday', 'friday']`;\n",
    "* данные — результаты, которые вы получили с помощью `number_tracks`."
   ]
  },
  {
   "cell_type": "code",
   "execution_count": 29,
   "metadata": {
    "id": "APAcLpOr_Zcu"
   },
   "outputs": [
    {
     "data": {
      "text/html": [
       "<div>\n",
       "<style scoped>\n",
       "    .dataframe tbody tr th:only-of-type {\n",
       "        vertical-align: middle;\n",
       "    }\n",
       "\n",
       "    .dataframe tbody tr th {\n",
       "        vertical-align: top;\n",
       "    }\n",
       "\n",
       "    .dataframe thead th {\n",
       "        text-align: right;\n",
       "    }\n",
       "</style>\n",
       "<table border=\"1\" class=\"dataframe\">\n",
       "  <thead>\n",
       "    <tr style=\"text-align: right;\">\n",
       "      <th></th>\n",
       "      <th>city</th>\n",
       "      <th>monday</th>\n",
       "      <th>wednesday</th>\n",
       "      <th>friday</th>\n",
       "    </tr>\n",
       "  </thead>\n",
       "  <tbody>\n",
       "    <tr>\n",
       "      <td>0</td>\n",
       "      <td>Moscow</td>\n",
       "      <td>15740</td>\n",
       "      <td>11056</td>\n",
       "      <td>15945</td>\n",
       "    </tr>\n",
       "    <tr>\n",
       "      <td>1</td>\n",
       "      <td>Saint-Petersburg</td>\n",
       "      <td>5614</td>\n",
       "      <td>7003</td>\n",
       "      <td>5895</td>\n",
       "    </tr>\n",
       "  </tbody>\n",
       "</table>\n",
       "</div>"
      ],
      "text/plain": [
       "               city  monday  wednesday  friday\n",
       "0            Moscow   15740      11056   15945\n",
       "1  Saint-Petersburg    5614       7003    5895"
      ]
     },
     "execution_count": 29,
     "metadata": {},
     "output_type": "execute_result"
    }
   ],
   "source": [
    "new_columns = ['city', 'monday', 'wednesday', 'friday']\n",
    "data = [['Moscow',15740,11056,15945],['Saint-Petersburg',5614,7003,5895]]\n",
    "df_1 = pd.DataFrame(data = data, columns = new_columns)\n",
    "df_1# Таблица с результатами"
   ]
  },
  {
   "cell_type": "markdown",
   "metadata": {},
   "source": [
    "<div class=\"alert alert-success\">\n",
    "<b>✔️ Комментарий ревьюера v2:</b> Отличная таблица получилась </div>"
   ]
  },
  {
   "cell_type": "markdown",
   "metadata": {
    "id": "-EgPIHYu_Zcu"
   },
   "source": [
    "**Выводы**\n",
    "\n",
    "Данные показывают разницу поведения пользователей:\n",
    "\n",
    "- В Москве пик прослушиваний приходится на понедельник и пятницу, а в среду заметен спад.\n",
    "- В Петербурге, наоборот, больше слушают музыку по средам. Активность в понедельник и пятницу здесь почти в равной мере уступает среде.\n",
    "\n",
    "Значит, данные говорят в пользу первой гипотезы."
   ]
  },
  {
   "cell_type": "markdown",
   "metadata": {
    "id": "atZAxtq4_Zcu"
   },
   "source": [
    "### Музыка в начале и в конце недели"
   ]
  },
  {
   "cell_type": "markdown",
   "metadata": {
    "id": "eXrQqXFH_Zcu"
   },
   "source": [
    "Согласно второй гипотезе, утром в понедельник в Москве преобладают одни жанры, а в Петербурге — другие. Так же и вечером пятницы преобладают разные жанры — в зависимости от города."
   ]
  },
  {
   "cell_type": "markdown",
   "metadata": {
    "id": "S8UcW6Hw_Zcu"
   },
   "source": [
    "Сохраните таблицы с данными в две переменные:\n",
    "* по Москве — в `moscow_general`;\n",
    "* по Санкт-Петербургу — в `spb_general`."
   ]
  },
  {
   "cell_type": "code",
   "execution_count": 30,
   "metadata": {
    "id": "qeaFfM_P_Zcu"
   },
   "outputs": [
    {
     "data": {
      "text/html": [
       "<div>\n",
       "<style scoped>\n",
       "    .dataframe tbody tr th:only-of-type {\n",
       "        vertical-align: middle;\n",
       "    }\n",
       "\n",
       "    .dataframe tbody tr th {\n",
       "        vertical-align: top;\n",
       "    }\n",
       "\n",
       "    .dataframe thead th {\n",
       "        text-align: right;\n",
       "    }\n",
       "</style>\n",
       "<table border=\"1\" class=\"dataframe\">\n",
       "  <thead>\n",
       "    <tr style=\"text-align: right;\">\n",
       "      <th></th>\n",
       "      <th>user_id</th>\n",
       "      <th>track</th>\n",
       "      <th>artist</th>\n",
       "      <th>genre</th>\n",
       "      <th>city</th>\n",
       "      <th>time</th>\n",
       "      <th>day</th>\n",
       "    </tr>\n",
       "  </thead>\n",
       "  <tbody>\n",
       "    <tr>\n",
       "      <td>1</td>\n",
       "      <td>55204538</td>\n",
       "      <td>Delayed Because of Accident</td>\n",
       "      <td>Andreas Rönnberg</td>\n",
       "      <td>rock</td>\n",
       "      <td>Moscow</td>\n",
       "      <td>14:07:09</td>\n",
       "      <td>Friday</td>\n",
       "    </tr>\n",
       "    <tr>\n",
       "      <td>4</td>\n",
       "      <td>E2DC1FAE</td>\n",
       "      <td>Soul People</td>\n",
       "      <td>Space Echo</td>\n",
       "      <td>dance</td>\n",
       "      <td>Moscow</td>\n",
       "      <td>08:34:34</td>\n",
       "      <td>Monday</td>\n",
       "    </tr>\n",
       "    <tr>\n",
       "      <td>6</td>\n",
       "      <td>4CB90AA5</td>\n",
       "      <td>True</td>\n",
       "      <td>Roman Messer</td>\n",
       "      <td>dance</td>\n",
       "      <td>Moscow</td>\n",
       "      <td>13:00:07</td>\n",
       "      <td>Wednesday</td>\n",
       "    </tr>\n",
       "    <tr>\n",
       "      <td>7</td>\n",
       "      <td>F03E1C1F</td>\n",
       "      <td>Feeling This Way</td>\n",
       "      <td>Polina Griffith</td>\n",
       "      <td>dance</td>\n",
       "      <td>Moscow</td>\n",
       "      <td>20:47:49</td>\n",
       "      <td>Wednesday</td>\n",
       "    </tr>\n",
       "    <tr>\n",
       "      <td>8</td>\n",
       "      <td>8FA1D3BE</td>\n",
       "      <td>И вновь продолжается бой</td>\n",
       "      <td>unknown</td>\n",
       "      <td>ruspop</td>\n",
       "      <td>Moscow</td>\n",
       "      <td>09:17:40</td>\n",
       "      <td>Friday</td>\n",
       "    </tr>\n",
       "  </tbody>\n",
       "</table>\n",
       "</div>"
      ],
      "text/plain": [
       "    user_id                        track            artist   genre    city  \\\n",
       "1  55204538  Delayed Because of Accident  Andreas Rönnberg    rock  Moscow   \n",
       "4  E2DC1FAE                  Soul People        Space Echo   dance  Moscow   \n",
       "6  4CB90AA5                         True      Roman Messer   dance  Moscow   \n",
       "7  F03E1C1F             Feeling This Way   Polina Griffith   dance  Moscow   \n",
       "8  8FA1D3BE     И вновь продолжается бой           unknown  ruspop  Moscow   \n",
       "\n",
       "       time        day  \n",
       "1  14:07:09     Friday  \n",
       "4  08:34:34     Monday  \n",
       "6  13:00:07  Wednesday  \n",
       "7  20:47:49  Wednesday  \n",
       "8  09:17:40     Friday  "
      ]
     },
     "execution_count": 30,
     "metadata": {},
     "output_type": "execute_result"
    }
   ],
   "source": [
    "moscow_general = df[df['city']=='Moscow']# получение таблицы moscow_general из тех строк таблицы df, \n",
    "moscow_general.head()# для которых значение в столбце 'city' равно 'Moscow'\n"
   ]
  },
  {
   "cell_type": "code",
   "execution_count": 31,
   "metadata": {
    "id": "ORaVRKto_Zcu"
   },
   "outputs": [
    {
     "data": {
      "text/html": [
       "<div>\n",
       "<style scoped>\n",
       "    .dataframe tbody tr th:only-of-type {\n",
       "        vertical-align: middle;\n",
       "    }\n",
       "\n",
       "    .dataframe tbody tr th {\n",
       "        vertical-align: top;\n",
       "    }\n",
       "\n",
       "    .dataframe thead th {\n",
       "        text-align: right;\n",
       "    }\n",
       "</style>\n",
       "<table border=\"1\" class=\"dataframe\">\n",
       "  <thead>\n",
       "    <tr style=\"text-align: right;\">\n",
       "      <th></th>\n",
       "      <th>user_id</th>\n",
       "      <th>track</th>\n",
       "      <th>artist</th>\n",
       "      <th>genre</th>\n",
       "      <th>city</th>\n",
       "      <th>time</th>\n",
       "      <th>day</th>\n",
       "    </tr>\n",
       "  </thead>\n",
       "  <tbody>\n",
       "    <tr>\n",
       "      <td>0</td>\n",
       "      <td>FFB692EC</td>\n",
       "      <td>Kamigata To Boots</td>\n",
       "      <td>The Mass Missile</td>\n",
       "      <td>rock</td>\n",
       "      <td>Saint-Petersburg</td>\n",
       "      <td>20:28:33</td>\n",
       "      <td>Wednesday</td>\n",
       "    </tr>\n",
       "    <tr>\n",
       "      <td>2</td>\n",
       "      <td>20EC38</td>\n",
       "      <td>Funiculì funiculà</td>\n",
       "      <td>Mario Lanza</td>\n",
       "      <td>pop</td>\n",
       "      <td>Saint-Petersburg</td>\n",
       "      <td>20:58:07</td>\n",
       "      <td>Wednesday</td>\n",
       "    </tr>\n",
       "    <tr>\n",
       "      <td>3</td>\n",
       "      <td>A3DD03C9</td>\n",
       "      <td>Dragons in the Sunset</td>\n",
       "      <td>Fire + Ice</td>\n",
       "      <td>folk</td>\n",
       "      <td>Saint-Petersburg</td>\n",
       "      <td>08:37:09</td>\n",
       "      <td>Monday</td>\n",
       "    </tr>\n",
       "    <tr>\n",
       "      <td>5</td>\n",
       "      <td>842029A1</td>\n",
       "      <td>Преданная</td>\n",
       "      <td>IMPERVTOR</td>\n",
       "      <td>rusrap</td>\n",
       "      <td>Saint-Petersburg</td>\n",
       "      <td>13:09:41</td>\n",
       "      <td>Friday</td>\n",
       "    </tr>\n",
       "    <tr>\n",
       "      <td>9</td>\n",
       "      <td>E772D5C0</td>\n",
       "      <td>Pessimist</td>\n",
       "      <td>unknown</td>\n",
       "      <td>dance</td>\n",
       "      <td>Saint-Petersburg</td>\n",
       "      <td>21:20:49</td>\n",
       "      <td>Wednesday</td>\n",
       "    </tr>\n",
       "  </tbody>\n",
       "</table>\n",
       "</div>"
      ],
      "text/plain": [
       "    user_id                  track            artist   genre  \\\n",
       "0  FFB692EC      Kamigata To Boots  The Mass Missile    rock   \n",
       "2    20EC38      Funiculì funiculà       Mario Lanza     pop   \n",
       "3  A3DD03C9  Dragons in the Sunset        Fire + Ice    folk   \n",
       "5  842029A1              Преданная         IMPERVTOR  rusrap   \n",
       "9  E772D5C0              Pessimist           unknown   dance   \n",
       "\n",
       "               city      time        day  \n",
       "0  Saint-Petersburg  20:28:33  Wednesday  \n",
       "2  Saint-Petersburg  20:58:07  Wednesday  \n",
       "3  Saint-Petersburg  08:37:09     Monday  \n",
       "5  Saint-Petersburg  13:09:41     Friday  \n",
       "9  Saint-Petersburg  21:20:49  Wednesday  "
      ]
     },
     "execution_count": 31,
     "metadata": {},
     "output_type": "execute_result"
    }
   ],
   "source": [
    "spb_general = df[df['city']=='Saint-Petersburg']# получение таблицы spb_general из тех строк таблицы df,\n",
    "spb_general.head()# для которых значение в столбце 'city' равно 'Saint-Petersburg'"
   ]
  },
  {
   "cell_type": "markdown",
   "metadata": {},
   "source": [
    "<div class=\"alert alert-success\">\n",
    "\n",
    "<b>✔️ Комментарий ревьюера v2:</b> Фильтрация — очень полезный инструмент. Теперь мы умеем извлекать нужные части данных, это здорово\n",
    "\n",
    "</div>"
   ]
  },
  {
   "cell_type": "markdown",
   "metadata": {
    "id": "MEJV-CX2_Zcu"
   },
   "source": [
    "Создайте функцию `genre_weekday()` с четырьмя параметрами:\n",
    "* таблица (датафрейм) с данными,\n",
    "* день недели,\n",
    "* начальная временная метка в формате 'hh:mm', \n",
    "* последняя временная метка в формате 'hh:mm'.\n",
    "\n",
    "Функция должна вернуть информацию о топ-10 жанров тех треков, которые прослушивали в указанный день, в промежутке между двумя отметками времени."
   ]
  },
  {
   "cell_type": "code",
   "execution_count": 32,
   "metadata": {
    "id": "laJT9BYl_Zcu"
   },
   "outputs": [],
   "source": [
    "def genre_weekday(table, day, time1, time2):\n",
    "    genre_df = table[(table['day']==day)&(table['time']>time1)&(table['time']<time2)]\n",
    "    genre_df_count = genre_df.groupby('genre')['user_id'].count()\n",
    "    genre_df_sorted = genre_df_count.sort_values(ascending = False)\n",
    "    return genre_df_sorted.head(10)\n",
    "# Объявление функции genre_weekday() с параметрами table, day, time1, time2,\n",
    "# которая возвращает информацию о самых популярных жанрах в указанный день в\n",
    "# заданное время:\n",
    "# 1) в переменную genre_df сохраняются те строки переданного датафрейма table, для\n",
    "#    которых одновременно:\n",
    "#    - значение в столбце day равно значению аргумента day\n",
    "#    - значение в столбце time больше значения аргумента time1\n",
    "#    - значение в столбце time меньше значения аргумента time2\n",
    "#    Используйте последовательную фильтрацию с помощью логической индексации.\n",
    "# 2) сгруппировать датафрейм genre_df по столбцу genre, взять один из его\n",
    "#    столбцов и посчитать методом count() количество записей для каждого из\n",
    "#    присутствующих жанров, получившийся Series записать в переменную\n",
    "#    genre_df_count\n",
    "# 3) отсортировать genre_df_count по убыванию встречаемости и сохранить\n",
    "#    в переменную genre_df_sorted\n",
    "# 4) вернуть Series из 10 первых значений genre_df_sorted, это будут топ-10\n",
    "#    популярных жанров (в указанный день, в заданное время)"
   ]
  },
  {
   "cell_type": "markdown",
   "metadata": {},
   "source": [
    "<div class=\"alert alert-success\">\n",
    "<b>✔️ Комментарий ревьюера v2:</b> Функция написана верно!\n",
    "</div>"
   ]
  },
  {
   "cell_type": "markdown",
   "metadata": {
    "id": "la2s2_PF_Zcu"
   },
   "source": [
    "Cравните результаты функции `genre_weekday()` для Москвы и Санкт-Петербурга в понедельник утром (с 7:00 до 11:00) и в пятницу вечером (с 17:00 до 23:00):"
   ]
  },
  {
   "cell_type": "code",
   "execution_count": 33,
   "metadata": {
    "id": "yz7itPUQ_Zcu"
   },
   "outputs": [
    {
     "name": "stdout",
     "output_type": "stream",
     "text": [
      "Топ 10 жанров музыки в Москве в понедельник утром:\n"
     ]
    },
    {
     "data": {
      "text/plain": [
       "genre\n",
       "pop            781\n",
       "dance          549\n",
       "electronic     480\n",
       "rock           474\n",
       "hiphop         286\n",
       "ruspop         186\n",
       "world          181\n",
       "rusrap         175\n",
       "alternative    164\n",
       "unknown        161\n",
       "Name: user_id, dtype: int64"
      ]
     },
     "execution_count": 33,
     "metadata": {},
     "output_type": "execute_result"
    }
   ],
   "source": [
    "print('Топ 10 жанров музыки в Москве в понедельник утром:')\n",
    "genre_weekday(moscow_general, 'Monday', '07:00', '11:00')\n",
    "# вызов функции для утра понедельника в Москве (вместо df — таблица moscow_general)\n",
    "# объекты, хранящие время, являются строками и сравниваются как строки\n",
    "# пример вызова: genre_weekday(moscow_general, 'Monday', '07:00', '11:00')"
   ]
  },
  {
   "cell_type": "code",
   "execution_count": 34,
   "metadata": {
    "id": "kwUcHPdy_Zcu"
   },
   "outputs": [
    {
     "name": "stdout",
     "output_type": "stream",
     "text": [
      "Топ 10 жанров музыки в Санкт-Петербурге в понедельник утром:\n"
     ]
    },
    {
     "data": {
      "text/plain": [
       "genre\n",
       "pop            218\n",
       "dance          182\n",
       "rock           162\n",
       "electronic     147\n",
       "hiphop          80\n",
       "ruspop          64\n",
       "alternative     58\n",
       "rusrap          55\n",
       "jazz            44\n",
       "classical       40\n",
       "Name: user_id, dtype: int64"
      ]
     },
     "execution_count": 34,
     "metadata": {},
     "output_type": "execute_result"
    }
   ],
   "source": [
    "print('Топ 10 жанров музыки в Санкт-Петербурге в понедельник утром:')\n",
    "genre_weekday(spb_general, 'Monday', '07:00', '11:00')# вызов функции для утра понедельника в Петербурге (вместо df — таблица spb_general)"
   ]
  },
  {
   "cell_type": "code",
   "execution_count": 35,
   "metadata": {
    "id": "EzXVRE1o_Zcu"
   },
   "outputs": [
    {
     "name": "stdout",
     "output_type": "stream",
     "text": [
      "Топ 10 жанров музыки в Москве в пятницу вечером:\n"
     ]
    },
    {
     "data": {
      "text/plain": [
       "genre\n",
       "pop            713\n",
       "rock           517\n",
       "dance          495\n",
       "electronic     482\n",
       "hiphop         273\n",
       "world          208\n",
       "ruspop         170\n",
       "alternative    163\n",
       "classical      163\n",
       "rusrap         142\n",
       "Name: user_id, dtype: int64"
      ]
     },
     "execution_count": 35,
     "metadata": {},
     "output_type": "execute_result"
    }
   ],
   "source": [
    "print('Топ 10 жанров музыки в Москве в пятницу вечером:')\n",
    "genre_weekday(moscow_general, 'Friday', '17:00', '23:00')# вызов функции для вечера пятницы в Москве"
   ]
  },
  {
   "cell_type": "code",
   "execution_count": 36,
   "metadata": {
    "id": "JZaEKu5v_Zcu"
   },
   "outputs": [
    {
     "name": "stdout",
     "output_type": "stream",
     "text": [
      "Топ 10 жанров музыки в Санкт-Петербурге в пятницу вечером:\n"
     ]
    },
    {
     "data": {
      "text/plain": [
       "genre\n",
       "pop            256\n",
       "rock           216\n",
       "electronic     216\n",
       "dance          210\n",
       "hiphop          97\n",
       "alternative     63\n",
       "jazz            61\n",
       "classical       60\n",
       "rusrap          59\n",
       "world           54\n",
       "Name: user_id, dtype: int64"
      ]
     },
     "execution_count": 36,
     "metadata": {},
     "output_type": "execute_result"
    }
   ],
   "source": [
    "print('Топ 10 жанров музыки в Санкт-Петербурге в пятницу вечером:')\n",
    "genre_weekday(spb_general, 'Friday', '17:00', '23:00')# вызов функции для вечера пятницы в Петербурге"
   ]
  },
  {
   "cell_type": "markdown",
   "metadata": {
    "id": "wrCe4MNX_Zcu"
   },
   "source": [
    "**Выводы**\n",
    "\n",
    "Если сравнить топ-10 жанров в понедельник утром, можно сделать такие выводы:\n",
    "\n",
    "1. В Москве и Петербурге слушают похожую музыку. Единственное отличие — в московский рейтинг вошёл жанр “world”, а в петербургский — джаз и классика.\n",
    "\n",
    "2. В Москве пропущенных значений оказалось так много, что значение `'unknown'` заняло десятое место среди самых популярных жанров. Значит, пропущенные значения занимают существенную долю в данных и угрожают достоверности исследования.\n",
    "\n",
    "Вечер пятницы не меняет эту картину. Некоторые жанры поднимаются немного выше, другие спускаются, но в целом топ-10 остаётся тем же самым.\n",
    "\n",
    "Таким образом, вторая гипотеза подтвердилась лишь частично:\n",
    "* Пользователи слушают похожую музыку в начале недели и в конце.\n",
    "* Разница между Москвой и Петербургом не слишком выражена. В Москве чаще слушают русскую популярную музыку, в Петербурге — джаз.\n",
    "\n",
    "Однако пропуски в данных ставят под сомнение этот результат. В Москве их так много, что рейтинг топ-10 мог бы выглядеть иначе, если бы не утерянные  данные о жанрах."
   ]
  },
  {
   "cell_type": "markdown",
   "metadata": {
    "id": "JolODAqr_Zcu"
   },
   "source": [
    "### Жанровые предпочтения в Москве и Петербурге\n",
    "\n",
    "Гипотеза: Петербург — столица рэпа, музыку этого жанра там слушают чаще, чем в Москве.  А Москва — город контрастов, в котором, тем не менее, преобладает поп-музыка."
   ]
  },
  {
   "cell_type": "markdown",
   "metadata": {
    "id": "DlegSvaT_Zcu"
   },
   "source": [
    "Сгруппируйте таблицу `moscow_general` по жанру и посчитайте прослушивания треков каждого жанра методом `count()`. Затем отсортируйте результат в порядке убывания и сохраните его в таблице `moscow_genres`."
   ]
  },
  {
   "cell_type": "code",
   "execution_count": 37,
   "metadata": {
    "id": "r19lIPke_Zcu"
   },
   "outputs": [],
   "source": [
    "moscow_genres = moscow_general.groupby('genre')['user_id'].count().sort_values(ascending = False)# одной строкой: группировка таблицы moscow_general по столбцу 'genre', \n",
    "# подсчёт числа значений 'genre' в этой группировке методом count(), \n",
    "# сортировка получившегося Series в порядке убывания и сохранение в moscow_genres"
   ]
  },
  {
   "cell_type": "markdown",
   "metadata": {},
   "source": [
    "<div class=\"alert alert-success\">\n",
    "<b>✔️ Комментарий ревьюера v2:</b> Да, методы удобно вызывать «цепочкой», это позволит не заводить промежуточных переменных  </div>"
   ]
  },
  {
   "cell_type": "markdown",
   "metadata": {
    "id": "6kMuomxTiIr8"
   },
   "source": [
    "Выведите на экран первые десять строк `moscow_genres`:"
   ]
  },
  {
   "cell_type": "code",
   "execution_count": 38,
   "metadata": {
    "id": "WhCSooF8_Zcv"
   },
   "outputs": [
    {
     "name": "stdout",
     "output_type": "stream",
     "text": [
      "Топ 10 жанров музыки в Москве по прослушиванию на Яндекс.Музыке:\n"
     ]
    },
    {
     "data": {
      "text/plain": [
       "genre\n",
       "pop            5893\n",
       "dance          4435\n",
       "rock           3965\n",
       "electronic     3786\n",
       "hiphop         2096\n",
       "classical      1616\n",
       "world          1432\n",
       "alternative    1379\n",
       "ruspop         1372\n",
       "rusrap         1161\n",
       "Name: user_id, dtype: int64"
      ]
     },
     "execution_count": 38,
     "metadata": {},
     "output_type": "execute_result"
    }
   ],
   "source": [
    "print('Топ 10 жанров музыки в Москве по прослушиванию на Яндекс.Музыке:')\n",
    "moscow_genres.head(10)# просмотр первых 10 строк moscow_genres"
   ]
  },
  {
   "cell_type": "markdown",
   "metadata": {
    "id": "cnPG2vnN_Zcv"
   },
   "source": [
    "Теперь повторите то же и для Петербурга.\n",
    "\n",
    "Сгруппируйте таблицу `spb_general` по жанру. Посчитайте прослушивания треков каждого жанра. Результат отсортируйте в порядке убывания и сохраните в таблице `spb_genres`:\n"
   ]
  },
  {
   "cell_type": "code",
   "execution_count": 39,
   "metadata": {
    "id": "gluLIpE7_Zcv"
   },
   "outputs": [],
   "source": [
    "spb_genres = spb_general.groupby('genre')['user_id'].count().sort_values(ascending = False)# одной строкой: группировка таблицы spb_general по столбцу 'genre', \n",
    "# подсчёт числа значений 'genre' в этой группировке методом count(), \n",
    "# сортировка получившегося Series в порядке убывания и сохранение в spb_genres"
   ]
  },
  {
   "cell_type": "markdown",
   "metadata": {
    "id": "5Doha_ODgyQ8"
   },
   "source": [
    "Выведите на экран первые десять строк `spb_genres`:"
   ]
  },
  {
   "cell_type": "code",
   "execution_count": 40,
   "metadata": {
    "id": "uaGJHjVU_Zcv"
   },
   "outputs": [
    {
     "name": "stdout",
     "output_type": "stream",
     "text": [
      "Топ 10 жанров музыки в Санкт-Петербурге по прослушиванию на Яндекс.Музыке:\n"
     ]
    },
    {
     "data": {
      "text/plain": [
       "genre\n",
       "pop            2431\n",
       "dance          1932\n",
       "rock           1879\n",
       "electronic     1737\n",
       "hiphop          960\n",
       "alternative     649\n",
       "classical       646\n",
       "rusrap          564\n",
       "ruspop          538\n",
       "world           515\n",
       "Name: user_id, dtype: int64"
      ]
     },
     "execution_count": 40,
     "metadata": {},
     "output_type": "execute_result"
    }
   ],
   "source": [
    "print('Топ 10 жанров музыки в Санкт-Петербурге по прослушиванию на Яндекс.Музыке:')\n",
    "spb_genres.head(10)# просмотр первых 10 строк spb_genres"
   ]
  },
  {
   "cell_type": "markdown",
   "metadata": {
    "id": "RY51YJYu_Zcv"
   },
   "source": [
    "**Выводы**"
   ]
  },
  {
   "cell_type": "markdown",
   "metadata": {
    "id": "nVhnJEm__Zcv"
   },
   "source": [
    "Гипотеза частично подтвердилась:\n",
    "* Поп-музыка — самый популярный жанр в Москве, как и предполагала гипотеза. Более того, в топ-10 жанров встречается близкий жанр — русская популярная музыка.\n",
    "* Вопреки ожиданиям, рэп одинаково популярен в Москве и Петербурге. \n"
   ]
  },
  {
   "cell_type": "markdown",
   "metadata": {},
   "source": [
    "<div class=\"alert alert-success\">\n",
    "<b>✔️ Комментарий ревьюера v2:</b> Выводы — это очень важная часть. Как раз ради них и делается исследование. Не забывай в своих будущих проектах делать промежуточные выводы после каждого раздела и общий вывод в конце  </div>"
   ]
  },
  {
   "cell_type": "markdown",
   "metadata": {
    "id": "ykKQ0N65_Zcv"
   },
   "source": [
    "## Итоги исследования"
   ]
  },
  {
   "cell_type": "markdown",
   "metadata": {
    "id": "tjUwbHb3_Zcv"
   },
   "source": [
    "Вы проверили три гипотезы и установили:\n",
    "\n",
    "1. День недели по-разному влияет на активность пользователей в Москве и Петербурге. \n",
    "\n",
    "Первая гипотеза полностью подтвердилась.\n",
    "\n",
    "2. Музыкальные предпочтения не сильно меняются в течение недели — будь то Москва или Петербург. Небольшие различия заметны в начале недели, по понедельникам:\n",
    "* в Москве слушают музыку жанра “world”,\n",
    "* в Петербурге — джаз и классику.\n",
    "\n",
    "Таким образом, вторая гипотеза подтвердилась лишь отчасти. Этот результат мог оказаться иным, если бы не пропуски в данных.\n",
    "\n",
    "3. Во вкусах пользователей Москвы и Петербурга больше общего чем различий. Вопреки ожиданиям, предпочтения жанров в Петербурге напоминают московские.\n",
    "\n",
    "Третья гипотеза не подтвердилась. Если различия в предпочтениях и существуют, на основной массе пользователей они незаметны.\n",
    "\n",
    "**На практике исследования содержат проверки статистических гипотез.**\n",
    "Из данных одного сервиса не всегда можно сделать вывод о всех жителях города.\n",
    "Проверки статистических гипотез покажут, насколько они достоверны, исходя из имеющихся данных. \n",
    "С методами проверок гипотез вы ещё познакомитесь в следующих темах."
   ]
  }
 ],
 "metadata": {
  "ExecuteTimeLog": [
   {
    "duration": 832,
    "start_time": "2021-11-14T12:12:27.287Z"
   },
   {
    "duration": 180,
    "start_time": "2021-11-14T12:13:16.102Z"
   },
   {
    "duration": 28,
    "start_time": "2021-11-14T12:13:40.966Z"
   },
   {
    "duration": 32,
    "start_time": "2021-11-14T12:14:31.890Z"
   },
   {
    "duration": 36,
    "start_time": "2021-11-14T12:25:29.753Z"
   },
   {
    "duration": 33,
    "start_time": "2021-11-14T12:25:38.747Z"
   },
   {
    "duration": 342,
    "start_time": "2021-11-14T12:26:49.280Z"
   },
   {
    "duration": 6,
    "start_time": "2021-11-14T12:26:55.692Z"
   },
   {
    "duration": 5,
    "start_time": "2021-11-14T12:27:05.067Z"
   },
   {
    "duration": 89,
    "start_time": "2021-11-14T12:29:03.602Z"
   },
   {
    "duration": 41,
    "start_time": "2021-11-14T12:29:27.700Z"
   },
   {
    "duration": 5,
    "start_time": "2021-11-14T12:29:43.520Z"
   },
   {
    "duration": 15,
    "start_time": "2021-11-14T12:30:15.193Z"
   },
   {
    "duration": 39,
    "start_time": "2021-11-14T12:30:21.748Z"
   },
   {
    "duration": 14,
    "start_time": "2021-11-14T12:30:31.616Z"
   },
   {
    "duration": 29,
    "start_time": "2021-11-14T12:31:17.352Z"
   },
   {
    "duration": 6,
    "start_time": "2021-11-14T12:31:33.473Z"
   },
   {
    "duration": 31,
    "start_time": "2021-11-14T12:33:34.181Z"
   },
   {
    "duration": 48,
    "start_time": "2021-11-14T12:34:21.273Z"
   },
   {
    "duration": 3,
    "start_time": "2021-11-14T12:35:43.390Z"
   },
   {
    "duration": 283,
    "start_time": "2021-11-14T12:38:51.163Z"
   },
   {
    "duration": 25,
    "start_time": "2021-11-14T12:39:02.070Z"
   },
   {
    "duration": 28,
    "start_time": "2021-11-14T12:39:16.028Z"
   },
   {
    "duration": 266,
    "start_time": "2021-11-14T12:40:00.865Z"
   },
   {
    "duration": 264,
    "start_time": "2021-11-14T12:40:09.718Z"
   },
   {
    "duration": 83,
    "start_time": "2021-11-14T12:40:32.627Z"
   },
   {
    "duration": 78,
    "start_time": "2021-11-14T12:40:42.857Z"
   },
   {
    "duration": 78,
    "start_time": "2021-11-14T12:40:47.956Z"
   },
   {
    "duration": 273,
    "start_time": "2021-11-14T12:41:26.845Z"
   },
   {
    "duration": 283,
    "start_time": "2021-11-14T12:41:50.012Z"
   },
   {
    "duration": 111,
    "start_time": "2021-11-14T12:42:00.975Z"
   },
   {
    "duration": 101,
    "start_time": "2021-11-14T12:42:53.367Z"
   },
   {
    "duration": 79,
    "start_time": "2021-11-14T12:43:07.956Z"
   },
   {
    "duration": 59,
    "start_time": "2021-11-14T12:46:58.425Z"
   },
   {
    "duration": 59,
    "start_time": "2021-11-14T12:47:13.388Z"
   },
   {
    "duration": 58,
    "start_time": "2021-11-14T12:47:20.851Z"
   },
   {
    "duration": 59,
    "start_time": "2021-11-14T12:48:20.680Z"
   },
   {
    "duration": 4,
    "start_time": "2021-11-14T13:00:28.264Z"
   },
   {
    "duration": 529,
    "start_time": "2021-11-14T13:02:34.466Z"
   },
   {
    "duration": 90,
    "start_time": "2021-11-14T13:02:55.025Z"
   },
   {
    "duration": 1442,
    "start_time": "2021-11-14T13:03:02.086Z"
   },
   {
    "duration": 4,
    "start_time": "2021-11-14T13:03:27.059Z"
   },
   {
    "duration": 12,
    "start_time": "2021-11-14T13:03:30.924Z"
   },
   {
    "duration": 256,
    "start_time": "2021-11-14T13:04:55.647Z"
   },
   {
    "duration": 14,
    "start_time": "2021-11-14T13:05:09.066Z"
   },
   {
    "duration": 13,
    "start_time": "2021-11-14T13:05:49.215Z"
   },
   {
    "duration": 58,
    "start_time": "2021-11-14T13:06:26.120Z"
   },
   {
    "duration": 12,
    "start_time": "2021-11-14T13:13:34.500Z"
   },
   {
    "duration": 17,
    "start_time": "2021-11-14T13:13:53.928Z"
   },
   {
    "duration": 15,
    "start_time": "2021-11-14T13:14:50.478Z"
   },
   {
    "duration": 16,
    "start_time": "2021-11-14T13:15:20.224Z"
   },
   {
    "duration": 8,
    "start_time": "2021-11-14T13:16:08.975Z"
   },
   {
    "duration": 17,
    "start_time": "2021-11-14T13:16:11.355Z"
   },
   {
    "duration": 17,
    "start_time": "2021-11-14T13:16:21.520Z"
   },
   {
    "duration": 5,
    "start_time": "2021-11-14T13:16:39.382Z"
   },
   {
    "duration": 19,
    "start_time": "2021-11-14T13:16:42.946Z"
   },
   {
    "duration": 17,
    "start_time": "2021-11-14T13:16:46.041Z"
   },
   {
    "duration": 783,
    "start_time": "2021-11-14T13:17:17.650Z"
   },
   {
    "duration": 203,
    "start_time": "2021-11-14T13:17:18.436Z"
   },
   {
    "duration": 27,
    "start_time": "2021-11-14T13:17:18.642Z"
   },
   {
    "duration": 39,
    "start_time": "2021-11-14T13:17:18.672Z"
   },
   {
    "duration": 5,
    "start_time": "2021-11-14T13:17:18.714Z"
   },
   {
    "duration": 65,
    "start_time": "2021-11-14T13:17:18.722Z"
   },
   {
    "duration": 13,
    "start_time": "2021-11-14T13:17:18.790Z"
   },
   {
    "duration": 31,
    "start_time": "2021-11-14T13:17:18.807Z"
   },
   {
    "duration": 43,
    "start_time": "2021-11-14T13:17:18.841Z"
   },
   {
    "duration": 31,
    "start_time": "2021-11-14T13:17:18.886Z"
   },
   {
    "duration": 111,
    "start_time": "2021-11-14T13:17:18.919Z"
   },
   {
    "duration": 115,
    "start_time": "2021-11-14T13:17:19.032Z"
   },
   {
    "duration": 86,
    "start_time": "2021-11-14T13:17:19.149Z"
   },
   {
    "duration": 74,
    "start_time": "2021-11-14T13:17:19.238Z"
   },
   {
    "duration": 4,
    "start_time": "2021-11-14T13:17:19.315Z"
   },
   {
    "duration": 18,
    "start_time": "2021-11-14T13:17:19.321Z"
   },
   {
    "duration": 79,
    "start_time": "2021-11-14T13:17:19.342Z"
   },
   {
    "duration": 7,
    "start_time": "2021-11-14T13:17:19.424Z"
   },
   {
    "duration": 81,
    "start_time": "2021-11-14T13:17:19.434Z"
   },
   {
    "duration": 3,
    "start_time": "2021-11-14T13:17:19.518Z"
   },
   {
    "duration": 6,
    "start_time": "2021-11-14T13:17:19.523Z"
   },
   {
    "duration": 9,
    "start_time": "2021-11-14T13:17:19.532Z"
   },
   {
    "duration": 4,
    "start_time": "2021-11-14T13:17:19.566Z"
   },
   {
    "duration": 5,
    "start_time": "2021-11-14T13:17:19.573Z"
   },
   {
    "duration": 5,
    "start_time": "2021-11-14T13:17:19.581Z"
   },
   {
    "duration": 5,
    "start_time": "2021-11-14T13:17:19.589Z"
   },
   {
    "duration": 8,
    "start_time": "2021-11-14T13:17:19.597Z"
   },
   {
    "duration": 6,
    "start_time": "2021-11-14T13:17:19.607Z"
   },
   {
    "duration": 6,
    "start_time": "2021-11-14T13:17:19.615Z"
   },
   {
    "duration": 9,
    "start_time": "2021-11-14T13:17:19.623Z"
   },
   {
    "duration": 4,
    "start_time": "2021-11-14T13:17:19.667Z"
   },
   {
    "duration": 6,
    "start_time": "2021-11-14T13:17:19.673Z"
   },
   {
    "duration": 9,
    "start_time": "2021-11-14T13:17:19.681Z"
   },
   {
    "duration": 6,
    "start_time": "2021-11-14T13:17:19.692Z"
   },
   {
    "duration": 14,
    "start_time": "2021-11-14T13:17:19.700Z"
   },
   {
    "duration": 8,
    "start_time": "2021-11-14T13:17:19.716Z"
   },
   {
    "duration": 12,
    "start_time": "2021-11-14T13:17:19.726Z"
   },
   {
    "duration": 27,
    "start_time": "2021-11-14T13:17:19.741Z"
   },
   {
    "duration": 6,
    "start_time": "2021-11-14T13:17:19.771Z"
   },
   {
    "duration": 8,
    "start_time": "2021-11-14T13:17:19.779Z"
   },
   {
    "duration": 790,
    "start_time": "2021-11-15T07:56:50.570Z"
   },
   {
    "duration": 191,
    "start_time": "2021-11-15T07:56:51.364Z"
   },
   {
    "duration": 26,
    "start_time": "2021-11-15T07:56:51.558Z"
   },
   {
    "duration": 50,
    "start_time": "2021-11-15T07:56:51.587Z"
   },
   {
    "duration": 5,
    "start_time": "2021-11-15T07:56:51.640Z"
   },
   {
    "duration": 30,
    "start_time": "2021-11-15T07:56:51.647Z"
   },
   {
    "duration": 42,
    "start_time": "2021-11-15T07:56:51.680Z"
   },
   {
    "duration": 29,
    "start_time": "2021-11-15T07:56:51.726Z"
   },
   {
    "duration": 24,
    "start_time": "2021-11-15T07:56:51.758Z"
   },
   {
    "duration": 45,
    "start_time": "2021-11-15T07:56:51.784Z"
   },
   {
    "duration": 114,
    "start_time": "2021-11-15T07:56:51.832Z"
   },
   {
    "duration": 117,
    "start_time": "2021-11-15T07:56:51.949Z"
   },
   {
    "duration": 88,
    "start_time": "2021-11-15T07:56:52.069Z"
   },
   {
    "duration": 71,
    "start_time": "2021-11-15T07:56:52.160Z"
   },
   {
    "duration": 5,
    "start_time": "2021-11-15T07:56:52.233Z"
   },
   {
    "duration": 22,
    "start_time": "2021-11-15T07:56:52.240Z"
   },
   {
    "duration": 81,
    "start_time": "2021-11-15T07:56:52.266Z"
   },
   {
    "duration": 7,
    "start_time": "2021-11-15T07:56:52.350Z"
   },
   {
    "duration": 76,
    "start_time": "2021-11-15T07:56:52.360Z"
   },
   {
    "duration": 3,
    "start_time": "2021-11-15T07:56:52.438Z"
   },
   {
    "duration": 5,
    "start_time": "2021-11-15T07:56:52.444Z"
   },
   {
    "duration": 5,
    "start_time": "2021-11-15T07:56:52.451Z"
   },
   {
    "duration": 19,
    "start_time": "2021-11-15T07:56:52.461Z"
   },
   {
    "duration": 6,
    "start_time": "2021-11-15T07:56:52.483Z"
   },
   {
    "duration": 4,
    "start_time": "2021-11-15T07:56:52.492Z"
   },
   {
    "duration": 3,
    "start_time": "2021-11-15T07:56:52.523Z"
   },
   {
    "duration": 6,
    "start_time": "2021-11-15T07:56:52.529Z"
   },
   {
    "duration": 12,
    "start_time": "2021-11-15T07:56:52.537Z"
   },
   {
    "duration": 5,
    "start_time": "2021-11-15T07:56:52.552Z"
   },
   {
    "duration": 4,
    "start_time": "2021-11-15T07:56:52.560Z"
   },
   {
    "duration": 5,
    "start_time": "2021-11-15T07:56:52.567Z"
   },
   {
    "duration": 8,
    "start_time": "2021-11-15T07:56:52.574Z"
   },
   {
    "duration": 39,
    "start_time": "2021-11-15T07:56:52.584Z"
   },
   {
    "duration": 11,
    "start_time": "2021-11-15T07:56:52.625Z"
   },
   {
    "duration": 13,
    "start_time": "2021-11-15T07:56:52.639Z"
   },
   {
    "duration": 9,
    "start_time": "2021-11-15T07:56:52.654Z"
   },
   {
    "duration": 8,
    "start_time": "2021-11-15T07:56:52.666Z"
   },
   {
    "duration": 17,
    "start_time": "2021-11-15T07:56:52.677Z"
   },
   {
    "duration": 6,
    "start_time": "2021-11-15T07:56:52.697Z"
   },
   {
    "duration": 18,
    "start_time": "2021-11-15T07:56:52.706Z"
   },
   {
    "duration": 770,
    "start_time": "2021-11-15T12:55:09.561Z"
   },
   {
    "duration": 586,
    "start_time": "2021-11-15T12:55:16.765Z"
   },
   {
    "duration": 142,
    "start_time": "2021-11-15T12:55:19.876Z"
   },
   {
    "duration": 21,
    "start_time": "2021-11-15T12:55:23.277Z"
   },
   {
    "duration": 85,
    "start_time": "2021-11-15T12:56:22.030Z"
   },
   {
    "duration": 82,
    "start_time": "2021-11-15T12:56:59.551Z"
   },
   {
    "duration": 524,
    "start_time": "2021-11-15T12:57:04.080Z"
   },
   {
    "duration": 3,
    "start_time": "2021-11-15T12:57:53.202Z"
   },
   {
    "duration": 86,
    "start_time": "2021-11-15T12:58:32.218Z"
   },
   {
    "duration": 4,
    "start_time": "2021-11-15T12:58:59.308Z"
   },
   {
    "duration": 20,
    "start_time": "2021-11-15T12:59:15.224Z"
   },
   {
    "duration": 20,
    "start_time": "2021-11-15T12:59:22.402Z"
   },
   {
    "duration": 6705,
    "start_time": "2021-11-15T12:59:25.452Z"
   },
   {
    "duration": -109,
    "start_time": "2021-11-15T12:59:32.268Z"
   },
   {
    "duration": 551,
    "start_time": "2021-11-15T13:00:23.526Z"
   },
   {
    "duration": 129,
    "start_time": "2021-11-15T13:00:27.183Z"
   },
   {
    "duration": 13,
    "start_time": "2021-11-15T13:00:32.935Z"
   },
   {
    "duration": 21,
    "start_time": "2021-11-15T13:00:36.456Z"
   },
   {
    "duration": 6,
    "start_time": "2021-11-15T13:00:42.498Z"
   },
   {
    "duration": 17,
    "start_time": "2021-11-15T13:00:46.505Z"
   },
   {
    "duration": 4,
    "start_time": "2021-11-15T13:00:50.082Z"
   },
   {
    "duration": 21,
    "start_time": "2021-11-15T13:00:58.741Z"
   },
   {
    "duration": 15,
    "start_time": "2021-11-15T13:01:09.660Z"
   },
   {
    "duration": 21,
    "start_time": "2021-11-15T13:01:26.753Z"
   },
   {
    "duration": 92,
    "start_time": "2021-11-15T13:02:03.359Z"
   },
   {
    "duration": 56,
    "start_time": "2021-11-15T13:04:25.604Z"
   },
   {
    "duration": 93,
    "start_time": "2021-11-15T13:04:47.101Z"
   },
   {
    "duration": 48,
    "start_time": "2021-11-15T13:04:52.932Z"
   },
   {
    "duration": 107,
    "start_time": "2021-11-15T13:06:37.852Z"
   },
   {
    "duration": 59,
    "start_time": "2021-11-15T13:07:16.758Z"
   },
   {
    "duration": 55,
    "start_time": "2021-11-15T13:07:24.892Z"
   },
   {
    "duration": 50,
    "start_time": "2021-11-15T13:07:54.330Z"
   },
   {
    "duration": 51,
    "start_time": "2021-11-15T13:07:58.322Z"
   },
   {
    "duration": 56,
    "start_time": "2021-11-15T13:10:42.583Z"
   },
   {
    "duration": 101,
    "start_time": "2021-11-15T13:12:14.975Z"
   },
   {
    "duration": 86,
    "start_time": "2021-11-15T13:12:17.593Z"
   },
   {
    "duration": 48,
    "start_time": "2021-11-15T13:12:23.206Z"
   },
   {
    "duration": 93,
    "start_time": "2021-11-15T13:12:34.894Z"
   },
   {
    "duration": 58,
    "start_time": "2021-11-15T13:12:37.468Z"
   },
   {
    "duration": 5,
    "start_time": "2021-11-15T13:14:54.986Z"
   },
   {
    "duration": 87,
    "start_time": "2021-11-15T13:15:01.793Z"
   },
   {
    "duration": 3,
    "start_time": "2021-11-15T13:15:19.259Z"
   },
   {
    "duration": 3,
    "start_time": "2021-11-15T13:15:34.580Z"
   },
   {
    "duration": 107,
    "start_time": "2021-11-15T13:16:03.311Z"
   },
   {
    "duration": 47,
    "start_time": "2021-11-15T13:16:12.808Z"
   },
   {
    "duration": 49,
    "start_time": "2021-11-15T13:16:19.412Z"
   },
   {
    "duration": 57,
    "start_time": "2021-11-15T13:27:35.965Z"
   },
   {
    "duration": 51,
    "start_time": "2021-11-15T13:27:44.927Z"
   },
   {
    "duration": 49,
    "start_time": "2021-11-15T13:28:17.224Z"
   },
   {
    "duration": 49,
    "start_time": "2021-11-15T13:28:22.735Z"
   },
   {
    "duration": 65,
    "start_time": "2021-11-15T13:28:42.016Z"
   },
   {
    "duration": 46,
    "start_time": "2021-11-15T13:29:16.796Z"
   },
   {
    "duration": 51,
    "start_time": "2021-11-15T13:29:21.357Z"
   },
   {
    "duration": 88,
    "start_time": "2021-11-15T13:29:58.840Z"
   },
   {
    "duration": 35,
    "start_time": "2021-11-15T13:30:38.147Z"
   },
   {
    "duration": 36,
    "start_time": "2021-11-15T13:30:53.207Z"
   },
   {
    "duration": 95,
    "start_time": "2021-11-15T13:31:57.638Z"
   },
   {
    "duration": 3,
    "start_time": "2021-11-15T13:32:12.799Z"
   },
   {
    "duration": 9,
    "start_time": "2021-11-15T13:32:17.453Z"
   },
   {
    "duration": 46,
    "start_time": "2021-11-15T13:32:26.385Z"
   },
   {
    "duration": 584,
    "start_time": "2021-11-15T13:34:18.746Z"
   },
   {
    "duration": 7,
    "start_time": "2021-11-15T13:35:25.291Z"
   },
   {
    "duration": 7,
    "start_time": "2021-11-15T13:35:47.755Z"
   },
   {
    "duration": 40,
    "start_time": "2021-11-15T13:35:55.440Z"
   },
   {
    "duration": 236,
    "start_time": "2021-11-15T13:37:08.976Z"
   },
   {
    "duration": 10,
    "start_time": "2021-11-15T13:38:02.473Z"
   },
   {
    "duration": 9,
    "start_time": "2021-11-15T13:38:15.574Z"
   },
   {
    "duration": 3,
    "start_time": "2021-11-15T13:38:34.523Z"
   },
   {
    "duration": 83,
    "start_time": "2021-11-15T13:39:16.588Z"
   },
   {
    "duration": 84,
    "start_time": "2021-11-15T13:39:22.344Z"
   },
   {
    "duration": 88,
    "start_time": "2021-11-15T13:39:31.568Z"
   },
   {
    "duration": 14,
    "start_time": "2021-11-15T13:39:57.697Z"
   },
   {
    "duration": 13,
    "start_time": "2021-11-15T13:40:32.855Z"
   },
   {
    "duration": 35,
    "start_time": "2021-11-15T13:41:15.392Z"
   },
   {
    "duration": 37,
    "start_time": "2021-11-15T13:41:26.938Z"
   },
   {
    "duration": 569,
    "start_time": "2021-11-15T13:41:32.476Z"
   },
   {
    "duration": 121,
    "start_time": "2021-11-15T13:41:33.046Z"
   },
   {
    "duration": 19,
    "start_time": "2021-11-15T13:41:33.169Z"
   },
   {
    "duration": 20,
    "start_time": "2021-11-15T13:41:33.190Z"
   },
   {
    "duration": 19,
    "start_time": "2021-11-15T13:41:33.212Z"
   },
   {
    "duration": 23,
    "start_time": "2021-11-15T13:41:33.233Z"
   },
   {
    "duration": 6,
    "start_time": "2021-11-15T13:41:33.258Z"
   },
   {
    "duration": 36,
    "start_time": "2021-11-15T13:41:33.266Z"
   },
   {
    "duration": 32,
    "start_time": "2021-11-15T13:41:33.304Z"
   },
   {
    "duration": 19,
    "start_time": "2021-11-15T13:41:33.338Z"
   },
   {
    "duration": 56,
    "start_time": "2021-11-15T13:41:33.358Z"
   },
   {
    "duration": 62,
    "start_time": "2021-11-15T13:41:33.415Z"
   },
   {
    "duration": 45,
    "start_time": "2021-11-15T13:41:33.479Z"
   },
   {
    "duration": 36,
    "start_time": "2021-11-15T13:41:33.525Z"
   },
   {
    "duration": 5,
    "start_time": "2021-11-15T13:41:33.562Z"
   },
   {
    "duration": 25,
    "start_time": "2021-11-15T13:41:33.568Z"
   },
   {
    "duration": 36,
    "start_time": "2021-11-15T13:41:33.595Z"
   },
   {
    "duration": 6,
    "start_time": "2021-11-15T13:41:33.633Z"
   },
   {
    "duration": 49,
    "start_time": "2021-11-15T13:41:33.641Z"
   },
   {
    "duration": 10,
    "start_time": "2021-11-15T13:41:33.691Z"
   },
   {
    "duration": 16,
    "start_time": "2021-11-15T13:41:33.702Z"
   },
   {
    "duration": 7,
    "start_time": "2021-11-15T13:41:33.719Z"
   },
   {
    "duration": 23,
    "start_time": "2021-11-15T13:41:33.728Z"
   },
   {
    "duration": 25,
    "start_time": "2021-11-15T13:41:33.753Z"
   },
   {
    "duration": 9,
    "start_time": "2021-11-15T13:41:33.779Z"
   },
   {
    "duration": 15,
    "start_time": "2021-11-15T13:41:33.789Z"
   },
   {
    "duration": 20,
    "start_time": "2021-11-15T13:41:33.805Z"
   },
   {
    "duration": 11,
    "start_time": "2021-11-15T13:41:33.827Z"
   },
   {
    "duration": 5,
    "start_time": "2021-11-15T13:41:33.840Z"
   },
   {
    "duration": 10,
    "start_time": "2021-11-15T13:41:33.846Z"
   },
   {
    "duration": 13,
    "start_time": "2021-11-15T13:41:33.858Z"
   },
   {
    "duration": 6,
    "start_time": "2021-11-15T13:41:33.873Z"
   },
   {
    "duration": 8,
    "start_time": "2021-11-15T13:41:33.880Z"
   },
   {
    "duration": 20,
    "start_time": "2021-11-15T13:41:33.889Z"
   },
   {
    "duration": 21,
    "start_time": "2021-11-15T13:41:33.911Z"
   },
   {
    "duration": 8,
    "start_time": "2021-11-15T13:41:33.933Z"
   },
   {
    "duration": 5,
    "start_time": "2021-11-15T13:41:33.942Z"
   },
   {
    "duration": 9,
    "start_time": "2021-11-15T13:41:33.948Z"
   },
   {
    "duration": 11,
    "start_time": "2021-11-15T13:41:33.958Z"
   },
   {
    "duration": 17,
    "start_time": "2021-11-15T13:41:33.970Z"
   },
   {
    "duration": 13,
    "start_time": "2021-11-15T13:42:04.907Z"
   },
   {
    "duration": 14,
    "start_time": "2021-11-15T13:42:28.740Z"
   },
   {
    "duration": 16,
    "start_time": "2021-11-15T13:42:51.330Z"
   },
   {
    "duration": 15,
    "start_time": "2021-11-15T13:43:10.643Z"
   },
   {
    "duration": 9,
    "start_time": "2021-11-15T13:43:25.799Z"
   },
   {
    "duration": 17,
    "start_time": "2021-11-15T13:43:45.542Z"
   },
   {
    "duration": 14,
    "start_time": "2021-11-15T13:44:01.609Z"
   },
   {
    "duration": 4,
    "start_time": "2021-11-15T13:44:13.927Z"
   },
   {
    "duration": 3,
    "start_time": "2021-11-15T13:44:31.306Z"
   },
   {
    "duration": 16,
    "start_time": "2021-11-15T13:45:09.342Z"
   },
   {
    "duration": 19,
    "start_time": "2021-11-15T13:45:37.400Z"
   },
   {
    "duration": 12,
    "start_time": "2021-11-15T13:56:18.469Z"
   },
   {
    "duration": 17,
    "start_time": "2021-11-15T13:56:28.593Z"
   },
   {
    "duration": 18,
    "start_time": "2021-11-15T13:56:39.439Z"
   },
   {
    "duration": 9,
    "start_time": "2021-11-15T13:56:56.001Z"
   },
   {
    "duration": 85,
    "start_time": "2021-11-15T13:57:37.534Z"
   },
   {
    "duration": 4,
    "start_time": "2021-11-15T13:57:44.995Z"
   },
   {
    "duration": 5,
    "start_time": "2021-11-15T13:58:04.291Z"
   },
   {
    "duration": 7,
    "start_time": "2021-11-15T13:58:16.963Z"
   },
   {
    "duration": 5,
    "start_time": "2021-11-15T13:58:28.991Z"
   },
   {
    "duration": 412,
    "start_time": "2021-11-15T14:25:57.771Z"
   },
   {
    "duration": 832,
    "start_time": "2021-11-15T14:26:01.547Z"
   },
   {
    "duration": 674,
    "start_time": "2021-11-15T14:26:02.381Z"
   },
   {
    "duration": 26,
    "start_time": "2021-11-15T14:26:03.058Z"
   },
   {
    "duration": 33,
    "start_time": "2021-11-15T14:26:03.087Z"
   },
   {
    "duration": 9,
    "start_time": "2021-11-15T14:26:03.123Z"
   },
   {
    "duration": 56,
    "start_time": "2021-11-15T14:26:03.136Z"
   },
   {
    "duration": 24,
    "start_time": "2021-11-15T14:26:03.195Z"
   },
   {
    "duration": 44,
    "start_time": "2021-11-15T14:26:03.224Z"
   },
   {
    "duration": 26,
    "start_time": "2021-11-15T14:26:03.271Z"
   },
   {
    "duration": 31,
    "start_time": "2021-11-15T14:26:03.299Z"
   },
   {
    "duration": 140,
    "start_time": "2021-11-15T14:26:03.332Z"
   },
   {
    "duration": 131,
    "start_time": "2021-11-15T14:26:03.475Z"
   },
   {
    "duration": 96,
    "start_time": "2021-11-15T14:26:03.608Z"
   },
   {
    "duration": 73,
    "start_time": "2021-11-15T14:26:03.706Z"
   },
   {
    "duration": 4,
    "start_time": "2021-11-15T14:26:03.782Z"
   },
   {
    "duration": 31,
    "start_time": "2021-11-15T14:26:03.789Z"
   },
   {
    "duration": 79,
    "start_time": "2021-11-15T14:26:03.824Z"
   },
   {
    "duration": 14,
    "start_time": "2021-11-15T14:26:03.907Z"
   },
   {
    "duration": 85,
    "start_time": "2021-11-15T14:26:03.925Z"
   },
   {
    "duration": 17,
    "start_time": "2021-11-15T14:26:04.014Z"
   },
   {
    "duration": 41,
    "start_time": "2021-11-15T14:26:04.034Z"
   },
   {
    "duration": 5,
    "start_time": "2021-11-15T14:26:04.078Z"
   },
   {
    "duration": 30,
    "start_time": "2021-11-15T14:26:04.088Z"
   },
   {
    "duration": 56,
    "start_time": "2021-11-15T14:26:04.122Z"
   },
   {
    "duration": 23,
    "start_time": "2021-11-15T14:26:04.181Z"
   },
   {
    "duration": 23,
    "start_time": "2021-11-15T14:26:04.207Z"
   },
   {
    "duration": 27,
    "start_time": "2021-11-15T14:26:04.268Z"
   },
   {
    "duration": 27,
    "start_time": "2021-11-15T14:26:04.299Z"
   },
   {
    "duration": 47,
    "start_time": "2021-11-15T14:26:04.330Z"
   },
   {
    "duration": 30,
    "start_time": "2021-11-15T14:26:04.380Z"
   },
   {
    "duration": 59,
    "start_time": "2021-11-15T14:26:04.412Z"
   },
   {
    "duration": 5,
    "start_time": "2021-11-15T14:26:04.473Z"
   },
   {
    "duration": 43,
    "start_time": "2021-11-15T14:26:04.481Z"
   },
   {
    "duration": 19,
    "start_time": "2021-11-15T14:26:04.527Z"
   },
   {
    "duration": 25,
    "start_time": "2021-11-15T14:26:04.568Z"
   },
   {
    "duration": 18,
    "start_time": "2021-11-15T14:26:04.595Z"
   },
   {
    "duration": 12,
    "start_time": "2021-11-15T14:26:04.615Z"
   },
   {
    "duration": 7,
    "start_time": "2021-11-15T14:26:04.668Z"
   },
   {
    "duration": 15,
    "start_time": "2021-11-15T14:26:04.678Z"
   },
   {
    "duration": 14,
    "start_time": "2021-11-15T14:26:04.697Z"
   },
   {
    "duration": 553,
    "start_time": "2021-11-15T14:37:53.904Z"
   },
   {
    "duration": 132,
    "start_time": "2021-11-15T14:37:54.459Z"
   },
   {
    "duration": 15,
    "start_time": "2021-11-15T14:37:54.593Z"
   },
   {
    "duration": 26,
    "start_time": "2021-11-15T14:37:54.610Z"
   },
   {
    "duration": 4,
    "start_time": "2021-11-15T14:37:54.638Z"
   },
   {
    "duration": 20,
    "start_time": "2021-11-15T14:37:54.644Z"
   },
   {
    "duration": 23,
    "start_time": "2021-11-15T14:37:54.666Z"
   },
   {
    "duration": 21,
    "start_time": "2021-11-15T14:37:54.691Z"
   },
   {
    "duration": 15,
    "start_time": "2021-11-15T14:37:54.714Z"
   },
   {
    "duration": 19,
    "start_time": "2021-11-15T14:37:54.731Z"
   },
   {
    "duration": 77,
    "start_time": "2021-11-15T14:37:54.752Z"
   },
   {
    "duration": 64,
    "start_time": "2021-11-15T14:37:54.831Z"
   },
   {
    "duration": 45,
    "start_time": "2021-11-15T14:37:54.897Z"
   },
   {
    "duration": 44,
    "start_time": "2021-11-15T14:37:54.944Z"
   },
   {
    "duration": 3,
    "start_time": "2021-11-15T14:37:54.990Z"
   },
   {
    "duration": 16,
    "start_time": "2021-11-15T14:37:54.994Z"
   },
   {
    "duration": 42,
    "start_time": "2021-11-15T14:37:55.012Z"
   },
   {
    "duration": 7,
    "start_time": "2021-11-15T14:37:55.055Z"
   },
   {
    "duration": 49,
    "start_time": "2021-11-15T14:37:55.064Z"
   },
   {
    "duration": 10,
    "start_time": "2021-11-15T14:37:55.114Z"
   },
   {
    "duration": 12,
    "start_time": "2021-11-15T14:37:55.126Z"
   },
   {
    "duration": 2,
    "start_time": "2021-11-15T14:37:55.140Z"
   },
   {
    "duration": 19,
    "start_time": "2021-11-15T14:37:55.145Z"
   },
   {
    "duration": 29,
    "start_time": "2021-11-15T14:37:55.165Z"
   },
   {
    "duration": 14,
    "start_time": "2021-11-15T14:37:55.195Z"
   },
   {
    "duration": 12,
    "start_time": "2021-11-15T14:37:55.211Z"
   },
   {
    "duration": 14,
    "start_time": "2021-11-15T14:37:55.224Z"
   },
   {
    "duration": 12,
    "start_time": "2021-11-15T14:37:55.239Z"
   },
   {
    "duration": 37,
    "start_time": "2021-11-15T14:37:55.252Z"
   },
   {
    "duration": 18,
    "start_time": "2021-11-15T14:37:55.291Z"
   },
   {
    "duration": 14,
    "start_time": "2021-11-15T14:37:55.310Z"
   },
   {
    "duration": 3,
    "start_time": "2021-11-15T14:37:55.326Z"
   },
   {
    "duration": 24,
    "start_time": "2021-11-15T14:37:55.330Z"
   },
   {
    "duration": 34,
    "start_time": "2021-11-15T14:37:55.355Z"
   },
   {
    "duration": 16,
    "start_time": "2021-11-15T14:37:55.390Z"
   },
   {
    "duration": 11,
    "start_time": "2021-11-15T14:37:55.408Z"
   },
   {
    "duration": 10,
    "start_time": "2021-11-15T14:37:55.421Z"
   },
   {
    "duration": 6,
    "start_time": "2021-11-15T14:37:55.433Z"
   },
   {
    "duration": 10,
    "start_time": "2021-11-15T14:37:55.441Z"
   },
   {
    "duration": 6,
    "start_time": "2021-11-15T14:37:55.487Z"
   },
   {
    "duration": 97,
    "start_time": "2021-11-15T14:40:52.367Z"
   },
   {
    "duration": 4,
    "start_time": "2021-11-15T14:41:45.131Z"
   },
   {
    "duration": 18,
    "start_time": "2021-11-15T14:41:49.040Z"
   },
   {
    "duration": 581,
    "start_time": "2021-11-15T14:41:54.586Z"
   },
   {
    "duration": 128,
    "start_time": "2021-11-15T14:41:55.168Z"
   },
   {
    "duration": 15,
    "start_time": "2021-11-15T14:41:55.298Z"
   },
   {
    "duration": 24,
    "start_time": "2021-11-15T14:41:55.315Z"
   },
   {
    "duration": 4,
    "start_time": "2021-11-15T14:41:55.341Z"
   },
   {
    "duration": 46,
    "start_time": "2021-11-15T14:41:55.347Z"
   },
   {
    "duration": 4,
    "start_time": "2021-11-15T14:41:55.394Z"
   },
   {
    "duration": 24,
    "start_time": "2021-11-15T14:41:55.402Z"
   },
   {
    "duration": 17,
    "start_time": "2021-11-15T14:41:55.428Z"
   },
   {
    "duration": 43,
    "start_time": "2021-11-15T14:41:55.447Z"
   },
   {
    "duration": 53,
    "start_time": "2021-11-15T14:41:55.492Z"
   },
   {
    "duration": 67,
    "start_time": "2021-11-15T14:41:55.547Z"
   },
   {
    "duration": 46,
    "start_time": "2021-11-15T14:41:55.615Z"
   },
   {
    "duration": 45,
    "start_time": "2021-11-15T14:41:55.663Z"
   },
   {
    "duration": 3,
    "start_time": "2021-11-15T14:41:55.710Z"
   },
   {
    "duration": 10,
    "start_time": "2021-11-15T14:41:55.714Z"
   },
   {
    "duration": 37,
    "start_time": "2021-11-15T14:41:55.726Z"
   },
   {
    "duration": 28,
    "start_time": "2021-11-15T14:41:55.764Z"
   },
   {
    "duration": 38,
    "start_time": "2021-11-15T14:41:55.793Z"
   },
   {
    "duration": 10,
    "start_time": "2021-11-15T14:41:55.833Z"
   },
   {
    "duration": 9,
    "start_time": "2021-11-15T14:41:55.844Z"
   },
   {
    "duration": 3,
    "start_time": "2021-11-15T14:41:55.854Z"
   },
   {
    "duration": 42,
    "start_time": "2021-11-15T14:41:55.860Z"
   },
   {
    "duration": 13,
    "start_time": "2021-11-15T14:41:55.904Z"
   },
   {
    "duration": 14,
    "start_time": "2021-11-15T14:41:55.918Z"
   },
   {
    "duration": 13,
    "start_time": "2021-11-15T14:41:55.933Z"
   },
   {
    "duration": 42,
    "start_time": "2021-11-15T14:41:55.947Z"
   },
   {
    "duration": 14,
    "start_time": "2021-11-15T14:41:55.990Z"
   },
   {
    "duration": 7,
    "start_time": "2021-11-15T14:41:56.006Z"
   },
   {
    "duration": 17,
    "start_time": "2021-11-15T14:41:56.015Z"
   },
   {
    "duration": 14,
    "start_time": "2021-11-15T14:41:56.034Z"
   },
   {
    "duration": 4,
    "start_time": "2021-11-15T14:41:56.049Z"
   },
   {
    "duration": 46,
    "start_time": "2021-11-15T14:41:56.054Z"
   },
   {
    "duration": 12,
    "start_time": "2021-11-15T14:41:56.102Z"
   },
   {
    "duration": 17,
    "start_time": "2021-11-15T14:41:56.115Z"
   },
   {
    "duration": 10,
    "start_time": "2021-11-15T14:41:56.134Z"
   },
   {
    "duration": 7,
    "start_time": "2021-11-15T14:41:56.146Z"
   },
   {
    "duration": 34,
    "start_time": "2021-11-15T14:41:56.154Z"
   },
   {
    "duration": 8,
    "start_time": "2021-11-15T14:41:56.190Z"
   },
   {
    "duration": 11,
    "start_time": "2021-11-15T14:41:56.199Z"
   },
   {
    "duration": 82,
    "start_time": "2021-11-15T14:42:52.159Z"
   },
   {
    "duration": 550,
    "start_time": "2021-11-15T14:43:05.092Z"
   },
   {
    "duration": 123,
    "start_time": "2021-11-15T14:43:05.643Z"
   },
   {
    "duration": 15,
    "start_time": "2021-11-15T14:43:05.768Z"
   },
   {
    "duration": 22,
    "start_time": "2021-11-15T14:43:05.788Z"
   },
   {
    "duration": 17,
    "start_time": "2021-11-15T14:43:05.811Z"
   },
   {
    "duration": 27,
    "start_time": "2021-11-15T14:43:05.829Z"
   },
   {
    "duration": 5,
    "start_time": "2021-11-15T14:43:05.858Z"
   },
   {
    "duration": 26,
    "start_time": "2021-11-15T14:43:05.865Z"
   },
   {
    "duration": 15,
    "start_time": "2021-11-15T14:43:05.894Z"
   },
   {
    "duration": 20,
    "start_time": "2021-11-15T14:43:05.911Z"
   },
   {
    "duration": 61,
    "start_time": "2021-11-15T14:43:05.932Z"
   },
   {
    "duration": 55,
    "start_time": "2021-11-15T14:43:05.995Z"
   },
   {
    "duration": 56,
    "start_time": "2021-11-15T14:43:06.052Z"
   },
   {
    "duration": 35,
    "start_time": "2021-11-15T14:43:06.110Z"
   },
   {
    "duration": 12,
    "start_time": "2021-11-15T14:43:06.146Z"
   },
   {
    "duration": 14,
    "start_time": "2021-11-15T14:43:06.160Z"
   },
   {
    "duration": 35,
    "start_time": "2021-11-15T14:43:06.175Z"
   },
   {
    "duration": 7,
    "start_time": "2021-11-15T14:43:06.212Z"
   },
   {
    "duration": 37,
    "start_time": "2021-11-15T14:43:06.220Z"
   },
   {
    "duration": 10,
    "start_time": "2021-11-15T14:43:06.258Z"
   },
   {
    "duration": 24,
    "start_time": "2021-11-15T14:43:06.270Z"
   },
   {
    "duration": 3,
    "start_time": "2021-11-15T14:43:06.295Z"
   },
   {
    "duration": 22,
    "start_time": "2021-11-15T14:43:06.300Z"
   },
   {
    "duration": 16,
    "start_time": "2021-11-15T14:43:06.324Z"
   },
   {
    "duration": 22,
    "start_time": "2021-11-15T14:43:06.341Z"
   },
   {
    "duration": 17,
    "start_time": "2021-11-15T14:43:06.364Z"
   },
   {
    "duration": 19,
    "start_time": "2021-11-15T14:43:06.384Z"
   },
   {
    "duration": 12,
    "start_time": "2021-11-15T14:43:06.405Z"
   },
   {
    "duration": 8,
    "start_time": "2021-11-15T14:43:06.418Z"
   },
   {
    "duration": 21,
    "start_time": "2021-11-15T14:43:06.428Z"
   },
   {
    "duration": 17,
    "start_time": "2021-11-15T14:43:06.450Z"
   },
   {
    "duration": 20,
    "start_time": "2021-11-15T14:43:06.469Z"
   },
   {
    "duration": 34,
    "start_time": "2021-11-15T14:43:06.491Z"
   },
   {
    "duration": 28,
    "start_time": "2021-11-15T14:43:06.526Z"
   },
   {
    "duration": 40,
    "start_time": "2021-11-15T14:43:06.556Z"
   },
   {
    "duration": 33,
    "start_time": "2021-11-15T14:43:06.597Z"
   },
   {
    "duration": 24,
    "start_time": "2021-11-15T14:43:06.632Z"
   },
   {
    "duration": 19,
    "start_time": "2021-11-15T14:43:06.657Z"
   },
   {
    "duration": 26,
    "start_time": "2021-11-15T14:43:06.677Z"
   },
   {
    "duration": 43,
    "start_time": "2021-11-15T14:43:06.704Z"
   }
  ],
  "colab": {
   "collapsed_sections": [
    "E0vqbgi9ay0H",
    "VUC88oWjTJw2"
   ],
   "name": "yandex_music_project_2021.2.ipynb",
   "provenance": []
  },
  "kernelspec": {
   "display_name": "Python 3 (ipykernel)",
   "language": "python",
   "name": "python3"
  },
  "language_info": {
   "codemirror_mode": {
    "name": "ipython",
    "version": 3
   },
   "file_extension": ".py",
   "mimetype": "text/x-python",
   "name": "python",
   "nbconvert_exporter": "python",
   "pygments_lexer": "ipython3",
   "version": "3.9.5"
  },
  "toc": {
   "base_numbering": 1,
   "nav_menu": {},
   "number_sections": true,
   "sideBar": true,
   "skip_h1_title": true,
   "title_cell": "Table of Contents",
   "title_sidebar": "Contents",
   "toc_cell": false,
   "toc_position": {
    "height": "calc(100% - 180px)",
    "left": "10px",
    "top": "150px",
    "width": "165px"
   },
   "toc_section_display": true,
   "toc_window_display": true
  }
 },
 "nbformat": 4,
 "nbformat_minor": 1
}
