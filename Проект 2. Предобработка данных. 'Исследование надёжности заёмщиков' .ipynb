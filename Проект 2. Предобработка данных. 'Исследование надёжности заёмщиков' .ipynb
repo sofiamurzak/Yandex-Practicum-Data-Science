{
 "cells": [
  {
   "cell_type": "code",
   "execution_count": null,
   "metadata": {
    "cellId": "kg37awwdkxpzeamhbbn0h"
   },
   "outputs": [],
   "source": [
    "%pip install -q -r requirements.txt"
   ]
  },
  {
   "cell_type": "markdown",
   "metadata": {},
   "source": [
    "<div class=\"alert alert-info\">\n",
    "<b>Комментарий студента:</b> Спасибо за ревью! Я рада, что вам понравилось, как я выполнила проект. Есть у меня пара вопросов: \n",
    "    1. В чате у нас было очень много споров, как обрабатывать аномальные значения в колонке dob_years, получается, что некоторые пенсионеры работают с 7 лет. Какое решение будет правильным в отношении таких данных? При условии, что разработчики не могут дать ответ о корректности данных. \n",
    "    2. Сводные таблицы дают визуальное представление о зависимости переменных (смотрим, что в одной категории 9% должников, в другой 10%, и решаем что зависимость имеется). Но на практике ведь так просто гипотезы подтвердить не получится? Необходимы более глубокие методы проверки зависимости, если да, то какие?  \n",
    "    \n",
    "Можно вместе с ответами на вопросы принять работу :) Спасибо!\n",
    "<br>\n",
    "</div>"
   ]
  },
  {
   "cell_type": "markdown",
   "metadata": {},
   "source": [
    "<div class=\"alert alert-success\">\n",
    "<b>✔️ Комментарий ревьюера v2:</b>\n",
    "<br>1. Однозначный ответ который подойдёт для любой ситуации тут дать нельзя. Я могу дать лишь несколько советов:\n",
    "<br>-Нужно смотреть на количество этих данных. Если их меньше 1%, то их можно удалить, если нет возможности как-то адекватно их обработать\n",
    "<br>-Если уточнить этот момент у того, кто предоставил эти данные возможности нет, а таких значений достаточно много, то можно всех подозрительных клиентов выделить в отдельную группу и сделать расчет с учетом их и без.    \n",
    "<br>-Также вполне может быть, что некоторые из этих клиентов военнослужащие, которые рано вышли на пенсию, или же инвалиды, которые получают пенсию по инвалидности. \n",
    "\n",
    "<br>2. На зависимость между двумя переменными можно посмотреть с помощью корреляции. Если переменных много, то здесь уже поможет матрица корреляция. Это будет нужно в проекте №3. Для проверки гипотез используются статистические методы, которые вы будете применять в проекте №4. \n",
    "       \n",
    "<br>Надеюсь, я смог ответить на твои вопросы) Желаю удачи в дальнейшем обучении!  \n",
    "</div>"
   ]
  },
  {
   "cell_type": "markdown",
   "metadata": {
    "cellId": "t1c4wam07doj74fhz2vfr"
   },
   "source": [
    "# Исследование надёжности заёмщиков\n",
    "\n",
    "Заказчик — кредитный отдел банка. Нужно разобраться, влияет ли семейное положение и количество детей клиента на факт погашения кредита в срок. Входные данные от банка — статистика о платёжеспособности клиентов.\n",
    "\n",
    "Результаты исследования будут учтены при построении модели **кредитного скоринга** — специальной системы, которая оценивает способность потенциального заёмщика вернуть кредит банку.\n",
    "\n",
    "### Цель исследования \n",
    "Цель исселдования заключается в проверке гипотез:\n",
    "1. Существует зависимость между наличием детей и возвратом кредита в срок;\n",
    "2. Существует зависимость между семейным положением и возвратом кредита в срок;\n",
    "3. Существует зависимость между уровнем дохода и возвратом кредита в срок;\n",
    "4. Разные цели кредита влияют на его возврат в срок.\n",
    "\n",
    "### Ход исследования \n",
    "Исследование пройдет в три этапа:\n",
    "1. Обзор данных;\n",
    "2. Предобработка данных;\n",
    "3. Проверка гипотез.\n"
   ]
  },
  {
   "cell_type": "markdown",
   "metadata": {
    "cellId": "ixz0t4va3owtov3aml4ee"
   },
   "source": [
    "## Шаг 1. Откройте файл с данными и изучите общую информацию"
   ]
  },
  {
   "cell_type": "code",
   "execution_count": 2,
   "metadata": {
    "cellId": "cx6fp4wfjnibtjhyksbln"
   },
   "outputs": [
    {
     "data": {
      "text/html": [
       "<div>\n",
       "<style scoped>\n",
       "    .dataframe tbody tr th:only-of-type {\n",
       "        vertical-align: middle;\n",
       "    }\n",
       "\n",
       "    .dataframe tbody tr th {\n",
       "        vertical-align: top;\n",
       "    }\n",
       "\n",
       "    .dataframe thead th {\n",
       "        text-align: right;\n",
       "    }\n",
       "</style>\n",
       "<table border=\"1\" class=\"dataframe\">\n",
       "  <thead>\n",
       "    <tr style=\"text-align: right;\">\n",
       "      <th></th>\n",
       "      <th>children</th>\n",
       "      <th>days_employed</th>\n",
       "      <th>dob_years</th>\n",
       "      <th>education</th>\n",
       "      <th>education_id</th>\n",
       "      <th>family_status</th>\n",
       "      <th>family_status_id</th>\n",
       "      <th>gender</th>\n",
       "      <th>income_type</th>\n",
       "      <th>debt</th>\n",
       "      <th>total_income</th>\n",
       "      <th>purpose</th>\n",
       "    </tr>\n",
       "  </thead>\n",
       "  <tbody>\n",
       "    <tr>\n",
       "      <td>0</td>\n",
       "      <td>1</td>\n",
       "      <td>-8437.673028</td>\n",
       "      <td>42</td>\n",
       "      <td>высшее</td>\n",
       "      <td>0</td>\n",
       "      <td>женат / замужем</td>\n",
       "      <td>0</td>\n",
       "      <td>F</td>\n",
       "      <td>сотрудник</td>\n",
       "      <td>0</td>\n",
       "      <td>253875.639453</td>\n",
       "      <td>покупка жилья</td>\n",
       "    </tr>\n",
       "    <tr>\n",
       "      <td>1</td>\n",
       "      <td>1</td>\n",
       "      <td>-4024.803754</td>\n",
       "      <td>36</td>\n",
       "      <td>среднее</td>\n",
       "      <td>1</td>\n",
       "      <td>женат / замужем</td>\n",
       "      <td>0</td>\n",
       "      <td>F</td>\n",
       "      <td>сотрудник</td>\n",
       "      <td>0</td>\n",
       "      <td>112080.014102</td>\n",
       "      <td>приобретение автомобиля</td>\n",
       "    </tr>\n",
       "    <tr>\n",
       "      <td>2</td>\n",
       "      <td>0</td>\n",
       "      <td>-5623.422610</td>\n",
       "      <td>33</td>\n",
       "      <td>Среднее</td>\n",
       "      <td>1</td>\n",
       "      <td>женат / замужем</td>\n",
       "      <td>0</td>\n",
       "      <td>M</td>\n",
       "      <td>сотрудник</td>\n",
       "      <td>0</td>\n",
       "      <td>145885.952297</td>\n",
       "      <td>покупка жилья</td>\n",
       "    </tr>\n",
       "    <tr>\n",
       "      <td>3</td>\n",
       "      <td>3</td>\n",
       "      <td>-4124.747207</td>\n",
       "      <td>32</td>\n",
       "      <td>среднее</td>\n",
       "      <td>1</td>\n",
       "      <td>женат / замужем</td>\n",
       "      <td>0</td>\n",
       "      <td>M</td>\n",
       "      <td>сотрудник</td>\n",
       "      <td>0</td>\n",
       "      <td>267628.550329</td>\n",
       "      <td>дополнительное образование</td>\n",
       "    </tr>\n",
       "    <tr>\n",
       "      <td>4</td>\n",
       "      <td>0</td>\n",
       "      <td>340266.072047</td>\n",
       "      <td>53</td>\n",
       "      <td>среднее</td>\n",
       "      <td>1</td>\n",
       "      <td>гражданский брак</td>\n",
       "      <td>1</td>\n",
       "      <td>F</td>\n",
       "      <td>пенсионер</td>\n",
       "      <td>0</td>\n",
       "      <td>158616.077870</td>\n",
       "      <td>сыграть свадьбу</td>\n",
       "    </tr>\n",
       "    <tr>\n",
       "      <td>5</td>\n",
       "      <td>0</td>\n",
       "      <td>-926.185831</td>\n",
       "      <td>27</td>\n",
       "      <td>высшее</td>\n",
       "      <td>0</td>\n",
       "      <td>гражданский брак</td>\n",
       "      <td>1</td>\n",
       "      <td>M</td>\n",
       "      <td>компаньон</td>\n",
       "      <td>0</td>\n",
       "      <td>255763.565419</td>\n",
       "      <td>покупка жилья</td>\n",
       "    </tr>\n",
       "    <tr>\n",
       "      <td>6</td>\n",
       "      <td>0</td>\n",
       "      <td>-2879.202052</td>\n",
       "      <td>43</td>\n",
       "      <td>высшее</td>\n",
       "      <td>0</td>\n",
       "      <td>женат / замужем</td>\n",
       "      <td>0</td>\n",
       "      <td>F</td>\n",
       "      <td>компаньон</td>\n",
       "      <td>0</td>\n",
       "      <td>240525.971920</td>\n",
       "      <td>операции с жильем</td>\n",
       "    </tr>\n",
       "    <tr>\n",
       "      <td>7</td>\n",
       "      <td>0</td>\n",
       "      <td>-152.779569</td>\n",
       "      <td>50</td>\n",
       "      <td>СРЕДНЕЕ</td>\n",
       "      <td>1</td>\n",
       "      <td>женат / замужем</td>\n",
       "      <td>0</td>\n",
       "      <td>M</td>\n",
       "      <td>сотрудник</td>\n",
       "      <td>0</td>\n",
       "      <td>135823.934197</td>\n",
       "      <td>образование</td>\n",
       "    </tr>\n",
       "    <tr>\n",
       "      <td>8</td>\n",
       "      <td>2</td>\n",
       "      <td>-6929.865299</td>\n",
       "      <td>35</td>\n",
       "      <td>ВЫСШЕЕ</td>\n",
       "      <td>0</td>\n",
       "      <td>гражданский брак</td>\n",
       "      <td>1</td>\n",
       "      <td>F</td>\n",
       "      <td>сотрудник</td>\n",
       "      <td>0</td>\n",
       "      <td>95856.832424</td>\n",
       "      <td>на проведение свадьбы</td>\n",
       "    </tr>\n",
       "    <tr>\n",
       "      <td>9</td>\n",
       "      <td>0</td>\n",
       "      <td>-2188.756445</td>\n",
       "      <td>41</td>\n",
       "      <td>среднее</td>\n",
       "      <td>1</td>\n",
       "      <td>женат / замужем</td>\n",
       "      <td>0</td>\n",
       "      <td>M</td>\n",
       "      <td>сотрудник</td>\n",
       "      <td>0</td>\n",
       "      <td>144425.938277</td>\n",
       "      <td>покупка жилья для семьи</td>\n",
       "    </tr>\n",
       "  </tbody>\n",
       "</table>\n",
       "</div>"
      ],
      "text/plain": [
       "   children  days_employed  dob_years education  education_id  \\\n",
       "0         1   -8437.673028         42    высшее             0   \n",
       "1         1   -4024.803754         36   среднее             1   \n",
       "2         0   -5623.422610         33   Среднее             1   \n",
       "3         3   -4124.747207         32   среднее             1   \n",
       "4         0  340266.072047         53   среднее             1   \n",
       "5         0    -926.185831         27    высшее             0   \n",
       "6         0   -2879.202052         43    высшее             0   \n",
       "7         0    -152.779569         50   СРЕДНЕЕ             1   \n",
       "8         2   -6929.865299         35    ВЫСШЕЕ             0   \n",
       "9         0   -2188.756445         41   среднее             1   \n",
       "\n",
       "      family_status  family_status_id gender income_type  debt   total_income  \\\n",
       "0   женат / замужем                 0      F   сотрудник     0  253875.639453   \n",
       "1   женат / замужем                 0      F   сотрудник     0  112080.014102   \n",
       "2   женат / замужем                 0      M   сотрудник     0  145885.952297   \n",
       "3   женат / замужем                 0      M   сотрудник     0  267628.550329   \n",
       "4  гражданский брак                 1      F   пенсионер     0  158616.077870   \n",
       "5  гражданский брак                 1      M   компаньон     0  255763.565419   \n",
       "6   женат / замужем                 0      F   компаньон     0  240525.971920   \n",
       "7   женат / замужем                 0      M   сотрудник     0  135823.934197   \n",
       "8  гражданский брак                 1      F   сотрудник     0   95856.832424   \n",
       "9   женат / замужем                 0      M   сотрудник     0  144425.938277   \n",
       "\n",
       "                      purpose  \n",
       "0               покупка жилья  \n",
       "1     приобретение автомобиля  \n",
       "2               покупка жилья  \n",
       "3  дополнительное образование  \n",
       "4             сыграть свадьбу  \n",
       "5               покупка жилья  \n",
       "6           операции с жильем  \n",
       "7                 образование  \n",
       "8       на проведение свадьбы  \n",
       "9     покупка жилья для семьи  "
      ]
     },
     "metadata": {},
     "output_type": "display_data"
    },
    {
     "name": "stdout",
     "output_type": "stream",
     "text": [
      "<class 'pandas.core.frame.DataFrame'>\n",
      "RangeIndex: 21525 entries, 0 to 21524\n",
      "Data columns (total 12 columns):\n",
      "children            21525 non-null int64\n",
      "days_employed       19351 non-null float64\n",
      "dob_years           21525 non-null int64\n",
      "education           21525 non-null object\n",
      "education_id        21525 non-null int64\n",
      "family_status       21525 non-null object\n",
      "family_status_id    21525 non-null int64\n",
      "gender              21525 non-null object\n",
      "income_type         21525 non-null object\n",
      "debt                21525 non-null int64\n",
      "total_income        19351 non-null float64\n",
      "purpose             21525 non-null object\n",
      "dtypes: float64(2), int64(5), object(5)\n",
      "memory usage: 2.0+ MB\n"
     ]
    }
   ],
   "source": [
    "import pandas as pd\n",
    "#data = pd.read_csv('data.csv')\n",
    "#я закомментирую твой код, чтобы я смог загрузить датасет\n",
    "data = pd.read_csv('/datasets/data.csv')\n",
    "display(data.head(10))\n",
    "data.info()"
   ]
  },
  {
   "cell_type": "markdown",
   "metadata": {
    "cellId": "v13kx20ck2i29nym1e8745"
   },
   "source": [
    "Итак, в таблице 12 столбцов с данными:\n",
    "\n",
    "- children — количество детей в семье\n",
    "- days_employed — общий трудовой стаж в днях\n",
    "- dob_years — возраст клиента в годах\n",
    "- education — уровень образования клиента\n",
    "- education_id — идентификатор уровня образования\n",
    "- family_status — семейное положение\n",
    "- family_status_id — идентификатор семейного положения\n",
    "- gender — пол клиента\n",
    "- income_type — тип занятости\n",
    "- debt — имел ли задолженность по возврату кредитов\n",
    "- total_income — ежемесячный доход\n",
    "- purpose — цель получения кредита\n",
    "\n",
    "Количество значений в столбцах различается, значит есть пропущенные значения."
   ]
  },
  {
   "cell_type": "markdown",
   "metadata": {
    "cellId": "ewrjvgirsud3at4ab3dx6n"
   },
   "source": [
    "### Вывод\n",
    "Каждая строка таблицы с данными содержит данные о человеке, который желает получить кредит в банке. Некоторые столбцы указывают на семейное положение клиента, некоторые на его уровень образования и дохода, а так же на данные о предыдущем опыте получения кредита и цели получения кредита. Предварительно можно утверждать, что данных в таблице достаточно для проверки гипотез, однако были замечены пропущенные значения в некоторых колонках, а так же ошибки написания в данных внутри столбцов (ошибочно проставленные знаки минуса, написание строковых данных нестрочными буквами). Для проверки гипотез, необходимо устранить ошибки в данных."
   ]
  },
  {
   "cell_type": "markdown",
   "metadata": {},
   "source": [
    "<div class=\"alert alert-success\">\n",
    "<b>✔️ Комментарий ревьюера:</b> \n",
    "<br>Всё верно! С выводами согласен:\n",
    "</div>\n",
    "\n",
    "<div class=\"alert alert-warning\">\n",
    "<b>⚠️ Комментарий ревьюера:</b> \n",
    "<br>Что можно обнаружить ещё:    \n",
    "<br>- столбец children - выбросы (20 детей)\n",
    "<br>- столбец days_employed - выбросы, неправильный тип данных\n",
    "<br>- столбец gender - содержит артефакт\n",
    "<br>- столбец total_income - неправильный тип данных\n",
    "<br>- столбец purpose - много аналогичных формулировок, которые можно категоризировать\n",
    "<br>Подумай также о возможных причинах появления пропусков, а также о том, являются ли они случайными или нет.\n",
    "<br>Во время первичного анализа данных, часто может помочь метод describe(). Он покажет тебе min/mean/max значения в каждом столбце и многое другое)\n",
    "</div>"
   ]
  },
  {
   "cell_type": "markdown",
   "metadata": {
    "cellId": "11ae1fy077kqxh6o64vjyn"
   },
   "source": [
    "## Шаг 2. Предобработка данных"
   ]
  },
  {
   "cell_type": "markdown",
   "metadata": {
    "cellId": "ep7cnjxidzfv2mcg2toy8"
   },
   "source": [
    "### Обработка пропусков"
   ]
  },
  {
   "cell_type": "code",
   "execution_count": 3,
   "metadata": {
    "cellId": "ualfcniw8leqe2587i5if"
   },
   "outputs": [
    {
     "data": {
      "text/plain": [
       "children               0\n",
       "days_employed       2174\n",
       "dob_years              0\n",
       "education              0\n",
       "education_id           0\n",
       "family_status          0\n",
       "family_status_id       0\n",
       "gender                 0\n",
       "income_type            0\n",
       "debt                   0\n",
       "total_income        2174\n",
       "purpose                0\n",
       "dtype: int64"
      ]
     },
     "execution_count": 3,
     "metadata": {},
     "output_type": "execute_result"
    }
   ],
   "source": [
    "data.isna().sum()"
   ]
  },
  {
   "cell_type": "markdown",
   "metadata": {
    "cellId": "ozg3ktbeqjo8d566vlgif"
   },
   "source": [
    "Пропуски замечены в двух столбцах - days_employed и total_income. Пропуски значений в этих столбцах могут помешать исследованию. На практике было бы правильно установить причину пропусков у разработчиков, но такой возможности нет, поэтому я предлагаю вместо пропущенных значений в total_income и days_employed вставить медианное значение по столбцу в пределах группы, сформированной по income_type. Но сперва я хочу проверить, не попали ли в total_income по ошибке отрицательные значения. В days_employed попали, их я далее заменю на положительные значения."
   ]
  },
  {
   "cell_type": "markdown",
   "metadata": {},
   "source": [
    "<div class=\"alert alert-success\">\n",
    "<b>✔️ Комментарий ревьюера:</b> \n",
    "<br>Согласен с твоей аргументацией!\n",
    "</div>"
   ]
  },
  {
   "cell_type": "code",
   "execution_count": 4,
   "metadata": {
    "cellId": "7u6ybpamrtn95lsp55r06n"
   },
   "outputs": [
    {
     "data": {
      "text/html": [
       "<div>\n",
       "<style scoped>\n",
       "    .dataframe tbody tr th:only-of-type {\n",
       "        vertical-align: middle;\n",
       "    }\n",
       "\n",
       "    .dataframe tbody tr th {\n",
       "        vertical-align: top;\n",
       "    }\n",
       "\n",
       "    .dataframe thead th {\n",
       "        text-align: right;\n",
       "    }\n",
       "</style>\n",
       "<table border=\"1\" class=\"dataframe\">\n",
       "  <thead>\n",
       "    <tr style=\"text-align: right;\">\n",
       "      <th></th>\n",
       "      <th>children</th>\n",
       "      <th>days_employed</th>\n",
       "      <th>dob_years</th>\n",
       "      <th>education</th>\n",
       "      <th>education_id</th>\n",
       "      <th>family_status</th>\n",
       "      <th>family_status_id</th>\n",
       "      <th>gender</th>\n",
       "      <th>income_type</th>\n",
       "      <th>debt</th>\n",
       "      <th>total_income</th>\n",
       "      <th>purpose</th>\n",
       "    </tr>\n",
       "  </thead>\n",
       "  <tbody>\n",
       "    <tr>\n",
       "      <td>14585</td>\n",
       "      <td>0</td>\n",
       "      <td>359219.059341</td>\n",
       "      <td>57</td>\n",
       "      <td>среднее</td>\n",
       "      <td>1</td>\n",
       "      <td>женат / замужем</td>\n",
       "      <td>0</td>\n",
       "      <td>F</td>\n",
       "      <td>пенсионер</td>\n",
       "      <td>1</td>\n",
       "      <td>20667.263793</td>\n",
       "      <td>недвижимость</td>\n",
       "    </tr>\n",
       "    <tr>\n",
       "      <td>13006</td>\n",
       "      <td>0</td>\n",
       "      <td>369708.589113</td>\n",
       "      <td>37</td>\n",
       "      <td>среднее</td>\n",
       "      <td>1</td>\n",
       "      <td>гражданский брак</td>\n",
       "      <td>1</td>\n",
       "      <td>M</td>\n",
       "      <td>пенсионер</td>\n",
       "      <td>0</td>\n",
       "      <td>21205.280566</td>\n",
       "      <td>заняться высшим образованием</td>\n",
       "    </tr>\n",
       "    <tr>\n",
       "      <td>16174</td>\n",
       "      <td>1</td>\n",
       "      <td>-3642.820023</td>\n",
       "      <td>52</td>\n",
       "      <td>Среднее</td>\n",
       "      <td>1</td>\n",
       "      <td>женат / замужем</td>\n",
       "      <td>0</td>\n",
       "      <td>M</td>\n",
       "      <td>сотрудник</td>\n",
       "      <td>0</td>\n",
       "      <td>21367.648356</td>\n",
       "      <td>приобретение автомобиля</td>\n",
       "    </tr>\n",
       "    <tr>\n",
       "      <td>1598</td>\n",
       "      <td>0</td>\n",
       "      <td>359726.104207</td>\n",
       "      <td>68</td>\n",
       "      <td>среднее</td>\n",
       "      <td>1</td>\n",
       "      <td>гражданский брак</td>\n",
       "      <td>1</td>\n",
       "      <td>M</td>\n",
       "      <td>пенсионер</td>\n",
       "      <td>0</td>\n",
       "      <td>21695.101789</td>\n",
       "      <td>на проведение свадьбы</td>\n",
       "    </tr>\n",
       "    <tr>\n",
       "      <td>14276</td>\n",
       "      <td>0</td>\n",
       "      <td>346602.453782</td>\n",
       "      <td>61</td>\n",
       "      <td>среднее</td>\n",
       "      <td>1</td>\n",
       "      <td>женат / замужем</td>\n",
       "      <td>0</td>\n",
       "      <td>F</td>\n",
       "      <td>пенсионер</td>\n",
       "      <td>0</td>\n",
       "      <td>21895.614355</td>\n",
       "      <td>недвижимость</td>\n",
       "    </tr>\n",
       "  </tbody>\n",
       "</table>\n",
       "</div>"
      ],
      "text/plain": [
       "       children  days_employed  dob_years education  education_id  \\\n",
       "14585         0  359219.059341         57   среднее             1   \n",
       "13006         0  369708.589113         37   среднее             1   \n",
       "16174         1   -3642.820023         52   Среднее             1   \n",
       "1598          0  359726.104207         68   среднее             1   \n",
       "14276         0  346602.453782         61   среднее             1   \n",
       "\n",
       "          family_status  family_status_id gender income_type  debt  \\\n",
       "14585   женат / замужем                 0      F   пенсионер     1   \n",
       "13006  гражданский брак                 1      M   пенсионер     0   \n",
       "16174   женат / замужем                 0      M   сотрудник     0   \n",
       "1598   гражданский брак                 1      M   пенсионер     0   \n",
       "14276   женат / замужем                 0      F   пенсионер     0   \n",
       "\n",
       "       total_income                       purpose  \n",
       "14585  20667.263793                  недвижимость  \n",
       "13006  21205.280566  заняться высшим образованием  \n",
       "16174  21367.648356       приобретение автомобиля  \n",
       "1598   21695.101789         на проведение свадьбы  \n",
       "14276  21895.614355                  недвижимость  "
      ]
     },
     "execution_count": 4,
     "metadata": {},
     "output_type": "execute_result"
    }
   ],
   "source": [
    "data.sort_values('total_income').head()"
   ]
  },
  {
   "cell_type": "markdown",
   "metadata": {
    "cellId": "5ihi8zoewio4cq6nqim4ho"
   },
   "source": [
    "Отрицательных значений нет, значит данные заполнены верно. Теперь я заменю отрицательные значения в days_employed на положительные значения функцией abs(). "
   ]
  },
  {
   "cell_type": "code",
   "execution_count": 5,
   "metadata": {
    "cellId": "aql41iaeka5amyrfijavta"
   },
   "outputs": [
    {
     "data": {
      "text/plain": [
       "0      8437.673028\n",
       "1      4024.803754\n",
       "2      5623.422610\n",
       "3      4124.747207\n",
       "4    340266.072047\n",
       "Name: days_employed, dtype: float64"
      ]
     },
     "execution_count": 5,
     "metadata": {},
     "output_type": "execute_result"
    }
   ],
   "source": [
    "data['days_employed'] = data['days_employed'].abs()\n",
    "data['days_employed'].head()"
   ]
  },
  {
   "cell_type": "markdown",
   "metadata": {},
   "source": [
    "<div class=\"alert alert-success\">\n",
    "<b>✔️ Комментарий ревьюера:</b> \n",
    "<br>Отличная работа! Хоть этот столбец нам и не нужен для ответа на итоговые вопросы, но круто, что ты всё равно решила с ним поработать.\n",
    "</div>"
   ]
  },
  {
   "cell_type": "markdown",
   "metadata": {
    "cellId": "wwxs6vrp1yzyx802997u"
   },
   "source": [
    "Заменяю пропуски в total_income на медианное значение ежемесячного дохода внутри группы, сформированной в зависимости от income_type. Так же, заменяю пропуски в days_employed на медианное значение ежемесячного дохода внутри группы, сформированной в зависимости от income_type. Снова проверяю количество пропущенных значений в датафрейме."
   ]
  },
  {
   "cell_type": "code",
   "execution_count": 6,
   "metadata": {
    "cellId": "q16o0y6m6626w156xa8cr"
   },
   "outputs": [
    {
     "data": {
      "text/plain": [
       "children            0\n",
       "days_employed       0\n",
       "dob_years           0\n",
       "education           0\n",
       "education_id        0\n",
       "family_status       0\n",
       "family_status_id    0\n",
       "gender              0\n",
       "income_type         0\n",
       "debt                0\n",
       "total_income        0\n",
       "purpose             0\n",
       "dtype: int64"
      ]
     },
     "execution_count": 6,
     "metadata": {},
     "output_type": "execute_result"
    }
   ],
   "source": [
    "\n",
    "data['total_income'] = data['total_income'].fillna(data.groupby('income_type')['total_income'].transform('median'))\n",
    "\n",
    "data['days_employed'] = data['days_employed'].fillna(data.groupby('income_type')['days_employed'].transform('median'))\n",
    "data.isna().sum()\n"
   ]
  },
  {
   "cell_type": "markdown",
   "metadata": {
    "cellId": "ljpuggct332xta4udk60i"
   },
   "source": [
    "### Вывод\n",
    "Все пропуски обработаны, вместо пропущенных значений total_income вставлены медианные ежемесячные походы по типу группы."
   ]
  },
  {
   "cell_type": "markdown",
   "metadata": {},
   "source": [
    "<div class=\"alert alert-success\">\n",
    "<b>✔️ Комментарий ревьюера:</b> \n",
    "<br>То что нужно! Это самый правильный способ для замены пропусков в данном случае. \n",
    "</div>"
   ]
  },
  {
   "cell_type": "markdown",
   "metadata": {
    "cellId": "8ulzya4zv09jnz1xvnml5l"
   },
   "source": [
    "### Замена типа данных"
   ]
  },
  {
   "cell_type": "markdown",
   "metadata": {
    "cellId": "gd2filf9jplu279656d07"
   },
   "source": [
    "В таблице с данными значения трех столбцов (days_employed, total_income и dob_years) относятся к вещественным значениям. Я заменю days_employed и dob_years на целочисленные значения методом astype(), так как они предполагают целочисленные значения. Столбец total_income я оставлю неизменным, так как лучше иметь в нем более точные данные для дальнейших нахождения дубликатов и проверки гипотез."
   ]
  },
  {
   "cell_type": "code",
   "execution_count": 7,
   "metadata": {
    "cellId": "xoug8kstl5mg367gxbf3m"
   },
   "outputs": [
    {
     "name": "stdout",
     "output_type": "stream",
     "text": [
      "<class 'pandas.core.frame.DataFrame'>\n",
      "RangeIndex: 21525 entries, 0 to 21524\n",
      "Data columns (total 12 columns):\n",
      "children            21525 non-null int64\n",
      "days_employed       21525 non-null int64\n",
      "dob_years           21525 non-null int64\n",
      "education           21525 non-null object\n",
      "education_id        21525 non-null int64\n",
      "family_status       21525 non-null object\n",
      "family_status_id    21525 non-null int64\n",
      "gender              21525 non-null object\n",
      "income_type         21525 non-null object\n",
      "debt                21525 non-null int64\n",
      "total_income        21525 non-null float64\n",
      "purpose             21525 non-null object\n",
      "dtypes: float64(1), int64(6), object(5)\n",
      "memory usage: 2.0+ MB\n"
     ]
    }
   ],
   "source": [
    "data['days_employed'] = data['days_employed'].astype('int')\n",
    "data['dob_years'] = data['dob_years'].astype('int')\n",
    "data.info()"
   ]
  },
  {
   "cell_type": "markdown",
   "metadata": {},
   "source": [
    "<div class=\"alert alert-warning\">\n",
    "<b>⚠️ Комментарий ревьюера:</b> \n",
    "<br>Всё таки копейки нам погоды не сделают. Здесь можно даже разделить столбец total_income на 1000, чтобы сумма дохода была указана в тысячах.\n",
    "</div>"
   ]
  },
  {
   "cell_type": "markdown",
   "metadata": {
    "cellId": "2ijuarlxmh53jw5inc9miy"
   },
   "source": [
    "### Обработка дубликатов"
   ]
  },
  {
   "cell_type": "markdown",
   "metadata": {
    "cellId": "9e2101xrntp8t04cgm09px"
   },
   "source": [
    "Для того, чтобы корректно избавиться от дубликатов, необходимо проверить данные внутри каждого столбца, насколько адекватные значения внутри, нет ли отрицательных значений там, где их не может быть, а так же привести строковые переменные к единому типу написания (строчными буквами). \n",
    "Сперва, я проверяю колонку с количеством детей у клиента методом value_counts."
   ]
  },
  {
   "cell_type": "code",
   "execution_count": 8,
   "metadata": {
    "cellId": "0l23ml2602tk3fkq16a7gw7"
   },
   "outputs": [
    {
     "data": {
      "text/plain": [
       " 0     14149\n",
       " 1      4818\n",
       " 2      2055\n",
       " 3       330\n",
       " 20       76\n",
       "-1        47\n",
       " 4        41\n",
       " 5         9\n",
       "Name: children, dtype: int64"
      ]
     },
     "execution_count": 8,
     "metadata": {},
     "output_type": "execute_result"
    }
   ],
   "source": [
    "data['children'].value_counts()"
   ]
  },
  {
   "cell_type": "markdown",
   "metadata": {
    "cellId": "xnf3a3u6f6lvmi6tnt108"
   },
   "source": [
    "Количество детей не может быть отрицательным, поэтому необходимо заменить отрицательные значения на положительные. Двадцать детей у 76 клиентов - значение маловероятное, скорее всего это ошибка занесения в систему значений (человеческий фактор), поэтому я заменю количество детей с 20 на 2. Для замены этих двух ошибок буду использовать функцию."
   ]
  },
  {
   "cell_type": "markdown",
   "metadata": {},
   "source": [
    "<div class=\"alert alert-success\">\n",
    "<b>✔️ Комментарий ревьюера:</b> \n",
    "<br>Отлично! Отрицательные значения, скорее всего появились из-за простой опечатки. Заменить их положительным число - хорошее решение. Нам не важно в данном случае сколько детей у клиетов, важно их наличие, поэтому можно смело менять 20 на 2 как ты и сделала! 👏🏻👏🏻👏🏻\n",
    "</div>"
   ]
  },
  {
   "cell_type": "code",
   "execution_count": 9,
   "metadata": {
    "cellId": "hitcu5of3lcguspui02c7"
   },
   "outputs": [
    {
     "data": {
      "text/plain": [
       "0    14149\n",
       "1     4865\n",
       "2     2131\n",
       "3      330\n",
       "4       41\n",
       "5        9\n",
       "Name: children, dtype: int64"
      ]
     },
     "execution_count": 9,
     "metadata": {},
     "output_type": "execute_result"
    }
   ],
   "source": [
    "def children_correct(row):\n",
    "    children = row['children']\n",
    "    if children == 20:\n",
    "        return 2\n",
    "    if children <0:\n",
    "        return abs(children)\n",
    "    return children\n",
    "\n",
    "data['children'] = data.apply(children_correct, axis=1)\n",
    "data['children'].value_counts()"
   ]
  },
  {
   "cell_type": "markdown",
   "metadata": {
    "cellId": "7krd18rzb35oqr2o3jx2"
   },
   "source": [
    "Далее, я хочу проверить столбец dob_years (возраст клиента в годах), поэтому методом value_counts() я подсчитываю количество каждого значения в столбце, а методом sort_index сортирую в удобном мне порядке."
   ]
  },
  {
   "cell_type": "code",
   "execution_count": 10,
   "metadata": {
    "cellId": "54n2rzbnngokupwmej3z0e"
   },
   "outputs": [
    {
     "data": {
      "text/plain": [
       "0     101\n",
       "19     14\n",
       "20     51\n",
       "21    111\n",
       "22    183\n",
       "23    254\n",
       "24    264\n",
       "25    357\n",
       "26    408\n",
       "27    493\n",
       "28    503\n",
       "29    545\n",
       "30    540\n",
       "31    560\n",
       "32    510\n",
       "33    581\n",
       "34    603\n",
       "35    617\n",
       "36    555\n",
       "37    537\n",
       "38    598\n",
       "39    573\n",
       "40    609\n",
       "41    607\n",
       "42    597\n",
       "43    513\n",
       "44    547\n",
       "45    497\n",
       "46    475\n",
       "47    480\n",
       "48    538\n",
       "49    508\n",
       "50    514\n",
       "51    448\n",
       "52    484\n",
       "53    459\n",
       "54    479\n",
       "55    443\n",
       "56    487\n",
       "57    460\n",
       "58    461\n",
       "59    444\n",
       "60    377\n",
       "61    355\n",
       "62    352\n",
       "63    269\n",
       "64    265\n",
       "65    194\n",
       "66    183\n",
       "67    167\n",
       "68     99\n",
       "69     85\n",
       "70     65\n",
       "71     58\n",
       "72     33\n",
       "73      8\n",
       "74      6\n",
       "75      1\n",
       "Name: dob_years, dtype: int64"
      ]
     },
     "execution_count": 10,
     "metadata": {},
     "output_type": "execute_result"
    }
   ],
   "source": [
    "data['dob_years'].value_counts().sort_index()"
   ]
  },
  {
   "cell_type": "markdown",
   "metadata": {
    "cellId": "pydx89ppxo4xunpu8srml"
   },
   "source": [
    "Замечено больше сотни клиентов с возрастом 0, что свидетельствует об ошибке в занесении данных. Я решила заменить нулевые значения на медианный возраст внутри каждой группы, сформированной в зависимости от income_type. И выведу несколько строк датафрейма, отсортированного по возрасту клиента по возрастанию, чтобы посмотреть минимальный возраст клиента."
   ]
  },
  {
   "cell_type": "code",
   "execution_count": 11,
   "metadata": {
    "cellId": "b857pqyontjxxb0sexltbt"
   },
   "outputs": [
    {
     "data": {
      "text/html": [
       "<div>\n",
       "<style scoped>\n",
       "    .dataframe tbody tr th:only-of-type {\n",
       "        vertical-align: middle;\n",
       "    }\n",
       "\n",
       "    .dataframe tbody tr th {\n",
       "        vertical-align: top;\n",
       "    }\n",
       "\n",
       "    .dataframe thead th {\n",
       "        text-align: right;\n",
       "    }\n",
       "</style>\n",
       "<table border=\"1\" class=\"dataframe\">\n",
       "  <thead>\n",
       "    <tr style=\"text-align: right;\">\n",
       "      <th></th>\n",
       "      <th>children</th>\n",
       "      <th>days_employed</th>\n",
       "      <th>dob_years</th>\n",
       "      <th>education</th>\n",
       "      <th>education_id</th>\n",
       "      <th>family_status</th>\n",
       "      <th>family_status_id</th>\n",
       "      <th>gender</th>\n",
       "      <th>income_type</th>\n",
       "      <th>debt</th>\n",
       "      <th>total_income</th>\n",
       "      <th>purpose</th>\n",
       "    </tr>\n",
       "  </thead>\n",
       "  <tbody>\n",
       "    <tr>\n",
       "      <td>766</td>\n",
       "      <td>0</td>\n",
       "      <td>796</td>\n",
       "      <td>19.0</td>\n",
       "      <td>неоконченное высшее</td>\n",
       "      <td>2</td>\n",
       "      <td>женат / замужем</td>\n",
       "      <td>0</td>\n",
       "      <td>F</td>\n",
       "      <td>сотрудник</td>\n",
       "      <td>0</td>\n",
       "      <td>80812.147802</td>\n",
       "      <td>покупка жилья для сдачи</td>\n",
       "    </tr>\n",
       "    <tr>\n",
       "      <td>8316</td>\n",
       "      <td>0</td>\n",
       "      <td>556</td>\n",
       "      <td>19.0</td>\n",
       "      <td>среднее</td>\n",
       "      <td>1</td>\n",
       "      <td>Не женат / не замужем</td>\n",
       "      <td>4</td>\n",
       "      <td>F</td>\n",
       "      <td>сотрудник</td>\n",
       "      <td>0</td>\n",
       "      <td>68524.106035</td>\n",
       "      <td>высшее образование</td>\n",
       "    </tr>\n",
       "    <tr>\n",
       "      <td>4098</td>\n",
       "      <td>0</td>\n",
       "      <td>111</td>\n",
       "      <td>19.0</td>\n",
       "      <td>среднее</td>\n",
       "      <td>1</td>\n",
       "      <td>гражданский брак</td>\n",
       "      <td>1</td>\n",
       "      <td>M</td>\n",
       "      <td>компаньон</td>\n",
       "      <td>0</td>\n",
       "      <td>91876.754772</td>\n",
       "      <td>на проведение свадьбы</td>\n",
       "    </tr>\n",
       "    <tr>\n",
       "      <td>9218</td>\n",
       "      <td>0</td>\n",
       "      <td>322</td>\n",
       "      <td>19.0</td>\n",
       "      <td>среднее</td>\n",
       "      <td>1</td>\n",
       "      <td>гражданский брак</td>\n",
       "      <td>1</td>\n",
       "      <td>F</td>\n",
       "      <td>компаньон</td>\n",
       "      <td>0</td>\n",
       "      <td>103676.482282</td>\n",
       "      <td>сыграть свадьбу</td>\n",
       "    </tr>\n",
       "    <tr>\n",
       "      <td>10235</td>\n",
       "      <td>0</td>\n",
       "      <td>793</td>\n",
       "      <td>19.0</td>\n",
       "      <td>среднее</td>\n",
       "      <td>1</td>\n",
       "      <td>женат / замужем</td>\n",
       "      <td>0</td>\n",
       "      <td>F</td>\n",
       "      <td>сотрудник</td>\n",
       "      <td>0</td>\n",
       "      <td>131308.777259</td>\n",
       "      <td>ремонт жилью</td>\n",
       "    </tr>\n",
       "  </tbody>\n",
       "</table>\n",
       "</div>"
      ],
      "text/plain": [
       "       children  days_employed  dob_years            education  education_id  \\\n",
       "766           0            796       19.0  неоконченное высшее             2   \n",
       "8316          0            556       19.0              среднее             1   \n",
       "4098          0            111       19.0              среднее             1   \n",
       "9218          0            322       19.0              среднее             1   \n",
       "10235         0            793       19.0              среднее             1   \n",
       "\n",
       "               family_status  family_status_id gender income_type  debt  \\\n",
       "766          женат / замужем                 0      F   сотрудник     0   \n",
       "8316   Не женат / не замужем                 4      F   сотрудник     0   \n",
       "4098        гражданский брак                 1      M   компаньон     0   \n",
       "9218        гражданский брак                 1      F   компаньон     0   \n",
       "10235        женат / замужем                 0      F   сотрудник     0   \n",
       "\n",
       "        total_income                  purpose  \n",
       "766     80812.147802  покупка жилья для сдачи  \n",
       "8316    68524.106035       высшее образование  \n",
       "4098    91876.754772    на проведение свадьбы  \n",
       "9218   103676.482282          сыграть свадьбу  \n",
       "10235  131308.777259             ремонт жилью  "
      ]
     },
     "execution_count": 11,
     "metadata": {},
     "output_type": "execute_result"
    }
   ],
   "source": [
    "data['dob_years'] = data['dob_years'].replace(0,(data.groupby('income_type')['total_income'].transform('median')))\n",
    "data.sort_values('dob_years').head()"
   ]
  },
  {
   "cell_type": "markdown",
   "metadata": {},
   "source": [
    "<div class=\"alert alert-success\">\n",
    "<b>✔️ Комментарий ревьюера:</b> \n",
    "<br>Отлично! 👍\n",
    "</div>"
   ]
  },
  {
   "cell_type": "markdown",
   "metadata": {
    "cellId": "n92yg67ysbowjpgo44lxw"
   },
   "source": [
    "Далее, я посмотрю ошибки в написании строковых переменных в столбце education. Если есть ошибки в разнице регистра, то я приведу слова к единому виду (написание строчными буквами) методом lower(). Далее тот же путь я проделаю для столбца family_status."
   ]
  },
  {
   "cell_type": "code",
   "execution_count": 12,
   "metadata": {
    "cellId": "wc1ppxj12dkfeueo7gzlo"
   },
   "outputs": [
    {
     "data": {
      "text/plain": [
       "среднее                13750\n",
       "высшее                  4718\n",
       "СРЕДНЕЕ                  772\n",
       "Среднее                  711\n",
       "неоконченное высшее      668\n",
       "ВЫСШЕЕ                   274\n",
       "Высшее                   268\n",
       "начальное                250\n",
       "Неоконченное высшее       47\n",
       "НЕОКОНЧЕННОЕ ВЫСШЕЕ       29\n",
       "НАЧАЛЬНОЕ                 17\n",
       "Начальное                 15\n",
       "ученая степень             4\n",
       "УЧЕНАЯ СТЕПЕНЬ             1\n",
       "Ученая степень             1\n",
       "Name: education, dtype: int64"
      ]
     },
     "execution_count": 12,
     "metadata": {},
     "output_type": "execute_result"
    }
   ],
   "source": [
    "data['education'].value_counts()"
   ]
  },
  {
   "cell_type": "code",
   "execution_count": 13,
   "metadata": {
    "cellId": "j96fbflp8rpreqiseny4cc"
   },
   "outputs": [
    {
     "data": {
      "text/plain": [
       "среднее                15233\n",
       "высшее                  5260\n",
       "неоконченное высшее      744\n",
       "начальное                282\n",
       "ученая степень             6\n",
       "Name: education, dtype: int64"
      ]
     },
     "execution_count": 13,
     "metadata": {},
     "output_type": "execute_result"
    }
   ],
   "source": [
    "data['education'] = data['education'].str.lower()\n",
    "data['education'].value_counts()"
   ]
  },
  {
   "cell_type": "markdown",
   "metadata": {},
   "source": [
    "<div class=\"alert alert-success\">\n",
    "<b>✔️ Комментарий ревьюера:</b> \n",
    "<br>Избавились от большей части дубликатов)\n",
    "</div>"
   ]
  },
  {
   "cell_type": "code",
   "execution_count": 14,
   "metadata": {
    "cellId": "2liy8cnrs52ktv6hsys3q"
   },
   "outputs": [
    {
     "data": {
      "text/plain": [
       "женат / замужем          12380\n",
       "гражданский брак          4177\n",
       "Не женат / не замужем     2813\n",
       "в разводе                 1195\n",
       "вдовец / вдова             960\n",
       "Name: family_status, dtype: int64"
      ]
     },
     "execution_count": 14,
     "metadata": {},
     "output_type": "execute_result"
    }
   ],
   "source": [
    "data['family_status'].value_counts()"
   ]
  },
  {
   "cell_type": "markdown",
   "metadata": {
    "cellId": "p9oljv13ew7f7ethk6n6c6"
   },
   "source": [
    "После приведения данных к нормальному виду, необходимо идентифицировать наличие дубликатов в датафрейме, для этого будет использован метод duplicated().sum(). Если имеются дубликаты, они будут удалены методом drop_duplicates().Для смецения индексов воспользуюсь методом reset_index(drop = True). \n",
    "Вероятность того, что есть клиенты с полностью одинаковыми значениями по всем столбцам есть, но она очень мала, тем более что вещественный тип данных дает сомнения в отсутсвии дублирования. Конечно, было бы лучше, если бы каждому клиенту был присвоен уникальный номер id, тогда бы я могла со стопроцентной вероятностью удалять дубликаты. После удаления воспользуюсь внов методом подсчета дубликатов, чтобы убедиться, что они отсутсвуют в датафрейме."
   ]
  },
  {
   "cell_type": "code",
   "execution_count": 15,
   "metadata": {
    "cellId": "scatw0fht9f551rs2bje99"
   },
   "outputs": [
    {
     "data": {
      "text/plain": [
       "71"
      ]
     },
     "execution_count": 15,
     "metadata": {},
     "output_type": "execute_result"
    }
   ],
   "source": [
    "data.duplicated().sum()"
   ]
  },
  {
   "cell_type": "code",
   "execution_count": 16,
   "metadata": {
    "cellId": "s2y2t3gu0tmbe8h3ezm1f"
   },
   "outputs": [
    {
     "data": {
      "text/plain": [
       "0"
      ]
     },
     "execution_count": 16,
     "metadata": {},
     "output_type": "execute_result"
    }
   ],
   "source": [
    "data = data.drop_duplicates().reset_index(drop = True)\n",
    "data.duplicated().sum()"
   ]
  },
  {
   "cell_type": "markdown",
   "metadata": {},
   "source": [
    "<div class=\"alert alert-success\">\n",
    "<b>✔️ Комментарий ревьюера:</b> \n",
    "<br>Шикарно! Убрали оставшиеся дубликаты\n",
    "</div>"
   ]
  },
  {
   "cell_type": "markdown",
   "metadata": {
    "cellId": "fj8hizafh6tdbg96ux0a"
   },
   "source": [
    "### Лемматизация"
   ]
  },
  {
   "cell_type": "markdown",
   "metadata": {
    "cellId": "92jyesrqq1rrg0rft777m"
   },
   "source": [
    "Лемматизация необходима для группировки по цели взятия кредита. Клиенты могли описывать одну и ту же причину, используя различные падежи, окончания слов итд. Для того, чтобы корректно проверить четвертую гипотезу, необходимо привести причины к единому виду, чтобы их было легче группировать. Одна из библиотек с функцией лемматизации на русском языке — pymystem3, импортирую ее для дальнейшей работы. Так же вызываю специальный контейнер Counter из модуля collections для дальнейшего подсчета лемматизированных слов."
   ]
  },
  {
   "cell_type": "code",
   "execution_count": 17,
   "metadata": {
    "cellId": "vx0tw8dxszqnktk6bogfb"
   },
   "outputs": [],
   "source": [
    "from pymystem3 import Mystem\n",
    "my = Mystem()\n",
    "from collections import Counter"
   ]
  },
  {
   "cell_type": "markdown",
   "metadata": {
    "cellId": "b26brqu33iqqnjcopu2qx"
   },
   "source": [
    "Я создаю функцию, которая используя метод lemmatize(), создает список лемматизированных слов на основе каждого значения колонки purpose. Далее, я создаю еще одну колонку в датафреме методом apply(), в которой и располагаются списки для каждого клиента."
   ]
  },
  {
   "cell_type": "code",
   "execution_count": 18,
   "metadata": {
    "cellId": "qrttq24ybhkgw6mn5wab4r"
   },
   "outputs": [
    {
     "data": {
      "text/plain": [
       "0                 [покупка,  , жилье, \\n]\n",
       "1       [приобретение,  , автомобиль, \\n]\n",
       "2                 [покупка,  , жилье, \\n]\n",
       "3    [дополнительный,  , образование, \\n]\n",
       "4               [сыграть,  , свадьба, \\n]\n",
       "Name: lemmatize_purpose, dtype: object"
      ]
     },
     "execution_count": 18,
     "metadata": {},
     "output_type": "execute_result"
    }
   ],
   "source": [
    "def lemmatize_purpose(row):\n",
    "    purpose = row['purpose']\n",
    "    lemma = my.lemmatize(purpose)\n",
    "    return lemma\n",
    "data['lemmatize_purpose'] = data.apply(lemmatize_purpose, axis=1)\n",
    "data['lemmatize_purpose'].head()"
   ]
  },
  {
   "cell_type": "markdown",
   "metadata": {
    "cellId": "9md11diz218how7kbqketv"
   },
   "source": [
    "### Категоризация данных"
   ]
  },
  {
   "cell_type": "markdown",
   "metadata": {
    "cellId": "fk5hfjwblqnm4tep88zo3a"
   },
   "source": [
    "Для того, чтобы определить уровень дохода, необходимо произвести категоризацию числовых данных дохода в столбце total_income. Я предлагаю разделить уровень дохода на три категории (низкий, средний, высокий). Для того, чтобы определить пороги, я определю медианное значение столбца total_income. Все, что ниже медианного значения более, чем на 50% будет относиться к низкому доходу, все, что выше на 50% медианного значения - к высокому, все что между низким и высоким - к среднему. Условие проверяю внутри функции."
   ]
  },
  {
   "cell_type": "markdown",
   "metadata": {},
   "source": [
    "<div class=\"alert alert-success\">\n",
    "<b>✔️ Комментарий ревьюера:</b> \n",
    "<br>Ты правильно и логично выделила категории, но в реальной задаче лучше уточнить у заказчика или коллег как лучше это будет сделать\n",
    "</div>"
   ]
  },
  {
   "cell_type": "code",
   "execution_count": 19,
   "metadata": {
    "cellId": "nufdl2b85f4wgzhdb0pps"
   },
   "outputs": [
    {
     "data": {
      "text/html": [
       "<div>\n",
       "<style scoped>\n",
       "    .dataframe tbody tr th:only-of-type {\n",
       "        vertical-align: middle;\n",
       "    }\n",
       "\n",
       "    .dataframe tbody tr th {\n",
       "        vertical-align: top;\n",
       "    }\n",
       "\n",
       "    .dataframe thead th {\n",
       "        text-align: right;\n",
       "    }\n",
       "</style>\n",
       "<table border=\"1\" class=\"dataframe\">\n",
       "  <thead>\n",
       "    <tr style=\"text-align: right;\">\n",
       "      <th></th>\n",
       "      <th>children</th>\n",
       "      <th>days_employed</th>\n",
       "      <th>dob_years</th>\n",
       "      <th>education</th>\n",
       "      <th>education_id</th>\n",
       "      <th>family_status</th>\n",
       "      <th>family_status_id</th>\n",
       "      <th>gender</th>\n",
       "      <th>income_type</th>\n",
       "      <th>debt</th>\n",
       "      <th>total_income</th>\n",
       "      <th>purpose</th>\n",
       "      <th>lemmatize_purpose</th>\n",
       "      <th>income_level</th>\n",
       "    </tr>\n",
       "  </thead>\n",
       "  <tbody>\n",
       "    <tr>\n",
       "      <td>0</td>\n",
       "      <td>1</td>\n",
       "      <td>8437</td>\n",
       "      <td>42.0</td>\n",
       "      <td>высшее</td>\n",
       "      <td>0</td>\n",
       "      <td>женат / замужем</td>\n",
       "      <td>0</td>\n",
       "      <td>F</td>\n",
       "      <td>сотрудник</td>\n",
       "      <td>0</td>\n",
       "      <td>253875.639453</td>\n",
       "      <td>покупка жилья</td>\n",
       "      <td>[покупка,  , жилье, \\n]</td>\n",
       "      <td>высокий</td>\n",
       "    </tr>\n",
       "    <tr>\n",
       "      <td>1</td>\n",
       "      <td>1</td>\n",
       "      <td>4024</td>\n",
       "      <td>36.0</td>\n",
       "      <td>среднее</td>\n",
       "      <td>1</td>\n",
       "      <td>женат / замужем</td>\n",
       "      <td>0</td>\n",
       "      <td>F</td>\n",
       "      <td>сотрудник</td>\n",
       "      <td>0</td>\n",
       "      <td>112080.014102</td>\n",
       "      <td>приобретение автомобиля</td>\n",
       "      <td>[приобретение,  , автомобиль, \\n]</td>\n",
       "      <td>средний</td>\n",
       "    </tr>\n",
       "    <tr>\n",
       "      <td>2</td>\n",
       "      <td>0</td>\n",
       "      <td>5623</td>\n",
       "      <td>33.0</td>\n",
       "      <td>среднее</td>\n",
       "      <td>1</td>\n",
       "      <td>женат / замужем</td>\n",
       "      <td>0</td>\n",
       "      <td>M</td>\n",
       "      <td>сотрудник</td>\n",
       "      <td>0</td>\n",
       "      <td>145885.952297</td>\n",
       "      <td>покупка жилья</td>\n",
       "      <td>[покупка,  , жилье, \\n]</td>\n",
       "      <td>средний</td>\n",
       "    </tr>\n",
       "    <tr>\n",
       "      <td>3</td>\n",
       "      <td>3</td>\n",
       "      <td>4124</td>\n",
       "      <td>32.0</td>\n",
       "      <td>среднее</td>\n",
       "      <td>1</td>\n",
       "      <td>женат / замужем</td>\n",
       "      <td>0</td>\n",
       "      <td>M</td>\n",
       "      <td>сотрудник</td>\n",
       "      <td>0</td>\n",
       "      <td>267628.550329</td>\n",
       "      <td>дополнительное образование</td>\n",
       "      <td>[дополнительный,  , образование, \\n]</td>\n",
       "      <td>высокий</td>\n",
       "    </tr>\n",
       "    <tr>\n",
       "      <td>4</td>\n",
       "      <td>0</td>\n",
       "      <td>340266</td>\n",
       "      <td>53.0</td>\n",
       "      <td>среднее</td>\n",
       "      <td>1</td>\n",
       "      <td>гражданский брак</td>\n",
       "      <td>1</td>\n",
       "      <td>F</td>\n",
       "      <td>пенсионер</td>\n",
       "      <td>0</td>\n",
       "      <td>158616.077870</td>\n",
       "      <td>сыграть свадьбу</td>\n",
       "      <td>[сыграть,  , свадьба, \\n]</td>\n",
       "      <td>средний</td>\n",
       "    </tr>\n",
       "  </tbody>\n",
       "</table>\n",
       "</div>"
      ],
      "text/plain": [
       "   children  days_employed  dob_years education  education_id  \\\n",
       "0         1           8437       42.0    высшее             0   \n",
       "1         1           4024       36.0   среднее             1   \n",
       "2         0           5623       33.0   среднее             1   \n",
       "3         3           4124       32.0   среднее             1   \n",
       "4         0         340266       53.0   среднее             1   \n",
       "\n",
       "      family_status  family_status_id gender income_type  debt   total_income  \\\n",
       "0   женат / замужем                 0      F   сотрудник     0  253875.639453   \n",
       "1   женат / замужем                 0      F   сотрудник     0  112080.014102   \n",
       "2   женат / замужем                 0      M   сотрудник     0  145885.952297   \n",
       "3   женат / замужем                 0      M   сотрудник     0  267628.550329   \n",
       "4  гражданский брак                 1      F   пенсионер     0  158616.077870   \n",
       "\n",
       "                      purpose                     lemmatize_purpose  \\\n",
       "0               покупка жилья               [покупка,  , жилье, \\n]   \n",
       "1     приобретение автомобиля     [приобретение,  , автомобиль, \\n]   \n",
       "2               покупка жилья               [покупка,  , жилье, \\n]   \n",
       "3  дополнительное образование  [дополнительный,  , образование, \\n]   \n",
       "4             сыграть свадьбу             [сыграть,  , свадьба, \\n]   \n",
       "\n",
       "  income_level  \n",
       "0      высокий  \n",
       "1      средний  \n",
       "2      средний  \n",
       "3      высокий  \n",
       "4      средний  "
      ]
     },
     "execution_count": 19,
     "metadata": {},
     "output_type": "execute_result"
    }
   ],
   "source": [
    "median_income = data['total_income'].median()\n",
    "def income_level(row):\n",
    "    total_income = row['total_income']\n",
    "    if total_income < median_income - 0.5*median_income:\n",
    "        return 'низкий'\n",
    "    if total_income > median_income + 0.5*median_income:\n",
    "        return 'высокий'\n",
    "    return 'средний'\n",
    "data['income_level'] = data.apply(income_level, axis = 1)\n",
    "data.head()"
   ]
  },
  {
   "cell_type": "markdown",
   "metadata": {
    "cellId": "3nfibcd24pn03gcv9u9nwhf"
   },
   "source": [
    "Для того, чтобы узнать самые часто встречающиеся слова в поле цели кредита, я сделаю единый список со всеми лемматизированными целями, и далее посчитаю повторяющиеся слова методом Counter() и выведу самые частые слова методом most_common()."
   ]
  },
  {
   "cell_type": "code",
   "execution_count": 20,
   "metadata": {
    "cellId": "1t04w72ztrrdprx31nvhkp"
   },
   "outputs": [
    {
     "data": {
      "text/plain": [
       "[(' ', 33570),\n",
       " ('\\n', 21454),\n",
       " ('недвижимость', 6351),\n",
       " ('покупка', 5897),\n",
       " ('жилье', 4460),\n",
       " ('автомобиль', 4306),\n",
       " ('образование', 4013),\n",
       " ('с', 2918),\n",
       " ('операция', 2604),\n",
       " ('свадьба', 2324),\n",
       " ('свой', 2230),\n",
       " ('на', 2222),\n",
       " ('строительство', 1878),\n",
       " ('высокий', 1374),\n",
       " ('получение', 1314)]"
      ]
     },
     "execution_count": 20,
     "metadata": {},
     "output_type": "execute_result"
    }
   ],
   "source": [
    "counter_lemmas = []\n",
    "for i in range(len(data['lemmatize_purpose'])):\n",
    "    counter_lemmas.extend (data['lemmatize_purpose'][i])\n",
    "\n",
    "Counter(counter_lemmas).most_common(15)"
   ]
  },
  {
   "cell_type": "markdown",
   "metadata": {
    "cellId": "gc7ks5g4zvhkdz2baofndr"
   },
   "source": [
    "Для того, чтобы упростить наименование цели и привести к единому виду, я вставлю новый столбец в датафрейме с лаконичным названием цели кредита, используя функцию. \"Недвижимость\" и \"жилье\" буду считать за один вид цели."
   ]
  },
  {
   "cell_type": "code",
   "execution_count": 21,
   "metadata": {
    "cellId": "mo0jrevg62a9de5l9olyi"
   },
   "outputs": [
    {
     "data": {
      "text/plain": [
       "недвижимость    10811\n",
       "автомобиль       4306\n",
       "образование      4013\n",
       "свадьба          2324\n",
       "Name: short_purpose, dtype: int64"
      ]
     },
     "execution_count": 21,
     "metadata": {},
     "output_type": "execute_result"
    }
   ],
   "source": [
    "def short_purpose (row):\n",
    "    lemma = row['lemmatize_purpose']\n",
    "    if 'недвижимость' in lemma or 'жилье' in lemma:\n",
    "        return 'недвижимость'\n",
    "    if 'автомобиль' in lemma:\n",
    "        return 'автомобиль'\n",
    "    if 'образование' in lemma:\n",
    "        return 'образование'\n",
    "    if 'операция' in lemma:\n",
    "        return 'операция'\n",
    "    if 'свадьба' in lemma:\n",
    "        return 'свадьба'\n",
    "    return 'другое'\n",
    "\n",
    "data['short_purpose'] = data.apply(short_purpose, axis = 1)\n",
    "data['short_purpose'].value_counts()"
   ]
  },
  {
   "cell_type": "markdown",
   "metadata": {
    "cellId": "0qebz8bymi266mh7s9r50m"
   },
   "source": [
    "Итого, цели получения кредита получилось разделить на 4 категории - недвижимость, автомобиль, образование и свадьба. О том, что других категорий в датафрейме нет свиедтельствует то, что функция не дошла до return 'другое'."
   ]
  },
  {
   "cell_type": "markdown",
   "metadata": {},
   "source": [
    "<div class=\"alert alert-success\">\n",
    "<b>✔️ Комментарий ревьюера:</b> \n",
    "<br>Цели кредита категоризированы правильно! 👍\n",
    "</div>"
   ]
  },
  {
   "cell_type": "markdown",
   "metadata": {
    "cellId": "8aeyk9vcuvb7i8iimudxpk"
   },
   "source": [
    "Для проверки гипотезы, влиет ли наличие детей на возврат кредита в срок, я пропишу функцию и создам новый столбец 'children_status', где 1 будет означать, что дети есть, а 0 - детей у клиента нет. Так можно будет проверить гипотезу, не обращая внимание на конкретное количество детей у клиента."
   ]
  },
  {
   "cell_type": "markdown",
   "metadata": {},
   "source": [
    "<div class=\"alert alert-success\">\n",
    "<b>✔️ Комментарий ревьюера:</b> \n",
    "<br>Ты абсолютно правильно сделала, что не стала выделять количество детей в отдельные категории. В  этом задании важно именно наличие или отсутствие\n",
    "</div>"
   ]
  },
  {
   "cell_type": "code",
   "execution_count": 22,
   "metadata": {
    "cellId": "pvekud52xknjq6gh8u5km"
   },
   "outputs": [
    {
     "data": {
      "text/html": [
       "<div>\n",
       "<style scoped>\n",
       "    .dataframe tbody tr th:only-of-type {\n",
       "        vertical-align: middle;\n",
       "    }\n",
       "\n",
       "    .dataframe tbody tr th {\n",
       "        vertical-align: top;\n",
       "    }\n",
       "\n",
       "    .dataframe thead th {\n",
       "        text-align: right;\n",
       "    }\n",
       "</style>\n",
       "<table border=\"1\" class=\"dataframe\">\n",
       "  <thead>\n",
       "    <tr style=\"text-align: right;\">\n",
       "      <th></th>\n",
       "      <th>children</th>\n",
       "      <th>days_employed</th>\n",
       "      <th>dob_years</th>\n",
       "      <th>education</th>\n",
       "      <th>education_id</th>\n",
       "      <th>family_status</th>\n",
       "      <th>family_status_id</th>\n",
       "      <th>gender</th>\n",
       "      <th>income_type</th>\n",
       "      <th>debt</th>\n",
       "      <th>total_income</th>\n",
       "      <th>purpose</th>\n",
       "      <th>lemmatize_purpose</th>\n",
       "      <th>income_level</th>\n",
       "      <th>short_purpose</th>\n",
       "      <th>children_status</th>\n",
       "    </tr>\n",
       "  </thead>\n",
       "  <tbody>\n",
       "    <tr>\n",
       "      <td>0</td>\n",
       "      <td>1</td>\n",
       "      <td>8437</td>\n",
       "      <td>42.0</td>\n",
       "      <td>высшее</td>\n",
       "      <td>0</td>\n",
       "      <td>женат / замужем</td>\n",
       "      <td>0</td>\n",
       "      <td>F</td>\n",
       "      <td>сотрудник</td>\n",
       "      <td>0</td>\n",
       "      <td>253875.639453</td>\n",
       "      <td>покупка жилья</td>\n",
       "      <td>[покупка,  , жилье, \\n]</td>\n",
       "      <td>высокий</td>\n",
       "      <td>недвижимость</td>\n",
       "      <td>есть дети</td>\n",
       "    </tr>\n",
       "    <tr>\n",
       "      <td>1</td>\n",
       "      <td>1</td>\n",
       "      <td>4024</td>\n",
       "      <td>36.0</td>\n",
       "      <td>среднее</td>\n",
       "      <td>1</td>\n",
       "      <td>женат / замужем</td>\n",
       "      <td>0</td>\n",
       "      <td>F</td>\n",
       "      <td>сотрудник</td>\n",
       "      <td>0</td>\n",
       "      <td>112080.014102</td>\n",
       "      <td>приобретение автомобиля</td>\n",
       "      <td>[приобретение,  , автомобиль, \\n]</td>\n",
       "      <td>средний</td>\n",
       "      <td>автомобиль</td>\n",
       "      <td>есть дети</td>\n",
       "    </tr>\n",
       "    <tr>\n",
       "      <td>2</td>\n",
       "      <td>0</td>\n",
       "      <td>5623</td>\n",
       "      <td>33.0</td>\n",
       "      <td>среднее</td>\n",
       "      <td>1</td>\n",
       "      <td>женат / замужем</td>\n",
       "      <td>0</td>\n",
       "      <td>M</td>\n",
       "      <td>сотрудник</td>\n",
       "      <td>0</td>\n",
       "      <td>145885.952297</td>\n",
       "      <td>покупка жилья</td>\n",
       "      <td>[покупка,  , жилье, \\n]</td>\n",
       "      <td>средний</td>\n",
       "      <td>недвижимость</td>\n",
       "      <td>нет детей</td>\n",
       "    </tr>\n",
       "    <tr>\n",
       "      <td>3</td>\n",
       "      <td>3</td>\n",
       "      <td>4124</td>\n",
       "      <td>32.0</td>\n",
       "      <td>среднее</td>\n",
       "      <td>1</td>\n",
       "      <td>женат / замужем</td>\n",
       "      <td>0</td>\n",
       "      <td>M</td>\n",
       "      <td>сотрудник</td>\n",
       "      <td>0</td>\n",
       "      <td>267628.550329</td>\n",
       "      <td>дополнительное образование</td>\n",
       "      <td>[дополнительный,  , образование, \\n]</td>\n",
       "      <td>высокий</td>\n",
       "      <td>образование</td>\n",
       "      <td>есть дети</td>\n",
       "    </tr>\n",
       "    <tr>\n",
       "      <td>4</td>\n",
       "      <td>0</td>\n",
       "      <td>340266</td>\n",
       "      <td>53.0</td>\n",
       "      <td>среднее</td>\n",
       "      <td>1</td>\n",
       "      <td>гражданский брак</td>\n",
       "      <td>1</td>\n",
       "      <td>F</td>\n",
       "      <td>пенсионер</td>\n",
       "      <td>0</td>\n",
       "      <td>158616.077870</td>\n",
       "      <td>сыграть свадьбу</td>\n",
       "      <td>[сыграть,  , свадьба, \\n]</td>\n",
       "      <td>средний</td>\n",
       "      <td>свадьба</td>\n",
       "      <td>нет детей</td>\n",
       "    </tr>\n",
       "  </tbody>\n",
       "</table>\n",
       "</div>"
      ],
      "text/plain": [
       "   children  days_employed  dob_years education  education_id  \\\n",
       "0         1           8437       42.0    высшее             0   \n",
       "1         1           4024       36.0   среднее             1   \n",
       "2         0           5623       33.0   среднее             1   \n",
       "3         3           4124       32.0   среднее             1   \n",
       "4         0         340266       53.0   среднее             1   \n",
       "\n",
       "      family_status  family_status_id gender income_type  debt   total_income  \\\n",
       "0   женат / замужем                 0      F   сотрудник     0  253875.639453   \n",
       "1   женат / замужем                 0      F   сотрудник     0  112080.014102   \n",
       "2   женат / замужем                 0      M   сотрудник     0  145885.952297   \n",
       "3   женат / замужем                 0      M   сотрудник     0  267628.550329   \n",
       "4  гражданский брак                 1      F   пенсионер     0  158616.077870   \n",
       "\n",
       "                      purpose                     lemmatize_purpose  \\\n",
       "0               покупка жилья               [покупка,  , жилье, \\n]   \n",
       "1     приобретение автомобиля     [приобретение,  , автомобиль, \\n]   \n",
       "2               покупка жилья               [покупка,  , жилье, \\n]   \n",
       "3  дополнительное образование  [дополнительный,  , образование, \\n]   \n",
       "4             сыграть свадьбу             [сыграть,  , свадьба, \\n]   \n",
       "\n",
       "  income_level short_purpose children_status  \n",
       "0      высокий  недвижимость       есть дети  \n",
       "1      средний    автомобиль       есть дети  \n",
       "2      средний  недвижимость       нет детей  \n",
       "3      высокий   образование       есть дети  \n",
       "4      средний       свадьба       нет детей  "
      ]
     },
     "execution_count": 22,
     "metadata": {},
     "output_type": "execute_result"
    }
   ],
   "source": [
    "def children_status (row):\n",
    "    children = row['children']\n",
    "    if children >0:\n",
    "        return 'есть дети'\n",
    "    return 'нет детей'\n",
    "\n",
    "data['children_status'] = data.apply(children_status, axis = 1)\n",
    "data.head()"
   ]
  },
  {
   "cell_type": "code",
   "execution_count": 23,
   "metadata": {
    "cellId": "xva4gnan6dcnwx8qfpgkb"
   },
   "outputs": [],
   "source": [
    "def debt_status (row):\n",
    "    children = row['debt']\n",
    "    if children == 1:\n",
    "        return 'долг'\n",
    "    return 'нет долга'\n",
    "\n",
    "data['debt_status'] = data.apply(debt_status, axis = 1)"
   ]
  },
  {
   "cell_type": "markdown",
   "metadata": {
    "cellId": "5zuoabvhb4krjcq6hnzj9r"
   },
   "source": [
    "## Шаг 3. Ответьте на вопросы"
   ]
  },
  {
   "cell_type": "markdown",
   "metadata": {
    "cellId": "n520d1j7evn87ifmpt7a7y"
   },
   "source": [
    "- Есть ли зависимость между наличием детей и возвратом кредита в срок?"
   ]
  },
  {
   "cell_type": "markdown",
   "metadata": {
    "cellId": "8yyhoz942miloyayy01qdj"
   },
   "source": [
    "Я буду формировать сводную таблицу на основе таблицы, содержащей колонки ['children_status','children','debt_status','debt']."
   ]
  },
  {
   "cell_type": "code",
   "execution_count": 24,
   "metadata": {
    "cellId": "8ytn7rzdc73m1heegvva69"
   },
   "outputs": [
    {
     "data": {
      "text/html": [
       "<div>\n",
       "<style scoped>\n",
       "    .dataframe tbody tr th:only-of-type {\n",
       "        vertical-align: middle;\n",
       "    }\n",
       "\n",
       "    .dataframe tbody tr th {\n",
       "        vertical-align: top;\n",
       "    }\n",
       "\n",
       "    .dataframe thead th {\n",
       "        text-align: right;\n",
       "    }\n",
       "</style>\n",
       "<table border=\"1\" class=\"dataframe\">\n",
       "  <thead>\n",
       "    <tr style=\"text-align: right;\">\n",
       "      <th></th>\n",
       "      <th>children_status</th>\n",
       "      <th>children</th>\n",
       "      <th>debt_status</th>\n",
       "      <th>debt</th>\n",
       "    </tr>\n",
       "  </thead>\n",
       "  <tbody>\n",
       "    <tr>\n",
       "      <td>0</td>\n",
       "      <td>есть дети</td>\n",
       "      <td>1</td>\n",
       "      <td>нет долга</td>\n",
       "      <td>0</td>\n",
       "    </tr>\n",
       "    <tr>\n",
       "      <td>1</td>\n",
       "      <td>есть дети</td>\n",
       "      <td>1</td>\n",
       "      <td>нет долга</td>\n",
       "      <td>0</td>\n",
       "    </tr>\n",
       "    <tr>\n",
       "      <td>2</td>\n",
       "      <td>нет детей</td>\n",
       "      <td>0</td>\n",
       "      <td>нет долга</td>\n",
       "      <td>0</td>\n",
       "    </tr>\n",
       "    <tr>\n",
       "      <td>3</td>\n",
       "      <td>есть дети</td>\n",
       "      <td>3</td>\n",
       "      <td>нет долга</td>\n",
       "      <td>0</td>\n",
       "    </tr>\n",
       "    <tr>\n",
       "      <td>4</td>\n",
       "      <td>нет детей</td>\n",
       "      <td>0</td>\n",
       "      <td>нет долга</td>\n",
       "      <td>0</td>\n",
       "    </tr>\n",
       "  </tbody>\n",
       "</table>\n",
       "</div>"
      ],
      "text/plain": [
       "  children_status  children debt_status  debt\n",
       "0       есть дети         1   нет долга     0\n",
       "1       есть дети         1   нет долга     0\n",
       "2       нет детей         0   нет долга     0\n",
       "3       есть дети         3   нет долга     0\n",
       "4       нет детей         0   нет долга     0"
      ]
     },
     "execution_count": 24,
     "metadata": {},
     "output_type": "execute_result"
    }
   ],
   "source": [
    "data_children_debt = data[['children_status','children','debt_status','debt']]\n",
    "data_children_debt.head()\n"
   ]
  },
  {
   "cell_type": "markdown",
   "metadata": {
    "cellId": "8ubuqjp0d1clw12dmqx69p"
   },
   "source": [
    "Для проверки гипотезы о зависимости наличия детей и возвратом кредита в срок, я воспользуюсь сводной таблицей, чтобы наглядно иметь представление о количестве задолженностей по кредиту. Index в своде разделяется на две категории - \"есть дети\" и \"нет детей\", категория \"есть дети\" уже подразделяется на количество детей у клиента. Чтобы оценить количество задолженностей в процентном отношении, я разделю количество задолженностей на количество всего взятых кредитов. Чтобы оценить ситуацию по задолженности всего по двум категориям наличия детей, я сгруппирую данные свода по категориям и выведу медианное значение для каждой категории."
   ]
  },
  {
   "cell_type": "markdown",
   "metadata": {},
   "source": [
    "<div class=\"alert alert-success\">\n",
    "<b>✔️ Комментарий ревьюера:</b> \n",
    "<br>Сводная таблица - отличное решение 👍\n",
    "</div>"
   ]
  },
  {
   "cell_type": "code",
   "execution_count": 25,
   "metadata": {
    "cellId": "e2rkh0yqgb44ux1h56stn7"
   },
   "outputs": [
    {
     "data": {
      "text/html": [
       "<div>\n",
       "<style scoped>\n",
       "    .dataframe tbody tr th:only-of-type {\n",
       "        vertical-align: middle;\n",
       "    }\n",
       "\n",
       "    .dataframe tbody tr th {\n",
       "        vertical-align: top;\n",
       "    }\n",
       "\n",
       "    .dataframe thead th {\n",
       "        text-align: right;\n",
       "    }\n",
       "</style>\n",
       "<table border=\"1\" class=\"dataframe\">\n",
       "  <thead>\n",
       "    <tr style=\"text-align: right;\">\n",
       "      <th></th>\n",
       "      <th>debt_status</th>\n",
       "      <th>долг</th>\n",
       "      <th>нет долга</th>\n",
       "      <th>All</th>\n",
       "      <th>ratio_%</th>\n",
       "    </tr>\n",
       "    <tr>\n",
       "      <th>children_status</th>\n",
       "      <th>children</th>\n",
       "      <th></th>\n",
       "      <th></th>\n",
       "      <th></th>\n",
       "      <th></th>\n",
       "    </tr>\n",
       "  </thead>\n",
       "  <tbody>\n",
       "    <tr>\n",
       "      <td rowspan=\"5\" valign=\"top\">есть дети</td>\n",
       "      <td>1</td>\n",
       "      <td>445</td>\n",
       "      <td>4410</td>\n",
       "      <td>4855</td>\n",
       "      <td>9.2</td>\n",
       "    </tr>\n",
       "    <tr>\n",
       "      <td>2</td>\n",
       "      <td>202</td>\n",
       "      <td>1926</td>\n",
       "      <td>2128</td>\n",
       "      <td>9.5</td>\n",
       "    </tr>\n",
       "    <tr>\n",
       "      <td>3</td>\n",
       "      <td>27</td>\n",
       "      <td>303</td>\n",
       "      <td>330</td>\n",
       "      <td>8.2</td>\n",
       "    </tr>\n",
       "    <tr>\n",
       "      <td>4</td>\n",
       "      <td>4</td>\n",
       "      <td>37</td>\n",
       "      <td>41</td>\n",
       "      <td>9.8</td>\n",
       "    </tr>\n",
       "    <tr>\n",
       "      <td>5</td>\n",
       "      <td>0</td>\n",
       "      <td>9</td>\n",
       "      <td>9</td>\n",
       "      <td>0.0</td>\n",
       "    </tr>\n",
       "    <tr>\n",
       "      <td>нет детей</td>\n",
       "      <td>0</td>\n",
       "      <td>1063</td>\n",
       "      <td>13028</td>\n",
       "      <td>14091</td>\n",
       "      <td>7.5</td>\n",
       "    </tr>\n",
       "    <tr>\n",
       "      <td>All</td>\n",
       "      <td></td>\n",
       "      <td>1741</td>\n",
       "      <td>19713</td>\n",
       "      <td>21454</td>\n",
       "      <td>8.1</td>\n",
       "    </tr>\n",
       "  </tbody>\n",
       "</table>\n",
       "</div>"
      ],
      "text/plain": [
       "debt_status               долг  нет долга    All  ratio_%\n",
       "children_status children                                 \n",
       "есть дети       1          445       4410   4855      9.2\n",
       "                2          202       1926   2128      9.5\n",
       "                3           27        303    330      8.2\n",
       "                4            4         37     41      9.8\n",
       "                5            0          9      9      0.0\n",
       "нет детей       0         1063      13028  14091      7.5\n",
       "All                       1741      19713  21454      8.1"
      ]
     },
     "metadata": {},
     "output_type": "display_data"
    },
    {
     "data": {
      "text/plain": [
       "children_status\n",
       "All          8.1\n",
       "есть дети    9.2\n",
       "нет детей    7.5\n",
       "Name: ratio_%, dtype: float64"
      ]
     },
     "execution_count": 25,
     "metadata": {},
     "output_type": "execute_result"
    }
   ],
   "source": [
    "data_pivot_children_debt = (data_children_debt.pivot_table(index = ['children_status','children'],columns = 'debt_status', values = 'debt', aggfunc = 'count', margins = True).fillna(0)).astype('int')\n",
    "data_pivot_children_debt['ratio_%'] = round(data_pivot_children_debt['долг']/(data_pivot_children_debt['нет долга']+data_pivot_children_debt['долг'])*100,1)\n",
    "display(data_pivot_children_debt)\n",
    "data_pivot_children_debt.groupby('children_status')['ratio_%'].median()\n"
   ]
  },
  {
   "cell_type": "markdown",
   "metadata": {
    "cellId": "aabc7q49tpj0p08oh9ayvk"
   },
   "source": [
    "**Вывод**\n",
    "\n",
    "Клиенты, у которых есть дети имеют процент задолженности по кредитам выше, чем те клиенты, у которых детей нет. Возможной причиной может являться наличие обязательств и расходов на семью. Влияние количества детей на задолженность выявить сложнее. Так, у клиентов с 5 детьми, процент должников от количества всего клиентов равен нулю, однако нельзя утверждать, что все клиенты, у которых 5 детей, возвращают кредит в срок, так как выборка маленькая (всего 9 клиентов).Зависимость между количеством детей и возвратом кредитов в срок не обнаружена."
   ]
  },
  {
   "cell_type": "markdown",
   "metadata": {},
   "source": [
    "<div class=\"alert alert-success\">\n",
    "<b>✔️ Комментарий ревьюера:</b> \n",
    "<br>В точку! Идём дальше)\n",
    "</div>"
   ]
  },
  {
   "cell_type": "markdown",
   "metadata": {
    "cellId": "fa02ggujf9clx69hk478a"
   },
   "source": [
    "- Есть ли зависимость между семейным положением и возвратом кредита в срок?"
   ]
  },
  {
   "cell_type": "markdown",
   "metadata": {
    "cellId": "ld5jlxebcb2zz8qzx77wd"
   },
   "source": [
    "Проверять гипотезу я буду таким же образом, что и певую гипотезу. Я хочу углубиться в сводные данные и вывести разделение кадого family_status по гендеру."
   ]
  },
  {
   "cell_type": "code",
   "execution_count": 26,
   "metadata": {
    "cellId": "yutbcie8qur9ccfoi7coh"
   },
   "outputs": [
    {
     "data": {
      "text/html": [
       "<div>\n",
       "<style scoped>\n",
       "    .dataframe tbody tr th:only-of-type {\n",
       "        vertical-align: middle;\n",
       "    }\n",
       "\n",
       "    .dataframe tbody tr th {\n",
       "        vertical-align: top;\n",
       "    }\n",
       "\n",
       "    .dataframe thead th {\n",
       "        text-align: right;\n",
       "    }\n",
       "</style>\n",
       "<table border=\"1\" class=\"dataframe\">\n",
       "  <thead>\n",
       "    <tr style=\"text-align: right;\">\n",
       "      <th>debt_status</th>\n",
       "      <th>долг</th>\n",
       "      <th>нет долга</th>\n",
       "      <th>ratio_%</th>\n",
       "    </tr>\n",
       "    <tr>\n",
       "      <th>family_status</th>\n",
       "      <th></th>\n",
       "      <th></th>\n",
       "      <th></th>\n",
       "    </tr>\n",
       "  </thead>\n",
       "  <tbody>\n",
       "    <tr>\n",
       "      <td>Не женат / не замужем</td>\n",
       "      <td>274</td>\n",
       "      <td>2536</td>\n",
       "      <td>9.8</td>\n",
       "    </tr>\n",
       "    <tr>\n",
       "      <td>гражданский брак</td>\n",
       "      <td>388</td>\n",
       "      <td>3763</td>\n",
       "      <td>9.3</td>\n",
       "    </tr>\n",
       "    <tr>\n",
       "      <td>женат / замужем</td>\n",
       "      <td>931</td>\n",
       "      <td>11408</td>\n",
       "      <td>7.5</td>\n",
       "    </tr>\n",
       "    <tr>\n",
       "      <td>в разводе</td>\n",
       "      <td>85</td>\n",
       "      <td>1110</td>\n",
       "      <td>7.1</td>\n",
       "    </tr>\n",
       "    <tr>\n",
       "      <td>вдовец / вдова</td>\n",
       "      <td>63</td>\n",
       "      <td>896</td>\n",
       "      <td>6.6</td>\n",
       "    </tr>\n",
       "  </tbody>\n",
       "</table>\n",
       "</div>"
      ],
      "text/plain": [
       "debt_status            долг  нет долга  ratio_%\n",
       "family_status                                  \n",
       "Не женат / не замужем   274       2536      9.8\n",
       "гражданский брак        388       3763      9.3\n",
       "женат / замужем         931      11408      7.5\n",
       "в разводе                85       1110      7.1\n",
       "вдовец / вдова           63        896      6.6"
      ]
     },
     "execution_count": 26,
     "metadata": {},
     "output_type": "execute_result"
    }
   ],
   "source": [
    "data_pivot_family_debt = (data.pivot_table(index = ['family_status'],columns = 'debt_status', values = 'debt', aggfunc = 'count').fillna(0)).astype('int')\n",
    "data_pivot_family_debt['ratio_%'] = round(data_pivot_family_debt['долг']/(data_pivot_family_debt['нет долга']+data_pivot_family_debt['долг'])*100,1)\n",
    "data_pivot_family_debt.sort_values('ratio_%', ascending = False)"
   ]
  },
  {
   "cell_type": "code",
   "execution_count": 27,
   "metadata": {
    "cellId": "3hufp2cuaf56cduvoggcvv"
   },
   "outputs": [
    {
     "data": {
      "text/html": [
       "<div>\n",
       "<style scoped>\n",
       "    .dataframe tbody tr th:only-of-type {\n",
       "        vertical-align: middle;\n",
       "    }\n",
       "\n",
       "    .dataframe tbody tr th {\n",
       "        vertical-align: top;\n",
       "    }\n",
       "\n",
       "    .dataframe thead th {\n",
       "        text-align: right;\n",
       "    }\n",
       "</style>\n",
       "<table border=\"1\" class=\"dataframe\">\n",
       "  <thead>\n",
       "    <tr style=\"text-align: right;\">\n",
       "      <th></th>\n",
       "      <th>debt_status</th>\n",
       "      <th>долг</th>\n",
       "      <th>нет долга</th>\n",
       "      <th>ratio_%</th>\n",
       "    </tr>\n",
       "    <tr>\n",
       "      <th>family_status</th>\n",
       "      <th>gender</th>\n",
       "      <th></th>\n",
       "      <th></th>\n",
       "      <th></th>\n",
       "    </tr>\n",
       "  </thead>\n",
       "  <tbody>\n",
       "    <tr>\n",
       "      <td>вдовец / вдова</td>\n",
       "      <td>M</td>\n",
       "      <td>11</td>\n",
       "      <td>44</td>\n",
       "      <td>20.0</td>\n",
       "    </tr>\n",
       "    <tr>\n",
       "      <td>Не женат / не замужем</td>\n",
       "      <td>M</td>\n",
       "      <td>156</td>\n",
       "      <td>925</td>\n",
       "      <td>14.4</td>\n",
       "    </tr>\n",
       "    <tr>\n",
       "      <td>гражданский брак</td>\n",
       "      <td>M</td>\n",
       "      <td>155</td>\n",
       "      <td>1150</td>\n",
       "      <td>11.9</td>\n",
       "    </tr>\n",
       "    <tr>\n",
       "      <td>в разводе</td>\n",
       "      <td>M</td>\n",
       "      <td>24</td>\n",
       "      <td>235</td>\n",
       "      <td>9.3</td>\n",
       "    </tr>\n",
       "    <tr>\n",
       "      <td>женат / замужем</td>\n",
       "      <td>M</td>\n",
       "      <td>401</td>\n",
       "      <td>4178</td>\n",
       "      <td>8.8</td>\n",
       "    </tr>\n",
       "    <tr>\n",
       "      <td>гражданский брак</td>\n",
       "      <td>F</td>\n",
       "      <td>233</td>\n",
       "      <td>2612</td>\n",
       "      <td>8.2</td>\n",
       "    </tr>\n",
       "    <tr>\n",
       "      <td>Не женат / не замужем</td>\n",
       "      <td>F</td>\n",
       "      <td>118</td>\n",
       "      <td>1611</td>\n",
       "      <td>6.8</td>\n",
       "    </tr>\n",
       "    <tr>\n",
       "      <td>женат / замужем</td>\n",
       "      <td>F</td>\n",
       "      <td>530</td>\n",
       "      <td>7230</td>\n",
       "      <td>6.8</td>\n",
       "    </tr>\n",
       "    <tr>\n",
       "      <td>в разводе</td>\n",
       "      <td>F</td>\n",
       "      <td>61</td>\n",
       "      <td>875</td>\n",
       "      <td>6.5</td>\n",
       "    </tr>\n",
       "    <tr>\n",
       "      <td>вдовец / вдова</td>\n",
       "      <td>F</td>\n",
       "      <td>52</td>\n",
       "      <td>852</td>\n",
       "      <td>5.8</td>\n",
       "    </tr>\n",
       "    <tr>\n",
       "      <td>гражданский брак</td>\n",
       "      <td>XNA</td>\n",
       "      <td>0</td>\n",
       "      <td>1</td>\n",
       "      <td>0.0</td>\n",
       "    </tr>\n",
       "  </tbody>\n",
       "</table>\n",
       "</div>"
      ],
      "text/plain": [
       "debt_status                   долг  нет долга  ratio_%\n",
       "family_status         gender                          \n",
       "вдовец / вдова        M         11         44     20.0\n",
       "Не женат / не замужем M        156        925     14.4\n",
       "гражданский брак      M        155       1150     11.9\n",
       "в разводе             M         24        235      9.3\n",
       "женат / замужем       M        401       4178      8.8\n",
       "гражданский брак      F        233       2612      8.2\n",
       "Не женат / не замужем F        118       1611      6.8\n",
       "женат / замужем       F        530       7230      6.8\n",
       "в разводе             F         61        875      6.5\n",
       "вдовец / вдова        F         52        852      5.8\n",
       "гражданский брак      XNA        0          1      0.0"
      ]
     },
     "execution_count": 27,
     "metadata": {},
     "output_type": "execute_result"
    }
   ],
   "source": [
    "data_pivot_family_debt = (data.pivot_table(index = ['family_status','gender'],columns = 'debt_status', values = 'debt', aggfunc = 'count').fillna(0)).astype('int')\n",
    "data_pivot_family_debt['ratio_%'] = round(data_pivot_family_debt['долг']/(data_pivot_family_debt['нет долга']+data_pivot_family_debt['долг'])*100,1)\n",
    "data_pivot_family_debt.sort_values('ratio_%', ascending = False)"
   ]
  },
  {
   "cell_type": "markdown",
   "metadata": {
    "cellId": "pn2l5splpgcx9jzzgyvyro"
   },
   "source": [
    "**Вывод**\n",
    "\n",
    "Основываясь на результатах первой сводной таблицы, отсортированной по проценту задолженности, можно утверждать, что зависимость между семейным статусом и возвратом кредита в срок существует. Так, больший всего процент составляет задолженность у неженатых и незамужних. Однако, если углубиться в гендерное различие в каждом семейном статусе, можно смело утверждать, что мужчины имею более высокий риск невозврата кредита в срок, чем женщины, причем в любом семейном положении.  "
   ]
  },
  {
   "cell_type": "markdown",
   "metadata": {},
   "source": [
    "<div class=\"alert alert-success\">\n",
    "<b>✔️ Комментарий ревьюера:</b> \n",
    "<br>Согласен! 2/4 отвечены правильно) Первый раз вижу, чтобь производили деление на гендеры! 👏🏻👏🏻👏🏻\n",
    "</div>"
   ]
  },
  {
   "cell_type": "markdown",
   "metadata": {
    "cellId": "en12mj5btknw2invu2v87d"
   },
   "source": [
    "- Есть ли зависимость между уровнем дохода и возвратом кредита в срок? "
   ]
  },
  {
   "cell_type": "markdown",
   "metadata": {
    "cellId": "n9ls11416obonijh9sdq0r"
   },
   "source": [
    "В каждом уровне дохода я решила выделить тип заработка, чтобы углубиться в анализ. Проверяю гипотезу, используя сводную таблицу."
   ]
  },
  {
   "cell_type": "code",
   "execution_count": 28,
   "metadata": {
    "cellId": "5d25wml1qvbhcd2mg15pvd"
   },
   "outputs": [
    {
     "data": {
      "text/html": [
       "<div>\n",
       "<style scoped>\n",
       "    .dataframe tbody tr th:only-of-type {\n",
       "        vertical-align: middle;\n",
       "    }\n",
       "\n",
       "    .dataframe tbody tr th {\n",
       "        vertical-align: top;\n",
       "    }\n",
       "\n",
       "    .dataframe thead th {\n",
       "        text-align: right;\n",
       "    }\n",
       "</style>\n",
       "<table border=\"1\" class=\"dataframe\">\n",
       "  <thead>\n",
       "    <tr style=\"text-align: right;\">\n",
       "      <th>debt_status</th>\n",
       "      <th>долг</th>\n",
       "      <th>нет долга</th>\n",
       "      <th>ratio_%</th>\n",
       "    </tr>\n",
       "    <tr>\n",
       "      <th>income_level</th>\n",
       "      <th></th>\n",
       "      <th></th>\n",
       "      <th></th>\n",
       "    </tr>\n",
       "  </thead>\n",
       "  <tbody>\n",
       "    <tr>\n",
       "      <td>средний</td>\n",
       "      <td>1328</td>\n",
       "      <td>14227</td>\n",
       "      <td>8.5</td>\n",
       "    </tr>\n",
       "    <tr>\n",
       "      <td>высокий</td>\n",
       "      <td>304</td>\n",
       "      <td>4016</td>\n",
       "      <td>7.0</td>\n",
       "    </tr>\n",
       "    <tr>\n",
       "      <td>низкий</td>\n",
       "      <td>109</td>\n",
       "      <td>1470</td>\n",
       "      <td>6.9</td>\n",
       "    </tr>\n",
       "  </tbody>\n",
       "</table>\n",
       "</div>"
      ],
      "text/plain": [
       "debt_status   долг  нет долга  ratio_%\n",
       "income_level                          \n",
       "средний       1328      14227      8.5\n",
       "высокий        304       4016      7.0\n",
       "низкий         109       1470      6.9"
      ]
     },
     "execution_count": 28,
     "metadata": {},
     "output_type": "execute_result"
    }
   ],
   "source": [
    "data_pivot_income_debt = (data.pivot_table(index = ['income_level'],columns = 'debt_status', values = 'debt', aggfunc = 'count').fillna(0)).astype('int')\n",
    "data_pivot_income_debt['ratio_%'] = round(data_pivot_income_debt['долг']/(data_pivot_income_debt['нет долга']+data_pivot_income_debt['долг'])*100,1)\n",
    "data_pivot_income_debt.sort_values(by = ['ratio_%'], ascending = False)"
   ]
  },
  {
   "cell_type": "code",
   "execution_count": 29,
   "metadata": {
    "cellId": "sxbqhd1qnuiedvrrq35r5k"
   },
   "outputs": [
    {
     "data": {
      "text/html": [
       "<div>\n",
       "<style scoped>\n",
       "    .dataframe tbody tr th:only-of-type {\n",
       "        vertical-align: middle;\n",
       "    }\n",
       "\n",
       "    .dataframe tbody tr th {\n",
       "        vertical-align: top;\n",
       "    }\n",
       "\n",
       "    .dataframe thead th {\n",
       "        text-align: right;\n",
       "    }\n",
       "</style>\n",
       "<table border=\"1\" class=\"dataframe\">\n",
       "  <thead>\n",
       "    <tr style=\"text-align: right;\">\n",
       "      <th>debt_status</th>\n",
       "      <th>income_level</th>\n",
       "      <th>income_type</th>\n",
       "      <th>долг</th>\n",
       "      <th>нет долга</th>\n",
       "      <th>ratio_%</th>\n",
       "    </tr>\n",
       "  </thead>\n",
       "  <tbody>\n",
       "    <tr>\n",
       "      <td>0</td>\n",
       "      <td>средний</td>\n",
       "      <td>сотрудник</td>\n",
       "      <td>834</td>\n",
       "      <td>7487</td>\n",
       "      <td>10.0</td>\n",
       "    </tr>\n",
       "    <tr>\n",
       "      <td>1</td>\n",
       "      <td>средний</td>\n",
       "      <td>компаньон</td>\n",
       "      <td>269</td>\n",
       "      <td>3119</td>\n",
       "      <td>7.9</td>\n",
       "    </tr>\n",
       "    <tr>\n",
       "      <td>2</td>\n",
       "      <td>средний</td>\n",
       "      <td>госслужащий</td>\n",
       "      <td>66</td>\n",
       "      <td>979</td>\n",
       "      <td>6.3</td>\n",
       "    </tr>\n",
       "    <tr>\n",
       "      <td>3</td>\n",
       "      <td>средний</td>\n",
       "      <td>пенсионер</td>\n",
       "      <td>159</td>\n",
       "      <td>2640</td>\n",
       "      <td>5.7</td>\n",
       "    </tr>\n",
       "    <tr>\n",
       "      <td>4</td>\n",
       "      <td>средний</td>\n",
       "      <td>безработный</td>\n",
       "      <td>0</td>\n",
       "      <td>1</td>\n",
       "      <td>0.0</td>\n",
       "    </tr>\n",
       "    <tr>\n",
       "      <td>5</td>\n",
       "      <td>средний</td>\n",
       "      <td>студент</td>\n",
       "      <td>0</td>\n",
       "      <td>1</td>\n",
       "      <td>0.0</td>\n",
       "    </tr>\n",
       "    <tr>\n",
       "      <td>6</td>\n",
       "      <td>низкий</td>\n",
       "      <td>безработный</td>\n",
       "      <td>1</td>\n",
       "      <td>0</td>\n",
       "      <td>100.0</td>\n",
       "    </tr>\n",
       "    <tr>\n",
       "      <td>7</td>\n",
       "      <td>низкий</td>\n",
       "      <td>в декрете</td>\n",
       "      <td>1</td>\n",
       "      <td>0</td>\n",
       "      <td>100.0</td>\n",
       "    </tr>\n",
       "    <tr>\n",
       "      <td>8</td>\n",
       "      <td>низкий</td>\n",
       "      <td>сотрудник</td>\n",
       "      <td>60</td>\n",
       "      <td>694</td>\n",
       "      <td>8.0</td>\n",
       "    </tr>\n",
       "    <tr>\n",
       "      <td>9</td>\n",
       "      <td>низкий</td>\n",
       "      <td>компаньон</td>\n",
       "      <td>11</td>\n",
       "      <td>135</td>\n",
       "      <td>7.5</td>\n",
       "    </tr>\n",
       "    <tr>\n",
       "      <td>10</td>\n",
       "      <td>низкий</td>\n",
       "      <td>госслужащий</td>\n",
       "      <td>6</td>\n",
       "      <td>93</td>\n",
       "      <td>6.1</td>\n",
       "    </tr>\n",
       "    <tr>\n",
       "      <td>11</td>\n",
       "      <td>низкий</td>\n",
       "      <td>пенсионер</td>\n",
       "      <td>30</td>\n",
       "      <td>548</td>\n",
       "      <td>5.2</td>\n",
       "    </tr>\n",
       "    <tr>\n",
       "      <td>12</td>\n",
       "      <td>высокий</td>\n",
       "      <td>сотрудник</td>\n",
       "      <td>167</td>\n",
       "      <td>1842</td>\n",
       "      <td>8.3</td>\n",
       "    </tr>\n",
       "    <tr>\n",
       "      <td>13</td>\n",
       "      <td>высокий</td>\n",
       "      <td>компаньон</td>\n",
       "      <td>96</td>\n",
       "      <td>1448</td>\n",
       "      <td>6.2</td>\n",
       "    </tr>\n",
       "    <tr>\n",
       "      <td>14</td>\n",
       "      <td>высокий</td>\n",
       "      <td>пенсионер</td>\n",
       "      <td>27</td>\n",
       "      <td>425</td>\n",
       "      <td>6.0</td>\n",
       "    </tr>\n",
       "    <tr>\n",
       "      <td>15</td>\n",
       "      <td>высокий</td>\n",
       "      <td>госслужащий</td>\n",
       "      <td>14</td>\n",
       "      <td>299</td>\n",
       "      <td>4.5</td>\n",
       "    </tr>\n",
       "    <tr>\n",
       "      <td>16</td>\n",
       "      <td>высокий</td>\n",
       "      <td>предприниматель</td>\n",
       "      <td>0</td>\n",
       "      <td>2</td>\n",
       "      <td>0.0</td>\n",
       "    </tr>\n",
       "  </tbody>\n",
       "</table>\n",
       "</div>"
      ],
      "text/plain": [
       "debt_status income_level      income_type  долг  нет долга  ratio_%\n",
       "0                средний        сотрудник   834       7487     10.0\n",
       "1                средний        компаньон   269       3119      7.9\n",
       "2                средний      госслужащий    66        979      6.3\n",
       "3                средний        пенсионер   159       2640      5.7\n",
       "4                средний      безработный     0          1      0.0\n",
       "5                средний          студент     0          1      0.0\n",
       "6                 низкий      безработный     1          0    100.0\n",
       "7                 низкий        в декрете     1          0    100.0\n",
       "8                 низкий        сотрудник    60        694      8.0\n",
       "9                 низкий        компаньон    11        135      7.5\n",
       "10                низкий      госслужащий     6         93      6.1\n",
       "11                низкий        пенсионер    30        548      5.2\n",
       "12               высокий        сотрудник   167       1842      8.3\n",
       "13               высокий        компаньон    96       1448      6.2\n",
       "14               высокий        пенсионер    27        425      6.0\n",
       "15               высокий      госслужащий    14        299      4.5\n",
       "16               высокий  предприниматель     0          2      0.0"
      ]
     },
     "execution_count": 29,
     "metadata": {},
     "output_type": "execute_result"
    }
   ],
   "source": [
    "data_pivot_income_debt = (data.pivot_table(index = ['income_level','income_type'],columns = 'debt_status', values = 'debt', aggfunc = 'count').fillna(0)).astype('int')\n",
    "data_pivot_income_debt['ratio_%'] = round(data_pivot_income_debt['долг']/(data_pivot_income_debt['нет долга']+data_pivot_income_debt['долг'])*100,1)\n",
    "data_pivot_income_debt.sort_values(by = ['income_level','ratio_%'], ascending = False).reset_index()"
   ]
  },
  {
   "cell_type": "markdown",
   "metadata": {
    "cellId": "z8mmpx4zmidlxohtov1xj"
   },
   "source": [
    "**Вывод**\n",
    "\n",
    "Можно отследить зависимость между уровнем дохода и возвратом кредита в срок. Так, более выскоий процент невозврата кредита в срок пренадлжит клиентам со средними доходами, а у клиентов с высоким и низким доходами процент задолженностей примерно одинаков. Если углубиться в разбивку по типу заработка, в каждой категории уровня дохода, сотрудники имеют более выскоий процент по невозврату кредита в срок (не беру безработных и клиентов в декрете в категории низкого уровня дохода, так как данная выборка крайне мала)."
   ]
  },
  {
   "cell_type": "markdown",
   "metadata": {},
   "source": [
    "<div class=\"alert alert-success\">\n",
    "<b>✔️ Комментарий ревьюера:</b> \n",
    "<br>Самые недисциплинированые оказались заёмщики со средним уровнем дохода)\n",
    "</div>"
   ]
  },
  {
   "cell_type": "markdown",
   "metadata": {
    "cellId": "0ggysn0l1bevqaswcttn1iq"
   },
   "source": [
    "- Как разные цели кредита влияют на его возврат в срок?"
   ]
  },
  {
   "cell_type": "code",
   "execution_count": 30,
   "metadata": {
    "cellId": "7mndaffqyjlk18tjsbayb"
   },
   "outputs": [
    {
     "data": {
      "text/html": [
       "<div>\n",
       "<style scoped>\n",
       "    .dataframe tbody tr th:only-of-type {\n",
       "        vertical-align: middle;\n",
       "    }\n",
       "\n",
       "    .dataframe tbody tr th {\n",
       "        vertical-align: top;\n",
       "    }\n",
       "\n",
       "    .dataframe thead th {\n",
       "        text-align: right;\n",
       "    }\n",
       "</style>\n",
       "<table border=\"1\" class=\"dataframe\">\n",
       "  <thead>\n",
       "    <tr style=\"text-align: right;\">\n",
       "      <th>debt_status</th>\n",
       "      <th>долг</th>\n",
       "      <th>нет долга</th>\n",
       "      <th>ratio_%</th>\n",
       "    </tr>\n",
       "    <tr>\n",
       "      <th>short_purpose</th>\n",
       "      <th></th>\n",
       "      <th></th>\n",
       "      <th></th>\n",
       "    </tr>\n",
       "  </thead>\n",
       "  <tbody>\n",
       "    <tr>\n",
       "      <td>автомобиль</td>\n",
       "      <td>403</td>\n",
       "      <td>3903</td>\n",
       "      <td>9.4</td>\n",
       "    </tr>\n",
       "    <tr>\n",
       "      <td>образование</td>\n",
       "      <td>370</td>\n",
       "      <td>3643</td>\n",
       "      <td>9.2</td>\n",
       "    </tr>\n",
       "    <tr>\n",
       "      <td>свадьба</td>\n",
       "      <td>186</td>\n",
       "      <td>2138</td>\n",
       "      <td>8.0</td>\n",
       "    </tr>\n",
       "    <tr>\n",
       "      <td>недвижимость</td>\n",
       "      <td>782</td>\n",
       "      <td>10029</td>\n",
       "      <td>7.2</td>\n",
       "    </tr>\n",
       "  </tbody>\n",
       "</table>\n",
       "</div>"
      ],
      "text/plain": [
       "debt_status    долг  нет долга  ratio_%\n",
       "short_purpose                          \n",
       "автомобиль      403       3903      9.4\n",
       "образование     370       3643      9.2\n",
       "свадьба         186       2138      8.0\n",
       "недвижимость    782      10029      7.2"
      ]
     },
     "execution_count": 30,
     "metadata": {},
     "output_type": "execute_result"
    }
   ],
   "source": [
    "data_pivot_purpose_debt = (data.pivot_table(index = ['short_purpose'],columns = 'debt_status', values = 'debt', aggfunc = 'count').fillna(0)).astype('int')\n",
    "data_pivot_purpose_debt['ratio_%'] = round(data_pivot_purpose_debt['долг']/(data_pivot_purpose_debt['нет долга']+data_pivot_purpose_debt['долг'])*100,1)\n",
    "data_pivot_purpose_debt.sort_values(by = ['ratio_%'], ascending = False)"
   ]
  },
  {
   "cell_type": "markdown",
   "metadata": {
    "cellId": "h52ujk61we6hvlrsw6kli"
   },
   "source": [
    "**Вывод**\n",
    "\n",
    "Цель взятия кредита влияет на возврат кредита в срок. Так, клиенты, которые берут автокредит, имеют более высокий процент невозврата кредита в срок."
   ]
  },
  {
   "cell_type": "markdown",
   "metadata": {},
   "source": [
    "<div class=\"alert alert-success\">\n",
    "<b>✔️ Комментарий ревьюера:</b>\n",
    "<br>Абсолютно верно! Возможно, это связано с тем, что к покупке жилья люди относятся более ответственно, так как сумма заемных средств и срок кредита, как правило гораздо выше чем в остальных категориях\n",
    "</div>"
   ]
  },
  {
   "cell_type": "markdown",
   "metadata": {
    "cellId": "mc0xmcbblqr2e84kw5mvmc"
   },
   "source": [
    "## Шаг 4. Общий вывод"
   ]
  },
  {
   "cell_type": "markdown",
   "metadata": {
    "cellId": "siyo3m214vd8mqxw0wqw14"
   },
   "source": [
    "Я проверила четыре гипотезы и установила:\n",
    "1. Наличие детей у клиента влияет на невозврат кредита в срок, клиенты, у которых есть дети имею более высокий процент невозврата кредита в срок. **Первая гипотеза подтвердилась**. Однако, если углубиться и установить зависимость между возрастанием количества детей в семье у клиента и невозвратом кредита в срок, данную зависимость я не установила.\n",
    "\n",
    "2. В зависимости от семейного статуса, процент невозврата кредита в срок разный, поэтому можно установить связь между семейным статусом и задолженностью по кредиту. **Вторая гипотеза подтвердилась**. При детализации до гендерного различия в каждом семейном статусе, можно сделать вывод, что мужчины чаще имеют задолженности по кредиту в любом семейном статусе, чем женщины.\n",
    "\n",
    "3. Уровень дохода клиента влияет на возврат кредита в срок. **Третья гипотеза подтвердилась**. Однако, если бы гипотеза звучала как \"Процент клиентов имеющих задолженность по кредитам прямопропорциональна уровню дохода\", то гипотеза бы не подтвердилась, так как клиенты со средним уровнем дохода чаще имеют задолженности, чем все клиенты с низким и высоким уровнем дохода.\n",
    "\n",
    "4. Клиенты, которые берут кредит на автомобиль чаще невозвращают кредит в срок, а те, кто берут кредит на жилье реже всего имеют задолженность. **Четвертая гипотеза подтвердилась**.\n",
    "\n",
    "На практике исследования содержат проверки статистических гипотез. Из данных одной выборки не всегда можно сделать вывод о всех жителях города. Проверки статистических гипотез покажут, насколько они достоверны, исходя из имеющихся данных."
   ]
  },
  {
   "cell_type": "markdown",
   "metadata": {},
   "source": [
    "<div class=\"alert alert-success\">\n",
    "<b>✔️ Итоговый комментарий ревьюера:</b>\n",
    "<br>Ты проделала большую работу! У тебя шикарнейшие выводы с хорошей аргументацией. Здорово, что ты пишешь свои рассуждения и предположения - это помогает видеть ход твоей мысли. Отдельно хочу выделить аккуратность и структурированность твоей работы. Дополнительный плюс за использование свободных таблиц для ответа на итоговые вопросы. Я бы мог принять твою работу с первого раза, но хочу дать тебе возможность задать мне вопросы) Если вопросов нет, то я с радостью приму проект)\n",
    "</div>"
   ]
  },
  {
   "cell_type": "markdown",
   "metadata": {
    "cellId": "5b1f1t8kx95u3f3911ggu"
   },
   "source": [
    "## Чек-лист готовности проекта\n",
    "\n",
    "Поставьте 'x' в выполненных пунктах. Далее нажмите Shift+Enter."
   ]
  },
  {
   "cell_type": "markdown",
   "metadata": {
    "cellId": "prvx677fmrr7p2nobaew5g"
   },
   "source": [
    "- [x]  открыт файл;\n",
    "- [x]  файл изучен;\n",
    "- [x]  определены пропущенные значения;\n",
    "- [x]  заполнены пропущенные значения;\n",
    "- [x]  есть пояснение, какие пропущенные значения обнаружены;\n",
    "- [x]  описаны возможные причины появления пропусков в данных;\n",
    "- [x]  объяснено, по какому принципу заполнены пропуски;\n",
    "- [x]  заменен вещественный тип данных на целочисленный;\n",
    "- [x]  есть пояснение, какой метод используется для изменения типа данных и почему;\n",
    "- [x]  удалены дубликаты;\n",
    "- [x]  есть пояснение, какой метод используется для поиска и удаления дубликатов;\n",
    "- [x]  описаны возможные причины появления дубликатов в данных;\n",
    "- [x]  выделены леммы в значениях столбца с целями получения кредита;\n",
    "- [x]  описан процесс лемматизации;\n",
    "- [x]  данные категоризированы;\n",
    "- [x]  есть объяснение принципа категоризации данных;\n",
    "- [x]  есть ответ на вопрос: \"Есть ли зависимость между наличием детей и возвратом кредита в срок?\";\n",
    "- [x]  есть ответ на вопрос: \"Есть ли зависимость между семейным положением и возвратом кредита в срок?\";\n",
    "- [x]  есть ответ на вопрос: \"Есть ли зависимость между уровнем дохода и возвратом кредита в срок?\";\n",
    "- [x]  есть ответ на вопрос: \"Как разные цели кредита влияют на его возврат в срок?\";\n",
    "- [x]  в каждом этапе есть выводы;\n",
    "- [x]  есть общий вывод."
   ]
  },
  {
   "cell_type": "code",
   "execution_count": null,
   "metadata": {
    "cellId": "v41ye8t9plefp46bn9jr"
   },
   "outputs": [],
   "source": [
    "#!c1.4\n"
   ]
  }
 ],
 "metadata": {
  "ExecuteTimeLog": [
   {
    "duration": 54,
    "start_time": "2021-12-01T21:14:25.765Z"
   },
   {
    "duration": 11,
    "start_time": "2021-12-01T21:14:29.442Z"
   },
   {
    "duration": 15,
    "start_time": "2021-12-01T21:14:29.766Z"
   },
   {
    "duration": 6,
    "start_time": "2021-12-01T21:14:30.097Z"
   },
   {
    "duration": 18,
    "start_time": "2021-12-01T21:14:30.423Z"
   },
   {
    "duration": 12,
    "start_time": "2021-12-01T21:14:31.087Z"
   },
   {
    "duration": 7,
    "start_time": "2021-12-01T21:14:31.590Z"
   },
   {
    "duration": 235,
    "start_time": "2021-12-01T21:14:31.925Z"
   },
   {
    "duration": 6,
    "start_time": "2021-12-01T21:14:32.261Z"
   },
   {
    "duration": 14679,
    "start_time": "2021-12-01T21:14:32.601Z"
   },
   {
    "duration": 7,
    "start_time": "2021-12-01T21:14:47.282Z"
   },
   {
    "duration": 16,
    "start_time": "2021-12-01T21:14:47.291Z"
   },
   {
    "duration": 7,
    "start_time": "2021-12-01T21:14:47.309Z"
   },
   {
    "duration": 41,
    "start_time": "2021-12-01T21:14:47.318Z"
   },
   {
    "duration": 29,
    "start_time": "2021-12-01T21:14:47.361Z"
   },
   {
    "duration": 7,
    "start_time": "2021-12-01T21:14:47.391Z"
   },
   {
    "duration": 3996,
    "start_time": "2021-12-01T21:14:47.401Z"
   },
   {
    "duration": 275,
    "start_time": "2021-12-01T21:14:51.399Z"
   },
   {
    "duration": 254,
    "start_time": "2021-12-01T21:14:51.676Z"
   },
   {
    "duration": 310,
    "start_time": "2021-12-01T21:14:51.932Z"
   },
   {
    "duration": 250,
    "start_time": "2021-12-01T21:14:52.244Z"
   },
   {
    "duration": 229,
    "start_time": "2021-12-01T21:14:52.496Z"
   },
   {
    "duration": 12,
    "start_time": "2021-12-01T21:14:52.726Z"
   },
   {
    "duration": 59,
    "start_time": "2021-12-01T21:14:52.744Z"
   },
   {
    "duration": 20,
    "start_time": "2021-12-01T21:14:52.805Z"
   },
   {
    "duration": 37,
    "start_time": "2021-12-01T21:14:52.827Z"
   },
   {
    "duration": 18,
    "start_time": "2021-12-01T21:14:52.866Z"
   },
   {
    "duration": 26,
    "start_time": "2021-12-01T21:14:52.886Z"
   },
   {
    "duration": 48,
    "start_time": "2021-12-01T21:14:52.914Z"
   }
  ],
  "kernelspec": {
   "display_name": "Python 3 (ipykernel)",
   "language": "python",
   "name": "python3"
  },
  "language_info": {
   "codemirror_mode": {
    "name": "ipython",
    "version": 3
   },
   "file_extension": ".py",
   "mimetype": "text/x-python",
   "name": "python",
   "nbconvert_exporter": "python",
   "pygments_lexer": "ipython3",
   "version": "3.9.5"
  },
  "notebookId": "d9a5179c-e741-488b-9e47-2d615830b3d0",
  "notebookPath": "da-ds-preprocessing.ipynb",
  "toc": {
   "base_numbering": 1,
   "nav_menu": {},
   "number_sections": true,
   "sideBar": true,
   "skip_h1_title": true,
   "title_cell": "Table of Contents",
   "title_sidebar": "Contents",
   "toc_cell": false,
   "toc_position": {},
   "toc_section_display": true,
   "toc_window_display": false
  }
 },
 "nbformat": 4,
 "nbformat_minor": 4
}
