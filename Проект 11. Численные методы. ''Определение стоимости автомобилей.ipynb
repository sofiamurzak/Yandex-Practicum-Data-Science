{
 "cells": [
  {
   "cell_type": "markdown",
   "metadata": {},
   "source": [
    "Привет еще раз, меня зовут Люман Аблаев. Сегодня я проверю твой проект.\n",
    "<br> Дальнейшее общение будет происходить на \"ты\" если это не вызывает никаких проблем.\n",
    "<br> Желательно реагировать на каждый мой комментарий ('исправил', 'не понятно как исправить ошибку', ...)\n",
    "<br> Пожалуйста, не удаляй комментарии ревьюера, так как они повышают качество повторного ревью.\n",
    "\n",
    "Комментарии будут в <font color='green'>зеленой</font>, <font color='blue'>синей</font> или <font color='red'>красной</font> рамках:\n",
    "\n",
    "\n",
    "<div class=\"alert alert-block alert-success\">\n",
    "<b>Успех:</b> Если все сделано отлично\n",
    "</div>\n",
    "\n",
    "<div class=\"alert alert-block alert-info\">\n",
    "<b>Совет: </b> Если можно немного улучшить\n",
    "</div>\n",
    "\n",
    "<div class=\"alert alert-block alert-danger\">\n",
    "<b>Ошибка:</b> Если требуются исправления. Работа не может быть принята с красными комментариями.\n",
    "</div>\n",
    "\n",
    "-------------------\n",
    "\n",
    "Будет очень хорошо, если ты будешь помечать свои действия следующим образом:\n",
    "<div class=\"alert alert-block alert-warning\">\n",
    "<b>Комментарий студента:</b> ...\n",
    "</div>\n",
    "\n",
    "<div class=\"alert alert-block alert-warning\">\n",
    "<b>Изменения:</b> Были внесены следующие изменения ...\n",
    "</div>\n",
    "\n",
    "<font color='orange' style='font-size:24px; font-weight:bold'>Общее впечатление</font>\n",
    "* Спасибо за очередную качественную работу - видно, что приложено много усилий\n",
    "* Понравилось, что ты уделяешь должное внимание выводам - это очень важный навык\n",
    "- Я оставил некоторые советы, надеюсь они будут полезными и интересными\n",
    "- Тебе удалось справиться с задачей численных методов и достигнуть неплохих результатов, поздравляю!\n",
    "* Отправляю проект назад, если у тебя появились вопросы. Если их нет, то можешь просто отправить проект еще раз и я его зачту.\n",
    "\n",
    "\n"
   ]
  },
  {
   "cell_type": "code",
   "execution_count": null,
   "metadata": {
    "cellId": "b3tc1vhmf4c42l62pmqkwz",
    "id": "0KKqK19v4Sa5"
   },
   "outputs": [],
   "source": [
    "#%pip install -q -r requirements-ml.txt"
   ]
  },
  {
   "cell_type": "code",
   "execution_count": null,
   "metadata": {
    "cellId": "kpu7b6xmd7cuokjkoqfn3f",
    "id": "x6TRr7Jh4Sa8"
   },
   "outputs": [],
   "source": [
    "#%pip install scikit-learn==0.22.1"
   ]
  },
  {
   "cell_type": "markdown",
   "metadata": {
    "cellId": "q7c3un83r9kplg06vwjlb",
    "id": "n5BD_tGf4Sa9"
   },
   "source": [
    "# Определение стоимости автомобилей"
   ]
  },
  {
   "cell_type": "markdown",
   "metadata": {
    "cellId": "av03e2dujoi4bic3avilc7",
    "id": "1qbq6GBe4Sa-"
   },
   "source": [
    "Сервис по продаже автомобилей с пробегом «Не бит, не крашен» разрабатывает приложение для привлечения новых клиентов. В нём можно быстро узнать рыночную стоимость своего автомобиля. В вашем распоряжении исторические данные: технические характеристики, комплектации и цены автомобилей. Вам нужно построить модель для определения стоимости. \n",
    "\n",
    "Заказчику важны:\n",
    "\n",
    "- качество предсказания;\n",
    "- скорость предсказания;\n",
    "- время обучения."
   ]
  },
  {
   "cell_type": "markdown",
   "metadata": {
    "cellId": "eln9ou1ubpvgygw9nmrgth",
    "id": "6MFaGnV64Sa_"
   },
   "source": [
    "### Цель исследования\n",
    "Построить модель для определения стоимости автомобиля на основе исторических данных с характеристиками автомобилей.\n",
    "\n",
    "### Ход исследования\n",
    "1. Загрузка и просмотр исходных данных\n",
    "2. Предобработка данных\n",
    "3. Обучение различных моделей с подбором гиперпараметров\n",
    "4. Анализ скорости работы и качества моделей\n",
    "5. Формирование вывода"
   ]
  },
  {
   "cell_type": "markdown",
   "metadata": {
    "cellId": "bte0q96q5xcxu0l686g9ng",
    "id": "t08J9KnZ4SbA"
   },
   "source": [
    "## Загрузка данных"
   ]
  },
  {
   "cell_type": "markdown",
   "metadata": {
    "cellId": "dvv5qscahqgp42wo6kfy",
    "id": "ibeKjUkN4SbA"
   },
   "source": [
    "Импортирую все необходимые модули и библиотеки, которые потребуются в исследовании данных и подготовки моделей обучения."
   ]
  },
  {
   "cell_type": "code",
   "execution_count": null,
   "metadata": {
    "id": "YZ-gBlmt4m-z"
   },
   "outputs": [],
   "source": [
    "#%pip install catboost"
   ]
  },
  {
   "cell_type": "code",
   "execution_count": null,
   "metadata": {
    "cellId": "49yvecptzqq1oezk2ahh35",
    "id": "rK6ayBhw4SbA"
   },
   "outputs": [],
   "source": [
    "import pandas as pd\n",
    "import numpy as np\n",
    "import matplotlib.pyplot as plt\n",
    "import seaborn as sns\n",
    "\n",
    "from sklearn.linear_model import LinearRegression, Ridge\n",
    "from sklearn.ensemble import RandomForestRegressor\n",
    "import lightgbm as lgb\n",
    "from lightgbm import LGBMRegressor\n",
    "from catboost import CatBoostRegressor\n",
    "\n",
    "from sklearn.preprocessing import OneHotEncoder, StandardScaler\n",
    "from sklearn.model_selection import train_test_split, GridSearchCV, RepeatedStratifiedKFold\n",
    "from sklearn.metrics import mean_squared_error\n",
    "\n",
    "import time\n",
    "\n",
    "import warnings\n",
    "warnings.filterwarnings(\"ignore\")"
   ]
  },
  {
   "cell_type": "markdown",
   "metadata": {},
   "source": [
    "<div class=\"alert alert-block alert-success\">\n",
    "<b>Успех:</b> Описание и импорты на месте\n",
    "</div>"
   ]
  },
  {
   "cell_type": "markdown",
   "metadata": {
    "cellId": "sx1fve81xhb2t5fzonl6mf",
    "id": "DgUppJgA4SbB"
   },
   "source": [
    "Импортирую исходные данные методом read_csv, оформляю данные в датафрейм."
   ]
  },
  {
   "cell_type": "code",
   "execution_count": null,
   "metadata": {
    "cellId": "rstjjy2s78rdw7x88mu5y6",
    "id": "q5b2q3w24SbC"
   },
   "outputs": [],
   "source": [
    "try:\n",
    "    data = pd.read_csv('/content/autos.csv')\n",
    "except FileNotFoundError as e:\n",
    "    print(e)\n",
    "    data = pd.read_csv('/datasets/autos.csv')"
   ]
  },
  {
   "cell_type": "code",
   "execution_count": null,
   "metadata": {
    "cellId": "iir326ka8fmjugfre8qjb",
    "colab": {
     "base_uri": "https://localhost:8080/",
     "height": 444
    },
    "id": "GLxhBeLo4SbC",
    "outputId": "486a81a2-c950-48d7-8a8a-dfe0ba2b0d33"
   },
   "outputs": [
    {
     "data": {
      "text/html": [
       "\n",
       "  <div id=\"df-c89a1532-f70d-488e-9de4-6ade63946eb7\">\n",
       "    <div class=\"colab-df-container\">\n",
       "      <div>\n",
       "<style scoped>\n",
       "    .dataframe tbody tr th:only-of-type {\n",
       "        vertical-align: middle;\n",
       "    }\n",
       "\n",
       "    .dataframe tbody tr th {\n",
       "        vertical-align: top;\n",
       "    }\n",
       "\n",
       "    .dataframe thead th {\n",
       "        text-align: right;\n",
       "    }\n",
       "</style>\n",
       "<table border=\"1\" class=\"dataframe\">\n",
       "  <thead>\n",
       "    <tr style=\"text-align: right;\">\n",
       "      <th></th>\n",
       "      <th>DateCrawled</th>\n",
       "      <th>Price</th>\n",
       "      <th>VehicleType</th>\n",
       "      <th>RegistrationYear</th>\n",
       "      <th>Gearbox</th>\n",
       "      <th>Power</th>\n",
       "      <th>Model</th>\n",
       "      <th>Kilometer</th>\n",
       "      <th>RegistrationMonth</th>\n",
       "      <th>FuelType</th>\n",
       "      <th>Brand</th>\n",
       "      <th>NotRepaired</th>\n",
       "      <th>DateCreated</th>\n",
       "      <th>NumberOfPictures</th>\n",
       "      <th>PostalCode</th>\n",
       "      <th>LastSeen</th>\n",
       "    </tr>\n",
       "  </thead>\n",
       "  <tbody>\n",
       "    <tr>\n",
       "      <th>0</th>\n",
       "      <td>2016-03-24 11:52:17</td>\n",
       "      <td>480</td>\n",
       "      <td>NaN</td>\n",
       "      <td>1993</td>\n",
       "      <td>manual</td>\n",
       "      <td>0</td>\n",
       "      <td>golf</td>\n",
       "      <td>150000</td>\n",
       "      <td>0</td>\n",
       "      <td>petrol</td>\n",
       "      <td>volkswagen</td>\n",
       "      <td>NaN</td>\n",
       "      <td>2016-03-24 00:00:00</td>\n",
       "      <td>0</td>\n",
       "      <td>70435</td>\n",
       "      <td>2016-04-07 03:16:57</td>\n",
       "    </tr>\n",
       "    <tr>\n",
       "      <th>1</th>\n",
       "      <td>2016-03-24 10:58:45</td>\n",
       "      <td>18300</td>\n",
       "      <td>coupe</td>\n",
       "      <td>2011</td>\n",
       "      <td>manual</td>\n",
       "      <td>190</td>\n",
       "      <td>NaN</td>\n",
       "      <td>125000</td>\n",
       "      <td>5</td>\n",
       "      <td>gasoline</td>\n",
       "      <td>audi</td>\n",
       "      <td>yes</td>\n",
       "      <td>2016-03-24 00:00:00</td>\n",
       "      <td>0</td>\n",
       "      <td>66954</td>\n",
       "      <td>2016-04-07 01:46:50</td>\n",
       "    </tr>\n",
       "    <tr>\n",
       "      <th>2</th>\n",
       "      <td>2016-03-14 12:52:21</td>\n",
       "      <td>9800</td>\n",
       "      <td>suv</td>\n",
       "      <td>2004</td>\n",
       "      <td>auto</td>\n",
       "      <td>163</td>\n",
       "      <td>grand</td>\n",
       "      <td>125000</td>\n",
       "      <td>8</td>\n",
       "      <td>gasoline</td>\n",
       "      <td>jeep</td>\n",
       "      <td>NaN</td>\n",
       "      <td>2016-03-14 00:00:00</td>\n",
       "      <td>0</td>\n",
       "      <td>90480</td>\n",
       "      <td>2016-04-05 12:47:46</td>\n",
       "    </tr>\n",
       "    <tr>\n",
       "      <th>3</th>\n",
       "      <td>2016-03-17 16:54:04</td>\n",
       "      <td>1500</td>\n",
       "      <td>small</td>\n",
       "      <td>2001</td>\n",
       "      <td>manual</td>\n",
       "      <td>75</td>\n",
       "      <td>golf</td>\n",
       "      <td>150000</td>\n",
       "      <td>6</td>\n",
       "      <td>petrol</td>\n",
       "      <td>volkswagen</td>\n",
       "      <td>no</td>\n",
       "      <td>2016-03-17 00:00:00</td>\n",
       "      <td>0</td>\n",
       "      <td>91074</td>\n",
       "      <td>2016-03-17 17:40:17</td>\n",
       "    </tr>\n",
       "    <tr>\n",
       "      <th>4</th>\n",
       "      <td>2016-03-31 17:25:20</td>\n",
       "      <td>3600</td>\n",
       "      <td>small</td>\n",
       "      <td>2008</td>\n",
       "      <td>manual</td>\n",
       "      <td>69</td>\n",
       "      <td>fabia</td>\n",
       "      <td>90000</td>\n",
       "      <td>7</td>\n",
       "      <td>gasoline</td>\n",
       "      <td>skoda</td>\n",
       "      <td>no</td>\n",
       "      <td>2016-03-31 00:00:00</td>\n",
       "      <td>0</td>\n",
       "      <td>60437</td>\n",
       "      <td>2016-04-06 10:17:21</td>\n",
       "    </tr>\n",
       "  </tbody>\n",
       "</table>\n",
       "</div>\n",
       "      <button class=\"colab-df-convert\" onclick=\"convertToInteractive('df-c89a1532-f70d-488e-9de4-6ade63946eb7')\"\n",
       "              title=\"Convert this dataframe to an interactive table.\"\n",
       "              style=\"display:none;\">\n",
       "        \n",
       "  <svg xmlns=\"http://www.w3.org/2000/svg\" height=\"24px\"viewBox=\"0 0 24 24\"\n",
       "       width=\"24px\">\n",
       "    <path d=\"M0 0h24v24H0V0z\" fill=\"none\"/>\n",
       "    <path d=\"M18.56 5.44l.94 2.06.94-2.06 2.06-.94-2.06-.94-.94-2.06-.94 2.06-2.06.94zm-11 1L8.5 8.5l.94-2.06 2.06-.94-2.06-.94L8.5 2.5l-.94 2.06-2.06.94zm10 10l.94 2.06.94-2.06 2.06-.94-2.06-.94-.94-2.06-.94 2.06-2.06.94z\"/><path d=\"M17.41 7.96l-1.37-1.37c-.4-.4-.92-.59-1.43-.59-.52 0-1.04.2-1.43.59L10.3 9.45l-7.72 7.72c-.78.78-.78 2.05 0 2.83L4 21.41c.39.39.9.59 1.41.59.51 0 1.02-.2 1.41-.59l7.78-7.78 2.81-2.81c.8-.78.8-2.07 0-2.86zM5.41 20L4 18.59l7.72-7.72 1.47 1.35L5.41 20z\"/>\n",
       "  </svg>\n",
       "      </button>\n",
       "      \n",
       "  <style>\n",
       "    .colab-df-container {\n",
       "      display:flex;\n",
       "      flex-wrap:wrap;\n",
       "      gap: 12px;\n",
       "    }\n",
       "\n",
       "    .colab-df-convert {\n",
       "      background-color: #E8F0FE;\n",
       "      border: none;\n",
       "      border-radius: 50%;\n",
       "      cursor: pointer;\n",
       "      display: none;\n",
       "      fill: #1967D2;\n",
       "      height: 32px;\n",
       "      padding: 0 0 0 0;\n",
       "      width: 32px;\n",
       "    }\n",
       "\n",
       "    .colab-df-convert:hover {\n",
       "      background-color: #E2EBFA;\n",
       "      box-shadow: 0px 1px 2px rgba(60, 64, 67, 0.3), 0px 1px 3px 1px rgba(60, 64, 67, 0.15);\n",
       "      fill: #174EA6;\n",
       "    }\n",
       "\n",
       "    [theme=dark] .colab-df-convert {\n",
       "      background-color: #3B4455;\n",
       "      fill: #D2E3FC;\n",
       "    }\n",
       "\n",
       "    [theme=dark] .colab-df-convert:hover {\n",
       "      background-color: #434B5C;\n",
       "      box-shadow: 0px 1px 3px 1px rgba(0, 0, 0, 0.15);\n",
       "      filter: drop-shadow(0px 1px 2px rgba(0, 0, 0, 0.3));\n",
       "      fill: #FFFFFF;\n",
       "    }\n",
       "  </style>\n",
       "\n",
       "      <script>\n",
       "        const buttonEl =\n",
       "          document.querySelector('#df-c89a1532-f70d-488e-9de4-6ade63946eb7 button.colab-df-convert');\n",
       "        buttonEl.style.display =\n",
       "          google.colab.kernel.accessAllowed ? 'block' : 'none';\n",
       "\n",
       "        async function convertToInteractive(key) {\n",
       "          const element = document.querySelector('#df-c89a1532-f70d-488e-9de4-6ade63946eb7');\n",
       "          const dataTable =\n",
       "            await google.colab.kernel.invokeFunction('convertToInteractive',\n",
       "                                                     [key], {});\n",
       "          if (!dataTable) return;\n",
       "\n",
       "          const docLinkHtml = 'Like what you see? Visit the ' +\n",
       "            '<a target=\"_blank\" href=https://colab.research.google.com/notebooks/data_table.ipynb>data table notebook</a>'\n",
       "            + ' to learn more about interactive tables.';\n",
       "          element.innerHTML = '';\n",
       "          dataTable['output_type'] = 'display_data';\n",
       "          await google.colab.output.renderOutput(dataTable, element);\n",
       "          const docLink = document.createElement('div');\n",
       "          docLink.innerHTML = docLinkHtml;\n",
       "          element.appendChild(docLink);\n",
       "        }\n",
       "      </script>\n",
       "    </div>\n",
       "  </div>\n",
       "  "
      ],
      "text/plain": [
       "           DateCrawled  Price VehicleType  RegistrationYear Gearbox  Power  \\\n",
       "0  2016-03-24 11:52:17    480         NaN              1993  manual      0   \n",
       "1  2016-03-24 10:58:45  18300       coupe              2011  manual    190   \n",
       "2  2016-03-14 12:52:21   9800         suv              2004    auto    163   \n",
       "3  2016-03-17 16:54:04   1500       small              2001  manual     75   \n",
       "4  2016-03-31 17:25:20   3600       small              2008  manual     69   \n",
       "\n",
       "   Model  Kilometer  RegistrationMonth  FuelType       Brand NotRepaired  \\\n",
       "0   golf     150000                  0    petrol  volkswagen         NaN   \n",
       "1    NaN     125000                  5  gasoline        audi         yes   \n",
       "2  grand     125000                  8  gasoline        jeep         NaN   \n",
       "3   golf     150000                  6    petrol  volkswagen          no   \n",
       "4  fabia      90000                  7  gasoline       skoda          no   \n",
       "\n",
       "           DateCreated  NumberOfPictures  PostalCode             LastSeen  \n",
       "0  2016-03-24 00:00:00                 0       70435  2016-04-07 03:16:57  \n",
       "1  2016-03-24 00:00:00                 0       66954  2016-04-07 01:46:50  \n",
       "2  2016-03-14 00:00:00                 0       90480  2016-04-05 12:47:46  \n",
       "3  2016-03-17 00:00:00                 0       91074  2016-03-17 17:40:17  \n",
       "4  2016-03-31 00:00:00                 0       60437  2016-04-06 10:17:21  "
      ]
     },
     "execution_count": 20,
     "metadata": {},
     "output_type": "execute_result"
    }
   ],
   "source": [
    "data.head()"
   ]
  },
  {
   "cell_type": "code",
   "execution_count": null,
   "metadata": {
    "cellId": "qx7c1ywqiv9rocpjxorko",
    "colab": {
     "base_uri": "https://localhost:8080/"
    },
    "id": "HgOewLZc4SbC",
    "outputId": "b2b20952-f8fe-4b91-f520-21fddffb55b0"
   },
   "outputs": [
    {
     "name": "stdout",
     "output_type": "stream",
     "text": [
      "<class 'pandas.core.frame.DataFrame'>\n",
      "RangeIndex: 354369 entries, 0 to 354368\n",
      "Data columns (total 16 columns):\n",
      " #   Column             Non-Null Count   Dtype \n",
      "---  ------             --------------   ----- \n",
      " 0   DateCrawled        354369 non-null  object\n",
      " 1   Price              354369 non-null  int64 \n",
      " 2   VehicleType        316879 non-null  object\n",
      " 3   RegistrationYear   354369 non-null  int64 \n",
      " 4   Gearbox            334536 non-null  object\n",
      " 5   Power              354369 non-null  int64 \n",
      " 6   Model              334664 non-null  object\n",
      " 7   Kilometer          354369 non-null  int64 \n",
      " 8   RegistrationMonth  354369 non-null  int64 \n",
      " 9   FuelType           321474 non-null  object\n",
      " 10  Brand              354369 non-null  object\n",
      " 11  NotRepaired        283215 non-null  object\n",
      " 12  DateCreated        354369 non-null  object\n",
      " 13  NumberOfPictures   354369 non-null  int64 \n",
      " 14  PostalCode         354369 non-null  int64 \n",
      " 15  LastSeen           354369 non-null  object\n",
      "dtypes: int64(7), object(9)\n",
      "memory usage: 43.3+ MB\n"
     ]
    }
   ],
   "source": [
    "data.info()"
   ]
  },
  {
   "cell_type": "markdown",
   "metadata": {
    "cellId": "vo4q2rvgpdrp5j0gxyge0m",
    "id": "yY-yYTvN4SbD"
   },
   "source": [
    "В исходных данных содержатся исторические данные: технические характеристики, комплектации и цены автомобилей. В датафрейме 16 столбцов с данными.\n",
    "\n",
    "**Признаки**\n",
    "- DateCrawled — дата скачивания анкеты из базы\n",
    "- VehicleType — тип автомобильного кузова\n",
    "- RegistrationYear — год регистрации автомобиля\n",
    "- Gearbox — тип коробки передач\n",
    "- Power — мощность (л. с.)\n",
    "- Model — модель автомобиля\n",
    "- Kilometer — пробег (км)\n",
    "- RegistrationMonth — месяц регистрации автомобиля\n",
    "- FuelType — тип топлива\n",
    "- Brand — марка автомобиля\n",
    "- NotRepaired — была машина в ремонте или нет\n",
    "- DateCreated — дата создания анкеты\n",
    "- NumberOfPictures — количество фотографий автомобиля\n",
    "- PostalCode — почтовый индекс владельца анкеты (пользователя)\n",
    "- LastSeen — дата последней активности пользователя\n",
    "\n",
    "**Целевой признак**\n",
    "- Price — цена (евро)"
   ]
  },
  {
   "cell_type": "markdown",
   "metadata": {
    "cellId": "iosc77s4gzpw2pbk7hyy8",
    "id": "ijlOhW364SbD"
   },
   "source": [
    "## Подготовка данных"
   ]
  },
  {
   "cell_type": "markdown",
   "metadata": {
    "cellId": "w5m0xa80vod84zig6g4lfp",
    "id": "H8iNEA874SbD"
   },
   "source": [
    "#### Изменение стиля названия колонок"
   ]
  },
  {
   "cell_type": "markdown",
   "metadata": {
    "cellId": "18687rl5byqx5vj2503wpe",
    "id": "X4Z6koTE4SbD"
   },
   "source": [
    "Изменю наименования колонок на корректное стилистическое написание - строчными буквами. Пройдусь в цикле по каждому наименованию столбца и применю к наименованию метод lower()."
   ]
  },
  {
   "cell_type": "code",
   "execution_count": null,
   "metadata": {
    "cellId": "89kq88qn8ikg6beeyp0phf",
    "colab": {
     "base_uri": "https://localhost:8080/"
    },
    "id": "mf6Ag4Db4SbE",
    "outputId": "38529100-a5ce-4327-8adf-fac65fd6c058"
   },
   "outputs": [
    {
     "data": {
      "text/plain": [
       "Index(['DateCrawled', 'Price', 'VehicleType', 'RegistrationYear', 'Gearbox',\n",
       "       'Power', 'Model', 'Kilometer', 'RegistrationMonth', 'FuelType', 'Brand',\n",
       "       'NotRepaired', 'DateCreated', 'NumberOfPictures', 'PostalCode',\n",
       "       'LastSeen'],\n",
       "      dtype='object')"
      ]
     },
     "execution_count": 22,
     "metadata": {},
     "output_type": "execute_result"
    }
   ],
   "source": [
    "data.columns"
   ]
  },
  {
   "cell_type": "code",
   "execution_count": null,
   "metadata": {
    "cellId": "cuh5qhm98hdswp9bwe1fg8",
    "id": "Lv4PfolP4SbE"
   },
   "outputs": [],
   "source": [
    "columns_lower = []\n",
    "for column in data.columns:\n",
    "    columns_lower.append(column.lower())"
   ]
  },
  {
   "cell_type": "code",
   "execution_count": null,
   "metadata": {
    "cellId": "6wjhscxr3ilcctt7pf2mwm",
    "id": "sHDi7oFB4SbE"
   },
   "outputs": [],
   "source": [
    "data.columns = columns_lower"
   ]
  },
  {
   "cell_type": "markdown",
   "metadata": {
    "cellId": "lvdqttnt9wewlf6w2yyzk",
    "id": "bRWStdWi4SbF"
   },
   "source": [
    "#### Обработка пропущенных значений"
   ]
  },
  {
   "cell_type": "markdown",
   "metadata": {
    "cellId": "tcj8hwo8ivob6wfiphm23h",
    "id": "8XAERdX64SbF"
   },
   "source": [
    "Посмотрю, в каких колонках отстутсвуют значения в строках и посчитаю количество пропущенных значений в каждой из таких колонок."
   ]
  },
  {
   "cell_type": "code",
   "execution_count": null,
   "metadata": {
    "cellId": "wukj7r5qfkgn7blauis4dm",
    "colab": {
     "base_uri": "https://localhost:8080/"
    },
    "id": "2tC7csnL4SbF",
    "outputId": "f51b27ee-e20f-47f9-e63f-3212de4e7fe2"
   },
   "outputs": [
    {
     "name": "stdout",
     "output_type": "stream",
     "text": [
      "Количество пропущенных значений в колонке vehicletype: 37490\n",
      "Количество пропущенных значений в колонке gearbox: 19833\n",
      "Количество пропущенных значений в колонке model: 19705\n",
      "Количество пропущенных значений в колонке fueltype: 32895\n",
      "Количество пропущенных значений в колонке notrepaired: 71154\n"
     ]
    }
   ],
   "source": [
    "for column in data.columns:\n",
    "    if data[column].isna().sum()>0:\n",
    "        print(f'Количество пропущенных значений в колонке {column}: {data[column].isna().sum()}')"
   ]
  },
  {
   "cell_type": "markdown",
   "metadata": {
    "cellId": "77mcsd1u4v327bqx15ab8t",
    "id": "xEGVesxF4SbF"
   },
   "source": [
    "Пропуски в таких технических характеристиках, как vehicletype, gearbox, model, fueltype можно заменить самым частым значением признака в совокупности других характеристик автомобиля. Для того, чтобы осуществить замену пропусков в такой логике для каждой из колонок, я напишу цикл, который считает самое частое значение искомого признака в строкахс уникальным соединением признаков 'vehicletype', 'gearbox', 'model', 'fueltype', 'power'. Для того, чтобы совместить полученные значения с исходными данными, в которых есть пропуски в искомом значении, я установлю эту \"совокупность признаков\" в качестве индекса.\n",
    "\n",
    "Есть гипотеза, что можно прогнать цикл несколько раз, так как при заполнении пропусков в одних значениях, могут появляться новые уникальные \"совокупности признаков\" с частым искомым признаком, который потом может заполнить пропущенные значения вновь. Для проверки этой гипотезы, я установлю счетчик counter=0 и проверю, убавляются ли пропущенные значения в признаках при втором запуске цикла."
   ]
  },
  {
   "cell_type": "code",
   "execution_count": null,
   "metadata": {
    "cellId": "0i36nys81fkolhnqgpkwl",
    "colab": {
     "base_uri": "https://localhost:8080/"
    },
    "id": "k8-GYTjD4SbF",
    "outputId": "f0833e72-6113-4ab9-d188-a1ce5d245bbd"
   },
   "outputs": [
    {
     "name": "stdout",
     "output_type": "stream",
     "text": [
      "['gearbox', 'model', 'fueltype']\n",
      "22886\n",
      "['vehicletype', 'model', 'fueltype']\n",
      "13030\n",
      "['vehicletype', 'gearbox', 'fueltype']\n",
      "10720\n",
      "['vehicletype', 'gearbox', 'model']\n",
      "22348\n",
      "['gearbox', 'model', 'fueltype']\n",
      "22886\n",
      "['vehicletype', 'model', 'fueltype']\n",
      "13030\n",
      "['vehicletype', 'gearbox', 'fueltype']\n",
      "10720\n",
      "['vehicletype', 'gearbox', 'model']\n",
      "22348\n"
     ]
    }
   ],
   "source": [
    "column_list = ['vehicletype', 'gearbox', 'model', 'fueltype']\n",
    "counter = 0\n",
    "while counter<8:\n",
    "    for column in column_list:\n",
    "        data[column].isna().sum()\n",
    "        list_features = ['vehicletype', 'gearbox', 'model', 'fueltype']\n",
    "        list_without_column = list_features.remove(column)\n",
    "        print(list_features)\n",
    "\n",
    "        column_without_null = data.dropna(subset = [column])\n",
    "        column_mode = column_without_null.groupby([column_without_null[list_features[0]]+column_without_null[list_features[1]]+column_without_null[list_features[2]]+column_without_null['power'].astype('str')])[column].agg(lambda x:x.value_counts().index[0]).to_frame()\n",
    "        data['concat_for_fillna'] = data[list_features[0]]+data[list_features[1]]+data[list_features[2]]+data['power'].astype('str')\n",
    "        data.set_index('concat_for_fillna', inplace=True)\n",
    "        data[column].fillna(column_mode[column], inplace=True)\n",
    "        counter +=1\n",
    "        print(data[column].isna().sum())"
   ]
  },
  {
   "cell_type": "markdown",
   "metadata": {
    "cellId": "3xof5lieprwb15qzzs2h0u",
    "id": "sMYfcm8Q4SbF"
   },
   "source": [
    "С помощью цикла удалось заполнить половину пропусков в каждой из колонок. Не все признаки заполнились, так как в признаках для совокупности признаков так же присутствуют пропущеныые значения. Гипотеза с убавлением пропущенных значений с прогонкой цикла несколько раз не подтвердилась. Чтобы не избавляться от строк с пропущенными значениям и не заполнять их некорректным способом, заполню их новым значением 'unknown', если срези значений признака есть тип \"other\", занесу пропущенные значения туда.\n",
    "Для столбца notrepaired так же сделаю преобразование пропущенных значений - заполню значением 'unknown', так как невозможно понять по остальным характеристикам, была машина в ремонте или нет."
   ]
  },
  {
   "cell_type": "code",
   "execution_count": null,
   "metadata": {
    "cellId": "alw5cik6jxgy8hxnxq8yh",
    "colab": {
     "base_uri": "https://localhost:8080/"
    },
    "id": "0CCnZA194SbG",
    "outputId": "2c77ef5d-27b6-42fe-a5cf-2a0f9c71d7db"
   },
   "outputs": [
    {
     "data": {
      "text/plain": [
       "manual    273878\n",
       "auto       67461\n",
       "Name: gearbox, dtype: int64"
      ]
     },
     "execution_count": 27,
     "metadata": {},
     "output_type": "execute_result"
    }
   ],
   "source": [
    "data['gearbox'].value_counts()"
   ]
  },
  {
   "cell_type": "code",
   "execution_count": null,
   "metadata": {
    "cellId": "gllj48b6x17av8dorit34",
    "colab": {
     "base_uri": "https://localhost:8080/"
    },
    "id": "T9cFlQl44SbG",
    "outputId": "0e21dfda-e6e4-43bf-e289-adb9cac61dd8"
   },
   "outputs": [
    {
     "data": {
      "text/plain": [
       "petrol      224652\n",
       "gasoline    100939\n",
       "lpg           5327\n",
       "cng            572\n",
       "hybrid         237\n",
       "other          204\n",
       "electric        90\n",
       "Name: fueltype, dtype: int64"
      ]
     },
     "execution_count": 28,
     "metadata": {},
     "output_type": "execute_result"
    }
   ],
   "source": [
    "data['fueltype'].value_counts()"
   ]
  },
  {
   "cell_type": "code",
   "execution_count": null,
   "metadata": {
    "cellId": "6ztew85l9ip97217brbkfq",
    "colab": {
     "base_uri": "https://localhost:8080/"
    },
    "id": "VunaQ61T4SbG",
    "outputId": "386a42ed-0908-4d2e-96c2-3e5af074f78c"
   },
   "outputs": [
    {
     "data": {
      "text/plain": [
       "golf                  30605\n",
       "other                 25534\n",
       "3er                   20823\n",
       "polo                  13629\n",
       "corsa                 13294\n",
       "                      ...  \n",
       "i3                        8\n",
       "rangerover                4\n",
       "serie_3                   4\n",
       "range_rover_evoque        2\n",
       "serie_1                   2\n",
       "Name: model, Length: 250, dtype: int64"
      ]
     },
     "execution_count": 29,
     "metadata": {},
     "output_type": "execute_result"
    }
   ],
   "source": [
    "data['model'].value_counts()"
   ]
  },
  {
   "cell_type": "code",
   "execution_count": null,
   "metadata": {
    "cellId": "0fdjel2voffr4mb2yb2rm9",
    "colab": {
     "base_uri": "https://localhost:8080/"
    },
    "id": "i2E2tKNy4SbG",
    "outputId": "da164900-5bf9-453b-d2b0-cf038b634283"
   },
   "outputs": [
    {
     "data": {
      "text/plain": [
       "sedan          96832\n",
       "small          84825\n",
       "wagon          66849\n",
       "bus            30638\n",
       "convertible    20412\n",
       "coupe          16417\n",
       "suv            12182\n",
       "other           3328\n",
       "Name: vehicletype, dtype: int64"
      ]
     },
     "execution_count": 30,
     "metadata": {},
     "output_type": "execute_result"
    }
   ],
   "source": [
    "data['vehicletype'].value_counts()"
   ]
  },
  {
   "cell_type": "code",
   "execution_count": null,
   "metadata": {
    "cellId": "ola5otknimbj351vjf2qrl",
    "id": "XP6XyYdl4SbG"
   },
   "outputs": [],
   "source": [
    "data['gearbox'] = data['gearbox'].fillna('unknown')\n",
    "data['fueltype'] = data['fueltype'].fillna('other')\n",
    "data['model'] = data['model'].fillna('other')\n",
    "data['vehicletype'] = data['vehicletype'].fillna('other')\n",
    "data['notrepaired'] = data['notrepaired'].fillna('unknown')"
   ]
  },
  {
   "cell_type": "code",
   "execution_count": null,
   "metadata": {
    "cellId": "t03ztn6o7xmcj4yrhvp08",
    "colab": {
     "base_uri": "https://localhost:8080/"
    },
    "id": "1XhdnAPR4SbG",
    "outputId": "6f5a63a4-90c5-45e6-811b-6b1a62a441fd"
   },
   "outputs": [
    {
     "data": {
      "text/plain": [
       "datecrawled          0\n",
       "price                0\n",
       "vehicletype          0\n",
       "registrationyear     0\n",
       "gearbox              0\n",
       "power                0\n",
       "model                0\n",
       "kilometer            0\n",
       "registrationmonth    0\n",
       "fueltype             0\n",
       "brand                0\n",
       "notrepaired          0\n",
       "datecreated          0\n",
       "numberofpictures     0\n",
       "postalcode           0\n",
       "lastseen             0\n",
       "dtype: int64"
      ]
     },
     "execution_count": 32,
     "metadata": {},
     "output_type": "execute_result"
    }
   ],
   "source": [
    "data.isna().sum()"
   ]
  },
  {
   "cell_type": "markdown",
   "metadata": {
    "cellId": "6k2sqe1m9sj26kfw02altu",
    "id": "leqfLpAm4SbG"
   },
   "source": [
    "Пропуски заполнены, можно переходить к дубликатам."
   ]
  },
  {
   "cell_type": "markdown",
   "metadata": {},
   "source": [
    "<div class=\"alert alert-block alert-success\">\n",
    "<b>Успех:</b> Пропуски проанализированы неплохо, провелись эксперементы, что очень похвально! И заполнены допустимым способом.\n",
    "</div>"
   ]
  },
  {
   "cell_type": "markdown",
   "metadata": {
    "cellId": "obvib2dm1wdyogm7vstz7",
    "id": "tCref5sQ4SbG"
   },
   "source": [
    "#### Дубликаты"
   ]
  },
  {
   "cell_type": "code",
   "execution_count": null,
   "metadata": {
    "cellId": "3q5rcvgh0hlgb1ddda7oj",
    "colab": {
     "base_uri": "https://localhost:8080/"
    },
    "id": "ubyy6tjK4SbG",
    "outputId": "05660435-0821-4779-98aa-7e5e6c9731a3"
   },
   "outputs": [
    {
     "data": {
      "text/plain": [
       "4"
      ]
     },
     "execution_count": 33,
     "metadata": {},
     "output_type": "execute_result"
    }
   ],
   "source": [
    "data.duplicated().sum()"
   ]
  },
  {
   "cell_type": "markdown",
   "metadata": {
    "cellId": "dwby135x3tqetf9gyxba1q",
    "id": "52iOdYLF4SbH"
   },
   "source": [
    "Найдено всего 4 явных дубликата, смело удалю эти строки."
   ]
  },
  {
   "cell_type": "code",
   "execution_count": null,
   "metadata": {
    "cellId": "xzijoymvk461yjb0m5r",
    "id": "vO2RJTEs4SbH"
   },
   "outputs": [],
   "source": [
    "data = data.drop_duplicates()"
   ]
  },
  {
   "cell_type": "markdown",
   "metadata": {
    "cellId": "yqslg6n4mp8ygtxmwgxd9c",
    "id": "9Eq_I1x84SbH"
   },
   "source": [
    "#### Основные статистические показатели"
   ]
  },
  {
   "cell_type": "code",
   "execution_count": null,
   "metadata": {
    "cellId": "z6dbxnn4oseth4h1vvhys",
    "colab": {
     "base_uri": "https://localhost:8080/"
    },
    "id": "EOGdRLm94SbH",
    "outputId": "bc67c17e-05a2-4937-a4f7-c93bb06e064d"
   },
   "outputs": [
    {
     "data": {
      "text/html": [
       "\n",
       "  <div id=\"df-5cb0b9ac-e143-4ff8-b628-9049d97140aa\">\n",
       "    <div class=\"colab-df-container\">\n",
       "      <div>\n",
       "<style scoped>\n",
       "    .dataframe tbody tr th:only-of-type {\n",
       "        vertical-align: middle;\n",
       "    }\n",
       "\n",
       "    .dataframe tbody tr th {\n",
       "        vertical-align: top;\n",
       "    }\n",
       "\n",
       "    .dataframe thead th {\n",
       "        text-align: right;\n",
       "    }\n",
       "</style>\n",
       "<table border=\"1\" class=\"dataframe\">\n",
       "  <thead>\n",
       "    <tr style=\"text-align: right;\">\n",
       "      <th></th>\n",
       "      <th>price</th>\n",
       "      <th>registrationyear</th>\n",
       "      <th>power</th>\n",
       "      <th>kilometer</th>\n",
       "      <th>registrationmonth</th>\n",
       "      <th>numberofpictures</th>\n",
       "      <th>postalcode</th>\n",
       "    </tr>\n",
       "  </thead>\n",
       "  <tbody>\n",
       "    <tr>\n",
       "      <th>count</th>\n",
       "      <td>354365.000000</td>\n",
       "      <td>354365.000000</td>\n",
       "      <td>354365.000000</td>\n",
       "      <td>354365.000000</td>\n",
       "      <td>354365.000000</td>\n",
       "      <td>354365.0</td>\n",
       "      <td>354365.000000</td>\n",
       "    </tr>\n",
       "    <tr>\n",
       "      <th>mean</th>\n",
       "      <td>4416.679830</td>\n",
       "      <td>2004.234481</td>\n",
       "      <td>110.093816</td>\n",
       "      <td>128211.363989</td>\n",
       "      <td>5.714650</td>\n",
       "      <td>0.0</td>\n",
       "      <td>50508.503800</td>\n",
       "    </tr>\n",
       "    <tr>\n",
       "      <th>std</th>\n",
       "      <td>4514.176349</td>\n",
       "      <td>90.228466</td>\n",
       "      <td>189.851330</td>\n",
       "      <td>37905.083858</td>\n",
       "      <td>3.726432</td>\n",
       "      <td>0.0</td>\n",
       "      <td>25783.100078</td>\n",
       "    </tr>\n",
       "    <tr>\n",
       "      <th>min</th>\n",
       "      <td>0.000000</td>\n",
       "      <td>1000.000000</td>\n",
       "      <td>0.000000</td>\n",
       "      <td>5000.000000</td>\n",
       "      <td>0.000000</td>\n",
       "      <td>0.0</td>\n",
       "      <td>1067.000000</td>\n",
       "    </tr>\n",
       "    <tr>\n",
       "      <th>25%</th>\n",
       "      <td>1050.000000</td>\n",
       "      <td>1999.000000</td>\n",
       "      <td>69.000000</td>\n",
       "      <td>125000.000000</td>\n",
       "      <td>3.000000</td>\n",
       "      <td>0.0</td>\n",
       "      <td>30165.000000</td>\n",
       "    </tr>\n",
       "    <tr>\n",
       "      <th>50%</th>\n",
       "      <td>2700.000000</td>\n",
       "      <td>2003.000000</td>\n",
       "      <td>105.000000</td>\n",
       "      <td>150000.000000</td>\n",
       "      <td>6.000000</td>\n",
       "      <td>0.0</td>\n",
       "      <td>49413.000000</td>\n",
       "    </tr>\n",
       "    <tr>\n",
       "      <th>75%</th>\n",
       "      <td>6400.000000</td>\n",
       "      <td>2008.000000</td>\n",
       "      <td>143.000000</td>\n",
       "      <td>150000.000000</td>\n",
       "      <td>9.000000</td>\n",
       "      <td>0.0</td>\n",
       "      <td>71083.000000</td>\n",
       "    </tr>\n",
       "    <tr>\n",
       "      <th>max</th>\n",
       "      <td>20000.000000</td>\n",
       "      <td>9999.000000</td>\n",
       "      <td>20000.000000</td>\n",
       "      <td>150000.000000</td>\n",
       "      <td>12.000000</td>\n",
       "      <td>0.0</td>\n",
       "      <td>99998.000000</td>\n",
       "    </tr>\n",
       "  </tbody>\n",
       "</table>\n",
       "</div>\n",
       "      <button class=\"colab-df-convert\" onclick=\"convertToInteractive('df-5cb0b9ac-e143-4ff8-b628-9049d97140aa')\"\n",
       "              title=\"Convert this dataframe to an interactive table.\"\n",
       "              style=\"display:none;\">\n",
       "        \n",
       "  <svg xmlns=\"http://www.w3.org/2000/svg\" height=\"24px\"viewBox=\"0 0 24 24\"\n",
       "       width=\"24px\">\n",
       "    <path d=\"M0 0h24v24H0V0z\" fill=\"none\"/>\n",
       "    <path d=\"M18.56 5.44l.94 2.06.94-2.06 2.06-.94-2.06-.94-.94-2.06-.94 2.06-2.06.94zm-11 1L8.5 8.5l.94-2.06 2.06-.94-2.06-.94L8.5 2.5l-.94 2.06-2.06.94zm10 10l.94 2.06.94-2.06 2.06-.94-2.06-.94-.94-2.06-.94 2.06-2.06.94z\"/><path d=\"M17.41 7.96l-1.37-1.37c-.4-.4-.92-.59-1.43-.59-.52 0-1.04.2-1.43.59L10.3 9.45l-7.72 7.72c-.78.78-.78 2.05 0 2.83L4 21.41c.39.39.9.59 1.41.59.51 0 1.02-.2 1.41-.59l7.78-7.78 2.81-2.81c.8-.78.8-2.07 0-2.86zM5.41 20L4 18.59l7.72-7.72 1.47 1.35L5.41 20z\"/>\n",
       "  </svg>\n",
       "      </button>\n",
       "      \n",
       "  <style>\n",
       "    .colab-df-container {\n",
       "      display:flex;\n",
       "      flex-wrap:wrap;\n",
       "      gap: 12px;\n",
       "    }\n",
       "\n",
       "    .colab-df-convert {\n",
       "      background-color: #E8F0FE;\n",
       "      border: none;\n",
       "      border-radius: 50%;\n",
       "      cursor: pointer;\n",
       "      display: none;\n",
       "      fill: #1967D2;\n",
       "      height: 32px;\n",
       "      padding: 0 0 0 0;\n",
       "      width: 32px;\n",
       "    }\n",
       "\n",
       "    .colab-df-convert:hover {\n",
       "      background-color: #E2EBFA;\n",
       "      box-shadow: 0px 1px 2px rgba(60, 64, 67, 0.3), 0px 1px 3px 1px rgba(60, 64, 67, 0.15);\n",
       "      fill: #174EA6;\n",
       "    }\n",
       "\n",
       "    [theme=dark] .colab-df-convert {\n",
       "      background-color: #3B4455;\n",
       "      fill: #D2E3FC;\n",
       "    }\n",
       "\n",
       "    [theme=dark] .colab-df-convert:hover {\n",
       "      background-color: #434B5C;\n",
       "      box-shadow: 0px 1px 3px 1px rgba(0, 0, 0, 0.15);\n",
       "      filter: drop-shadow(0px 1px 2px rgba(0, 0, 0, 0.3));\n",
       "      fill: #FFFFFF;\n",
       "    }\n",
       "  </style>\n",
       "\n",
       "      <script>\n",
       "        const buttonEl =\n",
       "          document.querySelector('#df-5cb0b9ac-e143-4ff8-b628-9049d97140aa button.colab-df-convert');\n",
       "        buttonEl.style.display =\n",
       "          google.colab.kernel.accessAllowed ? 'block' : 'none';\n",
       "\n",
       "        async function convertToInteractive(key) {\n",
       "          const element = document.querySelector('#df-5cb0b9ac-e143-4ff8-b628-9049d97140aa');\n",
       "          const dataTable =\n",
       "            await google.colab.kernel.invokeFunction('convertToInteractive',\n",
       "                                                     [key], {});\n",
       "          if (!dataTable) return;\n",
       "\n",
       "          const docLinkHtml = 'Like what you see? Visit the ' +\n",
       "            '<a target=\"_blank\" href=https://colab.research.google.com/notebooks/data_table.ipynb>data table notebook</a>'\n",
       "            + ' to learn more about interactive tables.';\n",
       "          element.innerHTML = '';\n",
       "          dataTable['output_type'] = 'display_data';\n",
       "          await google.colab.output.renderOutput(dataTable, element);\n",
       "          const docLink = document.createElement('div');\n",
       "          docLink.innerHTML = docLinkHtml;\n",
       "          element.appendChild(docLink);\n",
       "        }\n",
       "      </script>\n",
       "    </div>\n",
       "  </div>\n",
       "  "
      ],
      "text/plain": [
       "               price  registrationyear          power      kilometer  \\\n",
       "count  354365.000000     354365.000000  354365.000000  354365.000000   \n",
       "mean     4416.679830       2004.234481     110.093816  128211.363989   \n",
       "std      4514.176349         90.228466     189.851330   37905.083858   \n",
       "min         0.000000       1000.000000       0.000000    5000.000000   \n",
       "25%      1050.000000       1999.000000      69.000000  125000.000000   \n",
       "50%      2700.000000       2003.000000     105.000000  150000.000000   \n",
       "75%      6400.000000       2008.000000     143.000000  150000.000000   \n",
       "max     20000.000000       9999.000000   20000.000000  150000.000000   \n",
       "\n",
       "       registrationmonth  numberofpictures     postalcode  \n",
       "count      354365.000000          354365.0  354365.000000  \n",
       "mean            5.714650               0.0   50508.503800  \n",
       "std             3.726432               0.0   25783.100078  \n",
       "min             0.000000               0.0    1067.000000  \n",
       "25%             3.000000               0.0   30165.000000  \n",
       "50%             6.000000               0.0   49413.000000  \n",
       "75%             9.000000               0.0   71083.000000  \n",
       "max            12.000000               0.0   99998.000000  "
      ]
     },
     "execution_count": 35,
     "metadata": {},
     "output_type": "execute_result"
    }
   ],
   "source": [
    "data.describe()"
   ]
  },
  {
   "cell_type": "markdown",
   "metadata": {
    "cellId": "glugy1q0smaduegjkb8k1a",
    "id": "XuUHG2894SbH"
   },
   "source": [
    "В целевом признаке price минимальное значение - 0. Возможно, продавец выставил автомобиль бесплатно, чтобы отправить на утилизацию, либо отдать в дар на запчасти, либо еще по каким-либо причинам. Так как модель должна будет предсказывать цену выставляемого автомобиля, нулевые значения могут некорректно повлиять на предсказания модели. Поэтому я очищу датасет от аких строк. "
   ]
  },
  {
   "cell_type": "code",
   "execution_count": null,
   "metadata": {
    "cellId": "hfj94bjljgp0sp7jc7oxg4f",
    "id": "hzM5p6-S4SbH"
   },
   "outputs": [],
   "source": [
    "data = data[data['price']>0]"
   ]
  },
  {
   "cell_type": "markdown",
   "metadata": {},
   "source": [
    "<div class=\"alert alert-block alert-info\">\n",
    "    \n",
    "<b>Совет:</b> Самое интересное, что на нескольких сайтов по продажам подержанных автомобилей в Германии (страну можно определить по почтовым индексам, большинство из них из Германии) показало, что цены начинаются действительно с 0 и 1 евро, но это единичные объявления и не понятно, то ли это ошибка при заполнении формы, то ли машины на металлолом. Но я тоже все-таки склоняюсь к тому, чтобы избавиться от таких данных. "
   ]
  },
  {
   "cell_type": "markdown",
   "metadata": {
    "cellId": "5sgcdvh3509rofwkrr8vvf",
    "id": "on-X2Poa4SbH"
   },
   "source": [
    "Год регистрации автомобиля так же принимает ненормальные значения на уровне максимума и минимума, автомобили изобрели в 90-х годах 19 века, поэтому минимальное значение продажи явно некорректное. Год 9999 еще не наступил, так что максимальное знаечение так же некорректно :)). Рассмотрю, какие уникальные значения есть в данном признаке."
   ]
  },
  {
   "cell_type": "code",
   "execution_count": null,
   "metadata": {
    "cellId": "t0amr8gpzwf1xlr5koxrwa",
    "colab": {
     "base_uri": "https://localhost:8080/"
    },
    "id": "UUlmR3Kn4SbH",
    "outputId": "4ddee388-20c4-4739-8019-ed025f67001a"
   },
   "outputs": [
    {
     "data": {
      "text/plain": [
       "[1000,\n",
       " 1001,\n",
       " 1039,\n",
       " 1111,\n",
       " 1234,\n",
       " 1255,\n",
       " 1300,\n",
       " 1400,\n",
       " 1500,\n",
       " 1600,\n",
       " 1602,\n",
       " 1800,\n",
       " 1910,\n",
       " 1923,\n",
       " 1925,\n",
       " 1927,\n",
       " 1928,\n",
       " 1929,\n",
       " 1930,\n",
       " 1931,\n",
       " 1932,\n",
       " 1933,\n",
       " 1934,\n",
       " 1935,\n",
       " 1936,\n",
       " 1937,\n",
       " 1938,\n",
       " 1940,\n",
       " 1941,\n",
       " 1942,\n",
       " 1943,\n",
       " 1944,\n",
       " 1945,\n",
       " 1946,\n",
       " 1947,\n",
       " 1948,\n",
       " 1949,\n",
       " 1950,\n",
       " 1951,\n",
       " 1952,\n",
       " 1953,\n",
       " 1954,\n",
       " 1955,\n",
       " 1956,\n",
       " 1957,\n",
       " 1958,\n",
       " 1959,\n",
       " 1960,\n",
       " 1961,\n",
       " 1962,\n",
       " 1963,\n",
       " 1964,\n",
       " 1965,\n",
       " 1966,\n",
       " 1967,\n",
       " 1968,\n",
       " 1969,\n",
       " 1970,\n",
       " 1971,\n",
       " 1972,\n",
       " 1973,\n",
       " 1974,\n",
       " 1975,\n",
       " 1976,\n",
       " 1977,\n",
       " 1978,\n",
       " 1979,\n",
       " 1980,\n",
       " 1981,\n",
       " 1982,\n",
       " 1983,\n",
       " 1984,\n",
       " 1985,\n",
       " 1986,\n",
       " 1987,\n",
       " 1988,\n",
       " 1989,\n",
       " 1990,\n",
       " 1991,\n",
       " 1992,\n",
       " 1993,\n",
       " 1994,\n",
       " 1995,\n",
       " 1996,\n",
       " 1997,\n",
       " 1998,\n",
       " 1999,\n",
       " 2000,\n",
       " 2001,\n",
       " 2002,\n",
       " 2003,\n",
       " 2004,\n",
       " 2005,\n",
       " 2006,\n",
       " 2007,\n",
       " 2008,\n",
       " 2009,\n",
       " 2010,\n",
       " 2011,\n",
       " 2012,\n",
       " 2013,\n",
       " 2014,\n",
       " 2015,\n",
       " 2016,\n",
       " 2017,\n",
       " 2018,\n",
       " 2019,\n",
       " 2066,\n",
       " 2200,\n",
       " 2222,\n",
       " 2290,\n",
       " 2500,\n",
       " 2800,\n",
       " 2900,\n",
       " 3000,\n",
       " 3200,\n",
       " 3700,\n",
       " 3800,\n",
       " 4000,\n",
       " 4100,\n",
       " 4500,\n",
       " 4800,\n",
       " 5000,\n",
       " 5300,\n",
       " 5555,\n",
       " 5600,\n",
       " 5900,\n",
       " 5911,\n",
       " 6000,\n",
       " 6500,\n",
       " 7000,\n",
       " 7100,\n",
       " 7800,\n",
       " 8000,\n",
       " 8200,\n",
       " 8500,\n",
       " 8888,\n",
       " 9000,\n",
       " 9450,\n",
       " 9999]"
      ]
     },
     "execution_count": 37,
     "metadata": {},
     "output_type": "execute_result"
    }
   ],
   "source": [
    "sorted(data['registrationyear'].unique())"
   ]
  },
  {
   "cell_type": "markdown",
   "metadata": {
    "cellId": "7zszfeu0dgi57hjkfj0wu3",
    "id": "IM7HTFWr4SbH"
   },
   "source": [
    "Посмотрю последнюю дату создания анкеты и очищу датасет от строк с теми датами регистрации автомобиля, где дата больше максимальной даты заполнения анкеты и меньше 1910 года (так как в предыдущую дату до 1910 - 1800 автомобили не существовали)."
   ]
  },
  {
   "cell_type": "code",
   "execution_count": null,
   "metadata": {
    "cellId": "a0p0m2yd7op4t1ytvwqs7i",
    "colab": {
     "base_uri": "https://localhost:8080/"
    },
    "id": "__lLruRH4SbH",
    "outputId": "14ee956c-1bb1-4db5-dc0f-ae4cd802fdef"
   },
   "outputs": [
    {
     "data": {
      "application/vnd.google.colaboratory.intrinsic+json": {
       "type": "string"
      },
      "text/plain": [
       "'2016-04-07 00:00:00'"
      ]
     },
     "execution_count": 38,
     "metadata": {},
     "output_type": "execute_result"
    }
   ],
   "source": [
    "data['datecreated'].max()"
   ]
  },
  {
   "cell_type": "code",
   "execution_count": null,
   "metadata": {
    "cellId": "t4y0ip83g7x13razqs4r",
    "colab": {
     "base_uri": "https://localhost:8080/"
    },
    "id": "pmhTRRk_4SbI",
    "outputId": "accd40b7-195f-42ba-c178-cc2a3d762ae5"
   },
   "outputs": [
    {
     "data": {
      "text/plain": [
       "array([ 0,  6,  4,  1,  3,  9, 12, 10,  5,  8,  7, 11,  2])"
      ]
     },
     "execution_count": 39,
     "metadata": {},
     "output_type": "execute_result"
    }
   ],
   "source": [
    "data['registrationmonth'][data['registrationyear']==2016].unique()"
   ]
  },
  {
   "cell_type": "markdown",
   "metadata": {
    "cellId": "1dl36dvvrj3sqsbu63sas",
    "id": "XQARvyRm4SbI"
   },
   "source": [
    "Удалю сперва в 2016 году строки с месяцами после 7, так как дата создания последней анкеты была в июле 2016, регистрация автомобиля не могла быть позже. Далее удалю все года до 1910 и после 2016."
   ]
  },
  {
   "cell_type": "code",
   "execution_count": null,
   "metadata": {
    "cellId": "ei5pjk0brzatmk7ctf2ib",
    "id": "7ohbsyl-4SbI"
   },
   "outputs": [],
   "source": [
    "data = data[~((data['registrationyear']==2016)&(data['registrationmonth']>7))]"
   ]
  },
  {
   "cell_type": "code",
   "execution_count": null,
   "metadata": {
    "cellId": "s62bisvjaoh8c7yoyks0m",
    "id": "DSxZgQgk4SbI"
   },
   "outputs": [],
   "source": [
    "data = data[(data['registrationyear']>1909)&(data['registrationyear']<2017)]"
   ]
  },
  {
   "cell_type": "markdown",
   "metadata": {},
   "source": [
    "<div class=\"alert alert-block alert-success\">\n",
    "    \n",
    "<b>Успех:</b> Согласен с годами)"
   ]
  },
  {
   "cell_type": "markdown",
   "metadata": {
    "cellId": "n5aqr41s6rjhvyl05pugrv",
    "id": "oJRDlIyQ4SbI"
   },
   "source": [
    "Значения в power так же имеют выбросы, рассмотрю распределение значений на ящике с усами."
   ]
  },
  {
   "cell_type": "code",
   "execution_count": null,
   "metadata": {
    "cellId": "48w1kkb2lriuh9l3wl45ko",
    "colab": {
     "base_uri": "https://localhost:8080/"
    },
    "id": "Q_o3Et0F4SbI",
    "outputId": "f88abf1d-919b-4f58-f9af-cce0743f7956"
   },
   "outputs": [
    {
     "data": {
      "text/plain": [
       "Text(0.5, 1.0, 'Разброс значений power, л.с. (диапазон от 0 до 2000)')"
      ]
     },
     "execution_count": 42,
     "metadata": {},
     "output_type": "execute_result"
    },
    {
     "data": {
      "image/png": "[encoded data removed]",
      "text/plain": [
       "<Figure size 432x288 with 1 Axes>"
      ]
     },
     "metadata": {
      "needs_background": "light"
     },
     "output_type": "display_data"
    }
   ],
   "source": [
    "ax=sns.boxplot(data = data['power'], orient='horizontal', color='pink')\n",
    "ax.set_xlim([0,2000])\n",
    "ax.set_title('Разброс значений power, л.с. (диапазон от 0 до 2000)')"
   ]
  },
  {
   "cell_type": "markdown",
   "metadata": {
    "cellId": "7tgkiufgqjd67wxclapxz9",
    "id": "6NyNbdox4SbI"
   },
   "source": [
    "Взяв диапазон значений для визуализации от 0 до 2000 видно, что значение нижнего и верхнего квартилей лежат в диапазоне от 50 до 150 (примерно), верхняя граница ящика с усами около 250, далее идет множество выбросов. Рассмотрю график в более узком диапазоне."
   ]
  },
  {
   "cell_type": "code",
   "execution_count": null,
   "metadata": {
    "cellId": "urr2cg4238u9nnf0dh6k8",
    "colab": {
     "base_uri": "https://localhost:8080/"
    },
    "id": "-wkvA9wQ4SbI",
    "outputId": "74114b70-0a07-4b37-b9e0-9ee2b7bb6d79"
   },
   "outputs": [
    {
     "data": {
      "text/plain": [
       "Text(0.5, 1.0, 'Разброс значений power, л.с. (диапазон от 0 до 700)')"
      ]
     },
     "execution_count": 43,
     "metadata": {},
     "output_type": "execute_result"
    },
    {
     "data": {
      "image/png": "[encoded data removed]",
      "text/plain": [
       "<Figure size 432x288 with 1 Axes>"
      ]
     },
     "metadata": {
      "needs_background": "light"
     },
     "output_type": "display_data"
    }
   ],
   "source": [
    "ax=sns.boxplot(data = data['power'], orient='horizontal', color='pink')\n",
    "ax.set_xlim([0,700])\n",
    "ax.set_title('Разброс значений power, л.с. (диапазон от 0 до 700)')"
   ]
  },
  {
   "cell_type": "markdown",
   "metadata": {
    "cellId": "vr3bblo4kz2g4omoiq332",
    "id": "xlnzee1A4SbI"
   },
   "source": [
    "Выбросы скоплены в диапазоне от 250 до 450. Лишь уникальное кол-во моделей автомобилей имеет количество лошадиных сил свыше 750 л.с. Так что большинство выбросов - это некорректно заполненные значения мощности автомобиля. Я предлагаю заменить значения power больше 700 л.с. на самые частые значения на основе \"совокпуности признаков\". Для этого заменю все значений power больше равно 700 на пустые значения, далее посчитаю самые частые значения power для совокупности признаков, заменю пустые значения на полученные значения."
   ]
  },
  {
   "cell_type": "code",
   "execution_count": null,
   "metadata": {
    "cellId": "n89pq0oggepthnabcv4ik",
    "colab": {
     "base_uri": "https://localhost:8080/"
    },
    "id": "UgtpyzN04SbI",
    "outputId": "2c13bdb4-9ec3-4785-ba94-e5de35f01242"
   },
   "outputs": [
    {
     "data": {
      "text/html": [
       "\n",
       "  <div id=\"df-442eb127-3105-437d-82ed-543e5cee29a5\">\n",
       "    <div class=\"colab-df-container\">\n",
       "      <div>\n",
       "<style scoped>\n",
       "    .dataframe tbody tr th:only-of-type {\n",
       "        vertical-align: middle;\n",
       "    }\n",
       "\n",
       "    .dataframe tbody tr th {\n",
       "        vertical-align: top;\n",
       "    }\n",
       "\n",
       "    .dataframe thead th {\n",
       "        text-align: right;\n",
       "    }\n",
       "</style>\n",
       "<table border=\"1\" class=\"dataframe\">\n",
       "  <thead>\n",
       "    <tr style=\"text-align: right;\">\n",
       "      <th></th>\n",
       "      <th>datecrawled</th>\n",
       "      <th>price</th>\n",
       "      <th>vehicletype</th>\n",
       "      <th>registrationyear</th>\n",
       "      <th>gearbox</th>\n",
       "      <th>power</th>\n",
       "      <th>model</th>\n",
       "      <th>kilometer</th>\n",
       "      <th>registrationmonth</th>\n",
       "      <th>fueltype</th>\n",
       "      <th>brand</th>\n",
       "      <th>notrepaired</th>\n",
       "      <th>datecreated</th>\n",
       "      <th>numberofpictures</th>\n",
       "      <th>postalcode</th>\n",
       "      <th>lastseen</th>\n",
       "    </tr>\n",
       "    <tr>\n",
       "      <th>concat_for_fillna</th>\n",
       "      <th></th>\n",
       "      <th></th>\n",
       "      <th></th>\n",
       "      <th></th>\n",
       "      <th></th>\n",
       "      <th></th>\n",
       "      <th></th>\n",
       "      <th></th>\n",
       "      <th></th>\n",
       "      <th></th>\n",
       "      <th></th>\n",
       "      <th></th>\n",
       "      <th></th>\n",
       "      <th></th>\n",
       "      <th></th>\n",
       "      <th></th>\n",
       "    </tr>\n",
       "  </thead>\n",
       "  <tbody>\n",
       "    <tr>\n",
       "      <th>smallmanualcorolla1398</th>\n",
       "      <td>2016-03-22 20:52:00</td>\n",
       "      <td>3200</td>\n",
       "      <td>small</td>\n",
       "      <td>2004</td>\n",
       "      <td>manual</td>\n",
       "      <td>1398</td>\n",
       "      <td>corolla</td>\n",
       "      <td>5000</td>\n",
       "      <td>6</td>\n",
       "      <td>petrol</td>\n",
       "      <td>toyota</td>\n",
       "      <td>no</td>\n",
       "      <td>2016-03-22 00:00:00</td>\n",
       "      <td>0</td>\n",
       "      <td>22043</td>\n",
       "      <td>2016-03-22 21:43:26</td>\n",
       "    </tr>\n",
       "    <tr>\n",
       "      <th>sedanmanualcolt953</th>\n",
       "      <td>2016-04-03 20:31:00</td>\n",
       "      <td>3100</td>\n",
       "      <td>sedan</td>\n",
       "      <td>2005</td>\n",
       "      <td>manual</td>\n",
       "      <td>953</td>\n",
       "      <td>colt</td>\n",
       "      <td>150000</td>\n",
       "      <td>4</td>\n",
       "      <td>gasoline</td>\n",
       "      <td>mitsubishi</td>\n",
       "      <td>no</td>\n",
       "      <td>2016-04-03 00:00:00</td>\n",
       "      <td>0</td>\n",
       "      <td>60326</td>\n",
       "      <td>2016-04-07 14:56:46</td>\n",
       "    </tr>\n",
       "    <tr>\n",
       "      <th>wagonmanualastra1001</th>\n",
       "      <td>2016-03-29 19:44:48</td>\n",
       "      <td>500</td>\n",
       "      <td>wagon</td>\n",
       "      <td>1999</td>\n",
       "      <td>manual</td>\n",
       "      <td>1001</td>\n",
       "      <td>astra</td>\n",
       "      <td>150000</td>\n",
       "      <td>7</td>\n",
       "      <td>petrol</td>\n",
       "      <td>opel</td>\n",
       "      <td>unknown</td>\n",
       "      <td>2016-03-29 00:00:00</td>\n",
       "      <td>0</td>\n",
       "      <td>33154</td>\n",
       "      <td>2016-04-06 05:44:36</td>\n",
       "    </tr>\n",
       "    <tr>\n",
       "      <th>smallmanualpunto771</th>\n",
       "      <td>2016-03-14 15:54:34</td>\n",
       "      <td>3000</td>\n",
       "      <td>small</td>\n",
       "      <td>2009</td>\n",
       "      <td>manual</td>\n",
       "      <td>771</td>\n",
       "      <td>punto</td>\n",
       "      <td>125000</td>\n",
       "      <td>0</td>\n",
       "      <td>petrol</td>\n",
       "      <td>fiat</td>\n",
       "      <td>unknown</td>\n",
       "      <td>2016-03-14 00:00:00</td>\n",
       "      <td>0</td>\n",
       "      <td>40721</td>\n",
       "      <td>2016-03-14 15:54:34</td>\n",
       "    </tr>\n",
       "    <tr>\n",
       "      <th>smallmanuallupo7515</th>\n",
       "      <td>2016-04-02 19:25:25</td>\n",
       "      <td>1499</td>\n",
       "      <td>small</td>\n",
       "      <td>1999</td>\n",
       "      <td>manual</td>\n",
       "      <td>7515</td>\n",
       "      <td>lupo</td>\n",
       "      <td>150000</td>\n",
       "      <td>4</td>\n",
       "      <td>petrol</td>\n",
       "      <td>volkswagen</td>\n",
       "      <td>unknown</td>\n",
       "      <td>2016-04-02 00:00:00</td>\n",
       "      <td>0</td>\n",
       "      <td>65830</td>\n",
       "      <td>2016-04-06 11:46:49</td>\n",
       "    </tr>\n",
       "    <tr>\n",
       "      <th>...</th>\n",
       "      <td>...</td>\n",
       "      <td>...</td>\n",
       "      <td>...</td>\n",
       "      <td>...</td>\n",
       "      <td>...</td>\n",
       "      <td>...</td>\n",
       "      <td>...</td>\n",
       "      <td>...</td>\n",
       "      <td>...</td>\n",
       "      <td>...</td>\n",
       "      <td>...</td>\n",
       "      <td>...</td>\n",
       "      <td>...</td>\n",
       "      <td>...</td>\n",
       "      <td>...</td>\n",
       "      <td>...</td>\n",
       "    </tr>\n",
       "    <tr>\n",
       "      <th>wagonmanuala62598</th>\n",
       "      <td>2016-03-05 17:53:09</td>\n",
       "      <td>1000</td>\n",
       "      <td>wagon</td>\n",
       "      <td>1996</td>\n",
       "      <td>manual</td>\n",
       "      <td>2598</td>\n",
       "      <td>a6</td>\n",
       "      <td>150000</td>\n",
       "      <td>7</td>\n",
       "      <td>other</td>\n",
       "      <td>audi</td>\n",
       "      <td>unknown</td>\n",
       "      <td>2016-03-05 00:00:00</td>\n",
       "      <td>0</td>\n",
       "      <td>7646</td>\n",
       "      <td>2016-03-07 16:17:01</td>\n",
       "    </tr>\n",
       "    <tr>\n",
       "      <th>sedanmanualscenic1548</th>\n",
       "      <td>2016-03-13 11:51:57</td>\n",
       "      <td>7500</td>\n",
       "      <td>sedan</td>\n",
       "      <td>2011</td>\n",
       "      <td>manual</td>\n",
       "      <td>1548</td>\n",
       "      <td>scenic</td>\n",
       "      <td>90000</td>\n",
       "      <td>4</td>\n",
       "      <td>petrol</td>\n",
       "      <td>renault</td>\n",
       "      <td>unknown</td>\n",
       "      <td>2016-03-13 00:00:00</td>\n",
       "      <td>0</td>\n",
       "      <td>24568</td>\n",
       "      <td>2016-04-06 15:17:39</td>\n",
       "    </tr>\n",
       "    <tr>\n",
       "      <th>smallmanualypsilon1241</th>\n",
       "      <td>2016-04-04 18:53:25</td>\n",
       "      <td>250</td>\n",
       "      <td>small</td>\n",
       "      <td>1999</td>\n",
       "      <td>manual</td>\n",
       "      <td>1241</td>\n",
       "      <td>ypsilon</td>\n",
       "      <td>150000</td>\n",
       "      <td>5</td>\n",
       "      <td>petrol</td>\n",
       "      <td>lancia</td>\n",
       "      <td>yes</td>\n",
       "      <td>2016-04-04 00:00:00</td>\n",
       "      <td>0</td>\n",
       "      <td>28259</td>\n",
       "      <td>2016-04-04 18:53:25</td>\n",
       "    </tr>\n",
       "    <tr>\n",
       "      <th>busmanualzafira1001</th>\n",
       "      <td>2016-03-07 21:36:19</td>\n",
       "      <td>1500</td>\n",
       "      <td>bus</td>\n",
       "      <td>2001</td>\n",
       "      <td>manual</td>\n",
       "      <td>1001</td>\n",
       "      <td>zafira</td>\n",
       "      <td>5000</td>\n",
       "      <td>7</td>\n",
       "      <td>gasoline</td>\n",
       "      <td>opel</td>\n",
       "      <td>no</td>\n",
       "      <td>2016-03-07 00:00:00</td>\n",
       "      <td>0</td>\n",
       "      <td>66117</td>\n",
       "      <td>2016-03-09 12:47:08</td>\n",
       "    </tr>\n",
       "    <tr>\n",
       "      <th>NaN</th>\n",
       "      <td>2016-03-09 17:59:03</td>\n",
       "      <td>399</td>\n",
       "      <td>other</td>\n",
       "      <td>1994</td>\n",
       "      <td>unknown</td>\n",
       "      <td>1103</td>\n",
       "      <td>3er</td>\n",
       "      <td>150000</td>\n",
       "      <td>0</td>\n",
       "      <td>other</td>\n",
       "      <td>bmw</td>\n",
       "      <td>unknown</td>\n",
       "      <td>2016-03-09 00:00:00</td>\n",
       "      <td>0</td>\n",
       "      <td>56235</td>\n",
       "      <td>2016-03-17 09:17:08</td>\n",
       "    </tr>\n",
       "  </tbody>\n",
       "</table>\n",
       "<p>299 rows × 16 columns</p>\n",
       "</div>\n",
       "      <button class=\"colab-df-convert\" onclick=\"convertToInteractive('df-442eb127-3105-437d-82ed-543e5cee29a5')\"\n",
       "              title=\"Convert this dataframe to an interactive table.\"\n",
       "              style=\"display:none;\">\n",
       "        \n",
       "  <svg xmlns=\"http://www.w3.org/2000/svg\" height=\"24px\"viewBox=\"0 0 24 24\"\n",
       "       width=\"24px\">\n",
       "    <path d=\"M0 0h24v24H0V0z\" fill=\"none\"/>\n",
       "    <path d=\"M18.56 5.44l.94 2.06.94-2.06 2.06-.94-2.06-.94-.94-2.06-.94 2.06-2.06.94zm-11 1L8.5 8.5l.94-2.06 2.06-.94-2.06-.94L8.5 2.5l-.94 2.06-2.06.94zm10 10l.94 2.06.94-2.06 2.06-.94-2.06-.94-.94-2.06-.94 2.06-2.06.94z\"/><path d=\"M17.41 7.96l-1.37-1.37c-.4-.4-.92-.59-1.43-.59-.52 0-1.04.2-1.43.59L10.3 9.45l-7.72 7.72c-.78.78-.78 2.05 0 2.83L4 21.41c.39.39.9.59 1.41.59.51 0 1.02-.2 1.41-.59l7.78-7.78 2.81-2.81c.8-.78.8-2.07 0-2.86zM5.41 20L4 18.59l7.72-7.72 1.47 1.35L5.41 20z\"/>\n",
       "  </svg>\n",
       "      </button>\n",
       "      \n",
       "  <style>\n",
       "    .colab-df-container {\n",
       "      display:flex;\n",
       "      flex-wrap:wrap;\n",
       "      gap: 12px;\n",
       "    }\n",
       "\n",
       "    .colab-df-convert {\n",
       "      background-color: #E8F0FE;\n",
       "      border: none;\n",
       "      border-radius: 50%;\n",
       "      cursor: pointer;\n",
       "      display: none;\n",
       "      fill: #1967D2;\n",
       "      height: 32px;\n",
       "      padding: 0 0 0 0;\n",
       "      width: 32px;\n",
       "    }\n",
       "\n",
       "    .colab-df-convert:hover {\n",
       "      background-color: #E2EBFA;\n",
       "      box-shadow: 0px 1px 2px rgba(60, 64, 67, 0.3), 0px 1px 3px 1px rgba(60, 64, 67, 0.15);\n",
       "      fill: #174EA6;\n",
       "    }\n",
       "\n",
       "    [theme=dark] .colab-df-convert {\n",
       "      background-color: #3B4455;\n",
       "      fill: #D2E3FC;\n",
       "    }\n",
       "\n",
       "    [theme=dark] .colab-df-convert:hover {\n",
       "      background-color: #434B5C;\n",
       "      box-shadow: 0px 1px 3px 1px rgba(0, 0, 0, 0.15);\n",
       "      filter: drop-shadow(0px 1px 2px rgba(0, 0, 0, 0.3));\n",
       "      fill: #FFFFFF;\n",
       "    }\n",
       "  </style>\n",
       "\n",
       "      <script>\n",
       "        const buttonEl =\n",
       "          document.querySelector('#df-442eb127-3105-437d-82ed-543e5cee29a5 button.colab-df-convert');\n",
       "        buttonEl.style.display =\n",
       "          google.colab.kernel.accessAllowed ? 'block' : 'none';\n",
       "\n",
       "        async function convertToInteractive(key) {\n",
       "          const element = document.querySelector('#df-442eb127-3105-437d-82ed-543e5cee29a5');\n",
       "          const dataTable =\n",
       "            await google.colab.kernel.invokeFunction('convertToInteractive',\n",
       "                                                     [key], {});\n",
       "          if (!dataTable) return;\n",
       "\n",
       "          const docLinkHtml = 'Like what you see? Visit the ' +\n",
       "            '<a target=\"_blank\" href=https://colab.research.google.com/notebooks/data_table.ipynb>data table notebook</a>'\n",
       "            + ' to learn more about interactive tables.';\n",
       "          element.innerHTML = '';\n",
       "          dataTable['output_type'] = 'display_data';\n",
       "          await google.colab.output.renderOutput(dataTable, element);\n",
       "          const docLink = document.createElement('div');\n",
       "          docLink.innerHTML = docLinkHtml;\n",
       "          element.appendChild(docLink);\n",
       "        }\n",
       "      </script>\n",
       "    </div>\n",
       "  </div>\n",
       "  "
      ],
      "text/plain": [
       "                                datecrawled  price vehicletype  \\\n",
       "concat_for_fillna                                                \n",
       "smallmanualcorolla1398  2016-03-22 20:52:00   3200       small   \n",
       "sedanmanualcolt953      2016-04-03 20:31:00   3100       sedan   \n",
       "wagonmanualastra1001    2016-03-29 19:44:48    500       wagon   \n",
       "smallmanualpunto771     2016-03-14 15:54:34   3000       small   \n",
       "smallmanuallupo7515     2016-04-02 19:25:25   1499       small   \n",
       "...                                     ...    ...         ...   \n",
       "wagonmanuala62598       2016-03-05 17:53:09   1000       wagon   \n",
       "sedanmanualscenic1548   2016-03-13 11:51:57   7500       sedan   \n",
       "smallmanualypsilon1241  2016-04-04 18:53:25    250       small   \n",
       "busmanualzafira1001     2016-03-07 21:36:19   1500         bus   \n",
       "NaN                     2016-03-09 17:59:03    399       other   \n",
       "\n",
       "                        registrationyear  gearbox  power    model  kilometer  \\\n",
       "concat_for_fillna                                                              \n",
       "smallmanualcorolla1398              2004   manual   1398  corolla       5000   \n",
       "sedanmanualcolt953                  2005   manual    953     colt     150000   \n",
       "wagonmanualastra1001                1999   manual   1001    astra     150000   \n",
       "smallmanualpunto771                 2009   manual    771    punto     125000   \n",
       "smallmanuallupo7515                 1999   manual   7515     lupo     150000   \n",
       "...                                  ...      ...    ...      ...        ...   \n",
       "wagonmanuala62598                   1996   manual   2598       a6     150000   \n",
       "sedanmanualscenic1548               2011   manual   1548   scenic      90000   \n",
       "smallmanualypsilon1241              1999   manual   1241  ypsilon     150000   \n",
       "busmanualzafira1001                 2001   manual   1001   zafira       5000   \n",
       "NaN                                 1994  unknown   1103      3er     150000   \n",
       "\n",
       "                        registrationmonth  fueltype       brand notrepaired  \\\n",
       "concat_for_fillna                                                             \n",
       "smallmanualcorolla1398                  6    petrol      toyota          no   \n",
       "sedanmanualcolt953                      4  gasoline  mitsubishi          no   \n",
       "wagonmanualastra1001                    7    petrol        opel     unknown   \n",
       "smallmanualpunto771                     0    petrol        fiat     unknown   \n",
       "smallmanuallupo7515                     4    petrol  volkswagen     unknown   \n",
       "...                                   ...       ...         ...         ...   \n",
       "wagonmanuala62598                       7     other        audi     unknown   \n",
       "sedanmanualscenic1548                   4    petrol     renault     unknown   \n",
       "smallmanualypsilon1241                  5    petrol      lancia         yes   \n",
       "busmanualzafira1001                     7  gasoline        opel          no   \n",
       "NaN                                     0     other         bmw     unknown   \n",
       "\n",
       "                                datecreated  numberofpictures  postalcode  \\\n",
       "concat_for_fillna                                                           \n",
       "smallmanualcorolla1398  2016-03-22 00:00:00                 0       22043   \n",
       "sedanmanualcolt953      2016-04-03 00:00:00                 0       60326   \n",
       "wagonmanualastra1001    2016-03-29 00:00:00                 0       33154   \n",
       "smallmanualpunto771     2016-03-14 00:00:00                 0       40721   \n",
       "smallmanuallupo7515     2016-04-02 00:00:00                 0       65830   \n",
       "...                                     ...               ...         ...   \n",
       "wagonmanuala62598       2016-03-05 00:00:00                 0        7646   \n",
       "sedanmanualscenic1548   2016-03-13 00:00:00                 0       24568   \n",
       "smallmanualypsilon1241  2016-04-04 00:00:00                 0       28259   \n",
       "busmanualzafira1001     2016-03-07 00:00:00                 0       66117   \n",
       "NaN                     2016-03-09 00:00:00                 0       56235   \n",
       "\n",
       "                                   lastseen  \n",
       "concat_for_fillna                            \n",
       "smallmanualcorolla1398  2016-03-22 21:43:26  \n",
       "sedanmanualcolt953      2016-04-07 14:56:46  \n",
       "wagonmanualastra1001    2016-04-06 05:44:36  \n",
       "smallmanualpunto771     2016-03-14 15:54:34  \n",
       "smallmanuallupo7515     2016-04-06 11:46:49  \n",
       "...                                     ...  \n",
       "wagonmanuala62598       2016-03-07 16:17:01  \n",
       "sedanmanualscenic1548   2016-04-06 15:17:39  \n",
       "smallmanualypsilon1241  2016-04-04 18:53:25  \n",
       "busmanualzafira1001     2016-03-09 12:47:08  \n",
       "NaN                     2016-03-17 09:17:08  \n",
       "\n",
       "[299 rows x 16 columns]"
      ]
     },
     "execution_count": 44,
     "metadata": {},
     "output_type": "execute_result"
    }
   ],
   "source": [
    "data[data['power']>700]"
   ]
  },
  {
   "cell_type": "code",
   "execution_count": null,
   "metadata": {
    "cellId": "xluzd4maju85k1pefsq9nr",
    "id": "f9B-xsq_4SbI"
   },
   "outputs": [],
   "source": [
    "data.loc[data['power']>=700,'power'] = np.nan\n",
    "power_less_700 = data[data['power']<700]\n",
    "column_mode = power_less_700.groupby([power_less_700['vehicletype']+power_less_700['gearbox']+power_less_700['model']+power_less_700['fueltype']])['power'].agg(lambda x:x.value_counts().index[0]).to_frame()\n",
    "data['concat_for_fillna'] = data['vehicletype']+data['gearbox']+data['model']+data['fueltype']\n",
    "data.set_index('concat_for_fillna', inplace=True)\n",
    "data['power'].fillna(column_mode['power'], inplace=True)"
   ]
  },
  {
   "cell_type": "code",
   "execution_count": null,
   "metadata": {
    "cellId": "8sqss0w3qvb8nfbyg5wd0w",
    "colab": {
     "base_uri": "https://localhost:8080/"
    },
    "id": "5V-W-AKm4SbJ",
    "outputId": "b540ad03-5f62-427f-c9db-caaa21705435"
   },
   "outputs": [
    {
     "data": {
      "text/plain": [
       "12"
      ]
     },
     "execution_count": 46,
     "metadata": {},
     "output_type": "execute_result"
    }
   ],
   "source": [
    "data['power'].isna().sum()"
   ]
  },
  {
   "cell_type": "markdown",
   "metadata": {},
   "source": [
    "<div class=\"alert alert-block alert-info\">\n",
    "    \n",
    "<b>Совет:</b> Как думаешь а машины с нулевой мощностью, могут быть без двигателя?"
   ]
  },
  {
   "cell_type": "markdown",
   "metadata": {
    "cellId": "fq8fj5c5dlj1w6b1ccskro",
    "id": "kvVnhA0v4SbJ"
   },
   "source": [
    "Строки со значениями, которые не удалось заполнить и они остались пустыми удалю. Это очень маленький процент от исходного датасета, поэтому на результат обучения это не должно повлиять."
   ]
  },
  {
   "cell_type": "code",
   "execution_count": null,
   "metadata": {
    "cellId": "m2uyqx5mywahtbdfyctd6",
    "id": "CbTW9QyP4SbJ"
   },
   "outputs": [],
   "source": [
    "data = data.dropna()"
   ]
  },
  {
   "cell_type": "code",
   "execution_count": null,
   "metadata": {
    "cellId": "xk9adubc0ape3bosoog1d",
    "colab": {
     "base_uri": "https://localhost:8080/"
    },
    "id": "mI8I2qPm4SbJ",
    "outputId": "e3c4651b-20d6-42d3-ddb0-c9b9c5578db0"
   },
   "outputs": [
    {
     "data": {
      "text/plain": [
       "(327251, 16)"
      ]
     },
     "execution_count": 48,
     "metadata": {},
     "output_type": "execute_result"
    }
   ],
   "source": [
    "data.shape"
   ]
  },
  {
   "cell_type": "code",
   "execution_count": null,
   "metadata": {
    "cellId": "tfp44to1bmlm0z1npaool",
    "colab": {
     "base_uri": "https://localhost:8080/"
    },
    "id": "faPMLyRy4SbJ",
    "outputId": "a2a42220-474b-49db-acd8-11551399ae39"
   },
   "outputs": [
    {
     "name": "stdout",
     "output_type": "stream",
     "text": [
      "В итоговом обработанном датафрейме получилось 327251 строк со значениями. Из исходного датасета было удалено в общей сложности 7.652475% строк\n"
     ]
    }
   ],
   "source": [
    "print(f'В итоговом обработанном датафрейме получилось 327251 строк со значениями. Из исходного датасета было удалено в общей сложности {(1-327251/354369):%} строк')\n"
   ]
  },
  {
   "cell_type": "markdown",
   "metadata": {
    "cellId": "jv9942elp1fc4266w9zh19",
    "id": "Zg2JSBxn4SbJ"
   },
   "source": [
    "#### Удаление ненужных столбцов"
   ]
  },
  {
   "cell_type": "markdown",
   "metadata": {
    "cellId": "ua1kh2kri9shka3xjcy86v",
    "id": "5tyjzt4B4SbJ"
   },
   "source": [
    "Такие колонки как \n",
    "- datecrawled — дата скачивания анкеты из базы\n",
    "- registrationmonth — месяц регистрации автомобиля\n",
    "- datecreated — дата создания анкеты\n",
    "- numberofpictures — количество фотографий автомобиля\n",
    "- postalcode — почтовый индекс владельца анкеты (пользователя)\n",
    "- lastseen — дата последней активности пользователя\n",
    "\n",
    "не влияют на оценку стоимости автомобиля, поэтому можно их удалить из датафрейма, чтобы они не перегружали модель обучения."
   ]
  },
  {
   "cell_type": "code",
   "execution_count": null,
   "metadata": {
    "cellId": "dzkm8yjwj5sbnlj2x4ck2w",
    "id": "-7-2qZag4SbJ"
   },
   "outputs": [],
   "source": [
    "data = data.drop(columns = ['datecrawled','registrationmonth','datecreated','numberofpictures','postalcode','lastseen'])"
   ]
  },
  {
   "cell_type": "markdown",
   "metadata": {},
   "source": [
    "<div class=\"alert alert-block alert-success\">\n",
    "<b>Успех:</b> Удалить неинформативные признаки - хорошее решение"
   ]
  },
  {
   "cell_type": "code",
   "execution_count": null,
   "metadata": {
    "cellId": "2vsddkiqo2ppps8tmuhwh",
    "colab": {
     "base_uri": "https://localhost:8080/"
    },
    "id": "LilwFY0b4SbJ",
    "outputId": "d697122e-eca8-4f51-e4a6-ee6388f08627"
   },
   "outputs": [
    {
     "data": {
      "text/plain": [
       "(327251, 10)"
      ]
     },
     "execution_count": 51,
     "metadata": {},
     "output_type": "execute_result"
    }
   ],
   "source": [
    "data.shape"
   ]
  },
  {
   "cell_type": "markdown",
   "metadata": {
    "cellId": "7g3tmfmiji7yran8nt5tns",
    "id": "sbsCI0s24SbJ"
   },
   "source": [
    "#### Вывод\n",
    "- Таким образом, в исходном датасете представлена информация о продажах автомобилей за определенный период. В датасете представлены технические характеристики автомобиля на продажу, а так же некоторая другая информация об анкете. \n",
    "- Был обозначен целевой признак - цена автомобиля (price).\n",
    "- В 5 колонках были найдены пропущенные значения. В четырех из них (для колонок 'vehicletype', 'gearbox', 'model', 'fueltype') пропущенные значения были заменены самым частым значением признака среди строк, сгруппированных по совокупным признакам 'vehicletype', 'gearbox', 'model', 'fueltype' (без искомого признака соответственно). Все пропущенные значения, которые не удалось обработать были заменены на значения 'other' или 'unknown'.\n",
    "- В датасете было найдено 4 явных дубликата, дубликаты были удалены.\n",
    "- При рассмотрении основных статестических показателей для каждого признака, были выявлены аномальные значения у некоторых признаков. Так, данные были отфильтрованы по году регистрации автомобиля (взяты данные с 1910 года по 2016 год июля месяца). Было найдено существенное количество выбросов в признаке power, было решено заменить значения свыше 700 л.с. на самое частое значение среди совокупности признаков. Незаполненные значения были удалены.\n",
    "- Были удалены признаки, которые бесполезны при обучении модели (6 признаков).\n",
    "- Исходный датасет очистился на 7,7% благодаря предобработке данных."
   ]
  },
  {
   "cell_type": "markdown",
   "metadata": {},
   "source": [
    "<div class=\"alert alert-block alert-success\">\n",
    "<b>Успех:</b> В целом неплохая, детальная предоботка, молодец, что уделила ей достаточно вниманич"
   ]
  },
  {
   "cell_type": "markdown",
   "metadata": {
    "cellId": "f8hxzvgp91qv82qz09f1l",
    "id": "szV2enhU4SbK"
   },
   "source": [
    "## Обучение моделей"
   ]
  },
  {
   "cell_type": "markdown",
   "metadata": {
    "cellId": "kcu7j2xf12i9m6jsd8pdm",
    "id": "iLg0C_AU4SbK"
   },
   "source": [
    "### Подготовка признаков"
   ]
  },
  {
   "cell_type": "code",
   "execution_count": null,
   "metadata": {
    "cellId": "fj89klzkwt4swy3nv5gwf",
    "colab": {
     "base_uri": "https://localhost:8080/"
    },
    "id": "H1cb-1nC4SbK",
    "outputId": "8af45899-8d51-48dc-df70-cfc28b0d8a72"
   },
   "outputs": [
    {
     "data": {
      "text/plain": [
       "Index(['price', 'vehicletype', 'registrationyear', 'gearbox', 'power', 'model',\n",
       "       'kilometer', 'fueltype', 'brand', 'notrepaired'],\n",
       "      dtype='object')"
      ]
     },
     "execution_count": 52,
     "metadata": {},
     "output_type": "execute_result"
    }
   ],
   "source": [
    "data.columns"
   ]
  },
  {
   "cell_type": "markdown",
   "metadata": {
    "cellId": "ozj5yas56mh1ahb55uchf",
    "id": "kgex0L6c4SbK"
   },
   "source": [
    "Разделю датасет на признаки (все колонки кроме столбца price) и на целевой признак (price)."
   ]
  },
  {
   "cell_type": "code",
   "execution_count": null,
   "metadata": {
    "cellId": "3fwr55vzdklaselucqp839",
    "id": "BI6LoOL-4SbK"
   },
   "outputs": [],
   "source": [
    "features = data.drop(columns = ['price']).reset_index()\n",
    "target = data['price'].reset_index()"
   ]
  },
  {
   "cell_type": "code",
   "execution_count": null,
   "metadata": {
    "cellId": "5brww5rxug6fj6vng7eh9",
    "id": "7tHvdBBi4SbK"
   },
   "outputs": [],
   "source": [
    "features = features.drop(columns = ['concat_for_fillna'])\n",
    "target = target.drop(columns = ['concat_for_fillna'])"
   ]
  },
  {
   "cell_type": "markdown",
   "metadata": {
    "cellId": "wwkwl3x6i6fe0nxupnk9r6",
    "id": "RuRqYIPG4SbK"
   },
   "source": [
    "Разделю датасеты с признаками и целевым признаком на обучаемую выборку и тестовую выборку в отношении 4:1."
   ]
  },
  {
   "cell_type": "code",
   "execution_count": null,
   "metadata": {
    "cellId": "sjvdtuaz01cwrlkdlyoaa",
    "id": "1YDixCjb4SbK"
   },
   "outputs": [],
   "source": [
    "features_train, features_test, target_train, target_test = train_test_split(features, target, random_state=12345, test_size=0.25)"
   ]
  },
  {
   "cell_type": "markdown",
   "metadata": {
    "cellId": "9cakui56028yx5ieiir4e",
    "id": "W1ML51lW4SbK"
   },
   "source": [
    "#### Порядковое кодирование"
   ]
  },
  {
   "cell_type": "code",
   "execution_count": null,
   "metadata": {
    "cellId": "fz5s2bamp7t7s4jgd6wj44",
    "colab": {
     "base_uri": "https://localhost:8080/"
    },
    "id": "zo7wkSnz4SbK",
    "outputId": "4a789478-7208-4351-915c-d43b0feb3700"
   },
   "outputs": [
    {
     "name": "stdout",
     "output_type": "stream",
     "text": [
      "(245438, 9)\n"
     ]
    },
    {
     "data": {
      "text/plain": [
       "(81813, 9)"
      ]
     },
     "execution_count": 56,
     "metadata": {},
     "output_type": "execute_result"
    }
   ],
   "source": [
    "print(features_train.shape)\n",
    "features_test.shape"
   ]
  },
  {
   "cell_type": "markdown",
   "metadata": {
    "cellId": "m4kyfudvxgcorp0kqy0g7",
    "id": "ZSmu0sIz4SbK"
   },
   "source": [
    "Для обучения модели на категориальных признаках их необходимо закодировать, применив технику прямого кодирования. Преобразовать категориальные признаки в численные поможет техника прямого кодирования, или отображения (англ. One-Hot Encoding, OHE). Техникой OHE категориальные признаки переводятся в численные в два этапа:\n",
    "- Для каждого значения признака создаётся новый столбец;\n",
    "- Если объекту категория подходит, присваивается 1, если нет — 0.\n",
    "\n",
    "Категориальные признаки в датасете - 'vehicletype', 'gearbox', 'model', 'fueltype', 'brand', 'notrepaired'. Не категориальные - 'registrationyear', 'power', 'kilometer'. Их необходимо будет масштабировать в дальнейших шагах, чтобы модель при обучении не сочла какой-то признак важнее, так как значения в нем больше.\n",
    "\n",
    "Обучаю кодирование и масштабирование только на обучаемой выборке, а применяю их и на обучаемую, и на тестовую выборку в дальнешем. Таким образом, не произойдет утечки данных, а так же если в тестовой выборке вдруг окажется значение категориального признака, которое не присутствовало в обучаемой выборке, модель не сломается."
   ]
  },
  {
   "cell_type": "code",
   "execution_count": null,
   "metadata": {
    "cellId": "n9rnb9a81pf35djw1ggb",
    "colab": {
     "base_uri": "https://localhost:8080/"
    },
    "id": "RKoqBYNB4SbL",
    "outputId": "e5b9ca06-7f07-4a4e-ab34-7e1f4a8e7353"
   },
   "outputs": [
    {
     "data": {
      "text/plain": [
       "array([[0., 0., 0., ..., 1., 0., 0.],\n",
       "       [0., 0., 0., ..., 0., 1., 0.],\n",
       "       [0., 0., 0., ..., 1., 0., 0.],\n",
       "       ...,\n",
       "       [0., 0., 0., ..., 1., 0., 0.],\n",
       "       [0., 0., 0., ..., 1., 0., 0.],\n",
       "       [0., 0., 0., ..., 1., 0., 0.]])"
      ]
     },
     "execution_count": 57,
     "metadata": {},
     "output_type": "execute_result"
    }
   ],
   "source": [
    "categorical_columns = ['vehicletype', 'gearbox', 'model', 'fueltype', 'brand', 'notrepaired']\n",
    "features_for_ohe = features_train[categorical_columns]\n",
    "features_ohe = OneHotEncoder(sparse=False, handle_unknown='ignore')\n",
    "features_ohe.fit(features_for_ohe)\n",
    "features_ohe_transformed = features_ohe.transform(features_for_ohe)\n",
    "features_ohe_transformed"
   ]
  },
  {
   "cell_type": "markdown",
   "metadata": {
    "cellId": "vk8tieceokk1qvwu7pr96t",
    "id": "-PL8Spz84SbL"
   },
   "source": [
    "Применю кодирование, обученное на обучаемой выборке на категориальные признаки тестовой выборки."
   ]
  },
  {
   "cell_type": "code",
   "execution_count": null,
   "metadata": {
    "cellId": "966t5nn5whyrty71v7su",
    "colab": {
     "base_uri": "https://localhost:8080/"
    },
    "id": "oRV3Kl3c4SbL",
    "outputId": "825ddab6-d38c-4bb5-8039-5d4bea7d6e1e"
   },
   "outputs": [
    {
     "data": {
      "text/plain": [
       "array([[0., 0., 0., ..., 0., 1., 0.],\n",
       "       [0., 0., 0., ..., 1., 0., 0.],\n",
       "       [0., 0., 0., ..., 0., 1., 0.],\n",
       "       ...,\n",
       "       [0., 0., 0., ..., 0., 0., 1.],\n",
       "       [0., 0., 0., ..., 1., 0., 0.],\n",
       "       [0., 0., 0., ..., 1., 0., 0.]])"
      ]
     },
     "execution_count": 58,
     "metadata": {},
     "output_type": "execute_result"
    }
   ],
   "source": [
    "features_for_ohe_test = features_test[categorical_columns]\n",
    "features_ohe_transformed_test = features_ohe.transform(features_for_ohe_test)\n",
    "features_ohe_transformed_test"
   ]
  },
  {
   "cell_type": "code",
   "execution_count": null,
   "metadata": {
    "cellId": "ekm8b7arryn2gzk82zmu15",
    "colab": {
     "base_uri": "https://localhost:8080/"
    },
    "id": "ikbgCV5a4SbL",
    "outputId": "1e5ee098-01e9-4f74-93fd-4b4ff9b2b0e7",
    "scrolled": true
   },
   "outputs": [
    {
     "data": {
      "text/plain": [
       "[array(['bus', 'convertible', 'coupe', 'other', 'sedan', 'small', 'suv',\n",
       "        'wagon'], dtype=object),\n",
       " array(['auto', 'manual', 'unknown'], dtype=object),\n",
       " array(['100', '145', '147', '156', '159', '1_reihe', '1er', '200',\n",
       "        '2_reihe', '300c', '3_reihe', '3er', '4_reihe', '500', '5_reihe',\n",
       "        '5er', '601', '6_reihe', '6er', '7er', '80', '850', '90', '900',\n",
       "        '9000', '911', 'a1', 'a2', 'a3', 'a4', 'a5', 'a6', 'a8',\n",
       "        'a_klasse', 'accord', 'agila', 'alhambra', 'almera', 'altea',\n",
       "        'amarok', 'antara', 'arosa', 'astra', 'auris', 'avensis', 'aveo',\n",
       "        'aygo', 'b_klasse', 'b_max', 'beetle', 'berlingo', 'bora',\n",
       "        'boxster', 'bravo', 'c1', 'c2', 'c3', 'c4', 'c5', 'c_klasse',\n",
       "        'c_max', 'c_reihe', 'caddy', 'calibra', 'captiva', 'carisma',\n",
       "        'carnival', 'cayenne', 'cc', 'ceed', 'charade', 'cherokee',\n",
       "        'citigo', 'civic', 'cl', 'clio', 'clk', 'clubman', 'colt', 'combo',\n",
       "        'cooper', 'cordoba', 'corolla', 'corsa', 'cr_reihe', 'croma',\n",
       "        'crossfire', 'cuore', 'cx_reihe', 'defender', 'delta', 'discovery',\n",
       "        'doblo', 'ducato', 'duster', 'e_klasse', 'elefantino', 'eos',\n",
       "        'escort', 'espace', 'exeo', 'fabia', 'fiesta', 'focus', 'forester',\n",
       "        'forfour', 'fortwo', 'fox', 'freelander', 'fusion', 'g_klasse',\n",
       "        'galant', 'galaxy', 'getz', 'gl', 'glk', 'golf', 'grand', 'i3',\n",
       "        'i_reihe', 'ibiza', 'impreza', 'insignia', 'jazz', 'jetta',\n",
       "        'jimny', 'juke', 'justy', 'ka', 'kadett', 'kaefer', 'kalina',\n",
       "        'kalos', 'kangoo', 'kappa', 'kuga', 'laguna', 'lancer', 'lanos',\n",
       "        'legacy', 'leon', 'lodgy', 'logan', 'lupo', 'lybra', 'm_klasse',\n",
       "        'm_reihe', 'materia', 'matiz', 'megane', 'meriva', 'micra', 'mii',\n",
       "        'modus', 'mondeo', 'move', 'musa', 'mustang', 'mx_reihe', 'navara',\n",
       "        'niva', 'note', 'nubira', 'octavia', 'omega', 'one', 'other',\n",
       "        'outlander', 'pajero', 'panda', 'passat', 'phaeton', 'picanto',\n",
       "        'polo', 'primera', 'ptcruiser', 'punto', 'q3', 'q5', 'q7',\n",
       "        'qashqai', 'r19', 'range_rover', 'range_rover_evoque',\n",
       "        'range_rover_sport', 'rangerover', 'rav', 'rio', 'roadster',\n",
       "        'roomster', 'rx_reihe', 's60', 's_klasse', 's_max', 's_type',\n",
       "        'samara', 'sandero', 'santa', 'scenic', 'scirocco', 'seicento',\n",
       "        'serie_2', 'serie_3', 'sharan', 'signum', 'sirion', 'sl', 'slk',\n",
       "        'sorento', 'spark', 'spider', 'sportage', 'sprinter', 'stilo',\n",
       "        'superb', 'swift', 'terios', 'tigra', 'tiguan', 'toledo',\n",
       "        'touareg', 'touran', 'transit', 'transporter', 'tt', 'tucson',\n",
       "        'twingo', 'up', 'v40', 'v50', 'v60', 'v70', 'v_klasse', 'vectra',\n",
       "        'verso', 'viano', 'vito', 'vivaro', 'voyager', 'wrangler',\n",
       "        'x_reihe', 'x_trail', 'x_type', 'xc_reihe', 'yaris', 'yeti',\n",
       "        'ypsilon', 'z_reihe', 'zafira'], dtype=object),\n",
       " array(['cng', 'electric', 'gasoline', 'hybrid', 'lpg', 'other', 'petrol'],\n",
       "       dtype=object),\n",
       " array(['alfa_romeo', 'audi', 'bmw', 'chevrolet', 'chrysler', 'citroen',\n",
       "        'dacia', 'daewoo', 'daihatsu', 'fiat', 'ford', 'honda', 'hyundai',\n",
       "        'jaguar', 'jeep', 'kia', 'lada', 'lancia', 'land_rover', 'mazda',\n",
       "        'mercedes_benz', 'mini', 'mitsubishi', 'nissan', 'opel', 'peugeot',\n",
       "        'porsche', 'renault', 'rover', 'saab', 'seat', 'skoda', 'smart',\n",
       "        'sonstige_autos', 'subaru', 'suzuki', 'toyota', 'trabant',\n",
       "        'volkswagen', 'volvo'], dtype=object),\n",
       " array(['no', 'unknown', 'yes'], dtype=object)]"
      ]
     },
     "execution_count": 59,
     "metadata": {},
     "output_type": "execute_result"
    }
   ],
   "source": [
    "features_ohe.categories_"
   ]
  },
  {
   "cell_type": "markdown",
   "metadata": {
    "cellId": "v7kj59bwz9e75tbrukzl9h",
    "id": "rgFxS94y4SbL"
   },
   "source": [
    "Для того, чтобы значения в колонках признаков относились к соответствующему признаку, напишу цикл, который будет добавлять наименование основного признака к каждому значению кодированной колонки."
   ]
  },
  {
   "cell_type": "code",
   "execution_count": null,
   "metadata": {
    "cellId": "fho9b3f6nvi129sqqz5jst",
    "colab": {
     "base_uri": "https://localhost:8080/"
    },
    "id": "xRQ4Rnw14SbL",
    "outputId": "83284a62-ac94-433b-81e2-309a4a687c60"
   },
   "outputs": [
    {
     "data": {
      "text/plain": [
       "310"
      ]
     },
     "execution_count": 60,
     "metadata": {},
     "output_type": "execute_result"
    }
   ],
   "source": [
    "ohe_columns = []\n",
    "for i in range(6):\n",
    "    if i == 0:\n",
    "        for elem in features_ohe.categories_[i].tolist():\n",
    "            ohe_columns.append('vehicletype_'+elem)\n",
    "    elif i == 1:\n",
    "        for elem in features_ohe.categories_[i].tolist():\n",
    "            ohe_columns.append('gearbox_'+elem)\n",
    "    elif i == 2:\n",
    "        for elem in features_ohe.categories_[i].tolist():\n",
    "            ohe_columns.append('model_'+elem) \n",
    "    elif i == 3:\n",
    "        for elem in features_ohe.categories_[i].tolist():\n",
    "            ohe_columns.append('fueltype_'+elem)\n",
    "    elif i == 4:\n",
    "        for elem in features_ohe.categories_[i].tolist():\n",
    "            ohe_columns.append('brand_'+elem)\n",
    "    elif i == 5:\n",
    "        for elem in features_ohe.categories_[i].tolist():\n",
    "            ohe_columns.append('notrepaired_'+elem)\n",
    "            \n",
    "len(ohe_columns)"
   ]
  },
  {
   "cell_type": "markdown",
   "metadata": {},
   "source": [
    "<div class=\"alert alert-block alert-success\">\n",
    "<b>Успех:</b> OHE применен правльно!"
   ]
  },
  {
   "cell_type": "code",
   "execution_count": null,
   "metadata": {
    "cellId": "de913hxyw3th252odile4",
    "id": "5kzjWmZ94SbL"
   },
   "outputs": [],
   "source": [
    "features_train_categorical = pd.DataFrame(features_ohe_transformed, columns = ohe_columns)\n",
    "features_test_categorical = pd.DataFrame(features_ohe_transformed_test, columns = ohe_columns)"
   ]
  },
  {
   "cell_type": "code",
   "execution_count": null,
   "metadata": {
    "cellId": "aac3uaxnh7sx6denwmgw",
    "colab": {
     "base_uri": "https://localhost:8080/",
     "height": 299
    },
    "id": "sKMwiVW74SbL",
    "outputId": "18dad95f-ffaf-46b5-f039-2c5efd5a71e7"
   },
   "outputs": [
    {
     "data": {
      "text/html": [
       "\n",
       "  <div id=\"df-250c9e3c-079b-45dd-9f7a-a34c6e181571\">\n",
       "    <div class=\"colab-df-container\">\n",
       "      <div>\n",
       "<style scoped>\n",
       "    .dataframe tbody tr th:only-of-type {\n",
       "        vertical-align: middle;\n",
       "    }\n",
       "\n",
       "    .dataframe tbody tr th {\n",
       "        vertical-align: top;\n",
       "    }\n",
       "\n",
       "    .dataframe thead th {\n",
       "        text-align: right;\n",
       "    }\n",
       "</style>\n",
       "<table border=\"1\" class=\"dataframe\">\n",
       "  <thead>\n",
       "    <tr style=\"text-align: right;\">\n",
       "      <th></th>\n",
       "      <th>vehicletype_bus</th>\n",
       "      <th>vehicletype_convertible</th>\n",
       "      <th>vehicletype_coupe</th>\n",
       "      <th>vehicletype_other</th>\n",
       "      <th>vehicletype_sedan</th>\n",
       "      <th>vehicletype_small</th>\n",
       "      <th>vehicletype_suv</th>\n",
       "      <th>vehicletype_wagon</th>\n",
       "      <th>gearbox_auto</th>\n",
       "      <th>gearbox_manual</th>\n",
       "      <th>...</th>\n",
       "      <th>brand_sonstige_autos</th>\n",
       "      <th>brand_subaru</th>\n",
       "      <th>brand_suzuki</th>\n",
       "      <th>brand_toyota</th>\n",
       "      <th>brand_trabant</th>\n",
       "      <th>brand_volkswagen</th>\n",
       "      <th>brand_volvo</th>\n",
       "      <th>notrepaired_no</th>\n",
       "      <th>notrepaired_unknown</th>\n",
       "      <th>notrepaired_yes</th>\n",
       "    </tr>\n",
       "  </thead>\n",
       "  <tbody>\n",
       "    <tr>\n",
       "      <th>0</th>\n",
       "      <td>0.0</td>\n",
       "      <td>0.0</td>\n",
       "      <td>0.0</td>\n",
       "      <td>0.0</td>\n",
       "      <td>0.0</td>\n",
       "      <td>1.0</td>\n",
       "      <td>0.0</td>\n",
       "      <td>0.0</td>\n",
       "      <td>0.0</td>\n",
       "      <td>1.0</td>\n",
       "      <td>...</td>\n",
       "      <td>0.0</td>\n",
       "      <td>0.0</td>\n",
       "      <td>0.0</td>\n",
       "      <td>0.0</td>\n",
       "      <td>0.0</td>\n",
       "      <td>0.0</td>\n",
       "      <td>0.0</td>\n",
       "      <td>0.0</td>\n",
       "      <td>1.0</td>\n",
       "      <td>0.0</td>\n",
       "    </tr>\n",
       "    <tr>\n",
       "      <th>1</th>\n",
       "      <td>0.0</td>\n",
       "      <td>0.0</td>\n",
       "      <td>0.0</td>\n",
       "      <td>0.0</td>\n",
       "      <td>1.0</td>\n",
       "      <td>0.0</td>\n",
       "      <td>0.0</td>\n",
       "      <td>0.0</td>\n",
       "      <td>1.0</td>\n",
       "      <td>0.0</td>\n",
       "      <td>...</td>\n",
       "      <td>0.0</td>\n",
       "      <td>0.0</td>\n",
       "      <td>0.0</td>\n",
       "      <td>0.0</td>\n",
       "      <td>0.0</td>\n",
       "      <td>0.0</td>\n",
       "      <td>0.0</td>\n",
       "      <td>1.0</td>\n",
       "      <td>0.0</td>\n",
       "      <td>0.0</td>\n",
       "    </tr>\n",
       "    <tr>\n",
       "      <th>2</th>\n",
       "      <td>0.0</td>\n",
       "      <td>0.0</td>\n",
       "      <td>0.0</td>\n",
       "      <td>0.0</td>\n",
       "      <td>0.0</td>\n",
       "      <td>0.0</td>\n",
       "      <td>0.0</td>\n",
       "      <td>1.0</td>\n",
       "      <td>1.0</td>\n",
       "      <td>0.0</td>\n",
       "      <td>...</td>\n",
       "      <td>0.0</td>\n",
       "      <td>0.0</td>\n",
       "      <td>0.0</td>\n",
       "      <td>0.0</td>\n",
       "      <td>0.0</td>\n",
       "      <td>0.0</td>\n",
       "      <td>0.0</td>\n",
       "      <td>0.0</td>\n",
       "      <td>1.0</td>\n",
       "      <td>0.0</td>\n",
       "    </tr>\n",
       "    <tr>\n",
       "      <th>3</th>\n",
       "      <td>0.0</td>\n",
       "      <td>0.0</td>\n",
       "      <td>0.0</td>\n",
       "      <td>0.0</td>\n",
       "      <td>0.0</td>\n",
       "      <td>0.0</td>\n",
       "      <td>0.0</td>\n",
       "      <td>1.0</td>\n",
       "      <td>0.0</td>\n",
       "      <td>1.0</td>\n",
       "      <td>...</td>\n",
       "      <td>0.0</td>\n",
       "      <td>0.0</td>\n",
       "      <td>0.0</td>\n",
       "      <td>0.0</td>\n",
       "      <td>0.0</td>\n",
       "      <td>0.0</td>\n",
       "      <td>0.0</td>\n",
       "      <td>0.0</td>\n",
       "      <td>0.0</td>\n",
       "      <td>1.0</td>\n",
       "    </tr>\n",
       "    <tr>\n",
       "      <th>4</th>\n",
       "      <td>0.0</td>\n",
       "      <td>0.0</td>\n",
       "      <td>0.0</td>\n",
       "      <td>0.0</td>\n",
       "      <td>0.0</td>\n",
       "      <td>1.0</td>\n",
       "      <td>0.0</td>\n",
       "      <td>0.0</td>\n",
       "      <td>0.0</td>\n",
       "      <td>1.0</td>\n",
       "      <td>...</td>\n",
       "      <td>0.0</td>\n",
       "      <td>0.0</td>\n",
       "      <td>0.0</td>\n",
       "      <td>0.0</td>\n",
       "      <td>0.0</td>\n",
       "      <td>0.0</td>\n",
       "      <td>0.0</td>\n",
       "      <td>1.0</td>\n",
       "      <td>0.0</td>\n",
       "      <td>0.0</td>\n",
       "    </tr>\n",
       "  </tbody>\n",
       "</table>\n",
       "<p>5 rows × 310 columns</p>\n",
       "</div>\n",
       "      <button class=\"colab-df-convert\" onclick=\"convertToInteractive('df-250c9e3c-079b-45dd-9f7a-a34c6e181571')\"\n",
       "              title=\"Convert this dataframe to an interactive table.\"\n",
       "              style=\"display:none;\">\n",
       "        \n",
       "  <svg xmlns=\"http://www.w3.org/2000/svg\" height=\"24px\"viewBox=\"0 0 24 24\"\n",
       "       width=\"24px\">\n",
       "    <path d=\"M0 0h24v24H0V0z\" fill=\"none\"/>\n",
       "    <path d=\"M18.56 5.44l.94 2.06.94-2.06 2.06-.94-2.06-.94-.94-2.06-.94 2.06-2.06.94zm-11 1L8.5 8.5l.94-2.06 2.06-.94-2.06-.94L8.5 2.5l-.94 2.06-2.06.94zm10 10l.94 2.06.94-2.06 2.06-.94-2.06-.94-.94-2.06-.94 2.06-2.06.94z\"/><path d=\"M17.41 7.96l-1.37-1.37c-.4-.4-.92-.59-1.43-.59-.52 0-1.04.2-1.43.59L10.3 9.45l-7.72 7.72c-.78.78-.78 2.05 0 2.83L4 21.41c.39.39.9.59 1.41.59.51 0 1.02-.2 1.41-.59l7.78-7.78 2.81-2.81c.8-.78.8-2.07 0-2.86zM5.41 20L4 18.59l7.72-7.72 1.47 1.35L5.41 20z\"/>\n",
       "  </svg>\n",
       "      </button>\n",
       "      \n",
       "  <style>\n",
       "    .colab-df-container {\n",
       "      display:flex;\n",
       "      flex-wrap:wrap;\n",
       "      gap: 12px;\n",
       "    }\n",
       "\n",
       "    .colab-df-convert {\n",
       "      background-color: #E8F0FE;\n",
       "      border: none;\n",
       "      border-radius: 50%;\n",
       "      cursor: pointer;\n",
       "      display: none;\n",
       "      fill: #1967D2;\n",
       "      height: 32px;\n",
       "      padding: 0 0 0 0;\n",
       "      width: 32px;\n",
       "    }\n",
       "\n",
       "    .colab-df-convert:hover {\n",
       "      background-color: #E2EBFA;\n",
       "      box-shadow: 0px 1px 2px rgba(60, 64, 67, 0.3), 0px 1px 3px 1px rgba(60, 64, 67, 0.15);\n",
       "      fill: #174EA6;\n",
       "    }\n",
       "\n",
       "    [theme=dark] .colab-df-convert {\n",
       "      background-color: #3B4455;\n",
       "      fill: #D2E3FC;\n",
       "    }\n",
       "\n",
       "    [theme=dark] .colab-df-convert:hover {\n",
       "      background-color: #434B5C;\n",
       "      box-shadow: 0px 1px 3px 1px rgba(0, 0, 0, 0.15);\n",
       "      filter: drop-shadow(0px 1px 2px rgba(0, 0, 0, 0.3));\n",
       "      fill: #FFFFFF;\n",
       "    }\n",
       "  </style>\n",
       "\n",
       "      <script>\n",
       "        const buttonEl =\n",
       "          document.querySelector('#df-250c9e3c-079b-45dd-9f7a-a34c6e181571 button.colab-df-convert');\n",
       "        buttonEl.style.display =\n",
       "          google.colab.kernel.accessAllowed ? 'block' : 'none';\n",
       "\n",
       "        async function convertToInteractive(key) {\n",
       "          const element = document.querySelector('#df-250c9e3c-079b-45dd-9f7a-a34c6e181571');\n",
       "          const dataTable =\n",
       "            await google.colab.kernel.invokeFunction('convertToInteractive',\n",
       "                                                     [key], {});\n",
       "          if (!dataTable) return;\n",
       "\n",
       "          const docLinkHtml = 'Like what you see? Visit the ' +\n",
       "            '<a target=\"_blank\" href=https://colab.research.google.com/notebooks/data_table.ipynb>data table notebook</a>'\n",
       "            + ' to learn more about interactive tables.';\n",
       "          element.innerHTML = '';\n",
       "          dataTable['output_type'] = 'display_data';\n",
       "          await google.colab.output.renderOutput(dataTable, element);\n",
       "          const docLink = document.createElement('div');\n",
       "          docLink.innerHTML = docLinkHtml;\n",
       "          element.appendChild(docLink);\n",
       "        }\n",
       "      </script>\n",
       "    </div>\n",
       "  </div>\n",
       "  "
      ],
      "text/plain": [
       "   vehicletype_bus  vehicletype_convertible  vehicletype_coupe  \\\n",
       "0              0.0                      0.0                0.0   \n",
       "1              0.0                      0.0                0.0   \n",
       "2              0.0                      0.0                0.0   \n",
       "3              0.0                      0.0                0.0   \n",
       "4              0.0                      0.0                0.0   \n",
       "\n",
       "   vehicletype_other  vehicletype_sedan  vehicletype_small  vehicletype_suv  \\\n",
       "0                0.0                0.0                1.0              0.0   \n",
       "1                0.0                1.0                0.0              0.0   \n",
       "2                0.0                0.0                0.0              0.0   \n",
       "3                0.0                0.0                0.0              0.0   \n",
       "4                0.0                0.0                1.0              0.0   \n",
       "\n",
       "   vehicletype_wagon  gearbox_auto  gearbox_manual  ...  brand_sonstige_autos  \\\n",
       "0                0.0           0.0             1.0  ...                   0.0   \n",
       "1                0.0           1.0             0.0  ...                   0.0   \n",
       "2                1.0           1.0             0.0  ...                   0.0   \n",
       "3                1.0           0.0             1.0  ...                   0.0   \n",
       "4                0.0           0.0             1.0  ...                   0.0   \n",
       "\n",
       "   brand_subaru  brand_suzuki  brand_toyota  brand_trabant  brand_volkswagen  \\\n",
       "0           0.0           0.0           0.0            0.0               0.0   \n",
       "1           0.0           0.0           0.0            0.0               0.0   \n",
       "2           0.0           0.0           0.0            0.0               0.0   \n",
       "3           0.0           0.0           0.0            0.0               0.0   \n",
       "4           0.0           0.0           0.0            0.0               0.0   \n",
       "\n",
       "   brand_volvo  notrepaired_no  notrepaired_unknown  notrepaired_yes  \n",
       "0          0.0             0.0                  1.0              0.0  \n",
       "1          0.0             1.0                  0.0              0.0  \n",
       "2          0.0             0.0                  1.0              0.0  \n",
       "3          0.0             0.0                  0.0              1.0  \n",
       "4          0.0             1.0                  0.0              0.0  \n",
       "\n",
       "[5 rows x 310 columns]"
      ]
     },
     "execution_count": 62,
     "metadata": {},
     "output_type": "execute_result"
    }
   ],
   "source": [
    "features_test_categorical.head()"
   ]
  },
  {
   "cell_type": "code",
   "execution_count": null,
   "metadata": {
    "cellId": "k7dlusn2apne00ad6up4i5",
    "colab": {
     "base_uri": "https://localhost:8080/"
    },
    "id": "kvY-aiv44SbL",
    "outputId": "4efcf16d-dcde-4a96-d69a-0ef9610c3b50"
   },
   "outputs": [
    {
     "name": "stdout",
     "output_type": "stream",
     "text": [
      "(245438, 310)\n"
     ]
    },
    {
     "data": {
      "text/plain": [
       "(81813, 310)"
      ]
     },
     "execution_count": 63,
     "metadata": {},
     "output_type": "execute_result"
    }
   ],
   "source": [
    "print(features_train_categorical.shape)\n",
    "features_test_categorical.shape"
   ]
  },
  {
   "cell_type": "markdown",
   "metadata": {
    "cellId": "3fg1yx6mkdw65o2ijcl77l",
    "id": "dZBZTZ0R4SbM"
   },
   "source": [
    "Соединю количественные признаки с категориальными (закодированными) признаками в выборках. Сброшу индексы в выборках, чтобы значения из закодированных датасетов подтянулись корректно по индексу."
   ]
  },
  {
   "cell_type": "code",
   "execution_count": null,
   "metadata": {
    "cellId": "3itpyxv959703j7q3sxnlt3",
    "id": "W5Rh8KD94SbM"
   },
   "outputs": [],
   "source": [
    "features_train = features_train.reset_index(drop=True)\n",
    "features_test = features_test.reset_index(drop=True)"
   ]
  },
  {
   "cell_type": "code",
   "execution_count": null,
   "metadata": {
    "cellId": "su3vxkhscij1thse1j45sm",
    "colab": {
     "base_uri": "https://localhost:8080/"
    },
    "id": "syGogyik4SbM",
    "outputId": "fc7c0e44-5c8a-435e-be71-73fd6c682d4a"
   },
   "outputs": [
    {
     "name": "stdout",
     "output_type": "stream",
     "text": [
      "(245438, 313)\n"
     ]
    },
    {
     "data": {
      "text/plain": [
       "(81813, 313)"
      ]
     },
     "execution_count": 65,
     "metadata": {},
     "output_type": "execute_result"
    }
   ],
   "source": [
    "features_train_ohe = features_train.drop(columns=categorical_columns)\n",
    "features_train_ohe = features_train_ohe.join(features_train_categorical)\n",
    "features_test_ohe = features_test.drop(columns=categorical_columns)\n",
    "features_test_ohe = features_test_ohe.join(features_test_categorical)\n",
    "print(features_train_ohe.shape)\n",
    "features_test_ohe.shape"
   ]
  },
  {
   "cell_type": "markdown",
   "metadata": {
    "cellId": "r3vl9eubf9jbmrii6h7u",
    "id": "o_ib_jP14SbM"
   },
   "source": [
    "#### Масштабирование признаков"
   ]
  },
  {
   "cell_type": "markdown",
   "metadata": {
    "cellId": "9pqrgniinobu2xgu4gdnc",
    "id": "V4qSlDhq4SbM"
   },
   "source": [
    "Далее необходимо масштабировать количественные значения в обучаемой и тестовой выборках. Сделаю это для выборок с кодированием категориальных переменных и с выборками без кодирования."
   ]
  },
  {
   "cell_type": "code",
   "execution_count": null,
   "metadata": {
    "cellId": "4z1uqj7er0paroynawp1v",
    "id": "3Has069Z4SbM"
   },
   "outputs": [],
   "source": [
    "columns_for_scaler = ['registrationyear','power','kilometer']\n",
    "scaler = StandardScaler()\n",
    "scaler.fit(features_train_ohe[columns_for_scaler])\n",
    "features_train_ohe.loc[:, columns_for_scaler] = scaler.transform(features_train_ohe[columns_for_scaler])\n",
    "features_test_ohe.loc[:, columns_for_scaler] = scaler.transform(features_test_ohe[columns_for_scaler])"
   ]
  },
  {
   "cell_type": "code",
   "execution_count": null,
   "metadata": {
    "cellId": "cnodvcj2l6b51cwf6f0pva",
    "id": "JNHOGtEt4SbM"
   },
   "outputs": [],
   "source": [
    "columns_for_scaler = ['registrationyear','power','kilometer']\n",
    "scaler = StandardScaler()\n",
    "scaler.fit(features_train[columns_for_scaler])\n",
    "features_train.loc[:, columns_for_scaler] = scaler.transform(features_train[columns_for_scaler])\n",
    "features_test.loc[:, columns_for_scaler] = scaler.transform(features_test[columns_for_scaler])"
   ]
  },
  {
   "cell_type": "markdown",
   "metadata": {},
   "source": [
    "<div class=\"alert alert-block alert-success\">\n",
    "<b>Успех:</b> Со масштабированиием тоже нет проблем"
   ]
  },
  {
   "cell_type": "markdown",
   "metadata": {
    "cellId": "gmj34dftj9acuue58n5na",
    "id": "YB29pwW-4SbM"
   },
   "source": [
    "Данные подготовлены к обучению, следующий шаг - создание моделей обучения."
   ]
  },
  {
   "cell_type": "markdown",
   "metadata": {
    "cellId": "zw9teqkxvrphcxbgdr4eod",
    "id": "Mj-u8Azv4SbM"
   },
   "source": [
    "Обучу четыре модели машинного обучения - Линейная регрессия, Ridge, Случайный Лес, CatBoost, Light GBM. Гиперпараметры буду подбирать, используя библиотеку GridSearchCV."
   ]
  },
  {
   "cell_type": "markdown",
   "metadata": {
    "cellId": "fx4bepbzh5fl4nkg87gvks",
    "id": "IwM9COvb4SbM"
   },
   "source": [
    "#### Обучение выбранных моделей с подбором гиперпараметров"
   ]
  },
  {
   "cell_type": "markdown",
   "metadata": {
    "cellId": "ii3fxklb0ss0ede9y6frt7h",
    "id": "WRtorjFR4SbN"
   },
   "source": [
    "#### Линейная регрессия"
   ]
  },
  {
   "cell_type": "code",
   "execution_count": null,
   "metadata": {
    "cellId": "fnmurebqtdiqwoftoech4n",
    "id": "0gzPnjCu4SbN",
    "outputId": "cd1100e9-a71f-4033-ea71-2d4b2ff872fa"
   },
   "outputs": [
    {
     "name": "stdout",
     "output_type": "stream",
     "text": [
      "Fitting 15 folds for each of 4 candidates, totalling 60 fits\n"
     ]
    },
    {
     "name": "stderr",
     "output_type": "stream",
     "text": [
      "[Parallel(n_jobs=-1)]: Using backend LokyBackend with 4 concurrent workers.\n",
      "[Parallel(n_jobs=-1)]: Done  42 tasks      | elapsed:  2.5min\n",
      "[Parallel(n_jobs=-1)]: Done  60 out of  60 | elapsed:  3.4min finished\n"
     ]
    },
    {
     "name": "stdout",
     "output_type": "stream",
     "text": [
      "Best Score: -1013547424.7591767\n",
      "Best Hyperparameters: {'fit_intercept': False, 'normalize': True}\n"
     ]
    }
   ],
   "source": [
    "model_lr = LinearRegression()\n",
    "parameters = {'fit_intercept':[True,False], 'normalize':[True,False]}\n",
    "cv = RepeatedStratifiedKFold(n_splits=5, n_repeats=3, random_state=1)\n",
    "search = GridSearchCV(estimator=model_lr, \n",
    "                      param_grid=parameters, \n",
    "                      cv=cv, \n",
    "                      scoring='neg_root_mean_squared_error', \n",
    "                      verbose=1, \n",
    "                      n_jobs=-1)\n",
    "result = search.fit(features_train_ohe, target_train)\n",
    "print('Best Score: %s' % result.best_score_)\n",
    "print('Best Hyperparameters: %s' % result.best_params_)"
   ]
  },
  {
   "cell_type": "markdown",
   "metadata": {
    "cellId": "4zcu7nueea3laq73e2fn3",
    "id": "j9_QbGlH4SbN"
   },
   "source": [
    "Скорее всего, из-за OHE между каким-то признаками возникла коллинеарность и возникла проблема мульти коллинеарности признаков, присущая только линейным моделям, поэтому RMSE имеет такое ненормальное значение. При этой проблеме модули весов модели становятся очень большими. Модель Ridge тоже линейная, но в ней есть штраф на модуль весов, не позволяющий им так расти, даже если среди признаков есть коллинеарные."
   ]
  },
  {
   "cell_type": "markdown",
   "metadata": {},
   "source": [
    "<div class=\"alert alert-block alert-success\">\n",
    "<b>Успех:</b> Рассуждения логичны"
   ]
  },
  {
   "cell_type": "markdown",
   "metadata": {
    "cellId": "3kz144tno1j01vngopwr56q",
    "id": "PGi__z-M4SbN"
   },
   "source": [
    "#### Ridge"
   ]
  },
  {
   "cell_type": "code",
   "execution_count": null,
   "metadata": {
    "cellId": "504g1shlsvvvszrd14ttkd",
    "id": "jb5qONIP4SbN",
    "outputId": "679a2a40-03d2-4684-9e94-39dc696b5461",
    "scrolled": true
   },
   "outputs": [
    {
     "name": "stdout",
     "output_type": "stream",
     "text": [
      "Fitting 15 folds for each of 4 candidates, totalling 60 fits\n"
     ]
    },
    {
     "name": "stderr",
     "output_type": "stream",
     "text": [
      "[Parallel(n_jobs=-1)]: Using backend LokyBackend with 4 concurrent workers.\n",
      "[Parallel(n_jobs=-1)]: Done  42 tasks      | elapsed:   30.1s\n",
      "[Parallel(n_jobs=-1)]: Done  60 out of  60 | elapsed:   39.9s finished\n"
     ]
    },
    {
     "name": "stdout",
     "output_type": "stream",
     "text": [
      "Best Score для модели ridge: -2739.5038152637812\n",
      "Best Hyperparameters для модели ridge: {'fit_intercept': True, 'normalize': False}\n"
     ]
    }
   ],
   "source": [
    "model_ridge = Ridge()\n",
    "parameters = {'fit_intercept':[True,False], 'normalize':[True,False]}\n",
    "cv = RepeatedStratifiedKFold(n_splits=5, n_repeats=3, random_state=1)\n",
    "search = GridSearchCV(estimator=model_ridge, \n",
    "                      param_grid=parameters, \n",
    "                      cv=cv, \n",
    "                      scoring='neg_root_mean_squared_error', \n",
    "                      verbose=1, \n",
    "                      n_jobs=-1)\n",
    "result = search.fit(features_train_ohe, target_train)\n",
    "print('Best Score для модели ridge: %s' % result.best_score_)\n",
    "print('Best Hyperparameters для модели ridge: %s' % result.best_params_)"
   ]
  },
  {
   "cell_type": "markdown",
   "metadata": {
    "cellId": "3dpz71y4iyofsb1ul6jqyo",
    "id": "iFCghThk4SbN"
   },
   "source": [
    "#### Случайный лес"
   ]
  },
  {
   "cell_type": "markdown",
   "metadata": {
    "id": "AljCBbr7Tm74"
   },
   "source": [
    "<div class=\"alert alert-info\"> <b>Примечание:</b> Хотела в проекте так же применить обучение модели Случайного леса, но подбор параметров крайне долго выполнялся и мне пришлось остановить запуск ячейки из-за нехватки времени на сдачу проекта. Поэтому в проекте будет обучение только четырех моделей.:( </div>"
   ]
  },
  {
   "cell_type": "markdown",
   "metadata": {},
   "source": [
    "<div class=\"alert alert-block alert-success\">\n",
    "<b>Успех:</b> Понял, ничего страшного, это не самое главное. Главное, чтобы было понимание, того, что ты делаешь."
   ]
  },
  {
   "cell_type": "code",
   "execution_count": null,
   "metadata": {
    "cellId": "acx6bcjsx9tlvw9nlxt2z",
    "colab": {
     "base_uri": "https://localhost:8080/",
     "height": 398
    },
    "id": "e7SPb0T04SbN",
    "outputId": "ba3347e9-e182-498b-b25f-253a1dff1687"
   },
   "outputs": [
    {
     "name": "stdout",
     "output_type": "stream",
     "text": [
      "Fitting 5 folds for each of 12 candidates, totalling 60 fits\n"
     ]
    },
    {
     "ename": "KeyboardInterrupt",
     "evalue": "ignored",
     "output_type": "error",
     "traceback": [
      "\u001b[0;31m---------------------------------------------------------------------------\u001b[0m",
      "\u001b[0;31mKeyboardInterrupt\u001b[0m                         Traceback (most recent call last)",
      "\u001b[0;32m<ipython-input-69-fe03fe03d2d9>\u001b[0m in \u001b[0;36m<module>\u001b[0;34m()\u001b[0m\n\u001b[1;32m      7\u001b[0m                       \u001b[0mverbose\u001b[0m\u001b[0;34m=\u001b[0m\u001b[0;36m1\u001b[0m\u001b[0;34m,\u001b[0m\u001b[0;34m\u001b[0m\u001b[0;34m\u001b[0m\u001b[0m\n\u001b[1;32m      8\u001b[0m                       scoring='neg_root_mean_squared_error')\n\u001b[0;32m----> 9\u001b[0;31m \u001b[0mresult\u001b[0m \u001b[0;34m=\u001b[0m \u001b[0msearch\u001b[0m\u001b[0;34m.\u001b[0m\u001b[0mfit\u001b[0m\u001b[0;34m(\u001b[0m\u001b[0mfeatures_train_ohe\u001b[0m\u001b[0;34m,\u001b[0m \u001b[0mtarget_train\u001b[0m\u001b[0;34m)\u001b[0m\u001b[0;34m\u001b[0m\u001b[0;34m\u001b[0m\u001b[0m\n\u001b[0m\u001b[1;32m     10\u001b[0m \u001b[0;34m\u001b[0m\u001b[0m\n\u001b[1;32m     11\u001b[0m \u001b[0mprint\u001b[0m\u001b[0;34m(\u001b[0m\u001b[0;34m'Best Score для модели случайного леса: %s'\u001b[0m \u001b[0;34m%\u001b[0m \u001b[0mresult\u001b[0m\u001b[0;34m.\u001b[0m\u001b[0mbest_score_\u001b[0m\u001b[0;34m)\u001b[0m\u001b[0;34m\u001b[0m\u001b[0;34m\u001b[0m\u001b[0m\n",
      "\u001b[0;32m/usr/local/lib/python3.7/dist-packages/sklearn/model_selection/_search.py\u001b[0m in \u001b[0;36mfit\u001b[0;34m(self, X, y, groups, **fit_params)\u001b[0m\n\u001b[1;32m    889\u001b[0m         \u001b[0;32mfor\u001b[0m \u001b[0mmore\u001b[0m \u001b[0mdetails\u001b[0m\u001b[0;34m.\u001b[0m\u001b[0;34m\u001b[0m\u001b[0;34m\u001b[0m\u001b[0m\n\u001b[1;32m    890\u001b[0m \u001b[0;34m\u001b[0m\u001b[0m\n\u001b[0;32m--> 891\u001b[0;31m     \u001b[0mpre_dispatch\u001b[0m \u001b[0;34m:\u001b[0m \u001b[0mint\u001b[0m\u001b[0;34m,\u001b[0m \u001b[0;32mor\u001b[0m \u001b[0mstring\u001b[0m\u001b[0;34m,\u001b[0m \u001b[0moptional\u001b[0m\u001b[0;34m\u001b[0m\u001b[0;34m\u001b[0m\u001b[0m\n\u001b[0m\u001b[1;32m    892\u001b[0m         \u001b[0mControls\u001b[0m \u001b[0mthe\u001b[0m \u001b[0mnumber\u001b[0m \u001b[0mof\u001b[0m \u001b[0mjobs\u001b[0m \u001b[0mthat\u001b[0m \u001b[0mget\u001b[0m \u001b[0mdispatched\u001b[0m \u001b[0mduring\u001b[0m \u001b[0mparallel\u001b[0m\u001b[0;34m\u001b[0m\u001b[0;34m\u001b[0m\u001b[0m\n\u001b[1;32m    893\u001b[0m         \u001b[0mexecution\u001b[0m\u001b[0;34m.\u001b[0m \u001b[0mReducing\u001b[0m \u001b[0mthis\u001b[0m \u001b[0mnumber\u001b[0m \u001b[0mcan\u001b[0m \u001b[0mbe\u001b[0m \u001b[0museful\u001b[0m \u001b[0mto\u001b[0m \u001b[0mavoid\u001b[0m \u001b[0man\u001b[0m\u001b[0;34m\u001b[0m\u001b[0;34m\u001b[0m\u001b[0m\n",
      "\u001b[0;32m/usr/local/lib/python3.7/dist-packages/sklearn/model_selection/_search.py\u001b[0m in \u001b[0;36m_run_search\u001b[0;34m(self, evaluate_candidates)\u001b[0m\n\u001b[1;32m   1390\u001b[0m \u001b[0;34m\u001b[0m\u001b[0m\n\u001b[1;32m   1391\u001b[0m         \u001b[0mThis\u001b[0m \u001b[0mattribute\u001b[0m \u001b[0;32mis\u001b[0m \u001b[0;32mnot\u001b[0m \u001b[0mavailable\u001b[0m \u001b[0;32mif\u001b[0m\u001b[0;31m \u001b[0m\u001b[0;31m`\u001b[0m\u001b[0;31m`\u001b[0m\u001b[0mrefit\u001b[0m\u001b[0;31m`\u001b[0m\u001b[0;31m`\u001b[0m \u001b[0;32mis\u001b[0m \u001b[0ma\u001b[0m \u001b[0mfunction\u001b[0m\u001b[0;34m.\u001b[0m\u001b[0;34m\u001b[0m\u001b[0;34m\u001b[0m\u001b[0m\n\u001b[0;32m-> 1392\u001b[0;31m \u001b[0;34m\u001b[0m\u001b[0m\n\u001b[0m\u001b[1;32m   1393\u001b[0m     \u001b[0mbest_params_\u001b[0m \u001b[0;34m:\u001b[0m \u001b[0mdict\u001b[0m\u001b[0;34m\u001b[0m\u001b[0;34m\u001b[0m\u001b[0m\n\u001b[1;32m   1394\u001b[0m         \u001b[0mParameter\u001b[0m \u001b[0msetting\u001b[0m \u001b[0mthat\u001b[0m \u001b[0mgave\u001b[0m \u001b[0mthe\u001b[0m \u001b[0mbest\u001b[0m \u001b[0mresults\u001b[0m \u001b[0mon\u001b[0m \u001b[0mthe\u001b[0m \u001b[0mhold\u001b[0m \u001b[0mout\u001b[0m \u001b[0mdata\u001b[0m\u001b[0;34m.\u001b[0m\u001b[0;34m\u001b[0m\u001b[0;34m\u001b[0m\u001b[0m\n",
      "\u001b[0;32m/usr/local/lib/python3.7/dist-packages/sklearn/model_selection/_search.py\u001b[0m in \u001b[0;36mevaluate_candidates\u001b[0;34m(candidate_params, cv, more_results)\u001b[0m\n\u001b[1;32m    849\u001b[0m     \u001b[0mestimator\u001b[0m \u001b[0mused\u001b[0m\u001b[0;34m.\u001b[0m\u001b[0;34m\u001b[0m\u001b[0;34m\u001b[0m\u001b[0m\n\u001b[1;32m    850\u001b[0m \u001b[0;34m\u001b[0m\u001b[0m\n\u001b[0;32m--> 851\u001b[0;31m     \u001b[0mThe\u001b[0m \u001b[0mparameters\u001b[0m \u001b[0mof\u001b[0m \u001b[0mthe\u001b[0m \u001b[0mestimator\u001b[0m \u001b[0mused\u001b[0m \u001b[0mto\u001b[0m \u001b[0mapply\u001b[0m \u001b[0mthese\u001b[0m \u001b[0mmethods\u001b[0m \u001b[0mare\u001b[0m \u001b[0moptimized\u001b[0m\u001b[0;34m\u001b[0m\u001b[0;34m\u001b[0m\u001b[0m\n\u001b[0m\u001b[1;32m    852\u001b[0m     \u001b[0mby\u001b[0m \u001b[0mcross\u001b[0m\u001b[0;34m-\u001b[0m\u001b[0mvalidated\u001b[0m \u001b[0mgrid\u001b[0m\u001b[0;34m-\u001b[0m\u001b[0msearch\u001b[0m \u001b[0mover\u001b[0m \u001b[0ma\u001b[0m \u001b[0mparameter\u001b[0m \u001b[0mgrid\u001b[0m\u001b[0;34m.\u001b[0m\u001b[0;34m\u001b[0m\u001b[0;34m\u001b[0m\u001b[0m\n\u001b[1;32m    853\u001b[0m \u001b[0;34m\u001b[0m\u001b[0m\n",
      "\u001b[0;32m/usr/local/lib/python3.7/dist-packages/joblib/parallel.py\u001b[0m in \u001b[0;36m__call__\u001b[0;34m(self, iterable)\u001b[0m\n\u001b[1;32m   1044\u001b[0m                 \u001b[0mself\u001b[0m\u001b[0;34m.\u001b[0m\u001b[0m_iterating\u001b[0m \u001b[0;34m=\u001b[0m \u001b[0mself\u001b[0m\u001b[0;34m.\u001b[0m\u001b[0m_original_iterator\u001b[0m \u001b[0;32mis\u001b[0m \u001b[0;32mnot\u001b[0m \u001b[0;32mNone\u001b[0m\u001b[0;34m\u001b[0m\u001b[0;34m\u001b[0m\u001b[0m\n\u001b[1;32m   1045\u001b[0m \u001b[0;34m\u001b[0m\u001b[0m\n\u001b[0;32m-> 1046\u001b[0;31m             \u001b[0;32mwhile\u001b[0m \u001b[0mself\u001b[0m\u001b[0;34m.\u001b[0m\u001b[0mdispatch_one_batch\u001b[0m\u001b[0;34m(\u001b[0m\u001b[0miterator\u001b[0m\u001b[0;34m)\u001b[0m\u001b[0;34m:\u001b[0m\u001b[0;34m\u001b[0m\u001b[0;34m\u001b[0m\u001b[0m\n\u001b[0m\u001b[1;32m   1047\u001b[0m                 \u001b[0;32mpass\u001b[0m\u001b[0;34m\u001b[0m\u001b[0;34m\u001b[0m\u001b[0m\n\u001b[1;32m   1048\u001b[0m \u001b[0;34m\u001b[0m\u001b[0m\n",
      "\u001b[0;32m/usr/local/lib/python3.7/dist-packages/joblib/parallel.py\u001b[0m in \u001b[0;36mdispatch_one_batch\u001b[0;34m(self, iterator)\u001b[0m\n\u001b[1;32m    859\u001b[0m                 \u001b[0;32mreturn\u001b[0m \u001b[0;32mFalse\u001b[0m\u001b[0;34m\u001b[0m\u001b[0;34m\u001b[0m\u001b[0m\n\u001b[1;32m    860\u001b[0m             \u001b[0;32melse\u001b[0m\u001b[0;34m:\u001b[0m\u001b[0;34m\u001b[0m\u001b[0;34m\u001b[0m\u001b[0m\n\u001b[0;32m--> 861\u001b[0;31m                 \u001b[0mself\u001b[0m\u001b[0;34m.\u001b[0m\u001b[0m_dispatch\u001b[0m\u001b[0;34m(\u001b[0m\u001b[0mtasks\u001b[0m\u001b[0;34m)\u001b[0m\u001b[0;34m\u001b[0m\u001b[0;34m\u001b[0m\u001b[0m\n\u001b[0m\u001b[1;32m    862\u001b[0m                 \u001b[0;32mreturn\u001b[0m \u001b[0;32mTrue\u001b[0m\u001b[0;34m\u001b[0m\u001b[0;34m\u001b[0m\u001b[0m\n\u001b[1;32m    863\u001b[0m \u001b[0;34m\u001b[0m\u001b[0m\n",
      "\u001b[0;32m/usr/local/lib/python3.7/dist-packages/joblib/parallel.py\u001b[0m in \u001b[0;36m_dispatch\u001b[0;34m(self, batch)\u001b[0m\n\u001b[1;32m    777\u001b[0m         \u001b[0;32mwith\u001b[0m \u001b[0mself\u001b[0m\u001b[0;34m.\u001b[0m\u001b[0m_lock\u001b[0m\u001b[0;34m:\u001b[0m\u001b[0;34m\u001b[0m\u001b[0;34m\u001b[0m\u001b[0m\n\u001b[1;32m    778\u001b[0m             \u001b[0mjob_idx\u001b[0m \u001b[0;34m=\u001b[0m \u001b[0mlen\u001b[0m\u001b[0;34m(\u001b[0m\u001b[0mself\u001b[0m\u001b[0;34m.\u001b[0m\u001b[0m_jobs\u001b[0m\u001b[0;34m)\u001b[0m\u001b[0;34m\u001b[0m\u001b[0;34m\u001b[0m\u001b[0m\n\u001b[0;32m--> 779\u001b[0;31m             \u001b[0mjob\u001b[0m \u001b[0;34m=\u001b[0m \u001b[0mself\u001b[0m\u001b[0;34m.\u001b[0m\u001b[0m_backend\u001b[0m\u001b[0;34m.\u001b[0m\u001b[0mapply_async\u001b[0m\u001b[0;34m(\u001b[0m\u001b[0mbatch\u001b[0m\u001b[0;34m,\u001b[0m \u001b[0mcallback\u001b[0m\u001b[0;34m=\u001b[0m\u001b[0mcb\u001b[0m\u001b[0;34m)\u001b[0m\u001b[0;34m\u001b[0m\u001b[0;34m\u001b[0m\u001b[0m\n\u001b[0m\u001b[1;32m    780\u001b[0m             \u001b[0;31m# A job can complete so quickly than its callback is\u001b[0m\u001b[0;34m\u001b[0m\u001b[0;34m\u001b[0m\u001b[0;34m\u001b[0m\u001b[0m\n\u001b[1;32m    781\u001b[0m             \u001b[0;31m# called before we get here, causing self._jobs to\u001b[0m\u001b[0;34m\u001b[0m\u001b[0;34m\u001b[0m\u001b[0;34m\u001b[0m\u001b[0m\n",
      "\u001b[0;32m/usr/local/lib/python3.7/dist-packages/joblib/_parallel_backends.py\u001b[0m in \u001b[0;36mapply_async\u001b[0;34m(self, func, callback)\u001b[0m\n\u001b[1;32m    206\u001b[0m     \u001b[0;32mdef\u001b[0m \u001b[0mapply_async\u001b[0m\u001b[0;34m(\u001b[0m\u001b[0mself\u001b[0m\u001b[0;34m,\u001b[0m \u001b[0mfunc\u001b[0m\u001b[0;34m,\u001b[0m \u001b[0mcallback\u001b[0m\u001b[0;34m=\u001b[0m\u001b[0;32mNone\u001b[0m\u001b[0;34m)\u001b[0m\u001b[0;34m:\u001b[0m\u001b[0;34m\u001b[0m\u001b[0;34m\u001b[0m\u001b[0m\n\u001b[1;32m    207\u001b[0m         \u001b[0;34m\"\"\"Schedule a func to be run\"\"\"\u001b[0m\u001b[0;34m\u001b[0m\u001b[0;34m\u001b[0m\u001b[0m\n\u001b[0;32m--> 208\u001b[0;31m         \u001b[0mresult\u001b[0m \u001b[0;34m=\u001b[0m \u001b[0mImmediateResult\u001b[0m\u001b[0;34m(\u001b[0m\u001b[0mfunc\u001b[0m\u001b[0;34m)\u001b[0m\u001b[0;34m\u001b[0m\u001b[0;34m\u001b[0m\u001b[0m\n\u001b[0m\u001b[1;32m    209\u001b[0m         \u001b[0;32mif\u001b[0m \u001b[0mcallback\u001b[0m\u001b[0;34m:\u001b[0m\u001b[0;34m\u001b[0m\u001b[0;34m\u001b[0m\u001b[0m\n\u001b[1;32m    210\u001b[0m             \u001b[0mcallback\u001b[0m\u001b[0;34m(\u001b[0m\u001b[0mresult\u001b[0m\u001b[0;34m)\u001b[0m\u001b[0;34m\u001b[0m\u001b[0;34m\u001b[0m\u001b[0m\n",
      "\u001b[0;32m/usr/local/lib/python3.7/dist-packages/joblib/_parallel_backends.py\u001b[0m in \u001b[0;36m__init__\u001b[0;34m(self, batch)\u001b[0m\n\u001b[1;32m    570\u001b[0m         \u001b[0;31m# Don't delay the application, to avoid keeping the input\u001b[0m\u001b[0;34m\u001b[0m\u001b[0;34m\u001b[0m\u001b[0;34m\u001b[0m\u001b[0m\n\u001b[1;32m    571\u001b[0m         \u001b[0;31m# arguments in memory\u001b[0m\u001b[0;34m\u001b[0m\u001b[0;34m\u001b[0m\u001b[0;34m\u001b[0m\u001b[0m\n\u001b[0;32m--> 572\u001b[0;31m         \u001b[0mself\u001b[0m\u001b[0;34m.\u001b[0m\u001b[0mresults\u001b[0m \u001b[0;34m=\u001b[0m \u001b[0mbatch\u001b[0m\u001b[0;34m(\u001b[0m\u001b[0;34m)\u001b[0m\u001b[0;34m\u001b[0m\u001b[0;34m\u001b[0m\u001b[0m\n\u001b[0m\u001b[1;32m    573\u001b[0m \u001b[0;34m\u001b[0m\u001b[0m\n\u001b[1;32m    574\u001b[0m     \u001b[0;32mdef\u001b[0m \u001b[0mget\u001b[0m\u001b[0;34m(\u001b[0m\u001b[0mself\u001b[0m\u001b[0;34m)\u001b[0m\u001b[0;34m:\u001b[0m\u001b[0;34m\u001b[0m\u001b[0;34m\u001b[0m\u001b[0m\n",
      "\u001b[0;32m/usr/local/lib/python3.7/dist-packages/joblib/parallel.py\u001b[0m in \u001b[0;36m__call__\u001b[0;34m(self)\u001b[0m\n\u001b[1;32m    261\u001b[0m         \u001b[0;32mwith\u001b[0m \u001b[0mparallel_backend\u001b[0m\u001b[0;34m(\u001b[0m\u001b[0mself\u001b[0m\u001b[0;34m.\u001b[0m\u001b[0m_backend\u001b[0m\u001b[0;34m,\u001b[0m \u001b[0mn_jobs\u001b[0m\u001b[0;34m=\u001b[0m\u001b[0mself\u001b[0m\u001b[0;34m.\u001b[0m\u001b[0m_n_jobs\u001b[0m\u001b[0;34m)\u001b[0m\u001b[0;34m:\u001b[0m\u001b[0;34m\u001b[0m\u001b[0;34m\u001b[0m\u001b[0m\n\u001b[1;32m    262\u001b[0m             return [func(*args, **kwargs)\n\u001b[0;32m--> 263\u001b[0;31m                     for func, args, kwargs in self.items]\n\u001b[0m\u001b[1;32m    264\u001b[0m \u001b[0;34m\u001b[0m\u001b[0m\n\u001b[1;32m    265\u001b[0m     \u001b[0;32mdef\u001b[0m \u001b[0m__reduce__\u001b[0m\u001b[0;34m(\u001b[0m\u001b[0mself\u001b[0m\u001b[0;34m)\u001b[0m\u001b[0;34m:\u001b[0m\u001b[0;34m\u001b[0m\u001b[0;34m\u001b[0m\u001b[0m\n",
      "\u001b[0;32m/usr/local/lib/python3.7/dist-packages/joblib/parallel.py\u001b[0m in \u001b[0;36m<listcomp>\u001b[0;34m(.0)\u001b[0m\n\u001b[1;32m    261\u001b[0m         \u001b[0;32mwith\u001b[0m \u001b[0mparallel_backend\u001b[0m\u001b[0;34m(\u001b[0m\u001b[0mself\u001b[0m\u001b[0;34m.\u001b[0m\u001b[0m_backend\u001b[0m\u001b[0;34m,\u001b[0m \u001b[0mn_jobs\u001b[0m\u001b[0;34m=\u001b[0m\u001b[0mself\u001b[0m\u001b[0;34m.\u001b[0m\u001b[0m_n_jobs\u001b[0m\u001b[0;34m)\u001b[0m\u001b[0;34m:\u001b[0m\u001b[0;34m\u001b[0m\u001b[0;34m\u001b[0m\u001b[0m\n\u001b[1;32m    262\u001b[0m             return [func(*args, **kwargs)\n\u001b[0;32m--> 263\u001b[0;31m                     for func, args, kwargs in self.items]\n\u001b[0m\u001b[1;32m    264\u001b[0m \u001b[0;34m\u001b[0m\u001b[0m\n\u001b[1;32m    265\u001b[0m     \u001b[0;32mdef\u001b[0m \u001b[0m__reduce__\u001b[0m\u001b[0;34m(\u001b[0m\u001b[0mself\u001b[0m\u001b[0;34m)\u001b[0m\u001b[0;34m:\u001b[0m\u001b[0;34m\u001b[0m\u001b[0;34m\u001b[0m\u001b[0m\n",
      "\u001b[0;32m/usr/local/lib/python3.7/dist-packages/sklearn/utils/fixes.py\u001b[0m in \u001b[0;36m__call__\u001b[0;34m(self, *args, **kwargs)\u001b[0m\n\u001b[1;32m    214\u001b[0m         \u001b[0mHard\u001b[0m \u001b[0mcondstraint\u001b[0m \u001b[0mto\u001b[0m \u001b[0mselect\u001b[0m \u001b[0mthe\u001b[0m \u001b[0mbackend\u001b[0m\u001b[0;34m.\u001b[0m \u001b[0mIf\u001b[0m \u001b[0mset\u001b[0m \u001b[0mto\u001b[0m \u001b[0;34m'sharedmem'\u001b[0m\u001b[0;34m,\u001b[0m\u001b[0;34m\u001b[0m\u001b[0;34m\u001b[0m\u001b[0m\n\u001b[1;32m    215\u001b[0m         \u001b[0mthe\u001b[0m \u001b[0mselected\u001b[0m \u001b[0mbackend\u001b[0m \u001b[0mwill\u001b[0m \u001b[0mbe\u001b[0m \u001b[0msingle\u001b[0m\u001b[0;34m-\u001b[0m\u001b[0mhost\u001b[0m \u001b[0;32mand\u001b[0m \u001b[0mthread\u001b[0m\u001b[0;34m-\u001b[0m\u001b[0mbased\u001b[0m \u001b[0meven\u001b[0m\u001b[0;34m\u001b[0m\u001b[0;34m\u001b[0m\u001b[0m\n\u001b[0;32m--> 216\u001b[0;31m         \u001b[0;32mif\u001b[0m \u001b[0mthe\u001b[0m \u001b[0muser\u001b[0m \u001b[0masked\u001b[0m \u001b[0;32mfor\u001b[0m \u001b[0ma\u001b[0m \u001b[0mnon\u001b[0m\u001b[0;34m-\u001b[0m\u001b[0mthread\u001b[0m \u001b[0mbased\u001b[0m \u001b[0mbackend\u001b[0m \u001b[0;32mwith\u001b[0m\u001b[0;34m\u001b[0m\u001b[0;34m\u001b[0m\u001b[0m\n\u001b[0m\u001b[1;32m    217\u001b[0m         \u001b[0mparallel_backend\u001b[0m\u001b[0;34m.\u001b[0m\u001b[0;34m\u001b[0m\u001b[0;34m\u001b[0m\u001b[0m\n\u001b[1;32m    218\u001b[0m \u001b[0;34m\u001b[0m\u001b[0m\n",
      "\u001b[0;32m/usr/local/lib/python3.7/dist-packages/sklearn/model_selection/_validation.py\u001b[0m in \u001b[0;36m_fit_and_score\u001b[0;34m(estimator, X, y, scorer, train, test, verbose, parameters, fit_params, return_train_score, return_parameters, return_n_test_samples, return_times, return_estimator, split_progress, candidate_progress, error_score)\u001b[0m\n\u001b[1;32m    678\u001b[0m     \u001b[0mpre_dispatch\u001b[0m \u001b[0;34m:\u001b[0m \u001b[0mint\u001b[0m\u001b[0;34m,\u001b[0m \u001b[0;32mor\u001b[0m \u001b[0mstring\u001b[0m\u001b[0;34m,\u001b[0m \u001b[0moptional\u001b[0m\u001b[0;34m\u001b[0m\u001b[0;34m\u001b[0m\u001b[0m\n\u001b[1;32m    679\u001b[0m         \u001b[0mControls\u001b[0m \u001b[0mthe\u001b[0m \u001b[0mnumber\u001b[0m \u001b[0mof\u001b[0m \u001b[0mjobs\u001b[0m \u001b[0mthat\u001b[0m \u001b[0mget\u001b[0m \u001b[0mdispatched\u001b[0m \u001b[0mduring\u001b[0m \u001b[0mparallel\u001b[0m\u001b[0;34m\u001b[0m\u001b[0;34m\u001b[0m\u001b[0m\n\u001b[0;32m--> 680\u001b[0;31m         \u001b[0mexecution\u001b[0m\u001b[0;34m.\u001b[0m \u001b[0mReducing\u001b[0m \u001b[0mthis\u001b[0m \u001b[0mnumber\u001b[0m \u001b[0mcan\u001b[0m \u001b[0mbe\u001b[0m \u001b[0museful\u001b[0m \u001b[0mto\u001b[0m \u001b[0mavoid\u001b[0m \u001b[0man\u001b[0m\u001b[0;34m\u001b[0m\u001b[0;34m\u001b[0m\u001b[0m\n\u001b[0m\u001b[1;32m    681\u001b[0m         \u001b[0mexplosion\u001b[0m \u001b[0mof\u001b[0m \u001b[0mmemory\u001b[0m \u001b[0mconsumption\u001b[0m \u001b[0mwhen\u001b[0m \u001b[0mmore\u001b[0m \u001b[0mjobs\u001b[0m \u001b[0mget\u001b[0m \u001b[0mdispatched\u001b[0m\u001b[0;34m\u001b[0m\u001b[0;34m\u001b[0m\u001b[0m\n\u001b[1;32m    682\u001b[0m         \u001b[0mthan\u001b[0m \u001b[0mCPUs\u001b[0m \u001b[0mcan\u001b[0m \u001b[0mprocess\u001b[0m\u001b[0;34m.\u001b[0m \u001b[0mThis\u001b[0m \u001b[0mparameter\u001b[0m \u001b[0mcan\u001b[0m \u001b[0mbe\u001b[0m\u001b[0;34m:\u001b[0m\u001b[0;34m\u001b[0m\u001b[0;34m\u001b[0m\u001b[0m\n",
      "\u001b[0;32m/usr/local/lib/python3.7/dist-packages/sklearn/ensemble/_forest.py\u001b[0m in \u001b[0;36mfit\u001b[0;34m(self, X, y, sample_weight)\u001b[0m\n\u001b[1;32m    465\u001b[0m \u001b[0;34m\u001b[0m\u001b[0m\n\u001b[1;32m    466\u001b[0m     \u001b[0;34m@\u001b[0m\u001b[0mabstractmethod\u001b[0m\u001b[0;34m\u001b[0m\u001b[0;34m\u001b[0m\u001b[0m\n\u001b[0;32m--> 467\u001b[0;31m     def __init__(self,\n\u001b[0m\u001b[1;32m    468\u001b[0m                  \u001b[0mbase_estimator\u001b[0m\u001b[0;34m,\u001b[0m\u001b[0;34m\u001b[0m\u001b[0;34m\u001b[0m\u001b[0m\n\u001b[1;32m    469\u001b[0m                  \u001b[0mn_estimators\u001b[0m\u001b[0;34m=\u001b[0m\u001b[0;36m100\u001b[0m\u001b[0;34m,\u001b[0m\u001b[0;34m\u001b[0m\u001b[0;34m\u001b[0m\u001b[0m\n",
      "\u001b[0;32m/usr/local/lib/python3.7/dist-packages/joblib/parallel.py\u001b[0m in \u001b[0;36m__call__\u001b[0;34m(self, iterable)\u001b[0m\n\u001b[1;32m   1044\u001b[0m                 \u001b[0mself\u001b[0m\u001b[0;34m.\u001b[0m\u001b[0m_iterating\u001b[0m \u001b[0;34m=\u001b[0m \u001b[0mself\u001b[0m\u001b[0;34m.\u001b[0m\u001b[0m_original_iterator\u001b[0m \u001b[0;32mis\u001b[0m \u001b[0;32mnot\u001b[0m \u001b[0;32mNone\u001b[0m\u001b[0;34m\u001b[0m\u001b[0;34m\u001b[0m\u001b[0m\n\u001b[1;32m   1045\u001b[0m \u001b[0;34m\u001b[0m\u001b[0m\n\u001b[0;32m-> 1046\u001b[0;31m             \u001b[0;32mwhile\u001b[0m \u001b[0mself\u001b[0m\u001b[0;34m.\u001b[0m\u001b[0mdispatch_one_batch\u001b[0m\u001b[0;34m(\u001b[0m\u001b[0miterator\u001b[0m\u001b[0;34m)\u001b[0m\u001b[0;34m:\u001b[0m\u001b[0;34m\u001b[0m\u001b[0;34m\u001b[0m\u001b[0m\n\u001b[0m\u001b[1;32m   1047\u001b[0m                 \u001b[0;32mpass\u001b[0m\u001b[0;34m\u001b[0m\u001b[0;34m\u001b[0m\u001b[0m\n\u001b[1;32m   1048\u001b[0m \u001b[0;34m\u001b[0m\u001b[0m\n",
      "\u001b[0;32m/usr/local/lib/python3.7/dist-packages/joblib/parallel.py\u001b[0m in \u001b[0;36mdispatch_one_batch\u001b[0;34m(self, iterator)\u001b[0m\n\u001b[1;32m    859\u001b[0m                 \u001b[0;32mreturn\u001b[0m \u001b[0;32mFalse\u001b[0m\u001b[0;34m\u001b[0m\u001b[0;34m\u001b[0m\u001b[0m\n\u001b[1;32m    860\u001b[0m             \u001b[0;32melse\u001b[0m\u001b[0;34m:\u001b[0m\u001b[0;34m\u001b[0m\u001b[0;34m\u001b[0m\u001b[0m\n\u001b[0;32m--> 861\u001b[0;31m                 \u001b[0mself\u001b[0m\u001b[0;34m.\u001b[0m\u001b[0m_dispatch\u001b[0m\u001b[0;34m(\u001b[0m\u001b[0mtasks\u001b[0m\u001b[0;34m)\u001b[0m\u001b[0;34m\u001b[0m\u001b[0;34m\u001b[0m\u001b[0m\n\u001b[0m\u001b[1;32m    862\u001b[0m                 \u001b[0;32mreturn\u001b[0m \u001b[0;32mTrue\u001b[0m\u001b[0;34m\u001b[0m\u001b[0;34m\u001b[0m\u001b[0m\n\u001b[1;32m    863\u001b[0m \u001b[0;34m\u001b[0m\u001b[0m\n",
      "\u001b[0;32m/usr/local/lib/python3.7/dist-packages/joblib/parallel.py\u001b[0m in \u001b[0;36m_dispatch\u001b[0;34m(self, batch)\u001b[0m\n\u001b[1;32m    777\u001b[0m         \u001b[0;32mwith\u001b[0m \u001b[0mself\u001b[0m\u001b[0;34m.\u001b[0m\u001b[0m_lock\u001b[0m\u001b[0;34m:\u001b[0m\u001b[0;34m\u001b[0m\u001b[0;34m\u001b[0m\u001b[0m\n\u001b[1;32m    778\u001b[0m             \u001b[0mjob_idx\u001b[0m \u001b[0;34m=\u001b[0m \u001b[0mlen\u001b[0m\u001b[0;34m(\u001b[0m\u001b[0mself\u001b[0m\u001b[0;34m.\u001b[0m\u001b[0m_jobs\u001b[0m\u001b[0;34m)\u001b[0m\u001b[0;34m\u001b[0m\u001b[0;34m\u001b[0m\u001b[0m\n\u001b[0;32m--> 779\u001b[0;31m             \u001b[0mjob\u001b[0m \u001b[0;34m=\u001b[0m \u001b[0mself\u001b[0m\u001b[0;34m.\u001b[0m\u001b[0m_backend\u001b[0m\u001b[0;34m.\u001b[0m\u001b[0mapply_async\u001b[0m\u001b[0;34m(\u001b[0m\u001b[0mbatch\u001b[0m\u001b[0;34m,\u001b[0m \u001b[0mcallback\u001b[0m\u001b[0;34m=\u001b[0m\u001b[0mcb\u001b[0m\u001b[0;34m)\u001b[0m\u001b[0;34m\u001b[0m\u001b[0;34m\u001b[0m\u001b[0m\n\u001b[0m\u001b[1;32m    780\u001b[0m             \u001b[0;31m# A job can complete so quickly than its callback is\u001b[0m\u001b[0;34m\u001b[0m\u001b[0;34m\u001b[0m\u001b[0;34m\u001b[0m\u001b[0m\n\u001b[1;32m    781\u001b[0m             \u001b[0;31m# called before we get here, causing self._jobs to\u001b[0m\u001b[0;34m\u001b[0m\u001b[0;34m\u001b[0m\u001b[0;34m\u001b[0m\u001b[0m\n",
      "\u001b[0;32m/usr/local/lib/python3.7/dist-packages/joblib/_parallel_backends.py\u001b[0m in \u001b[0;36mapply_async\u001b[0;34m(self, func, callback)\u001b[0m\n\u001b[1;32m    206\u001b[0m     \u001b[0;32mdef\u001b[0m \u001b[0mapply_async\u001b[0m\u001b[0;34m(\u001b[0m\u001b[0mself\u001b[0m\u001b[0;34m,\u001b[0m \u001b[0mfunc\u001b[0m\u001b[0;34m,\u001b[0m \u001b[0mcallback\u001b[0m\u001b[0;34m=\u001b[0m\u001b[0;32mNone\u001b[0m\u001b[0;34m)\u001b[0m\u001b[0;34m:\u001b[0m\u001b[0;34m\u001b[0m\u001b[0;34m\u001b[0m\u001b[0m\n\u001b[1;32m    207\u001b[0m         \u001b[0;34m\"\"\"Schedule a func to be run\"\"\"\u001b[0m\u001b[0;34m\u001b[0m\u001b[0;34m\u001b[0m\u001b[0m\n\u001b[0;32m--> 208\u001b[0;31m         \u001b[0mresult\u001b[0m \u001b[0;34m=\u001b[0m \u001b[0mImmediateResult\u001b[0m\u001b[0;34m(\u001b[0m\u001b[0mfunc\u001b[0m\u001b[0;34m)\u001b[0m\u001b[0;34m\u001b[0m\u001b[0;34m\u001b[0m\u001b[0m\n\u001b[0m\u001b[1;32m    209\u001b[0m         \u001b[0;32mif\u001b[0m \u001b[0mcallback\u001b[0m\u001b[0;34m:\u001b[0m\u001b[0;34m\u001b[0m\u001b[0;34m\u001b[0m\u001b[0m\n\u001b[1;32m    210\u001b[0m             \u001b[0mcallback\u001b[0m\u001b[0;34m(\u001b[0m\u001b[0mresult\u001b[0m\u001b[0;34m)\u001b[0m\u001b[0;34m\u001b[0m\u001b[0;34m\u001b[0m\u001b[0m\n",
      "\u001b[0;32m/usr/local/lib/python3.7/dist-packages/joblib/_parallel_backends.py\u001b[0m in \u001b[0;36m__init__\u001b[0;34m(self, batch)\u001b[0m\n\u001b[1;32m    570\u001b[0m         \u001b[0;31m# Don't delay the application, to avoid keeping the input\u001b[0m\u001b[0;34m\u001b[0m\u001b[0;34m\u001b[0m\u001b[0;34m\u001b[0m\u001b[0m\n\u001b[1;32m    571\u001b[0m         \u001b[0;31m# arguments in memory\u001b[0m\u001b[0;34m\u001b[0m\u001b[0;34m\u001b[0m\u001b[0;34m\u001b[0m\u001b[0m\n\u001b[0;32m--> 572\u001b[0;31m         \u001b[0mself\u001b[0m\u001b[0;34m.\u001b[0m\u001b[0mresults\u001b[0m \u001b[0;34m=\u001b[0m \u001b[0mbatch\u001b[0m\u001b[0;34m(\u001b[0m\u001b[0;34m)\u001b[0m\u001b[0;34m\u001b[0m\u001b[0;34m\u001b[0m\u001b[0m\n\u001b[0m\u001b[1;32m    573\u001b[0m \u001b[0;34m\u001b[0m\u001b[0m\n\u001b[1;32m    574\u001b[0m     \u001b[0;32mdef\u001b[0m \u001b[0mget\u001b[0m\u001b[0;34m(\u001b[0m\u001b[0mself\u001b[0m\u001b[0;34m)\u001b[0m\u001b[0;34m:\u001b[0m\u001b[0;34m\u001b[0m\u001b[0;34m\u001b[0m\u001b[0m\n",
      "\u001b[0;32m/usr/local/lib/python3.7/dist-packages/joblib/parallel.py\u001b[0m in \u001b[0;36m__call__\u001b[0;34m(self)\u001b[0m\n\u001b[1;32m    261\u001b[0m         \u001b[0;32mwith\u001b[0m \u001b[0mparallel_backend\u001b[0m\u001b[0;34m(\u001b[0m\u001b[0mself\u001b[0m\u001b[0;34m.\u001b[0m\u001b[0m_backend\u001b[0m\u001b[0;34m,\u001b[0m \u001b[0mn_jobs\u001b[0m\u001b[0;34m=\u001b[0m\u001b[0mself\u001b[0m\u001b[0;34m.\u001b[0m\u001b[0m_n_jobs\u001b[0m\u001b[0;34m)\u001b[0m\u001b[0;34m:\u001b[0m\u001b[0;34m\u001b[0m\u001b[0;34m\u001b[0m\u001b[0m\n\u001b[1;32m    262\u001b[0m             return [func(*args, **kwargs)\n\u001b[0;32m--> 263\u001b[0;31m                     for func, args, kwargs in self.items]\n\u001b[0m\u001b[1;32m    264\u001b[0m \u001b[0;34m\u001b[0m\u001b[0m\n\u001b[1;32m    265\u001b[0m     \u001b[0;32mdef\u001b[0m \u001b[0m__reduce__\u001b[0m\u001b[0;34m(\u001b[0m\u001b[0mself\u001b[0m\u001b[0;34m)\u001b[0m\u001b[0;34m:\u001b[0m\u001b[0;34m\u001b[0m\u001b[0;34m\u001b[0m\u001b[0m\n",
      "\u001b[0;32m/usr/local/lib/python3.7/dist-packages/joblib/parallel.py\u001b[0m in \u001b[0;36m<listcomp>\u001b[0;34m(.0)\u001b[0m\n\u001b[1;32m    261\u001b[0m         \u001b[0;32mwith\u001b[0m \u001b[0mparallel_backend\u001b[0m\u001b[0;34m(\u001b[0m\u001b[0mself\u001b[0m\u001b[0;34m.\u001b[0m\u001b[0m_backend\u001b[0m\u001b[0;34m,\u001b[0m \u001b[0mn_jobs\u001b[0m\u001b[0;34m=\u001b[0m\u001b[0mself\u001b[0m\u001b[0;34m.\u001b[0m\u001b[0m_n_jobs\u001b[0m\u001b[0;34m)\u001b[0m\u001b[0;34m:\u001b[0m\u001b[0;34m\u001b[0m\u001b[0;34m\u001b[0m\u001b[0m\n\u001b[1;32m    262\u001b[0m             return [func(*args, **kwargs)\n\u001b[0;32m--> 263\u001b[0;31m                     for func, args, kwargs in self.items]\n\u001b[0m\u001b[1;32m    264\u001b[0m \u001b[0;34m\u001b[0m\u001b[0m\n\u001b[1;32m    265\u001b[0m     \u001b[0;32mdef\u001b[0m \u001b[0m__reduce__\u001b[0m\u001b[0;34m(\u001b[0m\u001b[0mself\u001b[0m\u001b[0;34m)\u001b[0m\u001b[0;34m:\u001b[0m\u001b[0;34m\u001b[0m\u001b[0;34m\u001b[0m\u001b[0m\n",
      "\u001b[0;32m/usr/local/lib/python3.7/dist-packages/sklearn/utils/fixes.py\u001b[0m in \u001b[0;36m__call__\u001b[0;34m(self, *args, **kwargs)\u001b[0m\n\u001b[1;32m    214\u001b[0m         \u001b[0mHard\u001b[0m \u001b[0mcondstraint\u001b[0m \u001b[0mto\u001b[0m \u001b[0mselect\u001b[0m \u001b[0mthe\u001b[0m \u001b[0mbackend\u001b[0m\u001b[0;34m.\u001b[0m \u001b[0mIf\u001b[0m \u001b[0mset\u001b[0m \u001b[0mto\u001b[0m \u001b[0;34m'sharedmem'\u001b[0m\u001b[0;34m,\u001b[0m\u001b[0;34m\u001b[0m\u001b[0;34m\u001b[0m\u001b[0m\n\u001b[1;32m    215\u001b[0m         \u001b[0mthe\u001b[0m \u001b[0mselected\u001b[0m \u001b[0mbackend\u001b[0m \u001b[0mwill\u001b[0m \u001b[0mbe\u001b[0m \u001b[0msingle\u001b[0m\u001b[0;34m-\u001b[0m\u001b[0mhost\u001b[0m \u001b[0;32mand\u001b[0m \u001b[0mthread\u001b[0m\u001b[0;34m-\u001b[0m\u001b[0mbased\u001b[0m \u001b[0meven\u001b[0m\u001b[0;34m\u001b[0m\u001b[0;34m\u001b[0m\u001b[0m\n\u001b[0;32m--> 216\u001b[0;31m         \u001b[0;32mif\u001b[0m \u001b[0mthe\u001b[0m \u001b[0muser\u001b[0m \u001b[0masked\u001b[0m \u001b[0;32mfor\u001b[0m \u001b[0ma\u001b[0m \u001b[0mnon\u001b[0m\u001b[0;34m-\u001b[0m\u001b[0mthread\u001b[0m \u001b[0mbased\u001b[0m \u001b[0mbackend\u001b[0m \u001b[0;32mwith\u001b[0m\u001b[0;34m\u001b[0m\u001b[0;34m\u001b[0m\u001b[0m\n\u001b[0m\u001b[1;32m    217\u001b[0m         \u001b[0mparallel_backend\u001b[0m\u001b[0;34m.\u001b[0m\u001b[0;34m\u001b[0m\u001b[0;34m\u001b[0m\u001b[0m\n\u001b[1;32m    218\u001b[0m \u001b[0;34m\u001b[0m\u001b[0m\n",
      "\u001b[0;32m/usr/local/lib/python3.7/dist-packages/sklearn/ensemble/_forest.py\u001b[0m in \u001b[0;36m_parallel_build_trees\u001b[0;34m(tree, forest, X, y, sample_weight, tree_idx, n_trees, verbose, class_weight, n_samples_bootstrap)\u001b[0m\n\u001b[1;32m    183\u001b[0m                  \u001b[0mn_estimators\u001b[0m\u001b[0;34m=\u001b[0m\u001b[0;36m100\u001b[0m\u001b[0;34m,\u001b[0m\u001b[0;34m\u001b[0m\u001b[0;34m\u001b[0m\u001b[0m\n\u001b[1;32m    184\u001b[0m                  \u001b[0mestimator_params\u001b[0m\u001b[0;34m=\u001b[0m\u001b[0mtuple\u001b[0m\u001b[0;34m(\u001b[0m\u001b[0;34m)\u001b[0m\u001b[0;34m,\u001b[0m\u001b[0;34m\u001b[0m\u001b[0;34m\u001b[0m\u001b[0m\n\u001b[0;32m--> 185\u001b[0;31m                  \u001b[0mbootstrap\u001b[0m\u001b[0;34m=\u001b[0m\u001b[0;32mFalse\u001b[0m\u001b[0;34m,\u001b[0m\u001b[0;34m\u001b[0m\u001b[0;34m\u001b[0m\u001b[0m\n\u001b[0m\u001b[1;32m    186\u001b[0m                  \u001b[0moob_score\u001b[0m\u001b[0;34m=\u001b[0m\u001b[0;32mFalse\u001b[0m\u001b[0;34m,\u001b[0m\u001b[0;34m\u001b[0m\u001b[0;34m\u001b[0m\u001b[0m\n\u001b[1;32m    187\u001b[0m                  \u001b[0mn_jobs\u001b[0m\u001b[0;34m=\u001b[0m\u001b[0;32mNone\u001b[0m\u001b[0;34m,\u001b[0m\u001b[0;34m\u001b[0m\u001b[0;34m\u001b[0m\u001b[0m\n",
      "\u001b[0;32m/usr/local/lib/python3.7/dist-packages/sklearn/tree/_classes.py\u001b[0m in \u001b[0;36mfit\u001b[0;34m(self, X, y, sample_weight, check_input, X_idx_sorted)\u001b[0m\n\u001b[1;32m   1318\u001b[0m         \u001b[0mNote\u001b[0m\u001b[0;34m:\u001b[0m \u001b[0mthe\u001b[0m \u001b[0msearch\u001b[0m \u001b[0;32mfor\u001b[0m \u001b[0ma\u001b[0m \u001b[0msplit\u001b[0m \u001b[0mdoes\u001b[0m \u001b[0;32mnot\u001b[0m \u001b[0mstop\u001b[0m \u001b[0muntil\u001b[0m \u001b[0mat\u001b[0m \u001b[0mleast\u001b[0m \u001b[0mone\u001b[0m\u001b[0;34m\u001b[0m\u001b[0;34m\u001b[0m\u001b[0m\n\u001b[1;32m   1319\u001b[0m         \u001b[0mvalid\u001b[0m \u001b[0mpartition\u001b[0m \u001b[0mof\u001b[0m \u001b[0mthe\u001b[0m \u001b[0mnode\u001b[0m \u001b[0msamples\u001b[0m \u001b[0;32mis\u001b[0m \u001b[0mfound\u001b[0m\u001b[0;34m,\u001b[0m \u001b[0meven\u001b[0m \u001b[0;32mif\u001b[0m \u001b[0mit\u001b[0m \u001b[0mrequires\u001b[0m \u001b[0mto\u001b[0m\u001b[0;34m\u001b[0m\u001b[0;34m\u001b[0m\u001b[0m\n\u001b[0;32m-> 1320\u001b[0;31m         \u001b[0meffectively\u001b[0m \u001b[0minspect\u001b[0m \u001b[0mmore\u001b[0m \u001b[0mthan\u001b[0m\u001b[0;31m \u001b[0m\u001b[0;31m`\u001b[0m\u001b[0;31m`\u001b[0m\u001b[0mmax_features\u001b[0m\u001b[0;31m`\u001b[0m\u001b[0;31m`\u001b[0m \u001b[0mfeatures\u001b[0m\u001b[0;34m.\u001b[0m\u001b[0;34m\u001b[0m\u001b[0;34m\u001b[0m\u001b[0m\n\u001b[0m\u001b[1;32m   1321\u001b[0m \u001b[0;34m\u001b[0m\u001b[0m\n\u001b[1;32m   1322\u001b[0m     \u001b[0mrandom_state\u001b[0m \u001b[0;34m:\u001b[0m \u001b[0mint\u001b[0m \u001b[0;32mor\u001b[0m \u001b[0mRandomState\u001b[0m\u001b[0;34m,\u001b[0m \u001b[0mdefault\u001b[0m\u001b[0;34m=\u001b[0m\u001b[0;32mNone\u001b[0m\u001b[0;34m\u001b[0m\u001b[0;34m\u001b[0m\u001b[0m\n",
      "\u001b[0;32m/usr/local/lib/python3.7/dist-packages/sklearn/tree/_classes.py\u001b[0m in \u001b[0;36mfit\u001b[0;34m(self, X, y, sample_weight, check_input, X_idx_sorted)\u001b[0m\n\u001b[1;32m    418\u001b[0m         \u001b[0mcheck_is_fitted\u001b[0m\u001b[0;34m(\u001b[0m\u001b[0mself\u001b[0m\u001b[0;34m)\u001b[0m\u001b[0;34m\u001b[0m\u001b[0;34m\u001b[0m\u001b[0m\n\u001b[1;32m    419\u001b[0m         \u001b[0mX\u001b[0m \u001b[0;34m=\u001b[0m \u001b[0mself\u001b[0m\u001b[0;34m.\u001b[0m\u001b[0m_validate_X_predict\u001b[0m\u001b[0;34m(\u001b[0m\u001b[0mX\u001b[0m\u001b[0;34m,\u001b[0m \u001b[0mcheck_input\u001b[0m\u001b[0;34m)\u001b[0m\u001b[0;34m\u001b[0m\u001b[0;34m\u001b[0m\u001b[0m\n\u001b[0;32m--> 420\u001b[0;31m         \u001b[0mproba\u001b[0m \u001b[0;34m=\u001b[0m \u001b[0mself\u001b[0m\u001b[0;34m.\u001b[0m\u001b[0mtree_\u001b[0m\u001b[0;34m.\u001b[0m\u001b[0mpredict\u001b[0m\u001b[0;34m(\u001b[0m\u001b[0mX\u001b[0m\u001b[0;34m)\u001b[0m\u001b[0;34m\u001b[0m\u001b[0;34m\u001b[0m\u001b[0m\n\u001b[0m\u001b[1;32m    421\u001b[0m         \u001b[0mn_samples\u001b[0m \u001b[0;34m=\u001b[0m \u001b[0mX\u001b[0m\u001b[0;34m.\u001b[0m\u001b[0mshape\u001b[0m\u001b[0;34m[\u001b[0m\u001b[0;36m0\u001b[0m\u001b[0;34m]\u001b[0m\u001b[0;34m\u001b[0m\u001b[0;34m\u001b[0m\u001b[0m\n\u001b[1;32m    422\u001b[0m \u001b[0;34m\u001b[0m\u001b[0m\n",
      "\u001b[0;31mKeyboardInterrupt\u001b[0m: "
     ]
    }
   ],
   "source": [
    "model_forest = RandomForestRegressor(random_state=12345)\n",
    "    \n",
    "parametrs = {'n_estimators': range(50, 81, 10),'max_depth': [6,10,14]}\n",
    "search = GridSearchCV(estimator=model_forest, \n",
    "                      param_grid=parametrs,\n",
    "                      cv=5, \n",
    "                      verbose=1, \n",
    "                      scoring='neg_root_mean_squared_error')\n",
    "result = search.fit(features_train_ohe, target_train)\n",
    "\n",
    "print('Best Score для модели случайного леса: %s' % result.best_score_)\n",
    "print('Best Hyperparameters для модели случайного леса: %s' % result.best_params_)"
   ]
  },
  {
   "cell_type": "markdown",
   "metadata": {
    "cellId": "mxj70d60sme8vucruqjjs3",
    "id": "wSSVurC24SbN"
   },
   "source": [
    "#### CatBoost"
   ]
  },
  {
   "cell_type": "markdown",
   "metadata": {
    "cellId": "60c7xhkrrgwpxopz34hfek",
    "id": "ljgmHoH34SbO"
   },
   "source": [
    "В модели CatBoost и LightGBM можно передавать как подготовленные признаки, так и некодированные.\n",
    "Масштабирование никак не скажется на работе этих моделей. А вот кодирование OHE может сказаться. Как правило, модели обрабатывают категориальные признаки умнее, чем просто OHE, поэтому часто качество внутренней обработки моделей лучше, чем OHE. Поэтому, если нужно качество повыше, то лучше отказаться от OHE и поросить модели самих обработать категориальные признаки."
   ]
  },
  {
   "cell_type": "code",
   "execution_count": null,
   "metadata": {
    "cellId": "lgsn2ygqnylploeocanj6p",
    "colab": {
     "base_uri": "https://localhost:8080/"
    },
    "id": "SZFKpG5R4SbO",
    "outputId": "715acb4f-6251-4a07-a622-9f8b4ef26d74"
   },
   "outputs": [
    {
     "data": {
      "text/plain": [
       "vehicletype          object\n",
       "registrationyear    float64\n",
       "gearbox              object\n",
       "power               float64\n",
       "model                object\n",
       "kilometer           float64\n",
       "fueltype             object\n",
       "brand                object\n",
       "notrepaired          object\n",
       "dtype: object"
      ]
     },
     "execution_count": 134,
     "metadata": {},
     "output_type": "execute_result"
    }
   ],
   "source": [
    "features_train.dtypes"
   ]
  },
  {
   "cell_type": "code",
   "execution_count": null,
   "metadata": {
    "cellId": "326b4g5s2axu6wgwe1b4uc",
    "colab": {
     "base_uri": "https://localhost:8080/"
    },
    "id": "rRwpHGF14SbO",
    "outputId": "435be52b-db84-4479-d5f4-49f3d6b64d50"
   },
   "outputs": [
    {
     "data": {
      "text/plain": [
       "vehicletype         category\n",
       "registrationyear     float64\n",
       "gearbox             category\n",
       "power                float64\n",
       "model               category\n",
       "kilometer            float64\n",
       "fueltype            category\n",
       "brand               category\n",
       "notrepaired         category\n",
       "dtype: object"
      ]
     },
     "execution_count": 73,
     "metadata": {},
     "output_type": "execute_result"
    }
   ],
   "source": [
    "feature_train_columns = features_train.columns.to_list()\n",
    "for column in feature_train_columns:\n",
    "    column_type = features_train[column].dtype\n",
    "    if column_type.name == 'object':\n",
    "        features_train[column] = features_train[column].astype('category')\n",
    "features_train.dtypes"
   ]
  },
  {
   "cell_type": "code",
   "execution_count": null,
   "metadata": {
    "colab": {
     "base_uri": "https://localhost:8080/"
    },
    "id": "il2DlIhTPaaN",
    "outputId": "2f260cae-fcad-476f-93ec-900c2eb4384c"
   },
   "outputs": [
    {
     "data": {
      "text/plain": [
       "vehicletype         category\n",
       "registrationyear     float64\n",
       "gearbox             category\n",
       "power                float64\n",
       "model               category\n",
       "kilometer            float64\n",
       "fueltype            category\n",
       "brand               category\n",
       "notrepaired         category\n",
       "dtype: object"
      ]
     },
     "execution_count": 75,
     "metadata": {},
     "output_type": "execute_result"
    }
   ],
   "source": [
    "feature_test_columns = features_test.columns.to_list()\n",
    "for column in feature_test_columns:\n",
    "    column_type = features_test[column].dtype\n",
    "    if column_type.name == 'object':\n",
    "        features_test[column] = features_test[column].astype('category')\n",
    "features_test.dtypes"
   ]
  },
  {
   "cell_type": "markdown",
   "metadata": {
    "id": "Se4VTg-zS929"
   },
   "source": [
    "<div class=\"alert alert-info\"> <b>Примечание:</b> Изначально я выполняла проект в Yandex DataSphere и обучила модель CatBoost там. К сожалению, во время проекта у меня закончились там ресурсы, оэтому я перешла на другую среду выполнения. Код с подбором гиперпараметров для catboost я не стала перезапускать, чтобы сэкономить время. Записала лучшие гиерпараметры ниже (какие нашла модель в DataSphere).</div>"
   ]
  },
  {
   "cell_type": "markdown",
   "metadata": {},
   "source": [
    "<div class=\"alert alert-block alert-success\">\n",
    "<b>Успех:</b> Принял"
   ]
  },
  {
   "cell_type": "code",
   "execution_count": null,
   "metadata": {
    "cellId": "35zvduhm5hevetnyl6x6q",
    "id": "_zYWVqzt4SbO"
   },
   "outputs": [],
   "source": [
    "cat_features = ['vehicletype', 'gearbox', 'model', 'fueltype', 'brand', 'notrepaired']\n",
    "\n",
    "model_cat = CatBoostRegressor(cat_features=cat_features, loss_function='RMSE')\n",
    "parameters = {'learning_rate': [0.1, 0.5],\n",
    "              'iterations': [1000],\n",
    "              'depth': [5,7,9]}\n",
    "\n",
    "search = GridSearchCV(estimator=model_cat, \n",
    "                      param_grid=parameters,\n",
    "                      cv=5, \n",
    "                      scoring='neg_root_mean_squared_error',\n",
    "                      n_jobs=1,\n",
    "                      verbose=False)\n",
    "result = search.fit(features_train, target_train)\n",
    "\n",
    "print('Best Score для модели catboost: %s' % result.best_score_)\n",
    "print('Best Hyperparameters catboost: %s' % result.best_params_)"
   ]
  },
  {
   "cell_type": "markdown",
   "metadata": {
    "id": "M_pm8G7fSN_v"
   },
   "source": [
    "Best Score для модели catboost: -1928.4095017775453\n",
    "Best Hyperparameters catboost: {'depth': 9, 'iterations': 1000, 'learning_rate': 0.1}![catboost 11.PNG](data:image/png;base64,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)"
   ]
  },
  {
   "cell_type": "markdown",
   "metadata": {
    "cellId": "15qmade1j5d8mkc81pi14",
    "id": "axKJgiXA4SbO"
   },
   "source": [
    "#### Light GBM"
   ]
  },
  {
   "cell_type": "code",
   "execution_count": null,
   "metadata": {
    "colab": {
     "base_uri": "https://localhost:8080/",
     "height": 488
    },
    "id": "jxK_o-Oy6VLm",
    "outputId": "0df2669c-aecc-451e-92a7-060a4af0f088"
   },
   "outputs": [
    {
     "data": {
      "text/html": [
       "\n",
       "  <div id=\"df-d460558a-2de4-411a-994b-4c32866681b4\">\n",
       "    <div class=\"colab-df-container\">\n",
       "      <div>\n",
       "<style scoped>\n",
       "    .dataframe tbody tr th:only-of-type {\n",
       "        vertical-align: middle;\n",
       "    }\n",
       "\n",
       "    .dataframe tbody tr th {\n",
       "        vertical-align: top;\n",
       "    }\n",
       "\n",
       "    .dataframe thead th {\n",
       "        text-align: right;\n",
       "    }\n",
       "</style>\n",
       "<table border=\"1\" class=\"dataframe\">\n",
       "  <thead>\n",
       "    <tr style=\"text-align: right;\">\n",
       "      <th></th>\n",
       "      <th>registrationyear</th>\n",
       "      <th>power</th>\n",
       "      <th>kilometer</th>\n",
       "      <th>vehicletype_bus</th>\n",
       "      <th>vehicletype_convertible</th>\n",
       "      <th>vehicletype_coupe</th>\n",
       "      <th>vehicletype_other</th>\n",
       "      <th>vehicletype_sedan</th>\n",
       "      <th>vehicletype_small</th>\n",
       "      <th>vehicletype_suv</th>\n",
       "      <th>...</th>\n",
       "      <th>brand_sonstige_autos</th>\n",
       "      <th>brand_subaru</th>\n",
       "      <th>brand_suzuki</th>\n",
       "      <th>brand_toyota</th>\n",
       "      <th>brand_trabant</th>\n",
       "      <th>brand_volkswagen</th>\n",
       "      <th>brand_volvo</th>\n",
       "      <th>notrepaired_no</th>\n",
       "      <th>notrepaired_unknown</th>\n",
       "      <th>notrepaired_yes</th>\n",
       "    </tr>\n",
       "  </thead>\n",
       "  <tbody>\n",
       "    <tr>\n",
       "      <th>0</th>\n",
       "      <td>1.382311</td>\n",
       "      <td>0.499965</td>\n",
       "      <td>0.585179</td>\n",
       "      <td>1.0</td>\n",
       "      <td>0.0</td>\n",
       "      <td>0.0</td>\n",
       "      <td>0.0</td>\n",
       "      <td>0.0</td>\n",
       "      <td>0.0</td>\n",
       "      <td>0.0</td>\n",
       "      <td>...</td>\n",
       "      <td>0.0</td>\n",
       "      <td>0.0</td>\n",
       "      <td>0.0</td>\n",
       "      <td>0.0</td>\n",
       "      <td>0.0</td>\n",
       "      <td>1.0</td>\n",
       "      <td>0.0</td>\n",
       "      <td>1.0</td>\n",
       "      <td>0.0</td>\n",
       "      <td>0.0</td>\n",
       "    </tr>\n",
       "    <tr>\n",
       "      <th>1</th>\n",
       "      <td>0.220200</td>\n",
       "      <td>-0.773003</td>\n",
       "      <td>-0.079811</td>\n",
       "      <td>0.0</td>\n",
       "      <td>0.0</td>\n",
       "      <td>0.0</td>\n",
       "      <td>0.0</td>\n",
       "      <td>0.0</td>\n",
       "      <td>1.0</td>\n",
       "      <td>0.0</td>\n",
       "      <td>...</td>\n",
       "      <td>0.0</td>\n",
       "      <td>0.0</td>\n",
       "      <td>0.0</td>\n",
       "      <td>0.0</td>\n",
       "      <td>0.0</td>\n",
       "      <td>1.0</td>\n",
       "      <td>0.0</td>\n",
       "      <td>0.0</td>\n",
       "      <td>1.0</td>\n",
       "      <td>0.0</td>\n",
       "    </tr>\n",
       "    <tr>\n",
       "      <th>2</th>\n",
       "      <td>-0.360855</td>\n",
       "      <td>-0.120607</td>\n",
       "      <td>0.585179</td>\n",
       "      <td>0.0</td>\n",
       "      <td>0.0</td>\n",
       "      <td>0.0</td>\n",
       "      <td>0.0</td>\n",
       "      <td>1.0</td>\n",
       "      <td>0.0</td>\n",
       "      <td>0.0</td>\n",
       "      <td>...</td>\n",
       "      <td>0.0</td>\n",
       "      <td>0.0</td>\n",
       "      <td>0.0</td>\n",
       "      <td>0.0</td>\n",
       "      <td>0.0</td>\n",
       "      <td>1.0</td>\n",
       "      <td>0.0</td>\n",
       "      <td>0.0</td>\n",
       "      <td>1.0</td>\n",
       "      <td>0.0</td>\n",
       "    </tr>\n",
       "    <tr>\n",
       "      <th>3</th>\n",
       "      <td>0.365464</td>\n",
       "      <td>-1.727728</td>\n",
       "      <td>0.585179</td>\n",
       "      <td>0.0</td>\n",
       "      <td>0.0</td>\n",
       "      <td>0.0</td>\n",
       "      <td>0.0</td>\n",
       "      <td>0.0</td>\n",
       "      <td>0.0</td>\n",
       "      <td>1.0</td>\n",
       "      <td>...</td>\n",
       "      <td>0.0</td>\n",
       "      <td>0.0</td>\n",
       "      <td>0.0</td>\n",
       "      <td>0.0</td>\n",
       "      <td>0.0</td>\n",
       "      <td>0.0</td>\n",
       "      <td>0.0</td>\n",
       "      <td>0.0</td>\n",
       "      <td>1.0</td>\n",
       "      <td>0.0</td>\n",
       "    </tr>\n",
       "    <tr>\n",
       "      <th>4</th>\n",
       "      <td>-0.360855</td>\n",
       "      <td>0.865943</td>\n",
       "      <td>0.585179</td>\n",
       "      <td>0.0</td>\n",
       "      <td>1.0</td>\n",
       "      <td>0.0</td>\n",
       "      <td>0.0</td>\n",
       "      <td>0.0</td>\n",
       "      <td>0.0</td>\n",
       "      <td>0.0</td>\n",
       "      <td>...</td>\n",
       "      <td>0.0</td>\n",
       "      <td>0.0</td>\n",
       "      <td>0.0</td>\n",
       "      <td>0.0</td>\n",
       "      <td>0.0</td>\n",
       "      <td>0.0</td>\n",
       "      <td>0.0</td>\n",
       "      <td>1.0</td>\n",
       "      <td>0.0</td>\n",
       "      <td>0.0</td>\n",
       "    </tr>\n",
       "    <tr>\n",
       "      <th>...</th>\n",
       "      <td>...</td>\n",
       "      <td>...</td>\n",
       "      <td>...</td>\n",
       "      <td>...</td>\n",
       "      <td>...</td>\n",
       "      <td>...</td>\n",
       "      <td>...</td>\n",
       "      <td>...</td>\n",
       "      <td>...</td>\n",
       "      <td>...</td>\n",
       "      <td>...</td>\n",
       "      <td>...</td>\n",
       "      <td>...</td>\n",
       "      <td>...</td>\n",
       "      <td>...</td>\n",
       "      <td>...</td>\n",
       "      <td>...</td>\n",
       "      <td>...</td>\n",
       "      <td>...</td>\n",
       "      <td>...</td>\n",
       "      <td>...</td>\n",
       "    </tr>\n",
       "    <tr>\n",
       "      <th>87078</th>\n",
       "      <td>0.074936</td>\n",
       "      <td>2.011614</td>\n",
       "      <td>0.585179</td>\n",
       "      <td>0.0</td>\n",
       "      <td>0.0</td>\n",
       "      <td>0.0</td>\n",
       "      <td>0.0</td>\n",
       "      <td>0.0</td>\n",
       "      <td>0.0</td>\n",
       "      <td>1.0</td>\n",
       "      <td>...</td>\n",
       "      <td>0.0</td>\n",
       "      <td>0.0</td>\n",
       "      <td>0.0</td>\n",
       "      <td>0.0</td>\n",
       "      <td>0.0</td>\n",
       "      <td>0.0</td>\n",
       "      <td>0.0</td>\n",
       "      <td>1.0</td>\n",
       "      <td>0.0</td>\n",
       "      <td>0.0</td>\n",
       "    </tr>\n",
       "    <tr>\n",
       "      <th>87079</th>\n",
       "      <td>0.510728</td>\n",
       "      <td>-0.120607</td>\n",
       "      <td>-1.808788</td>\n",
       "      <td>1.0</td>\n",
       "      <td>0.0</td>\n",
       "      <td>0.0</td>\n",
       "      <td>0.0</td>\n",
       "      <td>0.0</td>\n",
       "      <td>0.0</td>\n",
       "      <td>0.0</td>\n",
       "      <td>...</td>\n",
       "      <td>0.0</td>\n",
       "      <td>0.0</td>\n",
       "      <td>0.0</td>\n",
       "      <td>0.0</td>\n",
       "      <td>0.0</td>\n",
       "      <td>0.0</td>\n",
       "      <td>0.0</td>\n",
       "      <td>1.0</td>\n",
       "      <td>0.0</td>\n",
       "      <td>0.0</td>\n",
       "    </tr>\n",
       "    <tr>\n",
       "      <th>87080</th>\n",
       "      <td>0.220200</td>\n",
       "      <td>-0.773003</td>\n",
       "      <td>-0.079811</td>\n",
       "      <td>0.0</td>\n",
       "      <td>0.0</td>\n",
       "      <td>0.0</td>\n",
       "      <td>0.0</td>\n",
       "      <td>0.0</td>\n",
       "      <td>1.0</td>\n",
       "      <td>0.0</td>\n",
       "      <td>...</td>\n",
       "      <td>0.0</td>\n",
       "      <td>0.0</td>\n",
       "      <td>0.0</td>\n",
       "      <td>0.0</td>\n",
       "      <td>0.0</td>\n",
       "      <td>0.0</td>\n",
       "      <td>0.0</td>\n",
       "      <td>0.0</td>\n",
       "      <td>0.0</td>\n",
       "      <td>1.0</td>\n",
       "    </tr>\n",
       "    <tr>\n",
       "      <th>87081</th>\n",
       "      <td>0.655992</td>\n",
       "      <td>0.993240</td>\n",
       "      <td>0.585179</td>\n",
       "      <td>0.0</td>\n",
       "      <td>0.0</td>\n",
       "      <td>0.0</td>\n",
       "      <td>0.0</td>\n",
       "      <td>0.0</td>\n",
       "      <td>0.0</td>\n",
       "      <td>1.0</td>\n",
       "      <td>...</td>\n",
       "      <td>0.0</td>\n",
       "      <td>0.0</td>\n",
       "      <td>0.0</td>\n",
       "      <td>0.0</td>\n",
       "      <td>0.0</td>\n",
       "      <td>0.0</td>\n",
       "      <td>0.0</td>\n",
       "      <td>1.0</td>\n",
       "      <td>0.0</td>\n",
       "      <td>0.0</td>\n",
       "    </tr>\n",
       "    <tr>\n",
       "      <th>87082</th>\n",
       "      <td>0.365464</td>\n",
       "      <td>-1.727728</td>\n",
       "      <td>-0.079811</td>\n",
       "      <td>0.0</td>\n",
       "      <td>0.0</td>\n",
       "      <td>0.0</td>\n",
       "      <td>0.0</td>\n",
       "      <td>1.0</td>\n",
       "      <td>0.0</td>\n",
       "      <td>0.0</td>\n",
       "      <td>...</td>\n",
       "      <td>0.0</td>\n",
       "      <td>0.0</td>\n",
       "      <td>0.0</td>\n",
       "      <td>0.0</td>\n",
       "      <td>0.0</td>\n",
       "      <td>0.0</td>\n",
       "      <td>0.0</td>\n",
       "      <td>0.0</td>\n",
       "      <td>1.0</td>\n",
       "      <td>0.0</td>\n",
       "    </tr>\n",
       "  </tbody>\n",
       "</table>\n",
       "<p>87083 rows × 312 columns</p>\n",
       "</div>\n",
       "      <button class=\"colab-df-convert\" onclick=\"convertToInteractive('df-d460558a-2de4-411a-994b-4c32866681b4')\"\n",
       "              title=\"Convert this dataframe to an interactive table.\"\n",
       "              style=\"display:none;\">\n",
       "        \n",
       "  <svg xmlns=\"http://www.w3.org/2000/svg\" height=\"24px\"viewBox=\"0 0 24 24\"\n",
       "       width=\"24px\">\n",
       "    <path d=\"M0 0h24v24H0V0z\" fill=\"none\"/>\n",
       "    <path d=\"M18.56 5.44l.94 2.06.94-2.06 2.06-.94-2.06-.94-.94-2.06-.94 2.06-2.06.94zm-11 1L8.5 8.5l.94-2.06 2.06-.94-2.06-.94L8.5 2.5l-.94 2.06-2.06.94zm10 10l.94 2.06.94-2.06 2.06-.94-2.06-.94-.94-2.06-.94 2.06-2.06.94z\"/><path d=\"M17.41 7.96l-1.37-1.37c-.4-.4-.92-.59-1.43-.59-.52 0-1.04.2-1.43.59L10.3 9.45l-7.72 7.72c-.78.78-.78 2.05 0 2.83L4 21.41c.39.39.9.59 1.41.59.51 0 1.02-.2 1.41-.59l7.78-7.78 2.81-2.81c.8-.78.8-2.07 0-2.86zM5.41 20L4 18.59l7.72-7.72 1.47 1.35L5.41 20z\"/>\n",
       "  </svg>\n",
       "      </button>\n",
       "      \n",
       "  <style>\n",
       "    .colab-df-container {\n",
       "      display:flex;\n",
       "      flex-wrap:wrap;\n",
       "      gap: 12px;\n",
       "    }\n",
       "\n",
       "    .colab-df-convert {\n",
       "      background-color: #E8F0FE;\n",
       "      border: none;\n",
       "      border-radius: 50%;\n",
       "      cursor: pointer;\n",
       "      display: none;\n",
       "      fill: #1967D2;\n",
       "      height: 32px;\n",
       "      padding: 0 0 0 0;\n",
       "      width: 32px;\n",
       "    }\n",
       "\n",
       "    .colab-df-convert:hover {\n",
       "      background-color: #E2EBFA;\n",
       "      box-shadow: 0px 1px 2px rgba(60, 64, 67, 0.3), 0px 1px 3px 1px rgba(60, 64, 67, 0.15);\n",
       "      fill: #174EA6;\n",
       "    }\n",
       "\n",
       "    [theme=dark] .colab-df-convert {\n",
       "      background-color: #3B4455;\n",
       "      fill: #D2E3FC;\n",
       "    }\n",
       "\n",
       "    [theme=dark] .colab-df-convert:hover {\n",
       "      background-color: #434B5C;\n",
       "      box-shadow: 0px 1px 3px 1px rgba(0, 0, 0, 0.15);\n",
       "      filter: drop-shadow(0px 1px 2px rgba(0, 0, 0, 0.3));\n",
       "      fill: #FFFFFF;\n",
       "    }\n",
       "  </style>\n",
       "\n",
       "      <script>\n",
       "        const buttonEl =\n",
       "          document.querySelector('#df-d460558a-2de4-411a-994b-4c32866681b4 button.colab-df-convert');\n",
       "        buttonEl.style.display =\n",
       "          google.colab.kernel.accessAllowed ? 'block' : 'none';\n",
       "\n",
       "        async function convertToInteractive(key) {\n",
       "          const element = document.querySelector('#df-d460558a-2de4-411a-994b-4c32866681b4');\n",
       "          const dataTable =\n",
       "            await google.colab.kernel.invokeFunction('convertToInteractive',\n",
       "                                                     [key], {});\n",
       "          if (!dataTable) return;\n",
       "\n",
       "          const docLinkHtml = 'Like what you see? Visit the ' +\n",
       "            '<a target=\"_blank\" href=https://colab.research.google.com/notebooks/data_table.ipynb>data table notebook</a>'\n",
       "            + ' to learn more about interactive tables.';\n",
       "          element.innerHTML = '';\n",
       "          dataTable['output_type'] = 'display_data';\n",
       "          await google.colab.output.renderOutput(dataTable, element);\n",
       "          const docLink = document.createElement('div');\n",
       "          docLink.innerHTML = docLinkHtml;\n",
       "          element.appendChild(docLink);\n",
       "        }\n",
       "      </script>\n",
       "    </div>\n",
       "  </div>\n",
       "  "
      ],
      "text/plain": [
       "       registrationyear     power  kilometer  vehicletype_bus  \\\n",
       "0              1.382311  0.499965   0.585179              1.0   \n",
       "1              0.220200 -0.773003  -0.079811              0.0   \n",
       "2             -0.360855 -0.120607   0.585179              0.0   \n",
       "3              0.365464 -1.727728   0.585179              0.0   \n",
       "4             -0.360855  0.865943   0.585179              0.0   \n",
       "...                 ...       ...        ...              ...   \n",
       "87078          0.074936  2.011614   0.585179              0.0   \n",
       "87079          0.510728 -0.120607  -1.808788              1.0   \n",
       "87080          0.220200 -0.773003  -0.079811              0.0   \n",
       "87081          0.655992  0.993240   0.585179              0.0   \n",
       "87082          0.365464 -1.727728  -0.079811              0.0   \n",
       "\n",
       "       vehicletype_convertible  vehicletype_coupe  vehicletype_other  \\\n",
       "0                          0.0                0.0                0.0   \n",
       "1                          0.0                0.0                0.0   \n",
       "2                          0.0                0.0                0.0   \n",
       "3                          0.0                0.0                0.0   \n",
       "4                          1.0                0.0                0.0   \n",
       "...                        ...                ...                ...   \n",
       "87078                      0.0                0.0                0.0   \n",
       "87079                      0.0                0.0                0.0   \n",
       "87080                      0.0                0.0                0.0   \n",
       "87081                      0.0                0.0                0.0   \n",
       "87082                      0.0                0.0                0.0   \n",
       "\n",
       "       vehicletype_sedan  vehicletype_small  vehicletype_suv  ...  \\\n",
       "0                    0.0                0.0              0.0  ...   \n",
       "1                    0.0                1.0              0.0  ...   \n",
       "2                    1.0                0.0              0.0  ...   \n",
       "3                    0.0                0.0              1.0  ...   \n",
       "4                    0.0                0.0              0.0  ...   \n",
       "...                  ...                ...              ...  ...   \n",
       "87078                0.0                0.0              1.0  ...   \n",
       "87079                0.0                0.0              0.0  ...   \n",
       "87080                0.0                1.0              0.0  ...   \n",
       "87081                0.0                0.0              1.0  ...   \n",
       "87082                1.0                0.0              0.0  ...   \n",
       "\n",
       "       brand_sonstige_autos  brand_subaru  brand_suzuki  brand_toyota  \\\n",
       "0                       0.0           0.0           0.0           0.0   \n",
       "1                       0.0           0.0           0.0           0.0   \n",
       "2                       0.0           0.0           0.0           0.0   \n",
       "3                       0.0           0.0           0.0           0.0   \n",
       "4                       0.0           0.0           0.0           0.0   \n",
       "...                     ...           ...           ...           ...   \n",
       "87078                   0.0           0.0           0.0           0.0   \n",
       "87079                   0.0           0.0           0.0           0.0   \n",
       "87080                   0.0           0.0           0.0           0.0   \n",
       "87081                   0.0           0.0           0.0           0.0   \n",
       "87082                   0.0           0.0           0.0           0.0   \n",
       "\n",
       "       brand_trabant  brand_volkswagen  brand_volvo  notrepaired_no  \\\n",
       "0                0.0               1.0          0.0             1.0   \n",
       "1                0.0               1.0          0.0             0.0   \n",
       "2                0.0               1.0          0.0             0.0   \n",
       "3                0.0               0.0          0.0             0.0   \n",
       "4                0.0               0.0          0.0             1.0   \n",
       "...              ...               ...          ...             ...   \n",
       "87078            0.0               0.0          0.0             1.0   \n",
       "87079            0.0               0.0          0.0             1.0   \n",
       "87080            0.0               0.0          0.0             0.0   \n",
       "87081            0.0               0.0          0.0             1.0   \n",
       "87082            0.0               0.0          0.0             0.0   \n",
       "\n",
       "       notrepaired_unknown  notrepaired_yes  \n",
       "0                      0.0              0.0  \n",
       "1                      1.0              0.0  \n",
       "2                      1.0              0.0  \n",
       "3                      1.0              0.0  \n",
       "4                      0.0              0.0  \n",
       "...                    ...              ...  \n",
       "87078                  0.0              0.0  \n",
       "87079                  0.0              0.0  \n",
       "87080                  0.0              1.0  \n",
       "87081                  0.0              0.0  \n",
       "87082                  1.0              0.0  \n",
       "\n",
       "[87083 rows x 312 columns]"
      ]
     },
     "execution_count": 67,
     "metadata": {},
     "output_type": "execute_result"
    }
   ],
   "source": [
    "features_train_ohe"
   ]
  },
  {
   "cell_type": "code",
   "execution_count": null,
   "metadata": {
    "cellId": "e6jgsywj1tr24ft25hka",
    "colab": {
     "base_uri": "https://localhost:8080/"
    },
    "id": "BOmun6oh4SbO",
    "outputId": "a0e33a11-ae81-4829-e31d-d81bb2d8483a"
   },
   "outputs": [
    {
     "name": "stdout",
     "output_type": "stream",
     "text": [
      "Best Score для модели Light GBM: -1615.2076905628828\n",
      "Best Hyperparameters Light GBM: {'learning_rate': 0.05, 'n_estimators': 1000, 'num_leaves': 80}\n"
     ]
    }
   ],
   "source": [
    "model_gbm = LGBMRegressor(random_state=12345)\n",
    "  \n",
    "parameters = {'n_estimators': [500, 1000],\n",
    "              'num_leaves': [50,80], \n",
    "              'learning_rate':[0.05, 0.1, 0.5]}\n",
    "\n",
    "search = GridSearchCV(estimator=model_gbm, \n",
    "                      param_grid=parameters,\n",
    "                      cv=5, \n",
    "                      verbose=False, \n",
    "                      scoring='neg_root_mean_squared_error',\n",
    "                      n_jobs=1)\n",
    "\n",
    "result = search.fit(features_train, target_train)\n",
    "\n",
    "print('Best Score для модели Light GBM: %s' % result.best_score_)\n",
    "print('Best Hyperparameters Light GBM: %s' % result.best_params_)"
   ]
  },
  {
   "cell_type": "markdown",
   "metadata": {
    "cellId": "0wdz96hhaky9m6qcljhltmh",
    "id": "Kka0lPfn4SbP"
   },
   "source": [
    "## Анализ моделей"
   ]
  },
  {
   "cell_type": "code",
   "execution_count": null,
   "metadata": {
    "id": "bSIGfrUU8A1q"
   },
   "outputs": [],
   "source": [
    "def time_rmse (model, features_train, target_train, features_test, target_test):\n",
    "    start = time.time()\n",
    "    model.fit(features_train, target_train)\n",
    "    end = time.time()\n",
    "    time_to_fit = end - start\n",
    "    \n",
    "    start = time.time()\n",
    "    predictions = model.predict(features_test)\n",
    "    end = time.time()\n",
    "    time_to_predict = end - start\n",
    "    \n",
    "    rmse = mean_squared_error(target_test, predictions)**0.5\n",
    "    \n",
    "    return print(f'Метрика качества (RMSE) модели: {rmse}; Время обучения модели: {time_to_fit}; Скорость предсказания: {time_to_predict}')"
   ]
  },
  {
   "cell_type": "markdown",
   "metadata": {},
   "source": [
    "<div class=\"alert alert-block alert-success\">\n",
    "<b>Успех:</b> Хороший помощник"
   ]
  },
  {
   "cell_type": "code",
   "execution_count": null,
   "metadata": {
    "colab": {
     "base_uri": "https://localhost:8080/"
    },
    "id": "HUYhdCIS8CsD",
    "outputId": "7b6f99e7-4fab-47cb-de1c-0bf5df40ce59"
   },
   "outputs": [
    {
     "name": "stdout",
     "output_type": "stream",
     "text": [
      "Метрика качсетва (RMSE) модели: 2751.9390673230096; Время обучения модели: 0.5886337757110596; Скорость предсказания: 0.03918766975402832\n"
     ]
    }
   ],
   "source": [
    "model = Ridge(fit_intercept=True, normalize=False)\n",
    "time_rmse(model, features_train_ohe, target_train, features_test_ohe, target_test)"
   ]
  },
  {
   "cell_type": "code",
   "execution_count": null,
   "metadata": {
    "id": "gFZneQgW8EE-"
   },
   "outputs": [],
   "source": [
    "model = RandomForestRegressor()\n",
    "time_rmse(model, features_train_ohe, target_train, features_test_ohe, target_test)"
   ]
  },
  {
   "cell_type": "code",
   "execution_count": null,
   "metadata": {
    "colab": {
     "base_uri": "https://localhost:8080/"
    },
    "id": "uXkgr7Z78FbR",
    "outputId": "42a1c000-f34c-4ec0-9c73-a55051a05e63"
   },
   "outputs": [
    {
     "name": "stdout",
     "output_type": "stream",
     "text": [
      "Метрика качсетва (RMSE) модели: 1665.3076264902961; Время обучения модели: 162.74226450920105; Скорость предсказания: 0.5012426376342773\n"
     ]
    }
   ],
   "source": [
    "cat_features = ['vehicletype', 'gearbox', 'model', 'fueltype', 'brand', 'notrepaired']\n",
    "model = CatBoostRegressor(cat_features = cat_features, \n",
    "                          loss_function=\"RMSE\",\n",
    "                          depth=9, \n",
    "                          iterations=1000, \n",
    "                          learning_rate=0.1,\n",
    "                          verbose=False)\n",
    "time_rmse(model, features_train, target_train, features_test, target_test)"
   ]
  },
  {
   "cell_type": "code",
   "execution_count": null,
   "metadata": {
    "colab": {
     "base_uri": "https://localhost:8080/"
    },
    "id": "KMwytmXj8G5Z",
    "outputId": "32697f99-d9e7-4bc9-b232-de402f45576f"
   },
   "outputs": [
    {
     "name": "stdout",
     "output_type": "stream",
     "text": [
      "Метрика качества (RMSE) модели: 1550.0982727553048; Время обучения модели: 13.507150411605835; Скорость предсказания: 6.657202482223511\n"
     ]
    }
   ],
   "source": [
    "model = LGBMRegressor(learning_rate=0.05, n_estimators=1000, num_leaves=80)\n",
    "time_rmse(model, features_train, target_train, features_test, target_test)"
   ]
  },
  {
   "cell_type": "code",
   "execution_count": null,
   "metadata": {
    "colab": {
     "base_uri": "https://localhost:8080/",
     "height": 143
    },
    "id": "R2qD0Nqh8Ixf",
    "outputId": "82b1d52c-24d6-4217-e47c-6150379d093d"
   },
   "outputs": [
    {
     "data": {
      "text/html": [
       "\n",
       "  <div id=\"df-f1756665-615e-4ed6-8f61-bd9845dd7a18\">\n",
       "    <div class=\"colab-df-container\">\n",
       "      <div>\n",
       "<style scoped>\n",
       "    .dataframe tbody tr th:only-of-type {\n",
       "        vertical-align: middle;\n",
       "    }\n",
       "\n",
       "    .dataframe tbody tr th {\n",
       "        vertical-align: top;\n",
       "    }\n",
       "\n",
       "    .dataframe thead th {\n",
       "        text-align: right;\n",
       "    }\n",
       "</style>\n",
       "<table border=\"1\" class=\"dataframe\">\n",
       "  <thead>\n",
       "    <tr style=\"text-align: right;\">\n",
       "      <th></th>\n",
       "      <th>model</th>\n",
       "      <th>RMSE</th>\n",
       "      <th>fittime</th>\n",
       "      <th>predicttime</th>\n",
       "    </tr>\n",
       "  </thead>\n",
       "  <tbody>\n",
       "    <tr>\n",
       "      <th>0</th>\n",
       "      <td>Ridge</td>\n",
       "      <td>2752</td>\n",
       "      <td>0.59</td>\n",
       "      <td>0.03</td>\n",
       "    </tr>\n",
       "    <tr>\n",
       "      <th>1</th>\n",
       "      <td>CatBoostRegressor</td>\n",
       "      <td>1665</td>\n",
       "      <td>162.74</td>\n",
       "      <td>0.50</td>\n",
       "    </tr>\n",
       "    <tr>\n",
       "      <th>2</th>\n",
       "      <td>LGBMRegressor</td>\n",
       "      <td>1550</td>\n",
       "      <td>13.51</td>\n",
       "      <td>6.65</td>\n",
       "    </tr>\n",
       "  </tbody>\n",
       "</table>\n",
       "</div>\n",
       "      <button class=\"colab-df-convert\" onclick=\"convertToInteractive('df-f1756665-615e-4ed6-8f61-bd9845dd7a18')\"\n",
       "              title=\"Convert this dataframe to an interactive table.\"\n",
       "              style=\"display:none;\">\n",
       "        \n",
       "  <svg xmlns=\"http://www.w3.org/2000/svg\" height=\"24px\"viewBox=\"0 0 24 24\"\n",
       "       width=\"24px\">\n",
       "    <path d=\"M0 0h24v24H0V0z\" fill=\"none\"/>\n",
       "    <path d=\"M18.56 5.44l.94 2.06.94-2.06 2.06-.94-2.06-.94-.94-2.06-.94 2.06-2.06.94zm-11 1L8.5 8.5l.94-2.06 2.06-.94-2.06-.94L8.5 2.5l-.94 2.06-2.06.94zm10 10l.94 2.06.94-2.06 2.06-.94-2.06-.94-.94-2.06-.94 2.06-2.06.94z\"/><path d=\"M17.41 7.96l-1.37-1.37c-.4-.4-.92-.59-1.43-.59-.52 0-1.04.2-1.43.59L10.3 9.45l-7.72 7.72c-.78.78-.78 2.05 0 2.83L4 21.41c.39.39.9.59 1.41.59.51 0 1.02-.2 1.41-.59l7.78-7.78 2.81-2.81c.8-.78.8-2.07 0-2.86zM5.41 20L4 18.59l7.72-7.72 1.47 1.35L5.41 20z\"/>\n",
       "  </svg>\n",
       "      </button>\n",
       "      \n",
       "  <style>\n",
       "    .colab-df-container {\n",
       "      display:flex;\n",
       "      flex-wrap:wrap;\n",
       "      gap: 12px;\n",
       "    }\n",
       "\n",
       "    .colab-df-convert {\n",
       "      background-color: #E8F0FE;\n",
       "      border: none;\n",
       "      border-radius: 50%;\n",
       "      cursor: pointer;\n",
       "      display: none;\n",
       "      fill: #1967D2;\n",
       "      height: 32px;\n",
       "      padding: 0 0 0 0;\n",
       "      width: 32px;\n",
       "    }\n",
       "\n",
       "    .colab-df-convert:hover {\n",
       "      background-color: #E2EBFA;\n",
       "      box-shadow: 0px 1px 2px rgba(60, 64, 67, 0.3), 0px 1px 3px 1px rgba(60, 64, 67, 0.15);\n",
       "      fill: #174EA6;\n",
       "    }\n",
       "\n",
       "    [theme=dark] .colab-df-convert {\n",
       "      background-color: #3B4455;\n",
       "      fill: #D2E3FC;\n",
       "    }\n",
       "\n",
       "    [theme=dark] .colab-df-convert:hover {\n",
       "      background-color: #434B5C;\n",
       "      box-shadow: 0px 1px 3px 1px rgba(0, 0, 0, 0.15);\n",
       "      filter: drop-shadow(0px 1px 2px rgba(0, 0, 0, 0.3));\n",
       "      fill: #FFFFFF;\n",
       "    }\n",
       "  </style>\n",
       "\n",
       "      <script>\n",
       "        const buttonEl =\n",
       "          document.querySelector('#df-f1756665-615e-4ed6-8f61-bd9845dd7a18 button.colab-df-convert');\n",
       "        buttonEl.style.display =\n",
       "          google.colab.kernel.accessAllowed ? 'block' : 'none';\n",
       "\n",
       "        async function convertToInteractive(key) {\n",
       "          const element = document.querySelector('#df-f1756665-615e-4ed6-8f61-bd9845dd7a18');\n",
       "          const dataTable =\n",
       "            await google.colab.kernel.invokeFunction('convertToInteractive',\n",
       "                                                     [key], {});\n",
       "          if (!dataTable) return;\n",
       "\n",
       "          const docLinkHtml = 'Like what you see? Visit the ' +\n",
       "            '<a target=\"_blank\" href=https://colab.research.google.com/notebooks/data_table.ipynb>data table notebook</a>'\n",
       "            + ' to learn more about interactive tables.';\n",
       "          element.innerHTML = '';\n",
       "          dataTable['output_type'] = 'display_data';\n",
       "          await google.colab.output.renderOutput(dataTable, element);\n",
       "          const docLink = document.createElement('div');\n",
       "          docLink.innerHTML = docLinkHtml;\n",
       "          element.appendChild(docLink);\n",
       "        }\n",
       "      </script>\n",
       "    </div>\n",
       "  </div>\n",
       "  "
      ],
      "text/plain": [
       "               model  RMSE  fittime  predicttime\n",
       "0              Ridge  2752     0.59         0.03\n",
       "1  CatBoostRegressor  1665   162.74         0.50\n",
       "2      LGBMRegressor  1550    13.51         6.65"
      ]
     },
     "execution_count": 81,
     "metadata": {},
     "output_type": "execute_result"
    }
   ],
   "source": [
    "result = pd.DataFrame({'model':['Ridge','CatBoostRegressor','LGBMRegressor'],\n",
    "             'RMSE':[2752,1665,1550],\n",
    "             'fittime':[0.59,162.74,13.51],\n",
    "             'predicttime':[0.03,0.50,6.65]})\n",
    "result"
   ]
  },
  {
   "cell_type": "markdown",
   "metadata": {
    "id": "83NFgFye8NVe"
   },
   "source": [
    "##Вывод"
   ]
  },
  {
   "cell_type": "markdown",
   "metadata": {
    "id": "rV7Wb1IuQxrc"
   },
   "source": [
    "Модель линейной регрессии показала ненормальное значение метрики качества RMSE, так как при кодировании переменных методом OHE, модель видит мультиколлинеарность среди признаков и считает значение некорректно. Для этого есть модель Ridge, которая не зависит от мультиколлинеарности в кодированных переменных.\n",
    "\n",
    "Лучшее значение метрики качества RMSE показала модель Light GBM. Значение модели CatBoost немного хуже, но все же гораздо лучше чем значения моделей линейной регрессии. Можно утверждать, что бустинговые модели дют лучший результат. \n",
    "\n",
    "Однако, самая высокая скорость обучения и предсказания у модели линейной регрессии Ridge. Но так как метрика качества у нее самая высокая - нельзя назвать ее лучшей.\n",
    "\n",
    "Хоть у CatBoost скорость предсказания самая лучшая, модель Light GBM показала лучший результат метрики качсетва и скорости обучения. Поэтому я бы выбрала именно эту модель для продакшна."
   ]
  },
  {
   "cell_type": "markdown",
   "metadata": {},
   "source": [
    "<div class=\"alert alert-block alert-success\">\n",
    "    \n",
    "<b>Успех:</b> Хорошо проделаны шаги! <br> Кросс-валидация успешно применена <br> Радует большое количество рассмотренных моделей и то, что был попробован внутренний метод кодировки данных <br> Все нужные метрики успешно вычислены и проанализированы   <br> Приятно видеть информативную таблицу"
   ]
  },
  {
   "cell_type": "markdown",
   "metadata": {},
   "source": [
    "\n",
    "\n",
    "<div class=\"alert alert-block alert-info\">\n",
    "<b>Совет:</b> \n",
    "\n",
    "Также если говорить, что можно ещё улучшить в подобных проектах, то я бы выделил такие моменты:<br>\n",
    "    \n",
    "1) Как я тебе уже говорил, для понимания, а какие в итоге факторы важны при моделировании, можно выводить их важность, использую feature_importances_, ну и график заодно. Это будет смотреться очнь здорово: результативная метрика и график важности факторов)))\n",
    "    \n",
    "2) У нас разный возраст машин. Есть гипотеза, что для разных возрастов - своё ценообразование. Поэтому, можно попробовать ввести фактор \"тип возраста\" (ретро, супер-ретро, старая, новая... надо подумать..)..\n",
    " "
   ]
  },
  {
   "cell_type": "markdown",
   "metadata": {
    "cellId": "weodkyyukwkkihkbhijz5",
    "id": "kVbGyS9I4SbP"
   },
   "source": [
    "## Чек-лист проверки"
   ]
  },
  {
   "cell_type": "markdown",
   "metadata": {
    "cellId": "9kk360czi7dxyl54qp1pce",
    "id": "YYz2TfnW4SbP"
   },
   "source": [
    "Поставьте 'x' в выполненных пунктах. Далее нажмите Shift+Enter."
   ]
  },
  {
   "cell_type": "markdown",
   "metadata": {
    "cellId": "vuzy9oujahn2cwfayaikxd",
    "id": "3BOnz73O4SbP"
   },
   "source": [
    "- [x]  Jupyter Notebook открыт\n",
    "- [x]  Весь код выполняется без ошибок\n",
    "- [x]  Ячейки с кодом расположены в порядке исполнения\n",
    "- [x]  Выполнена загрузка и подготовка данных\n",
    "- [x]  Выполнено обучение моделей\n",
    "- [x]  Есть анализ скорости работы и качества моделей"
   ]
  }
 ],
 "metadata": {
  "colab": {
   "collapsed_sections": [
    "9Eq_I1x84SbH",
    "sbsCI0s24SbJ",
    "IwM9COvb4SbM",
    "WRtorjFR4SbN",
    "PGi__z-M4SbN"
   ],
   "name": "Копия блокнота \"ds-numerical-methods.ipynb\"",
   "provenance": []
  },
  "kernelspec": {
   "display_name": "Python 3 (ipykernel)",
   "language": "python",
   "name": "python3"
  },
  "language_info": {
   "codemirror_mode": {
    "name": "ipython",
    "version": 3
   },
   "file_extension": ".py",
   "mimetype": "text/x-python",
   "name": "python",
   "nbconvert_exporter": "python",
   "pygments_lexer": "ipython3",
   "version": "3.9.5"
  },
  "notebookId": "ffb23d96-22d5-4435-a82b-9628f35d1b69",
  "notebookPath": "ds-numerical-methods.ipynb",
  "toc": {
   "base_numbering": 1,
   "nav_menu": {},
   "number_sections": true,
   "sideBar": true,
   "skip_h1_title": true,
   "title_cell": "Table of Contents",
   "title_sidebar": "Contents",
   "toc_cell": false,
   "toc_position": {},
   "toc_section_display": true,
   "toc_window_display": false
  }
 },
 "nbformat": 4,
 "nbformat_minor": 1
}
