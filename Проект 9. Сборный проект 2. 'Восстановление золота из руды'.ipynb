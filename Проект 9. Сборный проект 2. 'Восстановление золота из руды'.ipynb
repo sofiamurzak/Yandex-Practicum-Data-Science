{
 "cells": [
  {
   "cell_type": "markdown",
   "metadata": {
    "toc": true
   },
   "source": [
    "<h1>Содержание<span class=\"tocSkip\"></span></h1>\n",
    "<div class=\"toc\"><ul class=\"toc-item\"><li><span><a href=\"#Описание-проекта\" data-toc-modified-id=\"Описание-проекта-1\"><span class=\"toc-item-num\">1&nbsp;&nbsp;</span>Описание проекта</a></span><ul class=\"toc-item\"><li><span><a href=\"#Восстановление-золота-из-руды\" data-toc-modified-id=\"Восстановление-золота-из-руды-1.1\"><span class=\"toc-item-num\">1.1&nbsp;&nbsp;</span>Восстановление золота из руды</a></span></li><li><span><a href=\"#Стадии-процесса-восстановления-золота\" data-toc-modified-id=\"Стадии-процесса-восстановления-золота-1.2\"><span class=\"toc-item-num\">1.2&nbsp;&nbsp;</span>Стадии процесса восстановления золота</a></span></li></ul></li><li><span><a href=\"#Цель-исследования\" data-toc-modified-id=\"Цель-исследования-2\"><span class=\"toc-item-num\">2&nbsp;&nbsp;</span>Цель исследования</a></span></li><li><span><a href=\"#Ход-исследования\" data-toc-modified-id=\"Ход-исследования-3\"><span class=\"toc-item-num\">3&nbsp;&nbsp;</span>Ход исследования</a></span></li><li><span><a href=\"#Подготовка-данных\" data-toc-modified-id=\"Подготовка-данных-4\"><span class=\"toc-item-num\">4&nbsp;&nbsp;</span>Подготовка данных</a></span><ul class=\"toc-item\"><li><span><a href=\"#Проверка-расчета-целевого-признака-rougher.output.recovery\" data-toc-modified-id=\"Проверка-расчета-целевого-признака-rougher.output.recovery-4.1\"><span class=\"toc-item-num\">4.1&nbsp;&nbsp;</span>Проверка расчета целевого признака rougher.output.recovery</a></span></li><li><span><a href=\"#Признаки,-недоступные-в-тестовой-выборке\" data-toc-modified-id=\"Признаки,-недоступные-в-тестовой-выборке-4.2\"><span class=\"toc-item-num\">4.2&nbsp;&nbsp;</span>Признаки, недоступные в тестовой выборке</a></span></li><li><span><a href=\"#Предобработка-данных\" data-toc-modified-id=\"Предобработка-данных-4.3\"><span class=\"toc-item-num\">4.3&nbsp;&nbsp;</span>Предобработка данных</a></span></li></ul></li><li><span><a href=\"#Анализ-данных\" data-toc-modified-id=\"Анализ-данных-5\"><span class=\"toc-item-num\">5&nbsp;&nbsp;</span>Анализ данных</a></span><ul class=\"toc-item\"><li><span><a href=\"#Концентрация-металлов-на-различных-этапах-очистки\" data-toc-modified-id=\"Концентрация-металлов-на-различных-этапах-очистки-5.1\"><span class=\"toc-item-num\">5.1&nbsp;&nbsp;</span>Концентрация металлов на различных этапах очистки</a></span></li><li><span><a href=\"#Распределение-размеров-гранул-сырья\" data-toc-modified-id=\"Распределение-размеров-гранул-сырья-5.2\"><span class=\"toc-item-num\">5.2&nbsp;&nbsp;</span>Распределение размеров гранул сырья</a></span></li><li><span><a href=\"#Суммарная-концентрация-всех-веществ-на-разных-стадиях\" data-toc-modified-id=\"Суммарная-концентрация-всех-веществ-на-разных-стадиях-5.3\"><span class=\"toc-item-num\">5.3&nbsp;&nbsp;</span>Суммарная концентрация всех веществ на разных стадиях</a></span></li></ul></li><li><span><a href=\"#Модель\" data-toc-modified-id=\"Модель-6\"><span class=\"toc-item-num\">6&nbsp;&nbsp;</span>Модель</a></span><ul class=\"toc-item\"><li><span><a href=\"#Функция-расчета-метрики-sMAPE\" data-toc-modified-id=\"Функция-расчета-метрики-sMAPE-6.1\"><span class=\"toc-item-num\">6.1&nbsp;&nbsp;</span>Функция расчета метрики sMAPE</a></span></li><li><span><a href=\"#Обучение-моделей\" data-toc-modified-id=\"Обучение-моделей-6.2\"><span class=\"toc-item-num\">6.2&nbsp;&nbsp;</span>Обучение моделей</a></span></li><li><span><a href=\"#Проверка-модели-на-тестовой-выборке\" data-toc-modified-id=\"Проверка-модели-на-тестовой-выборке-6.3\"><span class=\"toc-item-num\">6.3&nbsp;&nbsp;</span>Проверка модели на тестовой выборке</a></span></li></ul></li><li><span><a href=\"#Вывод\" data-toc-modified-id=\"Вывод-7\"><span class=\"toc-item-num\">7&nbsp;&nbsp;</span>Вывод</a></span></li><li><span><a href=\"#Чек-лист-готовности-проекта\" data-toc-modified-id=\"Чек-лист-готовности-проекта-8\"><span class=\"toc-item-num\">8&nbsp;&nbsp;</span>Чек-лист готовности проекта</a></span></li></ul></div>"
   ]
  },
  {
   "cell_type": "markdown",
   "metadata": {
    "cellId": "dqeap8oijmqgy5j71r7xea"
   },
   "source": [
    "<h1> Комментарий ревьюера </h1>\n",
    "\n",
    "Привет, Софья!\n",
    "Меня зовут Виктория Ильина, и я буду проверять твой проект. Предлагаю общаться на \"ты\", но если тебе будет не комфортно, обязательно сообщи и мы перейдем на \"вы\". \n",
    "\n",
    "Моя основная цель - не указать на совершённые тобой ошибки, а поделиться своим опытом и помочь тебе стать специалистом по Data Science. Ты уже проделала большую работу над проектом, но давай сделаем его ещё лучше. Ниже ты найдёшь мои комментарии - пожалуйста, не перемещай, не изменяй и не удаляй их. Я буду использовать различные цвета, чтобы было легче воспринимать мои комментарии:\n",
    "\n",
    "<div class=\"alert alert-block alert-danger\">\n",
    "<b>Комментарий ревьюера❌:</b> Так выделены самые важные замечания. Без их отработки проект не будет принят.\n",
    "</div>\n",
    "\n",
    "<div class=\"alert alert-block alert-warning\">\n",
    "<b>Комментарий ревьюера🤔:</b> Так выделены небольшие замечания. Одно-два таких замечания в проекте допустимы, но если их будет больше - тебе будет необходимо внести исправления. Однако, если перед нами стоит цель не просто сдать проект и забыть, а приобрести новые знания и успешно применять их в будущем, я бы всё-таки рекомендовала тебе прорабатывать эти недочёты.\n",
    "</div>\n",
    "    \n",
    "<div class=\"alert alert-block alert-success\">\n",
    "<b>Комментарий ревьюера👍:</b> Так я выделю все остальные комментарии.\n",
    "</div>\n",
    "    \n",
    "Давай работать над проектом в диалоге: если ты что-то меняешь в проекте или отвечаешь на мои комментарии - пиши об этом. Мне будет легче отследить изменения, если ты выделишь свои комментарии:\n",
    "\n",
    "<div class=\"alert alert-block alert-info\">\n",
    "<b>Комментарий студента:</b> Например, вот так\n",
    "</div>\n",
    "\n",
    "Давай посмотрим, что получилось!"
   ]
  },
  {
   "cell_type": "markdown",
   "metadata": {
    "cellId": "3wvvpsojf2f4iezu4yabid"
   },
   "source": [
    "<h1>Содержание<span class=\"tocSkip\"></span></h1>\n",
    "<div class=\"toc\"><ul class=\"toc-item\"><li><span><a href=\"#Описание-проекта\" data-toc-modified-id=\"Описание-проекта-1\"><span class=\"toc-item-num\">1&nbsp;&nbsp;</span>Описание проекта</a></span><ul class=\"toc-item\"><li><span><a href=\"#Восстановление-золота-из-руды\" data-toc-modified-id=\"Восстановление-золота-из-руды-1.1\"><span class=\"toc-item-num\">1.1&nbsp;&nbsp;</span>Восстановление золота из руды</a></span></li><li><span><a href=\"#Стадии-процесса-восстановления-золота\" data-toc-modified-id=\"Стадии-процесса-восстановления-золота-1.2\"><span class=\"toc-item-num\">1.2&nbsp;&nbsp;</span>Стадии процесса восстановления золота</a></span></li></ul></li><li><span><a href=\"#Цель-исследования\" data-toc-modified-id=\"Цель-исследования-2\"><span class=\"toc-item-num\">2&nbsp;&nbsp;</span>Цель исследования</a></span></li><li><span><a href=\"#Ход-исследования\" data-toc-modified-id=\"Ход-исследования-3\"><span class=\"toc-item-num\">3&nbsp;&nbsp;</span>Ход исследования</a></span></li><li><span><a href=\"#Подготовка-данных\" data-toc-modified-id=\"Подготовка-данных-4\"><span class=\"toc-item-num\">4&nbsp;&nbsp;</span>Подготовка данных</a></span><ul class=\"toc-item\"><li><span><a href=\"#Проверка-расчета-целевого-признака-rougher.output.recovery\" data-toc-modified-id=\"Проверка-расчета-целевого-признака-rougher.output.recovery-4.1\"><span class=\"toc-item-num\">4.1&nbsp;&nbsp;</span>Проверка расчета целевого признака rougher.output.recovery</a></span></li><li><span><a href=\"#Признаки,-недоступные-в-тестовой-выборке\" data-toc-modified-id=\"Признаки,-недоступные-в-тестовой-выборке-4.2\"><span class=\"toc-item-num\">4.2&nbsp;&nbsp;</span>Признаки, недоступные в тестовой выборке</a></span></li><li><span><a href=\"#Предобработка-данных\" data-toc-modified-id=\"Предобработка-данных-4.3\"><span class=\"toc-item-num\">4.3&nbsp;&nbsp;</span>Предобработка данных</a></span></li></ul></li><li><span><a href=\"#Анализ-данных\" data-toc-modified-id=\"Анализ-данных-5\"><span class=\"toc-item-num\">5&nbsp;&nbsp;</span>Анализ данных</a></span><ul class=\"toc-item\"><li><span><a href=\"#Концентрация-металлов-на-различных-этапах-очистки\" data-toc-modified-id=\"Концентрация-металлов-на-различных-этапах-очистки-5.1\"><span class=\"toc-item-num\">5.1&nbsp;&nbsp;</span>Концентрация металлов на различных этапах очистки</a></span></li><li><span><a href=\"#Распределение-размеров-гранул-сырья\" data-toc-modified-id=\"Распределение-размеров-гранул-сырья-5.2\"><span class=\"toc-item-num\">5.2&nbsp;&nbsp;</span>Распределение размеров гранул сырья</a></span></li><li><span><a href=\"#Суммарная-концентрация-всех-веществ-на-разных-стадиях\" data-toc-modified-id=\"Суммарная-концентрация-всех-веществ-на-разных-стадиях-5.3\"><span class=\"toc-item-num\">5.3&nbsp;&nbsp;</span>Суммарная концентрация всех веществ на разных стадиях</a></span></li></ul></li><li><span><a href=\"#Модель\" data-toc-modified-id=\"Модель-6\"><span class=\"toc-item-num\">6&nbsp;&nbsp;</span>Модель</a></span><ul class=\"toc-item\"><li><span><a href=\"#Функция-расчета-метрики-sMAPE\" data-toc-modified-id=\"Функция-расчета-метрики-sMAPE-6.1\"><span class=\"toc-item-num\">6.1&nbsp;&nbsp;</span>Функция расчета метрики sMAPE</a></span></li><li><span><a href=\"#Обучение-моделей\" data-toc-modified-id=\"Обучение-моделей-6.2\"><span class=\"toc-item-num\">6.2&nbsp;&nbsp;</span>Обучение моделей</a></span></li><li><span><a href=\"#Проверка-модели-на-тестовой-выборке\" data-toc-modified-id=\"Проверка-модели-на-тестовой-выборке-6.3\"><span class=\"toc-item-num\">6.3&nbsp;&nbsp;</span>Проверка модели на тестовой выборке</a></span></li></ul></li><li><span><a href=\"#Вывод\" data-toc-modified-id=\"Вывод-7\"><span class=\"toc-item-num\">7&nbsp;&nbsp;</span>Вывод</a></span></li><li><span><a href=\"#Чек-лист-готовности-проекта\" data-toc-modified-id=\"Чек-лист-готовности-проекта-8\"><span class=\"toc-item-num\">8&nbsp;&nbsp;</span>Чек-лист готовности проекта</a></span></li></ul></div>"
   ]
  },
  {
   "cell_type": "code",
   "execution_count": 1,
   "metadata": {
    "cellId": "kjdp8x6ebxddrows1okwn"
   },
   "outputs": [],
   "source": [
    "#%pip install -q -r requirements-ml.txt"
   ]
  },
  {
   "cell_type": "code",
   "execution_count": 2,
   "metadata": {
    "cellId": "32t8hp0dnyuyw3myvsopoe"
   },
   "outputs": [
    {
     "name": "stdout",
     "output_type": "stream",
     "text": [
      "\u001b[33mWARNING: Ignoring invalid distribution -cikit-learn (/opt/conda/lib/python3.9/site-packages)\u001b[0m\n",
      "\u001b[33mWARNING: Ignoring invalid distribution -cikit-learn (/opt/conda/lib/python3.9/site-packages)\u001b[0m\n",
      "Collecting scikit-learn==0.22.1\n",
      "  Using cached scikit-learn-0.22.1.tar.gz (6.9 MB)\n",
      "Requirement already satisfied: numpy>=1.11.0 in /opt/conda/lib/python3.9/site-packages (from scikit-learn==0.22.1) (1.20.1)\n",
      "Requirement already satisfied: scipy>=0.17.0 in /opt/conda/lib/python3.9/site-packages (from scikit-learn==0.22.1) (1.7.3)\n",
      "Requirement already satisfied: joblib>=0.11 in /opt/conda/lib/python3.9/site-packages (from scikit-learn==0.22.1) (1.1.0)\n",
      "Building wheels for collected packages: scikit-learn\n",
      "  Building wheel for scikit-learn (setup.py) ... \u001b[?25lerror\n",
      "\u001b[31m  ERROR: Command errored out with exit status 1:\n",
      "   command: /opt/conda/bin/python -u -c 'import io, os, sys, setuptools, tokenize; sys.argv[0] = '\"'\"'/tmp/pip-install-msh2czbd/scikit-learn_3a22221818d14f17b7f28b805dccf613/setup.py'\"'\"'; __file__='\"'\"'/tmp/pip-install-msh2czbd/scikit-learn_3a22221818d14f17b7f28b805dccf613/setup.py'\"'\"';f = getattr(tokenize, '\"'\"'open'\"'\"', open)(__file__) if os.path.exists(__file__) else io.StringIO('\"'\"'from setuptools import setup; setup()'\"'\"');code = f.read().replace('\"'\"'\\r\\n'\"'\"', '\"'\"'\\n'\"'\"');f.close();exec(compile(code, __file__, '\"'\"'exec'\"'\"'))' bdist_wheel -d /tmp/pip-wheel-au12w4_t\n",
      "       cwd: /tmp/pip-install-msh2czbd/scikit-learn_3a22221818d14f17b7f28b805dccf613/\n",
      "  Complete output (21 lines):\n",
      "  Partial import of sklearn during the build process.\n",
      "  Traceback (most recent call last):\n",
      "    File \"/tmp/pip-install-msh2czbd/scikit-learn_3a22221818d14f17b7f28b805dccf613/sklearn/_build_utils/__init__.py\", line 32, in _check_cython_version\n",
      "      import Cython\n",
      "  ModuleNotFoundError: No module named 'Cython'\n",
      "  \n",
      "  During handling of the above exception, another exception occurred:\n",
      "  \n",
      "  Traceback (most recent call last):\n",
      "    File \"<string>\", line 1, in <module>\n",
      "    File \"/tmp/pip-install-msh2czbd/scikit-learn_3a22221818d14f17b7f28b805dccf613/setup.py\", line 303, in <module>\n",
      "      setup_package()\n",
      "    File \"/tmp/pip-install-msh2czbd/scikit-learn_3a22221818d14f17b7f28b805dccf613/setup.py\", line 299, in setup_package\n",
      "      setup(**metadata)\n",
      "    File \"/opt/conda/lib/python3.9/site-packages/numpy/distutils/core.py\", line 135, in setup\n",
      "      config = configuration()\n",
      "    File \"/tmp/pip-install-msh2czbd/scikit-learn_3a22221818d14f17b7f28b805dccf613/setup.py\", line 180, in configuration\n",
      "      _check_cython_version()\n",
      "    File \"/tmp/pip-install-msh2czbd/scikit-learn_3a22221818d14f17b7f28b805dccf613/sklearn/_build_utils/__init__.py\", line 35, in _check_cython_version\n",
      "      raise ModuleNotFoundError(message)\n",
      "  ModuleNotFoundError: Please install Cython with a version >= 0.28.5 in order to build a scikit-learn from source.\n",
      "  ----------------------------------------\u001b[0m\n",
      "\u001b[31m  ERROR: Failed building wheel for scikit-learn\u001b[0m\n",
      "\u001b[?25h  Running setup.py clean for scikit-learn\n",
      "Failed to build scikit-learn\n",
      "\u001b[33mWARNING: Ignoring invalid distribution -cikit-learn (/opt/conda/lib/python3.9/site-packages)\u001b[0m\n",
      "Installing collected packages: scikit-learn\n",
      "  Attempting uninstall: scikit-learn\n",
      "\u001b[33m    WARNING: Ignoring invalid distribution -cikit-learn (/opt/conda/lib/python3.9/site-packages)\u001b[0m\n",
      "    Found existing installation: scikit-learn 0.24.1\n",
      "    Uninstalling scikit-learn-0.24.1:\n",
      "\u001b[31mERROR: Could not install packages due to an OSError: [Errno 13] Permission denied: 'COPYING'\n",
      "Consider using the `--user` option or check the permissions.\n",
      "\u001b[0m\n",
      "\u001b[33mWARNING: Ignoring invalid distribution -cikit-learn (/opt/conda/lib/python3.9/site-packages)\u001b[0m\n",
      "\u001b[33mWARNING: Ignoring invalid distribution -cikit-learn (/opt/conda/lib/python3.9/site-packages)\u001b[0m\n",
      "\u001b[33mWARNING: Ignoring invalid distribution -cikit-learn (/opt/conda/lib/python3.9/site-packages)\u001b[0m\n",
      "Note: you may need to restart the kernel to use updated packages.\n"
     ]
    }
   ],
   "source": [
    "%pip install scikit-learn==0.22.1"
   ]
  },
  {
   "attachments": {
    "8810b7bd-c876-40cb-841b-fdcbf585b3af.png": {
     "image/png": "[encoded data removed]"
    },
    "a5dda6db-0d5b-4bba-9fb4-2a9937124782.png": {
     "image/png": "[encoded data removed]"
    },
    "bd0b37b0-7e8a-4659-8edc-0be1712737fc.png": {
     "image/png": "[encoded data removed]"
    }
   },
   "cell_type": "markdown",
   "metadata": {
    "cellId": "pwxlmzbgh4ndimlrv8de"
   },
   "source": [
    "## Описание проекта\n",
    "### Восстановление золота из руды\n",
    "\n",
    "Подготовьте прототип модели машинного обучения для «Цифры». Компания разрабатывает решения для эффективной работы промышленных предприятий.\n",
    "Модель должна предсказать коэффициент восстановления золота из золотосодержащей руды. В вашем распоряжении данные с параметрами добычи и очистки.\n",
    "Модель поможет оптимизировать производство, чтобы не запускать предприятие с убыточными характеристиками.\n",
    "\n",
    "### Стадии процесса восстановления золота\n",
    "**1. Флотация**\n",
    "\n",
    "Во флотационную установку подаётся смесь золотосодержащей руды. После обогащения получается черновой концентрат и «отвальные хвосты», то есть остатки продукта с низкой концентрацией ценных металлов.\n",
    "На стабильность этого процесса влияет непостоянное и неоптимальное физико-химическое состояние флотационной пульпы (смеси твёрдых частиц и жидкости).\n",
    "\n",
    "**2. Очистка**\n",
    "\n",
    "Черновой концентрат проходит две очистки. На выходе получается финальный концентрат и новые отвальные хвосты.\n",
    "\n",
    "**Эффективность обогащения** рассчитывается по формуле\n",
    "![image.png](attachment:a5dda6db-0d5b-4bba-9fb4-2a9937124782.png)\n",
    "где:\n",
    "- C — доля золота в концентрате после флотации/очистки;\n",
    "- F — доля золота в сырье/концентрате до флотации/очистки;\n",
    "- T — доля золота в отвальных хвостах после флотации/очистки.\n",
    "\n",
    "Для прогноза коэффициента нужно найти долю золота в концентратах и хвостах. Причём важен не только финальный продукт, но и черновой концентрат.\n",
    "\n",
    "Для решения поставленной задачи необходимо использовать метрику качества **sMAPE** (англ. Symmetric Mean Absolute Percentage Error, «симметричное среднее абсолютное процентное отклонение»).\n",
    "![image.png](attachment:bd0b37b0-7e8a-4659-8edc-0be1712737fc.png)\n",
    "где:\n",
    "- yi - Значение целевого признака для объекта с порядковым номером i в выборке, на которой измеряется качество.\n",
    "- ŷi - Значение предсказания для объекта с порядковым номером i, например, в тестовой выборке.\n",
    "- N - Количество объектов в выборке.\n",
    "- ∑ - Суммирование по всем объектам выборки (i меняется от 1 до N).\n",
    "\n",
    "Нужно спрогнозировать сразу две величины:\n",
    "- эффективность обогащения чернового концентрата **rougher.output.recovery**;\n",
    "- эффективность обогащения финального концентрата **final.output.recovery**.\n",
    "\n",
    "Итоговая метрика складывается из двух величин:\n",
    "![image.png](attachment:8810b7bd-c876-40cb-841b-fdcbf585b3af.png)\n",
    "\n",
    "## Цель исследования\n",
    "Подготовить прототип модели машинного обучения для предсказания коэффициента восстановления золота, что поможет оптимизировать производство.\n",
    "\n",
    "## Ход исследования\n",
    "1. Изучение исходных данных и предобработка \n",
    "2. Исследовательский анализ данных\n",
    "3. Построение модели машинного обучения\n",
    "4. Формирование вывода"
   ]
  },
  {
   "cell_type": "markdown",
   "metadata": {
    "cellId": "rxcmkj3n1najbbopsg7uc"
   },
   "source": [
    "## Подготовка данных"
   ]
  },
  {
   "cell_type": "markdown",
   "metadata": {
    "cellId": "vv6x0ulmxcohzzwc6ajl"
   },
   "source": [
    "Импортирую все необходимые библиотеки и модули, необходимые для реализации проекта."
   ]
  },
  {
   "cell_type": "code",
   "execution_count": 3,
   "metadata": {
    "cellId": "nccvvpqj91mnnavqe3i1j"
   },
   "outputs": [],
   "source": [
    "import pandas as pd\n",
    "import numpy as np\n",
    "import matplotlib.pyplot as plt\n",
    "\n",
    "from sklearn.preprocessing import StandardScaler\n",
    "from sklearn.model_selection import cross_val_score\n",
    "\n",
    "from sklearn.linear_model import LinearRegression \n",
    "from sklearn.ensemble import RandomForestRegressor\n",
    "from sklearn.tree import DecisionTreeRegressor\n",
    "from sklearn.dummy import DummyRegressor\n",
    "\n",
    "from sklearn.metrics import mean_squared_error, make_scorer\n",
    "from scipy import stats as st\n",
    "\n",
    "import warnings\n",
    "warnings.filterwarnings(\"ignore\") \n",
    "pd.options.mode.chained_assignment = None"
   ]
  },
  {
   "cell_type": "markdown",
   "metadata": {
    "cellId": "ebs3ghtqu974bz84obqe5h"
   },
   "source": [
    "\n",
    "<div class=\"alert alert-block alert-warning\">\n",
    "<b>Комментарий ревьюера🤔:</b> Все библиотеки импортированы, на будущее, когда импортируешь из одного места, то просто перечисляешь через запятую:\n",
    "\n",
    "from sklearn.metrics import mean_squared_error, make_scorer\n",
    "    \n",
    "warning так же стоит использовать не в новой ячейке, а в блоке с импортированием\n",
    "    \n",
    "</div>"
   ]
  },
  {
   "cell_type": "markdown",
   "metadata": {
    "cellId": "em8end9bnmkon83uo5ivua"
   },
   "source": [
    "<div class=\"alert alert-block alert-info\">\n",
    "<b>Комментарий студента:</b> Поправила ячейку с импортом.\n",
    "</div>"
   ]
  },
  {
   "cell_type": "markdown",
   "metadata": {},
   "source": [
    "<div class=\"alert alert-block alert-success\">\n",
    "<b>Комментарий ревьюера V.2👍:</b> Хорошо =)\n",
    "</div>"
   ]
  },
  {
   "cell_type": "markdown",
   "metadata": {
    "cellId": "9qf0h21ltrvbf2gg1292u"
   },
   "source": [
    "Дано три исходных файла с данными. Импортирую их методом read_csv библиотеки pandas, оформлю в датафрейм."
   ]
  },
  {
   "cell_type": "code",
   "execution_count": 4,
   "metadata": {
    "cellId": "5hlsqejc943cg1je88f3il"
   },
   "outputs": [
    {
     "name": "stdout",
     "output_type": "stream",
     "text": [
      "[Errno 2] No such file or directory: 'gold_recovery_full_new.csv'\n"
     ]
    }
   ],
   "source": [
    "try:\n",
    "    full = pd.read_csv('gold_recovery_full_new.csv')\n",
    "except FileNotFoundError as e:\n",
    "    print(e)\n",
    "    full = pd.read_csv('/datasets/gold_recovery_full_new.csv')\n",
    "    \n",
    "full.name = 'full data'"
   ]
  },
  {
   "cell_type": "code",
   "execution_count": 5,
   "metadata": {
    "cellId": "z90v99455wgpsjomg0yiuh"
   },
   "outputs": [
    {
     "name": "stdout",
     "output_type": "stream",
     "text": [
      "[Errno 2] No such file or directory: 'gold_recovery_train_new.csv'\n"
     ]
    }
   ],
   "source": [
    "try:\n",
    "    train = pd.read_csv('gold_recovery_train_new.csv')\n",
    "except FileNotFoundError as e:\n",
    "    print(e)\n",
    "    train = pd.read_csv('/datasets/gold_recovery_train_new.csv')\n",
    "    \n",
    "train.name = 'train data'"
   ]
  },
  {
   "cell_type": "code",
   "execution_count": 6,
   "metadata": {
    "cellId": "bdsivshowwok2ypd9bsz"
   },
   "outputs": [
    {
     "name": "stdout",
     "output_type": "stream",
     "text": [
      "[Errno 2] No such file or directory: 'gold_recovery_test_new.csv'\n"
     ]
    }
   ],
   "source": [
    "try:\n",
    "    test = pd.read_csv('gold_recovery_test_new.csv')\n",
    "except FileNotFoundError as e:\n",
    "    print(e)\n",
    "    test = pd.read_csv('/datasets/gold_recovery_test_new.csv')\n",
    "    \n",
    "test.name = 'test data'"
   ]
  },
  {
   "cell_type": "code",
   "execution_count": 7,
   "metadata": {
    "cellId": "cuympfdhybi0r9av084eale"
   },
   "outputs": [],
   "source": [
    "data_total = [full, train, test]"
   ]
  },
  {
   "cell_type": "code",
   "execution_count": 8,
   "metadata": {
    "cellId": "214wlwwg0no5fjz5d278jb"
   },
   "outputs": [
    {
     "name": "stdout",
     "output_type": "stream",
     "text": [
      "Набор данных full data\n"
     ]
    },
    {
     "data": {
      "text/html": [
       "<div>\n",
       "<style scoped>\n",
       "    .dataframe tbody tr th:only-of-type {\n",
       "        vertical-align: middle;\n",
       "    }\n",
       "\n",
       "    .dataframe tbody tr th {\n",
       "        vertical-align: top;\n",
       "    }\n",
       "\n",
       "    .dataframe thead th {\n",
       "        text-align: right;\n",
       "    }\n",
       "</style>\n",
       "<table border=\"1\" class=\"dataframe\">\n",
       "  <thead>\n",
       "    <tr style=\"text-align: right;\">\n",
       "      <th></th>\n",
       "      <th>date</th>\n",
       "      <th>final.output.concentrate_ag</th>\n",
       "      <th>final.output.concentrate_pb</th>\n",
       "      <th>final.output.concentrate_sol</th>\n",
       "      <th>final.output.concentrate_au</th>\n",
       "      <th>final.output.recovery</th>\n",
       "      <th>final.output.tail_ag</th>\n",
       "      <th>final.output.tail_pb</th>\n",
       "      <th>final.output.tail_sol</th>\n",
       "      <th>final.output.tail_au</th>\n",
       "      <th>...</th>\n",
       "      <th>secondary_cleaner.state.floatbank4_a_air</th>\n",
       "      <th>secondary_cleaner.state.floatbank4_a_level</th>\n",
       "      <th>secondary_cleaner.state.floatbank4_b_air</th>\n",
       "      <th>secondary_cleaner.state.floatbank4_b_level</th>\n",
       "      <th>secondary_cleaner.state.floatbank5_a_air</th>\n",
       "      <th>secondary_cleaner.state.floatbank5_a_level</th>\n",
       "      <th>secondary_cleaner.state.floatbank5_b_air</th>\n",
       "      <th>secondary_cleaner.state.floatbank5_b_level</th>\n",
       "      <th>secondary_cleaner.state.floatbank6_a_air</th>\n",
       "      <th>secondary_cleaner.state.floatbank6_a_level</th>\n",
       "    </tr>\n",
       "  </thead>\n",
       "  <tbody>\n",
       "    <tr>\n",
       "      <th>0</th>\n",
       "      <td>2016-01-15 00:00:00</td>\n",
       "      <td>6.055403</td>\n",
       "      <td>9.889648</td>\n",
       "      <td>5.507324</td>\n",
       "      <td>42.192020</td>\n",
       "      <td>70.541216</td>\n",
       "      <td>10.411962</td>\n",
       "      <td>0.895447</td>\n",
       "      <td>16.904297</td>\n",
       "      <td>2.143149</td>\n",
       "      <td>...</td>\n",
       "      <td>14.016835</td>\n",
       "      <td>-502.488007</td>\n",
       "      <td>12.099931</td>\n",
       "      <td>-504.715942</td>\n",
       "      <td>9.925633</td>\n",
       "      <td>-498.310211</td>\n",
       "      <td>8.079666</td>\n",
       "      <td>-500.470978</td>\n",
       "      <td>14.151341</td>\n",
       "      <td>-605.841980</td>\n",
       "    </tr>\n",
       "    <tr>\n",
       "      <th>1</th>\n",
       "      <td>2016-01-15 01:00:00</td>\n",
       "      <td>6.029369</td>\n",
       "      <td>9.968944</td>\n",
       "      <td>5.257781</td>\n",
       "      <td>42.701629</td>\n",
       "      <td>69.266198</td>\n",
       "      <td>10.462676</td>\n",
       "      <td>0.927452</td>\n",
       "      <td>16.634514</td>\n",
       "      <td>2.224930</td>\n",
       "      <td>...</td>\n",
       "      <td>13.992281</td>\n",
       "      <td>-505.503262</td>\n",
       "      <td>11.950531</td>\n",
       "      <td>-501.331529</td>\n",
       "      <td>10.039245</td>\n",
       "      <td>-500.169983</td>\n",
       "      <td>7.984757</td>\n",
       "      <td>-500.582168</td>\n",
       "      <td>13.998353</td>\n",
       "      <td>-599.787184</td>\n",
       "    </tr>\n",
       "    <tr>\n",
       "      <th>2</th>\n",
       "      <td>2016-01-15 02:00:00</td>\n",
       "      <td>6.055926</td>\n",
       "      <td>10.213995</td>\n",
       "      <td>5.383759</td>\n",
       "      <td>42.657501</td>\n",
       "      <td>68.116445</td>\n",
       "      <td>10.507046</td>\n",
       "      <td>0.953716</td>\n",
       "      <td>16.208849</td>\n",
       "      <td>2.257889</td>\n",
       "      <td>...</td>\n",
       "      <td>14.015015</td>\n",
       "      <td>-502.520901</td>\n",
       "      <td>11.912783</td>\n",
       "      <td>-501.133383</td>\n",
       "      <td>10.070913</td>\n",
       "      <td>-500.129135</td>\n",
       "      <td>8.013877</td>\n",
       "      <td>-500.517572</td>\n",
       "      <td>14.028663</td>\n",
       "      <td>-601.427363</td>\n",
       "    </tr>\n",
       "    <tr>\n",
       "      <th>3</th>\n",
       "      <td>2016-01-15 03:00:00</td>\n",
       "      <td>6.047977</td>\n",
       "      <td>9.977019</td>\n",
       "      <td>4.858634</td>\n",
       "      <td>42.689819</td>\n",
       "      <td>68.347543</td>\n",
       "      <td>10.422762</td>\n",
       "      <td>0.883763</td>\n",
       "      <td>16.532835</td>\n",
       "      <td>2.146849</td>\n",
       "      <td>...</td>\n",
       "      <td>14.036510</td>\n",
       "      <td>-500.857308</td>\n",
       "      <td>11.999550</td>\n",
       "      <td>-501.193686</td>\n",
       "      <td>9.970366</td>\n",
       "      <td>-499.201640</td>\n",
       "      <td>7.977324</td>\n",
       "      <td>-500.255908</td>\n",
       "      <td>14.005551</td>\n",
       "      <td>-599.996129</td>\n",
       "    </tr>\n",
       "    <tr>\n",
       "      <th>4</th>\n",
       "      <td>2016-01-15 04:00:00</td>\n",
       "      <td>6.148599</td>\n",
       "      <td>10.142511</td>\n",
       "      <td>4.939416</td>\n",
       "      <td>42.774141</td>\n",
       "      <td>66.927016</td>\n",
       "      <td>10.360302</td>\n",
       "      <td>0.792826</td>\n",
       "      <td>16.525686</td>\n",
       "      <td>2.055292</td>\n",
       "      <td>...</td>\n",
       "      <td>14.027298</td>\n",
       "      <td>-499.838632</td>\n",
       "      <td>11.953070</td>\n",
       "      <td>-501.053894</td>\n",
       "      <td>9.925709</td>\n",
       "      <td>-501.686727</td>\n",
       "      <td>7.894242</td>\n",
       "      <td>-500.356035</td>\n",
       "      <td>13.996647</td>\n",
       "      <td>-601.496691</td>\n",
       "    </tr>\n",
       "  </tbody>\n",
       "</table>\n",
       "<p>5 rows × 87 columns</p>\n",
       "</div>"
      ],
      "text/plain": [
       "                  date  final.output.concentrate_ag  \\\n",
       "0  2016-01-15 00:00:00                     6.055403   \n",
       "1  2016-01-15 01:00:00                     6.029369   \n",
       "2  2016-01-15 02:00:00                     6.055926   \n",
       "3  2016-01-15 03:00:00                     6.047977   \n",
       "4  2016-01-15 04:00:00                     6.148599   \n",
       "\n",
       "   final.output.concentrate_pb  final.output.concentrate_sol  \\\n",
       "0                     9.889648                      5.507324   \n",
       "1                     9.968944                      5.257781   \n",
       "2                    10.213995                      5.383759   \n",
       "3                     9.977019                      4.858634   \n",
       "4                    10.142511                      4.939416   \n",
       "\n",
       "   final.output.concentrate_au  final.output.recovery  final.output.tail_ag  \\\n",
       "0                    42.192020              70.541216             10.411962   \n",
       "1                    42.701629              69.266198             10.462676   \n",
       "2                    42.657501              68.116445             10.507046   \n",
       "3                    42.689819              68.347543             10.422762   \n",
       "4                    42.774141              66.927016             10.360302   \n",
       "\n",
       "   final.output.tail_pb  final.output.tail_sol  final.output.tail_au  ...  \\\n",
       "0              0.895447              16.904297              2.143149  ...   \n",
       "1              0.927452              16.634514              2.224930  ...   \n",
       "2              0.953716              16.208849              2.257889  ...   \n",
       "3              0.883763              16.532835              2.146849  ...   \n",
       "4              0.792826              16.525686              2.055292  ...   \n",
       "\n",
       "   secondary_cleaner.state.floatbank4_a_air  \\\n",
       "0                                 14.016835   \n",
       "1                                 13.992281   \n",
       "2                                 14.015015   \n",
       "3                                 14.036510   \n",
       "4                                 14.027298   \n",
       "\n",
       "   secondary_cleaner.state.floatbank4_a_level  \\\n",
       "0                                 -502.488007   \n",
       "1                                 -505.503262   \n",
       "2                                 -502.520901   \n",
       "3                                 -500.857308   \n",
       "4                                 -499.838632   \n",
       "\n",
       "   secondary_cleaner.state.floatbank4_b_air  \\\n",
       "0                                 12.099931   \n",
       "1                                 11.950531   \n",
       "2                                 11.912783   \n",
       "3                                 11.999550   \n",
       "4                                 11.953070   \n",
       "\n",
       "   secondary_cleaner.state.floatbank4_b_level  \\\n",
       "0                                 -504.715942   \n",
       "1                                 -501.331529   \n",
       "2                                 -501.133383   \n",
       "3                                 -501.193686   \n",
       "4                                 -501.053894   \n",
       "\n",
       "   secondary_cleaner.state.floatbank5_a_air  \\\n",
       "0                                  9.925633   \n",
       "1                                 10.039245   \n",
       "2                                 10.070913   \n",
       "3                                  9.970366   \n",
       "4                                  9.925709   \n",
       "\n",
       "   secondary_cleaner.state.floatbank5_a_level  \\\n",
       "0                                 -498.310211   \n",
       "1                                 -500.169983   \n",
       "2                                 -500.129135   \n",
       "3                                 -499.201640   \n",
       "4                                 -501.686727   \n",
       "\n",
       "   secondary_cleaner.state.floatbank5_b_air  \\\n",
       "0                                  8.079666   \n",
       "1                                  7.984757   \n",
       "2                                  8.013877   \n",
       "3                                  7.977324   \n",
       "4                                  7.894242   \n",
       "\n",
       "   secondary_cleaner.state.floatbank5_b_level  \\\n",
       "0                                 -500.470978   \n",
       "1                                 -500.582168   \n",
       "2                                 -500.517572   \n",
       "3                                 -500.255908   \n",
       "4                                 -500.356035   \n",
       "\n",
       "   secondary_cleaner.state.floatbank6_a_air  \\\n",
       "0                                 14.151341   \n",
       "1                                 13.998353   \n",
       "2                                 14.028663   \n",
       "3                                 14.005551   \n",
       "4                                 13.996647   \n",
       "\n",
       "   secondary_cleaner.state.floatbank6_a_level  \n",
       "0                                 -605.841980  \n",
       "1                                 -599.787184  \n",
       "2                                 -601.427363  \n",
       "3                                 -599.996129  \n",
       "4                                 -601.496691  \n",
       "\n",
       "[5 rows x 87 columns]"
      ]
     },
     "metadata": {},
     "output_type": "display_data"
    },
    {
     "name": "stdout",
     "output_type": "stream",
     "text": [
      "Набор данных train data\n"
     ]
    },
    {
     "data": {
      "text/html": [
       "<div>\n",
       "<style scoped>\n",
       "    .dataframe tbody tr th:only-of-type {\n",
       "        vertical-align: middle;\n",
       "    }\n",
       "\n",
       "    .dataframe tbody tr th {\n",
       "        vertical-align: top;\n",
       "    }\n",
       "\n",
       "    .dataframe thead th {\n",
       "        text-align: right;\n",
       "    }\n",
       "</style>\n",
       "<table border=\"1\" class=\"dataframe\">\n",
       "  <thead>\n",
       "    <tr style=\"text-align: right;\">\n",
       "      <th></th>\n",
       "      <th>date</th>\n",
       "      <th>final.output.concentrate_ag</th>\n",
       "      <th>final.output.concentrate_pb</th>\n",
       "      <th>final.output.concentrate_sol</th>\n",
       "      <th>final.output.concentrate_au</th>\n",
       "      <th>final.output.recovery</th>\n",
       "      <th>final.output.tail_ag</th>\n",
       "      <th>final.output.tail_pb</th>\n",
       "      <th>final.output.tail_sol</th>\n",
       "      <th>final.output.tail_au</th>\n",
       "      <th>...</th>\n",
       "      <th>secondary_cleaner.state.floatbank4_a_air</th>\n",
       "      <th>secondary_cleaner.state.floatbank4_a_level</th>\n",
       "      <th>secondary_cleaner.state.floatbank4_b_air</th>\n",
       "      <th>secondary_cleaner.state.floatbank4_b_level</th>\n",
       "      <th>secondary_cleaner.state.floatbank5_a_air</th>\n",
       "      <th>secondary_cleaner.state.floatbank5_a_level</th>\n",
       "      <th>secondary_cleaner.state.floatbank5_b_air</th>\n",
       "      <th>secondary_cleaner.state.floatbank5_b_level</th>\n",
       "      <th>secondary_cleaner.state.floatbank6_a_air</th>\n",
       "      <th>secondary_cleaner.state.floatbank6_a_level</th>\n",
       "    </tr>\n",
       "  </thead>\n",
       "  <tbody>\n",
       "    <tr>\n",
       "      <th>0</th>\n",
       "      <td>2016-01-15 00:00:00</td>\n",
       "      <td>6.055403</td>\n",
       "      <td>9.889648</td>\n",
       "      <td>5.507324</td>\n",
       "      <td>42.192020</td>\n",
       "      <td>70.541216</td>\n",
       "      <td>10.411962</td>\n",
       "      <td>0.895447</td>\n",
       "      <td>16.904297</td>\n",
       "      <td>2.143149</td>\n",
       "      <td>...</td>\n",
       "      <td>14.016835</td>\n",
       "      <td>-502.488007</td>\n",
       "      <td>12.099931</td>\n",
       "      <td>-504.715942</td>\n",
       "      <td>9.925633</td>\n",
       "      <td>-498.310211</td>\n",
       "      <td>8.079666</td>\n",
       "      <td>-500.470978</td>\n",
       "      <td>14.151341</td>\n",
       "      <td>-605.841980</td>\n",
       "    </tr>\n",
       "    <tr>\n",
       "      <th>1</th>\n",
       "      <td>2016-01-15 01:00:00</td>\n",
       "      <td>6.029369</td>\n",
       "      <td>9.968944</td>\n",
       "      <td>5.257781</td>\n",
       "      <td>42.701629</td>\n",
       "      <td>69.266198</td>\n",
       "      <td>10.462676</td>\n",
       "      <td>0.927452</td>\n",
       "      <td>16.634514</td>\n",
       "      <td>2.224930</td>\n",
       "      <td>...</td>\n",
       "      <td>13.992281</td>\n",
       "      <td>-505.503262</td>\n",
       "      <td>11.950531</td>\n",
       "      <td>-501.331529</td>\n",
       "      <td>10.039245</td>\n",
       "      <td>-500.169983</td>\n",
       "      <td>7.984757</td>\n",
       "      <td>-500.582168</td>\n",
       "      <td>13.998353</td>\n",
       "      <td>-599.787184</td>\n",
       "    </tr>\n",
       "    <tr>\n",
       "      <th>2</th>\n",
       "      <td>2016-01-15 02:00:00</td>\n",
       "      <td>6.055926</td>\n",
       "      <td>10.213995</td>\n",
       "      <td>5.383759</td>\n",
       "      <td>42.657501</td>\n",
       "      <td>68.116445</td>\n",
       "      <td>10.507046</td>\n",
       "      <td>0.953716</td>\n",
       "      <td>16.208849</td>\n",
       "      <td>2.257889</td>\n",
       "      <td>...</td>\n",
       "      <td>14.015015</td>\n",
       "      <td>-502.520901</td>\n",
       "      <td>11.912783</td>\n",
       "      <td>-501.133383</td>\n",
       "      <td>10.070913</td>\n",
       "      <td>-500.129135</td>\n",
       "      <td>8.013877</td>\n",
       "      <td>-500.517572</td>\n",
       "      <td>14.028663</td>\n",
       "      <td>-601.427363</td>\n",
       "    </tr>\n",
       "    <tr>\n",
       "      <th>3</th>\n",
       "      <td>2016-01-15 03:00:00</td>\n",
       "      <td>6.047977</td>\n",
       "      <td>9.977019</td>\n",
       "      <td>4.858634</td>\n",
       "      <td>42.689819</td>\n",
       "      <td>68.347543</td>\n",
       "      <td>10.422762</td>\n",
       "      <td>0.883763</td>\n",
       "      <td>16.532835</td>\n",
       "      <td>2.146849</td>\n",
       "      <td>...</td>\n",
       "      <td>14.036510</td>\n",
       "      <td>-500.857308</td>\n",
       "      <td>11.999550</td>\n",
       "      <td>-501.193686</td>\n",
       "      <td>9.970366</td>\n",
       "      <td>-499.201640</td>\n",
       "      <td>7.977324</td>\n",
       "      <td>-500.255908</td>\n",
       "      <td>14.005551</td>\n",
       "      <td>-599.996129</td>\n",
       "    </tr>\n",
       "    <tr>\n",
       "      <th>4</th>\n",
       "      <td>2016-01-15 04:00:00</td>\n",
       "      <td>6.148599</td>\n",
       "      <td>10.142511</td>\n",
       "      <td>4.939416</td>\n",
       "      <td>42.774141</td>\n",
       "      <td>66.927016</td>\n",
       "      <td>10.360302</td>\n",
       "      <td>0.792826</td>\n",
       "      <td>16.525686</td>\n",
       "      <td>2.055292</td>\n",
       "      <td>...</td>\n",
       "      <td>14.027298</td>\n",
       "      <td>-499.838632</td>\n",
       "      <td>11.953070</td>\n",
       "      <td>-501.053894</td>\n",
       "      <td>9.925709</td>\n",
       "      <td>-501.686727</td>\n",
       "      <td>7.894242</td>\n",
       "      <td>-500.356035</td>\n",
       "      <td>13.996647</td>\n",
       "      <td>-601.496691</td>\n",
       "    </tr>\n",
       "  </tbody>\n",
       "</table>\n",
       "<p>5 rows × 87 columns</p>\n",
       "</div>"
      ],
      "text/plain": [
       "                  date  final.output.concentrate_ag  \\\n",
       "0  2016-01-15 00:00:00                     6.055403   \n",
       "1  2016-01-15 01:00:00                     6.029369   \n",
       "2  2016-01-15 02:00:00                     6.055926   \n",
       "3  2016-01-15 03:00:00                     6.047977   \n",
       "4  2016-01-15 04:00:00                     6.148599   \n",
       "\n",
       "   final.output.concentrate_pb  final.output.concentrate_sol  \\\n",
       "0                     9.889648                      5.507324   \n",
       "1                     9.968944                      5.257781   \n",
       "2                    10.213995                      5.383759   \n",
       "3                     9.977019                      4.858634   \n",
       "4                    10.142511                      4.939416   \n",
       "\n",
       "   final.output.concentrate_au  final.output.recovery  final.output.tail_ag  \\\n",
       "0                    42.192020              70.541216             10.411962   \n",
       "1                    42.701629              69.266198             10.462676   \n",
       "2                    42.657501              68.116445             10.507046   \n",
       "3                    42.689819              68.347543             10.422762   \n",
       "4                    42.774141              66.927016             10.360302   \n",
       "\n",
       "   final.output.tail_pb  final.output.tail_sol  final.output.tail_au  ...  \\\n",
       "0              0.895447              16.904297              2.143149  ...   \n",
       "1              0.927452              16.634514              2.224930  ...   \n",
       "2              0.953716              16.208849              2.257889  ...   \n",
       "3              0.883763              16.532835              2.146849  ...   \n",
       "4              0.792826              16.525686              2.055292  ...   \n",
       "\n",
       "   secondary_cleaner.state.floatbank4_a_air  \\\n",
       "0                                 14.016835   \n",
       "1                                 13.992281   \n",
       "2                                 14.015015   \n",
       "3                                 14.036510   \n",
       "4                                 14.027298   \n",
       "\n",
       "   secondary_cleaner.state.floatbank4_a_level  \\\n",
       "0                                 -502.488007   \n",
       "1                                 -505.503262   \n",
       "2                                 -502.520901   \n",
       "3                                 -500.857308   \n",
       "4                                 -499.838632   \n",
       "\n",
       "   secondary_cleaner.state.floatbank4_b_air  \\\n",
       "0                                 12.099931   \n",
       "1                                 11.950531   \n",
       "2                                 11.912783   \n",
       "3                                 11.999550   \n",
       "4                                 11.953070   \n",
       "\n",
       "   secondary_cleaner.state.floatbank4_b_level  \\\n",
       "0                                 -504.715942   \n",
       "1                                 -501.331529   \n",
       "2                                 -501.133383   \n",
       "3                                 -501.193686   \n",
       "4                                 -501.053894   \n",
       "\n",
       "   secondary_cleaner.state.floatbank5_a_air  \\\n",
       "0                                  9.925633   \n",
       "1                                 10.039245   \n",
       "2                                 10.070913   \n",
       "3                                  9.970366   \n",
       "4                                  9.925709   \n",
       "\n",
       "   secondary_cleaner.state.floatbank5_a_level  \\\n",
       "0                                 -498.310211   \n",
       "1                                 -500.169983   \n",
       "2                                 -500.129135   \n",
       "3                                 -499.201640   \n",
       "4                                 -501.686727   \n",
       "\n",
       "   secondary_cleaner.state.floatbank5_b_air  \\\n",
       "0                                  8.079666   \n",
       "1                                  7.984757   \n",
       "2                                  8.013877   \n",
       "3                                  7.977324   \n",
       "4                                  7.894242   \n",
       "\n",
       "   secondary_cleaner.state.floatbank5_b_level  \\\n",
       "0                                 -500.470978   \n",
       "1                                 -500.582168   \n",
       "2                                 -500.517572   \n",
       "3                                 -500.255908   \n",
       "4                                 -500.356035   \n",
       "\n",
       "   secondary_cleaner.state.floatbank6_a_air  \\\n",
       "0                                 14.151341   \n",
       "1                                 13.998353   \n",
       "2                                 14.028663   \n",
       "3                                 14.005551   \n",
       "4                                 13.996647   \n",
       "\n",
       "   secondary_cleaner.state.floatbank6_a_level  \n",
       "0                                 -605.841980  \n",
       "1                                 -599.787184  \n",
       "2                                 -601.427363  \n",
       "3                                 -599.996129  \n",
       "4                                 -601.496691  \n",
       "\n",
       "[5 rows x 87 columns]"
      ]
     },
     "metadata": {},
     "output_type": "display_data"
    },
    {
     "name": "stdout",
     "output_type": "stream",
     "text": [
      "Набор данных test data\n"
     ]
    },
    {
     "data": {
      "text/html": [
       "<div>\n",
       "<style scoped>\n",
       "    .dataframe tbody tr th:only-of-type {\n",
       "        vertical-align: middle;\n",
       "    }\n",
       "\n",
       "    .dataframe tbody tr th {\n",
       "        vertical-align: top;\n",
       "    }\n",
       "\n",
       "    .dataframe thead th {\n",
       "        text-align: right;\n",
       "    }\n",
       "</style>\n",
       "<table border=\"1\" class=\"dataframe\">\n",
       "  <thead>\n",
       "    <tr style=\"text-align: right;\">\n",
       "      <th></th>\n",
       "      <th>date</th>\n",
       "      <th>primary_cleaner.input.sulfate</th>\n",
       "      <th>primary_cleaner.input.depressant</th>\n",
       "      <th>primary_cleaner.input.feed_size</th>\n",
       "      <th>primary_cleaner.input.xanthate</th>\n",
       "      <th>primary_cleaner.state.floatbank8_a_air</th>\n",
       "      <th>primary_cleaner.state.floatbank8_a_level</th>\n",
       "      <th>primary_cleaner.state.floatbank8_b_air</th>\n",
       "      <th>primary_cleaner.state.floatbank8_b_level</th>\n",
       "      <th>primary_cleaner.state.floatbank8_c_air</th>\n",
       "      <th>...</th>\n",
       "      <th>secondary_cleaner.state.floatbank4_a_air</th>\n",
       "      <th>secondary_cleaner.state.floatbank4_a_level</th>\n",
       "      <th>secondary_cleaner.state.floatbank4_b_air</th>\n",
       "      <th>secondary_cleaner.state.floatbank4_b_level</th>\n",
       "      <th>secondary_cleaner.state.floatbank5_a_air</th>\n",
       "      <th>secondary_cleaner.state.floatbank5_a_level</th>\n",
       "      <th>secondary_cleaner.state.floatbank5_b_air</th>\n",
       "      <th>secondary_cleaner.state.floatbank5_b_level</th>\n",
       "      <th>secondary_cleaner.state.floatbank6_a_air</th>\n",
       "      <th>secondary_cleaner.state.floatbank6_a_level</th>\n",
       "    </tr>\n",
       "  </thead>\n",
       "  <tbody>\n",
       "    <tr>\n",
       "      <th>0</th>\n",
       "      <td>2016-09-01 00:59:59</td>\n",
       "      <td>210.800909</td>\n",
       "      <td>14.993118</td>\n",
       "      <td>8.080000</td>\n",
       "      <td>1.005021</td>\n",
       "      <td>1398.981301</td>\n",
       "      <td>-500.225577</td>\n",
       "      <td>1399.144926</td>\n",
       "      <td>-499.919735</td>\n",
       "      <td>1400.102998</td>\n",
       "      <td>...</td>\n",
       "      <td>12.023554</td>\n",
       "      <td>-497.795834</td>\n",
       "      <td>8.016656</td>\n",
       "      <td>-501.289139</td>\n",
       "      <td>7.946562</td>\n",
       "      <td>-432.317850</td>\n",
       "      <td>4.872511</td>\n",
       "      <td>-500.037437</td>\n",
       "      <td>26.705889</td>\n",
       "      <td>-499.709414</td>\n",
       "    </tr>\n",
       "    <tr>\n",
       "      <th>1</th>\n",
       "      <td>2016-09-01 01:59:59</td>\n",
       "      <td>215.392455</td>\n",
       "      <td>14.987471</td>\n",
       "      <td>8.080000</td>\n",
       "      <td>0.990469</td>\n",
       "      <td>1398.777912</td>\n",
       "      <td>-500.057435</td>\n",
       "      <td>1398.055362</td>\n",
       "      <td>-499.778182</td>\n",
       "      <td>1396.151033</td>\n",
       "      <td>...</td>\n",
       "      <td>12.058140</td>\n",
       "      <td>-498.695773</td>\n",
       "      <td>8.130979</td>\n",
       "      <td>-499.634209</td>\n",
       "      <td>7.958270</td>\n",
       "      <td>-525.839648</td>\n",
       "      <td>4.878850</td>\n",
       "      <td>-500.162375</td>\n",
       "      <td>25.019940</td>\n",
       "      <td>-499.819438</td>\n",
       "    </tr>\n",
       "    <tr>\n",
       "      <th>2</th>\n",
       "      <td>2016-09-01 02:59:59</td>\n",
       "      <td>215.259946</td>\n",
       "      <td>12.884934</td>\n",
       "      <td>7.786667</td>\n",
       "      <td>0.996043</td>\n",
       "      <td>1398.493666</td>\n",
       "      <td>-500.868360</td>\n",
       "      <td>1398.860436</td>\n",
       "      <td>-499.764529</td>\n",
       "      <td>1398.075709</td>\n",
       "      <td>...</td>\n",
       "      <td>11.962366</td>\n",
       "      <td>-498.767484</td>\n",
       "      <td>8.096893</td>\n",
       "      <td>-500.827423</td>\n",
       "      <td>8.071056</td>\n",
       "      <td>-500.801673</td>\n",
       "      <td>4.905125</td>\n",
       "      <td>-499.828510</td>\n",
       "      <td>24.994862</td>\n",
       "      <td>-500.622559</td>\n",
       "    </tr>\n",
       "    <tr>\n",
       "      <th>3</th>\n",
       "      <td>2016-09-01 03:59:59</td>\n",
       "      <td>215.336236</td>\n",
       "      <td>12.006805</td>\n",
       "      <td>7.640000</td>\n",
       "      <td>0.863514</td>\n",
       "      <td>1399.618111</td>\n",
       "      <td>-498.863574</td>\n",
       "      <td>1397.440120</td>\n",
       "      <td>-499.211024</td>\n",
       "      <td>1400.129303</td>\n",
       "      <td>...</td>\n",
       "      <td>12.033091</td>\n",
       "      <td>-498.350935</td>\n",
       "      <td>8.074946</td>\n",
       "      <td>-499.474407</td>\n",
       "      <td>7.897085</td>\n",
       "      <td>-500.868509</td>\n",
       "      <td>4.931400</td>\n",
       "      <td>-499.963623</td>\n",
       "      <td>24.948919</td>\n",
       "      <td>-498.709987</td>\n",
       "    </tr>\n",
       "    <tr>\n",
       "      <th>4</th>\n",
       "      <td>2016-09-01 04:59:59</td>\n",
       "      <td>199.099327</td>\n",
       "      <td>10.682530</td>\n",
       "      <td>7.530000</td>\n",
       "      <td>0.805575</td>\n",
       "      <td>1401.268123</td>\n",
       "      <td>-500.808305</td>\n",
       "      <td>1398.128818</td>\n",
       "      <td>-499.504543</td>\n",
       "      <td>1402.172226</td>\n",
       "      <td>...</td>\n",
       "      <td>12.025367</td>\n",
       "      <td>-500.786497</td>\n",
       "      <td>8.054678</td>\n",
       "      <td>-500.397500</td>\n",
       "      <td>8.107890</td>\n",
       "      <td>-509.526725</td>\n",
       "      <td>4.957674</td>\n",
       "      <td>-500.360026</td>\n",
       "      <td>25.003331</td>\n",
       "      <td>-500.856333</td>\n",
       "    </tr>\n",
       "  </tbody>\n",
       "</table>\n",
       "<p>5 rows × 53 columns</p>\n",
       "</div>"
      ],
      "text/plain": [
       "                  date  primary_cleaner.input.sulfate  \\\n",
       "0  2016-09-01 00:59:59                     210.800909   \n",
       "1  2016-09-01 01:59:59                     215.392455   \n",
       "2  2016-09-01 02:59:59                     215.259946   \n",
       "3  2016-09-01 03:59:59                     215.336236   \n",
       "4  2016-09-01 04:59:59                     199.099327   \n",
       "\n",
       "   primary_cleaner.input.depressant  primary_cleaner.input.feed_size  \\\n",
       "0                         14.993118                         8.080000   \n",
       "1                         14.987471                         8.080000   \n",
       "2                         12.884934                         7.786667   \n",
       "3                         12.006805                         7.640000   \n",
       "4                         10.682530                         7.530000   \n",
       "\n",
       "   primary_cleaner.input.xanthate  primary_cleaner.state.floatbank8_a_air  \\\n",
       "0                        1.005021                             1398.981301   \n",
       "1                        0.990469                             1398.777912   \n",
       "2                        0.996043                             1398.493666   \n",
       "3                        0.863514                             1399.618111   \n",
       "4                        0.805575                             1401.268123   \n",
       "\n",
       "   primary_cleaner.state.floatbank8_a_level  \\\n",
       "0                               -500.225577   \n",
       "1                               -500.057435   \n",
       "2                               -500.868360   \n",
       "3                               -498.863574   \n",
       "4                               -500.808305   \n",
       "\n",
       "   primary_cleaner.state.floatbank8_b_air  \\\n",
       "0                             1399.144926   \n",
       "1                             1398.055362   \n",
       "2                             1398.860436   \n",
       "3                             1397.440120   \n",
       "4                             1398.128818   \n",
       "\n",
       "   primary_cleaner.state.floatbank8_b_level  \\\n",
       "0                               -499.919735   \n",
       "1                               -499.778182   \n",
       "2                               -499.764529   \n",
       "3                               -499.211024   \n",
       "4                               -499.504543   \n",
       "\n",
       "   primary_cleaner.state.floatbank8_c_air  ...  \\\n",
       "0                             1400.102998  ...   \n",
       "1                             1396.151033  ...   \n",
       "2                             1398.075709  ...   \n",
       "3                             1400.129303  ...   \n",
       "4                             1402.172226  ...   \n",
       "\n",
       "   secondary_cleaner.state.floatbank4_a_air  \\\n",
       "0                                 12.023554   \n",
       "1                                 12.058140   \n",
       "2                                 11.962366   \n",
       "3                                 12.033091   \n",
       "4                                 12.025367   \n",
       "\n",
       "   secondary_cleaner.state.floatbank4_a_level  \\\n",
       "0                                 -497.795834   \n",
       "1                                 -498.695773   \n",
       "2                                 -498.767484   \n",
       "3                                 -498.350935   \n",
       "4                                 -500.786497   \n",
       "\n",
       "   secondary_cleaner.state.floatbank4_b_air  \\\n",
       "0                                  8.016656   \n",
       "1                                  8.130979   \n",
       "2                                  8.096893   \n",
       "3                                  8.074946   \n",
       "4                                  8.054678   \n",
       "\n",
       "   secondary_cleaner.state.floatbank4_b_level  \\\n",
       "0                                 -501.289139   \n",
       "1                                 -499.634209   \n",
       "2                                 -500.827423   \n",
       "3                                 -499.474407   \n",
       "4                                 -500.397500   \n",
       "\n",
       "   secondary_cleaner.state.floatbank5_a_air  \\\n",
       "0                                  7.946562   \n",
       "1                                  7.958270   \n",
       "2                                  8.071056   \n",
       "3                                  7.897085   \n",
       "4                                  8.107890   \n",
       "\n",
       "   secondary_cleaner.state.floatbank5_a_level  \\\n",
       "0                                 -432.317850   \n",
       "1                                 -525.839648   \n",
       "2                                 -500.801673   \n",
       "3                                 -500.868509   \n",
       "4                                 -509.526725   \n",
       "\n",
       "   secondary_cleaner.state.floatbank5_b_air  \\\n",
       "0                                  4.872511   \n",
       "1                                  4.878850   \n",
       "2                                  4.905125   \n",
       "3                                  4.931400   \n",
       "4                                  4.957674   \n",
       "\n",
       "   secondary_cleaner.state.floatbank5_b_level  \\\n",
       "0                                 -500.037437   \n",
       "1                                 -500.162375   \n",
       "2                                 -499.828510   \n",
       "3                                 -499.963623   \n",
       "4                                 -500.360026   \n",
       "\n",
       "   secondary_cleaner.state.floatbank6_a_air  \\\n",
       "0                                 26.705889   \n",
       "1                                 25.019940   \n",
       "2                                 24.994862   \n",
       "3                                 24.948919   \n",
       "4                                 25.003331   \n",
       "\n",
       "   secondary_cleaner.state.floatbank6_a_level  \n",
       "0                                 -499.709414  \n",
       "1                                 -499.819438  \n",
       "2                                 -500.622559  \n",
       "3                                 -498.709987  \n",
       "4                                 -500.856333  \n",
       "\n",
       "[5 rows x 53 columns]"
      ]
     },
     "metadata": {},
     "output_type": "display_data"
    }
   ],
   "source": [
    "for data in data_total:\n",
    "    print('Набор данных', data.name)\n",
    "    display(data.head())"
   ]
  },
  {
   "cell_type": "code",
   "execution_count": 9,
   "metadata": {
    "cellId": "wos9av777ftlxrt450jdc"
   },
   "outputs": [
    {
     "data": {
      "text/plain": [
       "Index(['date', 'final.output.concentrate_ag', 'final.output.concentrate_pb',\n",
       "       'final.output.concentrate_sol', 'final.output.concentrate_au',\n",
       "       'final.output.recovery', 'final.output.tail_ag', 'final.output.tail_pb',\n",
       "       'final.output.tail_sol', 'final.output.tail_au',\n",
       "       'primary_cleaner.input.sulfate', 'primary_cleaner.input.depressant',\n",
       "       'primary_cleaner.input.feed_size', 'primary_cleaner.input.xanthate',\n",
       "       'primary_cleaner.output.concentrate_ag',\n",
       "       'primary_cleaner.output.concentrate_pb',\n",
       "       'primary_cleaner.output.concentrate_sol',\n",
       "       'primary_cleaner.output.concentrate_au',\n",
       "       'primary_cleaner.output.tail_ag', 'primary_cleaner.output.tail_pb',\n",
       "       'primary_cleaner.output.tail_sol', 'primary_cleaner.output.tail_au',\n",
       "       'primary_cleaner.state.floatbank8_a_air',\n",
       "       'primary_cleaner.state.floatbank8_a_level',\n",
       "       'primary_cleaner.state.floatbank8_b_air',\n",
       "       'primary_cleaner.state.floatbank8_b_level',\n",
       "       'primary_cleaner.state.floatbank8_c_air',\n",
       "       'primary_cleaner.state.floatbank8_c_level',\n",
       "       'primary_cleaner.state.floatbank8_d_air',\n",
       "       'primary_cleaner.state.floatbank8_d_level',\n",
       "       'rougher.calculation.sulfate_to_au_concentrate',\n",
       "       'rougher.calculation.floatbank10_sulfate_to_au_feed',\n",
       "       'rougher.calculation.floatbank11_sulfate_to_au_feed',\n",
       "       'rougher.calculation.au_pb_ratio', 'rougher.input.feed_ag',\n",
       "       'rougher.input.feed_pb', 'rougher.input.feed_rate',\n",
       "       'rougher.input.feed_size', 'rougher.input.feed_sol',\n",
       "       'rougher.input.feed_au', 'rougher.input.floatbank10_sulfate',\n",
       "       'rougher.input.floatbank10_xanthate',\n",
       "       'rougher.input.floatbank11_sulfate',\n",
       "       'rougher.input.floatbank11_xanthate', 'rougher.output.concentrate_ag',\n",
       "       'rougher.output.concentrate_pb', 'rougher.output.concentrate_sol',\n",
       "       'rougher.output.concentrate_au', 'rougher.output.recovery',\n",
       "       'rougher.output.tail_ag', 'rougher.output.tail_pb',\n",
       "       'rougher.output.tail_sol', 'rougher.output.tail_au',\n",
       "       'rougher.state.floatbank10_a_air', 'rougher.state.floatbank10_a_level',\n",
       "       'rougher.state.floatbank10_b_air', 'rougher.state.floatbank10_b_level',\n",
       "       'rougher.state.floatbank10_c_air', 'rougher.state.floatbank10_c_level',\n",
       "       'rougher.state.floatbank10_d_air', 'rougher.state.floatbank10_d_level',\n",
       "       'rougher.state.floatbank10_e_air', 'rougher.state.floatbank10_e_level',\n",
       "       'rougher.state.floatbank10_f_air', 'rougher.state.floatbank10_f_level',\n",
       "       'secondary_cleaner.output.tail_ag', 'secondary_cleaner.output.tail_pb',\n",
       "       'secondary_cleaner.output.tail_sol', 'secondary_cleaner.output.tail_au',\n",
       "       'secondary_cleaner.state.floatbank2_a_air',\n",
       "       'secondary_cleaner.state.floatbank2_a_level',\n",
       "       'secondary_cleaner.state.floatbank2_b_air',\n",
       "       'secondary_cleaner.state.floatbank2_b_level',\n",
       "       'secondary_cleaner.state.floatbank3_a_air',\n",
       "       'secondary_cleaner.state.floatbank3_a_level',\n",
       "       'secondary_cleaner.state.floatbank3_b_air',\n",
       "       'secondary_cleaner.state.floatbank3_b_level',\n",
       "       'secondary_cleaner.state.floatbank4_a_air',\n",
       "       'secondary_cleaner.state.floatbank4_a_level',\n",
       "       'secondary_cleaner.state.floatbank4_b_air',\n",
       "       'secondary_cleaner.state.floatbank4_b_level',\n",
       "       'secondary_cleaner.state.floatbank5_a_air',\n",
       "       'secondary_cleaner.state.floatbank5_a_level',\n",
       "       'secondary_cleaner.state.floatbank5_b_air',\n",
       "       'secondary_cleaner.state.floatbank5_b_level',\n",
       "       'secondary_cleaner.state.floatbank6_a_air',\n",
       "       'secondary_cleaner.state.floatbank6_a_level'],\n",
       "      dtype='object')"
      ]
     },
     "execution_count": 9,
     "metadata": {},
     "output_type": "execute_result"
    }
   ],
   "source": [
    "full.columns"
   ]
  },
  {
   "cell_type": "markdown",
   "metadata": {
    "cellId": "cq85ql3ajh8a2cgo6tam8"
   },
   "source": [
    "В данных собраны значения и параметры технологического процесса восстановления золота.\n",
    "\n",
    "**Тех.процесс**\n",
    "- Rougher feed — исходное сырье\n",
    "- Rougher additions (или reagent additions) — флотационные реагенты: Xanthate, Sulphate, Depressant\n",
    "- Xanthate **— ксантогенат (промотер, или активатор флотации);\n",
    "- Sulphate — сульфат (на данном производстве сульфид натрия);\n",
    "- Depressant — депрессант (силикат натрия).\n",
    "- Rougher process (англ. «грубый процесс») — флотация\n",
    "- Rougher tails — отвальные хвосты\n",
    "- Float banks — флотационная установка\n",
    "- Cleaner process — очистка\n",
    "- Rougher Au — черновой концентрат золота\n",
    "- Final Au — финальный концентрат золота\n",
    "**Параметры этапов**\n",
    "- air amount — объём воздуха\n",
    "- fluid levels — уровень жидкости\n",
    "- feed size — размер гранул сырья\n",
    "- feed rate — скорость подачи\n",
    "\n",
    "**Наименование признаков**\n",
    "[этап].[тип_параметра].[название_параметра]\n",
    "\n",
    "**Возможные значения для блока [этап]:**\n",
    "- rougher — флотация\n",
    "- primary_cleaner — первичная очистка\n",
    "- secondary_cleaner — вторичная очистка\n",
    "- final — финальные характеристики\n",
    "\n",
    "**Возможные значения для блока [тип_параметра]:**\n",
    "- input — параметры сырья\n",
    "- output — параметры продукта\n",
    "- state — параметры, характеризующие текущее состояние этапа\n",
    "- calculation — расчётные характеристики"
   ]
  },
  {
   "cell_type": "markdown",
   "metadata": {
    "cellId": "7kmlikuk64d1jhnaqvw28"
   },
   "source": [
    "По выводу пяти строк исходных данных каждого датафрейма, можно заметить, что в тестовой выборке всего 53 колонки, а в полной и обучаемой выборке - 87 колонок с данными. Это означает, что не все признаки будут учитываться в модели машинного обучения. Некоторые параметры недоступны, потому что замеряются и/или рассчитываются значительно позже. Из-за этого в тестовой выборке отсутствуют некоторые признаки, которые могут быть в обучающей. Также в тестовом наборе нет целевых признаков.Так же из описания проекта, известно, что данные индексируются датой и временем получения информации (признак date). Соседние по времени параметры часто похожи."
   ]
  },
  {
   "cell_type": "markdown",
   "metadata": {
    "cellId": "tge7oyvggar4z83fipnzmb"
   },
   "source": [
    "Целевые признаки: \n",
    "- эффективность обогащения чернового концентрата **rougher.output.recovery**;\n",
    "- эффективность обогащения финального концентрата **final.output.recovery**."
   ]
  },
  {
   "cell_type": "markdown",
   "metadata": {
    "cellId": "sose65vrebqe61t8k3erb"
   },
   "source": [
    "Необходимо проверить, что эффективность обогащения rougher.output.recovery рассчитана правильно на обучаемой выборке. Для этого необходимо сравнить данные обучаемой выборки с рассчитанными данными и найти MAE (Mean Absolute Error) между расчётами и значением признака в данных."
   ]
  },
  {
   "cell_type": "markdown",
   "metadata": {
    "cellId": "h9uxofsqidql4dwc7awv6k"
   },
   "source": [
    "<div class=\"alert alert-block alert-success\">\n",
    "<b>Комментарий ревьюера👍:</b> Отлично, можем двигаться дальше!\n",
    "</div>"
   ]
  },
  {
   "cell_type": "markdown",
   "metadata": {
    "cellId": "hjimdmm2fedwm64z9v6bii"
   },
   "source": [
    "### Проверка расчета целевого признака rougher.output.recovery"
   ]
  },
  {
   "cell_type": "markdown",
   "metadata": {
    "cellId": "ufg28kvn9prjeo8297cg2m"
   },
   "source": [
    "Для рассчета эффективности необходимые следующие параметры: доля золота в концентрате после флотации/очистки - rougher.output.concentrate_au;\n",
    "доля золота в сырье/концентрате до флотации/очистки - rougher.input.feed_au;\n",
    "доля золота в отвальных хвостах после флотации/очистки - rougher.output.tail_au."
   ]
  },
  {
   "cell_type": "code",
   "execution_count": 10,
   "metadata": {
    "cellId": "e3gksgbh678g4ef3lbcsy5"
   },
   "outputs": [],
   "source": [
    "train_mae = train[['rougher.output.recovery', 'rougher.output.concentrate_au', 'rougher.input.feed_au', 'rougher.output.tail_au']]"
   ]
  },
  {
   "cell_type": "markdown",
   "metadata": {
    "cellId": "upb1zbp6sqnmdckh4uzi"
   },
   "source": [
    "Проверю, есть ли в созданном датасете пропуски, так как с пропуском в одной из колонок метрика эффективности не посчитается."
   ]
  },
  {
   "cell_type": "code",
   "execution_count": 11,
   "metadata": {
    "cellId": "re3s48671jgnamfc4j9ej"
   },
   "outputs": [
    {
     "data": {
      "text/plain": [
       "rougher.output.recovery          0\n",
       "rougher.output.concentrate_au    0\n",
       "rougher.input.feed_au            0\n",
       "rougher.output.tail_au           0\n",
       "dtype: int64"
      ]
     },
     "execution_count": 11,
     "metadata": {},
     "output_type": "execute_result"
    }
   ],
   "source": [
    "train_mae.isna().sum()"
   ]
  },
  {
   "cell_type": "markdown",
   "metadata": {
    "cellId": "g9qctfd0vxjxieq7959obn"
   },
   "source": [
    "Произведу рассчет MAE для каждого строки датасета."
   ]
  },
  {
   "cell_type": "code",
   "execution_count": 12,
   "metadata": {
    "cellId": "njkbg9k8qvcc5ddlcjpwm"
   },
   "outputs": [],
   "source": [
    "for i in range(len(train_mae)):\n",
    "    train_mae['rougher.output.recovery_calculated'] = (train_mae['rougher.output.concentrate_au']*(train_mae['rougher.input.feed_au']-train_mae['rougher.output.tail_au']))/(train_mae['rougher.input.feed_au']*(train_mae['rougher.output.concentrate_au']-train_mae['rougher.output.tail_au']))*100\n",
    "    train_mae['rougher.output.recovery_mae'] = abs(train_mae['rougher.output.recovery_calculated']-train_mae['rougher.output.recovery'])"
   ]
  },
  {
   "cell_type": "code",
   "execution_count": 13,
   "metadata": {
    "cellId": "gkp252i82bml4s4yvv3kfq"
   },
   "outputs": [
    {
     "data": {
      "text/html": [
       "<div>\n",
       "<style scoped>\n",
       "    .dataframe tbody tr th:only-of-type {\n",
       "        vertical-align: middle;\n",
       "    }\n",
       "\n",
       "    .dataframe tbody tr th {\n",
       "        vertical-align: top;\n",
       "    }\n",
       "\n",
       "    .dataframe thead th {\n",
       "        text-align: right;\n",
       "    }\n",
       "</style>\n",
       "<table border=\"1\" class=\"dataframe\">\n",
       "  <thead>\n",
       "    <tr style=\"text-align: right;\">\n",
       "      <th></th>\n",
       "      <th>rougher.output.recovery</th>\n",
       "      <th>rougher.output.concentrate_au</th>\n",
       "      <th>rougher.input.feed_au</th>\n",
       "      <th>rougher.output.tail_au</th>\n",
       "      <th>rougher.output.recovery_calculated</th>\n",
       "      <th>rougher.output.recovery_mae</th>\n",
       "    </tr>\n",
       "  </thead>\n",
       "  <tbody>\n",
       "    <tr>\n",
       "      <th>0</th>\n",
       "      <td>87.107763</td>\n",
       "      <td>19.793808</td>\n",
       "      <td>6.486150</td>\n",
       "      <td>1.170244</td>\n",
       "      <td>87.107763</td>\n",
       "      <td>0.000000e+00</td>\n",
       "    </tr>\n",
       "    <tr>\n",
       "      <th>1</th>\n",
       "      <td>86.843261</td>\n",
       "      <td>20.050975</td>\n",
       "      <td>6.478583</td>\n",
       "      <td>1.184827</td>\n",
       "      <td>86.843261</td>\n",
       "      <td>1.421085e-14</td>\n",
       "    </tr>\n",
       "    <tr>\n",
       "      <th>2</th>\n",
       "      <td>86.842308</td>\n",
       "      <td>19.737170</td>\n",
       "      <td>6.362222</td>\n",
       "      <td>1.162562</td>\n",
       "      <td>86.842308</td>\n",
       "      <td>1.421085e-14</td>\n",
       "    </tr>\n",
       "    <tr>\n",
       "      <th>3</th>\n",
       "      <td>87.226430</td>\n",
       "      <td>19.320810</td>\n",
       "      <td>6.118189</td>\n",
       "      <td>1.079755</td>\n",
       "      <td>87.226430</td>\n",
       "      <td>0.000000e+00</td>\n",
       "    </tr>\n",
       "    <tr>\n",
       "      <th>4</th>\n",
       "      <td>86.688794</td>\n",
       "      <td>19.216101</td>\n",
       "      <td>5.663707</td>\n",
       "      <td>1.012642</td>\n",
       "      <td>86.688794</td>\n",
       "      <td>0.000000e+00</td>\n",
       "    </tr>\n",
       "  </tbody>\n",
       "</table>\n",
       "</div>"
      ],
      "text/plain": [
       "   rougher.output.recovery  rougher.output.concentrate_au  \\\n",
       "0                87.107763                      19.793808   \n",
       "1                86.843261                      20.050975   \n",
       "2                86.842308                      19.737170   \n",
       "3                87.226430                      19.320810   \n",
       "4                86.688794                      19.216101   \n",
       "\n",
       "   rougher.input.feed_au  rougher.output.tail_au  \\\n",
       "0               6.486150                1.170244   \n",
       "1               6.478583                1.184827   \n",
       "2               6.362222                1.162562   \n",
       "3               6.118189                1.079755   \n",
       "4               5.663707                1.012642   \n",
       "\n",
       "   rougher.output.recovery_calculated  rougher.output.recovery_mae  \n",
       "0                           87.107763                 0.000000e+00  \n",
       "1                           86.843261                 1.421085e-14  \n",
       "2                           86.842308                 1.421085e-14  \n",
       "3                           87.226430                 0.000000e+00  \n",
       "4                           86.688794                 0.000000e+00  "
      ]
     },
     "execution_count": 13,
     "metadata": {},
     "output_type": "execute_result"
    }
   ],
   "source": [
    "train_mae.head()"
   ]
  },
  {
   "cell_type": "markdown",
   "metadata": {
    "cellId": "qva2j5c94fs7i692i9enyf"
   },
   "source": [
    "Посчитаю среднее значение MAE всего датасета, чтобы оценить, насколько сильно различаются значения рассчитанные и исходные."
   ]
  },
  {
   "cell_type": "code",
   "execution_count": 14,
   "metadata": {
    "cellId": "q9lq59ryuca17jx6282s53"
   },
   "outputs": [
    {
     "data": {
      "text/plain": [
       "9.73512347450521e-15"
      ]
     },
     "execution_count": 14,
     "metadata": {},
     "output_type": "execute_result"
    }
   ],
   "source": [
    "train_mae['rougher.output.recovery_mae'].mean()"
   ]
  },
  {
   "cell_type": "markdown",
   "metadata": {
    "cellId": "aozxw4bgh95va0157rdb4h"
   },
   "source": [
    " <div class=\"alert alert-block alert-success\">\n",
    "<b>Комментарий ревьюера👍:</b> Верно, полученное значение оказалось в достаточной степени маленьким, чтобы можно было утверждать о правильности рассчёта.\n",
    "</div>"
   ]
  },
  {
   "cell_type": "markdown",
   "metadata": {
    "cellId": "0oba9jvznlsdridsn2lx7kj"
   },
   "source": [
    "Среднее значение MAE для всего датасета train очень низкое, что позволяет сделать вывод о том, что целевой признак rougher.output.recovery посчитан верно и на этом датасете можно обучать модель."
   ]
  },
  {
   "cell_type": "markdown",
   "metadata": {
    "cellId": "w7bsh3ebdcoj6gbtw4acc"
   },
   "source": [
    "### Признаки, недоступные в тестовой выборке"
   ]
  },
  {
   "cell_type": "markdown",
   "metadata": {
    "cellId": "1tg6vb0gwv92ilvydulzf"
   },
   "source": [
    "Ранее было выявлено, что в тестовой выборке отсутствуют некоторые признаки. Рассмотрю их детальнее. Для того, чтобы выделить колонки, которые есть в обучаемом датасете, но нет в тестовом, воспользуюсь вычитанием."
   ]
  },
  {
   "cell_type": "code",
   "execution_count": 15,
   "metadata": {
    "cellId": "vil77p6jwxsxgbhh5i2p8m"
   },
   "outputs": [
    {
     "data": {
      "text/plain": [
       "{'final.output.concentrate_ag',\n",
       " 'final.output.concentrate_au',\n",
       " 'final.output.concentrate_pb',\n",
       " 'final.output.concentrate_sol',\n",
       " 'final.output.recovery',\n",
       " 'final.output.tail_ag',\n",
       " 'final.output.tail_au',\n",
       " 'final.output.tail_pb',\n",
       " 'final.output.tail_sol',\n",
       " 'primary_cleaner.output.concentrate_ag',\n",
       " 'primary_cleaner.output.concentrate_au',\n",
       " 'primary_cleaner.output.concentrate_pb',\n",
       " 'primary_cleaner.output.concentrate_sol',\n",
       " 'primary_cleaner.output.tail_ag',\n",
       " 'primary_cleaner.output.tail_au',\n",
       " 'primary_cleaner.output.tail_pb',\n",
       " 'primary_cleaner.output.tail_sol',\n",
       " 'rougher.calculation.au_pb_ratio',\n",
       " 'rougher.calculation.floatbank10_sulfate_to_au_feed',\n",
       " 'rougher.calculation.floatbank11_sulfate_to_au_feed',\n",
       " 'rougher.calculation.sulfate_to_au_concentrate',\n",
       " 'rougher.output.concentrate_ag',\n",
       " 'rougher.output.concentrate_au',\n",
       " 'rougher.output.concentrate_pb',\n",
       " 'rougher.output.concentrate_sol',\n",
       " 'rougher.output.recovery',\n",
       " 'rougher.output.tail_ag',\n",
       " 'rougher.output.tail_au',\n",
       " 'rougher.output.tail_pb',\n",
       " 'rougher.output.tail_sol',\n",
       " 'secondary_cleaner.output.tail_ag',\n",
       " 'secondary_cleaner.output.tail_au',\n",
       " 'secondary_cleaner.output.tail_pb',\n",
       " 'secondary_cleaner.output.tail_sol'}"
      ]
     },
     "execution_count": 15,
     "metadata": {},
     "output_type": "execute_result"
    }
   ],
   "source": [
    "features_not_in_test = set(train.columns) - set(test.columns)\n",
    "features_not_in_test"
   ]
  },
  {
   "cell_type": "markdown",
   "metadata": {
    "cellId": "otxqtwee6hb6l5v6i9rhd"
   },
   "source": [
    "Большинство из колонок, которых нет в тестовой выборке имеют значение блока [тип параметра] output - параметры продукта. Данные параметры по техническому процессу невозможно посчитать до стадии получения продукта, поэтому их значения в тестовой выборке и неизвестны. Четыре колонки имею тип параметра calculation - расчётные характеристики, которые так же невозможно посчитать до получения результата тех.процесса. Раз этих колонок нет в тестовой выборке, на них не должна обучаться модель, перед обучением модели, эти колокни должны быть удалены из обучаемой выборки. Колонки целевых признаков final.output.recovery, rougher.output.recovery необходимо будет оставить."
   ]
  },
  {
   "cell_type": "markdown",
   "metadata": {
    "cellId": "cbuy9nf41vpp70wft4l7g"
   },
   "source": [
    " <div class=\"alert alert-block alert-success\">\n",
    "<b>Комментарий ревьюера👍:</b> Верно. В тестовой выборке отсутствуют целевые признаки, а также параметры продукта и расчётные характеристики, имеющиеся в обучающей выборке. Эти параметры недоступны в test выборке, т.к. их невозможно получить/измерить во время выполнения технологического процесса.\n",
    "</div>"
   ]
  },
  {
   "cell_type": "markdown",
   "metadata": {
    "cellId": "rxu8ir5vhsw5om7twm92"
   },
   "source": [
    "### Предобработка данных "
   ]
  },
  {
   "cell_type": "markdown",
   "metadata": {
    "cellId": "bcq2ln0eh60z0a8e863a6q"
   },
   "source": [
    "Проверю, есть ли в полном датасете пропущенные значения в колонках."
   ]
  },
  {
   "cell_type": "code",
   "execution_count": 16,
   "metadata": {
    "cellId": "oauaq37xez3rz5d1fct1l"
   },
   "outputs": [
    {
     "data": {
      "text/plain": [
       "secondary_cleaner.output.tail_sol           1748\n",
       "rougher.input.floatbank11_xanthate           453\n",
       "rougher.state.floatbank10_e_air              436\n",
       "primary_cleaner.output.concentrate_sol       370\n",
       "secondary_cleaner.state.floatbank2_a_air     220\n",
       "final.output.concentrate_sol                 211\n",
       "rougher.input.feed_size                      145\n",
       "primary_cleaner.output.concentrate_pb        116\n",
       "primary_cleaner.input.xanthate               104\n",
       "final.output.tail_pb                         101\n",
       "rougher.input.feed_pb                        100\n",
       "rougher.input.feed_sol                        99\n",
       "primary_cleaner.output.tail_sol               62\n",
       "rougher.input.floatbank11_sulfate             44\n",
       "primary_cleaner.input.depressant              37\n",
       "rougher.input.floatbank10_sulfate             34\n",
       "primary_cleaner.input.sulfate                 24\n",
       "rougher.output.concentrate_sol                23\n",
       "secondary_cleaner.state.floatbank2_b_air      23\n",
       "primary_cleaner.output.tail_pb                21\n",
       "dtype: int64"
      ]
     },
     "execution_count": 16,
     "metadata": {},
     "output_type": "execute_result"
    }
   ],
   "source": [
    "full.isna().sum().sort_values(ascending=False).head(20)"
   ]
  },
  {
   "cell_type": "markdown",
   "metadata": {
    "cellId": "enx3kuvdvimsfkhb7r07r"
   },
   "source": [
    "Проверю, есть ли пропуски в целевых признаках."
   ]
  },
  {
   "cell_type": "code",
   "execution_count": 17,
   "metadata": {
    "cellId": "z7ijgok8oi6o4irzz2igk"
   },
   "outputs": [
    {
     "data": {
      "text/plain": [
       "final.output.recovery      0\n",
       "rougher.output.recovery    0\n",
       "dtype: int64"
      ]
     },
     "execution_count": 17,
     "metadata": {},
     "output_type": "execute_result"
    }
   ],
   "source": [
    "full[['final.output.recovery','rougher.output.recovery']].isna().sum().sort_values(ascending=False).head(20)"
   ]
  },
  {
   "cell_type": "markdown",
   "metadata": {
    "cellId": "27d9cfplnxwp0hs5u9v4m"
   },
   "source": [
    "Довольно много колонок имеют пропуски в значениях. Предобработку необходимо начать с заполнения пропущенных значений в признаках в датасетах. "
   ]
  },
  {
   "cell_type": "markdown",
   "metadata": {
    "cellId": "7jgst9chvnr27edcrkvh4n"
   },
   "source": [
    "В описании к проекту сказано, что данные индексируются датой и временем получения информации (признак date). Соседние по времени параметры часто похожи. Таким образом, пропуски можно заполнить значениями параметра из другой строки, в которой признак date максимально приближен к заполняемой строке. Для того, чтобы осущеcnвить данный способ замены пропусков, необходимо отсортировать данные по дате, чтобы пропущенное значение смогло стать аналогичным с корректным значением из предыдущей строки."
   ]
  },
  {
   "cell_type": "code",
   "execution_count": 18,
   "metadata": {
    "cellId": "21f839owi5clrgibcvk0f"
   },
   "outputs": [],
   "source": [
    "full = full.sort_values(by='date')\n",
    "train = train.sort_values(by='date')\n",
    "test = test.sort_values(by='date')"
   ]
  },
  {
   "cell_type": "markdown",
   "metadata": {
    "cellId": "p1vwnkevld4g3oidq5rle"
   },
   "source": [
    "Метод fillna с аргументом method='pad' сможет произвести замену пропусков на заполненное значение из предыдущей строки (с ближайшей датой замера)."
   ]
  },
  {
   "cell_type": "code",
   "execution_count": 19,
   "metadata": {
    "cellId": "o0zeutel6sjhp7k9g5kdwl"
   },
   "outputs": [],
   "source": [
    "full = full.fillna(method='pad')"
   ]
  },
  {
   "cell_type": "code",
   "execution_count": 20,
   "metadata": {
    "cellId": "8xbg79zj845sfbeqcbr31p"
   },
   "outputs": [
    {
     "data": {
      "text/plain": [
       "date                                          0\n",
       "final.output.concentrate_ag                   0\n",
       "final.output.concentrate_pb                   0\n",
       "final.output.concentrate_sol                  0\n",
       "final.output.concentrate_au                   0\n",
       "                                             ..\n",
       "secondary_cleaner.state.floatbank5_a_level    0\n",
       "secondary_cleaner.state.floatbank5_b_air      0\n",
       "secondary_cleaner.state.floatbank5_b_level    0\n",
       "secondary_cleaner.state.floatbank6_a_air      0\n",
       "secondary_cleaner.state.floatbank6_a_level    0\n",
       "Length: 87, dtype: int64"
      ]
     },
     "execution_count": 20,
     "metadata": {},
     "output_type": "execute_result"
    }
   ],
   "source": [
    "full.isna().sum()"
   ]
  },
  {
   "cell_type": "markdown",
   "metadata": {
    "cellId": "uuahw31uhflg53bd1zqte"
   },
   "source": [
    "Проверка. Все пропуски заполнились. Проверю на явные дубликаты."
   ]
  },
  {
   "cell_type": "code",
   "execution_count": 21,
   "metadata": {
    "cellId": "928snujsr2lgsfessb908"
   },
   "outputs": [
    {
     "data": {
      "text/plain": [
       "0"
      ]
     },
     "execution_count": 21,
     "metadata": {},
     "output_type": "execute_result"
    }
   ],
   "source": [
    "full.duplicated().sum()"
   ]
  },
  {
   "cell_type": "markdown",
   "metadata": {
    "cellId": "o0d4l6a0ktkdkoyqxytly"
   },
   "source": [
    "Дубликатов нет. Для выполнения дальнейшего шага проверю, что значения в колонке date уникальны."
   ]
  },
  {
   "cell_type": "code",
   "execution_count": 22,
   "metadata": {
    "cellId": "obezgjqz22mc1lx230a2c5"
   },
   "outputs": [
    {
     "name": "stdout",
     "output_type": "stream",
     "text": [
      "Уникальное кол-во значение в колокне date: 19439\n",
      "Все значения колонки date уникальны, можно использовать в качестве индексов.\n"
     ]
    }
   ],
   "source": [
    "print('Уникальное кол-во значение в колокне date:',full['date'].nunique())\n",
    "if full['date'].nunique() == len(full):\n",
    "    print('Все значения колонки date уникальны, можно использовать в качестве индексов.')\n",
    "else:\n",
    "    print('Значения в колокне date не уникальны, повторяются.')"
   ]
  },
  {
   "cell_type": "markdown",
   "metadata": {
    "cellId": "ryaetiqefooizhss2ecsn"
   },
   "source": [
    "Так как я заполнила пропуски в полном датасете, необходимо перенести полученные данные на обучаемую выборку и на тестовую выборку. Чтобы данные перенеслись корректно, я установлю в качестве индексов датасетов колонку date (в предыдущем шаге я убедилась, что значения в date уникальны и могут быть использованы в качестве индексов)."
   ]
  },
  {
   "cell_type": "code",
   "execution_count": 23,
   "metadata": {
    "cellId": "wdq641n039f68y0hllrlk"
   },
   "outputs": [],
   "source": [
    "full = full.set_index('date')\n",
    "train = train.set_index('date')\n",
    "test = test.set_index('date')"
   ]
  },
  {
   "cell_type": "markdown",
   "metadata": {
    "cellId": "zlajrmof0yv8157nms4te"
   },
   "source": [
    "Методом update заношу в обучаемую и тестовую выборки заполненные значения."
   ]
  },
  {
   "cell_type": "code",
   "execution_count": 24,
   "metadata": {
    "cellId": "yqxc4rexq8bcythj2pcd"
   },
   "outputs": [],
   "source": [
    "train.update(full)\n",
    "test.update(full)"
   ]
  },
  {
   "cell_type": "code",
   "execution_count": 25,
   "metadata": {
    "cellId": "fd9spwnr0j6e0j6a5s062i"
   },
   "outputs": [
    {
     "data": {
      "text/plain": [
       "final.output.concentrate_ag                   0\n",
       "final.output.concentrate_pb                   0\n",
       "final.output.concentrate_sol                  0\n",
       "final.output.concentrate_au                   0\n",
       "final.output.recovery                         0\n",
       "                                             ..\n",
       "secondary_cleaner.state.floatbank5_a_level    0\n",
       "secondary_cleaner.state.floatbank5_b_air      0\n",
       "secondary_cleaner.state.floatbank5_b_level    0\n",
       "secondary_cleaner.state.floatbank6_a_air      0\n",
       "secondary_cleaner.state.floatbank6_a_level    0\n",
       "Length: 86, dtype: int64"
      ]
     },
     "execution_count": 25,
     "metadata": {},
     "output_type": "execute_result"
    }
   ],
   "source": [
    "train.isna().sum()"
   ]
  },
  {
   "cell_type": "code",
   "execution_count": 26,
   "metadata": {
    "cellId": "clkqyy2r9hob2aboak79nm"
   },
   "outputs": [
    {
     "data": {
      "text/plain": [
       "primary_cleaner.input.sulfate                 0\n",
       "primary_cleaner.input.depressant              0\n",
       "primary_cleaner.input.feed_size               0\n",
       "primary_cleaner.input.xanthate                0\n",
       "primary_cleaner.state.floatbank8_a_air        0\n",
       "primary_cleaner.state.floatbank8_a_level      0\n",
       "primary_cleaner.state.floatbank8_b_air        0\n",
       "primary_cleaner.state.floatbank8_b_level      0\n",
       "primary_cleaner.state.floatbank8_c_air        0\n",
       "primary_cleaner.state.floatbank8_c_level      0\n",
       "primary_cleaner.state.floatbank8_d_air        0\n",
       "primary_cleaner.state.floatbank8_d_level      0\n",
       "rougher.input.feed_ag                         0\n",
       "rougher.input.feed_pb                         0\n",
       "rougher.input.feed_rate                       0\n",
       "rougher.input.feed_size                       0\n",
       "rougher.input.feed_sol                        0\n",
       "rougher.input.feed_au                         0\n",
       "rougher.input.floatbank10_sulfate             0\n",
       "rougher.input.floatbank10_xanthate            0\n",
       "rougher.input.floatbank11_sulfate             0\n",
       "rougher.input.floatbank11_xanthate            0\n",
       "rougher.state.floatbank10_a_air               0\n",
       "rougher.state.floatbank10_a_level             0\n",
       "rougher.state.floatbank10_b_air               0\n",
       "rougher.state.floatbank10_b_level             0\n",
       "rougher.state.floatbank10_c_air               0\n",
       "rougher.state.floatbank10_c_level             0\n",
       "rougher.state.floatbank10_d_air               0\n",
       "rougher.state.floatbank10_d_level             0\n",
       "rougher.state.floatbank10_e_air               0\n",
       "rougher.state.floatbank10_e_level             0\n",
       "rougher.state.floatbank10_f_air               0\n",
       "rougher.state.floatbank10_f_level             0\n",
       "secondary_cleaner.state.floatbank2_a_air      0\n",
       "secondary_cleaner.state.floatbank2_a_level    0\n",
       "secondary_cleaner.state.floatbank2_b_air      0\n",
       "secondary_cleaner.state.floatbank2_b_level    0\n",
       "secondary_cleaner.state.floatbank3_a_air      0\n",
       "secondary_cleaner.state.floatbank3_a_level    0\n",
       "secondary_cleaner.state.floatbank3_b_air      0\n",
       "secondary_cleaner.state.floatbank3_b_level    0\n",
       "secondary_cleaner.state.floatbank4_a_air      0\n",
       "secondary_cleaner.state.floatbank4_a_level    0\n",
       "secondary_cleaner.state.floatbank4_b_air      0\n",
       "secondary_cleaner.state.floatbank4_b_level    0\n",
       "secondary_cleaner.state.floatbank5_a_air      0\n",
       "secondary_cleaner.state.floatbank5_a_level    0\n",
       "secondary_cleaner.state.floatbank5_b_air      0\n",
       "secondary_cleaner.state.floatbank5_b_level    0\n",
       "secondary_cleaner.state.floatbank6_a_air      0\n",
       "secondary_cleaner.state.floatbank6_a_level    0\n",
       "dtype: int64"
      ]
     },
     "execution_count": 26,
     "metadata": {},
     "output_type": "execute_result"
    }
   ],
   "source": [
    "test.isna().sum()"
   ]
  },
  {
   "cell_type": "markdown",
   "metadata": {
    "cellId": "la7jnz3wxcurisdl2x4ag"
   },
   "source": [
    "Проверка. Все пропуски заполнились. Теперь добавлю в тестовую выборку целевые признаки final.output.recovery и rougher.output.recovery."
   ]
  },
  {
   "cell_type": "code",
   "execution_count": 27,
   "metadata": {
    "cellId": "qbbbefoitti975glmfq3o"
   },
   "outputs": [],
   "source": [
    "test['final.output.recovery'] = full['final.output.recovery']\n",
    "test['rougher.output.recovery'] = full['rougher.output.recovery']"
   ]
  },
  {
   "cell_type": "markdown",
   "metadata": {
    "cellId": "l2k7fhim0xi372jmacalfk"
   },
   "source": [
    "**Вывод:**\n",
    "- Три датасета с исходными данными изучены. Первый датасет - полные данные, второй - обучаемая выборка, третий - тестовая выборка. \n",
    "- Посчитанная средняя метрика Mean Absolute Error для значений rougher.output.recovery в обучаемой выборке очень низкая, что означает, что данный параметр посчитан верно. \n",
    "- В тестовой выборке нет нескольких колонок, большинство из них имеют тип парметра output, что означает, что данные параметры невозможно вычленить во время технического процесса, поэтому для обучения данные колокни применяться не будут. \n",
    "- Пропуски в полном датасете были заполнены методом fillna с параметром method='pad', что позволило заполнить пропуски значениями на ближайшую дату. \n",
    "- Дубликатов обнаружено не было. \n",
    "- В тестовую выборку добавлены целевые признаки.    "
   ]
  },
  {
   "cell_type": "markdown",
   "metadata": {
    "cellId": "u0emsc5k6da7q5cycecnm"
   },
   "source": [
    "## Анализ данных"
   ]
  },
  {
   "cell_type": "markdown",
   "metadata": {
    "cellId": "dtubr2v948w1b3rucozbd"
   },
   "source": [
    "### Концентрация металлов на различных этапах очистки"
   ]
  },
  {
   "cell_type": "markdown",
   "metadata": {
    "cellId": "a3c2xy9aknudmp9qzzfec"
   },
   "source": [
    "Этапы очистки:\n",
    "- rougher — флотация\n",
    "- primary_cleaner — первичная очистка\n",
    "- secondary_cleaner — вторичная очистка\n",
    "- final — финальные характеристики"
   ]
  },
  {
   "cell_type": "markdown",
   "metadata": {
    "cellId": "nxqvb1kna7qbcfi72q2g2m"
   },
   "source": [
    "Для того, чтобы визуально представить различие концентрации металлов Ag (серебро), Au (золото), Pb (свинец), построю гистограммы распределения концентрации на каждом из этапов очистки."
   ]
  },
  {
   "cell_type": "code",
   "execution_count": 28,
   "metadata": {
    "cellId": "gjucrw1rn8nm4x3veajfu"
   },
   "outputs": [
    {
     "data": {
      "text/plain": [
       "<matplotlib.legend.Legend at 0x7f0695da7670>"
      ]
     },
     "execution_count": 28,
     "metadata": {},
     "output_type": "execute_result"
    },
    {
     "data": {
      "image/png": "[encoded data removed]",
      "text/plain": [
       "<Figure size 432x288 with 1 Axes>"
      ]
     },
     "metadata": {
      "needs_background": "light"
     },
     "output_type": "display_data"
    }
   ],
   "source": [
    "plt.hist(train['rougher.output.concentrate_ag'],color = 'yellow', bins = 20, range = (0,20))\n",
    "plt.hist(train['primary_cleaner.output.concentrate_ag'] ,color = 'magenta', alpha = 0.6,bins = 20, range = (0,20))\n",
    "plt.hist(train['final.output.concentrate_ag'], color = 'lightblue', alpha = 0.8, bins = 20, range = (0,20))\n",
    "plt.xlabel('Концентрация')\n",
    "plt.ylabel('Частотность')\n",
    "plt.title('Концентрация Ag на различных этапах очистки')\n",
    "plt.legend(['rougher', 'primary', 'final'])"
   ]
  },
  {
   "cell_type": "markdown",
   "metadata": {
    "cellId": "lnoj9grp1vmgbnmv1m57a"
   },
   "source": [
    "На гистограмме распределения концентрации серебра на различных этапах очистки видно, что концентрация серебра с каждым этапом становится все ниже."
   ]
  },
  {
   "cell_type": "code",
   "execution_count": 29,
   "metadata": {
    "cellId": "325oquq4nij5nc3gdxppj"
   },
   "outputs": [
    {
     "data": {
      "text/plain": [
       "<matplotlib.legend.Legend at 0x7f0695c38370>"
      ]
     },
     "execution_count": 29,
     "metadata": {},
     "output_type": "execute_result"
    },
    {
     "data": {
      "image/png": "[encoded data removed]",
      "text/plain": [
       "<Figure size 432x288 with 1 Axes>"
      ]
     },
     "metadata": {
      "needs_background": "light"
     },
     "output_type": "display_data"
    }
   ],
   "source": [
    "plt.hist(train['rougher.output.concentrate_au'],color = 'yellow', bins = 20)\n",
    "plt.hist(train['primary_cleaner.output.concentrate_au'] ,color = 'magenta', alpha = 0.6,bins = 20)\n",
    "plt.hist(train['final.output.concentrate_au'], color = 'lightblue', alpha = 0.8, bins = 20)\n",
    "plt.xlabel('Концентрация')\n",
    "plt.ylabel('Частотность')\n",
    "plt.title('Концентрация Au на различных этапах очистки')\n",
    "plt.legend(['rougher', 'primary', 'final'])"
   ]
  },
  {
   "cell_type": "markdown",
   "metadata": {
    "cellId": "5fnwmf1gfgbzwxqbg9wc5"
   },
   "source": [
    "Концентрация золота заметно увеличивается с каждым этапом очистки, на финальном этапе среднее значение около 45%. Данная гистограмма наглядно показывает успешность восстановления золота. "
   ]
  },
  {
   "cell_type": "code",
   "execution_count": 30,
   "metadata": {
    "cellId": "riu08gqggcpvsi7wbzb4nb"
   },
   "outputs": [
    {
     "data": {
      "text/plain": [
       "<matplotlib.legend.Legend at 0x7f0695249640>"
      ]
     },
     "execution_count": 30,
     "metadata": {},
     "output_type": "execute_result"
    },
    {
     "data": {
      "image/png": "[encoded data removed]",
      "text/plain": [
       "<Figure size 432x288 with 1 Axes>"
      ]
     },
     "metadata": {
      "needs_background": "light"
     },
     "output_type": "display_data"
    }
   ],
   "source": [
    "plt.hist(train['rougher.output.concentrate_pb'],color = 'yellow', bins = 20, range = (0,20))\n",
    "plt.hist(train['primary_cleaner.output.concentrate_pb'],color = 'magenta', alpha = 0.6,bins = 20, range = (0,20))\n",
    "plt.hist(train['final.output.concentrate_pb'], color = 'lightblue', alpha = 0.8, bins = 20, range = (0,20))\n",
    "plt.xlabel('Концентрация')\n",
    "plt.ylabel('Частотность')\n",
    "plt.title('Концентрация Pb на различных этапах очистки')\n",
    "plt.legend(['rougher', 'primary', 'final'])"
   ]
  },
  {
   "cell_type": "markdown",
   "metadata": {
    "cellId": "7mvcu2kp5c275opurheon"
   },
   "source": [
    "Концентрация свинца повышается после этапа флотации, и примерно одинакова для этапов primary и final (распределение у primary чуть шире). "
   ]
  },
  {
   "cell_type": "markdown",
   "metadata": {
    "cellId": "47nmr45lnr50qxulzhj88e"
   },
   "source": [
    " <div class=\"alert alert-block alert-success\">\n",
    "<b>Комментарий ревьюера👍:</b> Верно\n",
    "</div>"
   ]
  },
  {
   "cell_type": "markdown",
   "metadata": {
    "cellId": "0ovxm4ephrx7j7l9008ua9"
   },
   "source": [
    "### Распределение размеров гранул сырья"
   ]
  },
  {
   "cell_type": "markdown",
   "metadata": {
    "cellId": "zyyg124qysva6q75a3tjn"
   },
   "source": [
    "Для того, чтобы визуально представить соответствие распределений размеров гранул сырья на двух выборках (обучаемой и тестовой), построю гистограммы распределения."
   ]
  },
  {
   "cell_type": "code",
   "execution_count": 31,
   "metadata": {
    "cellId": "dfe128ps017yfjpcyefwxj"
   },
   "outputs": [
    {
     "data": {
      "text/plain": [
       "<matplotlib.legend.Legend at 0x7f069512d160>"
      ]
     },
     "execution_count": 31,
     "metadata": {},
     "output_type": "execute_result"
    },
    {
     "data": {
      "image/png": "[encoded data removed]",
      "text/plain": [
       "<Figure size 432x288 with 1 Axes>"
      ]
     },
     "metadata": {
      "needs_background": "light"
     },
     "output_type": "display_data"
    }
   ],
   "source": [
    "plt.hist(train['rougher.input.feed_size'],color = 'orange', bins = 20, range = (20,150))\n",
    "plt.hist(test['rougher.input.feed_size'],color = 'red', alpha = 0.5,bins = 20, range = (20,150))\n",
    "plt.xlabel('Размер гранул сырья')\n",
    "plt.ylabel('Частотность')\n",
    "plt.title('Распределение размеров гранул сырья на этапе флотации')\n",
    "plt.legend(['train', 'test'])"
   ]
  },
  {
   "cell_type": "markdown",
   "metadata": {
    "cellId": "t107s6j1u8gt5kkbd9a7kd"
   },
   "source": [
    "На графике можно заметить, что распределения на этапе флотации схожи. Если распределения сильно отличаются друг от друга, оценка модели будет неправильной. В нашем случае, распределения сильно не отличаются."
   ]
  },
  {
   "cell_type": "code",
   "execution_count": 32,
   "metadata": {
    "cellId": "hu40dcv13jkw8q0xjydgcd"
   },
   "outputs": [
    {
     "data": {
      "text/plain": [
       "<matplotlib.legend.Legend at 0x7f0695093550>"
      ]
     },
     "execution_count": 32,
     "metadata": {},
     "output_type": "execute_result"
    },
    {
     "data": {
      "image/png": "[encoded data removed]",
      "text/plain": [
       "<Figure size 432x288 with 1 Axes>"
      ]
     },
     "metadata": {
      "needs_background": "light"
     },
     "output_type": "display_data"
    }
   ],
   "source": [
    "plt.hist(train['primary_cleaner.input.feed_size'],color = 'orange', bins = 20, range=(4,11))\n",
    "plt.hist(test['primary_cleaner.input.feed_size'],color = 'red', alpha = 0.5,bins = 20, range=(4,11))\n",
    "plt.xlabel('Размер гранул сырья')\n",
    "plt.ylabel('Частотность')\n",
    "plt.title('Распределение размеров гранул сырья на этапе первой очистки')\n",
    "plt.legend(['train', 'test'])"
   ]
  },
  {
   "cell_type": "markdown",
   "metadata": {
    "cellId": "cf6qnxdt4mef7tw095skec"
   },
   "source": [
    "На графике можно заметить, что распределения на этапе первой очистки так же схожи. Если распределения сильно отличаются друг от друга, оценка модели будет неправильной. В нашем случае, распределения сильно не отличаются. Так же пр сравнении двух графиков видно, что размер сырья снижается после флотации примерно в 10 раз."
   ]
  },
  {
   "cell_type": "markdown",
   "metadata": {
    "cellId": "6toh59vz7iqh0fqa50fmzn"
   },
   "source": [
    "<div class=\"alert alert-block alert-success\">\n",
    "<b>Комментарий ревьюера👍:</b> Видно, что на входе процесса стараются поддерживать размер гранул в 55-60 микрон, есть незначительное смещение распределения от нормального в сторону увеличения гранул. Также, на тестовой выборке имеется большее значение очень маленьких гранул. Визуально значительных различий между train и test не наблюдается\n",
    "</div>"
   ]
  },
  {
   "cell_type": "markdown",
   "metadata": {
    "cellId": "rqs4t5lbkvttyjxw5h31l"
   },
   "source": [
    "### Суммарная концентрация всех веществ на разных стадиях"
   ]
  },
  {
   "cell_type": "code",
   "execution_count": 33,
   "metadata": {
    "cellId": "r1jpr43o5japr6o92e8si"
   },
   "outputs": [],
   "source": [
    "full['rougher.input.feed_all'] = full['rougher.input.feed_ag']+full['rougher.input.feed_pb']+full['rougher.input.feed_sol']+full['rougher.input.feed_au']\n",
    "full['rougher.output.concentrate_all'] = full['rougher.output.concentrate_ag']+full['rougher.output.concentrate_pb']+full['rougher.output.concentrate_sol']+full['rougher.output.concentrate_au']\n",
    "full['primary_cleaner.output.concentrate_all'] = full['primary_cleaner.output.concentrate_ag']+full['primary_cleaner.output.concentrate_pb']+full['primary_cleaner.output.concentrate_sol']+full['primary_cleaner.output.concentrate_au']\n",
    "full['final.output_concentrate_all'] = full['final.output.concentrate_ag']+full['final.output.concentrate_pb']+full['final.output.concentrate_sol']+full['final.output.concentrate_au']"
   ]
  },
  {
   "cell_type": "code",
   "execution_count": 34,
   "metadata": {
    "cellId": "j6rp8qphdzaayl18g3c09"
   },
   "outputs": [
    {
     "data": {
      "text/plain": [
       "<matplotlib.legend.Legend at 0x7f0694dca070>"
      ]
     },
     "execution_count": 34,
     "metadata": {},
     "output_type": "execute_result"
    },
    {
     "data": {
      "image/png": "[encoded data removed]",
      "text/plain": [
       "<Figure size 432x288 with 1 Axes>"
      ]
     },
     "metadata": {
      "needs_background": "light"
     },
     "output_type": "display_data"
    }
   ],
   "source": [
    "plt.hist(full['rougher.input.feed_all'],color = 'pink', bins = 20)\n",
    "plt.hist(full['rougher.output.concentrate_all'],color = 'yellow', bins = 20)\n",
    "plt.hist(full['primary_cleaner.output.concentrate_all'],color = 'lightblue', alpha = 0.8, bins = 20)\n",
    "plt.hist(full['final.output_concentrate_all'],color = 'magenta', alpha = 0.6, bins = 20)\n",
    "\n",
    "plt.xlabel('Суммарная концентрация')\n",
    "plt.ylabel('Частотность')\n",
    "plt.title('Концентрация всех веществ на разных стадиях')\n",
    "plt.legend(['rougher.input', 'rougher.output', 'primary_cleaner.output', 'final.output'])"
   ]
  },
  {
   "cell_type": "markdown",
   "metadata": {
    "cellId": "a58tqqgi9iuowdjuphgwe8"
   },
   "source": [
    "На визуализации распределения суммарной концентрации всех веществ на разных стадиях можно заметить, что концентрация в сырье меньше всего, далее концентрация растет, так как в ходе технологического процесса флотации и очистки вымываются лишние примеси и остаются ценные вещества. Концентрация на этапе финального концентрата выше всего, среднее значение суммарной концентрации около 70%. Так же, можно заметить, что около 0 значительное количество значений, скорее всего данные не были записаны, так как технологический процесс был приостановлен или были какие-то сбои в оборудовании, которое проводит замеры. Значит, вполне возможно, что значения в остальных столбцах тоже будут некорректными. Поэтому лучше избавиться от таких строк целиком."
   ]
  },
  {
   "cell_type": "markdown",
   "metadata": {
    "cellId": "fzavefzsslvszlx6181nz"
   },
   "source": [
    "<div class=\"alert alert-block alert-success\">\n",
    "<b>Комментарий ревьюера👍:</b> Молодец, что \"убила\" нулевые аномалии. Дело в том, что хоть грамм чего-нибудь но есть в \"суммарной руде\"- соль+золото+серебро+свинец - точно что-то должно быть.. А если мы имеем ноль, значит большая вероятность неточности измерений. Общая идея какая с суммарной концентрацией: отдельно по каждой руде нуль может быть (взяли лопату руды - и нет там золота - не всегда же есть крупинки..). А вот нуль суммарно - это уже вряд ли (в этой лопате хоть что-то но будет).\n",
    "</div>"
   ]
  },
  {
   "cell_type": "markdown",
   "metadata": {
    "cellId": "g4tdwsnnyzf3qguotztrs4"
   },
   "source": [
    "Выделю в отдельный датафрейм те строки, в которых суммарная концентрация на стадиях переработки меньше единицы (то есть очень приближена к нулю). После этого удалю данные строки из обучаемой выборки и тестовой выборки."
   ]
  },
  {
   "cell_type": "code",
   "execution_count": 35,
   "metadata": {
    "cellId": "e27l3xm9ycfjhxbxim8n4"
   },
   "outputs": [],
   "source": [
    "full_to_drop = full[((full['rougher.input.feed_all'])<1)|((full['rougher.output.concentrate_all'])<1)|((full['primary_cleaner.output.concentrate_all'])<1)|((full['final.output_concentrate_all'])<1)]"
   ]
  },
  {
   "cell_type": "code",
   "execution_count": 36,
   "metadata": {
    "cellId": "f64sbra9z7l18dth0bt6p"
   },
   "outputs": [],
   "source": [
    "train = train.loc[~train.index.isin(full_to_drop.index)]\n",
    "test = test.loc[~test.index.isin(full_to_drop.index)]"
   ]
  },
  {
   "cell_type": "markdown",
   "metadata": {
    "cellId": "izv51f3e14mkuh3g81ez5e"
   },
   "source": [
    "**Вывод:**\n",
    "- Рассмотрение распределений различных металлов на различных этапах очистки позволяет сделать вывод о том, что концентрация серебра (Ag) заметной снижается с каждым последующим этапом очистки , распределение свинца (Pb) примерно одинаково на этапах очистки, а распределение золота (Au) увеличивается на каждом последующем этапе очистки. Это означает, что тех.процесс восстановления золота рабаотает успешно и концентрация золота увеличивается.\n",
    "- Сравнение распределений размеров сырья на этапе флотации и на этапе очистки у обучаемой выборки и тестовой выборки почти совпадает, это означает, что оценка модели будет корректная. Так же замечено, что размер вырья на этапе очистки снижается почти в 10 раз.\n",
    "- Суммарная концентрация ценных веществ (Ag, Au, Pb, Sol) на этапах увеличивается, это объясняется тем, что вымываются ненужные примеси.\n",
    "- Было выявлено, что суммарная концентрация в каких-то строках приближенна к нулю, что указывает на возможный сбой оборудования и тех.процессов, такие строки было решено удалить из всех датасетов."
   ]
  },
  {
   "cell_type": "markdown",
   "metadata": {
    "cellId": "45g58rf70vg4jbfwwuttfu"
   },
   "source": [
    "## Модель"
   ]
  },
  {
   "cell_type": "markdown",
   "metadata": {
    "cellId": "m3emec57fxbqpqnj7l20m"
   },
   "source": [
    "### Функция расчета метрики sMAPE"
   ]
  },
  {
   "cell_type": "code",
   "execution_count": 37,
   "metadata": {
    "cellId": "gfru4ycl40qeg71ho3m5z6"
   },
   "outputs": [],
   "source": [
    "def smape(target, prediction):\n",
    "    fraction = (abs(target-prediction)/((abs(target)+abs(prediction))/2)).sum()\n",
    "    smape = 1/len(target)*fraction*100\n",
    "    return smape"
   ]
  },
  {
   "cell_type": "code",
   "execution_count": 38,
   "metadata": {
    "cellId": "0hbajkuz0nh9ncxjevykz3r"
   },
   "outputs": [],
   "source": [
    "def total_smape(smape_rougher, smape_final):\n",
    "    total_smape = 0.25*smape_rougher+0.75*smape_final\n",
    "    return total_smape"
   ]
  },
  {
   "cell_type": "markdown",
   "metadata": {
    "cellId": "9q5r7khvn4rcv15hlvlyfi"
   },
   "source": [
    "### Обучение моделей"
   ]
  },
  {
   "cell_type": "markdown",
   "metadata": {
    "cellId": "z6ktfypcvbhq3ut2m7kjxp"
   },
   "source": [
    "В исследовании исходных данных было выявлено, что не все признаки, которые есть в обучаемой выборке, есть и в тестовой выборке. Поэтому для того, чтобы модель обучалась только на тех признаках, которые есть в тестовой выборке из нее надо удалить список колонок."
   ]
  },
  {
   "cell_type": "code",
   "execution_count": 39,
   "metadata": {
    "cellId": "wj8m4l8vnadpf3uf1sxe"
   },
   "outputs": [],
   "source": [
    "features_not_in_test = list(features_not_in_test)"
   ]
  },
  {
   "cell_type": "code",
   "execution_count": 40,
   "metadata": {
    "cellId": "h51kminjn5vmev2imblmd"
   },
   "outputs": [],
   "source": [
    "target_columns = ['final.output.recovery','rougher.output.recovery']"
   ]
  },
  {
   "cell_type": "code",
   "execution_count": 41,
   "metadata": {
    "cellId": "jq01zwnlg2lp6qytotoi"
   },
   "outputs": [],
   "source": [
    "for column in target_columns:\n",
    "   if column in features_not_in_test:\n",
    "      features_not_in_test.remove(column)"
   ]
  },
  {
   "cell_type": "code",
   "execution_count": 42,
   "metadata": {
    "cellId": "2mg9kqjbji3qxkawe6agc"
   },
   "outputs": [],
   "source": [
    "train = train.drop(features_not_in_test, axis=1)"
   ]
  },
  {
   "cell_type": "markdown",
   "metadata": {
    "cellId": "toxywbgnesktq5zo3e0ggf"
   },
   "source": [
    "Разделю колонки обучаемовой и тестовой выборок на признаки и целевые признаки."
   ]
  },
  {
   "cell_type": "code",
   "execution_count": 43,
   "metadata": {
    "cellId": "729l9xjr1pv77j8n2n6rp"
   },
   "outputs": [],
   "source": [
    "features_train_rougher = train.drop(['final.output.recovery','rougher.output.recovery'], axis=1)\n",
    "features_train_final = features_train_rougher\n",
    "target_train_rougher = train['rougher.output.recovery']\n",
    "target_train_final = train['final.output.recovery']\n",
    "\n",
    "features_test_rougher = test.drop(['final.output.recovery','rougher.output.recovery'], axis=1)\n",
    "features_test_final = features_test_rougher\n",
    "target_test_rougher = test['rougher.output.recovery']\n",
    "target_test_final = test['final.output.recovery']"
   ]
  },
  {
   "cell_type": "markdown",
   "metadata": {
    "cellId": "n9cxcl9j74e2q85zrgjql9"
   },
   "source": [
    "Проведу масштабирование признаков для обучаемой и тестовой выборок."
   ]
  },
  {
   "cell_type": "code",
   "execution_count": 44,
   "metadata": {
    "cellId": "cpbv3p9aktdl72cacapk2n"
   },
   "outputs": [],
   "source": [
    "scaler_rougher = StandardScaler()\n",
    "scaler_rougher.fit(features_train_rougher)\n",
    "\n",
    "features_train_rougher = scaler_rougher.transform(features_train_rougher)\n",
    "features_train_final = features_train_rougher\n",
    "features_test_rougher = scaler_rougher.transform(features_test_rougher)\n",
    "features_test_final = features_test_rougher"
   ]
  },
  {
   "cell_type": "markdown",
   "metadata": {
    "cellId": "mnbimtmsc7anmijs87smeh"
   },
   "source": [
    "Сравню метрики sMAPE у разных моделей с параметрами по умолчанию. Далее для той модели, у какой метрика будет лучше, буду подбирать гиперпараметры для улучшения результатов модели."
   ]
  },
  {
   "cell_type": "code",
   "execution_count": 45,
   "metadata": {
    "cellId": "fyah5i04sgo1hpwl9jw2l"
   },
   "outputs": [],
   "source": [
    "smape_score = make_scorer(smape, greater_is_better=False)"
   ]
  },
  {
   "cell_type": "markdown",
   "metadata": {
    "cellId": "j031g3o5qvvz4sfwaks6h"
   },
   "source": [
    "<div class=\"alert alert-block alert-danger\">\n",
    "<b>Комментарий ревьюера❌:</b> Тут допущена ошибка, так как sMAPE - это симметричная средняя абсолютная ошибка, которую нужно минимизировать. Функция make_scorer по дефолту максимизирует (greater_is_better=True). Как результат дальше ты получила очень высокий sMAPE. Поэтому, пожалуйста, доработай функцию и пересчитай модели.\n",
    "</div>"
   ]
  },
  {
   "cell_type": "markdown",
   "metadata": {
    "cellId": "6fqiyvvku8l6g3tpmsiq1v"
   },
   "source": [
    "<div class=\"alert alert-block alert-info\">\n",
    "<b>Комментарий студента:</b> Добавила параметр greater_is_better=False.\n",
    "</div>"
   ]
  },
  {
   "cell_type": "markdown",
   "metadata": {},
   "source": [
    "<div class=\"alert alert-block alert-success\">\n",
    "<b>Комментарий ревьюера V.2👍:</b> Хорошо =)\n",
    "</div>"
   ]
  },
  {
   "cell_type": "markdown",
   "metadata": {
    "cellId": "0ajspt70b8vdgtvupqbxxvk"
   },
   "source": [
    "Sklearn умеет только максимизировать метрики. Нам же нужно минимизировать метрику sMAPE. Максимизация отрицательной метрики равна минимизации исходной. Поэтому умножу полученные скоры из кросс-валидации на -1 в каждой модели."
   ]
  },
  {
   "cell_type": "markdown",
   "metadata": {
    "cellId": "n24otkvsyfj8rvdblxqzl9"
   },
   "source": [
    "Модель Линейной Регрессии:"
   ]
  },
  {
   "cell_type": "code",
   "execution_count": 46,
   "metadata": {
    "cellId": "3hub3imwoerrke7xt6gvok"
   },
   "outputs": [
    {
     "name": "stdout",
     "output_type": "stream",
     "text": [
      "LinearRegression()\n",
      "Средняя метрика sMAPE для rougher.output.recovery: 7.282138560672936\n",
      "Средняя метрика sMAPE для final.output.recovery: 11.0273811600174\n",
      "Итоговая метрика sMAPE: 10.091070510181284\n"
     ]
    }
   ],
   "source": [
    "model = LinearRegression()\n",
    "smape_rougher = -1*cross_val_score(model, features_train_rougher, target_train_rougher, scoring=smape_score, cv=5).mean()\n",
    "smape_final = -1*cross_val_score(model, features_train_final, target_train_final, scoring=smape_score, cv=5).mean()\n",
    "smape_total = total_smape(smape_rougher, smape_final)\n",
    "print(model)\n",
    "print('Средняя метрика sMAPE для rougher.output.recovery:', smape_rougher)\n",
    "print('Средняя метрика sMAPE для final.output.recovery:', smape_final)\n",
    "print('Итоговая метрика sMAPE:', smape_total)"
   ]
  },
  {
   "cell_type": "markdown",
   "metadata": {
    "cellId": "yohh8vvcxy79jp0qybb8g"
   },
   "source": [
    "Модель Дерева Решений:"
   ]
  },
  {
   "cell_type": "code",
   "execution_count": 47,
   "metadata": {
    "cellId": "wmlhybdx1oyslpzp1jzs"
   },
   "outputs": [
    {
     "name": "stdout",
     "output_type": "stream",
     "text": [
      "DecisionTreeRegressor(random_state=12345)\n",
      "Средняя метрика sMAPE для rougher.output.recovery: 9.184026550634993\n",
      "Средняя метрика sMAPE для final.output.recovery: 16.851930428771134\n",
      "Итоговая метрика sMAPE: 14.934954459237098\n"
     ]
    }
   ],
   "source": [
    "model = DecisionTreeRegressor(random_state=12345)\n",
    "smape_rougher = -1*cross_val_score(model, features_train_rougher, target_train_rougher, scoring=smape_score, cv=5).mean()\n",
    "smape_final = -1*cross_val_score(model, features_train_final, target_train_final, scoring=smape_score, cv=5).mean()\n",
    "smape_total = total_smape(smape_rougher, smape_final)\n",
    "print(model)\n",
    "print('Средняя метрика sMAPE для rougher.output.recovery:', smape_rougher)\n",
    "print('Средняя метрика sMAPE для final.output.recovery:', smape_final)\n",
    "print('Итоговая метрика sMAPE:', smape_total)"
   ]
  },
  {
   "cell_type": "markdown",
   "metadata": {
    "cellId": "0nm6m2crstck6tn7u9rdlb"
   },
   "source": [
    "Модель Случайного Леса:"
   ]
  },
  {
   "cell_type": "code",
   "execution_count": null,
   "metadata": {
    "cellId": "7e9awkjz8r2ymelwhyy6f"
   },
   "outputs": [],
   "source": [
    "model = RandomForestRegressor(random_state=12345)\n",
    "smape_rougher = -1*cross_val_score(model, features_train_rougher, target_train_rougher, scoring=smape_score, cv=5).mean()\n",
    "smape_final = -1*cross_val_score(model, features_train_final, target_train_final, scoring=smape_score, cv=5).mean()\n",
    "smape_total = total_smape(smape_rougher, smape_final)\n",
    "print(model)\n",
    "print('Средняя метрика sMAPE для rougher.output.recovery:', smape_rougher)\n",
    "print('Средняя метрика sMAPE для final.output.recovery:', smape_final)\n",
    "print('Итоговая метрика sMAPE:', smape_total)"
   ]
  },
  {
   "cell_type": "code",
   "execution_count": null,
   "metadata": {
    "cellId": "fiwm5kdyskvc0hmfd7c0d7"
   },
   "outputs": [],
   "source": [
    "best_model = None\n",
    "best_result = 10\n",
    "\n",
    "for est in range(10, 51, 10):\n",
    "    for depth in range (1, 11, 2):\n",
    "        \n",
    "        model = RandomForestRegressor(random_state=12345, n_estimators=est, max_depth=depth)\n",
    "        smape_score = make_scorer(smape, greater_is_better=False)\n",
    "        result_smape_rougher = -1*cross_val_score(model, features_train_rougher, target_train_rougher, cv=5, scoring=smape_score, n_jobs=-1).mean()  \n",
    "        \n",
    "        if result_smape_rougher < best_result:\n",
    "            best_model = model\n",
    "            best_result = result_smape_rougher\n",
    "\n",
    "print(\"Метрика sMAPE для rougher.output.recovery лучшей модели случайного леса:\", best_result, best_model)"
   ]
  },
  {
   "cell_type": "code",
   "execution_count": null,
   "metadata": {
    "cellId": "pcn72mp8fudtezr71hfyp"
   },
   "outputs": [],
   "source": [
    "best_model = None\n",
    "best_result = 10\n",
    "\n",
    "for est in range(10, 51, 10):\n",
    "    for depth in range (1, 11):\n",
    "        \n",
    "        model = RandomForestRegressor(random_state=12345, n_estimators=est, max_depth=depth) \n",
    "        smape_score = make_scorer(smape, greater_is_better=False)\n",
    "        result_smape_final = -1*cross_val_score(model, features_train_final, target_train_final, cv=5, scoring=smape_score, n_jobs=-1).mean()  \n",
    "        \n",
    "        if result_smape_final < best_result:\n",
    "            best_model = model\n",
    "            best_result = result_smape_final\n",
    "\n",
    "print(\"Метрика sMAPE для final.output.recovery лучшей модели случайного леса:\", best_result, best_model)"
   ]
  },
  {
   "cell_type": "code",
   "execution_count": null,
   "metadata": {
    "cellId": "2o494hvg10a3ilpwommgxt"
   },
   "outputs": [],
   "source": [
    "result_total_smape = total_smape(result_smape_rougher,result_smape_final)\n",
    "print('Итоговая метрика sMAPE лучшей модели случайного леса:', result_total_smape)"
   ]
  },
  {
   "cell_type": "markdown",
   "metadata": {
    "cellId": "djaeceeu0uuwbs64eutm3k"
   },
   "source": [
    "### Проверка модели на тестовой выборке"
   ]
  },
  {
   "cell_type": "code",
   "execution_count": null,
   "metadata": {
    "cellId": "6g8ooac48ju7g2x1am3fdg"
   },
   "outputs": [],
   "source": [
    "model_rougher = RandomForestRegressor(random_state=12345, n_estimators=50, max_depth=5) \n",
    "model_rougher.fit(features_train_rougher, target_train_rougher)\n",
    "predictions_rougher = model_rougher.predict(features_test_rougher)\n",
    "\n",
    "model_final = RandomForestRegressor(random_state=12345, n_estimators=50, max_depth=4) \n",
    "model_final.fit(features_train_final, target_train_final)\n",
    "predictions_final = model_final.predict(features_test_final)"
   ]
  },
  {
   "cell_type": "code",
   "execution_count": null,
   "metadata": {
    "cellId": "u8ik2azcrm9pif3ybjohoh"
   },
   "outputs": [],
   "source": [
    "smape_rougher = smape(target_test_rougher, predictions_rougher)\n",
    "smape_final = smape(target_test_final, predictions_final)"
   ]
  },
  {
   "cell_type": "code",
   "execution_count": null,
   "metadata": {
    "cellId": "rlcilhbpo5qlcmvky8hv5p"
   },
   "outputs": [],
   "source": [
    "total_smape = total_smape(smape_rougher, smape_final)"
   ]
  },
  {
   "cell_type": "code",
   "execution_count": null,
   "metadata": {
    "cellId": "jtg2f8ah3oi9q7m7g18yuw"
   },
   "outputs": [],
   "source": [
    "print(\"Метрика sMAPE для rougher.output.recovery лучшей модели случайного леса на тестовой выборке:\", smape_rougher)\n",
    "print(\"Метрика sMAPE для final.output.recovery лучшей модели случайного леса на тестовой выборке:\", smape_final)\n",
    "print(\"Итоговая метрика sMAPE лучшей модели случайного леса на тестовой выборке:\", total_smape)"
   ]
  },
  {
   "cell_type": "markdown",
   "metadata": {
    "cellId": "glass0cl1w8amjsxzcrndm"
   },
   "source": [
    "Посчитаю итоговую метрику sMAPE , обучая модель DummyRegressor, то есть константную модель обучения."
   ]
  },
  {
   "cell_type": "code",
   "execution_count": null,
   "metadata": {
    "cellId": "l1368unp6r8socldq35wvm"
   },
   "outputs": [],
   "source": [
    "model_dummy = DummyRegressor() \n",
    "model_dummy.fit(features_train_rougher, target_train_rougher)\n",
    "predictions_rougher = model_dummy.predict(features_test_rougher)\n",
    "model_dummy.fit(features_train_final, target_train_final)\n",
    "predictions_final = model_dummy.predict(features_test_final)\n",
    "\n",
    "smape_rougher = smape(target_test_rougher, predictions_rougher)\n",
    "smape_final = smape(target_test_final, predictions_final)\n",
    "\n",
    "total_smape = total_smape(smape_rougher, smape_final)\n",
    "print(\"Итоговая метрика sMAPE dummy regressor:\", total_smape)"
   ]
  },
  {
   "cell_type": "markdown",
   "metadata": {
    "cellId": "xfq9m5yq7nhz7oej8inv7"
   },
   "source": [
    "**Вывод:** итоговая метрика sMAPE лучшей модели случайного леса на тестовой выборке меньше, чем та же самая метрика модели dummy regressor, это означает, что модель обучилась хорошо."
   ]
  },
  {
   "cell_type": "markdown",
   "metadata": {
    "cellId": "rribfgm700nr4mcaezu1vd"
   },
   "source": [
    "## Вывод"
   ]
  },
  {
   "cell_type": "markdown",
   "metadata": {
    "cellId": "9veemykdjv4qkxhb7stsx"
   },
   "source": [
    "1. Исходные данные изучены, целевой признак rougher.output.recovery в обучаемой выборке был рассчитан верно, так как метрика MAE очень низкая. Были выявлены столбцы, которых нет в тестовой выборке, они были удалены при дальнейшем обучении модели. Пропущенные значения в датасетах были заполнены значениями на ближайшую дату замера. \n",
    "2. - Распределения концентраций металлов на различных этапах показывают, что концентрация серебра уменьшается при каждом последующем этапе,концентрация свница остается примерно на прежнем уровне, концентрация золота увеличивается, что позволяет сделать вывод о том, что технический процесс проходит успешно и золото восстанавливается.\n",
    "- Сравнение распределений размеров сырья на этапе флотации и на этапе очистки у обучаемой выборки и тестовой выборки почти совпадает, это означает, что оценка модели будет корректная. Так же замечено, что размер вырья на этапе очистки снижается почти в 10 раз.\n",
    "- Суммарная концентрация ценных веществ (Ag, Au, Pb, Sol) на этапах увеличивается, это объясняется тем, что вымываются ненужные примеси.\n",
    "- Было выявлено, что суммарная концентрация в каких-то строках приближенна к нулю, что указывает на возможный сбой оборудования и тех.процессов, такие строки было решено удалить из всех датасетов.\n",
    "3. Была подготовлена функция расчета метрики sMAPE. С помощью кросс-валидации была вычислена данная метрика, используя различные модели регрессии машинного обучения, использую параметры по умолчанию. Лучший результат показала модель Случайного Леса в Регрессии. Были найдены лучшие параметры для модели: для предсказаний целевого признака rougher.output.recovery - max_depth=5, n_estimators=50, для предсказаний целевого признака final.output.recovery - max_depth=4, n_estimators=50. Модель с данными гиперпараметрами была проверена на тестовой выборке, итоговая метрика sMAPE на тестовой выборке - 7.35. Это означает, что симметричное среднее абсолютное процентное отклонение равно 7.35%. Итоговая метрика sMAPE лучшей модели случайного леса на тестовой выборке меньше, чем та же самая метрика модели dummy regressor, это означает, что модель обучилась хорошо."
   ]
  },
  {
   "cell_type": "markdown",
   "metadata": {
    "cellId": "u3dm9qyjoxl0pwuvu280k"
   },
   "source": [
    "<div class=\"alert alert-block alert-danger\">\n",
    "<b>Комментарий ревьюера❌:</b> Спасибо тебе за проделанную работу! Мне понравился твой проект. Полностью описан ход решения, даны все необходимые пояснения, выводы полные и логичные. К сожалению, сейчас я не могу его принять, так как у тебя допущена ошибка внутри make_scorer. Я уверена, что ты быстро это исправишь.\n",
    "\n",
    "Если у тебя есть какие-то вопросы или ты хочешь какую-то подборку статей, то обязательно пиши =)\n",
    "</div>"
   ]
  },
  {
   "cell_type": "markdown",
   "metadata": {
    "cellId": "e4f2grxxxmdifods3xku7o"
   },
   "source": [
    "<div class=\"alert alert-block alert-info\">\n",
    "<b>Комментарий студента:</b> Я исправила метрику make_scorer, добавила туда нелостающий параметр. Из-за того, что нам необходимо посчитать минимизацию, умножала значения на -1 в моделях. И результат получился ровно такой же, как и в предыдущем варианте моего проекта. Гиперпараметры подобрались тоже точно такие же. ПОэтому у\n",
    "</div>"
   ]
  },
  {
   "cell_type": "markdown",
   "metadata": {},
   "source": [
    "<div class=\"alert alert-block alert-success\">\n",
    "    <b>Комментарий ревьюера V.2👍:</b> К сожалению, у меня намертво всё зависает при попытке обновить ядро, поэтому я не могу переиграть параметры. Итоговое sMAPE у тебя 7.35, это более чем достаточно для сдачи проекта. Мой комментарий по большей части относился к дереву решений. В целом тут невозможно получить показатель прям значительно лучше константной модели. Поэтому всё абсолютно окей. Перебор параметров можно было бы провести не с помощью цикла, а посредством функции Gridsearchcv или Randomizedsearchcv. Статья про разницу между ними: https://towardsdatascience.com/gridsearchcv-or-randomsearchcv-5aa4acf5348c#:~:text=RandomSearchCV%20has%20the%20same%20purpose,parameters%20to%20improve%20your%20model.&text=The%20main%20difference%20between%20the,want%20to%20sample%20and%20test. И просто очень большая статья по их применению: https://machinelearningmastery.com/hyperparameter-optimization-with-random-search-and-grid-search/.\n",
    "    \n",
    "Совет на будущее касательно оформления кода: старайся не писать всё в одну длинную строчку, чтобы было необходимо использовать колёсико. Руководство по общепринятому оформлению: https://pythonworld.ru/osnovy/pep-8-rukovodstvo-po-napisaniyu-koda-na-python.html\n",
    "    \n",
    "Удачи в будущих проектах и работе =)\n",
    "    \n",
    "</div>"
   ]
  },
  {
   "cell_type": "markdown",
   "metadata": {
    "cellId": "o102zasu87rf5p4ivrjruk"
   },
   "source": [
    "## Чек-лист готовности проекта"
   ]
  },
  {
   "cell_type": "markdown",
   "metadata": {
    "cellId": "8gzhsyj2m941c23kbz4lv"
   },
   "source": [
    "- [x]  Jupyter Notebook открыт\n",
    "- [x]  Весь код выполняется без ошибок\n",
    "- [x]  Ячейки с кодом расположены в порядке выполнения\n",
    "- [x]  Выполнен шаг 1: данные подготовлены\n",
    "    - [x]  Проверена формула вычисления эффективности обогащения\n",
    "    - [x]  Проанализированы признаки, недоступные в тестовой выборке\n",
    "    - [x]  Проведена предобработка данных\n",
    "- [x]  Выполнен шаг 2: данные проанализированы\n",
    "    - [x]  Исследовано изменение концентрации элементов на каждом этапе\n",
    "    - [x]  Проанализированы распределения размеров гранул на обучающей и тестовой выборках\n",
    "    - [x]  Исследованы суммарные концентрации\n",
    "- [x]  Выполнен шаг 3: построена модель прогнозирования\n",
    "    - [x]  Написана функция для вычисления итогового *sMAPE*\n",
    "    - [x]  Обучено и проверено несколько моделей\n",
    "    - [x]  Выбрана лучшая модель, её качество проверено на тестовой выборке"
   ]
  }
 ],
 "metadata": {
  "ExecuteTimeLog": [
   {
    "duration": 28,
    "start_time": "2022-03-19T21:55:25.423Z"
   },
   {
    "duration": 26594,
    "start_time": "2022-03-19T21:55:25.463Z"
   },
   {
    "duration": 5782,
    "start_time": "2022-03-19T21:55:52.061Z"
   },
   {
    "duration": 2012,
    "start_time": "2022-03-19T21:55:57.846Z"
   },
   {
    "duration": 1793,
    "start_time": "2022-03-19T21:55:59.861Z"
   },
   {
    "duration": 501,
    "start_time": "2022-03-19T21:56:01.657Z"
   },
   {
    "duration": 5,
    "start_time": "2022-03-19T21:56:02.163Z"
   },
   {
    "duration": 475,
    "start_time": "2022-03-19T21:56:02.171Z"
   },
   {
    "duration": 13,
    "start_time": "2022-03-19T21:56:02.649Z"
   },
   {
    "duration": 85,
    "start_time": "2022-03-19T21:56:02.668Z"
   },
   {
    "duration": 10,
    "start_time": "2022-03-19T21:56:02.760Z"
   },
   {
    "duration": 118900,
    "start_time": "2022-03-19T21:56:02.850Z"
   },
   {
    "duration": 16,
    "start_time": "2022-03-19T21:58:01.753Z"
   },
   {
    "duration": 80,
    "start_time": "2022-03-19T21:58:01.771Z"
   },
   {
    "duration": 96,
    "start_time": "2022-03-19T21:58:01.854Z"
   },
   {
    "duration": 106,
    "start_time": "2022-03-19T21:58:01.952Z"
   },
   {
    "duration": 10,
    "start_time": "2022-03-19T21:58:02.061Z"
   },
   {
    "duration": 284,
    "start_time": "2022-03-19T21:58:02.074Z"
   },
   {
    "duration": 93,
    "start_time": "2022-03-19T21:58:02.361Z"
   },
   {
    "duration": 90,
    "start_time": "2022-03-19T21:58:02.457Z"
   },
   {
    "duration": 611,
    "start_time": "2022-03-19T21:58:02.553Z"
   },
   {
    "duration": 91,
    "start_time": "2022-03-19T21:58:03.166Z"
   },
   {
    "duration": 97,
    "start_time": "2022-03-19T21:58:03.263Z"
   },
   {
    "duration": 291,
    "start_time": "2022-03-19T21:58:03.363Z"
   },
   {
    "duration": 14,
    "start_time": "2022-03-19T21:58:03.657Z"
   },
   {
    "duration": 18,
    "start_time": "2022-03-19T21:58:03.747Z"
   },
   {
    "duration": 87,
    "start_time": "2022-03-19T21:58:03.768Z"
   },
   {
    "duration": 1486,
    "start_time": "2022-03-19T21:58:03.863Z"
   },
   {
    "duration": 1308,
    "start_time": "2022-03-19T21:58:05.352Z"
   },
   {
    "duration": 1987,
    "start_time": "2022-03-19T21:58:06.664Z"
   },
   {
    "duration": 1307,
    "start_time": "2022-03-19T21:58:08.657Z"
   },
   {
    "duration": 1282,
    "start_time": "2022-03-19T21:58:09.967Z"
   },
   {
    "duration": 14,
    "start_time": "2022-03-19T21:58:11.261Z"
   },
   {
    "duration": 1787,
    "start_time": "2022-03-19T21:58:11.277Z"
   },
   {
    "duration": 106,
    "start_time": "2022-03-19T21:58:13.067Z"
   },
   {
    "duration": 82,
    "start_time": "2022-03-19T21:58:13.177Z"
   },
   {
    "duration": 87,
    "start_time": "2022-03-19T21:58:13.261Z"
   },
   {
    "duration": 21,
    "start_time": "2022-03-19T21:58:13.353Z"
   },
   {
    "duration": 84,
    "start_time": "2022-03-19T21:58:13.376Z"
   },
   {
    "duration": 80,
    "start_time": "2022-03-19T21:58:13.463Z"
   },
   {
    "duration": 6,
    "start_time": "2022-03-19T21:58:13.546Z"
   },
   {
    "duration": 93,
    "start_time": "2022-03-19T21:58:13.554Z"
   },
   {
    "duration": 16,
    "start_time": "2022-03-19T21:58:13.655Z"
   },
   {
    "duration": 177,
    "start_time": "2022-03-19T21:58:13.673Z"
   },
   {
    "duration": 4,
    "start_time": "2022-03-19T21:58:13.859Z"
   },
   {
    "duration": 10384,
    "start_time": "2022-03-19T21:58:13.865Z"
   },
   {
    "duration": 40494,
    "start_time": "2022-03-19T21:58:24.253Z"
   },
   {
    "duration": 8,
    "start_time": "2022-03-19T22:04:44.542Z"
   },
   {
    "duration": 26207,
    "start_time": "2022-03-19T22:04:44.553Z"
   },
   {
    "duration": 6189,
    "start_time": "2022-03-19T22:05:10.763Z"
   },
   {
    "duration": 2001,
    "start_time": "2022-03-19T22:05:16.960Z"
   },
   {
    "duration": 1597,
    "start_time": "2022-03-19T22:05:18.964Z"
   },
   {
    "duration": 591,
    "start_time": "2022-03-19T22:05:20.567Z"
   },
   {
    "duration": 4,
    "start_time": "2022-03-19T22:05:21.161Z"
   },
   {
    "duration": 503,
    "start_time": "2022-03-19T22:05:21.167Z"
   },
   {
    "duration": 89,
    "start_time": "2022-03-19T22:05:21.673Z"
   },
   {
    "duration": 7,
    "start_time": "2022-03-19T22:05:21.766Z"
   },
   {
    "duration": 22,
    "start_time": "2022-03-19T22:05:21.847Z"
   },
   {
    "duration": 104089,
    "start_time": "2022-03-19T22:05:21.871Z"
   },
   {
    "duration": 15,
    "start_time": "2022-03-19T22:07:05.962Z"
   },
   {
    "duration": 77,
    "start_time": "2022-03-19T22:07:05.982Z"
   },
   {
    "duration": 8,
    "start_time": "2022-03-19T22:07:06.061Z"
   },
   {
    "duration": 82,
    "start_time": "2022-03-19T22:07:06.072Z"
   },
   {
    "duration": 10,
    "start_time": "2022-03-19T22:07:06.158Z"
   },
   {
    "duration": 97,
    "start_time": "2022-03-19T22:07:06.170Z"
   },
   {
    "duration": 78,
    "start_time": "2022-03-19T22:07:06.269Z"
   },
   {
    "duration": 16,
    "start_time": "2022-03-19T22:07:06.353Z"
   },
   {
    "duration": 393,
    "start_time": "2022-03-19T22:07:06.372Z"
   },
   {
    "duration": 17,
    "start_time": "2022-03-19T22:07:06.767Z"
   },
   {
    "duration": 21,
    "start_time": "2022-03-19T22:07:06.850Z"
   },
   {
    "duration": 176,
    "start_time": "2022-03-19T22:07:06.873Z"
   },
   {
    "duration": 14,
    "start_time": "2022-03-19T22:07:07.057Z"
   },
   {
    "duration": 85,
    "start_time": "2022-03-19T22:07:07.073Z"
   },
   {
    "duration": 9,
    "start_time": "2022-03-19T22:07:07.160Z"
   },
   {
    "duration": 903,
    "start_time": "2022-03-19T22:07:07.171Z"
   },
   {
    "duration": 884,
    "start_time": "2022-03-19T22:07:08.076Z"
   },
   {
    "duration": 1401,
    "start_time": "2022-03-19T22:07:08.963Z"
   },
   {
    "duration": 793,
    "start_time": "2022-03-19T22:07:10.367Z"
   },
   {
    "duration": 799,
    "start_time": "2022-03-19T22:07:11.163Z"
   },
   {
    "duration": 16,
    "start_time": "2022-03-19T22:07:11.965Z"
   },
   {
    "duration": 927,
    "start_time": "2022-03-19T22:07:12.056Z"
   },
   {
    "duration": 77,
    "start_time": "2022-03-19T22:07:12.986Z"
   },
   {
    "duration": 14,
    "start_time": "2022-03-19T22:07:13.066Z"
   },
   {
    "duration": 8,
    "start_time": "2022-03-19T22:07:13.144Z"
   },
   {
    "duration": 14,
    "start_time": "2022-03-19T22:07:13.156Z"
   },
   {
    "duration": 6,
    "start_time": "2022-03-19T22:07:13.172Z"
   },
   {
    "duration": 7,
    "start_time": "2022-03-19T22:07:13.181Z"
   },
   {
    "duration": 16,
    "start_time": "2022-03-19T22:07:13.253Z"
   },
   {
    "duration": 8,
    "start_time": "2022-03-19T22:07:13.271Z"
   },
   {
    "duration": 72,
    "start_time": "2022-03-19T22:07:13.282Z"
   },
   {
    "duration": 33,
    "start_time": "2022-03-19T22:07:13.356Z"
   },
   {
    "duration": 53,
    "start_time": "2022-03-19T22:07:13.392Z"
   },
   {
    "duration": 6097,
    "start_time": "2022-03-19T22:07:13.448Z"
   },
   {
    "duration": 23696,
    "start_time": "2022-03-19T22:07:19.551Z"
   },
   {
    "duration": 159,
    "start_time": "2022-03-20T10:07:48.601Z"
   }
  ],
  "kernelspec": {
   "display_name": "Python 3 (ipykernel)",
   "language": "python",
   "name": "python3"
  },
  "language_info": {
   "codemirror_mode": {
    "name": "ipython",
    "version": 3
   },
   "file_extension": ".py",
   "mimetype": "text/x-python",
   "name": "python",
   "nbconvert_exporter": "python",
   "pygments_lexer": "ipython3",
   "version": "3.9.5"
  },
  "notebookId": "6c64543a-986a-4189-a906-e6a3ce6af62c",
  "notebookPath": "ds-integrated-2.ipynb",
  "toc": {
   "base_numbering": 1,
   "nav_menu": {},
   "number_sections": true,
   "sideBar": true,
   "skip_h1_title": true,
   "title_cell": "Содержание",
   "title_sidebar": "Contents",
   "toc_cell": true,
   "toc_position": {},
   "toc_section_display": true,
   "toc_window_display": true
  }
 },
 "nbformat": 4,
 "nbformat_minor": 4
}
