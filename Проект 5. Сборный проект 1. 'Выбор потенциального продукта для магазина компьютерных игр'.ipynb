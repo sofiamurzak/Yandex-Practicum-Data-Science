{
 "cells": [
  {
   "cell_type": "markdown",
   "metadata": {},
   "source": [
    "<div style=\"border-radius: 15px; border: 3px solid indigo; padding: 15px; \">\n",
    "<b> Комментарий ревьюера</b>\n",
    "    \n",
    "Привет! Прошу прощения за задержку ревью 🙏 Понимаю, что это принесло много неудобств, но скоро все будет в норме. \n",
    "    \n",
    "    \n",
    "    \n",
    "Меня зовут Светлана Носова, я буду проверять твой проект. Если не против, давай общаться на «ты». Если тебе такой стиль общения не нравится, напиши об этом, будем на «вы».  \n",
    "\n",
    "Сразу хочу обратить внимание на цветовую разметку:\n",
    "    \n",
    "    \n",
    "<div class=\"alert alert-success\" style=\"border-radius: 15px; box-shadow: 4px 4px 4px; border: 1px solid \">\n",
    "\n",
    "Зеленым с пометкой ✔️ отмечены отличные решения и идеи, которые можно и нужно использовать в будущем.\n",
    "</div>\n",
    "    \n",
    "<div class=\"alert alert-warning\" style=\"border-radius: 15px; box-shadow: 4px 4px 4px; border: 1px solid \">\n",
    "\n",
    "Желтым с пометкой ⚠️ отмечено то, что можно или нужно оптимизировать, в зависимости от контекста.</div>    \n",
    "    \n",
    "<div class=\"alert alert-danger\" style=\"border-radius: 15px; box-shadow: 4px 4px 4px; border: 1px solid \">\n",
    "\n",
    "Красным с пометкой ❌ обозначены пропущенные пункты задания и ошибки, которые обязательно надо будет исправить, чтобы результаты были верные.</div> \n",
    "    \n",
    "**Ответы на мои комментарии или доработки по моим рекомендациям попрошу выделить каким-нибудь цветом, кроме трех перечисленных.**\n",
    "Также я попрошу тебя **не менять и не передвигать мои комментарии**, чтобы при последующей проверке мне было проще ориентироваться.\n",
    "    \n",
    "Кроме того, комментарии у меня обозначены как заголовки. Это сбивает содержание, но при последующей проверке я могу снять с них заголовок, если тебе так будет удобнее. При этом они удобны, поскольку ты сразу можешь перейти к ним.   \n",
    "        \n",
    "<hr>\n",
    "    \n",
    "<font color= 'dodgerblue'>**По проекту:**</font> работа сделана очень хорошо, все оформлено аккуратно и понятно. Структура работы у тебя грамотная, код легко читается, много анализа и выводов. Не могу не отметить и визуализации, графики не только подписаны, но и прокомментированы. Есть некоторые замечания, я все обозначила в комментариях. Там же я оставила рекомендации по улучшению проекта. Буду ждать работу на повторное ревью.\n",
    "</div>"
   ]
  },
  {
   "cell_type": "markdown",
   "metadata": {},
   "source": [
    "<div style=\"border-radius: 15px; border: 3px solid indigo; padding: 15px;\">\n",
    "<b> Комментарий ревьюера 2</b>\n",
    "    \n",
    "Спасибо за корректировки, работа получилась отличная. Я оставила новые комментарии с цифрой 2, а со старых сняла заголовки, чтобы  не мешали. Проект я могу принять, поскольку вопросов больше нет. Желаю успехов в дальнейшем обучении :)\n",
    "    \n",
    "\n",
    "    \n",
    "</div>"
   ]
  },
  {
   "cell_type": "code",
   "execution_count": 1,
   "metadata": {
    "cellId": "qam9peyng0blhyug1ovgj"
   },
   "outputs": [],
   "source": [
    "#%pip install -q -r requirements.txt"
   ]
  },
  {
   "cell_type": "markdown",
   "metadata": {
    "cellId": "zsa14ry5p5uqer08lgi0l"
   },
   "source": [
    "## Содержание"
   ]
  },
  {
   "cell_type": "markdown",
   "metadata": {
    "cellId": "jmey3pnstjhxkjtz3av9g"
   },
   "source": [
    "### Описание проекта\n",
    "Вы работаете в интернет-магазине «Стримчик», который продаёт по всему миру компьютерные игры. Из открытых источников доступны исторические данные о продажах игр, оценки пользователей и экспертов, жанры и платформы (например, Xbox или PlayStation). Вам нужно выявить определяющие успешность игры закономерности. Это позволит сделать ставку на потенциально популярный продукт и спланировать рекламные кампании.\n",
    "\n",
    "Перед вами данные до 2016 года. Представим, что сейчас декабрь 2016 г., и вы планируете кампанию на 2017-й. Нужно отработать принцип работы с данными. Неважно, прогнозируете ли вы продажи на 2017 год по данным 2016-го или же 2027-й — по данным 2026 года.\n",
    "\n",
    "В наборе данных попадается аббревиатура ESRB (Entertainment Software Rating Board) — это ассоциация, определяющая возрастной рейтинг компьютерных игр. ESRB оценивает игровой контент и присваивает ему подходящую возрастную категорию, например, «Для взрослых», «Для детей младшего возраста» или «Для подростков»."
   ]
  },
  {
   "cell_type": "markdown",
   "metadata": {
    "cellId": "2byvnkgbb3mzdr4qngcnd"
   },
   "source": [
    "### Цель исследования\n",
    "1. Составить портрет пользователя каждого региона\n",
    "2. Проверить гипотезы\n",
    "- Средние пользовательские рейтинги платформ Xbox One и PC одинаковые\n",
    "- Средние пользовательские рейтинги жанров Action (англ. «действие», экшен-игры) и Sports (англ. «спортивные соревнования») разные"
   ]
  },
  {
   "cell_type": "markdown",
   "metadata": {
    "cellId": "qhrinjkzg6hyajcde003h"
   },
   "source": [
    "### Ход исследования\n",
    "1. Изучение данных\n",
    "2. Подготовка данных\n",
    "3. Исследовательсикй анализ данных\n",
    "4. Составление портрета пользователя каждого региона\n",
    "5. Проверка гипотез\n",
    "6. Общий вывод"
   ]
  },
  {
   "cell_type": "markdown",
   "metadata": {},
   "source": [
    "<div class=\"alert alert-success\" style=\"border-radius: 15px; box-shadow: 4px 4px 4px; border: 1px solid \">\n",
    "<b> Комментарий ревьюера ✔️</b>\n",
    "    \n",
    "Хорошо, что добавляешь краткое описание задачи. Это поможет быстро вспомнить, о чем проект, когда ты вернешься к нему.   \n",
    "   \n",
    "</div>"
   ]
  },
  {
   "cell_type": "markdown",
   "metadata": {
    "cellId": "02mk2wn9vchm55t3zf0mv84"
   },
   "source": [
    "## Изучение данных"
   ]
  },
  {
   "cell_type": "code",
   "execution_count": 2,
   "metadata": {
    "cellId": "hmxbfyj780l6er8hs8iw7k"
   },
   "outputs": [],
   "source": [
    "import pandas as pd\n",
    "import numpy as np\n",
    "import matplotlib.pyplot as plt\n",
    "import seaborn\n",
    "from scipy import stats as st\n",
    "import warnings\n",
    "warnings.filterwarnings('ignore')"
   ]
  },
  {
   "cell_type": "code",
   "execution_count": 3,
   "metadata": {
    "cellId": "fslm4k5o0xjmx1j9873bg"
   },
   "outputs": [],
   "source": [
    "from pymystem3 import Mystem\n",
    "my = Mystem()\n",
    "from collections import Counter"
   ]
  },
  {
   "cell_type": "markdown",
   "metadata": {
    "cellId": "j6vwype1uwj5q75hwqfj8b"
   },
   "source": [
    "Методом read_csv() создам датафрейм из данных формата csv, дополнительные параметры не нужны, так как в файле csv стандартный разделитель и положение заголовков."
   ]
  },
  {
   "cell_type": "code",
   "execution_count": 4,
   "metadata": {
    "cellId": "cjvklr0eroa8gwnkufczmj"
   },
   "outputs": [
    {
     "name": "stdout",
     "output_type": "stream",
     "text": [
      "[Errno 2] File b'games.csv' does not exist: b'games.csv'\n"
     ]
    }
   ],
   "source": [
    "try:\n",
    "    data = pd.read_csv('games.csv')\n",
    "except FileNotFoundError as e:\n",
    "    print(e)\n",
    "    data = pd.read_csv('/datasets/games.csv')"
   ]
  },
  {
   "cell_type": "markdown",
   "metadata": {},
   "source": [
    "<div class=\"alert alert-success\" style=\"border-radius: 15px; box-shadow: 4px 4px 4px; border: 1px solid \">\n",
    "<b> Комментарий ревьюера ✔️</b>\n",
    "    \n",
    "Классно, что используешь `try-except`. Иногда полезны `else` и `finally`. Так, `try` блок позволяет нам что-то попытаться сделать. `except` ловит исключения и ошибки. `else` делает что-то, если ошибок не было. `finally` выполняется всегда, даже если бы ошибка. `finally` может быть полезен, когда тебе точно надо что-то сделать. Например, закрыть файл. Глянь на кусок кода ниже:\n",
    "    \n",
    "   \n",
    "</div>\n",
    "\n",
    "```python\n",
    "\n",
    "try:\n",
    "    # Что-то делаем.\n",
    "except Exception as e:\n",
    "    # Обрабатываем исключение.\n",
    "    # То есть мы ожидаем, что может случиться ошибка.\n",
    "else:\n",
    "    # Выполянем что-то, если нет ошибок.\n",
    "finally:\n",
    "    # Выполянем что-то при любом раскладе.\n",
    "    \n",
    "```"
   ]
  },
  {
   "cell_type": "code",
   "execution_count": 5,
   "metadata": {
    "cellId": "0gcp8yiuv3k4kjvwobxv1o"
   },
   "outputs": [
    {
     "data": {
      "text/html": [
       "<div>\n",
       "<style scoped>\n",
       "    .dataframe tbody tr th:only-of-type {\n",
       "        vertical-align: middle;\n",
       "    }\n",
       "\n",
       "    .dataframe tbody tr th {\n",
       "        vertical-align: top;\n",
       "    }\n",
       "\n",
       "    .dataframe thead th {\n",
       "        text-align: right;\n",
       "    }\n",
       "</style>\n",
       "<table border=\"1\" class=\"dataframe\">\n",
       "  <thead>\n",
       "    <tr style=\"text-align: right;\">\n",
       "      <th></th>\n",
       "      <th>Name</th>\n",
       "      <th>Platform</th>\n",
       "      <th>Year_of_Release</th>\n",
       "      <th>Genre</th>\n",
       "      <th>NA_sales</th>\n",
       "      <th>EU_sales</th>\n",
       "      <th>JP_sales</th>\n",
       "      <th>Other_sales</th>\n",
       "      <th>Critic_Score</th>\n",
       "      <th>User_Score</th>\n",
       "      <th>Rating</th>\n",
       "    </tr>\n",
       "  </thead>\n",
       "  <tbody>\n",
       "    <tr>\n",
       "      <td>0</td>\n",
       "      <td>Wii Sports</td>\n",
       "      <td>Wii</td>\n",
       "      <td>2006.0</td>\n",
       "      <td>Sports</td>\n",
       "      <td>41.36</td>\n",
       "      <td>28.96</td>\n",
       "      <td>3.77</td>\n",
       "      <td>8.45</td>\n",
       "      <td>76.0</td>\n",
       "      <td>8</td>\n",
       "      <td>E</td>\n",
       "    </tr>\n",
       "    <tr>\n",
       "      <td>1</td>\n",
       "      <td>Super Mario Bros.</td>\n",
       "      <td>NES</td>\n",
       "      <td>1985.0</td>\n",
       "      <td>Platform</td>\n",
       "      <td>29.08</td>\n",
       "      <td>3.58</td>\n",
       "      <td>6.81</td>\n",
       "      <td>0.77</td>\n",
       "      <td>NaN</td>\n",
       "      <td>NaN</td>\n",
       "      <td>NaN</td>\n",
       "    </tr>\n",
       "    <tr>\n",
       "      <td>2</td>\n",
       "      <td>Mario Kart Wii</td>\n",
       "      <td>Wii</td>\n",
       "      <td>2008.0</td>\n",
       "      <td>Racing</td>\n",
       "      <td>15.68</td>\n",
       "      <td>12.76</td>\n",
       "      <td>3.79</td>\n",
       "      <td>3.29</td>\n",
       "      <td>82.0</td>\n",
       "      <td>8.3</td>\n",
       "      <td>E</td>\n",
       "    </tr>\n",
       "    <tr>\n",
       "      <td>3</td>\n",
       "      <td>Wii Sports Resort</td>\n",
       "      <td>Wii</td>\n",
       "      <td>2009.0</td>\n",
       "      <td>Sports</td>\n",
       "      <td>15.61</td>\n",
       "      <td>10.93</td>\n",
       "      <td>3.28</td>\n",
       "      <td>2.95</td>\n",
       "      <td>80.0</td>\n",
       "      <td>8</td>\n",
       "      <td>E</td>\n",
       "    </tr>\n",
       "    <tr>\n",
       "      <td>4</td>\n",
       "      <td>Pokemon Red/Pokemon Blue</td>\n",
       "      <td>GB</td>\n",
       "      <td>1996.0</td>\n",
       "      <td>Role-Playing</td>\n",
       "      <td>11.27</td>\n",
       "      <td>8.89</td>\n",
       "      <td>10.22</td>\n",
       "      <td>1.00</td>\n",
       "      <td>NaN</td>\n",
       "      <td>NaN</td>\n",
       "      <td>NaN</td>\n",
       "    </tr>\n",
       "    <tr>\n",
       "      <td>5</td>\n",
       "      <td>Tetris</td>\n",
       "      <td>GB</td>\n",
       "      <td>1989.0</td>\n",
       "      <td>Puzzle</td>\n",
       "      <td>23.20</td>\n",
       "      <td>2.26</td>\n",
       "      <td>4.22</td>\n",
       "      <td>0.58</td>\n",
       "      <td>NaN</td>\n",
       "      <td>NaN</td>\n",
       "      <td>NaN</td>\n",
       "    </tr>\n",
       "    <tr>\n",
       "      <td>6</td>\n",
       "      <td>New Super Mario Bros.</td>\n",
       "      <td>DS</td>\n",
       "      <td>2006.0</td>\n",
       "      <td>Platform</td>\n",
       "      <td>11.28</td>\n",
       "      <td>9.14</td>\n",
       "      <td>6.50</td>\n",
       "      <td>2.88</td>\n",
       "      <td>89.0</td>\n",
       "      <td>8.5</td>\n",
       "      <td>E</td>\n",
       "    </tr>\n",
       "    <tr>\n",
       "      <td>7</td>\n",
       "      <td>Wii Play</td>\n",
       "      <td>Wii</td>\n",
       "      <td>2006.0</td>\n",
       "      <td>Misc</td>\n",
       "      <td>13.96</td>\n",
       "      <td>9.18</td>\n",
       "      <td>2.93</td>\n",
       "      <td>2.84</td>\n",
       "      <td>58.0</td>\n",
       "      <td>6.6</td>\n",
       "      <td>E</td>\n",
       "    </tr>\n",
       "    <tr>\n",
       "      <td>8</td>\n",
       "      <td>New Super Mario Bros. Wii</td>\n",
       "      <td>Wii</td>\n",
       "      <td>2009.0</td>\n",
       "      <td>Platform</td>\n",
       "      <td>14.44</td>\n",
       "      <td>6.94</td>\n",
       "      <td>4.70</td>\n",
       "      <td>2.24</td>\n",
       "      <td>87.0</td>\n",
       "      <td>8.4</td>\n",
       "      <td>E</td>\n",
       "    </tr>\n",
       "    <tr>\n",
       "      <td>9</td>\n",
       "      <td>Duck Hunt</td>\n",
       "      <td>NES</td>\n",
       "      <td>1984.0</td>\n",
       "      <td>Shooter</td>\n",
       "      <td>26.93</td>\n",
       "      <td>0.63</td>\n",
       "      <td>0.28</td>\n",
       "      <td>0.47</td>\n",
       "      <td>NaN</td>\n",
       "      <td>NaN</td>\n",
       "      <td>NaN</td>\n",
       "    </tr>\n",
       "  </tbody>\n",
       "</table>\n",
       "</div>"
      ],
      "text/plain": [
       "                        Name Platform  Year_of_Release         Genre  \\\n",
       "0                 Wii Sports      Wii           2006.0        Sports   \n",
       "1          Super Mario Bros.      NES           1985.0      Platform   \n",
       "2             Mario Kart Wii      Wii           2008.0        Racing   \n",
       "3          Wii Sports Resort      Wii           2009.0        Sports   \n",
       "4   Pokemon Red/Pokemon Blue       GB           1996.0  Role-Playing   \n",
       "5                     Tetris       GB           1989.0        Puzzle   \n",
       "6      New Super Mario Bros.       DS           2006.0      Platform   \n",
       "7                   Wii Play      Wii           2006.0          Misc   \n",
       "8  New Super Mario Bros. Wii      Wii           2009.0      Platform   \n",
       "9                  Duck Hunt      NES           1984.0       Shooter   \n",
       "\n",
       "   NA_sales  EU_sales  JP_sales  Other_sales  Critic_Score User_Score Rating  \n",
       "0     41.36     28.96      3.77         8.45          76.0          8      E  \n",
       "1     29.08      3.58      6.81         0.77           NaN        NaN    NaN  \n",
       "2     15.68     12.76      3.79         3.29          82.0        8.3      E  \n",
       "3     15.61     10.93      3.28         2.95          80.0          8      E  \n",
       "4     11.27      8.89     10.22         1.00           NaN        NaN    NaN  \n",
       "5     23.20      2.26      4.22         0.58           NaN        NaN    NaN  \n",
       "6     11.28      9.14      6.50         2.88          89.0        8.5      E  \n",
       "7     13.96      9.18      2.93         2.84          58.0        6.6      E  \n",
       "8     14.44      6.94      4.70         2.24          87.0        8.4      E  \n",
       "9     26.93      0.63      0.28         0.47           NaN        NaN    NaN  "
      ]
     },
     "execution_count": 5,
     "metadata": {},
     "output_type": "execute_result"
    }
   ],
   "source": [
    "data.head(10)"
   ]
  },
  {
   "cell_type": "markdown",
   "metadata": {
    "cellId": "xmjfl9eg5k7ib1abciv"
   },
   "source": [
    "В датафрейме представлены данные о продажах игр, оценки пользователей и экспертов, жанры и платформы. В датафрейме 11 колонок с данными: \n",
    "- Name — название игры\n",
    "- Platform — платформа\n",
    "- Year_of_Release — год выпуска\n",
    "- Genre — жанр игры\n",
    "- NA_sales — продажи в Северной Америке (миллионы проданных копий)\n",
    "- EU_sales — продажи в Европе (миллионы проданных копий)\n",
    "- JP_sales — продажи в Японии (миллионы проданных копий)\n",
    "- Other_sales — продажи в других странах (миллионы проданных копий)\n",
    "- Critic_Score — оценка критиков (максимум 100)\n",
    "- User_Score — оценка пользователей (максимум 10)\n",
    "- Rating — рейтинг от организации ESRB (англ. Entertainment Software Rating Board). Эта ассоциация определяет рейтинг компьютерных игр и присваивает им подходящую возрастную категорию."
   ]
  },
  {
   "cell_type": "code",
   "execution_count": 6,
   "metadata": {
    "cellId": "9frcr0c1zjasmbtqyxk6"
   },
   "outputs": [
    {
     "name": "stdout",
     "output_type": "stream",
     "text": [
      "<class 'pandas.core.frame.DataFrame'>\n",
      "RangeIndex: 16715 entries, 0 to 16714\n",
      "Data columns (total 11 columns):\n",
      "Name               16713 non-null object\n",
      "Platform           16715 non-null object\n",
      "Year_of_Release    16446 non-null float64\n",
      "Genre              16713 non-null object\n",
      "NA_sales           16715 non-null float64\n",
      "EU_sales           16715 non-null float64\n",
      "JP_sales           16715 non-null float64\n",
      "Other_sales        16715 non-null float64\n",
      "Critic_Score       8137 non-null float64\n",
      "User_Score         10014 non-null object\n",
      "Rating             9949 non-null object\n",
      "dtypes: float64(6), object(5)\n",
      "memory usage: 1.4+ MB\n"
     ]
    }
   ],
   "source": [
    "data.info()"
   ]
  },
  {
   "cell_type": "markdown",
   "metadata": {},
   "source": [
    "**Вывод:** В представленном датафрейме 11 колонок с данными об играх на различных платформах. Всего в датафрейме 16715 строк со значениями. В некоторых столбцах присутствуют пропущенные значения, в дальнейших шагах постараюсь рахобраться в сущности пропусков и по возможности заменить их на значения. Так же сущетсвуют некорректные написания колонок, а так же некорректный тип данных для некоторых колонок, которые я заменю в следующих шагах проекта."
   ]
  },
  {
   "cell_type": "markdown",
   "metadata": {},
   "source": [
    "<div class=\"alert alert-warning\" style=\"border-radius: 15px; box-shadow: 4px 4px 4px; border: 1px solid \">\n",
    "<b> Комментарий ревьюера  ⚠️</b>\n",
    "    \n",
    "Не забывай про промежуточные выводы. </div>"
   ]
  },
  {
   "cell_type": "markdown",
   "metadata": {},
   "source": [
    "<font color= 'dodgerblue'>**Комментарий студента:**</font> Добавила промежуточный вывод с характеристикой данных.\n",
    "</div>"
   ]
  },
  {
   "cell_type": "markdown",
   "metadata": {
    "cellId": "4v2a0z2nho5p4qhoi3fq5"
   },
   "source": [
    "## Подготовка данных"
   ]
  },
  {
   "cell_type": "markdown",
   "metadata": {
    "cellId": "qe724t56cm2ph1l6hvkoe"
   },
   "source": [
    "### Изменение названия столбцов\n",
    "В названии столбцов обнаружены стилистические ошибки, приведу названия к нижнему регистру методом columns.str.lower(). После, выведу названия столбцов для проверки."
   ]
  },
  {
   "cell_type": "code",
   "execution_count": 7,
   "metadata": {
    "cellId": "9zza2nawz9vdfqqucq248"
   },
   "outputs": [],
   "source": [
    "data.columns = data.columns.str.lower()"
   ]
  },
  {
   "cell_type": "code",
   "execution_count": 8,
   "metadata": {
    "cellId": "3ythnc1gw9cvw6zjz7i1g"
   },
   "outputs": [
    {
     "data": {
      "text/plain": [
       "Index(['name', 'platform', 'year_of_release', 'genre', 'na_sales', 'eu_sales',\n",
       "       'jp_sales', 'other_sales', 'critic_score', 'user_score', 'rating'],\n",
       "      dtype='object')"
      ]
     },
     "execution_count": 8,
     "metadata": {},
     "output_type": "execute_result"
    }
   ],
   "source": [
    "data.columns"
   ]
  },
  {
   "cell_type": "markdown",
   "metadata": {
    "cellId": "tpx4dmxriih3j290zwodla"
   },
   "source": [
    "### Обработка пропусков"
   ]
  },
  {
   "cell_type": "markdown",
   "metadata": {
    "cellId": "z9w6xp9d1mrd0p3556wfc8"
   },
   "source": [
    "Пропуски значений замечены в колонках 'name', 'year_of_release', 'genre', 'critic_score', 'user_score', 'rating'. Выведу строки, где значение в колонке name - пропуск."
   ]
  },
  {
   "cell_type": "code",
   "execution_count": 9,
   "metadata": {
    "cellId": "ogta6ane438wd12k6x84w"
   },
   "outputs": [
    {
     "data": {
      "text/html": [
       "<div>\n",
       "<style scoped>\n",
       "    .dataframe tbody tr th:only-of-type {\n",
       "        vertical-align: middle;\n",
       "    }\n",
       "\n",
       "    .dataframe tbody tr th {\n",
       "        vertical-align: top;\n",
       "    }\n",
       "\n",
       "    .dataframe thead th {\n",
       "        text-align: right;\n",
       "    }\n",
       "</style>\n",
       "<table border=\"1\" class=\"dataframe\">\n",
       "  <thead>\n",
       "    <tr style=\"text-align: right;\">\n",
       "      <th></th>\n",
       "      <th>name</th>\n",
       "      <th>platform</th>\n",
       "      <th>year_of_release</th>\n",
       "      <th>genre</th>\n",
       "      <th>na_sales</th>\n",
       "      <th>eu_sales</th>\n",
       "      <th>jp_sales</th>\n",
       "      <th>other_sales</th>\n",
       "      <th>critic_score</th>\n",
       "      <th>user_score</th>\n",
       "      <th>rating</th>\n",
       "    </tr>\n",
       "  </thead>\n",
       "  <tbody>\n",
       "    <tr>\n",
       "      <td>659</td>\n",
       "      <td>NaN</td>\n",
       "      <td>GEN</td>\n",
       "      <td>1993.0</td>\n",
       "      <td>NaN</td>\n",
       "      <td>1.78</td>\n",
       "      <td>0.53</td>\n",
       "      <td>0.00</td>\n",
       "      <td>0.08</td>\n",
       "      <td>NaN</td>\n",
       "      <td>NaN</td>\n",
       "      <td>NaN</td>\n",
       "    </tr>\n",
       "    <tr>\n",
       "      <td>14244</td>\n",
       "      <td>NaN</td>\n",
       "      <td>GEN</td>\n",
       "      <td>1993.0</td>\n",
       "      <td>NaN</td>\n",
       "      <td>0.00</td>\n",
       "      <td>0.00</td>\n",
       "      <td>0.03</td>\n",
       "      <td>0.00</td>\n",
       "      <td>NaN</td>\n",
       "      <td>NaN</td>\n",
       "      <td>NaN</td>\n",
       "    </tr>\n",
       "  </tbody>\n",
       "</table>\n",
       "</div>"
      ],
      "text/plain": [
       "      name platform  year_of_release genre  na_sales  eu_sales  jp_sales  \\\n",
       "659    NaN      GEN           1993.0   NaN      1.78      0.53      0.00   \n",
       "14244  NaN      GEN           1993.0   NaN      0.00      0.00      0.03   \n",
       "\n",
       "       other_sales  critic_score user_score rating  \n",
       "659           0.08           NaN        NaN    NaN  \n",
       "14244         0.00           NaN        NaN    NaN  "
      ]
     },
     "execution_count": 9,
     "metadata": {},
     "output_type": "execute_result"
    }
   ],
   "source": [
    "data[data['name'].isna()]"
   ]
  },
  {
   "cell_type": "markdown",
   "metadata": {
    "cellId": "1yv1halsd6ed69lkosroj7"
   },
   "source": [
    "Замечено, что в строках, где отсутствует название игры, так же отсутствует и жанр игры, а платформа и год у обеих строк одинаковые - GEN,1993. Выведу все строки датафрейма, где платформа игры GEN, а год релиза 1993, чтобы оценить ввозможность замены пропусков корректными значениями."
   ]
  },
  {
   "cell_type": "code",
   "execution_count": 10,
   "metadata": {
    "cellId": "3naa6xrz1pydq695jcbb6k"
   },
   "outputs": [
    {
     "data": {
      "text/html": [
       "<div>\n",
       "<style scoped>\n",
       "    .dataframe tbody tr th:only-of-type {\n",
       "        vertical-align: middle;\n",
       "    }\n",
       "\n",
       "    .dataframe tbody tr th {\n",
       "        vertical-align: top;\n",
       "    }\n",
       "\n",
       "    .dataframe thead th {\n",
       "        text-align: right;\n",
       "    }\n",
       "</style>\n",
       "<table border=\"1\" class=\"dataframe\">\n",
       "  <thead>\n",
       "    <tr style=\"text-align: right;\">\n",
       "      <th></th>\n",
       "      <th>name</th>\n",
       "      <th>platform</th>\n",
       "      <th>year_of_release</th>\n",
       "      <th>genre</th>\n",
       "      <th>na_sales</th>\n",
       "      <th>eu_sales</th>\n",
       "      <th>jp_sales</th>\n",
       "      <th>other_sales</th>\n",
       "      <th>critic_score</th>\n",
       "      <th>user_score</th>\n",
       "      <th>rating</th>\n",
       "    </tr>\n",
       "  </thead>\n",
       "  <tbody>\n",
       "    <tr>\n",
       "      <td>659</td>\n",
       "      <td>NaN</td>\n",
       "      <td>GEN</td>\n",
       "      <td>1993.0</td>\n",
       "      <td>NaN</td>\n",
       "      <td>1.78</td>\n",
       "      <td>0.53</td>\n",
       "      <td>0.00</td>\n",
       "      <td>0.08</td>\n",
       "      <td>NaN</td>\n",
       "      <td>NaN</td>\n",
       "      <td>NaN</td>\n",
       "    </tr>\n",
       "    <tr>\n",
       "      <td>7885</td>\n",
       "      <td>Shining Force II</td>\n",
       "      <td>GEN</td>\n",
       "      <td>1993.0</td>\n",
       "      <td>Strategy</td>\n",
       "      <td>0.00</td>\n",
       "      <td>0.00</td>\n",
       "      <td>0.19</td>\n",
       "      <td>0.00</td>\n",
       "      <td>NaN</td>\n",
       "      <td>NaN</td>\n",
       "      <td>NaN</td>\n",
       "    </tr>\n",
       "    <tr>\n",
       "      <td>8893</td>\n",
       "      <td>Super Street Fighter II</td>\n",
       "      <td>GEN</td>\n",
       "      <td>1993.0</td>\n",
       "      <td>Fighting</td>\n",
       "      <td>0.00</td>\n",
       "      <td>0.00</td>\n",
       "      <td>0.15</td>\n",
       "      <td>0.00</td>\n",
       "      <td>NaN</td>\n",
       "      <td>NaN</td>\n",
       "      <td>NaN</td>\n",
       "    </tr>\n",
       "    <tr>\n",
       "      <td>11986</td>\n",
       "      <td>Ecco: The Tides of Time</td>\n",
       "      <td>GEN</td>\n",
       "      <td>1993.0</td>\n",
       "      <td>Adventure</td>\n",
       "      <td>0.00</td>\n",
       "      <td>0.00</td>\n",
       "      <td>0.07</td>\n",
       "      <td>0.00</td>\n",
       "      <td>NaN</td>\n",
       "      <td>NaN</td>\n",
       "      <td>NaN</td>\n",
       "    </tr>\n",
       "    <tr>\n",
       "      <td>12098</td>\n",
       "      <td>Street Fighter II': Special Champion Edition (...</td>\n",
       "      <td>GEN</td>\n",
       "      <td>1993.0</td>\n",
       "      <td>Action</td>\n",
       "      <td>0.00</td>\n",
       "      <td>0.00</td>\n",
       "      <td>0.07</td>\n",
       "      <td>0.00</td>\n",
       "      <td>NaN</td>\n",
       "      <td>NaN</td>\n",
       "      <td>NaN</td>\n",
       "    </tr>\n",
       "    <tr>\n",
       "      <td>12264</td>\n",
       "      <td>Streets of Rage 3</td>\n",
       "      <td>GEN</td>\n",
       "      <td>1993.0</td>\n",
       "      <td>Action</td>\n",
       "      <td>0.00</td>\n",
       "      <td>0.00</td>\n",
       "      <td>0.07</td>\n",
       "      <td>0.00</td>\n",
       "      <td>NaN</td>\n",
       "      <td>NaN</td>\n",
       "      <td>NaN</td>\n",
       "    </tr>\n",
       "    <tr>\n",
       "      <td>12984</td>\n",
       "      <td>Dynamite Headdy</td>\n",
       "      <td>GEN</td>\n",
       "      <td>1993.0</td>\n",
       "      <td>Platform</td>\n",
       "      <td>0.00</td>\n",
       "      <td>0.00</td>\n",
       "      <td>0.05</td>\n",
       "      <td>0.00</td>\n",
       "      <td>NaN</td>\n",
       "      <td>NaN</td>\n",
       "      <td>NaN</td>\n",
       "    </tr>\n",
       "    <tr>\n",
       "      <td>13343</td>\n",
       "      <td>Beyond Oasis</td>\n",
       "      <td>GEN</td>\n",
       "      <td>1993.0</td>\n",
       "      <td>Role-Playing</td>\n",
       "      <td>0.00</td>\n",
       "      <td>0.00</td>\n",
       "      <td>0.05</td>\n",
       "      <td>0.00</td>\n",
       "      <td>NaN</td>\n",
       "      <td>NaN</td>\n",
       "      <td>NaN</td>\n",
       "    </tr>\n",
       "    <tr>\n",
       "      <td>14244</td>\n",
       "      <td>NaN</td>\n",
       "      <td>GEN</td>\n",
       "      <td>1993.0</td>\n",
       "      <td>NaN</td>\n",
       "      <td>0.00</td>\n",
       "      <td>0.00</td>\n",
       "      <td>0.03</td>\n",
       "      <td>0.00</td>\n",
       "      <td>NaN</td>\n",
       "      <td>NaN</td>\n",
       "      <td>NaN</td>\n",
       "    </tr>\n",
       "  </tbody>\n",
       "</table>\n",
       "</div>"
      ],
      "text/plain": [
       "                                                    name platform  \\\n",
       "659                                                  NaN      GEN   \n",
       "7885                                    Shining Force II      GEN   \n",
       "8893                             Super Street Fighter II      GEN   \n",
       "11986                            Ecco: The Tides of Time      GEN   \n",
       "12098  Street Fighter II': Special Champion Edition (...      GEN   \n",
       "12264                                  Streets of Rage 3      GEN   \n",
       "12984                                    Dynamite Headdy      GEN   \n",
       "13343                                       Beyond Oasis      GEN   \n",
       "14244                                                NaN      GEN   \n",
       "\n",
       "       year_of_release         genre  na_sales  eu_sales  jp_sales  \\\n",
       "659             1993.0           NaN      1.78      0.53      0.00   \n",
       "7885            1993.0      Strategy      0.00      0.00      0.19   \n",
       "8893            1993.0      Fighting      0.00      0.00      0.15   \n",
       "11986           1993.0     Adventure      0.00      0.00      0.07   \n",
       "12098           1993.0        Action      0.00      0.00      0.07   \n",
       "12264           1993.0        Action      0.00      0.00      0.07   \n",
       "12984           1993.0      Platform      0.00      0.00      0.05   \n",
       "13343           1993.0  Role-Playing      0.00      0.00      0.05   \n",
       "14244           1993.0           NaN      0.00      0.00      0.03   \n",
       "\n",
       "       other_sales  critic_score user_score rating  \n",
       "659           0.08           NaN        NaN    NaN  \n",
       "7885          0.00           NaN        NaN    NaN  \n",
       "8893          0.00           NaN        NaN    NaN  \n",
       "11986         0.00           NaN        NaN    NaN  \n",
       "12098         0.00           NaN        NaN    NaN  \n",
       "12264         0.00           NaN        NaN    NaN  \n",
       "12984         0.00           NaN        NaN    NaN  \n",
       "13343         0.00           NaN        NaN    NaN  \n",
       "14244         0.00           NaN        NaN    NaN  "
      ]
     },
     "execution_count": 10,
     "metadata": {},
     "output_type": "execute_result"
    }
   ],
   "source": [
    "data[(data['platform']=='GEN')&(data['year_of_release'] == 1993)]"
   ]
  },
  {
   "cell_type": "markdown",
   "metadata": {
    "cellId": "cimg9fopbap66d3paqaww5"
   },
   "source": [
    "В данном срезе все наименования игр уникальные, нет никакой закономерности, чтобы можно было заменить пропуски в названии игры и в жанре. Поэтому данные две строки я исключу из исследуемой выборки."
   ]
  },
  {
   "cell_type": "code",
   "execution_count": 11,
   "metadata": {
    "cellId": "6sdfxqwoj989ntb0jany7m"
   },
   "outputs": [],
   "source": [
    "data = data.dropna(subset = ['name']).reset_index(drop = True)"
   ]
  },
  {
   "cell_type": "markdown",
   "metadata": {
    "cellId": "v7vu5mnj9g8l3y6uzqenpq"
   },
   "source": [
    "Далее займуcь обработкой пропусков в колокне year_of_release. Посчитаю, сколько пропущенных значений в этом столбце методом isna().sum()."
   ]
  },
  {
   "cell_type": "code",
   "execution_count": 12,
   "metadata": {
    "cellId": "z4qu7gpke1ciu6rvv0fyua"
   },
   "outputs": [
    {
     "data": {
      "text/plain": [
       "269"
      ]
     },
     "execution_count": 12,
     "metadata": {},
     "output_type": "execute_result"
    }
   ],
   "source": [
    "data['year_of_release'].isna().sum()"
   ]
  },
  {
   "cell_type": "markdown",
   "metadata": {
    "cellId": "00qtw4a5xq3ipi3bc5w7yxy"
   },
   "source": [
    "В некоторых названиях игр пристутсвуют обозначения годов, в котором эта игра выпустилась, поэтому я воспользуюсь лемматизацией названий, чтобы выделить номер, используя функцию."
   ]
  },
  {
   "cell_type": "markdown",
   "metadata": {},
   "source": [
    "<div class=\"alert alert-success\" style=\"border-radius: 15px; box-shadow: 4px 4px 4px; border: 1px solid \">\n",
    "<b> Комментарий ревьюера ✔️</b>\n",
    "    \n",
    "Хорошая идея. Иногда это спортивные игры с указанием года окончания сезона. В идеале там надо вычесть единицу. \n",
    "</div>"
   ]
  },
  {
   "cell_type": "code",
   "execution_count": 13,
   "metadata": {
    "cellId": "mypw0g1z1peh8mre7hf3d"
   },
   "outputs": [],
   "source": [
    "def lemmatize_name(row):\n",
    "    name = row['name']\n",
    "    lemma = my.lemmatize(name)\n",
    "    return lemma\n",
    "data['lemmatize_name'] = data.apply(lemmatize_name, axis=1)"
   ]
  },
  {
   "cell_type": "markdown",
   "metadata": {
    "cellId": "wtcen2smjl7otwcw03brr"
   },
   "source": [
    "Создам функцию, которая будет выводить только цифровые значения из списка лемм, запишу выделенные номера в отдельный столбец year_in_name."
   ]
  },
  {
   "cell_type": "code",
   "execution_count": 14,
   "metadata": {
    "cellId": "zuqwsax3eki7k1feyj1oh"
   },
   "outputs": [],
   "source": [
    "def year_in_name(row):\n",
    "    lemmatize_name = row['lemmatize_name']\n",
    "    for name in lemmatize_name: \n",
    "        if name.isdigit():\n",
    "            return name\n",
    " \n",
    "data['year_in_name'] = data.apply(year_in_name, axis=1)"
   ]
  },
  {
   "cell_type": "markdown",
   "metadata": {},
   "source": [
    "<div class=\"alert alert-success\" style=\"border-radius: 15px; box-shadow: 4px 4px 4px; border: 1px solid \">\n",
    "<b> Комментарий ревьюера ✔️</b>\n",
    "    \n",
    "Можно еще так:</div>"
   ]
  },
  {
   "cell_type": "code",
   "execution_count": 15,
   "metadata": {},
   "outputs": [
    {
     "data": {
      "text/html": [
       "<div>\n",
       "<style scoped>\n",
       "    .dataframe tbody tr th:only-of-type {\n",
       "        vertical-align: middle;\n",
       "    }\n",
       "\n",
       "    .dataframe tbody tr th {\n",
       "        vertical-align: top;\n",
       "    }\n",
       "\n",
       "    .dataframe thead th {\n",
       "        text-align: right;\n",
       "    }\n",
       "</style>\n",
       "<table border=\"1\" class=\"dataframe\">\n",
       "  <thead>\n",
       "    <tr style=\"text-align: right;\">\n",
       "      <th></th>\n",
       "      <th>0</th>\n",
       "    </tr>\n",
       "  </thead>\n",
       "  <tbody>\n",
       "    <tr>\n",
       "      <td>0</td>\n",
       "      <td>NaN</td>\n",
       "    </tr>\n",
       "    <tr>\n",
       "      <td>1</td>\n",
       "      <td>NaN</td>\n",
       "    </tr>\n",
       "    <tr>\n",
       "      <td>2</td>\n",
       "      <td>NaN</td>\n",
       "    </tr>\n",
       "    <tr>\n",
       "      <td>3</td>\n",
       "      <td>NaN</td>\n",
       "    </tr>\n",
       "    <tr>\n",
       "      <td>4</td>\n",
       "      <td>NaN</td>\n",
       "    </tr>\n",
       "    <tr>\n",
       "      <td>...</td>\n",
       "      <td>...</td>\n",
       "    </tr>\n",
       "    <tr>\n",
       "      <td>16708</td>\n",
       "      <td>NaN</td>\n",
       "    </tr>\n",
       "    <tr>\n",
       "      <td>16709</td>\n",
       "      <td>2007</td>\n",
       "    </tr>\n",
       "    <tr>\n",
       "      <td>16710</td>\n",
       "      <td>NaN</td>\n",
       "    </tr>\n",
       "    <tr>\n",
       "      <td>16711</td>\n",
       "      <td>NaN</td>\n",
       "    </tr>\n",
       "    <tr>\n",
       "      <td>16712</td>\n",
       "      <td>8</td>\n",
       "    </tr>\n",
       "  </tbody>\n",
       "</table>\n",
       "<p>16713 rows × 1 columns</p>\n",
       "</div>"
      ],
      "text/plain": [
       "          0\n",
       "0       NaN\n",
       "1       NaN\n",
       "2       NaN\n",
       "3       NaN\n",
       "4       NaN\n",
       "...     ...\n",
       "16708   NaN\n",
       "16709  2007\n",
       "16710   NaN\n",
       "16711   NaN\n",
       "16712     8\n",
       "\n",
       "[16713 rows x 1 columns]"
      ]
     },
     "execution_count": 15,
     "metadata": {},
     "output_type": "execute_result"
    }
   ],
   "source": [
    "# КОД РЕВЬЮЕРА 1\n",
    "\n",
    "data.name.str.extract('(\\d+)')"
   ]
  },
  {
   "cell_type": "code",
   "execution_count": 16,
   "metadata": {},
   "outputs": [
    {
     "data": {
      "text/html": [
       "<div>\n",
       "<style scoped>\n",
       "    .dataframe tbody tr th:only-of-type {\n",
       "        vertical-align: middle;\n",
       "    }\n",
       "\n",
       "    .dataframe tbody tr th {\n",
       "        vertical-align: top;\n",
       "    }\n",
       "\n",
       "    .dataframe thead th {\n",
       "        text-align: right;\n",
       "    }\n",
       "</style>\n",
       "<table border=\"1\" class=\"dataframe\">\n",
       "  <thead>\n",
       "    <tr style=\"text-align: right;\">\n",
       "      <th></th>\n",
       "      <th>0</th>\n",
       "    </tr>\n",
       "  </thead>\n",
       "  <tbody>\n",
       "    <tr>\n",
       "      <td>0</td>\n",
       "      <td>NaN</td>\n",
       "    </tr>\n",
       "    <tr>\n",
       "      <td>1</td>\n",
       "      <td>NaN</td>\n",
       "    </tr>\n",
       "    <tr>\n",
       "      <td>2</td>\n",
       "      <td>NaN</td>\n",
       "    </tr>\n",
       "    <tr>\n",
       "      <td>3</td>\n",
       "      <td>NaN</td>\n",
       "    </tr>\n",
       "    <tr>\n",
       "      <td>4</td>\n",
       "      <td>NaN</td>\n",
       "    </tr>\n",
       "    <tr>\n",
       "      <td>...</td>\n",
       "      <td>...</td>\n",
       "    </tr>\n",
       "    <tr>\n",
       "      <td>16708</td>\n",
       "      <td>NaN</td>\n",
       "    </tr>\n",
       "    <tr>\n",
       "      <td>16709</td>\n",
       "      <td>2007</td>\n",
       "    </tr>\n",
       "    <tr>\n",
       "      <td>16710</td>\n",
       "      <td>NaN</td>\n",
       "    </tr>\n",
       "    <tr>\n",
       "      <td>16711</td>\n",
       "      <td>NaN</td>\n",
       "    </tr>\n",
       "    <tr>\n",
       "      <td>16712</td>\n",
       "      <td>2016</td>\n",
       "    </tr>\n",
       "  </tbody>\n",
       "</table>\n",
       "<p>16713 rows × 1 columns</p>\n",
       "</div>"
      ],
      "text/plain": [
       "          0\n",
       "0       NaN\n",
       "1       NaN\n",
       "2       NaN\n",
       "3       NaN\n",
       "4       NaN\n",
       "...     ...\n",
       "16708   NaN\n",
       "16709  2007\n",
       "16710   NaN\n",
       "16711   NaN\n",
       "16712  2016\n",
       "\n",
       "[16713 rows x 1 columns]"
      ]
     },
     "execution_count": 16,
     "metadata": {},
     "output_type": "execute_result"
    }
   ],
   "source": [
    "# КОД РЕВЬЮЕРА 2\n",
    "\n",
    "data.name.str.extract(r'(\\d\\d\\d\\d).*')"
   ]
  },
  {
   "cell_type": "markdown",
   "metadata": {
    "cellId": "ik3y9qffd6omuvfdobn2"
   },
   "source": [
    "Лемматизация выделяет строковые типы значений. Для того, чтобы привести числа к численным целым зачениям, необходимо заменить пропуски на нули методом fillna(), далее приветси к типу целого числа методом astype()."
   ]
  },
  {
   "cell_type": "code",
   "execution_count": 17,
   "metadata": {
    "cellId": "whm3dbz73r9ztph9ead1qi"
   },
   "outputs": [],
   "source": [
    "data['year_in_name'] = data['year_in_name'].fillna(0)"
   ]
  },
  {
   "cell_type": "code",
   "execution_count": 18,
   "metadata": {
    "cellId": "xn5d7bf5imei26zltdp4qj"
   },
   "outputs": [],
   "source": [
    "data['year_in_name'] = data['year_in_name'].astype('int')"
   ]
  },
  {
   "cell_type": "markdown",
   "metadata": {
    "cellId": "alowtt60vms674gz3zh4"
   },
   "source": [
    "Создам функцию, которая при применении будет заменять пропущенные значения в столбце year_of_release на число в столбце year_in_name, если данное число больше или равно минимальному году релиза в датафрейме, посчитанному методом min()."
   ]
  },
  {
   "cell_type": "code",
   "execution_count": 19,
   "metadata": {
    "cellId": "v4e48rtzbdsyquvqxtln"
   },
   "outputs": [],
   "source": [
    "def year_in_name_to_year_of_release(row):\n",
    "    year_in_name = row['year_in_name']\n",
    "    if year_in_name>=1980:\n",
    "        return year_in_name\n",
    " \n",
    "data.loc[data['year_of_release'].isna(),'year_of_release'] = data.loc[data['year_of_release'].isna()].apply(year_in_name_to_year_of_release, axis=1)"
   ]
  },
  {
   "cell_type": "markdown",
   "metadata": {
    "cellId": "aaxn5mtessugxk9fnmtgfw"
   },
   "source": [
    "Так как год в названии игры мог записываться не полностью, а сокращенно (две последние цифры года), выведу срез датафрейма с такими строками, чтобы убедиться, что число имеет отношение к году выхода (если оно стоит в конце названия игры, а не является неотъемлемой частью названия)."
   ]
  },
  {
   "cell_type": "code",
   "execution_count": 20,
   "metadata": {
    "cellId": "dmsp2ancg5hukgk964n758"
   },
   "outputs": [
    {
     "data": {
      "text/html": [
       "<div>\n",
       "<style scoped>\n",
       "    .dataframe tbody tr th:only-of-type {\n",
       "        vertical-align: middle;\n",
       "    }\n",
       "\n",
       "    .dataframe tbody tr th {\n",
       "        vertical-align: top;\n",
       "    }\n",
       "\n",
       "    .dataframe thead th {\n",
       "        text-align: right;\n",
       "    }\n",
       "</style>\n",
       "<table border=\"1\" class=\"dataframe\">\n",
       "  <thead>\n",
       "    <tr style=\"text-align: right;\">\n",
       "      <th></th>\n",
       "      <th>name</th>\n",
       "      <th>platform</th>\n",
       "      <th>year_of_release</th>\n",
       "      <th>genre</th>\n",
       "      <th>na_sales</th>\n",
       "      <th>eu_sales</th>\n",
       "      <th>jp_sales</th>\n",
       "      <th>other_sales</th>\n",
       "      <th>critic_score</th>\n",
       "      <th>user_score</th>\n",
       "      <th>rating</th>\n",
       "      <th>lemmatize_name</th>\n",
       "      <th>year_in_name</th>\n",
       "    </tr>\n",
       "  </thead>\n",
       "  <tbody>\n",
       "    <tr>\n",
       "      <td>1300</td>\n",
       "      <td>Triple Play 99</td>\n",
       "      <td>PS</td>\n",
       "      <td>NaN</td>\n",
       "      <td>Sports</td>\n",
       "      <td>0.81</td>\n",
       "      <td>0.55</td>\n",
       "      <td>0.0</td>\n",
       "      <td>0.10</td>\n",
       "      <td>NaN</td>\n",
       "      <td>NaN</td>\n",
       "      <td>NaN</td>\n",
       "      <td>[Triple,  , Play,  , 99, \\n]</td>\n",
       "      <td>99</td>\n",
       "    </tr>\n",
       "    <tr>\n",
       "      <td>2848</td>\n",
       "      <td>Madden NFL 11</td>\n",
       "      <td>Wii</td>\n",
       "      <td>NaN</td>\n",
       "      <td>Sports</td>\n",
       "      <td>0.68</td>\n",
       "      <td>0.00</td>\n",
       "      <td>0.0</td>\n",
       "      <td>0.04</td>\n",
       "      <td>75.0</td>\n",
       "      <td>5.4</td>\n",
       "      <td>E</td>\n",
       "      <td>[Madden,  , NFL,  , 11, \\n]</td>\n",
       "      <td>11</td>\n",
       "    </tr>\n",
       "    <tr>\n",
       "      <td>12045</td>\n",
       "      <td>Drake of the 99 Dragons</td>\n",
       "      <td>XB</td>\n",
       "      <td>NaN</td>\n",
       "      <td>Shooter</td>\n",
       "      <td>0.05</td>\n",
       "      <td>0.01</td>\n",
       "      <td>0.0</td>\n",
       "      <td>0.00</td>\n",
       "      <td>22.0</td>\n",
       "      <td>1.8</td>\n",
       "      <td>T</td>\n",
       "      <td>[Drake,  , of,  , the,  , 99,  , Dragons, \\n]</td>\n",
       "      <td>99</td>\n",
       "    </tr>\n",
       "  </tbody>\n",
       "</table>\n",
       "</div>"
      ],
      "text/plain": [
       "                          name platform  year_of_release    genre  na_sales  \\\n",
       "1300            Triple Play 99       PS              NaN   Sports      0.81   \n",
       "2848             Madden NFL 11      Wii              NaN   Sports      0.68   \n",
       "12045  Drake of the 99 Dragons       XB              NaN  Shooter      0.05   \n",
       "\n",
       "       eu_sales  jp_sales  other_sales  critic_score user_score rating  \\\n",
       "1300       0.55       0.0         0.10           NaN        NaN    NaN   \n",
       "2848       0.00       0.0         0.04          75.0        5.4      E   \n",
       "12045      0.01       0.0         0.00          22.0        1.8      T   \n",
       "\n",
       "                                      lemmatize_name  year_in_name  \n",
       "1300                    [Triple,  , Play,  , 99, \\n]            99  \n",
       "2848                     [Madden,  , NFL,  , 11, \\n]            11  \n",
       "12045  [Drake,  , of,  , the,  , 99,  , Dragons, \\n]            99  "
      ]
     },
     "execution_count": 20,
     "metadata": {},
     "output_type": "execute_result"
    }
   ],
   "source": [
    "data.query(\"(80<=year_in_name<=99 | 10<=year_in_name<=16) & year_of_release.isna()\", engine='python')"
   ]
  },
  {
   "cell_type": "markdown",
   "metadata": {
    "cellId": "l5kjjce801ogzqwwv08nqn"
   },
   "source": [
    "Числа в играх Madden NFL 11 и Triple Play 99 похожи на отношение к году выпуска, а вот 99 в игре Drake of the 99 Dragons - неотъемлимая часть названия. Поэтому создам функцию, которая при применении изменит пропуски в этих строках на необходимые значения года выпуска."
   ]
  },
  {
   "cell_type": "code",
   "execution_count": 21,
   "metadata": {
    "cellId": "y0ftie4sbd7zfz3jwi0dg"
   },
   "outputs": [],
   "source": [
    "def year_release(row):\n",
    "    if row == 'Triple Play 99':\n",
    "        return 1999\n",
    "    elif row == 'Madden NFL 11':\n",
    "        return 2011\n",
    "\n",
    "data.loc[data['year_of_release'].isna(), 'year_of_release'] = data.loc[data['year_of_release'].isna(), 'name'].apply(year_release)"
   ]
  },
  {
   "cell_type": "code",
   "execution_count": 22,
   "metadata": {
    "cellId": "zhcmgzdpydggbchtoed3c"
   },
   "outputs": [
    {
     "data": {
      "text/plain": [
       "250"
      ]
     },
     "execution_count": 22,
     "metadata": {},
     "output_type": "execute_result"
    }
   ],
   "source": [
    "data['year_of_release'].isna().sum()"
   ]
  },
  {
   "cell_type": "markdown",
   "metadata": {
    "cellId": "cs3ru4wjezlh96baabhfl4"
   },
   "source": [
    "После приминения лемматизации и заполнения пропусков в голе выпуска на год, указанный в названии игры, осталось 250 пропущенных значений, которые таким способом не заполнились. Поэтому я заполню оставшиеся значения модой года выпуска по названию игры. Для этого сперва создам функцию расчета моды. Это необходимо, так как метод transform() может выдасть список мод, функцией мы отбираем первую моду из этого списка."
   ]
  },
  {
   "cell_type": "code",
   "execution_count": 23,
   "metadata": {
    "cellId": "v4kul7042sscvtsyu2lid"
   },
   "outputs": [],
   "source": [
    "def mymode(s):\n",
    "    mode = s.mode()\n",
    "    if len(mode) > 0:\n",
    "        return mode[0]"
   ]
  },
  {
   "cell_type": "code",
   "execution_count": 24,
   "metadata": {
    "cellId": "yz7ly62g1cplo8t5lcr7m"
   },
   "outputs": [],
   "source": [
    "data['year_of_release'] = data['year_of_release'].fillna(data.groupby('name')['year_of_release'].transform(mymode))"
   ]
  },
  {
   "cell_type": "code",
   "execution_count": 25,
   "metadata": {
    "cellId": "crq119son0kttk85tr2yim"
   },
   "outputs": [
    {
     "data": {
      "text/plain": [
       "138"
      ]
     },
     "execution_count": 25,
     "metadata": {},
     "output_type": "execute_result"
    }
   ],
   "source": [
    "data['year_of_release'].isna().sum()"
   ]
  },
  {
   "cell_type": "markdown",
   "metadata": {
    "cellId": "03cujtpqhg2snbaud8gexn8"
   },
   "source": [
    "После применения этого способа заполнения пропусков, пропущенные значения все-таки остались. Это обусловлено тем, что ни у одного названия из оставшихся игр нет ни единого значения в колоке year_of_release, все пропущенные. Поэттому оставшиесяя пропуски я заменю модой года выпуска по платформе, на которой выпускалась игра. Хочу вставлять тот год, в который на данной платформе вышло больше всего игр."
   ]
  },
  {
   "cell_type": "code",
   "execution_count": 26,
   "metadata": {
    "cellId": "48kn2akh17ktdwqtvx0e0l"
   },
   "outputs": [],
   "source": [
    "data['year_of_release'] = data['year_of_release'].fillna(data.groupby('platform')['year_of_release'].transform(mymode))"
   ]
  },
  {
   "cell_type": "code",
   "execution_count": 27,
   "metadata": {
    "cellId": "r0eal0jszsexnv3nuffa"
   },
   "outputs": [
    {
     "data": {
      "text/plain": [
       "0"
      ]
     },
     "execution_count": 27,
     "metadata": {},
     "output_type": "execute_result"
    }
   ],
   "source": [
    "data['year_of_release'].isna().sum()"
   ]
  },
  {
   "cell_type": "markdown",
   "metadata": {
    "cellId": "sc0nwv8e1tjeb5lx2fc4c5"
   },
   "source": [
    "Столбцы \"user-score\", \"critic_score\" могут иметь пропуски, так как пользователи и критики могли не оценивать игру на каких-то платформах. В столбце \"user_score\" есть аббревиатура 'tbd' в значениях, означает на сленге \"to be determined\" - пока не определен. Для того, чтобы работать с значениями в дальнейшем, в столбце должны быть только численные значения. Поэтому заменю аббревиатуру на пропуски в значениях методом float('NaN')."
   ]
  },
  {
   "cell_type": "code",
   "execution_count": 28,
   "metadata": {
    "cellId": "oecg67zguxg31whs6qftbp"
   },
   "outputs": [],
   "source": [
    "data.loc[data['user_score'] == 'tbd','user_score'] = float('NaN')"
   ]
  },
  {
   "cell_type": "markdown",
   "metadata": {},
   "source": [
    "<div class=\"alert alert-success\" style=\"border-radius: 15px; box-shadow: 4px 4px 4px; border: 1px solid \">\n",
    "<b> Комментарий ревьюера ✔️</b>\n",
    "    \n",
    "Верно. По сути, это и есть Nan-ы.</div>"
   ]
  },
  {
   "cell_type": "markdown",
   "metadata": {
    "cellId": "ye0qz6av9jouwzodchpmn"
   },
   "source": [
    "Проверю, что значения столбца лежат в диапазоне от 0 до 10, так как рейтинг может быть только в этом диапазоне."
   ]
  },
  {
   "cell_type": "code",
   "execution_count": 29,
   "metadata": {
    "cellId": "bj8im17gfze6eng7atiuqd"
   },
   "outputs": [
    {
     "data": {
      "text/plain": [
       "array(['0', '0.2', '0.3', '0.5', '0.6', '0.7', '0.9', '1', '1.1', '1.2',\n",
       "       '1.3', '1.4', '1.5', '1.6', '1.7', '1.8', '1.9', '2', '2.1', '2.2',\n",
       "       '2.3', '2.4', '2.5', '2.6', '2.7', '2.8', '2.9', '3', '3.1', '3.2',\n",
       "       '3.3', '3.4', '3.5', '3.6', '3.7', '3.8', '3.9', '4', '4.1', '4.2',\n",
       "       '4.3', '4.4', '4.5', '4.6', '4.7', '4.8', '4.9', '5', '5.1', '5.2',\n",
       "       '5.3', '5.4', '5.5', '5.6', '5.7', '5.8', '5.9', '6', '6.1', '6.2',\n",
       "       '6.3', '6.4', '6.5', '6.6', '6.7', '6.8', '6.9', '7', '7.1', '7.2',\n",
       "       '7.3', '7.4', '7.5', '7.6', '7.7', '7.8', '7.9', '8', '8.1', '8.2',\n",
       "       '8.3', '8.4', '8.5', '8.6', '8.7', '8.8', '8.9', '9', '9.1', '9.2',\n",
       "       '9.3', '9.4', '9.5', '9.6', '9.7', nan], dtype=object)"
      ]
     },
     "execution_count": 29,
     "metadata": {},
     "output_type": "execute_result"
    }
   ],
   "source": [
    "data['user_score'].sort_values().unique()"
   ]
  },
  {
   "cell_type": "markdown",
   "metadata": {
    "cellId": "gl2ocevj1squ99qw56jsr"
   },
   "source": [
    "Проверю, что значения в столбце оценки критиков лежат в диапазоне от 0 до 100."
   ]
  },
  {
   "cell_type": "code",
   "execution_count": 30,
   "metadata": {
    "cellId": "qa4j53dx4aks8ajo468o"
   },
   "outputs": [
    {
     "data": {
      "text/plain": [
       "array([13., 17., 19., 20., 21., 22., 23., 24., 25., 26., 27., 28., 29.,\n",
       "       30., 31., 32., 33., 34., 35., 36., 37., 38., 39., 40., 41., 42.,\n",
       "       43., 44., 45., 46., 47., 48., 49., 50., 51., 52., 53., 54., 55.,\n",
       "       56., 57., 58., 59., 60., 61., 62., 63., 64., 65., 66., 67., 68.,\n",
       "       69., 70., 71., 72., 73., 74., 75., 76., 77., 78., 79., 80., 81.,\n",
       "       82., 83., 84., 85., 86., 87., 88., 89., 90., 91., 92., 93., 94.,\n",
       "       95., 96., 97., 98., nan])"
      ]
     },
     "execution_count": 30,
     "metadata": {},
     "output_type": "execute_result"
    }
   ],
   "source": [
    "data['critic_score'].sort_values().unique()"
   ]
  },
  {
   "cell_type": "markdown",
   "metadata": {
    "cellId": "nzb06ytbuufcuz5fxuzbz"
   },
   "source": [
    "Пропуски в рейтинге компютерных игр могут быть неслучайно, у некоторых игр может не быть признанного рейтинга, поэтому пропуски в этом столбце я заменять не буду."
   ]
  },
  {
   "cell_type": "code",
   "execution_count": 31,
   "metadata": {},
   "outputs": [
    {
     "data": {
      "text/plain": [
       "6764"
      ]
     },
     "execution_count": 31,
     "metadata": {},
     "output_type": "execute_result"
    }
   ],
   "source": [
    "data['rating'].isna().sum()"
   ]
  },
  {
   "cell_type": "markdown",
   "metadata": {},
   "source": [
    "<div class=\"alert alert-danger\" style=\"border-radius: 15px; box-shadow: 4px 4px 4px; border: 1px solid \">\n",
    "<b> Комментарий ревьюера  ❌</b>\n",
    "    \n",
    "С годом все понятно, его не может не быть и даже заменяя с погрешностью плюс-минус попадем. Но тут пропуски могли возникнуть не случайно. Вдруг у игр вообще не должно быть рейтинга? В разделе с портретами мы четко видим, что в Японии таких игр больше всего. Возможно, этому есть причина. Заменять пропуски не нужно.</div>"
   ]
  },
  {
   "cell_type": "markdown",
   "metadata": {},
   "source": [
    "<font color= 'dodgerblue'>**Комментарий студента:**</font> Удалила замену пропусков в столбце rating, оставила пропуски как они есть.\n",
    "</div>"
   ]
  },
  {
   "cell_type": "markdown",
   "metadata": {
    "cellId": "bpvn5mm3n7uuutz9ck0ck"
   },
   "source": [
    "### Преобразование типов"
   ]
  },
  {
   "cell_type": "code",
   "execution_count": 32,
   "metadata": {
    "cellId": "ckxbyxlorvazy1il5m1wl"
   },
   "outputs": [
    {
     "name": "stdout",
     "output_type": "stream",
     "text": [
      "<class 'pandas.core.frame.DataFrame'>\n",
      "RangeIndex: 16713 entries, 0 to 16712\n",
      "Data columns (total 13 columns):\n",
      "name               16713 non-null object\n",
      "platform           16713 non-null object\n",
      "year_of_release    16713 non-null float64\n",
      "genre              16713 non-null object\n",
      "na_sales           16713 non-null float64\n",
      "eu_sales           16713 non-null float64\n",
      "jp_sales           16713 non-null float64\n",
      "other_sales        16713 non-null float64\n",
      "critic_score       8137 non-null float64\n",
      "user_score         7590 non-null object\n",
      "rating             9949 non-null object\n",
      "lemmatize_name     16713 non-null object\n",
      "year_in_name       16713 non-null int64\n",
      "dtypes: float64(6), int64(1), object(6)\n",
      "memory usage: 1.7+ MB\n"
     ]
    }
   ],
   "source": [
    "data.info()"
   ]
  },
  {
   "cell_type": "markdown",
   "metadata": {
    "cellId": "e298lpzlip4kmr1t3jt74s"
   },
   "source": [
    "Заменю тип колонки year_of_release на целочисленный, так как года - целые числа."
   ]
  },
  {
   "cell_type": "code",
   "execution_count": 33,
   "metadata": {
    "cellId": "ve9okrbq6kjkq35hlx1tp"
   },
   "outputs": [],
   "source": [
    "data['year_of_release'] = data['year_of_release'].astype('int')"
   ]
  },
  {
   "cell_type": "markdown",
   "metadata": {
    "cellId": "lngsxyr2gncisc1v7wnz9m"
   },
   "source": [
    "Заменю тип колонки user_score на тип float, так как до этого тип этой колонки был object из-за наличия строкового значения (tbd аббревиатуры)."
   ]
  },
  {
   "cell_type": "code",
   "execution_count": 34,
   "metadata": {
    "cellId": "qza2qk5ajsgy7ukgpkka"
   },
   "outputs": [],
   "source": [
    "data['user_score'] = data['user_score'].astype('float')"
   ]
  },
  {
   "cell_type": "markdown",
   "metadata": {
    "cellId": "pkomm48x7yplvld703x3h"
   },
   "source": [
    "### Добавление расчетов"
   ]
  },
  {
   "cell_type": "markdown",
   "metadata": {
    "cellId": "b5iooqky6tj14ey8nv6cya"
   },
   "source": [
    "Посчитаю суммарные продажи во всех регионах и запишу их в отдельный столбец totla_sales."
   ]
  },
  {
   "cell_type": "code",
   "execution_count": 35,
   "metadata": {
    "cellId": "4en7uz03xysgsl3nylhnf6"
   },
   "outputs": [],
   "source": [
    "data['total_sales'] = data['na_sales']+data['eu_sales']+data['jp_sales']+data['other_sales']"
   ]
  },
  {
   "cell_type": "markdown",
   "metadata": {},
   "source": [
    "<div class=\"alert alert-success\" style=\"border-radius: 15px; box-shadow: 4px 4px 4px; border: 1px solid \">\n",
    "<b> Комментарий ревьюера ✔️</b>\n",
    "    \n",
    "Можно еще взять метод **sum** с аргументом **axis=1**.\n",
    "    \n",
    "</div>\n",
    "\n",
    "```python\n",
    "\n",
    "\n",
    "df['total_sales'] = df[['na_sales','eu_sales','jp_sales','other_sales']].sum(axis=1)\n",
    "```"
   ]
  },
  {
   "cell_type": "markdown",
   "metadata": {
    "cellId": "bxixipxihsjj1xfh05yzl"
   },
   "source": [
    "## Исследовательский анализ данных"
   ]
  },
  {
   "cell_type": "markdown",
   "metadata": {
    "cellId": "cc8ua3hupho50lulamcmf"
   },
   "source": [
    "### Выпуски игр по годам"
   ]
  },
  {
   "cell_type": "code",
   "execution_count": 36,
   "metadata": {
    "cellId": "tl8nehdicplvqmn0k6nun"
   },
   "outputs": [],
   "source": [
    "data_games_year = data.pivot_table(index = 'year_of_release', values = 'name', aggfunc = 'count').reset_index()"
   ]
  },
  {
   "cell_type": "code",
   "execution_count": 37,
   "metadata": {
    "cellId": "h5vmv99dogd2x4pvv8ih17"
   },
   "outputs": [
    {
     "data": {
      "text/plain": [
       "Text(0.5, 1.0, 'Выпуски игр по годам')"
      ]
     },
     "execution_count": 37,
     "metadata": {},
     "output_type": "execute_result"
    },
    {
     "data": {
      "image/png": "[encoded data removed]",
      "text/plain": [
       "<Figure size 1080x360 with 1 Axes>"
      ]
     },
     "metadata": {
      "needs_background": "light"
     },
     "output_type": "display_data"
    }
   ],
   "source": [
    "data_games_year.plot(x = 'year_of_release', y = 'name', color = 'pink', kind = 'bar',figsize = (15,5))\n",
    "plt.ylabel('number of games')\n",
    "plt.title('Выпуски игр по годам')"
   ]
  },
  {
   "cell_type": "markdown",
   "metadata": {
    "cellId": "k2z9dej499ky1ze9h2xsf"
   },
   "source": [
    "На графике можно заметить стабильно низкие выпуски в период с 1980 по 1993 год. После 1993 года начинается плавный рост выпусков игр. После 2001 года наблюдается резкий скачок в выпуске игр. Акивный рост выпска игр идет до 2009 года, после 2009 года идет медленное падение. Выпуск игр заметно резко падает в 2012 году и до 2016 года колеблется в районе 500 игр. Так как нам необходимо сделать прогноз на следующий год, все данные по всем годам с 1980 года нам не нужны. Актуальные данные для этой задачи - с 2012 года, так как с 2012 года не наблюдается резких изменений в выпуске игр."
   ]
  },
  {
   "cell_type": "markdown",
   "metadata": {},
   "source": [
    "<div class=\"alert alert-success\" style=\"border-radius: 15px; box-shadow: 4px 4px 4px; border: 1px solid \">\n",
    "<b> Комментарий ревьюера ✔️</b>\n",
    "    \n",
    "Отличная визуализация. Уже по ней можно прикинуть актуальный период. Не забывай, что подписи на осях и заголовки лучше делать на языке ТЗ. Легенду тут тоже можно убрать.\n",
    "</div>\n"
   ]
  },
  {
   "cell_type": "markdown",
   "metadata": {
    "cellId": "tmqrdio4c5fwrlcekjl0vf"
   },
   "source": [
    "### Продажи игр по платформам"
   ]
  },
  {
   "cell_type": "code",
   "execution_count": 38,
   "metadata": {
    "cellId": "b6zvgtnilwsu9kt28egoy"
   },
   "outputs": [],
   "source": [
    "data_games_platform = data.pivot_table(index = 'platform', values = 'total_sales', aggfunc = 'sum').reset_index()"
   ]
  },
  {
   "cell_type": "code",
   "execution_count": 39,
   "metadata": {
    "cellId": "lw0xylx686d9h0zt88j4tb"
   },
   "outputs": [
    {
     "data": {
      "text/html": [
       "<div>\n",
       "<style scoped>\n",
       "    .dataframe tbody tr th:only-of-type {\n",
       "        vertical-align: middle;\n",
       "    }\n",
       "\n",
       "    .dataframe tbody tr th {\n",
       "        vertical-align: top;\n",
       "    }\n",
       "\n",
       "    .dataframe thead th {\n",
       "        text-align: right;\n",
       "    }\n",
       "</style>\n",
       "<table border=\"1\" class=\"dataframe\">\n",
       "  <thead>\n",
       "    <tr style=\"text-align: right;\">\n",
       "      <th></th>\n",
       "      <th>platform</th>\n",
       "      <th>total_sales</th>\n",
       "    </tr>\n",
       "  </thead>\n",
       "  <tbody>\n",
       "    <tr>\n",
       "      <td>16</td>\n",
       "      <td>PS2</td>\n",
       "      <td>1255.77</td>\n",
       "    </tr>\n",
       "    <tr>\n",
       "      <td>28</td>\n",
       "      <td>X360</td>\n",
       "      <td>971.42</td>\n",
       "    </tr>\n",
       "    <tr>\n",
       "      <td>17</td>\n",
       "      <td>PS3</td>\n",
       "      <td>939.65</td>\n",
       "    </tr>\n",
       "    <tr>\n",
       "      <td>26</td>\n",
       "      <td>Wii</td>\n",
       "      <td>907.51</td>\n",
       "    </tr>\n",
       "    <tr>\n",
       "      <td>4</td>\n",
       "      <td>DS</td>\n",
       "      <td>806.12</td>\n",
       "    </tr>\n",
       "    <tr>\n",
       "      <td>15</td>\n",
       "      <td>PS</td>\n",
       "      <td>730.86</td>\n",
       "    </tr>\n",
       "    <tr>\n",
       "      <td>6</td>\n",
       "      <td>GBA</td>\n",
       "      <td>317.85</td>\n",
       "    </tr>\n",
       "    <tr>\n",
       "      <td>18</td>\n",
       "      <td>PS4</td>\n",
       "      <td>314.14</td>\n",
       "    </tr>\n",
       "    <tr>\n",
       "      <td>19</td>\n",
       "      <td>PSP</td>\n",
       "      <td>294.05</td>\n",
       "    </tr>\n",
       "    <tr>\n",
       "      <td>13</td>\n",
       "      <td>PC</td>\n",
       "      <td>259.52</td>\n",
       "    </tr>\n",
       "  </tbody>\n",
       "</table>\n",
       "</div>"
      ],
      "text/plain": [
       "   platform  total_sales\n",
       "16      PS2      1255.77\n",
       "28     X360       971.42\n",
       "17      PS3       939.65\n",
       "26      Wii       907.51\n",
       "4        DS       806.12\n",
       "15       PS       730.86\n",
       "6       GBA       317.85\n",
       "18      PS4       314.14\n",
       "19      PSP       294.05\n",
       "13       PC       259.52"
      ]
     },
     "execution_count": 39,
     "metadata": {},
     "output_type": "execute_result"
    }
   ],
   "source": [
    "data_games_platform.sort_values('total_sales', ascending = False).head(10)"
   ]
  },
  {
   "cell_type": "code",
   "execution_count": 40,
   "metadata": {
    "cellId": "ulahk4t15zlr53z0cvun0s"
   },
   "outputs": [],
   "source": [
    "platform_to_keep = ['PS2','X360','PS3','Wii','DS','PS','GBA','PS4','PSP','PC']"
   ]
  },
  {
   "cell_type": "code",
   "execution_count": 41,
   "metadata": {
    "cellId": "qb29md2r2ufniz3izb2pym"
   },
   "outputs": [
    {
     "data": {
      "text/plain": [
       "Text(0.5, 1.0, 'Распределение продаж в штуках по годам для топ-10 платформ по итоговым продажам')"
      ]
     },
     "execution_count": 41,
     "metadata": {},
     "output_type": "execute_result"
    },
    {
     "data": {
      "image/png": "[encoded data removed]",
      "text/plain": [
       "<Figure size 1080x360 with 1 Axes>"
      ]
     },
     "metadata": {
      "needs_background": "light"
     },
     "output_type": "display_data"
    }
   ],
   "source": [
    "for platform in platform_to_keep:\n",
    "    data[data['platform']==platform].groupby('year_of_release')['total_sales'].sum().plot(label=platform, figsize = (15,5))\n",
    "plt.legend()    \n",
    "plt.xlabel('Год')\n",
    "plt.ylabel('Продажи, млн.штук')\n",
    "plt.title('Распределение продаж в штуках по годам для топ-10 платформ по итоговым продажам')"
   ]
  },
  {
   "cell_type": "markdown",
   "metadata": {
    "cellId": "w2tacaxhm0rt8pjzhyecol"
   },
   "source": [
    "На графике можно заметить, что только одна платформа из топ-10 выпускала игры на протяжении всех годов с 1980 по 2016 - это платформа PC. Все остальны платформы использовались в течение какого-то времени, потом график прерывается, значит выпусков игр на платформе не было больше. Можно заметить, что почти все представленные на графике платформы изживали себя примерно через 10 лет."
   ]
  },
  {
   "cell_type": "markdown",
   "metadata": {},
   "source": [
    "<div class=\"alert alert-success\" style=\"border-radius: 15px; box-shadow: 4px 4px 4px; border: 1px solid \">\n",
    "<b> Комментарий ревьюера ✔️</b>\n",
    "    \n",
    "Да, примерно столько они и живут.    \n",
    "</div>"
   ]
  },
  {
   "cell_type": "markdown",
   "metadata": {
    "cellId": "eb18oonlrbk6p2nwwipbvk"
   },
   "source": [
    "### Актуальный период"
   ]
  },
  {
   "cell_type": "markdown",
   "metadata": {
    "cellId": "gv9w0xyxwxy7v66nmxtkp"
   },
   "source": [
    "Актуальным периодом для расчета прогноза на 2017 год было решено взять данные с 2012 по 2016 год. В этот период не наблюдалось резких скачков и падений, которые могут некорректно повлиять на прогноз. Так же 7 из 10 платформ из списка топ-10 платформ по итоговым продажам находятся в этом диапазоне периода."
   ]
  },
  {
   "cell_type": "code",
   "execution_count": 42,
   "metadata": {
    "cellId": "pmkk3qzdv9ij2mwaqmm8a"
   },
   "outputs": [],
   "source": [
    "data_act = data[data['year_of_release']>=2012]"
   ]
  },
  {
   "cell_type": "markdown",
   "metadata": {
    "cellId": "35skbipbg86m4xb6t1lzi9"
   },
   "source": [
    "### Потенциально прибыльные платформы"
   ]
  },
  {
   "cell_type": "markdown",
   "metadata": {
    "cellId": "7wak32za1070siumql8ycf"
   },
   "source": [
    "Для того, чтобы определить потенциально прибыльные платформы, необходимо оценить, какие платформы за выбранный актуальный период лидируют по продажам, растут или падают. Для этого построю график по сводной таблице, где по оси х будут года актуального периода, по оси у - суммарные продажи по каждой платформе."
   ]
  },
  {
   "cell_type": "code",
   "execution_count": 43,
   "metadata": {
    "cellId": "q59djs4fykntu53nnigaxq"
   },
   "outputs": [
    {
     "data": {
      "image/png": "[encoded data removed]",
      "text/plain": [
       "<Figure size 1080x360 with 1 Axes>"
      ]
     },
     "metadata": {
      "needs_background": "light"
     },
     "output_type": "display_data"
    }
   ],
   "source": [
    "platform_data_act = (data_act\n",
    "                 .pivot_table(index=['platform', 'year_of_release'], values='total_sales', aggfunc='sum')\n",
    "                 .reset_index()\n",
    "                )\n",
    "\n",
    "plt.figure(figsize=(15,5))\n",
    "seaborn.lineplot(data=platform_data_act, x='year_of_release', y='total_sales', hue='platform', marker = 'o')\n",
    " \n",
    "plt.title('Распределение продаж по платформам за актуальный период (2012-2016гг.)')\n",
    "plt.ylabel('Продажи, млн.штук')\n",
    "plt.xlabel('Год')\n",
    "plt.xticks(range(2012, 2017))\n",
    "plt.legend(bbox_to_anchor=(1.12, 1))\n",
    "plt.show()"
   ]
  },
  {
   "cell_type": "markdown",
   "metadata": {},
   "source": [
    "<div class=\"alert alert-warning\" style=\"border-radius: 15px; box-shadow: 4px 4px 4px;border: 1px solid \">\n",
    "<b> Комментарий ревьюера  ⚠️</b>\n",
    "    \n",
    "Чтобы легенда не перекрывала график, можно ее вынести наружу с помощью параметра **bbox_to_anchor**. `plt.legend(bbox_to_anchor=(1.3, 1))`\n",
    "</div>"
   ]
  },
  {
   "cell_type": "markdown",
   "metadata": {},
   "source": [
    "<font color= 'dodgerblue'>**Комментарий студента:**</font> Добавила параметр для вынесения легенды за график.\n",
    "</div>"
   ]
  },
  {
   "cell_type": "markdown",
   "metadata": {
    "cellId": "caf7akmpq3tpxh10dci2of"
   },
   "source": [
    "На графике выделяются 3 платформы, у которых продажи самые высокие - PS4, XOne, 3DS. Видно, что все платформы в выбранный актуальный период имеют нисходящий тренд, убыль суммарных продаж (в штуках). Однако, все еще много людей пользуются некотоырми платформами и все еще продаются миллионы копий игр на платформах. Поэтому, для того, чтобы расширить свой ТОП потенциально прибыльных платформ, я рассмотрю суммарные продажи по платформам в период 2014-2016гг. и выделю еще несколько платформ с высокими продажами."
   ]
  },
  {
   "cell_type": "markdown",
   "metadata": {},
   "source": [
    "<div class=\"alert alert-success\" style=\"border-radius: 15px; box-shadow: 4px 4px 4px; border: 1px solid \">\n",
    "<b> Комментарий ревьюера  ✔️</b>\n",
    "    \n",
    "Соглашусь.</div>"
   ]
  },
  {
   "cell_type": "code",
   "execution_count": 44,
   "metadata": {
    "cellId": "io5goikg667i37tr0dwzy"
   },
   "outputs": [],
   "source": [
    "data_act_2014_2016 = data_act[data_act['year_of_release']>=2014]"
   ]
  },
  {
   "cell_type": "code",
   "execution_count": 45,
   "metadata": {
    "cellId": "yl2qhfiy1zzhlepvexg6n"
   },
   "outputs": [
    {
     "data": {
      "text/plain": [
       "<function matplotlib.pyplot.show(*args, **kw)>"
      ]
     },
     "execution_count": 45,
     "metadata": {},
     "output_type": "execute_result"
    },
    {
     "data": {
      "image/png": "[encoded data removed]",
      "text/plain": [
       "<Figure size 1080x360 with 1 Axes>"
      ]
     },
     "metadata": {
      "needs_background": "light"
     },
     "output_type": "display_data"
    }
   ],
   "source": [
    "data_act_2014_2016.pivot_table(\n",
    "    index = 'platform', \n",
    "    values = 'total_sales', \n",
    "    aggfunc = 'sum').reset_index().sort_values('total_sales', ascending = False).plot(\n",
    "    x = 'platform', \n",
    "    y = 'total_sales', \n",
    "    kind = 'bar', \n",
    "    color = 'yellow', \n",
    "    figsize = (15,5))\n",
    "plt.title('Продажи по платформам 2014-2016гг.')\n",
    "plt.xlabel('Платформа')\n",
    "plt.ylabel('Продажи, млн.штук')\n",
    "plt.show"
   ]
  },
  {
   "cell_type": "markdown",
   "metadata": {
    "cellId": "4n62uqmojrk150390ronmf"
   },
   "source": [
    "На графике продаж по платформам за 2014-2016 года видно, что больше всего продаж (в штуках) было у платформы PS4, на втором месте - XOne, далее - 3DS, их высокие продажи были видны и на предыдущем графике. Для того, чтобы расширить ТОП платформ по продажам, я включу туда следующие по суммарным продажам платформы: PS3, X360, WiiU. \n",
    "\n",
    "Итого, потенциально прибыльные платформы по момему анализу: \n",
    "1. PS4\n",
    "2. XOne\n",
    "3. 3DS\n",
    "4. PS3\n",
    "5. X360\n",
    "6. WiiU"
   ]
  },
  {
   "cell_type": "markdown",
   "metadata": {
    "cellId": "sybd3sshct6axwcaxg50c"
   },
   "source": [
    "Далее, построю диаграммы \"Ящик с усами\" для более детальных выводов по суммарным продажам каждой платформы."
   ]
  },
  {
   "cell_type": "code",
   "execution_count": 46,
   "metadata": {
    "cellId": "h2gf6p79pdxf713dzq3hf"
   },
   "outputs": [],
   "source": [
    "platform_to_keep = ['PS4','XOne','3DS','PS3','X360','WiiU']"
   ]
  },
  {
   "cell_type": "code",
   "execution_count": 47,
   "metadata": {
    "cellId": "8wwi8uq6z9x95x4vhr339r"
   },
   "outputs": [
    {
     "data": {
      "image/png": "[encoded data removed]",
      "text/plain": [
       "<Figure size 1080x360 with 1 Axes>"
      ]
     },
     "metadata": {
      "needs_background": "light"
     },
     "output_type": "display_data"
    }
   ],
   "source": [
    "data_act.query('platform in @platform_to_keep').boxplot('total_sales', by='platform', figsize = (15,5))\n",
    "plt.title('Ящик с усами по продажам на платформах')\n",
    "plt.xlabel('Платформа')\n",
    "plt.ylabel('Продажи, млн.штук')\n",
    "plt.yscale('log')\n",
    "plt.show()"
   ]
  },
  {
   "cell_type": "markdown",
   "metadata": {},
   "source": [
    "<div class=\"alert alert-danger\" style=\"border-radius: 15px; box-shadow: 4px 4px 4px; border: 1px solid \">\n",
    "<b> Комментарий ревьюера  ❌</b>\n",
    "    \n",
    "Таблица **platform_data_act** содержит группировку по годам. Нас просят построить боксплот в разбивке по платформам, группировка по годам не нужна. Идея: рассмотреть распределение продаж за весь период, а не сравнить на какой платформе сколько купили в тот или иной год.\n",
    "    \n",
    "    \n",
    "Добавь, пожалуйста, пару слов про выбросы. Это важно, поскольку не каждый клиент умеет правильно интерпретировать подобные диаграммы.\n",
    "</div>"
   ]
  },
  {
   "cell_type": "markdown",
   "metadata": {},
   "source": [
    "<font color= 'dodgerblue'>**Комментарий студента:**</font> Взяла за основу для графика таблицу data_act, которая не содержит группировку по годам. Выбрала только те платформы, которые относятся к выведенному топ-5, в выводе описала выбросы.\n",
    "</div>"
   ]
  },
  {
   "cell_type": "markdown",
   "metadata": {},
   "source": [
    "Рассматривая ящики с усами, можно сделать вывод, что медианное значение в актуальный период одинаково высокое у PS3 и X360. У топ-1 платформы PS4 медианное значение продаж ниже всего среди выделенных топ-5 платформ. Тем не менее, у платформы PS4 самый большой размах между первым и третьим квартилями.Так же стоит отметить, что у каждой платформы есть достаточно большое количество выбросов - аномальных значений, не входящих в размах приемлемых значений. Эти аномальные значения находятся только выше верхней границы размаха, соответственно это игры, продажи которых очень высокие, чень популярные игры на платформах. "
   ]
  },
  {
   "cell_type": "markdown",
   "metadata": {},
   "source": [
    "<div class=\"alert alert-success\" style=\"border-radius: 15px; box-shadow: 4px 4px 4px; border: 1px solid \">\n",
    "<h2> Комментарий ревьюера 2  ✔️</h2>\n",
    "    \n",
    "Все верно. Выбросы это какие-то популярные игры. И это очень показательная штука. Посмотри на 3DS. Маленький ящик и много выбросов. Это говорит о том, что большАя часть объема продаж делается за счет этих выбросов. В то же время у XOne ситуация иная: большой бокс, длинный ус и мало выбросов. Это свидетельствует о том, что на XOne покупают самые разные игры, причем, в немалом количестве. \n",
    "</div>"
   ]
  },
  {
   "cell_type": "markdown",
   "metadata": {
    "cellId": "cjnndgwnsbvgkm171wcoss"
   },
   "source": [
    "### Влияние отзывов на продажи "
   ]
  },
  {
   "cell_type": "markdown",
   "metadata": {
    "cellId": "tbc93ml2apg0fnobixxaait"
   },
   "source": [
    "Чтобы оценить влияние отзывов пользователей и отзывов критиков на продажи игр на платформе, я построю диаграммы рассеяния, которые покажут зависимость между отзывами и суммарными продажами для каждой платформы."
   ]
  },
  {
   "cell_type": "code",
   "execution_count": 48,
   "metadata": {
    "cellId": "xq35ut4708agnbpejr65r",
    "scrolled": false
   },
   "outputs": [
    {
     "name": "stdout",
     "output_type": "stream",
     "text": [
      "Коэффициент корреляции: -0.031957110204556424\n"
     ]
    },
    {
     "data": {
      "image/png": "[encoded data removed]",
      "text/plain": [
       "<Figure size 432x288 with 1 Axes>"
      ]
     },
     "metadata": {
      "needs_background": "light"
     },
     "output_type": "display_data"
    },
    {
     "name": "stdout",
     "output_type": "stream",
     "text": [
      "Коэффициент корреляции: -0.06892505328279414\n"
     ]
    },
    {
     "data": {
      "image/png": "[encoded data removed]",
      "text/plain": [
       "<Figure size 432x288 with 1 Axes>"
      ]
     },
     "metadata": {
      "needs_background": "light"
     },
     "output_type": "display_data"
    },
    {
     "name": "stdout",
     "output_type": "stream",
     "text": [
      "Коэффициент корреляции: 0.19814963960883378\n"
     ]
    },
    {
     "data": {
      "image/png": "[encoded data removed]",
      "text/plain": [
       "<Figure size 432x288 with 1 Axes>"
      ]
     },
     "metadata": {
      "needs_background": "light"
     },
     "output_type": "display_data"
    },
    {
     "name": "stdout",
     "output_type": "stream",
     "text": [
      "Коэффициент корреляции: -0.005043048088258084\n"
     ]
    },
    {
     "data": {
      "image/png": "[encoded data removed]",
      "text/plain": [
       "<Figure size 432x288 with 1 Axes>"
      ]
     },
     "metadata": {
      "needs_background": "light"
     },
     "output_type": "display_data"
    },
    {
     "name": "stdout",
     "output_type": "stream",
     "text": [
      "Коэффициент корреляции: 0.006314938203566999\n"
     ]
    },
    {
     "data": {
      "image/png": "[encoded data removed]",
      "text/plain": [
       "<Figure size 432x288 with 1 Axes>"
      ]
     },
     "metadata": {
      "needs_background": "light"
     },
     "output_type": "display_data"
    },
    {
     "name": "stdout",
     "output_type": "stream",
     "text": [
      "Коэффициент корреляции: 0.4002190202148617\n"
     ]
    },
    {
     "data": {
      "image/png": "[encoded data removed]",
      "text/plain": [
       "<Figure size 432x288 with 1 Axes>"
      ]
     },
     "metadata": {
      "needs_background": "light"
     },
     "output_type": "display_data"
    }
   ],
   "source": [
    "for platform in platform_to_keep:\n",
    "    print('Коэффициент корреляции: {0}'.format(data_act[data_act['platform']==platform]['user_score'].corr(data_act[data_act['platform']==platform]['total_sales'])))\n",
    "    data_act[data_act['platform']==platform].plot(kind = 'scatter', x = 'user_score', y = 'total_sales', label = platform, color = 'blue')\n",
    "    plt.legend()    \n",
    "    plt.xlabel('Отзыв пользователей')\n",
    "    plt.ylabel('Продажи, млн.штук')\n",
    "    plt.title(f'Зависимость между продажами и отзывами пользователей ({platform})')\n",
    "    plt.show()\n"
   ]
  },
  {
   "cell_type": "code",
   "execution_count": 49,
   "metadata": {
    "cellId": "tsh1t3cl1mea4qjkgv55u"
   },
   "outputs": [
    {
     "name": "stdout",
     "output_type": "stream",
     "text": [
      "Коэффициент корреляции отзывов пользователей и продаж для платформы PS4: -0.031957110204556424\n",
      "Коэффициент корреляции отзывов пользователей и продаж для платформы XOne: -0.06892505328279414\n",
      "Коэффициент корреляции отзывов пользователей и продаж для платформы 3DS: 0.19814963960883378\n",
      "Коэффициент корреляции отзывов пользователей и продаж для платформы PS3: -0.005043048088258084\n",
      "Коэффициент корреляции отзывов пользователей и продаж для платформы X360: 0.006314938203566999\n",
      "Коэффициент корреляции отзывов пользователей и продаж для платформы WiiU: 0.4002190202148617\n"
     ]
    }
   ],
   "source": [
    "for platform in platform_to_keep:\n",
    "    print('Коэффициент корреляции отзывов пользователей и продаж для платформы {0}: {1}'.format(platform, data_act[data_act['platform']==platform]['user_score'].corr(data_act[data_act['platform']==platform]['total_sales'])))"
   ]
  },
  {
   "cell_type": "markdown",
   "metadata": {
    "cellId": "30wkd869yrfjb7jf4whgg"
   },
   "source": [
    "Можно считать, что между двумя переменными есть зависимость, если коэффициент корреляции между ними больше 0.5 (или меньше -0.5 при негативной корреляции). Ни в одном из случаев коэффициент не превышает (или не является ниже) указанных значений, поэтому можно говорить, что зависимости между отзывами пользователей и суммарными продажами на каждой из платформ нет. Диаграммы рассеяния это визуально подтверждают."
   ]
  },
  {
   "cell_type": "code",
   "execution_count": 50,
   "metadata": {
    "cellId": "ksh6rpsl3zig3eu1cwil"
   },
   "outputs": [
    {
     "data": {
      "image/png": "[encoded data removed]",
      "text/plain": [
       "<Figure size 432x288 with 1 Axes>"
      ]
     },
     "metadata": {
      "needs_background": "light"
     },
     "output_type": "display_data"
    },
    {
     "data": {
      "image/png": "[encoded data removed]",
      "text/plain": [
       "<Figure size 432x288 with 1 Axes>"
      ]
     },
     "metadata": {
      "needs_background": "light"
     },
     "output_type": "display_data"
    },
    {
     "data": {
      "image/png": "[encoded data removed]",
      "text/plain": [
       "<Figure size 432x288 with 1 Axes>"
      ]
     },
     "metadata": {
      "needs_background": "light"
     },
     "output_type": "display_data"
    },
    {
     "data": {
      "image/png": "[encoded data removed]",
      "text/plain": [
       "<Figure size 432x288 with 1 Axes>"
      ]
     },
     "metadata": {
      "needs_background": "light"
     },
     "output_type": "display_data"
    },
    {
     "data": {
      "image/png": "[encoded data removed]",
      "text/plain": [
       "<Figure size 432x288 with 1 Axes>"
      ]
     },
     "metadata": {
      "needs_background": "light"
     },
     "output_type": "display_data"
    },
    {
     "data": {
      "image/png": "[encoded data removed]",
      "text/plain": [
       "<Figure size 432x288 with 1 Axes>"
      ]
     },
     "metadata": {
      "needs_background": "light"
     },
     "output_type": "display_data"
    }
   ],
   "source": [
    "for platform in platform_to_keep:\n",
    "    data_act[data_act['platform']==platform].plot(kind = 'scatter', x = 'critic_score', y = 'total_sales', label = platform, color = 'purple')\n",
    "    plt.legend()    \n",
    "    plt.xlabel('Отзывы критиков')\n",
    "    plt.ylabel('Продажи, млн.штук')\n",
    "    plt.title('Зависимость между продажами и отзывами критиков')\n",
    "    plt.show()"
   ]
  },
  {
   "cell_type": "code",
   "execution_count": 51,
   "metadata": {
    "cellId": "3qjrm75lxdoo3g39jtd438"
   },
   "outputs": [
    {
     "name": "stdout",
     "output_type": "stream",
     "text": [
      "Коэффициент корреляции отзывов критиков и продаж для платформы PS4: 0.40656790206178095\n",
      "Коэффициент корреляции отзывов критиков и продаж для платформы XOne: 0.4169983280084017\n",
      "Коэффициент корреляции отзывов критиков и продаж для платформы 3DS: 0.32045778764077804\n",
      "Коэффициент корреляции отзывов критиков и продаж для платформы PS3: 0.3313706318754621\n",
      "Коэффициент корреляции отзывов критиков и продаж для платформы X360: 0.3602659026138049\n",
      "Коэффициент корреляции отзывов критиков и продаж для платформы WiiU: 0.34837976012017485\n"
     ]
    }
   ],
   "source": [
    "for platform in platform_to_keep:\n",
    "    print('Коэффициент корреляции отзывов критиков и продаж для платформы {0}: {1}'.format(platform, data_act[data_act['platform']==platform]['critic_score'].corr(data_act[data_act['platform']==platform]['total_sales'])))"
   ]
  },
  {
   "cell_type": "markdown",
   "metadata": {
    "cellId": "ft1ivfeli4m1rhrc66snx3"
   },
   "source": [
    "Можно считать, что между двумя переменными есть зависимость, если коэффициент корреляции между ними больше 0.5 (или меньше -0.5 при негативной корреляции). Ни в одном из случаев коэффициент не превышает (или не является ниже) указанных значений, поэтому можно говорить, что зависимости между отзывами критиков и суммарными продажами на каждой из платформ нет. Диаграммы рассеяния это визуально подтверждают."
   ]
  },
  {
   "cell_type": "markdown",
   "metadata": {},
   "source": [
    "<div class=\"alert alert-success\" style=\"border-radius: 15px; box-shadow: 4px 4px 4px; border: 1px solid \">\n",
    "<b> Комментарий ревьюера  ✔️</b>\n",
    "    \n",
    "Все так.</div>"
   ]
  },
  {
   "cell_type": "markdown",
   "metadata": {
    "cellId": "t7hv0dr9m0oo3lu407oty"
   },
   "source": [
    "### Прибыльные жанры"
   ]
  },
  {
   "cell_type": "markdown",
   "metadata": {
    "cellId": "v7m3tvrnoffcddm649wd7"
   },
   "source": [
    "Построю график распределения продаж по жанрам за актуальный период."
   ]
  },
  {
   "cell_type": "code",
   "execution_count": 52,
   "metadata": {
    "cellId": "sa65cd0uzurq2g4wjiu6"
   },
   "outputs": [
    {
     "data": {
      "image/png": "[encoded data removed]",
      "text/plain": [
       "<Figure size 1080x360 with 1 Axes>"
      ]
     },
     "metadata": {
      "needs_background": "light"
     },
     "output_type": "display_data"
    }
   ],
   "source": [
    "genre_data_act = (data_act\n",
    "                 .pivot_table(index=['genre', 'year_of_release'], values='total_sales', aggfunc='sum')\n",
    "                 .reset_index()\n",
    "                )\n",
    "\n",
    "plt.figure(figsize=(15,5))\n",
    "seaborn.lineplot(data=genre_data_act, x='year_of_release', y='total_sales', hue='genre', marker = 'o')\n",
    " \n",
    "plt.title('Распределение продаж по жанрам игр за актуальный период (2012-2016гг.)')\n",
    "plt.ylabel('Продажи, млн.штук')\n",
    "plt.xlabel('Год')\n",
    "plt.xticks(range(2012, 2017))\n",
    "plt.show()"
   ]
  },
  {
   "cell_type": "markdown",
   "metadata": {
    "cellId": "2je72d4b2dugj8ju5y93go"
   },
   "source": [
    "На графике видно, что самый прибыльный жанр - action. Продажи игр этого жанра значительно превышали продажи других жанров в 2012-2015гг., однако в 2016 году action обогал по продажам жанр shooter. Так же среди выделяющихся жанров по продажам - sports, role-playing. Жанр puzzle стабильно самый непродаваемый жанр.\n",
    "\n",
    "Построю столбчатую диаграмму, показывающую продажи по каждому жанру за акутальный период без распределения по годам, чтобы оценить, какие самые продаваемые жанры за этот период."
   ]
  },
  {
   "cell_type": "code",
   "execution_count": 53,
   "metadata": {
    "cellId": "yvscl35he7kmem87la8h"
   },
   "outputs": [
    {
     "data": {
      "text/plain": [
       "<function matplotlib.pyplot.show(*args, **kw)>"
      ]
     },
     "execution_count": 53,
     "metadata": {},
     "output_type": "execute_result"
    },
    {
     "data": {
      "image/png": "[encoded data removed]",
      "text/plain": [
       "<Figure size 1080x360 with 1 Axes>"
      ]
     },
     "metadata": {
      "needs_background": "light"
     },
     "output_type": "display_data"
    }
   ],
   "source": [
    "data_act.pivot_table(\n",
    "    index = 'genre', \n",
    "    values = 'total_sales', \n",
    "    aggfunc = 'median').reset_index().sort_values('total_sales', ascending = False).plot(\n",
    "    x = 'genre', \n",
    "    y = 'total_sales', \n",
    "    kind = 'bar', \n",
    "    color = 'yellow', \n",
    "    figsize = (15,5))\n",
    "plt.title('Топ жанров игр по медианным продажам за актуальный период (2012-2016гг.)')\n",
    "plt.xlabel('Жанр')\n",
    "plt.ylabel('Продажи, млн.штук')\n",
    "plt.show"
   ]
  },
  {
   "cell_type": "markdown",
   "metadata": {
    "cellId": "wc16gsgo74dzcm73lqriq"
   },
   "source": [
    "Медианные продажи больше всего у жанра Shooter, далее идет жанр Sports, Misc. Значение медианных продаж меньше всего у жанра Adventure."
   ]
  },
  {
   "cell_type": "markdown",
   "metadata": {},
   "source": [
    "<div class=\"alert alert-danger\" style=\"border-radius: 15px; box-shadow: 4px 4px 4px; border: 1px solid\">\n",
    "<b> Комментарий ревьюера ❌ </b>\n",
    "    \n",
    "Вообще, про прибыльность мы тут говорить не можем, ведь речь о млн копий, да и нет у нас информации о себестоимости. Тут имеется в виду скорее успешность в продажах. Хорошо. А может ли быть такая ситуация, что экшн делает продажи только за счет большего количества игр и большого количества бестселлеров? Быть может, другие жанры имеют больше продаж в расчете на единицу игры. Можно сделать то же самое, но с медианными/средними  продажами.\n",
    "</div>\n",
    "<div class=\"alert alert-success \" style=\"border-radius: 15px; box-shadow: 4px 4px 4px; border: 1px solid \">\n",
    "<h2> Комментарий ревьюера 2  ✔️</h2>\n",
    "    \n",
    "Теперь экшн не такой популярный :) Это нам говорит о том, что у этого жанра очень много игр, которые мало покупают. А вот у шутера гораздо больше игр покупают в большом количестве. </div>"
   ]
  },
  {
   "cell_type": "markdown",
   "metadata": {},
   "source": [
    "<font color= 'dodgerblue'>**Комментарий студента:**</font> Поменяла значение aggfunc в сводной таблице на median, чтобы считались медианные продажи по жанру для вывода столбчатой диаграммы. Выводы изменились.\n",
    "</div>"
   ]
  },
  {
   "cell_type": "markdown",
   "metadata": {
    "cellId": "luu0fz8abv4rxh10hi54q"
   },
   "source": [
    "## Портрет пользователя по регионам"
   ]
  },
  {
   "cell_type": "markdown",
   "metadata": {
    "cellId": "4sl7pp5c3wij5xi34jyqih"
   },
   "source": [
    "### Самые популярные платформы"
   ]
  },
  {
   "cell_type": "markdown",
   "metadata": {
    "cellId": "xtvrpc2uilaxey8of2cbi"
   },
   "source": [
    "Самые популярные платформы я выведу на основании суммарных продаж по платформе для каждого региона. Воспользуюсь функцией, чтобы построить сразу три столбчатых диаграммы, визуально показывающих самые прибыльные платформы для каждого региона. "
   ]
  },
  {
   "cell_type": "code",
   "execution_count": 54,
   "metadata": {
    "cellId": "fkym7fxvwt7yn9tm2421qp"
   },
   "outputs": [],
   "source": [
    "def top_platfrom_by_region(platform, sales):\n",
    "    pivot = data_act.groupby(platform).agg({sales:'sum'}).sort_values(by = sales, ascending = False).reset_index()\n",
    "    pivot.plot(x = platform, y =sales, kind = 'bar', color = 'lightgreen')\n",
    "    plt.title(f'Топ платформ по региону {sales} за актуальный период (2012-2016гг.)')\n",
    "    plt.xlabel('Платформа')\n",
    "    plt.ylabel('Продажи, млн.штук')"
   ]
  },
  {
   "cell_type": "code",
   "execution_count": 55,
   "metadata": {
    "cellId": "zmhtxvr9uzs3jm6wmpgfk"
   },
   "outputs": [
    {
     "data": {
      "image/png": "[encoded data removed]",
      "text/plain": [
       "<Figure size 432x288 with 1 Axes>"
      ]
     },
     "metadata": {
      "needs_background": "light"
     },
     "output_type": "display_data"
    },
    {
     "data": {
      "image/png": "[encoded data removed]",
      "text/plain": [
       "<Figure size 432x288 with 1 Axes>"
      ]
     },
     "metadata": {
      "needs_background": "light"
     },
     "output_type": "display_data"
    },
    {
     "data": {
      "image/png": "[encoded data removed]",
      "text/plain": [
       "<Figure size 432x288 with 1 Axes>"
      ]
     },
     "metadata": {
      "needs_background": "light"
     },
     "output_type": "display_data"
    }
   ],
   "source": [
    "top_platfrom_by_region('platform','na_sales')\n",
    "top_platfrom_by_region('platform','eu_sales')\n",
    "top_platfrom_by_region('platform','jp_sales')"
   ]
  },
  {
   "cell_type": "markdown",
   "metadata": {
    "cellId": "8sbcn8je8bqrgojscoj04a"
   },
   "source": [
    "**Вывод:** Для региона NA топ 5 платформ: X360, PS4, PS3, XOne, 3DS. Дле региона EU топ 5 платформ: PS4, PS3, X360, XOne, 3DS. Для региона JP топ 5 платформ: 3DS, PS3, PSV, PS4, WiiU. Для регионов NA и EU набор популярных платформ одинаковый, но располагается в разном порядке. для региона JP в топ вошли платформы WiiU и PSV, и вышли X360, XOne."
   ]
  },
  {
   "cell_type": "markdown",
   "metadata": {},
   "source": [
    "<div class=\"alert alert-success\" style=\"border-radius: 15px; box-shadow: 4px 4px 4px; border: 1px solid \">\n",
    "<b> Комментарий ревьюера  ✔️</b>\n",
    "    \n",
    "Похоже, что японцы больше любят портативные консоли и родной рынок. Игры на иксбоксы там продвигать точно не стоит :)\n",
    "</div>"
   ]
  },
  {
   "cell_type": "markdown",
   "metadata": {
    "cellId": "wrpjont15n8rx64sepj8g"
   },
   "source": [
    "### Доли продаж популярных платформ по регионам"
   ]
  },
  {
   "cell_type": "code",
   "execution_count": 56,
   "metadata": {
    "cellId": "92ukpb698p6p6hkg3l2thb"
   },
   "outputs": [
    {
     "data": {
      "image/png": "[encoded data removed]",
      "text/plain": [
       "<Figure size 792x360 with 1 Axes>"
      ]
     },
     "metadata": {},
     "output_type": "display_data"
    },
    {
     "data": {
      "image/png": "[encoded data removed]",
      "text/plain": [
       "<Figure size 792x360 with 1 Axes>"
      ]
     },
     "metadata": {},
     "output_type": "display_data"
    },
    {
     "data": {
      "image/png": "[encoded data removed]",
      "text/plain": [
       "<Figure size 792x360 with 1 Axes>"
      ]
     },
     "metadata": {},
     "output_type": "display_data"
    }
   ],
   "source": [
    "def top_platfrom_by_region(platform, sales):\n",
    "    pivot = data_act.groupby(platform).agg({sales:'sum'}).sort_values(by = sales, ascending = False).head(5)\n",
    "    explode = [0.2,0.02,0.02,0.02,0.02]\n",
    "    color = ['#cabbed','#d7e9f5','#e9e7fc','#b6fcd5','#b7cc83','#d3ffce']\n",
    "    pivot.plot(kind='pie', subplots = True, fontsize = 10, autopct = '%.1f%%',figsize = (11,5), explode = explode, colors=color)\n",
    "    plt.title(f'Доля продаж для топ 5 платформ по региону {sales}')\n",
    "    \n",
    "\n",
    "top_platfrom_by_region('platform','na_sales')\n",
    "top_platfrom_by_region('platform','eu_sales')\n",
    "top_platfrom_by_region('platform','jp_sales')"
   ]
  },
  {
   "cell_type": "markdown",
   "metadata": {
    "cellId": "z5bvts2zqkg1d50i4ilz6"
   },
   "source": [
    "Среди топ 5 платформ доли продаж распределены следующим образом. Для региона NA самая популярная платформа X360 занимает 28% в доле продаж топ 5 платформ. Платформа PS4 в регионе EU (занимающая первое место в топе платформ по продажам в этом регионе) занимает треть продаж среди топ 5 платформ EU. А в регионе JP, первая платформа по продажам занимает половину от всех продаж топ 5 платформ. Можно утверждать, что на рынке JP есть явный лидер среди платформ в период 2012-1016гг."
   ]
  },
  {
   "cell_type": "markdown",
   "metadata": {
    "cellId": "pof2df4xsplx987bjxk1n"
   },
   "source": [
    "### Самые популярные жанры"
   ]
  },
  {
   "cell_type": "code",
   "execution_count": 57,
   "metadata": {
    "cellId": "7lt5bjj7yojfxeduqzyw04"
   },
   "outputs": [
    {
     "data": {
      "image/png": "[encoded data removed]",
      "text/plain": [
       "<Figure size 432x288 with 1 Axes>"
      ]
     },
     "metadata": {
      "needs_background": "light"
     },
     "output_type": "display_data"
    },
    {
     "data": {
      "image/png": "[encoded data removed]",
      "text/plain": [
       "<Figure size 432x288 with 1 Axes>"
      ]
     },
     "metadata": {
      "needs_background": "light"
     },
     "output_type": "display_data"
    },
    {
     "data": {
      "image/png": "[encoded data removed]",
      "text/plain": [
       "<Figure size 432x288 with 1 Axes>"
      ]
     },
     "metadata": {
      "needs_background": "light"
     },
     "output_type": "display_data"
    }
   ],
   "source": [
    "def top_genre_by_region(genre, sales):\n",
    "    pivot = data_act.groupby(genre).agg({sales:'sum'}).sort_values(by = sales, ascending = False).reset_index().head()\n",
    "    pivot.plot(x = genre, y =sales, kind = 'bar', color = 'yellow')\n",
    "    plt.title(f'Топ жанров по региону {sales} за актуальный период (2012-2016гг.)')\n",
    "    plt.xlabel('Жанр')\n",
    "    plt.ylabel('Продажи, млн.штук')\n",
    "\n",
    "top_genre_by_region('genre','na_sales')\n",
    "top_genre_by_region('genre','eu_sales')\n",
    "top_genre_by_region('genre','jp_sales')   "
   ]
  },
  {
   "cell_type": "markdown",
   "metadata": {
    "cellId": "4qxod3o6psbic72gf716io"
   },
   "source": [
    "**Вывод:** В регионах NA и EU топ жанров почти схож. Только различаются 5 место в топ 5. В регионе NA это место занимает жанр Misc, а в регионе EU жанр Racing занимает пятое место. А жанр Action самый популярный в этх двух регионах. В регионе JP ситуация совершенно иная, самый популярный жанр Role-playing, второй по популярности Action. На тертьем месте в регионе JP стоит жанр Misc, однако он очень отстает от первых двух жанров, в 6 раз меньше продажи, чем Role-playing и в пять раз меньше, чем у жанра Action."
   ]
  },
  {
   "cell_type": "markdown",
   "metadata": {},
   "source": [
    "<div class=\"alert alert-success\" style=\"border-radius: 15px; box-shadow: 4px 4px 4px; border: 1px solid \">\n",
    "<b> Комментарий ревьюера  ✔️</b>\n",
    "    \n",
    "А еще в Японии не очень-то и любят шутеры, которые очень популярны на Западе. Видимо, им больше нравятся мечи в РПГ и мордобой в файтингах. </div>"
   ]
  },
  {
   "cell_type": "markdown",
   "metadata": {
    "cellId": "nhmm0e9q57i1wvnegrhvck"
   },
   "source": [
    "### Влияние рейтинга на продажи"
   ]
  },
  {
   "cell_type": "markdown",
   "metadata": {
    "cellId": "wqca9w95ko19tgc2f23ys"
   },
   "source": [
    "Посмотрю, какие рейтинги вообще сущетсвуют в таблице методом unique()."
   ]
  },
  {
   "cell_type": "code",
   "execution_count": 58,
   "metadata": {
    "cellId": "clzgbioa11wwztujlevby"
   },
   "outputs": [
    {
     "data": {
      "text/plain": [
       "array(['M', nan, 'E', 'E10+', 'T'], dtype=object)"
      ]
     },
     "execution_count": 58,
     "metadata": {},
     "output_type": "execute_result"
    }
   ],
   "source": [
    "data_act['rating'].unique()"
   ]
  },
  {
   "cell_type": "markdown",
   "metadata": {
    "cellId": "a6jcepfewxwu4j9zv8xpq"
   },
   "source": [
    "Чтобы корректно далее построить графики и сделать правильные выводы, заменю пропущенные значения на значение 'no_rating', что означает, что рейтинга нет."
   ]
  },
  {
   "cell_type": "code",
   "execution_count": 59,
   "metadata": {
    "cellId": "2m0m09wslvsohvhh665pzg"
   },
   "outputs": [],
   "source": [
    "data_act['rating'] = data_act['rating'].fillna('no_rating')"
   ]
  },
  {
   "cell_type": "code",
   "execution_count": 60,
   "metadata": {},
   "outputs": [
    {
     "data": {
      "text/plain": [
       "array(['M', 'no_rating', 'E', 'E10+', 'T'], dtype=object)"
      ]
     },
     "execution_count": 60,
     "metadata": {},
     "output_type": "execute_result"
    }
   ],
   "source": [
    "data_act['rating'].unique()"
   ]
  },
  {
   "cell_type": "markdown",
   "metadata": {},
   "source": [
    "<div class=\"alert alert-success\" style=\"border-radius: 15px; box-shadow: 4px 4px 4px; border: 1px solid \">\n",
    "<b> Комментарий ревьюера  ✔️</b>\n",
    "    \n",
    "Верное решение. Здесь необходимо рассмотреть также и отсутствующий возрастной рейтинг, предварительно заменив его на маркерное значение. Эта задача является отличным примером того, что даже пропущенные значения могут нести в себе важную информацию. \n",
    "\n",
    "    \n",
    "    \n",
    "Кстати, предупреждения можно отключать:    \n",
    "</div>\n",
    "\n",
    "```python\n",
    "\n",
    "import warnings\n",
    "warnings.filterwarnings('ignore')\n",
    "```"
   ]
  },
  {
   "cell_type": "code",
   "execution_count": 61,
   "metadata": {
    "cellId": "qc0gntmpa1nhhyqgfsog9"
   },
   "outputs": [
    {
     "data": {
      "image/png": "[encoded data removed]",
      "text/plain": [
       "<Figure size 792x360 with 1 Axes>"
      ]
     },
     "metadata": {},
     "output_type": "display_data"
    },
    {
     "data": {
      "image/png": "[encoded data removed]",
      "text/plain": [
       "<Figure size 792x360 with 1 Axes>"
      ]
     },
     "metadata": {},
     "output_type": "display_data"
    },
    {
     "data": {
      "image/png": "[encoded data removed]",
      "text/plain": [
       "<Figure size 792x360 with 1 Axes>"
      ]
     },
     "metadata": {},
     "output_type": "display_data"
    }
   ],
   "source": [
    "def top_rating_by_region(rating, sales):\n",
    "    pivot = data_act.groupby(rating).agg({sales:'sum'}).sort_values(by = sales, ascending = False)\n",
    "    explode = [0.2,0.02,0.02,0.02, 0.02]\n",
    "    color = ['#cabbed','#d7e9f5','#e9e7fc','#b6fcd5','#b7cc83','#d3ffce']\n",
    "    pivot.plot(kind='pie', subplots = True, fontsize = 10, autopct = '%.1f%%', figsize = (11,5), explode = explode, colors=color, legend=None)\n",
    "    plt.title(f'Доля продаж для топ 5 рейтингов по региону {sales}')\n",
    "    \n",
    "\n",
    "top_rating_by_region('rating','na_sales')\n",
    "top_rating_by_region('rating','eu_sales')\n",
    "top_rating_by_region('rating','jp_sales')"
   ]
  },
  {
   "cell_type": "markdown",
   "metadata": {
    "cellId": "sehdgcr6w9sltlazb6vrgj"
   },
   "source": [
    "**Вывод:** Продажи в регионах NA и EU больше всего приходятся на рейтинг категории M (для взрослых), примерно 40% продаж приходится на игры с таким рейтингом в обоих регионах. Меньше всего продаж у игр с рейтингом T (для подростков). В регоионе JP более половины прибыли приходится на игры без указанного рейтинга, рейтинг M стоит на 4 месте из пяти по доле суммарных продаж, меньше всего продаются игры с рейтингом E10+ (Для детей от 10 лет). Судя по информации в интернете, для японских видеоигр предусмотрен собственный рейтинг (Computer Entertainment Rating Organization), поэтому рейтинг Entertainment Software Rating Board на игры не распространяется. "
   ]
  },
  {
   "cell_type": "markdown",
   "metadata": {},
   "source": [
    "<div class=\"alert alert-warning\" style=\"border-radius: 15px; box-shadow: 4px 4px 4px; border: 1px solid \">\n",
    "<b> Комментарий ревьюера  ⚠️</b>\n",
    "  \n",
    "На круговых легенда уже не нужна :)\n",
    "</div>\n",
    "<div class=\"alert alert-danger\" style=\"border-radius: 15px; box-shadow: 4px 4px 4px; border: 1px solid \">\n",
    "<b> Комментарий ревьюера  ❌</b>\n",
    "    \n",
    "Как думаешь, почему так много игр без рейтинга в Японии?</div>\n",
    "<div class=\"alert alert-success\" style=\"border-radius: 15px; box-shadow: 4px 4px 4px; border: 1px solid \">\n",
    "<h2> Комментарий ревьюера 2 ✔️</h2>\n",
    "\n",
    "Соглашусь. Уж наверняка дело тут в том, что ESRB работает только на территории СА, в Японии есть аналогичная организация: CERO. Я думаю, что, с одной стороны, иностранным играм они (ESRB) не присваивают рейтинги, поскольку на них уже есть маркировка. Чтобы не было конфликта, так сказать. Так что вполне возможно, что часть игр это продукция Японии или же это корейские игры (там тоже своя организация). С другой стороны, раз они продают игры на своем рынке, то присвоение рейтинга может быть обязательным. Значит, дело еще может быть в том, что наша таблица это склейка двух таблиц: продажи на Западе и на Востоке. Так или иначе, это очень показательный пример. И именно разница в рынках (восточный и западный) наталкивает на мысль о неслучайности пропусков.\n",
    "\n",
    "</div>"
   ]
  },
  {
   "cell_type": "markdown",
   "metadata": {},
   "source": [
    "<font color= 'dodgerblue'>**Комментарий студента:**</font> Удалила легенду на круговой диаграмме параметром legend=None, добавила в вывод информацию про игры без рейтинга в Японии.\n",
    "</div>"
   ]
  },
  {
   "cell_type": "markdown",
   "metadata": {
    "cellId": "azuekn9aihcy2np3pkduq"
   },
   "source": [
    "## Проверка гипотез"
   ]
  },
  {
   "cell_type": "markdown",
   "metadata": {
    "cellId": "3qjlkcsl9uqyitj6iorqkg"
   },
   "source": [
    "### Гипотеза 1\n",
    "- H0 - Средние пользовательские рейтинги платформ Xbox One и PC одинаковые\n",
    "- H1 - Средние пользовательские рейтинги платформ Xbox One и PC разные"
   ]
  },
  {
   "cell_type": "markdown",
   "metadata": {
    "cellId": "3zym25llb5ooydvpl3puq"
   },
   "source": [
    "Для проверки двусторонней гипотезы в python буду использовать t-тест для проверки гипотезы о равенстве средних двух генеральных совокупностей, alpha (критический уровень статистической значимости) возьму 0.05. "
   ]
  },
  {
   "cell_type": "code",
   "execution_count": 62,
   "metadata": {
    "cellId": "dhzvhlt6812legucuss74"
   },
   "outputs": [],
   "source": [
    "data_act = data_act.dropna(subset = ['user_score'])"
   ]
  },
  {
   "cell_type": "code",
   "execution_count": 63,
   "metadata": {
    "cellId": "eqi2w3c8ctf7lp7fxorxpy"
   },
   "outputs": [
    {
     "data": {
      "text/plain": [
       "array([8.2, 8.1, 5.3, 4.8, 8.3, 2.6, 7.2, 7. , 8.7, 4.3, 6.6, 5.7, 5. ,\n",
       "       6.5, 9.1, 7.3, 6.9, 6.1, 7.9, 6.7, 5.4, 4. , 8.4, 6.4, 3.4, 8.5,\n",
       "       9. , 4.9, 4.5, 6.2, 4.2, 6.3, 7.7, 9.2, 7.6, 3.7, 4.1, 5.8, 5.6,\n",
       "       6.8, 5.5, 7.5, 4.4, 5.9, 8.9, 3.9, 8.6, 7.8, 3.2, 8. , 3.1, 7.4,\n",
       "       6. , 4.7, 7.1, 8.8, 5.1, 3.5, 3. , 2.9, 2.7, 2.2, 5.2, 3.8, 4.6,\n",
       "       3.3, 9.3, 1.6, 3.6, 2.4, 2.8, 1.8, 1.7, 2.1, 2. , 1.5, 0.7, 2.5,\n",
       "       0.2, 1.9, 1.3, 1. , 1.4, 2.3])"
      ]
     },
     "execution_count": 63,
     "metadata": {},
     "output_type": "execute_result"
    }
   ],
   "source": [
    "data_act['user_score'].unique()"
   ]
  },
  {
   "cell_type": "code",
   "execution_count": 64,
   "metadata": {
    "cellId": "pd0tx4c407qr9zi1jqnrw"
   },
   "outputs": [
    {
     "name": "stdout",
     "output_type": "stream",
     "text": [
      "p-значение:  0.6206366351489678\n",
      "Не получилось отвергнуть нулевую гипотезу\n"
     ]
    }
   ],
   "source": [
    "alpha = 0.05\n",
    "results = st.ttest_ind(data_act[data_act['platform']=='XOne']['user_score'],data_act[data_act['platform']=='PC']['user_score'], equal_var = False)\n",
    "print('p-значение: ', results.pvalue)\n",
    "\n",
    "if results.pvalue < alpha:\n",
    "    print(\"Отвергаем нулевую гипотезу\")\n",
    "else:\n",
    "    print(\"Не получилось отвергнуть нулевую гипотезу\") "
   ]
  },
  {
   "cell_type": "markdown",
   "metadata": {
    "cellId": "2quvw2okwop58twqxu8654"
   },
   "source": [
    "T-test показал, что p-value значительно выше порогового значения alpha, это означает, что отвергнуть нулевую гипотезу не получится. Средние пользовательские рейтинги платформ Xbox One и PC одинаковые."
   ]
  },
  {
   "cell_type": "code",
   "execution_count": 65,
   "metadata": {
    "cellId": "rbys0f78raicchde5sajq"
   },
   "outputs": [
    {
     "data": {
      "text/plain": [
       "Text(0.5, 1.0, 'Гистограмма распределения пользовательских оценок')"
      ]
     },
     "execution_count": 65,
     "metadata": {},
     "output_type": "execute_result"
    },
    {
     "data": {
      "image/png": "[encoded data removed]",
      "text/plain": [
       "<Figure size 432x288 with 1 Axes>"
      ]
     },
     "metadata": {
      "needs_background": "light"
     },
     "output_type": "display_data"
    }
   ],
   "source": [
    "ax = data_act[data_act['platform']=='XOne'].hist('user_score',color = 'yellow', bins = 20)\n",
    "\n",
    "plt.xlabel('Пользовательский рейтинг')\n",
    "plt.ylabel('Частотность')\n",
    "\n",
    "\n",
    "data_act[data_act['platform']=='PC'].hist('user_score', ax=ax, color = 'pink', alpha = 0.7, bins = 20)\n",
    "plt.legend(['XOne', 'PC'])\n",
    "plt.title(\"Гистограмма распределения пользовательских оценок\")"
   ]
  },
  {
   "cell_type": "markdown",
   "metadata": {
    "cellId": "4z4y1ryul6xvw9q3bysje9"
   },
   "source": [
    "Для наглядного подтверждения гипотезы, я вывела график распредления пользовательских оценок для обеих платформ. Наглядно видно, что распределения значений схожи между собой, средняя величина генеральной совокупности так же будет схожа."
   ]
  },
  {
   "cell_type": "markdown",
   "metadata": {
    "cellId": "88ayczjk6uri0z8uzsy3"
   },
   "source": [
    "### Гипотеза 2\n",
    "- H0 - Средние пользовательские рейтинги жанров Action (англ. «действие», экшен-игры) и Sports (англ. «спортивные соревнования») одинаковые\n",
    "- H1 - Средние пользовательские рейтинги жанров Action (англ. «действие», экшен-игры) и Sports (англ. «спортивные соревнования») разные"
   ]
  },
  {
   "cell_type": "markdown",
   "metadata": {
    "cellId": "vku071no9tjafez4pwvwc"
   },
   "source": [
    "Для проверки двусторонней гипотезы в python буду использовать t-тест для проверки гипотезы о равенстве средних двух генеральных совокупностей, alpha (критический уровень статистической значимости) возьму 0.05. "
   ]
  },
  {
   "cell_type": "code",
   "execution_count": 66,
   "metadata": {
    "cellId": "2sbi62s347ycj31bdnbfel"
   },
   "outputs": [
    {
     "name": "stdout",
     "output_type": "stream",
     "text": [
      "p-значение:  2.337200239591976e-20\n",
      "Отвергаем нулевую гипотезу\n"
     ]
    }
   ],
   "source": [
    "alpha = 0.05\n",
    "results = st.ttest_ind(data_act[data_act['genre']=='Action']['user_score'],data_act[data_act['genre']=='Sports']['user_score'], equal_var = False)\n",
    "print('p-значение: ', results.pvalue)\n",
    "\n",
    "if results.pvalue < alpha:\n",
    "    print(\"Отвергаем нулевую гипотезу\")\n",
    "else:\n",
    "    print(\"Не получилось отвергнуть нулевую гипотезу\") "
   ]
  },
  {
   "cell_type": "markdown",
   "metadata": {
    "cellId": "jtobkd0in8m27vt5ytynb1"
   },
   "source": [
    "**Вывод:** T-test показал, что p-value гораздо меньше критического уровня статистической значимости, поэтому нулевую гипотезу можно отвергнуть, а альтернативную гипотезу не отвергать - Средние пользовательские рейтинги жанров Action (англ. «действие», экшен-игры) и Sports (англ. «спортивные соревнования») разные."
   ]
  },
  {
   "cell_type": "code",
   "execution_count": 67,
   "metadata": {
    "cellId": "wi7fkk40f4qpia9sn4zc9p"
   },
   "outputs": [
    {
     "data": {
      "text/plain": [
       "Text(0.5, 1.0, 'Гистограмма распределения пользовательских оценок')"
      ]
     },
     "execution_count": 67,
     "metadata": {},
     "output_type": "execute_result"
    },
    {
     "data": {
      "image/png": "[encoded data removed]",
      "text/plain": [
       "<Figure size 432x288 with 1 Axes>"
      ]
     },
     "metadata": {
      "needs_background": "light"
     },
     "output_type": "display_data"
    }
   ],
   "source": [
    "ax = data_act[data_act['genre']=='Action'].hist('user_score',color = 'yellow', bins = 20)\n",
    "\n",
    "plt.xlabel('Пользовательский рейтинг')\n",
    "plt.ylabel('Частотность')\n",
    "\n",
    "\n",
    "data_act[data_act['genre']=='Sports'].hist('user_score', ax=ax, color = 'pink', alpha = 0.7, bins = 20)\n",
    "plt.legend(['Action', 'Sports'])\n",
    "plt.title(\"Гистограмма распределения пользовательских оценок\")"
   ]
  },
  {
   "cell_type": "markdown",
   "metadata": {
    "cellId": "ualym9wc2df3g5lhn0xdd"
   },
   "source": [
    "Для наглядного подтверждения гипотезы, я вывела график распредления выручки для обоих тарифов. Наглядно видно, что распределения значений сильно отличаются между собой, средняя величина генеральной совокупности так же будет различаться."
   ]
  },
  {
   "cell_type": "markdown",
   "metadata": {},
   "source": [
    "<div class=\"alert alert-success\" style=\"border-radius: 15px; box-shadow: 4px 4px 4px; border: 1px solid \">\n",
    "<b> Комментарий ревьюера  ✔️</b>\n",
    "    \n",
    "Тут все верно. </div>"
   ]
  },
  {
   "cell_type": "markdown",
   "metadata": {
    "cellId": "8sfln9azdx3fz2wvofna8"
   },
   "source": [
    "## Общий вывод\n",
    "Проанализировав подготовленные для анализа данные датафрейма (актуальные данные были выбраны в период 2012-1016гг.), были сделаны следующие выводы:\n",
    "- Потенциально прибыльные платформы по момему анализу, основанному на топу по продажам за акутальный период: \n",
    "1. PS4\n",
    "2. XOne\n",
    "3. 3DS\n",
    "4. PS3\n",
    "5. X360\n",
    "6. WiiU\n",
    "- Между отзывами пользователей и продажами не было найдено взаимосвязи, корреляция слишком низкая.\n",
    "- Между отзывами критиков и продажами не было найдено взаимосвязи, корреляция слишком низкая.\n",
    "- Самый прибыльный жанр - action. Продажи игр этого жанра значительно превышали продажи других жанров в 2012-2015гг., однако в 2016 году action обогал по продажам жанр shooter. Так же среди выделяющихся жанров по продажам - sports, role-playing. Жанр puzzle стабильно самый непродаваемый жанр.\n",
    "- Для региона NA топ 5 платформ: X360, PS4, PS3, XOne, 3DS. Дле региона EU топ 5 платформ: PS4, PS3, X360, XOne, 3DS. Для региона JP топ 5 платформ: 3DS, PS3, PSV, PS4, WiiU. \n",
    "- Для региона NA самая популярная платформа X360 занимает 28% в доле продаж топ 5 платформ. Платформа PS4 в регионе EU занимает треть продаж среди топ 5 платформ EU. А в регионе JP, первая платформа по продажам занимает половину от всех продаж топ 5 платформ. Можно утверждать, что на рынке JP есть явный лидер среди платформ в период 2012-1016гг.\n",
    "- В регионах NA и EU топ жанров почти схож. Только различаются 5 место в топ 5. В регионе NA это место занимает жанр Misc, а в регионе EU жанр Racing занимает пятое место. А жанр Action самый популярный в этих двух регионах. В регионе JP ситуация совершенно иная, самый популярный жанр Role-playing, второй по популярности Action. На тертьем месте в регионе JP стоит жанр Misc, однако он очень отстает от первых двух жанров, в 6 раз меньше продажи, чем Role-playing и в пять раз меньше, чем у жанра Action.\n",
    "- Продажи в регионах NA и EU больше всего приходятся на рейтинг категории M (для взрослых), примерно 40% продаж приходится на игры с таким рейтингом в обоих регионах. Меньше всего продаж у игр с рейтингом T (для подростков). В регионе JP более половины прибыли приходится на игры без указанного рейтинга, так как в Японии есть собственная организация по присуждению рейтинга играм, рейтинг M стоит на 4 месте из пяти по доле суммарных продаж, меньше всего продаются игры с рейтингом E10+ (Для детей от 10 лет).\n",
    "\n",
    "**Были проверены две гипотезы:**\n",
    "- Первая гипотеза, что средние пользовательские рейтинги платформ Xbox One и PC одинаковые **не была отвергнута**.\n",
    "- Вторая гипотеза, что средние пользовательские рейтинги жанров Action (англ. «действие», экшен-игры) и Sports (англ. «спортивные соревнования») одинаковые **была отвергнута**.\n",
    "\n",
    "**Общий вывод:**\n",
    "Были выявлены следующие определяющие успешность игры закономерности:\n",
    "- Самая потенциально прибыльная платформа - PS4. Для региона NA - самый потенциально прибыльный жанр - X360. В регионе JP очень превалирует жанр 3DS, на него надо\n",
    "- Самый потенциально прибыльный жанр - Action (однако в регионе JP - жанр Role-Playing)\n",
    "- Оценка критиков не влияет на потенциальные продажи\n",
    "- Оценка пользователей не влияет на потенциальные продажи"
   ]
  },
  {
   "cell_type": "markdown",
   "metadata": {},
   "source": [
    "<div class=\"alert alert-warning\" style=\"border-radius: 15px; box-shadow: 4px 4px 4px; border: 1px solid\">\n",
    "<b> Комментарий ревьюера ⚠️</b>\n",
    "    \n",
    "Вывод хороший. Не забудь обновить его, если потребуется. \n",
    "\n",
    "</div>"
   ]
  },
  {
   "cell_type": "markdown",
   "metadata": {},
   "source": [
    "<font color= 'dodgerblue'>**Комментарий студента:**</font> Обновила вывод.\n",
    "</div>"
   ]
  },
  {
   "cell_type": "markdown",
   "metadata": {},
   "source": [
    "<div class=\"alert alert-success\" style=\"border-radius: 15px; box-shadow: 4px 4px 4px; border: 1px solid \">\n",
    "<h2> Комментарий ревьюера 2 ✔️</h2>\n",
    "\n",
    "Теперь все супер :)\n",
    "</div>"
   ]
  },
  {
   "cell_type": "code",
   "execution_count": null,
   "metadata": {},
   "outputs": [],
   "source": []
  }
 ],
 "metadata": {
  "ExecuteTimeLog": [
   {
    "duration": 4,
    "start_time": "2022-01-28T04:44:21.077Z"
   },
   {
    "duration": 1497,
    "start_time": "2022-01-28T04:44:21.084Z"
   },
   {
    "duration": 11,
    "start_time": "2022-01-28T04:44:22.584Z"
   },
   {
    "duration": 223,
    "start_time": "2022-01-28T04:44:22.598Z"
   },
   {
    "duration": 27,
    "start_time": "2022-01-28T04:44:22.823Z"
   },
   {
    "duration": 14,
    "start_time": "2022-01-28T04:44:22.852Z"
   },
   {
    "duration": 8,
    "start_time": "2022-01-28T04:44:22.868Z"
   },
   {
    "duration": 7,
    "start_time": "2022-01-28T04:44:22.880Z"
   },
   {
    "duration": 25,
    "start_time": "2022-01-28T04:44:22.890Z"
   },
   {
    "duration": 50,
    "start_time": "2022-01-28T04:44:22.918Z"
   },
   {
    "duration": 18,
    "start_time": "2022-01-28T04:44:22.971Z"
   },
   {
    "duration": 6,
    "start_time": "2022-01-28T04:44:22.992Z"
   },
   {
    "duration": 3486,
    "start_time": "2022-01-28T04:44:23.000Z"
   },
   {
    "duration": 419,
    "start_time": "2022-01-28T04:44:26.488Z"
   },
   {
    "duration": 7,
    "start_time": "2022-01-28T04:44:26.909Z"
   },
   {
    "duration": 9,
    "start_time": "2022-01-28T04:44:26.918Z"
   },
   {
    "duration": 27,
    "start_time": "2022-01-28T04:44:26.930Z"
   },
   {
    "duration": 34,
    "start_time": "2022-01-28T04:44:26.959Z"
   },
   {
    "duration": 9,
    "start_time": "2022-01-28T04:44:26.995Z"
   },
   {
    "duration": 9,
    "start_time": "2022-01-28T04:44:27.006Z"
   },
   {
    "duration": 33,
    "start_time": "2022-01-28T04:44:27.017Z"
   },
   {
    "duration": 8098,
    "start_time": "2022-01-28T04:44:27.053Z"
   },
   {
    "duration": 6,
    "start_time": "2022-01-28T04:44:35.158Z"
   },
   {
    "duration": 35,
    "start_time": "2022-01-28T04:44:35.168Z"
   },
   {
    "duration": 6,
    "start_time": "2022-01-28T04:44:35.206Z"
   },
   {
    "duration": 39,
    "start_time": "2022-01-28T04:44:35.215Z"
   },
   {
    "duration": 16,
    "start_time": "2022-01-28T04:44:35.257Z"
   },
   {
    "duration": 8,
    "start_time": "2022-01-28T04:44:35.276Z"
   },
   {
    "duration": 8918,
    "start_time": "2022-01-28T04:44:35.287Z"
   },
   {
    "duration": 14,
    "start_time": "2022-01-28T04:44:44.208Z"
   },
   {
    "duration": 23,
    "start_time": "2022-01-28T04:44:44.225Z"
   },
   {
    "duration": 6,
    "start_time": "2022-01-28T04:44:44.251Z"
   },
   {
    "duration": 8,
    "start_time": "2022-01-28T04:44:44.259Z"
   },
   {
    "duration": 17,
    "start_time": "2022-01-28T04:44:44.270Z"
   },
   {
    "duration": 669,
    "start_time": "2022-01-28T04:44:44.289Z"
   },
   {
    "duration": 16,
    "start_time": "2022-01-28T04:44:44.960Z"
   },
   {
    "duration": 11,
    "start_time": "2022-01-28T04:44:44.978Z"
   },
   {
    "duration": 4,
    "start_time": "2022-01-28T04:44:44.991Z"
   },
   {
    "duration": 623,
    "start_time": "2022-01-28T04:44:44.998Z"
   },
   {
    "duration": 7,
    "start_time": "2022-01-28T04:44:45.623Z"
   },
   {
    "duration": 678,
    "start_time": "2022-01-28T04:44:45.632Z"
   },
   {
    "duration": 6,
    "start_time": "2022-01-28T04:44:46.312Z"
   },
   {
    "duration": 491,
    "start_time": "2022-01-28T04:44:46.321Z"
   },
   {
    "duration": 4,
    "start_time": "2022-01-28T04:44:46.814Z"
   },
   {
    "duration": 494,
    "start_time": "2022-01-28T04:44:46.820Z"
   },
   {
    "duration": 2748,
    "start_time": "2022-01-28T04:44:47.317Z"
   },
   {
    "duration": 30,
    "start_time": "2022-01-28T04:44:50.067Z"
   },
   {
    "duration": 2783,
    "start_time": "2022-01-28T04:44:50.100Z"
   },
   {
    "duration": 27,
    "start_time": "2022-01-28T04:44:52.886Z"
   },
   {
    "duration": 718,
    "start_time": "2022-01-28T04:44:52.917Z"
   },
   {
    "duration": 460,
    "start_time": "2022-01-28T04:44:53.637Z"
   },
   {
    "duration": 6,
    "start_time": "2022-01-28T04:44:54.099Z"
   },
   {
    "duration": 992,
    "start_time": "2022-01-28T04:44:54.107Z"
   },
   {
    "duration": 673,
    "start_time": "2022-01-28T04:44:55.102Z"
   },
   {
    "duration": 846,
    "start_time": "2022-01-28T04:44:55.777Z"
   },
   {
    "duration": 6,
    "start_time": "2022-01-28T04:44:56.626Z"
   },
   {
    "duration": 6,
    "start_time": "2022-01-28T04:44:56.649Z"
   },
   {
    "duration": 776,
    "start_time": "2022-01-28T04:44:56.657Z"
   },
   {
    "duration": 14,
    "start_time": "2022-01-28T04:44:57.435Z"
   },
   {
    "duration": 9,
    "start_time": "2022-01-28T04:44:57.452Z"
   },
   {
    "duration": 10,
    "start_time": "2022-01-28T04:44:57.463Z"
   },
   {
    "duration": 499,
    "start_time": "2022-01-28T04:44:57.476Z"
   },
   {
    "duration": 12,
    "start_time": "2022-01-28T04:44:57.978Z"
   },
   {
    "duration": 440,
    "start_time": "2022-01-28T04:44:57.993Z"
   },
   {
    "duration": 46,
    "start_time": "2022-01-28T04:48:14.818Z"
   },
   {
    "duration": 32,
    "start_time": "2022-01-28T04:48:21.264Z"
   },
   {
    "duration": 91,
    "start_time": "2022-01-28T04:54:58.846Z"
   },
   {
    "duration": 693,
    "start_time": "2022-01-28T04:55:02.800Z"
   },
   {
    "duration": 675,
    "start_time": "2022-01-28T04:55:10.160Z"
   },
   {
    "duration": 16,
    "start_time": "2022-01-28T04:57:07.563Z"
   },
   {
    "duration": 38,
    "start_time": "2022-01-28T04:57:59.544Z"
   },
   {
    "duration": 349,
    "start_time": "2022-02-06T12:51:31.660Z"
   },
   {
    "duration": 4,
    "start_time": "2022-02-06T12:51:38.777Z"
   },
   {
    "duration": 1561,
    "start_time": "2022-02-06T12:51:38.784Z"
   },
   {
    "duration": 6,
    "start_time": "2022-02-06T12:51:40.348Z"
   },
   {
    "duration": 260,
    "start_time": "2022-02-06T12:51:40.356Z"
   },
   {
    "duration": 34,
    "start_time": "2022-02-06T12:51:40.619Z"
   },
   {
    "duration": 13,
    "start_time": "2022-02-06T12:51:40.656Z"
   },
   {
    "duration": 4,
    "start_time": "2022-02-06T12:51:40.672Z"
   },
   {
    "duration": 42,
    "start_time": "2022-02-06T12:51:40.682Z"
   },
   {
    "duration": 28,
    "start_time": "2022-02-06T12:51:40.728Z"
   },
   {
    "duration": 26,
    "start_time": "2022-02-06T12:51:40.760Z"
   },
   {
    "duration": 50,
    "start_time": "2022-02-06T12:51:40.789Z"
   },
   {
    "duration": 9,
    "start_time": "2022-02-06T12:51:40.842Z"
   },
   {
    "duration": 4487,
    "start_time": "2022-02-06T12:51:40.853Z"
   },
   {
    "duration": 428,
    "start_time": "2022-02-06T12:51:45.343Z"
   },
   {
    "duration": 59,
    "start_time": "2022-02-06T12:51:45.773Z"
   },
   {
    "duration": 47,
    "start_time": "2022-02-06T12:51:45.835Z"
   },
   {
    "duration": 8,
    "start_time": "2022-02-06T12:51:45.885Z"
   },
   {
    "duration": 38,
    "start_time": "2022-02-06T12:51:45.896Z"
   },
   {
    "duration": 25,
    "start_time": "2022-02-06T12:51:45.937Z"
   },
   {
    "duration": 36,
    "start_time": "2022-02-06T12:51:45.965Z"
   },
   {
    "duration": 10,
    "start_time": "2022-02-06T12:51:46.024Z"
   },
   {
    "duration": 9,
    "start_time": "2022-02-06T12:51:46.037Z"
   },
   {
    "duration": 7,
    "start_time": "2022-02-06T12:51:46.048Z"
   },
   {
    "duration": 8666,
    "start_time": "2022-02-06T12:51:46.057Z"
   },
   {
    "duration": 6,
    "start_time": "2022-02-06T12:51:54.725Z"
   },
   {
    "duration": 45,
    "start_time": "2022-02-06T12:51:54.738Z"
   },
   {
    "duration": 6,
    "start_time": "2022-02-06T12:51:54.786Z"
   },
   {
    "duration": 35,
    "start_time": "2022-02-06T12:51:54.795Z"
   },
   {
    "duration": 16,
    "start_time": "2022-02-06T12:51:54.832Z"
   },
   {
    "duration": 9,
    "start_time": "2022-02-06T12:51:54.850Z"
   },
   {
    "duration": 21,
    "start_time": "2022-02-06T12:51:54.861Z"
   },
   {
    "duration": 14389,
    "start_time": "2022-02-06T12:51:54.924Z"
   },
   {
    "duration": 26,
    "start_time": "2022-02-06T12:52:09.316Z"
   },
   {
    "duration": 6,
    "start_time": "2022-02-06T12:52:09.345Z"
   },
   {
    "duration": 16,
    "start_time": "2022-02-06T12:52:09.354Z"
   },
   {
    "duration": 9,
    "start_time": "2022-02-06T12:52:09.373Z"
   },
   {
    "duration": 52,
    "start_time": "2022-02-06T12:52:09.385Z"
   },
   {
    "duration": 688,
    "start_time": "2022-02-06T12:52:09.440Z"
   },
   {
    "duration": 15,
    "start_time": "2022-02-06T12:52:10.130Z"
   },
   {
    "duration": 13,
    "start_time": "2022-02-06T12:52:10.147Z"
   },
   {
    "duration": 5,
    "start_time": "2022-02-06T12:52:10.163Z"
   },
   {
    "duration": 660,
    "start_time": "2022-02-06T12:52:10.171Z"
   },
   {
    "duration": 8,
    "start_time": "2022-02-06T12:52:10.834Z"
   },
   {
    "duration": 729,
    "start_time": "2022-02-06T12:52:10.845Z"
   },
   {
    "duration": 7,
    "start_time": "2022-02-06T12:52:11.578Z"
   },
   {
    "duration": 492,
    "start_time": "2022-02-06T12:52:11.588Z"
   },
   {
    "duration": 5,
    "start_time": "2022-02-06T12:52:12.083Z"
   },
   {
    "duration": 685,
    "start_time": "2022-02-06T12:52:12.091Z"
   },
   {
    "duration": 2803,
    "start_time": "2022-02-06T12:52:12.779Z"
   },
   {
    "duration": 46,
    "start_time": "2022-02-06T12:52:15.585Z"
   },
   {
    "duration": 2651,
    "start_time": "2022-02-06T12:52:15.633Z"
   },
   {
    "duration": 38,
    "start_time": "2022-02-06T12:52:18.287Z"
   },
   {
    "duration": 915,
    "start_time": "2022-02-06T12:52:18.328Z"
   },
   {
    "duration": 480,
    "start_time": "2022-02-06T12:52:19.246Z"
   },
   {
    "duration": 6,
    "start_time": "2022-02-06T12:52:19.728Z"
   },
   {
    "duration": 969,
    "start_time": "2022-02-06T12:52:19.736Z"
   },
   {
    "duration": 670,
    "start_time": "2022-02-06T12:52:20.707Z"
   },
   {
    "duration": 991,
    "start_time": "2022-02-06T12:52:21.379Z"
   },
   {
    "duration": 7,
    "start_time": "2022-02-06T12:52:22.372Z"
   },
   {
    "duration": 13,
    "start_time": "2022-02-06T12:52:22.381Z"
   },
   {
    "duration": 823,
    "start_time": "2022-02-06T12:52:22.396Z"
   },
   {
    "duration": 8,
    "start_time": "2022-02-06T12:52:23.224Z"
   },
   {
    "duration": 10,
    "start_time": "2022-02-06T12:52:23.234Z"
   },
   {
    "duration": 11,
    "start_time": "2022-02-06T12:52:23.247Z"
   },
   {
    "duration": 484,
    "start_time": "2022-02-06T12:52:23.261Z"
   },
   {
    "duration": 12,
    "start_time": "2022-02-06T12:52:23.749Z"
   },
   {
    "duration": 447,
    "start_time": "2022-02-06T12:52:23.765Z"
   },
   {
    "duration": 40,
    "start_time": "2022-02-06T12:54:00.433Z"
   },
   {
    "duration": 10,
    "start_time": "2022-02-06T12:54:57.636Z"
   },
   {
    "duration": 44,
    "start_time": "2022-02-06T13:02:16.556Z"
   },
   {
    "duration": 11,
    "start_time": "2022-02-06T13:02:26.792Z"
   },
   {
    "duration": 10,
    "start_time": "2022-02-06T13:02:39.298Z"
   },
   {
    "duration": 10,
    "start_time": "2022-02-06T13:02:52.125Z"
   },
   {
    "duration": 11,
    "start_time": "2022-02-06T13:02:54.094Z"
   },
   {
    "duration": 11,
    "start_time": "2022-02-06T13:03:11.306Z"
   },
   {
    "duration": 106,
    "start_time": "2022-02-06T13:07:32.304Z"
   },
   {
    "duration": 141,
    "start_time": "2022-02-06T13:08:14.380Z"
   },
   {
    "duration": 669,
    "start_time": "2022-02-06T13:08:20.292Z"
   },
   {
    "duration": 660,
    "start_time": "2022-02-06T13:08:25.554Z"
   },
   {
    "duration": 675,
    "start_time": "2022-02-06T13:08:29.173Z"
   },
   {
    "duration": 754,
    "start_time": "2022-02-06T13:08:33.829Z"
   },
   {
    "duration": 111,
    "start_time": "2022-02-06T13:09:12.268Z"
   },
   {
    "duration": 453,
    "start_time": "2022-02-06T13:13:06.699Z"
   },
   {
    "duration": 535,
    "start_time": "2022-02-06T13:13:26.363Z"
   },
   {
    "duration": 443,
    "start_time": "2022-02-06T13:13:42.642Z"
   },
   {
    "duration": 459,
    "start_time": "2022-02-06T13:15:28.953Z"
   },
   {
    "duration": 460,
    "start_time": "2022-02-06T13:15:40.532Z"
   },
   {
    "duration": 462,
    "start_time": "2022-02-06T13:15:56.592Z"
   },
   {
    "duration": 933,
    "start_time": "2022-02-06T14:14:24.449Z"
   },
   {
    "duration": 581,
    "start_time": "2022-02-06T14:25:39.135Z"
   },
   {
    "duration": 542,
    "start_time": "2022-02-06T14:25:51.824Z"
   },
   {
    "duration": 874,
    "start_time": "2022-02-06T14:30:34.053Z"
   },
   {
    "duration": 725,
    "start_time": "2022-02-06T14:30:38.751Z"
   },
   {
    "duration": 719,
    "start_time": "2022-02-06T14:30:48.218Z"
   },
   {
    "duration": 537,
    "start_time": "2022-02-06T14:31:05.445Z"
   },
   {
    "duration": 672,
    "start_time": "2022-02-06T14:31:36.283Z"
   },
   {
    "duration": 654,
    "start_time": "2022-02-06T14:32:18.938Z"
   },
   {
    "duration": 5,
    "start_time": "2022-02-06T14:33:00.631Z"
   },
   {
    "duration": 5,
    "start_time": "2022-02-06T14:33:12.078Z"
   },
   {
    "duration": 655,
    "start_time": "2022-02-06T14:33:16.624Z"
   },
   {
    "duration": 7,
    "start_time": "2022-02-06T14:34:14.291Z"
   },
   {
    "duration": 6,
    "start_time": "2022-02-06T14:35:13.573Z"
   },
   {
    "duration": 1005,
    "start_time": "2022-02-06T14:35:24.198Z"
   },
   {
    "duration": 4,
    "start_time": "2022-02-06T14:37:08.847Z"
   },
   {
    "duration": 1420,
    "start_time": "2022-02-06T14:37:08.854Z"
   },
   {
    "duration": 7,
    "start_time": "2022-02-06T14:37:10.276Z"
   },
   {
    "duration": 247,
    "start_time": "2022-02-06T14:37:10.285Z"
   },
   {
    "duration": 25,
    "start_time": "2022-02-06T14:37:10.534Z"
   },
   {
    "duration": 16,
    "start_time": "2022-02-06T14:37:10.562Z"
   },
   {
    "duration": 5,
    "start_time": "2022-02-06T14:37:10.584Z"
   },
   {
    "duration": 6,
    "start_time": "2022-02-06T14:37:10.624Z"
   },
   {
    "duration": 21,
    "start_time": "2022-02-06T14:37:10.632Z"
   },
   {
    "duration": 27,
    "start_time": "2022-02-06T14:37:10.655Z"
   },
   {
    "duration": 48,
    "start_time": "2022-02-06T14:37:10.684Z"
   },
   {
    "duration": 7,
    "start_time": "2022-02-06T14:37:10.734Z"
   },
   {
    "duration": 3502,
    "start_time": "2022-02-06T14:37:10.743Z"
   },
   {
    "duration": 415,
    "start_time": "2022-02-06T14:37:14.249Z"
   },
   {
    "duration": 58,
    "start_time": "2022-02-06T14:37:14.666Z"
   },
   {
    "duration": 29,
    "start_time": "2022-02-06T14:37:14.727Z"
   },
   {
    "duration": 6,
    "start_time": "2022-02-06T14:37:14.758Z"
   },
   {
    "duration": 6,
    "start_time": "2022-02-06T14:37:14.767Z"
   },
   {
    "duration": 48,
    "start_time": "2022-02-06T14:37:14.778Z"
   },
   {
    "duration": 34,
    "start_time": "2022-02-06T14:37:14.830Z"
   },
   {
    "duration": 9,
    "start_time": "2022-02-06T14:37:14.866Z"
   },
   {
    "duration": 8,
    "start_time": "2022-02-06T14:37:14.878Z"
   },
   {
    "duration": 34,
    "start_time": "2022-02-06T14:37:14.890Z"
   },
   {
    "duration": 8255,
    "start_time": "2022-02-06T14:37:14.926Z"
   },
   {
    "duration": 7,
    "start_time": "2022-02-06T14:37:23.183Z"
   },
   {
    "duration": 53,
    "start_time": "2022-02-06T14:37:23.192Z"
   },
   {
    "duration": 7,
    "start_time": "2022-02-06T14:37:23.248Z"
   },
   {
    "duration": 10,
    "start_time": "2022-02-06T14:37:23.258Z"
   },
   {
    "duration": 57,
    "start_time": "2022-02-06T14:37:23.271Z"
   },
   {
    "duration": 11,
    "start_time": "2022-02-06T14:37:23.331Z"
   },
   {
    "duration": 8,
    "start_time": "2022-02-06T14:37:23.345Z"
   },
   {
    "duration": 19,
    "start_time": "2022-02-06T14:37:23.355Z"
   },
   {
    "duration": 5,
    "start_time": "2022-02-06T14:37:23.377Z"
   },
   {
    "duration": 8,
    "start_time": "2022-02-06T14:37:23.425Z"
   },
   {
    "duration": 10,
    "start_time": "2022-02-06T14:37:23.436Z"
   },
   {
    "duration": 17,
    "start_time": "2022-02-06T14:37:23.449Z"
   },
   {
    "duration": 700,
    "start_time": "2022-02-06T14:37:23.468Z"
   },
   {
    "duration": 16,
    "start_time": "2022-02-06T14:37:24.170Z"
   },
   {
    "duration": 12,
    "start_time": "2022-02-06T14:37:24.188Z"
   },
   {
    "duration": 3,
    "start_time": "2022-02-06T14:37:24.223Z"
   },
   {
    "duration": 607,
    "start_time": "2022-02-06T14:37:24.228Z"
   },
   {
    "duration": 7,
    "start_time": "2022-02-06T14:37:24.837Z"
   },
   {
    "duration": 702,
    "start_time": "2022-02-06T14:37:24.846Z"
   },
   {
    "duration": 7,
    "start_time": "2022-02-06T14:37:25.551Z"
   },
   {
    "duration": 445,
    "start_time": "2022-02-06T14:37:25.561Z"
   },
   {
    "duration": 13,
    "start_time": "2022-02-06T14:37:26.010Z"
   },
   {
    "duration": 977,
    "start_time": "2022-02-06T14:37:26.026Z"
   },
   {
    "duration": 2662,
    "start_time": "2022-02-06T14:37:27.005Z"
   },
   {
    "duration": 31,
    "start_time": "2022-02-06T14:37:29.669Z"
   },
   {
    "duration": 2468,
    "start_time": "2022-02-06T14:37:29.703Z"
   },
   {
    "duration": 28,
    "start_time": "2022-02-06T14:37:32.174Z"
   },
   {
    "duration": 717,
    "start_time": "2022-02-06T14:37:32.224Z"
   },
   {
    "duration": 482,
    "start_time": "2022-02-06T14:37:32.944Z"
   },
   {
    "duration": 8,
    "start_time": "2022-02-06T14:37:33.429Z"
   },
   {
    "duration": 1152,
    "start_time": "2022-02-06T14:37:33.446Z"
   },
   {
    "duration": 674,
    "start_time": "2022-02-06T14:37:34.601Z"
   },
   {
    "duration": 831,
    "start_time": "2022-02-06T14:37:35.277Z"
   },
   {
    "duration": 15,
    "start_time": "2022-02-06T14:37:36.110Z"
   },
   {
    "duration": 5,
    "start_time": "2022-02-06T14:37:36.127Z"
   },
   {
    "duration": 8,
    "start_time": "2022-02-06T14:37:36.135Z"
   },
   {
    "duration": 701,
    "start_time": "2022-02-06T14:37:36.145Z"
   },
   {
    "duration": 8,
    "start_time": "2022-02-06T14:37:36.849Z"
   },
   {
    "duration": 10,
    "start_time": "2022-02-06T14:37:36.860Z"
   },
   {
    "duration": 16,
    "start_time": "2022-02-06T14:37:36.872Z"
   },
   {
    "duration": 490,
    "start_time": "2022-02-06T14:37:36.890Z"
   },
   {
    "duration": 11,
    "start_time": "2022-02-06T14:37:37.382Z"
   },
   {
    "duration": 443,
    "start_time": "2022-02-06T14:37:37.395Z"
   },
   {
    "duration": 556,
    "start_time": "2022-02-06T14:38:19.220Z"
   },
   {
    "duration": 659,
    "start_time": "2022-02-06T14:38:38.733Z"
   },
   {
    "duration": 617,
    "start_time": "2022-02-06T14:38:52.283Z"
   },
   {
    "duration": 4,
    "start_time": "2022-02-06T14:38:58.620Z"
   },
   {
    "duration": 3272,
    "start_time": "2022-02-06T14:38:58.628Z"
   },
   {
    "duration": 5,
    "start_time": "2022-02-06T14:39:01.903Z"
   },
   {
    "duration": 250,
    "start_time": "2022-02-06T14:39:01.911Z"
   },
   {
    "duration": 24,
    "start_time": "2022-02-06T14:39:02.164Z"
   },
   {
    "duration": 15,
    "start_time": "2022-02-06T14:39:02.191Z"
   },
   {
    "duration": 4,
    "start_time": "2022-02-06T14:39:02.223Z"
   },
   {
    "duration": 11,
    "start_time": "2022-02-06T14:39:02.229Z"
   },
   {
    "duration": 19,
    "start_time": "2022-02-06T14:39:02.244Z"
   },
   {
    "duration": 30,
    "start_time": "2022-02-06T14:39:02.266Z"
   },
   {
    "duration": 12,
    "start_time": "2022-02-06T14:39:02.324Z"
   },
   {
    "duration": 24,
    "start_time": "2022-02-06T14:39:02.339Z"
   },
   {
    "duration": 3500,
    "start_time": "2022-02-06T14:39:02.365Z"
   },
   {
    "duration": 437,
    "start_time": "2022-02-06T14:39:05.868Z"
   },
   {
    "duration": 78,
    "start_time": "2022-02-06T14:39:06.308Z"
   },
   {
    "duration": 56,
    "start_time": "2022-02-06T14:39:06.389Z"
   },
   {
    "duration": 8,
    "start_time": "2022-02-06T14:39:06.448Z"
   },
   {
    "duration": 8,
    "start_time": "2022-02-06T14:39:06.459Z"
   },
   {
    "duration": 53,
    "start_time": "2022-02-06T14:39:06.470Z"
   },
   {
    "duration": 42,
    "start_time": "2022-02-06T14:39:06.526Z"
   },
   {
    "duration": 10,
    "start_time": "2022-02-06T14:39:06.571Z"
   },
   {
    "duration": 8,
    "start_time": "2022-02-06T14:39:06.583Z"
   },
   {
    "duration": 31,
    "start_time": "2022-02-06T14:39:06.593Z"
   },
   {
    "duration": 8339,
    "start_time": "2022-02-06T14:39:06.627Z"
   },
   {
    "duration": 8,
    "start_time": "2022-02-06T14:39:14.969Z"
   },
   {
    "duration": 60,
    "start_time": "2022-02-06T14:39:14.980Z"
   },
   {
    "duration": 7,
    "start_time": "2022-02-06T14:39:15.048Z"
   },
   {
    "duration": 12,
    "start_time": "2022-02-06T14:39:15.060Z"
   },
   {
    "duration": 49,
    "start_time": "2022-02-06T14:39:15.075Z"
   },
   {
    "duration": 10,
    "start_time": "2022-02-06T14:39:15.126Z"
   },
   {
    "duration": 7,
    "start_time": "2022-02-06T14:39:15.138Z"
   },
   {
    "duration": 18,
    "start_time": "2022-02-06T14:39:15.147Z"
   },
   {
    "duration": 5,
    "start_time": "2022-02-06T14:39:15.167Z"
   },
   {
    "duration": 52,
    "start_time": "2022-02-06T14:39:15.174Z"
   },
   {
    "duration": 7,
    "start_time": "2022-02-06T14:39:15.228Z"
   },
   {
    "duration": 21,
    "start_time": "2022-02-06T14:39:15.238Z"
   },
   {
    "duration": 689,
    "start_time": "2022-02-06T14:39:15.262Z"
   },
   {
    "duration": 16,
    "start_time": "2022-02-06T14:39:15.953Z"
   },
   {
    "duration": 12,
    "start_time": "2022-02-06T14:39:15.971Z"
   },
   {
    "duration": 5,
    "start_time": "2022-02-06T14:39:15.986Z"
   },
   {
    "duration": 622,
    "start_time": "2022-02-06T14:39:16.024Z"
   },
   {
    "duration": 7,
    "start_time": "2022-02-06T14:39:16.649Z"
   },
   {
    "duration": 768,
    "start_time": "2022-02-06T14:39:16.658Z"
   },
   {
    "duration": 6,
    "start_time": "2022-02-06T14:39:17.429Z"
   },
   {
    "duration": 427,
    "start_time": "2022-02-06T14:39:17.437Z"
   },
   {
    "duration": 4,
    "start_time": "2022-02-06T14:39:17.867Z"
   },
   {
    "duration": 1008,
    "start_time": "2022-02-06T14:39:17.873Z"
   },
   {
    "duration": 2886,
    "start_time": "2022-02-06T14:39:18.883Z"
   },
   {
    "duration": 30,
    "start_time": "2022-02-06T14:39:21.771Z"
   },
   {
    "duration": 2782,
    "start_time": "2022-02-06T14:39:21.803Z"
   },
   {
    "duration": 46,
    "start_time": "2022-02-06T14:39:24.588Z"
   },
   {
    "duration": 869,
    "start_time": "2022-02-06T14:39:24.639Z"
   },
   {
    "duration": 503,
    "start_time": "2022-02-06T14:39:25.512Z"
   },
   {
    "duration": 9,
    "start_time": "2022-02-06T14:39:26.018Z"
   },
   {
    "duration": 1080,
    "start_time": "2022-02-06T14:39:26.029Z"
   },
   {
    "duration": 669,
    "start_time": "2022-02-06T14:39:27.111Z"
   },
   {
    "duration": 972,
    "start_time": "2022-02-06T14:39:27.782Z"
   },
   {
    "duration": 7,
    "start_time": "2022-02-06T14:39:28.757Z"
   },
   {
    "duration": 8,
    "start_time": "2022-02-06T14:39:28.767Z"
   },
   {
    "duration": 8,
    "start_time": "2022-02-06T14:39:28.777Z"
   },
   {
    "duration": 590,
    "start_time": "2022-02-06T14:39:28.787Z"
   },
   {
    "duration": 9,
    "start_time": "2022-02-06T14:39:29.380Z"
   },
   {
    "duration": 33,
    "start_time": "2022-02-06T14:39:29.392Z"
   },
   {
    "duration": 11,
    "start_time": "2022-02-06T14:39:29.427Z"
   },
   {
    "duration": 488,
    "start_time": "2022-02-06T14:39:29.441Z"
   },
   {
    "duration": 11,
    "start_time": "2022-02-06T14:39:29.931Z"
   },
   {
    "duration": 470,
    "start_time": "2022-02-06T14:39:29.946Z"
   }
  ],
  "kernelspec": {
   "display_name": "Python 3 (ipykernel)",
   "language": "python",
   "name": "python3"
  },
  "language_info": {
   "codemirror_mode": {
    "name": "ipython",
    "version": 3
   },
   "file_extension": ".py",
   "mimetype": "text/x-python",
   "name": "python",
   "nbconvert_exporter": "python",
   "pygments_lexer": "ipython3",
   "version": "3.9.5"
  },
  "notebookId": "f74915c0-68ac-4bad-8125-5da75351fd69",
  "notebookPath": "da-ds-integrated-project-1.ipynb",
  "toc": {
   "base_numbering": 1,
   "nav_menu": {},
   "number_sections": true,
   "sideBar": true,
   "skip_h1_title": true,
   "title_cell": "Table of Contents",
   "title_sidebar": "Contents",
   "toc_cell": false,
   "toc_position": {},
   "toc_section_display": true,
   "toc_window_display": true
  }
 },
 "nbformat": 4,
 "nbformat_minor": 4
}
