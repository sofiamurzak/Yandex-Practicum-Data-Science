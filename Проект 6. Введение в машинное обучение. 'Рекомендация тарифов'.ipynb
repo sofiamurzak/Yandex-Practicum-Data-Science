{
 "cells": [
  {
   "cell_type": "markdown",
   "metadata": {},
   "source": [
    "Привет, меня зовут Артем Хуршудов. Сегодня я проверю твой проект.\n",
    "<br> Дальнейшее общение будет происходить на \"ты\" если это не вызывает никаких проблем.\n",
    "<br> Желательно реагировать на каждый мой комментарий ('исправил', 'не понятно как исправить ошибку', ...)\n",
    "<br> Пожалуйста, не удаляй комментарии ревьюера, так как они повышают качество повторного ревью.\n",
    "\n",
    "Комментарии будут в <font color='green'>зеленой</font>, <font color='blue'>синей</font> или <font color='red'>красной</font> рамках:\n",
    "\n",
    "<div class=\"alert alert-block alert-success\">\n",
    "<b>Успех:</b> Если все сделано отлично\n",
    "</div>\n",
    "\n",
    "<div class=\"alert alert-block alert-info\">\n",
    "<b>Совет: </b> Если можно немного улучшить\n",
    "</div>\n",
    "\n",
    "<div class=\"alert alert-block alert-danger\">\n",
    "<b>Ошибка:</b> Если требуются исправления. Работа не может быть принята с красными комментариями.\n",
    "</div>\n",
    "\n",
    "-------------------\n",
    "\n",
    "Будет очень хорошо, если ты будешь помечать свои действия следующим образом:\n",
    "<div class=\"alert alert-block alert-warning\">\n",
    "<b>Комментарий студента:</b> ...\n",
    "</div>\n",
    "\n",
    "<div class=\"alert alert-block alert-warning\">\n",
    "<b>Изменения:</b> Были внесены следующие изменения ...\n",
    "</div>\n",
    "\n",
    "#### <font color='orange'>Полезные ссылки:</font>\n",
    "* Могу предложить обратить внимание на вот этот теоритический курс лекци: https://www.youtube.com/watch?v=SZkrxWhI5qM&list=PLJOzdkh8T5krxc4HsHbB8g8f0hu7973fK\n",
    "\n",
    "### <font color='orange'>Общее впечатление</font>\n",
    "* Большое спасибо за проделанную работу. Видно, что приложено много усилий.\n",
    "* Отлично, что правильно использованы train/valid/test наборы.\n",
    "* Выводы и рассуждения получились содержательными, их было интересно читать.\n",
    "* Я оставил несколько советов, надеюсь, что они будут учтены в будущих проектах.\n",
    "* Тебе удалось добиться очень хорошего качества, поздравляю!\n",
    "* Проект может быть зачтен, но я его отправлю назад, чтобы у тебя была возможность задать вопросы и внести правки, при желании. Однако, ты можешь просто вернуть проект в таком же виде и я его зачту."
   ]
  },
  {
   "cell_type": "markdown",
   "metadata": {},
   "source": [
    "### <font color='orange'>Общее впечатление (ревью 2)</font>\n",
    "* Проект зачтен!\n",
    "* Удачи в дальнейшем обучении и следующих работах!"
   ]
  },
  {
   "cell_type": "code",
   "execution_count": 1,
   "metadata": {
    "cellId": "bbn27e3q1eq1gyc0j4yl3vi"
   },
   "outputs": [],
   "source": [
    "# Пожалуйста, закомментируйте эту ячейку перед отправкой\n",
    "#%pip install -q -r requirements-ml.txt"
   ]
  },
  {
   "cell_type": "code",
   "execution_count": 2,
   "metadata": {
    "cellId": "ivw8uhvlwj9vlbhv5jbpd"
   },
   "outputs": [
    {
     "name": "stdout",
     "output_type": "stream",
     "text": [
      "Defaulting to user installation because normal site-packages is not writeable\n",
      "Collecting scikit-learn==0.22.1\n",
      "  Downloading scikit_learn-0.22.1-cp37-cp37m-manylinux1_x86_64.whl (7.0 MB)\n",
      "\u001b[K     |████████████████████████████████| 7.0 MB 2.5 MB/s eta 0:00:01\n",
      "\u001b[?25hRequirement already satisfied: scipy>=0.17.0 in /opt/conda/lib/python3.7/site-packages (from scikit-learn==0.22.1) (1.4.1)\n",
      "Requirement already satisfied: joblib>=0.11 in /opt/conda/lib/python3.7/site-packages (from scikit-learn==0.22.1) (1.0.1)\n",
      "Requirement already satisfied: numpy>=1.11.0 in /opt/conda/lib/python3.7/site-packages (from scikit-learn==0.22.1) (1.19.5)\n",
      "Installing collected packages: scikit-learn\n",
      "Successfully installed scikit-learn-0.22.1\n",
      "Note: you may need to restart the kernel to use updated packages.\n"
     ]
    }
   ],
   "source": [
    "# Пожалуйста, не изменяйте эту ячейку! Перед отправкой её комментировать не надо!\n",
    "%pip install scikit-learn==0.22.1"
   ]
  },
  {
   "cell_type": "markdown",
   "metadata": {
    "cellId": "lpzueyhcbukgi9q4jt5c"
   },
   "source": [
    "# Рекомендация тарифов"
   ]
  },
  {
   "cell_type": "markdown",
   "metadata": {
    "cellId": "xo4os7k0ix8ztxz8xpp788"
   },
   "source": [
    "## Содержание\n",
    "### Описание проекта\n",
    "\n",
    "Оператор мобильной связи «Мегалайн» выяснил: многие клиенты пользуются архивными тарифами. Они хотят построить систему, способную проанализировать поведение клиентов и предложить пользователям новый тариф: «Смарт» или «Ультра».\n",
    "\n",
    "В вашем распоряжении данные о поведении клиентов, которые уже перешли на эти тарифы (из проекта курса «Статистический анализ данных»). Нужно построить модель для задачи классификации, которая выберет подходящий тариф. Предобработка данных не понадобится — вы её уже сделали.\n",
    "\n",
    "Постройте модель с максимально большим значением *accuracy*. Чтобы сдать проект успешно, нужно довести долю правильных ответов по крайней мере до 0.75. Проверьте *accuracy* на тестовой выборке самостоятельно."
   ]
  },
  {
   "cell_type": "markdown",
   "metadata": {
    "cellId": "izwm97cxy2h9nxtdcqpnu9"
   },
   "source": [
    "### Цель исследования\n",
    "Построить модель для задачи классификации с максимально большим значением accuracy, которая выберет подходящий тариф."
   ]
  },
  {
   "cell_type": "markdown",
   "metadata": {
    "cellId": "zr8dnugao2e0yuudk3patyb"
   },
   "source": [
    "### Ход исследования\n",
    "1. Изучить исходные данные\n",
    "2. Разделить исходные данные на выборки\n",
    "3. Исследовать качество разных моделей\n",
    "4. Проверить качество модели на тестовой выборке"
   ]
  },
  {
   "cell_type": "markdown",
   "metadata": {
    "cellId": "xwf2p2didb3la7705l2d9"
   },
   "source": [
    "## Откройте и изучите файл"
   ]
  },
  {
   "cell_type": "markdown",
   "metadata": {
    "cellId": "08mxti18bkrh0dygrxjg300p"
   },
   "source": [
    "Импортирую все необходимые библиотеки и модули."
   ]
  },
  {
   "cell_type": "code",
   "execution_count": 3,
   "metadata": {
    "cellId": "zy1wtm6sbfonv5qj5jv3wg"
   },
   "outputs": [],
   "source": [
    "import pandas as pd\n",
    "from pandas.plotting import scatter_matrix\n",
    "from sklearn.model_selection import train_test_split \n",
    "from sklearn.tree import DecisionTreeClassifier\n",
    "from sklearn.metrics import accuracy_score\n",
    "from sklearn.ensemble import RandomForestClassifier\n",
    "from sklearn.linear_model import LogisticRegression"
   ]
  },
  {
   "cell_type": "code",
   "execution_count": 4,
   "metadata": {
    "cellId": "78tega8i7mj9mmf0z4vzy5"
   },
   "outputs": [],
   "source": [
    "import warnings\n",
    "warnings.filterwarnings(\"ignore\") "
   ]
  },
  {
   "cell_type": "markdown",
   "metadata": {},
   "source": [
    "<div class=\"alert alert-block alert-success\">\n",
    "<b>Успех:</b> Отлично, что все импорты собраны в первой ячейке ноутбука! Если у того, кто будет запускать твой ноутбук будут отсутствовать некоторые библиотеки, то он это увидит сразу, а не в процессе!\n",
    "</div>"
   ]
  },
  {
   "cell_type": "markdown",
   "metadata": {
    "cellId": "1x0sqxf18zppmww6snzzv"
   },
   "source": [
    "Методом read_csv() создам датафрейм из данных формата csv, дополнительные параметры не нужны, так как в файле csv стандартный разделитель и положение заголовков."
   ]
  },
  {
   "cell_type": "code",
   "execution_count": 5,
   "metadata": {
    "cellId": "vwe9z4c1fq3q1mnn2ysuz"
   },
   "outputs": [
    {
     "name": "stdout",
     "output_type": "stream",
     "text": [
      "[Errno 2] File b'users_behavior.csv' does not exist: b'users_behavior.csv'\n"
     ]
    }
   ],
   "source": [
    "try:\n",
    "    data = pd.read_csv('users_behavior.csv')\n",
    "except FileNotFoundError as e:\n",
    "    print(e)\n",
    "    data = pd.read_csv('/datasets/users_behavior.csv')"
   ]
  },
  {
   "cell_type": "code",
   "execution_count": 6,
   "metadata": {
    "cellId": "kxxkl6dggz5z63ukmo29d"
   },
   "outputs": [
    {
     "data": {
      "text/html": [
       "<div>\n",
       "<style scoped>\n",
       "    .dataframe tbody tr th:only-of-type {\n",
       "        vertical-align: middle;\n",
       "    }\n",
       "\n",
       "    .dataframe tbody tr th {\n",
       "        vertical-align: top;\n",
       "    }\n",
       "\n",
       "    .dataframe thead th {\n",
       "        text-align: right;\n",
       "    }\n",
       "</style>\n",
       "<table border=\"1\" class=\"dataframe\">\n",
       "  <thead>\n",
       "    <tr style=\"text-align: right;\">\n",
       "      <th></th>\n",
       "      <th>calls</th>\n",
       "      <th>minutes</th>\n",
       "      <th>messages</th>\n",
       "      <th>mb_used</th>\n",
       "      <th>is_ultra</th>\n",
       "    </tr>\n",
       "  </thead>\n",
       "  <tbody>\n",
       "    <tr>\n",
       "      <td>0</td>\n",
       "      <td>40.0</td>\n",
       "      <td>311.90</td>\n",
       "      <td>83.0</td>\n",
       "      <td>19915.42</td>\n",
       "      <td>0</td>\n",
       "    </tr>\n",
       "    <tr>\n",
       "      <td>1</td>\n",
       "      <td>85.0</td>\n",
       "      <td>516.75</td>\n",
       "      <td>56.0</td>\n",
       "      <td>22696.96</td>\n",
       "      <td>0</td>\n",
       "    </tr>\n",
       "    <tr>\n",
       "      <td>2</td>\n",
       "      <td>77.0</td>\n",
       "      <td>467.66</td>\n",
       "      <td>86.0</td>\n",
       "      <td>21060.45</td>\n",
       "      <td>0</td>\n",
       "    </tr>\n",
       "    <tr>\n",
       "      <td>3</td>\n",
       "      <td>106.0</td>\n",
       "      <td>745.53</td>\n",
       "      <td>81.0</td>\n",
       "      <td>8437.39</td>\n",
       "      <td>1</td>\n",
       "    </tr>\n",
       "    <tr>\n",
       "      <td>4</td>\n",
       "      <td>66.0</td>\n",
       "      <td>418.74</td>\n",
       "      <td>1.0</td>\n",
       "      <td>14502.75</td>\n",
       "      <td>0</td>\n",
       "    </tr>\n",
       "  </tbody>\n",
       "</table>\n",
       "</div>"
      ],
      "text/plain": [
       "   calls  minutes  messages   mb_used  is_ultra\n",
       "0   40.0   311.90      83.0  19915.42         0\n",
       "1   85.0   516.75      56.0  22696.96         0\n",
       "2   77.0   467.66      86.0  21060.45         0\n",
       "3  106.0   745.53      81.0   8437.39         1\n",
       "4   66.0   418.74       1.0  14502.75         0"
      ]
     },
     "execution_count": 6,
     "metadata": {},
     "output_type": "execute_result"
    }
   ],
   "source": [
    "data.head()"
   ]
  },
  {
   "cell_type": "markdown",
   "metadata": {
    "cellId": "76clodgybawgkig1h3wcg"
   },
   "source": [
    "Каждый объект в наборе данных — это информация о поведении одного пользователя за месяц. Известно:\n",
    "- сalls — количество звонков,\n",
    "- minutes — суммарная длительность звонков в минутах,\n",
    "- messages — количество sms-сообщений,\n",
    "- mb_used — израсходованный интернет-трафик в Мб,\n",
    "- is_ultra — каким тарифом пользовался в течение месяца («Ультра» — 1, «Смарт» — 0)."
   ]
  },
  {
   "cell_type": "markdown",
   "metadata": {
    "cellId": "i7byhwni3t8mvo5v0ttim"
   },
   "source": [
    "Предобработка данных не понадобится — я её уже сделала в предыдущем проекте с этими же данными."
   ]
  },
  {
   "cell_type": "markdown",
   "metadata": {
    "cellId": "cownt9jhth5ogi8o3lspi"
   },
   "source": [
    "Для того, чтобы исследовать данные на мультиколлинеарность, выведу матрицу корреляции импортированным методом scatter_matrix() между всеми столбцами, кроме \"is_ultra\", так как этот столбец с категориальными переменными. Мультиколлинеарность — корреляция независимых переменных, которая затрудняет оценку и анализ общего результата. В машинном обучении мультиколлинеарность может стать причиной переобучаемости модели, что приведет к неверному результату."
   ]
  },
  {
   "cell_type": "code",
   "execution_count": 7,
   "metadata": {
    "cellId": "okubdvh4a688lthw0t4u4b"
   },
   "outputs": [
    {
     "data": {
      "text/plain": [
       "array([[<matplotlib.axes._subplots.AxesSubplot object at 0x7f4fe9f1a650>,\n",
       "        <matplotlib.axes._subplots.AxesSubplot object at 0x7f4fea443350>,\n",
       "        <matplotlib.axes._subplots.AxesSubplot object at 0x7f4fe1bf2790>,\n",
       "        <matplotlib.axes._subplots.AxesSubplot object at 0x7f4fe1ba6f50>],\n",
       "       [<matplotlib.axes._subplots.AxesSubplot object at 0x7f4fe1b66790>,\n",
       "        <matplotlib.axes._subplots.AxesSubplot object at 0x7f4fe1b19f90>,\n",
       "        <matplotlib.axes._subplots.AxesSubplot object at 0x7f4fe1ada7d0>,\n",
       "        <matplotlib.axes._subplots.AxesSubplot object at 0x7f4fe1a8dfd0>],\n",
       "       [<matplotlib.axes._subplots.AxesSubplot object at 0x7f4fe1a99b50>,\n",
       "        <matplotlib.axes._subplots.AxesSubplot object at 0x7f4fe1a58510>,\n",
       "        <matplotlib.axes._subplots.AxesSubplot object at 0x7f4fe1a44850>,\n",
       "        <matplotlib.axes._subplots.AxesSubplot object at 0x7f4fe1a00bd0>],\n",
       "       [<matplotlib.axes._subplots.AxesSubplot object at 0x7f4fe19b8890>,\n",
       "        <matplotlib.axes._subplots.AxesSubplot object at 0x7f4fe1976c10>,\n",
       "        <matplotlib.axes._subplots.AxesSubplot object at 0x7f4fe192d8d0>,\n",
       "        <matplotlib.axes._subplots.AxesSubplot object at 0x7f4fe18e8c50>]],\n",
       "      dtype=object)"
      ]
     },
     "execution_count": 7,
     "metadata": {},
     "output_type": "execute_result"
    },
    {
     "data": {
      "image/png": "[encoded data removed]",
      "text/plain": [
       "<Figure size 648x648 with 16 Axes>"
      ]
     },
     "metadata": {
      "needs_background": "light"
     },
     "output_type": "display_data"
    }
   ],
   "source": [
    "scatter_matrix(data.drop(['is_ultra'],axis =1), figsize=(9, 9), color = 'yellow') "
   ]
  },
  {
   "cell_type": "code",
   "execution_count": 8,
   "metadata": {
    "cellId": "urjrmwwbydhqqempyyq4pq"
   },
   "outputs": [
    {
     "data": {
      "text/plain": [
       "'Корреляция столбцов calls и minutes:0.9820832355742293'"
      ]
     },
     "execution_count": 8,
     "metadata": {},
     "output_type": "execute_result"
    }
   ],
   "source": [
    "'Корреляция столбцов calls и minutes:{0}'.format(data['calls'].corr(data['minutes']))"
   ]
  },
  {
   "cell_type": "markdown",
   "metadata": {
    "cellId": "6tf98juk6d7rdt5no4uiwm"
   },
   "source": [
    "На мартице видна высокая корреляция между значениями столбцов calls и minutes, коэфициент корреляции показал значение 0.98, что очень близко к 1 - совершенной положительной корреляции. Две переменных коллинеарны, когда они находятся между собой в линейной зависимости, если коэффициент корреляции более 0,7. Чтобы избавиться от мультиколлинарности, необходимо исключить из модели один из факторов. В дальнейших шагах проекта необходимо будет провести эксперимент по удалению одного из признаков и оценке качества моделей."
   ]
  },
  {
   "cell_type": "markdown",
   "metadata": {},
   "source": [
    "<div class=\"alert alert-block alert-success\">\n",
    "<b>Успех:</b> Данные загружены корректно, первичный осмотр проведен. Радует, что распределения были визуализированы!\n",
    "</div>"
   ]
  },
  {
   "cell_type": "markdown",
   "metadata": {
    "cellId": "0mmp7bq7lm5ipag957notzg"
   },
   "source": [
    "## Исследуйте модели"
   ]
  },
  {
   "cell_type": "markdown",
   "metadata": {
    "cellId": "z7ndbp497auxcofw1fpf"
   },
   "source": [
    "Выделю целевой признак из датафрейма в переменную target, остальные признаки оставлю в переменной features. Целевой признак (признак, который нужно предсказать)- is_ultra."
   ]
  },
  {
   "cell_type": "code",
   "execution_count": 9,
   "metadata": {
    "cellId": "fykvkptqzhow7hq2feo7p"
   },
   "outputs": [],
   "source": [
    "target_all = data['is_ultra']\n",
    "features_all = data.drop(['is_ultra'], axis=1)"
   ]
  },
  {
   "cell_type": "markdown",
   "metadata": {
    "cellId": "kzn8xw2qvdcirxfyqz0z2"
   },
   "source": [
    "Необходимо разделить исходные данные на обучающую, валидационную и тестовую выборки. Значит, данные нужно разбить на три части. Размеры тестового и валидационного наборов обычно равны. Исходные данные разбивают в соотношении 3:1:1. Сперва разделю исходные данные в отношении 3:2, далее получившиеся данные в отношении 1:1."
   ]
  },
  {
   "cell_type": "code",
   "execution_count": 10,
   "metadata": {
    "cellId": "z2hbcooljqhp36j1e0dyaa"
   },
   "outputs": [],
   "source": [
    "features_train_all, features_valid_test_all,target_train_all, target_valid_test_all = train_test_split(features_all, target_all, test_size = 0.4, random_state = 12345)"
   ]
  },
  {
   "cell_type": "code",
   "execution_count": 11,
   "metadata": {
    "cellId": "w6bv8q7k5n0rqg5yl2awu"
   },
   "outputs": [],
   "source": [
    "features_valid_all, features_test_all, target_valid_all, target_test_all = train_test_split(features_valid_test_all, target_valid_test_all, test_size=0.5, random_state = 12345) "
   ]
  },
  {
   "cell_type": "markdown",
   "metadata": {},
   "source": [
    "Выведу размер выделенных выборок, чтобы убедиться что все корректно расситалось."
   ]
  },
  {
   "cell_type": "code",
   "execution_count": 17,
   "metadata": {},
   "outputs": [
    {
     "name": "stdout",
     "output_type": "stream",
     "text": [
      "размер features_train_all (1928, 4)\n",
      "размер features_valid_all (643, 4)\n",
      "размер features_test_all (643, 4)\n"
     ]
    }
   ],
   "source": [
    "print('размер features_train_all',features_train_all.shape)\n",
    "print('размер features_valid_all',features_valid_all.shape)\n",
    "print('размер features_test_all',features_test_all.shape)"
   ]
  },
  {
   "cell_type": "markdown",
   "metadata": {
    "cellId": "4zt4daywjfrlbvskj2if2s"
   },
   "source": [
    "Лучшую модель буду выбирать из: модель дерева решений, модель случайного леса, модель логистической регресии."
   ]
  },
  {
   "cell_type": "markdown",
   "metadata": {},
   "source": [
    "<div class=\"alert alert-block alert-success\">\n",
    "<b>Успех:</b> Разбиение было сделано правильно.\n",
    "</div>\n",
    "\n",
    "<div class=\"alert alert-block alert-info\">\n",
    "<b>Совет: </b> Желательно, чтобы размеры полученных наборов были напечатаны. Иногда, это помогает избежать ошибок.\n",
    "</div>"
   ]
  },
  {
   "cell_type": "markdown",
   "metadata": {},
   "source": [
    "<div class=\"alert alert-block alert-warning\">\n",
    "<b>Комментарий студента:</b> Добавила размеры.\n",
    "</div>"
   ]
  },
  {
   "cell_type": "markdown",
   "metadata": {},
   "source": [
    "<div class=\"alert alert-block alert-success\">\n",
    "<b>Успех (ревью 2):</b> Спасибо!\n",
    "</div>"
   ]
  },
  {
   "cell_type": "markdown",
   "metadata": {
    "cellId": "punb8f66urhhthzt9i0xq6"
   },
   "source": [
    "### Дерево решений"
   ]
  },
  {
   "cell_type": "code",
   "execution_count": null,
   "metadata": {
    "cellId": "hqvhhj4amcsudvqkhav5ec"
   },
   "outputs": [],
   "source": [
    "best_model = None\n",
    "best_result = 0\n",
    "for depth in range(1, 10):\n",
    "    model = DecisionTreeClassifier(random_state=12345, max_depth=depth)\n",
    "    model.fit(features_train, target_train) \n",
    "    predictions = model.predict(features_valid)\n",
    "    result = accuracy_score(target_valid, predictions) \n",
    "    if result > best_result:\n",
    "        best_model = model\n",
    "        best_result = result\n",
    "        \n",
    "print(\"Accuracy лучшей модели дерева решений:\", best_result, best_model)"
   ]
  },
  {
   "cell_type": "markdown",
   "metadata": {},
   "source": [
    "<div class=\"alert alert-block alert-success\">\n",
    "<b>Успех:</b> Подбор парамтеров был сделан верно.\n",
    "</div>"
   ]
  },
  {
   "cell_type": "markdown",
   "metadata": {
    "cellId": "u3mlk7icw5dowdsxf19qxi"
   },
   "source": [
    "### Случайный лес"
   ]
  },
  {
   "cell_type": "code",
   "execution_count": null,
   "metadata": {
    "cellId": "28ps68bc2j4s443if9fhb"
   },
   "outputs": [],
   "source": [
    "best_model = None\n",
    "best_result = 0\n",
    "for est in range(10, 51, 10):\n",
    "    for depth in range (1, 11):\n",
    "        model = RandomForestClassifier(random_state=12345, n_estimators=est, max_depth=depth) \n",
    "        model.fit(features_train,target_train) \n",
    "        result = model.score(features_valid, target_valid) \n",
    "        if result > best_result:\n",
    "            best_model = model\n",
    "            best_result = result\n",
    "\n",
    "print(\"Accuracy лучшей модели случайного леса:\", best_result, best_model)"
   ]
  },
  {
   "cell_type": "markdown",
   "metadata": {},
   "source": [
    "<div class=\"alert alert-block alert-success\">\n",
    "<b>Успех:</b> Хорошо, что в данном случае настраивается сразу несколько параметров!\n",
    "</div>"
   ]
  },
  {
   "cell_type": "markdown",
   "metadata": {
    "cellId": "imj9pl3793opzvj8dxa8"
   },
   "source": [
    "### Логистическая регрессия"
   ]
  },
  {
   "cell_type": "code",
   "execution_count": null,
   "metadata": {
    "cellId": "70tzet38j4djdlwvqxynh"
   },
   "outputs": [],
   "source": [
    "model = LogisticRegression(random_state = 12345)\n",
    "model.fit(features_train, target_train)\n",
    "result = model.score(features_valid, target_valid)\n",
    "\n",
    "print(\"Accuracy модели логистической регрессии на валидационной выборке:\", result)"
   ]
  },
  {
   "cell_type": "markdown",
   "metadata": {
    "cellId": "5xr20hulpvlkwdbtufvafq"
   },
   "source": [
    "**Вывод:** Таким образом, лучший результат обучения у модели случайного леса с гиперпараметрами max_depth=8, n_estimators=40.\n",
    "Теперь исследую, увеличится ли accuracy модели, если поочередно убрать столбцы, которые имеют высокую корреляцию (calls и minutes)."
   ]
  },
  {
   "cell_type": "code",
   "execution_count": null,
   "metadata": {
    "cellId": "fav7zit6c85rywc71nrrpa"
   },
   "outputs": [],
   "source": [
    "target = data['is_ultra']\n",
    "features = data.drop(['is_ultra','calls'], axis=1)"
   ]
  },
  {
   "cell_type": "code",
   "execution_count": null,
   "metadata": {
    "cellId": "cmz7uxgnmwekuotu6942ds"
   },
   "outputs": [],
   "source": [
    "features_train, features_valid_test,target_train, target_valid_test = train_test_split(features, target, test_size = 0.4, random_state = 12345)"
   ]
  },
  {
   "cell_type": "code",
   "execution_count": null,
   "metadata": {
    "cellId": "jd7hbj2l869q17npexlc8"
   },
   "outputs": [],
   "source": [
    "features_valid, features_test, target_valid, target_test = train_test_split(features_valid_test, target_valid_test, test_size=0.5, random_state = 12345) "
   ]
  },
  {
   "cell_type": "markdown",
   "metadata": {
    "cellId": "uxg8bictuzaw9ej2hbyl4"
   },
   "source": [
    "### Дерево решений (без calls)"
   ]
  },
  {
   "cell_type": "code",
   "execution_count": null,
   "metadata": {
    "cellId": "5fpl8uif7jkyqvbjcrdq1n"
   },
   "outputs": [],
   "source": [
    "best_model = None\n",
    "best_result = 0\n",
    "for depth in range(1, 10):\n",
    "    model = DecisionTreeClassifier(random_state=12345, max_depth=depth)\n",
    "    model.fit(features_train, target_train) \n",
    "    predictions = model.predict(features_valid)\n",
    "    result = accuracy_score(target_valid, predictions) \n",
    "    if result > best_result:\n",
    "        best_model = model\n",
    "        best_result = result\n",
    "        \n",
    "print(\"Accuracy лучшей модели дерева решений:\", best_result, best_model)"
   ]
  },
  {
   "cell_type": "markdown",
   "metadata": {
    "cellId": "3hheypg21jl4plm43wiwjo"
   },
   "source": [
    "### Случайный лес (без calls)"
   ]
  },
  {
   "cell_type": "code",
   "execution_count": null,
   "metadata": {
    "cellId": "1hey9plm313282igpjpzii"
   },
   "outputs": [],
   "source": [
    "best_model = None\n",
    "best_result = 0\n",
    "for est in range(10, 51, 10):\n",
    "    for depth in range (1, 11):\n",
    "        model = RandomForestClassifier(random_state=12345, n_estimators=est, max_depth=depth) \n",
    "        model.fit(features_train,target_train) \n",
    "        result = model.score(features_valid, target_valid) \n",
    "        if result > best_result:\n",
    "            best_model = model\n",
    "            best_result = result\n",
    "\n",
    "print(\"Accuracy лучшей модели случайного леса:\", best_result, best_model)"
   ]
  },
  {
   "cell_type": "markdown",
   "metadata": {
    "cellId": "n3ipbxfaeykefwrxyh8hp"
   },
   "source": [
    "### Логистическая регрессия (без calls)"
   ]
  },
  {
   "cell_type": "code",
   "execution_count": null,
   "metadata": {
    "cellId": "ooa2mp0q20nj7lqoigpwya"
   },
   "outputs": [],
   "source": [
    "model = LogisticRegression(random_state = 12345)\n",
    "model.fit(features_train, target_train)\n",
    "result = model.score(features_valid, target_valid)\n",
    "\n",
    "print(\"Accuracy модели логистической регрессии на валидационной выборке:\", result)"
   ]
  },
  {
   "cell_type": "markdown",
   "metadata": {
    "cellId": "n9ppbvcnvjw13befzrcp8"
   },
   "source": [
    "**Вывод:** Ни одна из моделей не показала результат лучше, чем случайный лес с исходными данными без исключения признака calls. Проверю то же самое с исключением признака minutes."
   ]
  },
  {
   "cell_type": "code",
   "execution_count": null,
   "metadata": {
    "cellId": "xgxtdlp824b05q0ptie91ya"
   },
   "outputs": [],
   "source": [
    "target = data['is_ultra']\n",
    "features = data.drop(['is_ultra','minutes'], axis=1)"
   ]
  },
  {
   "cell_type": "code",
   "execution_count": null,
   "metadata": {
    "cellId": "9e0u5l7zcpe6w4vxykiyfu"
   },
   "outputs": [],
   "source": [
    "features_train, features_valid_test,target_train, target_valid_test = train_test_split(features, target, test_size = 0.4, random_state = 12345)"
   ]
  },
  {
   "cell_type": "code",
   "execution_count": null,
   "metadata": {
    "cellId": "o12n1mk9dblu3cf6xu2bz8"
   },
   "outputs": [],
   "source": [
    "features_valid, features_test, target_valid, target_test = train_test_split(features_valid_test, target_valid_test, test_size=0.5, random_state = 12345) "
   ]
  },
  {
   "cell_type": "markdown",
   "metadata": {
    "cellId": "flj0fgpxe8wm3e03fqst"
   },
   "source": [
    "### Дерево решений (без minutes)"
   ]
  },
  {
   "cell_type": "code",
   "execution_count": null,
   "metadata": {
    "cellId": "uzeb4ada5oia4webod4kau"
   },
   "outputs": [],
   "source": [
    "best_model = None\n",
    "best_result = 0\n",
    "for depth in range(1, 10):\n",
    "    model = DecisionTreeClassifier(random_state=12345, max_depth=depth)\n",
    "    model.fit(features_train, target_train) \n",
    "    predictions = model.predict(features_valid)\n",
    "    result = accuracy_score(target_valid, predictions) \n",
    "    if result > best_result:\n",
    "        best_model = model\n",
    "        best_result = result\n",
    "        \n",
    "print(\"Accuracy лучшей модели дерева решений:\", best_result, best_model)"
   ]
  },
  {
   "cell_type": "markdown",
   "metadata": {
    "cellId": "aih9i43l0gsd1mpaefrx4"
   },
   "source": [
    "### Случайный лес (без minutes)"
   ]
  },
  {
   "cell_type": "code",
   "execution_count": null,
   "metadata": {
    "cellId": "gkdltwt1xq92jvzzgqxrnc"
   },
   "outputs": [],
   "source": [
    "best_model = None\n",
    "best_result = 0\n",
    "for est in range(10, 51, 10):\n",
    "    for depth in range (1, 11):\n",
    "        model = RandomForestClassifier(random_state=12345, n_estimators=est, max_depth=depth) \n",
    "        model.fit(features_train,target_train) \n",
    "        result = model.score(features_valid, target_valid) \n",
    "        if result > best_result:\n",
    "            best_model = model\n",
    "            best_result = result\n",
    "\n",
    "print(\"Accuracy лучшей модели случайного леса:\", best_result, best_model)"
   ]
  },
  {
   "cell_type": "markdown",
   "metadata": {
    "cellId": "i8xy2r7de0pcyyusd8osoa"
   },
   "source": [
    "### Логистическая регрессия (без minutes)"
   ]
  },
  {
   "cell_type": "code",
   "execution_count": null,
   "metadata": {
    "cellId": "tdy2seom89fpaoh5kzkcci"
   },
   "outputs": [],
   "source": [
    "model = LogisticRegression(random_state = 12345)\n",
    "model.fit(features_train, target_train)\n",
    "result = model.score(features_valid, target_valid)\n",
    "\n",
    "print(\"Accuracy модели логистической регрессии на валидационной выборке:\", result)"
   ]
  },
  {
   "cell_type": "markdown",
   "metadata": {
    "cellId": "q7gtbdaw9qmksum20hfws"
   },
   "source": [
    "**Вывод:** Ни одна из моделей не показала результат лучше, чем случайный лес с исходными данными без исключения признака minutes или calls. Проверять на тестовой выборке я буду модель случайного леса с гиперпараметрами n_estimators=40, max_depth=8."
   ]
  },
  {
   "cell_type": "markdown",
   "metadata": {},
   "source": [
    "<div class=\"alert alert-block alert-success\">\n",
    "<b>Успех:</b> Молодец, что попробовала разные модели и поэкспериментировала с удалением зависимых признаков!\n",
    "</div>"
   ]
  },
  {
   "cell_type": "markdown",
   "metadata": {
    "cellId": "o1kvoia0t82m1wuah5r3e"
   },
   "source": [
    "## Проверьте модель на тестовой выборке"
   ]
  },
  {
   "cell_type": "code",
   "execution_count": 19,
   "metadata": {
    "cellId": "xhjti7yuffojczp5picmba"
   },
   "outputs": [
    {
     "name": "stdout",
     "output_type": "stream",
     "text": [
      "Accuracy модели случайного леса для тестовой выборки: 0.7962674961119751\n"
     ]
    }
   ],
   "source": [
    "model = RandomForestClassifier(random_state=12345, n_estimators=40, max_depth=8) \n",
    "model.fit(features_train_all,target_train_all)\n",
    "result = model.score(features_test_all, target_test_all) \n",
    "\n",
    "print(\"Accuracy модели случайного леса для тестовой выборки:\", result)"
   ]
  },
  {
   "cell_type": "markdown",
   "metadata": {},
   "source": [
    "<div class=\"alert alert-block alert-success\">\n",
    "<b>Успех:</b> Тетсирование было сделано абсолютно верно!\n",
    "</div>"
   ]
  },
  {
   "cell_type": "markdown",
   "metadata": {
    "cellId": "09rm0rd55qcxtmnpv1lvvnc"
   },
   "source": [
    "## Вывод\n",
    "Для построения модели классификации, которая выберет подходящий тариф для клиента из исходных данных было составлено три выборки - обучающая, валидационная и тестовая в отношении 3:1:1. Для проверки на мультиколлиниарность была построена матрица корреляции, которая показала что корреляция между признаками calls и minutes стремится к абсолютной положительной корреляции. Наилучший результат accuracy для исходных данных показала модель Случайного леса с гиперпарамтерами n_estimators=40, max_depth=8. Тестовая выборка показала результат accuracy 0.796. "
   ]
  },
  {
   "cell_type": "markdown",
   "metadata": {},
   "source": [
    "<div class=\"alert alert-block alert-success\">\n",
    "<b>Успех:</b> Приятно видеть вывод в конце проекта!\n",
    "</div>"
   ]
  },
  {
   "cell_type": "markdown",
   "metadata": {
    "cellId": "hnu7p8k88qjrcahdh0ibis"
   },
   "source": [
    "## (бонус) Проверьте модели на адекватность"
   ]
  },
  {
   "cell_type": "markdown",
   "metadata": {},
   "source": [
    "<div class=\"alert alert-block alert-info\">\n",
    "<b>Совет: </b> Под проверкой на адекватность обычно понимают сравнение с какой-то глупой моделью (например, константной, то есть той, которая всегда выдает одно число). Подумай, какие числа имеет смысл предсказывать в этой задаче, посчитай точность для каждого из этих чисел. Попробуй объяснить полученные результаты.\n",
    "    <br> Проверку на адекватность лучше всего реализовывать с помощью <a href=\"https://scikit-learn.org/stable/modules/generated/sklearn.dummy.DummyClassifier.html\"> DummyClassifier </a>. \n",
    "    <br> Точность правильной константной модели должна быть равна доли бОльшего класса.\n",
    "</div>"
   ]
  },
  {
   "cell_type": "markdown",
   "metadata": {
    "cellId": "4qgsxulgn8am7bwi4dfcu"
   },
   "source": [
    "## Чек-лист готовности проекта"
   ]
  },
  {
   "cell_type": "markdown",
   "metadata": {
    "cellId": "26qku1g8tc67vxjd3urvqb"
   },
   "source": [
    "Поставьте 'x' в выполненных пунктах. Далее нажмите Shift+Enter."
   ]
  },
  {
   "cell_type": "markdown",
   "metadata": {
    "cellId": "6tc1m9v2q26iessjhu31wq"
   },
   "source": [
    "- [x] Jupyter Notebook открыт\n",
    "- [x] Весь код исполняется без ошибок\n",
    "- [x] Ячейки с кодом расположены в порядке исполнения\n",
    "- [x] Выполнено задание 1: данные загружены и изучены\n",
    "- [x] Выполнено задание 2: данные разбиты на три выборки\n",
    "- [x] Выполнено задание 3: проведено исследование моделей\n",
    "    - [x] Рассмотрено больше одной модели\n",
    "    - [x] Рассмотрено хотя бы 3 значения гипепараметров для какой-нибудь модели\n",
    "    - [x] Написаны выводы по результатам исследования\n",
    "- [x] Выполнено задание 3: Проведено тестирование\n",
    "- [x] Удалось достичь accuracy не меньше 0.75\n"
   ]
  }
 ],
 "metadata": {
  "ExecuteTimeLog": [
   {
    "duration": 368,
    "start_time": "2022-02-07T13:33:02.645Z"
   },
   {
    "duration": 3,
    "start_time": "2022-02-07T13:33:22.488Z"
   },
   {
    "duration": 7363,
    "start_time": "2022-02-07T13:33:22.494Z"
   },
   {
    "duration": 1433,
    "start_time": "2022-02-07T13:33:29.861Z"
   },
   {
    "duration": 5,
    "start_time": "2022-02-07T13:33:31.297Z"
   },
   {
    "duration": 249,
    "start_time": "2022-02-07T13:33:31.305Z"
   },
   {
    "duration": 23,
    "start_time": "2022-02-07T13:33:31.556Z"
   },
   {
    "duration": 3117,
    "start_time": "2022-02-07T13:33:31.581Z"
   },
   {
    "duration": 6,
    "start_time": "2022-02-07T13:33:34.701Z"
   },
   {
    "duration": 9,
    "start_time": "2022-02-07T13:33:34.711Z"
   },
   {
    "duration": 13,
    "start_time": "2022-02-07T13:33:34.722Z"
   },
   {
    "duration": 33,
    "start_time": "2022-02-07T13:33:34.738Z"
   },
   {
    "duration": 597,
    "start_time": "2022-02-07T13:33:34.774Z"
   },
   {
    "duration": -39,
    "start_time": "2022-02-07T13:33:35.413Z"
   },
   {
    "duration": -40,
    "start_time": "2022-02-07T13:33:35.415Z"
   },
   {
    "duration": -44,
    "start_time": "2022-02-07T13:33:35.421Z"
   },
   {
    "duration": -50,
    "start_time": "2022-02-07T13:33:35.428Z"
   },
   {
    "duration": -51,
    "start_time": "2022-02-07T13:33:35.430Z"
   },
   {
    "duration": -50,
    "start_time": "2022-02-07T13:33:35.431Z"
   },
   {
    "duration": -51,
    "start_time": "2022-02-07T13:33:35.433Z"
   },
   {
    "duration": -51,
    "start_time": "2022-02-07T13:33:35.434Z"
   },
   {
    "duration": -51,
    "start_time": "2022-02-07T13:33:35.435Z"
   },
   {
    "duration": -56,
    "start_time": "2022-02-07T13:33:35.442Z"
   },
   {
    "duration": -57,
    "start_time": "2022-02-07T13:33:35.444Z"
   },
   {
    "duration": -57,
    "start_time": "2022-02-07T13:33:35.445Z"
   },
   {
    "duration": -57,
    "start_time": "2022-02-07T13:33:35.447Z"
   },
   {
    "duration": -56,
    "start_time": "2022-02-07T13:33:35.448Z"
   },
   {
    "duration": -56,
    "start_time": "2022-02-07T13:33:35.449Z"
   },
   {
    "duration": -56,
    "start_time": "2022-02-07T13:33:35.451Z"
   },
   {
    "duration": 263,
    "start_time": "2022-02-07T13:34:46.447Z"
   },
   {
    "duration": 6,
    "start_time": "2022-02-07T13:35:01.439Z"
   },
   {
    "duration": 5,
    "start_time": "2022-02-07T13:35:13.273Z"
   },
   {
    "duration": 8,
    "start_time": "2022-02-07T13:35:40.385Z"
   },
   {
    "duration": 6,
    "start_time": "2022-02-07T13:36:05.106Z"
   },
   {
    "duration": 100,
    "start_time": "2022-02-07T13:37:20.628Z"
   },
   {
    "duration": 170,
    "start_time": "2022-02-07T13:38:04.386Z"
   }
  ],
  "kernelspec": {
   "display_name": "Python 3 (ipykernel)",
   "language": "python",
   "name": "python3"
  },
  "language_info": {
   "codemirror_mode": {
    "name": "ipython",
    "version": 3
   },
   "file_extension": ".py",
   "mimetype": "text/x-python",
   "name": "python",
   "nbconvert_exporter": "python",
   "pygments_lexer": "ipython3",
   "version": "3.9.5"
  },
  "notebookId": "b776ea31-ac36-4e0e-a924-be14e7fb5101",
  "notebookPath": "ds-intro-ml.ipynb",
  "toc": {
   "base_numbering": 1,
   "nav_menu": {},
   "number_sections": true,
   "sideBar": true,
   "skip_h1_title": true,
   "title_cell": "Table of Contents",
   "title_sidebar": "Contents",
   "toc_cell": false,
   "toc_position": {},
   "toc_section_display": true,
   "toc_window_display": false
  }
 },
 "nbformat": 4,
 "nbformat_minor": 4
}
