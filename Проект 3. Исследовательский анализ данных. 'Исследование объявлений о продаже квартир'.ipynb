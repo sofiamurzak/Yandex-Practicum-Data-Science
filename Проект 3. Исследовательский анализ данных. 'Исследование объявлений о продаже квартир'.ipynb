{
 "cells": [
  {
   "cell_type": "markdown",
   "metadata": {},
   "source": [
    "<div style=\"border:solid green 2px; padding: 20px\">\n",
    "<b>Софья, привет!</b>\n",
    "\n",
    "Меня зовут Евгений Дащенко, и я буду проверять твой проект. Предлагаю общаться на «ты» 😊 Но если это не удобно - дай знать, и мы перейдем на \"вы\". \n",
    "\n",
    "Моя основная цель — не указать на совершенные тобою ошибки, а поделиться своим опытом и помочь тебе стать аналитиком данных. Ты уже проделал большую работу над проектом, но давай сделаем его еще лучше. Ниже ты найдешь мои комментарии - пожалуйста, не перемещай, не изменяй и не удаляй их. Я буду использовать цветовую разметку:\n",
    "\n",
    "<div class=\"alert alert-danger\">\n",
    "<b>Критическая ошибка:</b> Так выделены самые важные замечания. Без их отработки проект не будет принят. </div>\n",
    "\n",
    "<div class=\"alert alert-warning\">\n",
    "<b>Хорошо, но можно и лучше:</b> Так выделены небольшие замечания. Одна-два таких замечания в проекте допустимы, но если их будет больше - тебе будет необходимо внести исправления. Это как тестовое задание при приеме на работу: очень много мелких ошибок могут стать причиной отказа кандидату. \n",
    "\n",
    "</div>\n",
    "\n",
    "<div class=\"alert alert-success\">\n",
    "<b>Все отлично:</b> Так я выделяю все остальные комментарии.</div>\n",
    "\n",
    "Давай работать над проектом в диалоге: если ты что-то меняешь в проекте или отвечаешь на мои комменатри — пиши об этом. Мне будет легче отследить изменения, если ты выделишь свои комментарии:\n",
    "<div class=\"alert alert-info\"> <b>Комментарий студента:</b> Например, вот так.</div>\n",
    "\n",
    "Всё это поможет выполнить повторную проверку твоего проекта оперативнее. "
   ]
  },
  {
   "cell_type": "markdown",
   "metadata": {},
   "source": [
    "<div class=\"alert alert-info\"> <b>Комментарий студента:</b> Привет, Евгений. Я немного доработала проект по твоим комментариям. Спасибо за ревью!</div>"
   ]
  },
  {
   "cell_type": "markdown",
   "metadata": {
    "toc": true
   },
   "source": [
    "<h1>Содержание<span class=\"tocSkip\"></span></h1>\n",
    "<div class=\"toc\"><ul class=\"toc-item\"><li><span><a href=\"#Цель-исследования:\" data-toc-modified-id=\"Цель-исследования:-1\"><span class=\"toc-item-num\">1&nbsp;&nbsp;</span>Цель исследования:</a></span></li><li><span><a href=\"#Ход-исследования:\" data-toc-modified-id=\"Ход-исследования:-2\"><span class=\"toc-item-num\">2&nbsp;&nbsp;</span>Ход исследования:</a></span></li><li><span><a href=\"#Изучение-данных-из-файла\" data-toc-modified-id=\"Изучение-данных-из-файла-3\"><span class=\"toc-item-num\">3&nbsp;&nbsp;</span>Изучение данных из файла</a></span></li><li><span><a href=\"#Вывод\" data-toc-modified-id=\"Вывод-4\"><span class=\"toc-item-num\">4&nbsp;&nbsp;</span>Вывод</a></span></li><li><span><a href=\"#Предобработка-данных\" data-toc-modified-id=\"Предобработка-данных-5\"><span class=\"toc-item-num\">5&nbsp;&nbsp;</span>Предобработка данных</a></span><ul class=\"toc-item\"><li><span><a href=\"#Избавление-от-пропусков\" data-toc-modified-id=\"Избавление-от-пропусков-5.1\"><span class=\"toc-item-num\">5.1&nbsp;&nbsp;</span>Избавление от пропусков</a></span></li><li><span><a href=\"#Вывод\" data-toc-modified-id=\"Вывод-5.2\"><span class=\"toc-item-num\">5.2&nbsp;&nbsp;</span>Вывод</a></span></li><li><span><a href=\"#Изменение-типов-данных\" data-toc-modified-id=\"Изменение-типов-данных-5.3\"><span class=\"toc-item-num\">5.3&nbsp;&nbsp;</span>Изменение типов данных</a></span></li></ul></li><li><span><a href=\"#Расчёты-и-добавление-результатов-в-таблицу\" data-toc-modified-id=\"Расчёты-и-добавление-результатов-в-таблицу-6\"><span class=\"toc-item-num\">6&nbsp;&nbsp;</span>Расчёты и добавление результатов в таблицу</a></span></li><li><span><a href=\"#Исследовательский-анализ-данных\" data-toc-modified-id=\"Исследовательский-анализ-данных-7\"><span class=\"toc-item-num\">7&nbsp;&nbsp;</span>Исследовательский анализ данных</a></span><ul class=\"toc-item\"><li><span><a href=\"#Время-продажи-квартиры\" data-toc-modified-id=\"Время-продажи-квартиры-7.1\"><span class=\"toc-item-num\">7.1&nbsp;&nbsp;</span>Время продажи квартиры</a></span></li><li><span><a href=\"#Отброс-аномальных-значений\" data-toc-modified-id=\"Отброс-аномальных-значений-7.2\"><span class=\"toc-item-num\">7.2&nbsp;&nbsp;</span>Отброс аномальных значений</a></span></li><li><span><a href=\"#Влияние-на-стоимость-квартиры\" data-toc-modified-id=\"Влияние-на-стоимость-квартиры-7.3\"><span class=\"toc-item-num\">7.3&nbsp;&nbsp;</span>Влияние на стоимость квартиры</a></span></li><li><span><a href=\"#Вывод-Phik\" data-toc-modified-id=\"Вывод-Phik-7.4\"><span class=\"toc-item-num\">7.4&nbsp;&nbsp;</span>Вывод Phik</a></span></li><li><span><a href=\"#Вывод\" data-toc-modified-id=\"Вывод-7.5\"><span class=\"toc-item-num\">7.5&nbsp;&nbsp;</span>Вывод</a></span></li><li><span><a href=\"#Топ-10-населенных-пунктов-с-наибольшим-количеством-объявлений\" data-toc-modified-id=\"Топ-10-населенных-пунктов-с-наибольшим-количеством-объявлений-7.6\"><span class=\"toc-item-num\">7.6&nbsp;&nbsp;</span>Топ 10 населенных пунктов с наибольшим количеством объявлений</a></span></li><li><span><a href=\"#Вывод\" data-toc-modified-id=\"Вывод-7.7\"><span class=\"toc-item-num\">7.7&nbsp;&nbsp;</span>Вывод</a></span></li><li><span><a href=\"#Центральная-область-Санкт-Петербурга\" data-toc-modified-id=\"Центральная-область-Санкт-Петербурга-7.8\"><span class=\"toc-item-num\">7.8&nbsp;&nbsp;</span>Центральная область Санкт-Петербурга</a></span></li><li><span><a href=\"#Вывод\" data-toc-modified-id=\"Вывод-7.9\"><span class=\"toc-item-num\">7.9&nbsp;&nbsp;</span>Вывод</a></span></li><li><span><a href=\"#Сегмент-квартир-в-центре-Санкт-Петербурга\" data-toc-modified-id=\"Сегмент-квартир-в-центре-Санкт-Петербурга-7.10\"><span class=\"toc-item-num\">7.10&nbsp;&nbsp;</span>Сегмент квартир в центре Санкт-Петербурга</a></span></li><li><span><a href=\"#Вывод\" data-toc-modified-id=\"Вывод-7.11\"><span class=\"toc-item-num\">7.11&nbsp;&nbsp;</span>Вывод</a></span></li></ul></li><li><span><a href=\"#Общий-вывод\" data-toc-modified-id=\"Общий-вывод-8\"><span class=\"toc-item-num\">8&nbsp;&nbsp;</span>Общий вывод</a></span></li><li><span><a href=\"#Чек-лист-готовности-проекта\" data-toc-modified-id=\"Чек-лист-готовности-проекта-9\"><span class=\"toc-item-num\">9&nbsp;&nbsp;</span>Чек-лист готовности проекта</a></span></li></ul></div>"
   ]
  },
  {
   "cell_type": "code",
   "execution_count": 1,
   "metadata": {
    "cellId": "quseh8t666atvdgonytog"
   },
   "outputs": [
    {
     "name": "stdout",
     "output_type": "stream",
     "text": [
      "Note: you may need to restart the kernel to use updated packages.\n"
     ]
    },
    {
     "name": "stderr",
     "output_type": "stream",
     "text": [
      "ERROR: Could not open requirements file: [Errno 2] No such file or directory: 'requirements.txt'\n"
     ]
    }
   ],
   "source": [
    "%pip install -q -r requirements.txt"
   ]
  },
  {
   "cell_type": "markdown",
   "metadata": {
    "cellId": "dzqgryagpurjrgr01xeg"
   },
   "source": [
    "# Исследование объявлений о продаже квартир\n",
    "\n",
    "В вашем распоряжении данные сервиса Яндекс.Недвижимость — архив объявлений о продаже квартир в Санкт-Петербурге и соседних населённых пунктах за несколько лет. Нужно научиться определять рыночную стоимость объектов недвижимости. Ваша задача — установить параметры. Это позволит построить автоматизированную систему: она отследит аномалии и мошенническую деятельность. \n",
    "\n",
    "По каждой квартире на продажу доступны два вида данных. Первые вписаны пользователем, вторые получены автоматически на основе картографических данных. Например, расстояние до центра, аэропорта, ближайшего парка и водоёма. \n",
    "\n",
    "## Цель исследования:\n",
    "1. Изучить время продажи квартиры\n",
    "2. Изучить, какие факторы больше всего влияют на стоимость квартиры\n",
    "3. Выделить сегмент квартир в центре\n",
    "\n",
    "## Ход исследования:\n",
    "1. Изучение данных\n",
    "2. Предобработка данных\n",
    "3. Расчеты по данным\n",
    "4. Исследовательский анализ данных\n",
    "5. Формирование вывода"
   ]
  },
  {
   "cell_type": "markdown",
   "metadata": {
    "cellId": "fd0jinnig8jwmw3mlohik"
   },
   "source": [
    "## Изучение данных из файла"
   ]
  },
  {
   "cell_type": "code",
   "execution_count": 2,
   "metadata": {
    "cellId": "j3vy6m5u0th7b5z0la1ls"
   },
   "outputs": [
    {
     "name": "stdout",
     "output_type": "stream",
     "text": [
      "<class 'pandas.core.frame.DataFrame'>\n",
      "RangeIndex: 23699 entries, 0 to 23698\n",
      "Data columns (total 22 columns):\n",
      " #   Column                Non-Null Count  Dtype  \n",
      "---  ------                --------------  -----  \n",
      " 0   total_images          23699 non-null  int64  \n",
      " 1   last_price            23699 non-null  float64\n",
      " 2   total_area            23699 non-null  float64\n",
      " 3   first_day_exposition  23699 non-null  object \n",
      " 4   rooms                 23699 non-null  int64  \n",
      " 5   ceiling_height        14504 non-null  float64\n",
      " 6   floors_total          23613 non-null  float64\n",
      " 7   living_area           21796 non-null  float64\n",
      " 8   floor                 23699 non-null  int64  \n",
      " 9   is_apartment          2775 non-null   object \n",
      " 10  studio                23699 non-null  bool   \n",
      " 11  open_plan             23699 non-null  bool   \n",
      " 12  kitchen_area          21421 non-null  float64\n",
      " 13  balcony               12180 non-null  float64\n",
      " 14  locality_name         23650 non-null  object \n",
      " 15  airports_nearest      18157 non-null  float64\n",
      " 16  cityCenters_nearest   18180 non-null  float64\n",
      " 17  parks_around3000      18181 non-null  float64\n",
      " 18  parks_nearest         8079 non-null   float64\n",
      " 19  ponds_around3000      18181 non-null  float64\n",
      " 20  ponds_nearest         9110 non-null   float64\n",
      " 21  days_exposition       20518 non-null  float64\n",
      "dtypes: bool(2), float64(14), int64(3), object(3)\n",
      "memory usage: 3.7+ MB\n"
     ]
    },
    {
     "data": {
      "text/html": [
       "<div>\n",
       "<style scoped>\n",
       "    .dataframe tbody tr th:only-of-type {\n",
       "        vertical-align: middle;\n",
       "    }\n",
       "\n",
       "    .dataframe tbody tr th {\n",
       "        vertical-align: top;\n",
       "    }\n",
       "\n",
       "    .dataframe thead th {\n",
       "        text-align: right;\n",
       "    }\n",
       "</style>\n",
       "<table border=\"1\" class=\"dataframe\">\n",
       "  <thead>\n",
       "    <tr style=\"text-align: right;\">\n",
       "      <th></th>\n",
       "      <th>total_images</th>\n",
       "      <th>last_price</th>\n",
       "      <th>total_area</th>\n",
       "      <th>first_day_exposition</th>\n",
       "      <th>rooms</th>\n",
       "      <th>ceiling_height</th>\n",
       "      <th>floors_total</th>\n",
       "      <th>living_area</th>\n",
       "      <th>floor</th>\n",
       "      <th>is_apartment</th>\n",
       "      <th>...</th>\n",
       "      <th>kitchen_area</th>\n",
       "      <th>balcony</th>\n",
       "      <th>locality_name</th>\n",
       "      <th>airports_nearest</th>\n",
       "      <th>cityCenters_nearest</th>\n",
       "      <th>parks_around3000</th>\n",
       "      <th>parks_nearest</th>\n",
       "      <th>ponds_around3000</th>\n",
       "      <th>ponds_nearest</th>\n",
       "      <th>days_exposition</th>\n",
       "    </tr>\n",
       "  </thead>\n",
       "  <tbody>\n",
       "    <tr>\n",
       "      <th>0</th>\n",
       "      <td>20</td>\n",
       "      <td>13000000.0</td>\n",
       "      <td>108.0</td>\n",
       "      <td>2019-03-07T00:00:00</td>\n",
       "      <td>3</td>\n",
       "      <td>2.70</td>\n",
       "      <td>16.0</td>\n",
       "      <td>51.0</td>\n",
       "      <td>8</td>\n",
       "      <td>NaN</td>\n",
       "      <td>...</td>\n",
       "      <td>25.0</td>\n",
       "      <td>NaN</td>\n",
       "      <td>Санкт-Петербург</td>\n",
       "      <td>18863.0</td>\n",
       "      <td>16028.0</td>\n",
       "      <td>1.0</td>\n",
       "      <td>482.0</td>\n",
       "      <td>2.0</td>\n",
       "      <td>755.0</td>\n",
       "      <td>NaN</td>\n",
       "    </tr>\n",
       "    <tr>\n",
       "      <th>1</th>\n",
       "      <td>7</td>\n",
       "      <td>3350000.0</td>\n",
       "      <td>40.4</td>\n",
       "      <td>2018-12-04T00:00:00</td>\n",
       "      <td>1</td>\n",
       "      <td>NaN</td>\n",
       "      <td>11.0</td>\n",
       "      <td>18.6</td>\n",
       "      <td>1</td>\n",
       "      <td>NaN</td>\n",
       "      <td>...</td>\n",
       "      <td>11.0</td>\n",
       "      <td>2.0</td>\n",
       "      <td>посёлок Шушары</td>\n",
       "      <td>12817.0</td>\n",
       "      <td>18603.0</td>\n",
       "      <td>0.0</td>\n",
       "      <td>NaN</td>\n",
       "      <td>0.0</td>\n",
       "      <td>NaN</td>\n",
       "      <td>81.0</td>\n",
       "    </tr>\n",
       "    <tr>\n",
       "      <th>2</th>\n",
       "      <td>10</td>\n",
       "      <td>5196000.0</td>\n",
       "      <td>56.0</td>\n",
       "      <td>2015-08-20T00:00:00</td>\n",
       "      <td>2</td>\n",
       "      <td>NaN</td>\n",
       "      <td>5.0</td>\n",
       "      <td>34.3</td>\n",
       "      <td>4</td>\n",
       "      <td>NaN</td>\n",
       "      <td>...</td>\n",
       "      <td>8.3</td>\n",
       "      <td>0.0</td>\n",
       "      <td>Санкт-Петербург</td>\n",
       "      <td>21741.0</td>\n",
       "      <td>13933.0</td>\n",
       "      <td>1.0</td>\n",
       "      <td>90.0</td>\n",
       "      <td>2.0</td>\n",
       "      <td>574.0</td>\n",
       "      <td>558.0</td>\n",
       "    </tr>\n",
       "    <tr>\n",
       "      <th>3</th>\n",
       "      <td>0</td>\n",
       "      <td>64900000.0</td>\n",
       "      <td>159.0</td>\n",
       "      <td>2015-07-24T00:00:00</td>\n",
       "      <td>3</td>\n",
       "      <td>NaN</td>\n",
       "      <td>14.0</td>\n",
       "      <td>NaN</td>\n",
       "      <td>9</td>\n",
       "      <td>NaN</td>\n",
       "      <td>...</td>\n",
       "      <td>NaN</td>\n",
       "      <td>0.0</td>\n",
       "      <td>Санкт-Петербург</td>\n",
       "      <td>28098.0</td>\n",
       "      <td>6800.0</td>\n",
       "      <td>2.0</td>\n",
       "      <td>84.0</td>\n",
       "      <td>3.0</td>\n",
       "      <td>234.0</td>\n",
       "      <td>424.0</td>\n",
       "    </tr>\n",
       "    <tr>\n",
       "      <th>4</th>\n",
       "      <td>2</td>\n",
       "      <td>10000000.0</td>\n",
       "      <td>100.0</td>\n",
       "      <td>2018-06-19T00:00:00</td>\n",
       "      <td>2</td>\n",
       "      <td>3.03</td>\n",
       "      <td>14.0</td>\n",
       "      <td>32.0</td>\n",
       "      <td>13</td>\n",
       "      <td>NaN</td>\n",
       "      <td>...</td>\n",
       "      <td>41.0</td>\n",
       "      <td>NaN</td>\n",
       "      <td>Санкт-Петербург</td>\n",
       "      <td>31856.0</td>\n",
       "      <td>8098.0</td>\n",
       "      <td>2.0</td>\n",
       "      <td>112.0</td>\n",
       "      <td>1.0</td>\n",
       "      <td>48.0</td>\n",
       "      <td>121.0</td>\n",
       "    </tr>\n",
       "  </tbody>\n",
       "</table>\n",
       "<p>5 rows × 22 columns</p>\n",
       "</div>"
      ],
      "text/plain": [
       "   total_images  last_price  total_area first_day_exposition  rooms  \\\n",
       "0            20  13000000.0       108.0  2019-03-07T00:00:00      3   \n",
       "1             7   3350000.0        40.4  2018-12-04T00:00:00      1   \n",
       "2            10   5196000.0        56.0  2015-08-20T00:00:00      2   \n",
       "3             0  64900000.0       159.0  2015-07-24T00:00:00      3   \n",
       "4             2  10000000.0       100.0  2018-06-19T00:00:00      2   \n",
       "\n",
       "   ceiling_height  floors_total  living_area  floor is_apartment  ...  \\\n",
       "0            2.70          16.0         51.0      8          NaN  ...   \n",
       "1             NaN          11.0         18.6      1          NaN  ...   \n",
       "2             NaN           5.0         34.3      4          NaN  ...   \n",
       "3             NaN          14.0          NaN      9          NaN  ...   \n",
       "4            3.03          14.0         32.0     13          NaN  ...   \n",
       "\n",
       "   kitchen_area  balcony    locality_name  airports_nearest  \\\n",
       "0          25.0      NaN  Санкт-Петербург           18863.0   \n",
       "1          11.0      2.0   посёлок Шушары           12817.0   \n",
       "2           8.3      0.0  Санкт-Петербург           21741.0   \n",
       "3           NaN      0.0  Санкт-Петербург           28098.0   \n",
       "4          41.0      NaN  Санкт-Петербург           31856.0   \n",
       "\n",
       "  cityCenters_nearest  parks_around3000  parks_nearest  ponds_around3000  \\\n",
       "0             16028.0               1.0          482.0               2.0   \n",
       "1             18603.0               0.0            NaN               0.0   \n",
       "2             13933.0               1.0           90.0               2.0   \n",
       "3              6800.0               2.0           84.0               3.0   \n",
       "4              8098.0               2.0          112.0               1.0   \n",
       "\n",
       "   ponds_nearest  days_exposition  \n",
       "0          755.0              NaN  \n",
       "1            NaN             81.0  \n",
       "2          574.0            558.0  \n",
       "3          234.0            424.0  \n",
       "4           48.0            121.0  \n",
       "\n",
       "[5 rows x 22 columns]"
      ]
     },
     "execution_count": 2,
     "metadata": {},
     "output_type": "execute_result"
    }
   ],
   "source": [
    "import pandas as pd\n",
    "data = pd.read_csv('\\datasets\\real_estate_data.csv', sep = '\\t', decimal = '.')\n",
    "data.info()\n",
    "data.head()"
   ]
  },
  {
   "cell_type": "markdown",
   "metadata": {
    "cellId": "7tanea32spc08nirbaj2eop"
   },
   "source": [
    "В таблице 22 столбца с данными, вот, что обозначают значения в каждом столбце:\n",
    "- airports_nearest — расстояние до ближайшего аэропорта в метрах (м)\n",
    "- balcony — число балконов\n",
    "- ceiling_height — высота потолков (м)\n",
    "- cityCenters_nearest — расстояние до центра города (м)\n",
    "- days_exposition — сколько дней было размещено объявление (от публикации до снятия)\n",
    "- first_day_exposition — дата публикации\n",
    "- floor — этаж\n",
    "- floors_total — всего этажей в доме\n",
    "- is_apartment — апартаменты (булев тип)\n",
    "- kitchen_area — площадь кухни в квадратных метрах (м²)\n",
    "- last_price — цена на момент снятия с публикации\n",
    "- living_area — жилая площадь в квадратных метрах (м²)\n",
    "- locality_name — название населённого пункта\n",
    "- open_plan — свободная планировка (булев тип)\n",
    "- parks_around3000 — число парков в радиусе 3 км\n",
    "- parks_nearest — расстояние до ближайшего парка (м)\n",
    "- ponds_around3000 — число водоёмов в радиусе 3 км\n",
    "- ponds_nearest — расстояние до ближайшего водоёма (м)\n",
    "- rooms — число комнат\n",
    "- studio — квартира-студия (булев тип)\n",
    "- total_area — площадь квартиры в квадратных метрах (м²)\n",
    "- total_images — число фотографий квартиры в объявлении"
   ]
  },
  {
   "cell_type": "markdown",
   "metadata": {
    "cellId": "89ndal381gsjcifox8t8i"
   },
   "source": [
    "## Вывод\n",
    "В каждой строке датафрейма находятся данные о квартире в Санкт-Петербурге. Некоторые данные заполнены самим пользователем, некоторые внесены системой автоматически на основе картографических данных. В данных замечено множество пропущенных значений, неверный тип данных, а так же стилистические ошибки в наименовании столбцов. Вполне возможно, что в датафрейме присутствуют дубликаты. Все необходимые преобразования таблицы будут осуществлены в следующем шаге исследования."
   ]
  },
  {
   "cell_type": "markdown",
   "metadata": {},
   "source": [
    "<div class=\"alert alert-success\">\n",
    "<b>Комментарий ревьюера:</b>\n",
    "\n",
    "Первичные данные посмотрели, давай теперь их обработаем, ведь у нас есть план 😊. \n",
    "</div>"
   ]
  },
  {
   "cell_type": "markdown",
   "metadata": {
    "cellId": "7hwwiolzhpv27egf0g9m66"
   },
   "source": [
    "## Предобработка данных"
   ]
  },
  {
   "cell_type": "markdown",
   "metadata": {
    "cellId": "ho8rog5el3whqcqxbyxoa"
   },
   "source": [
    "### Избавление от пропусков"
   ]
  },
  {
   "cell_type": "markdown",
   "metadata": {
    "cellId": "6rm0dl8knzrjh7sa9p4d6"
   },
   "source": [
    "Одна из колонок в датафрейме написана стилистически некорректно, поэтому я изменю ее написание на \"змеиный регистр\". После этого методом isna() я уточню наличие пропусков в каждом из столбцов данных."
   ]
  },
  {
   "cell_type": "code",
   "execution_count": 3,
   "metadata": {
    "cellId": "9qq444x84iatc3szb0fd3"
   },
   "outputs": [
    {
     "data": {
      "text/plain": [
       "total_images                0\n",
       "last_price                  0\n",
       "total_area                  0\n",
       "first_day_exposition        0\n",
       "rooms                       0\n",
       "ceiling_height           9195\n",
       "floors_total               86\n",
       "living_area              1903\n",
       "floor                       0\n",
       "is_apartment            20924\n",
       "studio                      0\n",
       "open_plan                   0\n",
       "kitchen_area             2278\n",
       "balcony                 11519\n",
       "locality_name              49\n",
       "airports_nearest         5542\n",
       "city_centers_nearest     5519\n",
       "parks_around3000         5518\n",
       "parks_nearest           15620\n",
       "ponds_around3000         5518\n",
       "ponds_nearest           14589\n",
       "days_exposition          3181\n",
       "dtype: int64"
      ]
     },
     "execution_count": 3,
     "metadata": {},
     "output_type": "execute_result"
    }
   ],
   "source": [
    "data = data.rename(columns = {'cityCenters_nearest': 'city_centers_nearest'})\n",
    "\n",
    "data.isna().sum()"
   ]
  },
  {
   "cell_type": "markdown",
   "metadata": {
    "cellId": "y3491018e3s20tr0meea23"
   },
   "source": [
    "В 14 колонках имеются пропуски в значениях, необходимо разобраться каким способом заполнять пропуски в столбцах. Начну с заполнения пропусков в столбце локации квартиры. Сперва я хочу посмотреть, какой разброс квартир по городам."
   ]
  },
  {
   "cell_type": "markdown",
   "metadata": {},
   "source": [
    "<div class=\"alert alert-success\">\n",
    "<b>Комментарий ревьюера:</b>\n",
    "\n",
    "Отличный способ заменить названия в столбцах 👍\n",
    "    \n",
    "    \n",
    "</div>"
   ]
  },
  {
   "cell_type": "code",
   "execution_count": 4,
   "metadata": {
    "cellId": "91jqehcrc3fh8lbnk75w9"
   },
   "outputs": [
    {
     "data": {
      "text/plain": [
       "Санкт-Петербург            15721\n",
       "посёлок Мурино               522\n",
       "посёлок Шушары               440\n",
       "Всеволожск                   398\n",
       "Пушкин                       369\n",
       "Колпино                      338\n",
       "посёлок Парголово            327\n",
       "Гатчина                      307\n",
       "деревня Кудрово              299\n",
       "Выборг                       237\n",
       "Петергоф                     201\n",
       "Сестрорецк                   183\n",
       "Красное Село                 178\n",
       "Кудрово                      173\n",
       "деревня Новое Девяткино      144\n",
       "Сертолово                    142\n",
       "Ломоносов                    133\n",
       "Кириши                       125\n",
       "Сланцы                       112\n",
       "Волхов                       111\n",
       "Name: locality_name, dtype: int64"
      ]
     },
     "execution_count": 4,
     "metadata": {},
     "output_type": "execute_result"
    }
   ],
   "source": [
    "data['locality_name'].value_counts().head(20)"
   ]
  },
  {
   "cell_type": "markdown",
   "metadata": {
    "cellId": "d0m016xk6esnz5uylss8q"
   },
   "source": [
    "Пропуски в столбце 'locality_name' составляют всего 49 штук из всего датафрейма. Более половину объявлений относится к городу Санкт-Петербург. Однако, не все пропущенные значения можно заменить на город Санкт-Петербург, необходимо убедиться насколько подходит по расположению квартира для города Санкт-Петербург. Для этого я составлю сводную таблицу с максимальными расстояниями до центра города и до аэропорта."
   ]
  },
  {
   "cell_type": "code",
   "execution_count": 5,
   "metadata": {
    "cellId": "3p889oj0umvr2nf9wl3ypf",
    "scrolled": true
   },
   "outputs": [
    {
     "data": {
      "text/html": [
       "<div>\n",
       "<style scoped>\n",
       "    .dataframe tbody tr th:only-of-type {\n",
       "        vertical-align: middle;\n",
       "    }\n",
       "\n",
       "    .dataframe tbody tr th {\n",
       "        vertical-align: top;\n",
       "    }\n",
       "\n",
       "    .dataframe thead th {\n",
       "        text-align: right;\n",
       "    }\n",
       "</style>\n",
       "<table border=\"1\" class=\"dataframe\">\n",
       "  <thead>\n",
       "    <tr style=\"text-align: right;\">\n",
       "      <th></th>\n",
       "      <th>airports_nearest</th>\n",
       "      <th>city_centers_nearest</th>\n",
       "    </tr>\n",
       "    <tr>\n",
       "      <th>locality_name</th>\n",
       "      <th></th>\n",
       "      <th></th>\n",
       "    </tr>\n",
       "  </thead>\n",
       "  <tbody>\n",
       "    <tr>\n",
       "      <th>поселок Мурино</th>\n",
       "      <td>51553.0</td>\n",
       "      <td>21888.0</td>\n",
       "    </tr>\n",
       "    <tr>\n",
       "      <th>посёлок Стрельна</th>\n",
       "      <td>28945.0</td>\n",
       "      <td>24134.0</td>\n",
       "    </tr>\n",
       "    <tr>\n",
       "      <th>посёлок Парголово</th>\n",
       "      <td>61748.0</td>\n",
       "      <td>24415.0</td>\n",
       "    </tr>\n",
       "    <tr>\n",
       "      <th>посёлок Левашово</th>\n",
       "      <td>52693.0</td>\n",
       "      <td>25727.0</td>\n",
       "    </tr>\n",
       "    <tr>\n",
       "      <th>посёлок Петро-Славянка</th>\n",
       "      <td>20605.0</td>\n",
       "      <td>27165.0</td>\n",
       "    </tr>\n",
       "    <tr>\n",
       "      <th>посёлок Александровская</th>\n",
       "      <td>13012.0</td>\n",
       "      <td>27584.0</td>\n",
       "    </tr>\n",
       "    <tr>\n",
       "      <th>посёлок Песочный</th>\n",
       "      <td>56095.0</td>\n",
       "      <td>27835.0</td>\n",
       "    </tr>\n",
       "    <tr>\n",
       "      <th>посёлок Лисий Нос</th>\n",
       "      <td>55909.0</td>\n",
       "      <td>28226.0</td>\n",
       "    </tr>\n",
       "    <tr>\n",
       "      <th>посёлок Усть-Ижора</th>\n",
       "      <td>26521.0</td>\n",
       "      <td>28233.0</td>\n",
       "    </tr>\n",
       "    <tr>\n",
       "      <th>поселок Лисий Нос</th>\n",
       "      <td>55930.0</td>\n",
       "      <td>28246.0</td>\n",
       "    </tr>\n",
       "    <tr>\n",
       "      <th>посёлок Металлострой</th>\n",
       "      <td>26729.0</td>\n",
       "      <td>29217.0</td>\n",
       "    </tr>\n",
       "    <tr>\n",
       "      <th>Санкт-Петербург</th>\n",
       "      <td>54784.0</td>\n",
       "      <td>29493.0</td>\n",
       "    </tr>\n",
       "    <tr>\n",
       "      <th>посёлок Шушары</th>\n",
       "      <td>26293.0</td>\n",
       "      <td>32079.0</td>\n",
       "    </tr>\n",
       "    <tr>\n",
       "      <th>посёлок Понтонный</th>\n",
       "      <td>32141.0</td>\n",
       "      <td>33853.0</td>\n",
       "    </tr>\n",
       "    <tr>\n",
       "      <th>посёлок Щеглово</th>\n",
       "      <td>61908.0</td>\n",
       "      <td>34085.0</td>\n",
       "    </tr>\n",
       "    <tr>\n",
       "      <th>Пушкин</th>\n",
       "      <td>21055.0</td>\n",
       "      <td>35610.0</td>\n",
       "    </tr>\n",
       "    <tr>\n",
       "      <th>посёлок Сапёрный</th>\n",
       "      <td>34180.0</td>\n",
       "      <td>35892.0</td>\n",
       "    </tr>\n",
       "    <tr>\n",
       "      <th>Павловск</th>\n",
       "      <td>24291.0</td>\n",
       "      <td>36445.0</td>\n",
       "    </tr>\n",
       "    <tr>\n",
       "      <th>Колпино</th>\n",
       "      <td>31691.0</td>\n",
       "      <td>37477.0</td>\n",
       "    </tr>\n",
       "    <tr>\n",
       "      <th>посёлок Белоостров</th>\n",
       "      <td>57769.0</td>\n",
       "      <td>38868.0</td>\n",
       "    </tr>\n",
       "    <tr>\n",
       "      <th>Красное Село</th>\n",
       "      <td>38367.0</td>\n",
       "      <td>41792.0</td>\n",
       "    </tr>\n",
       "    <tr>\n",
       "      <th>Сестрорецк</th>\n",
       "      <td>61872.0</td>\n",
       "      <td>42971.0</td>\n",
       "    </tr>\n",
       "    <tr>\n",
       "      <th>посёлок Репино</th>\n",
       "      <td>64127.0</td>\n",
       "      <td>45226.0</td>\n",
       "    </tr>\n",
       "    <tr>\n",
       "      <th>Петергоф</th>\n",
       "      <td>46535.0</td>\n",
       "      <td>49574.0</td>\n",
       "    </tr>\n",
       "    <tr>\n",
       "      <th>Кронштадт</th>\n",
       "      <td>69785.0</td>\n",
       "      <td>51511.0</td>\n",
       "    </tr>\n",
       "    <tr>\n",
       "      <th>Ломоносов</th>\n",
       "      <td>56896.0</td>\n",
       "      <td>61495.0</td>\n",
       "    </tr>\n",
       "    <tr>\n",
       "      <th>Зеленогорск</th>\n",
       "      <td>81607.0</td>\n",
       "      <td>62706.0</td>\n",
       "    </tr>\n",
       "    <tr>\n",
       "      <th>посёлок Молодёжное</th>\n",
       "      <td>84869.0</td>\n",
       "      <td>65968.0</td>\n",
       "    </tr>\n",
       "  </tbody>\n",
       "</table>\n",
       "</div>"
      ],
      "text/plain": [
       "                         airports_nearest  city_centers_nearest\n",
       "locality_name                                                  \n",
       "поселок Мурино                    51553.0               21888.0\n",
       "посёлок Стрельна                  28945.0               24134.0\n",
       "посёлок Парголово                 61748.0               24415.0\n",
       "посёлок Левашово                  52693.0               25727.0\n",
       "посёлок Петро-Славянка            20605.0               27165.0\n",
       "посёлок Александровская           13012.0               27584.0\n",
       "посёлок Песочный                  56095.0               27835.0\n",
       "посёлок Лисий Нос                 55909.0               28226.0\n",
       "посёлок Усть-Ижора                26521.0               28233.0\n",
       "поселок Лисий Нос                 55930.0               28246.0\n",
       "посёлок Металлострой              26729.0               29217.0\n",
       "Санкт-Петербург                   54784.0               29493.0\n",
       "посёлок Шушары                    26293.0               32079.0\n",
       "посёлок Понтонный                 32141.0               33853.0\n",
       "посёлок Щеглово                   61908.0               34085.0\n",
       "Пушкин                            21055.0               35610.0\n",
       "посёлок Сапёрный                  34180.0               35892.0\n",
       "Павловск                          24291.0               36445.0\n",
       "Колпино                           31691.0               37477.0\n",
       "посёлок Белоостров                57769.0               38868.0\n",
       "Красное Село                      38367.0               41792.0\n",
       "Сестрорецк                        61872.0               42971.0\n",
       "посёлок Репино                    64127.0               45226.0\n",
       "Петергоф                          46535.0               49574.0\n",
       "Кронштадт                         69785.0               51511.0\n",
       "Ломоносов                         56896.0               61495.0\n",
       "Зеленогорск                       81607.0               62706.0\n",
       "посёлок Молодёжное                84869.0               65968.0"
      ]
     },
     "execution_count": 5,
     "metadata": {},
     "output_type": "execute_result"
    }
   ],
   "source": [
    "data.pivot_table(index = 'locality_name', values = ['city_centers_nearest','airports_nearest'], aggfunc = 'max').sort_values('city_centers_nearest')"
   ]
  },
  {
   "cell_type": "markdown",
   "metadata": {
    "cellId": "nlreew4eqyfifqbwd6pn6"
   },
   "source": [
    "Максимально расстояние до центра города в Санкт-Петербурге - 29493 метра. Отберу все пропущенные значения в датафрейме в столбце локации, где расстояние до центра превышает это число. Эти квартиры экспертным путем определю в другие города, а все те, кто попадет в эту выборку отнесу к Санкт-Петербургу."
   ]
  },
  {
   "cell_type": "code",
   "execution_count": 6,
   "metadata": {
    "cellId": "3e2dq08ieysd9g85cealtr"
   },
   "outputs": [
    {
     "data": {
      "text/html": [
       "<div>\n",
       "<style scoped>\n",
       "    .dataframe tbody tr th:only-of-type {\n",
       "        vertical-align: middle;\n",
       "    }\n",
       "\n",
       "    .dataframe tbody tr th {\n",
       "        vertical-align: top;\n",
       "    }\n",
       "\n",
       "    .dataframe thead th {\n",
       "        text-align: right;\n",
       "    }\n",
       "</style>\n",
       "<table border=\"1\" class=\"dataframe\">\n",
       "  <thead>\n",
       "    <tr style=\"text-align: right;\">\n",
       "      <th></th>\n",
       "      <th>total_images</th>\n",
       "      <th>last_price</th>\n",
       "      <th>total_area</th>\n",
       "      <th>first_day_exposition</th>\n",
       "      <th>rooms</th>\n",
       "      <th>ceiling_height</th>\n",
       "      <th>floors_total</th>\n",
       "      <th>living_area</th>\n",
       "      <th>floor</th>\n",
       "      <th>is_apartment</th>\n",
       "      <th>...</th>\n",
       "      <th>kitchen_area</th>\n",
       "      <th>balcony</th>\n",
       "      <th>locality_name</th>\n",
       "      <th>airports_nearest</th>\n",
       "      <th>city_centers_nearest</th>\n",
       "      <th>parks_around3000</th>\n",
       "      <th>parks_nearest</th>\n",
       "      <th>ponds_around3000</th>\n",
       "      <th>ponds_nearest</th>\n",
       "      <th>days_exposition</th>\n",
       "    </tr>\n",
       "  </thead>\n",
       "  <tbody>\n",
       "    <tr>\n",
       "      <th>8986</th>\n",
       "      <td>10</td>\n",
       "      <td>4850000.0</td>\n",
       "      <td>103.1</td>\n",
       "      <td>2018-07-10T00:00:00</td>\n",
       "      <td>3</td>\n",
       "      <td>NaN</td>\n",
       "      <td>NaN</td>\n",
       "      <td>68.1</td>\n",
       "      <td>4</td>\n",
       "      <td>NaN</td>\n",
       "      <td>...</td>\n",
       "      <td>16.7</td>\n",
       "      <td>NaN</td>\n",
       "      <td>NaN</td>\n",
       "      <td>19659.0</td>\n",
       "      <td>31813.0</td>\n",
       "      <td>0.0</td>\n",
       "      <td>NaN</td>\n",
       "      <td>0.0</td>\n",
       "      <td>NaN</td>\n",
       "      <td>28.0</td>\n",
       "    </tr>\n",
       "    <tr>\n",
       "      <th>21119</th>\n",
       "      <td>8</td>\n",
       "      <td>3500000.0</td>\n",
       "      <td>43.2</td>\n",
       "      <td>2018-11-11T00:00:00</td>\n",
       "      <td>2</td>\n",
       "      <td>NaN</td>\n",
       "      <td>4.0</td>\n",
       "      <td>NaN</td>\n",
       "      <td>2</td>\n",
       "      <td>NaN</td>\n",
       "      <td>...</td>\n",
       "      <td>NaN</td>\n",
       "      <td>NaN</td>\n",
       "      <td>NaN</td>\n",
       "      <td>19744.0</td>\n",
       "      <td>31897.0</td>\n",
       "      <td>0.0</td>\n",
       "      <td>NaN</td>\n",
       "      <td>0.0</td>\n",
       "      <td>NaN</td>\n",
       "      <td>9.0</td>\n",
       "    </tr>\n",
       "    <tr>\n",
       "      <th>21276</th>\n",
       "      <td>0</td>\n",
       "      <td>17122148.0</td>\n",
       "      <td>178.3</td>\n",
       "      <td>2017-02-10T00:00:00</td>\n",
       "      <td>1</td>\n",
       "      <td>NaN</td>\n",
       "      <td>3.0</td>\n",
       "      <td>NaN</td>\n",
       "      <td>1</td>\n",
       "      <td>NaN</td>\n",
       "      <td>...</td>\n",
       "      <td>41.6</td>\n",
       "      <td>1.0</td>\n",
       "      <td>NaN</td>\n",
       "      <td>60195.0</td>\n",
       "      <td>41294.0</td>\n",
       "      <td>0.0</td>\n",
       "      <td>NaN</td>\n",
       "      <td>0.0</td>\n",
       "      <td>NaN</td>\n",
       "      <td>4.0</td>\n",
       "    </tr>\n",
       "  </tbody>\n",
       "</table>\n",
       "<p>3 rows × 22 columns</p>\n",
       "</div>"
      ],
      "text/plain": [
       "       total_images  last_price  total_area first_day_exposition  rooms  \\\n",
       "8986             10   4850000.0       103.1  2018-07-10T00:00:00      3   \n",
       "21119             8   3500000.0        43.2  2018-11-11T00:00:00      2   \n",
       "21276             0  17122148.0       178.3  2017-02-10T00:00:00      1   \n",
       "\n",
       "       ceiling_height  floors_total  living_area  floor is_apartment  ...  \\\n",
       "8986              NaN           NaN         68.1      4          NaN  ...   \n",
       "21119             NaN           4.0          NaN      2          NaN  ...   \n",
       "21276             NaN           3.0          NaN      1          NaN  ...   \n",
       "\n",
       "       kitchen_area  balcony  locality_name  airports_nearest  \\\n",
       "8986           16.7      NaN            NaN           19659.0   \n",
       "21119           NaN      NaN            NaN           19744.0   \n",
       "21276          41.6      1.0            NaN           60195.0   \n",
       "\n",
       "      city_centers_nearest  parks_around3000  parks_nearest  ponds_around3000  \\\n",
       "8986               31813.0               0.0            NaN               0.0   \n",
       "21119              31897.0               0.0            NaN               0.0   \n",
       "21276              41294.0               0.0            NaN               0.0   \n",
       "\n",
       "       ponds_nearest  days_exposition  \n",
       "8986             NaN             28.0  \n",
       "21119            NaN              9.0  \n",
       "21276            NaN              4.0  \n",
       "\n",
       "[3 rows x 22 columns]"
      ]
     },
     "execution_count": 6,
     "metadata": {},
     "output_type": "execute_result"
    }
   ],
   "source": [
    "data[(data['locality_name'].isna())&(data['city_centers_nearest']>29493)]"
   ]
  },
  {
   "cell_type": "markdown",
   "metadata": {
    "cellId": "osrjongrwpbka2c8lzine"
   },
   "source": [
    "Экспертным путем первые два значения я отнесу к локации \"посёлок Шушары\", так как это третья по популярности локация в датафрейме, и расстояние до центра и до аэропорта не превышает максимальное значение. Третье пропущенное значение заменю городом Сестрорецк по такому же экспертному методу. "
   ]
  },
  {
   "cell_type": "markdown",
   "metadata": {
    "cellId": "cwm0qq9l70ko4bsp6zzbrc"
   },
   "source": [
    "Для замены пропусков на значения я использую функцию. В некоторых значениях 'city_centers_nearest' тоже стоят пропуски, я заполню их медианными значениями в зависимости от стоимости квадратного метра, предварительно разбив на группы значения 'last_price'/'total_area'."
   ]
  },
  {
   "cell_type": "code",
   "execution_count": 7,
   "metadata": {
    "cellId": "auglr1u6el4n4axrfu781k"
   },
   "outputs": [],
   "source": [
    "data['price_per_sq_m'] = data['last_price']/data['total_area']\n",
    "data['price_per_sq_m_group'] = pd.qcut(data['price_per_sq_m'],10)\n",
    "data['city_centers_nearest'] = data['city_centers_nearest'].fillna(data.groupby('price_per_sq_m_group')['city_centers_nearest'].transform('median'))"
   ]
  },
  {
   "cell_type": "code",
   "execution_count": 8,
   "metadata": {
    "cellId": "5w1ftyzn3m6qouih7i1n"
   },
   "outputs": [],
   "source": [
    "data['city_centers_nearest'] = data['city_centers_nearest'].fillna(data.groupby('locality_name')['city_centers_nearest'].transform('median'))"
   ]
  },
  {
   "cell_type": "code",
   "execution_count": 9,
   "metadata": {
    "cellId": "70vdzipa9xhgcqf6zpz49w"
   },
   "outputs": [],
   "source": [
    "def locality_edit(row):\n",
    "    if row <= 29493:\n",
    "        return 'Санкт-Петербург'\n",
    "    elif 41294 > row > 29493 :\n",
    "        return 'посёлок Шушары'\n",
    "    elif row >= 41294:\n",
    "        return 'Сестрорецк'\n",
    "\n",
    "data.loc[data['locality_name'].isna(), 'locality_name'] = data.loc[data['locality_name'].isna(), 'city_centers_nearest'].apply(locality_edit)"
   ]
  },
  {
   "cell_type": "markdown",
   "metadata": {
    "cellId": "oc7cejx4jwdw3dmwzmwxym"
   },
   "source": [
    "Точное расстояние до аэропорта заполнить в пропуски затруднительно. Было бы гораздо легче выполнять замены пропусков в некоторых столбцах, если бы у нас в данных было id здания, или адрес. Пропуски в расстоянии здания до аэропорта я заполню медианным значением расстояния в зависимости от расстояния до центра города. "
   ]
  },
  {
   "cell_type": "code",
   "execution_count": 10,
   "metadata": {
    "cellId": "ko3nh0nyge2vos9mhyvs5"
   },
   "outputs": [],
   "source": [
    "data['airports_nearest'] = data['airports_nearest'].fillna(data.groupby('city_centers_nearest')['airports_nearest'].transform('median'))"
   ]
  },
  {
   "cell_type": "code",
   "execution_count": 11,
   "metadata": {
    "cellId": "nv32p9bgt2h6l9viblldu3"
   },
   "outputs": [
    {
     "data": {
      "text/plain": [
       "1     8047\n",
       "2     7940\n",
       "3     5814\n",
       "4     1180\n",
       "5      326\n",
       "0      197\n",
       "6      105\n",
       "7       59\n",
       "8       12\n",
       "9        8\n",
       "10       3\n",
       "11       2\n",
       "14       2\n",
       "19       1\n",
       "16       1\n",
       "12       1\n",
       "15       1\n",
       "Name: rooms, dtype: int64"
      ]
     },
     "execution_count": 11,
     "metadata": {},
     "output_type": "execute_result"
    }
   ],
   "source": [
    "data['rooms'].value_counts()"
   ]
  },
  {
   "cell_type": "markdown",
   "metadata": {
    "cellId": "6fckoec6xbl0kgs4nqwock"
   },
   "source": [
    "Замечено, что среди количества комнат есть нулевое значение. Скорее всего таким образом отображают квартиры-студии, поэтому ошибки в данных нет."
   ]
  },
  {
   "cell_type": "markdown",
   "metadata": {
    "cellId": "g27ga5ha8fd9upderj4qf5"
   },
   "source": [
    "Количество этажей здания различается в зависимости от города, в крупных городах (таких как Санкт-Петербург) здания могут быть многоэтажными, в посёлках скорее всего это невысокие здания. Поэтому пропуски в столбце с количеством этажей я заменяю медианным значением в зависимости от города."
   ]
  },
  {
   "cell_type": "code",
   "execution_count": 12,
   "metadata": {
    "cellId": "bvoq22v9myzru1vts70rj"
   },
   "outputs": [],
   "source": [
    "data['floors_total'] = data['floors_total'].fillna(data.groupby('locality_name')['floors_total'].transform('median'))"
   ]
  },
  {
   "cell_type": "markdown",
   "metadata": {
    "cellId": "1l2owf99agcdu6l1t6ixjq"
   },
   "source": [
    "Потолки в зданиях низких обычно невысокие, а в многоэтажках стали делать потолки высокие. Поэтому я сперва методом qcut() сгруппирую данные по количеству этажей, и далее заменю пропуски в 'ceiling_height' медианным значением по группе."
   ]
  },
  {
   "cell_type": "code",
   "execution_count": 13,
   "metadata": {
    "cellId": "rcfidue5ohizemn2tgvyee"
   },
   "outputs": [
    {
     "data": {
      "text/plain": [
       "(5.0, 12.0]     8472\n",
       "(0.999, 5.0]    8066\n",
       "(12.0, 60.0]    7161\n",
       "Name: floors_total_group, dtype: int64"
      ]
     },
     "execution_count": 13,
     "metadata": {},
     "output_type": "execute_result"
    }
   ],
   "source": [
    "data['floors_total_group'] = pd.qcut(data['floors_total'], 3)\n",
    "data['floors_total_group'].value_counts()"
   ]
  },
  {
   "cell_type": "code",
   "execution_count": 14,
   "metadata": {
    "cellId": "0jotif3xcg0c94xbuwkxw5v"
   },
   "outputs": [],
   "source": [
    "data['ceiling_height'] = data['ceiling_height'].fillna(data.groupby('floors_total_group')['ceiling_height'].transform('median'))"
   ]
  },
  {
   "cell_type": "markdown",
   "metadata": {
    "cellId": "h5kvbip22z6w6ih4o1rh8"
   },
   "source": [
    "Скорее всего, в колонке 'is_apartment' пропуски вызваны тем, что человек не заполнял это поле в случае, если недвижимость не является апартаментом. Поэтому логично заполнить пропуски False. Такая же ситуация с балконом, если его нет, скорее всего продавец не заполнил это поле. Поэтому в столбце 'balcony' я заполню пропуски нулевыми значениями."
   ]
  },
  {
   "cell_type": "code",
   "execution_count": 15,
   "metadata": {
    "cellId": "lqrb9qvuh8kgacqz254cs"
   },
   "outputs": [],
   "source": [
    "data['is_apartment'] = data['is_apartment'].fillna(False)\n",
    "data['balcony'] = data['balcony'].fillna(0)"
   ]
  },
  {
   "cell_type": "markdown",
   "metadata": {
    "cellId": "3adjkpgh19jit5gv6i3sci"
   },
   "source": [
    "Для того, чтобы заменить пропуски в колонке 'living_area', я найду отношение 'living_area' к 'total_area', а далее сгруппирую данные по локации и заменю пропуски найденным отношением, умноженным на 'total_area'."
   ]
  },
  {
   "cell_type": "code",
   "execution_count": 16,
   "metadata": {
    "cellId": "1bexzuc8egtinqefs170a2q"
   },
   "outputs": [
    {
     "name": "stdout",
     "output_type": "stream",
     "text": [
      "17\n"
     ]
    },
    {
     "data": {
      "text/plain": [
       "0.5678598992678503"
      ]
     },
     "execution_count": 16,
     "metadata": {},
     "output_type": "execute_result"
    }
   ],
   "source": [
    "data['living_area_ratio'] = data['living_area']/data['total_area']\n",
    "data['living_area'] = data['living_area'].fillna(data.groupby('locality_name')['living_area_ratio'].transform('median')*data['total_area'])\n",
    "print(data['living_area'].isna().sum())\n",
    "median_living_area_ratio = data['living_area_ratio'].median()\n",
    "median_living_area_ratio"
   ]
  },
  {
   "cell_type": "markdown",
   "metadata": {
    "cellId": "dw972xjrdb862ybplbw1ve"
   },
   "source": [
    "Не все пропуски заменились. 17 осталось незамененных. Скорее всего это произошло из-за того, что в этих 17 строках уникальные значения локаций и не получилось найти медианное значение. Поэтому я в этих строках пропуски в колонке 'living_area' заменю на 'total_area' умноженное на медианное значение всего столбца 'living_area_ratio'."
   ]
  },
  {
   "cell_type": "code",
   "execution_count": 17,
   "metadata": {
    "cellId": "rlhfukrkixkf21bzoend37"
   },
   "outputs": [],
   "source": [
    "data['living_area'] = data['living_area'].fillna(median_living_area_ratio*data['total_area'])"
   ]
  },
  {
   "cell_type": "markdown",
   "metadata": {
    "cellId": "hjhtqx8qmhapfhwd2irstc"
   },
   "source": [
    "Тот же самый путь проделываю для заполнения пропусков в столбце 'kitchen_area'."
   ]
  },
  {
   "cell_type": "code",
   "execution_count": 18,
   "metadata": {
    "cellId": "st47u1kioknko78aski6lj"
   },
   "outputs": [
    {
     "name": "stdout",
     "output_type": "stream",
     "text": [
      "19\n"
     ]
    },
    {
     "data": {
      "text/plain": [
       "0"
      ]
     },
     "execution_count": 18,
     "metadata": {},
     "output_type": "execute_result"
    }
   ],
   "source": [
    "data['kitchen_area_ratio'] = data['kitchen_area']/data['total_area']\n",
    "data['kitchen_area'] = data['kitchen_area'].fillna(data.groupby('locality_name')['kitchen_area_ratio'].transform('median')*data['total_area'])\n",
    "print(data['kitchen_area'].isna().sum())\n",
    "data['kitchen_area'] = data['kitchen_area'].fillna(data['kitchen_area_ratio'].median()*data['total_area'])\n",
    "data['kitchen_area'].isna().sum()"
   ]
  },
  {
   "cell_type": "code",
   "execution_count": 19,
   "metadata": {
    "cellId": "nv3xz36pvsdxfkm6zi7v2"
   },
   "outputs": [],
   "source": [
    "data['parks_around3000'] = data['parks_around3000'].fillna(data.groupby('locality_name')['parks_around3000'].transform('median'))\n",
    "data['ponds_around3000'] = data['ponds_around3000'].fillna(data.groupby('locality_name')['ponds_around3000'].transform('median'))\n",
    "data['parks_nearest'] = data['parks_nearest'].fillna(data.groupby('locality_name')['parks_nearest'].transform('median'))\n",
    "data['ponds_nearest'] = data['ponds_nearest'].fillna(data.groupby('locality_name')['ponds_nearest'].transform('median'))"
   ]
  },
  {
   "cell_type": "markdown",
   "metadata": {
    "cellId": "mp2bp2q2eyo2cnwalrtocu"
   },
   "source": [
    "Можно было бы подумать, что если в колонке days_exposition стоят пропуски, то значит объявление еще не снято, однако последние данные в датафрейме датируются 2019 годом. Поэтому я решила пропуски в количестве дней, которое висело объявление о продаже на сайте заменить медианными значениями в этой колонке в зависимости от цены, так как мне кажется, что именно цена является главным вляющим фактором на скорость купли недвижимости. Для этого я разобью цену недвижимости на 60 корзин методом pd.qcut()."
   ]
  },
  {
   "cell_type": "code",
   "execution_count": 20,
   "metadata": {
    "cellId": "mbt1gr28j9gztlhkpi6rz"
   },
   "outputs": [
    {
     "data": {
      "text/plain": [
       "total_images               0\n",
       "last_price                 0\n",
       "total_area                 0\n",
       "first_day_exposition       0\n",
       "rooms                      0\n",
       "ceiling_height             0\n",
       "floors_total               0\n",
       "living_area                0\n",
       "floor                      0\n",
       "is_apartment               0\n",
       "studio                     0\n",
       "open_plan                  0\n",
       "kitchen_area               0\n",
       "balcony                    0\n",
       "locality_name              0\n",
       "airports_nearest        2679\n",
       "city_centers_nearest       0\n",
       "parks_around3000        5386\n",
       "parks_nearest           6000\n",
       "ponds_around3000        5386\n",
       "ponds_nearest           5494\n",
       "days_exposition            0\n",
       "price_per_sq_m             0\n",
       "price_per_sq_m_group       0\n",
       "floors_total_group         0\n",
       "living_area_ratio       1903\n",
       "kitchen_area_ratio      2278\n",
       "last_price_bin             0\n",
       "dtype: int64"
      ]
     },
     "execution_count": 20,
     "metadata": {},
     "output_type": "execute_result"
    }
   ],
   "source": [
    "data['last_price_bin'] = pd.qcut(data['last_price'],60)\n",
    "data['days_exposition'] = data['days_exposition'].fillna(data.groupby('last_price_bin')['days_exposition'].transform('median'))\n",
    "data.isna().sum()"
   ]
  },
  {
   "cell_type": "markdown",
   "metadata": {},
   "source": [
    "<div class=\"alert alert-success\">\n",
    "<b>Комментарий ревьюера:</b>\n",
    "\n",
    "В том числе метод `fillna` и `astype` можно применять к нескольким столбцам одновременно.\n",
    "    \n",
    "Если столбцов более 2–ух, то рекомендую применять цикл `for`.\n",
    "    \n",
    "Пример: \n",
    "    \n",
    "`df.astype({ \"col1\": \"float64\", \"col2\": \"int64\"})`\n",
    "    \n",
    "</div>"
   ]
  },
  {
   "cell_type": "markdown",
   "metadata": {},
   "source": [
    "```python\n",
    "\n",
    "columns = [col1, col2, col3]\n",
    "\n",
    "for i in columns:\n",
    "    df[i] = df[i].fillna(0)\n",
    "\n",
    "```"
   ]
  },
  {
   "cell_type": "code",
   "execution_count": 21,
   "metadata": {
    "cellId": "5wq6dq6l2p3f5igf305s0l"
   },
   "outputs": [
    {
     "data": {
      "text/plain": [
       "0"
      ]
     },
     "execution_count": 21,
     "metadata": {},
     "output_type": "execute_result"
    }
   ],
   "source": [
    "data.duplicated().sum()"
   ]
  },
  {
   "cell_type": "markdown",
   "metadata": {
    "cellId": "08wrsfql6q8cnkdq1dsq16p"
   },
   "source": [
    "Дубликаты в данных не обнаружены."
   ]
  },
  {
   "cell_type": "markdown",
   "metadata": {
    "cellId": "zegdg4x3o4976qon8uby5b"
   },
   "source": [
    "### Вывод\n",
    "Все пропущенные ячейки, которые будут необходимы для дальнейших исследований изменены. Пропуски, однако, в каких-то колонках все-таки остались. Скорее всего это произошло из-за того, что среди значений по всей локации не было ни одного не пропущенного. Однако, для дальнейшей работы, нам необходимы значения в этих столбцах для Санкт-Петербурга. Поэтому пропусками для остальных городов я пренебрегу. Столбцы living_area_ratio и kitchen_area_ratio нужны были для расчетов, поэтому пропуски в них нормальны. "
   ]
  },
  {
   "cell_type": "markdown",
   "metadata": {
    "cellId": "ytba9ilntto7rf9q5luf"
   },
   "source": [
    "### Изменение типов данных"
   ]
  },
  {
   "cell_type": "markdown",
   "metadata": {
    "cellId": "lew5lhkwkbdihkidooc4d"
   },
   "source": [
    "Далее я произведу замены на корректные типы данных. Начну с преобразования колонки с датой публикации объявления. Преобразую к формату даты методом pd.to_datetime(), применив формат даты из записи в колонке ('%Y-%m-%dT%H:%M:%S')."
   ]
  },
  {
   "cell_type": "code",
   "execution_count": 22,
   "metadata": {
    "cellId": "en01xqapeqn9ujk6bfzbcn"
   },
   "outputs": [],
   "source": [
    "data['first_day_exposition'] = pd.to_datetime(data['first_day_exposition'], format='%Y-%m-%dT%H:%M:%S')"
   ]
  },
  {
   "cell_type": "markdown",
   "metadata": {
    "cellId": "zyyhgqcfo7d9hn8afu1bbt"
   },
   "source": [
    "Заменю количество этажей в здании на целочисленное значение, количество дней, которое объявение висело на сайте? тоже на целочисленное значение. количество балконов в квартире тоже изменю на целочисленное значение. В некоторых полях не получилось заменить все пропуски из-за недостатка данных в зависимых колонках. В таких столбцах не получится применить метод astype('int'), поэтому оставлю их как есть. "
   ]
  },
  {
   "cell_type": "code",
   "execution_count": 23,
   "metadata": {
    "cellId": "e2h95cecszd74r4gvfl9d"
   },
   "outputs": [],
   "source": [
    "data['floors_total'] = data['floors_total'].astype('int64')\n",
    "data['days_exposition'] = data['days_exposition'].astype('int64')\n",
    "data['balcony'] = data['balcony'].astype('int64')"
   ]
  },
  {
   "cell_type": "code",
   "execution_count": 24,
   "metadata": {
    "cellId": "hydctcvq3uktypbu0d7fsk"
   },
   "outputs": [],
   "source": [
    "data['is_apartment'] = data['is_apartment'].astype('bool')"
   ]
  },
  {
   "cell_type": "markdown",
   "metadata": {
    "cellId": "gn98e1u0pnm2sjhbu2vnc8"
   },
   "source": [
    "## Расчёты и добавление результатов в таблицу"
   ]
  },
  {
   "cell_type": "markdown",
   "metadata": {
    "cellId": "hk077c14ijijmgccf7gkd8"
   },
   "source": [
    "Далее я выведу из даты публикации объявления день недели, месяц и год. Методом pd.DatetimeIndex() я вытащу номера дней недели, месяцев и годов. Далее я создам функцию, которая по номерам дней недели, месяцев будет выводить их наименования."
   ]
  },
  {
   "cell_type": "code",
   "execution_count": 25,
   "metadata": {
    "cellId": "eiuxsz92facg840fqyq83i"
   },
   "outputs": [
    {
     "data": {
      "text/plain": [
       "Среда          4295\n",
       "Понедельник    4183\n",
       "Четверг        4000\n",
       "Вторник        3974\n",
       "Пятница        1936\n",
       "Суббота        1699\n",
       "Name: weekday, dtype: int64"
      ]
     },
     "execution_count": 25,
     "metadata": {},
     "output_type": "execute_result"
    }
   ],
   "source": [
    "data['weekday'] =  pd.DatetimeIndex(data['first_day_exposition']).dayofweek\n",
    "def weekday_name(row):\n",
    "    weekday = row['weekday']\n",
    "    if weekday == 1:\n",
    "        return 'Понедельник'\n",
    "    elif weekday == 2:\n",
    "        return 'Вторник'\n",
    "    elif weekday == 3:\n",
    "        return 'Среда'\n",
    "    elif weekday == 4:\n",
    "        return 'Четверг'\n",
    "    elif weekday == 5:\n",
    "        return 'Пятница'\n",
    "    elif weekday == 6:\n",
    "        return 'Суббота'\n",
    "    elif weekday == 7:\n",
    "        return 'Воскресенье'\n",
    "    \n",
    "data['weekday'] = data.apply(weekday_name, axis = 1)\n",
    "data['weekday'].value_counts()"
   ]
  },
  {
   "cell_type": "code",
   "execution_count": 26,
   "metadata": {
    "cellId": "6vy1pd4z7eiwgj6qgd664i"
   },
   "outputs": [
    {
     "data": {
      "text/plain": [
       "Февраль     2640\n",
       "Март        2587\n",
       "Апрель      2379\n",
       "Ноябрь      2371\n",
       "Октябрь     2127\n",
       "Сентябрь    1981\n",
       "Июнь        1760\n",
       "Август      1744\n",
       "Июль        1695\n",
       "Декабрь     1641\n",
       "Январь      1500\n",
       "Май         1274\n",
       "Name: month, dtype: int64"
      ]
     },
     "execution_count": 26,
     "metadata": {},
     "output_type": "execute_result"
    }
   ],
   "source": [
    "data['month'] =  pd.DatetimeIndex(data['first_day_exposition']).month\n",
    "def month_name(row):\n",
    "    month = row['month']\n",
    "    if month == 1:\n",
    "        return 'Январь'\n",
    "    elif month == 2:\n",
    "        return 'Февраль'\n",
    "    elif month == 3:\n",
    "        return 'Март'\n",
    "    elif month == 4:\n",
    "        return 'Апрель'\n",
    "    elif month == 5:\n",
    "        return 'Май'\n",
    "    elif month == 6:\n",
    "        return 'Июнь'\n",
    "    elif month == 7:\n",
    "        return 'Июль'\n",
    "    elif month == 8:\n",
    "        return 'Август'\n",
    "    elif month == 9:\n",
    "        return 'Сентябрь'\n",
    "    elif month == 10:\n",
    "        return 'Октябрь'\n",
    "    elif month == 11:\n",
    "        return 'Ноябрь'\n",
    "    elif month == 12:\n",
    "        return 'Декабрь'\n",
    "    \n",
    "data['month'] = data.apply(month_name, axis = 1)\n",
    "data['month'].value_counts()"
   ]
  },
  {
   "cell_type": "code",
   "execution_count": 27,
   "metadata": {
    "cellId": "z1wpdo5366oml6u44t9x9"
   },
   "outputs": [
    {
     "data": {
      "text/plain": [
       "2018    8519\n",
       "2017    8190\n",
       "2019    2879\n",
       "2016    2783\n",
       "2015    1191\n",
       "2014     137\n",
       "Name: year, dtype: int64"
      ]
     },
     "execution_count": 27,
     "metadata": {},
     "output_type": "execute_result"
    }
   ],
   "source": [
    "data['year'] =  pd.DatetimeIndex(data['first_day_exposition']).year\n",
    "data['year'].value_counts()"
   ]
  },
  {
   "cell_type": "markdown",
   "metadata": {
    "cellId": "4sme0ccxvldfpr9zx7d0m8"
   },
   "source": [
    "Далее я сделаю группировку для этажа здания. Если этаж является первым, то укажу ему значение 'Первый'. Если этаж является последним (то есть если он совпадает с количеством этажей здания), то укажу значение 'Поледний', всем остальным этажам дам значение 'Другой'. Данные наименования групп будут находиться в созданной колонке 'floor_level'."
   ]
  },
  {
   "cell_type": "code",
   "execution_count": 28,
   "metadata": {
    "cellId": "g3gnxzmtl49c2jh3lggauu"
   },
   "outputs": [
    {
     "data": {
      "text/html": [
       "<div>\n",
       "<style scoped>\n",
       "    .dataframe tbody tr th:only-of-type {\n",
       "        vertical-align: middle;\n",
       "    }\n",
       "\n",
       "    .dataframe tbody tr th {\n",
       "        vertical-align: top;\n",
       "    }\n",
       "\n",
       "    .dataframe thead th {\n",
       "        text-align: right;\n",
       "    }\n",
       "</style>\n",
       "<table border=\"1\" class=\"dataframe\">\n",
       "  <thead>\n",
       "    <tr style=\"text-align: right;\">\n",
       "      <th></th>\n",
       "      <th>floor</th>\n",
       "      <th>floors_total</th>\n",
       "      <th>floor_level</th>\n",
       "    </tr>\n",
       "  </thead>\n",
       "  <tbody>\n",
       "    <tr>\n",
       "      <th>0</th>\n",
       "      <td>8</td>\n",
       "      <td>16</td>\n",
       "      <td>Другой</td>\n",
       "    </tr>\n",
       "    <tr>\n",
       "      <th>1</th>\n",
       "      <td>1</td>\n",
       "      <td>11</td>\n",
       "      <td>Первый</td>\n",
       "    </tr>\n",
       "    <tr>\n",
       "      <th>2</th>\n",
       "      <td>4</td>\n",
       "      <td>5</td>\n",
       "      <td>Другой</td>\n",
       "    </tr>\n",
       "    <tr>\n",
       "      <th>3</th>\n",
       "      <td>9</td>\n",
       "      <td>14</td>\n",
       "      <td>Другой</td>\n",
       "    </tr>\n",
       "    <tr>\n",
       "      <th>4</th>\n",
       "      <td>13</td>\n",
       "      <td>14</td>\n",
       "      <td>Другой</td>\n",
       "    </tr>\n",
       "  </tbody>\n",
       "</table>\n",
       "</div>"
      ],
      "text/plain": [
       "   floor  floors_total floor_level\n",
       "0      8            16      Другой\n",
       "1      1            11      Первый\n",
       "2      4             5      Другой\n",
       "3      9            14      Другой\n",
       "4     13            14      Другой"
      ]
     },
     "execution_count": 28,
     "metadata": {},
     "output_type": "execute_result"
    }
   ],
   "source": [
    "def floor_level(row):\n",
    "    floor = row['floor']\n",
    "    floors_total = row['floors_total']\n",
    "    if floor == floors_total:\n",
    "        return 'Последний'\n",
    "    if floor == 1:\n",
    "        return 'Первый'\n",
    "    else:\n",
    "        return 'Другой'\n",
    "    \n",
    "data['floor_level'] = data.apply(floor_level, axis = 1)\n",
    "data.loc[:,['floor', 'floors_total', 'floor_level']].head()"
   ]
  },
  {
   "cell_type": "markdown",
   "metadata": {
    "cellId": "loz2peo7pp9horpx6zu1"
   },
   "source": [
    "Необходимые вычисления для соотношение жилой и общей площади, а также отношение площади кухни к общей посчитаны в передыдущем ходе исследования в колокнах 'living_ratio', 'kitchen_ratio'."
   ]
  },
  {
   "cell_type": "markdown",
   "metadata": {},
   "source": [
    "<div class=\"alert alert-success\">\n",
    "<b>Комментарий ревьюера:</b>\n",
    "\n",
    "Мы достаточно детально обработали наши данные и добавили все необходимые значения в нашу выборку. Давай теперь проведём анализ.\n",
    "    \n",
    "</div>"
   ]
  },
  {
   "cell_type": "markdown",
   "metadata": {
    "cellId": "6zkllhciqocr5yk0dl1eo"
   },
   "source": [
    "## Исследовательский анализ данных"
   ]
  },
  {
   "cell_type": "markdown",
   "metadata": {
    "cellId": "eg2cehojh5jfcu0d43agy4"
   },
   "source": [
    "Начало исследования будет с детального погружения в значения в колонках с площадью, ценой, числом комнат, высотой потолков. Методом describe() я выведу основные показатели для исследования по каждой из колонок. Так же построю гистограммы методом hist() и \"ящики с усами\" методом boxplot(). Чтобы сразу построить все графики воспользуюсь циклом for."
   ]
  },
  {
   "cell_type": "code",
   "execution_count": 93,
   "metadata": {},
   "outputs": [
    {
     "data": {
      "text/html": [
       "<div>\n",
       "<style scoped>\n",
       "    .dataframe tbody tr th:only-of-type {\n",
       "        vertical-align: middle;\n",
       "    }\n",
       "\n",
       "    .dataframe tbody tr th {\n",
       "        vertical-align: top;\n",
       "    }\n",
       "\n",
       "    .dataframe thead th {\n",
       "        text-align: right;\n",
       "    }\n",
       "</style>\n",
       "<table border=\"1\" class=\"dataframe\">\n",
       "  <thead>\n",
       "    <tr style=\"text-align: right;\">\n",
       "      <th></th>\n",
       "      <th>total_area</th>\n",
       "      <th>last_price</th>\n",
       "      <th>rooms</th>\n",
       "      <th>ceiling_height</th>\n",
       "    </tr>\n",
       "  </thead>\n",
       "  <tbody>\n",
       "    <tr>\n",
       "      <th>count</th>\n",
       "      <td>23699.00</td>\n",
       "      <td>23699.00</td>\n",
       "      <td>23699.00</td>\n",
       "      <td>23699.00</td>\n",
       "    </tr>\n",
       "    <tr>\n",
       "      <th>mean</th>\n",
       "      <td>60.35</td>\n",
       "      <td>6541548.77</td>\n",
       "      <td>2.07</td>\n",
       "      <td>2.72</td>\n",
       "    </tr>\n",
       "    <tr>\n",
       "      <th>std</th>\n",
       "      <td>35.65</td>\n",
       "      <td>10887013.27</td>\n",
       "      <td>1.08</td>\n",
       "      <td>0.99</td>\n",
       "    </tr>\n",
       "    <tr>\n",
       "      <th>min</th>\n",
       "      <td>12.00</td>\n",
       "      <td>12190.00</td>\n",
       "      <td>0.00</td>\n",
       "      <td>1.00</td>\n",
       "    </tr>\n",
       "    <tr>\n",
       "      <th>25%</th>\n",
       "      <td>40.00</td>\n",
       "      <td>3400000.00</td>\n",
       "      <td>1.00</td>\n",
       "      <td>2.60</td>\n",
       "    </tr>\n",
       "    <tr>\n",
       "      <th>50%</th>\n",
       "      <td>52.00</td>\n",
       "      <td>4650000.00</td>\n",
       "      <td>2.00</td>\n",
       "      <td>2.60</td>\n",
       "    </tr>\n",
       "    <tr>\n",
       "      <th>75%</th>\n",
       "      <td>69.90</td>\n",
       "      <td>6800000.00</td>\n",
       "      <td>3.00</td>\n",
       "      <td>2.70</td>\n",
       "    </tr>\n",
       "    <tr>\n",
       "      <th>max</th>\n",
       "      <td>900.00</td>\n",
       "      <td>763000000.00</td>\n",
       "      <td>19.00</td>\n",
       "      <td>100.00</td>\n",
       "    </tr>\n",
       "  </tbody>\n",
       "</table>\n",
       "</div>"
      ],
      "text/plain": [
       "       total_area   last_price    rooms  ceiling_height\n",
       "count    23699.00     23699.00 23699.00        23699.00\n",
       "mean        60.35   6541548.77     2.07            2.72\n",
       "std         35.65  10887013.27     1.08            0.99\n",
       "min         12.00     12190.00     0.00            1.00\n",
       "25%         40.00   3400000.00     1.00            2.60\n",
       "50%         52.00   4650000.00     2.00            2.60\n",
       "75%         69.90   6800000.00     3.00            2.70\n",
       "max        900.00 763000000.00    19.00          100.00"
      ]
     },
     "execution_count": 93,
     "metadata": {},
     "output_type": "execute_result"
    }
   ],
   "source": [
    "data.loc[:,['total_area','last_price','rooms', 'ceiling_height']].describe()"
   ]
  },
  {
   "cell_type": "markdown",
   "metadata": {},
   "source": [
    "Средние значения по каждой колнке выше медианного, это означает, что есть выбросы в правом хвосте."
   ]
  },
  {
   "cell_type": "code",
   "execution_count": 103,
   "metadata": {},
   "outputs": [
    {
     "data": {
      "image/png": "[encoded data removed]",
      "text/plain": [
       "<Figure size 432x288 with 1 Axes>"
      ]
     },
     "metadata": {
      "needs_background": "light"
     },
     "output_type": "display_data"
    },
    {
     "data": {
      "image/png": "[encoded data removed]",
      "text/plain": [
       "<Figure size 432x288 with 1 Axes>"
      ]
     },
     "metadata": {
      "needs_background": "light"
     },
     "output_type": "display_data"
    },
    {
     "data": {
      "image/png": "[encoded data removed]",
      "text/plain": [
       "<Figure size 432x288 with 1 Axes>"
      ]
     },
     "metadata": {
      "needs_background": "light"
     },
     "output_type": "display_data"
    },
    {
     "data": {
      "image/png": "[encoded data removed]",
      "text/plain": [
       "<Figure size 432x288 with 1 Axes>"
      ]
     },
     "metadata": {
      "needs_background": "light"
     },
     "output_type": "display_data"
    },
    {
     "data": {
      "image/png": "[encoded data removed]",
      "text/plain": [
       "<Figure size 432x288 with 1 Axes>"
      ]
     },
     "metadata": {
      "needs_background": "light"
     },
     "output_type": "display_data"
    },
    {
     "data": {
      "image/png": "[encoded data removed]",
      "text/plain": [
       "<Figure size 432x288 with 1 Axes>"
      ]
     },
     "metadata": {
      "needs_background": "light"
     },
     "output_type": "display_data"
    },
    {
     "data": {
      "image/png": "[encoded data removed]",
      "text/plain": [
       "<Figure size 432x288 with 1 Axes>"
      ]
     },
     "metadata": {
      "needs_background": "light"
     },
     "output_type": "display_data"
    }
   ],
   "source": [
    "columns_to_research = ['total_area','last_price','rooms', 'ceiling_height']\n",
    "for column in columns_to_research:\n",
    "    data[column].hist(bins = 50)\n",
    "    plt.title(column)\n",
    "    zplt.show()\n",
    "data.boxplot(column)\n",
    "plt.show()"
   ]
  },
  {
   "cell_type": "code",
   "execution_count": 32,
   "metadata": {
    "cellId": "ot9gfzawubl7aerj7x4a93"
   },
   "outputs": [
    {
     "data": {
      "text/plain": [
       "<AxesSubplot:>"
      ]
     },
     "execution_count": 32,
     "metadata": {},
     "output_type": "execute_result"
    },
    {
     "data": {
      "image/png": "[encoded data removed]",
      "text/plain": [
       "<Figure size 432x288 with 1 Axes>"
      ]
     },
     "metadata": {
      "needs_background": "light"
     },
     "output_type": "display_data"
    }
   ],
   "source": [
    "data['total_area'].hist(bins = 50)"
   ]
  },
  {
   "cell_type": "markdown",
   "metadata": {},
   "source": [
    "<div class=\"alert alert-warning\">\n",
    "<b>Комментарий ревьюера:</b>\n",
    "\n",
    "<s>Не забывай пожалуйста подписавать каждый график. Это важный момент всего проект, потому что так быстрее понять о чем идёт речь на графике.\n",
    "\n",
    "</div>"
   ]
  },
  {
   "cell_type": "markdown",
   "metadata": {},
   "source": [
    "<div class=\"alert alert-success\">\n",
    "<b>Комментарий ревьюера (2):</b>\n",
    "\n",
    "Здорово, что получилось применить автоматизацию построения графиков 👍\n",
    "    \n",
    "Теперь в нужный момент мы сможем применить данный инструмент.\n",
    "    \n",
    "</div>"
   ]
  },
  {
   "cell_type": "markdown",
   "metadata": {},
   "source": [
    "<div class=\"alert alert-info\"> <b>Комментарий студента:</b> Подписала графики методом plt.title()</div>"
   ]
  },
  {
   "cell_type": "markdown",
   "metadata": {
    "cellId": "oed1sh50y6idoat6mbs8hp"
   },
   "source": [
    "Диаграмма распределения ['total_area'] показывает, что большинство значений располагается в диапазоне от 0 до 200 квадратных метров. Для более детального рассмотрения гистограммы, укажу range(0,200)."
   ]
  },
  {
   "cell_type": "code",
   "execution_count": 33,
   "metadata": {
    "cellId": "fiaiafa5gnrp8jgjcu73lg"
   },
   "outputs": [
    {
     "data": {
      "text/plain": [
       "<AxesSubplot:>"
      ]
     },
     "execution_count": 33,
     "metadata": {},
     "output_type": "execute_result"
    },
    {
     "data": {
      "image/png": "[encoded data removed]",
      "text/plain": [
       "<Figure size 432x288 with 1 Axes>"
      ]
     },
     "metadata": {
      "needs_background": "light"
     },
     "output_type": "display_data"
    }
   ],
   "source": [
    "data['total_area'].hist(bins = 50, range = (0,200))"
   ]
  },
  {
   "cell_type": "markdown",
   "metadata": {
    "cellId": "zyrqdi8ktdldxaz5it2ib"
   },
   "source": [
    "Пик гистограммы приходится на значения чуть меньше 50. В целом я считаю распределение в этом диапазоне нормальным, нисхождение идет после 60 квадратных метров."
   ]
  },
  {
   "cell_type": "markdown",
   "metadata": {},
   "source": [
    "<div class=\"alert alert-success\">\n",
    "<b>Комментарий ревьюера:</b>\n",
    "\n",
    "Кстати для того чтобы подписать график мы можем использовать метод `plt.title()` и в конце кода применить `plt.show()`\n",
    "</div>"
   ]
  },
  {
   "cell_type": "markdown",
   "metadata": {
    "cellId": "i7ugfwa5b5epl9fv3adh"
   },
   "source": [
    "Нижний «ус» диаграммы размаха ['total_area'] упирается в значение чуть больше 0, минимальное значение. Верхний заканчивается чуть больше 100 квадратных метров — это 1,5 межквартильного размаха, добавленного к 3-му квартилю. Это ориентировочная граница нормального размаха. Всё, что лежит за ней, считается выбросом. Более высокие значения рисуются отдельными точками, но сливаются в единую жирную линию: таких выбросов очень много.\n",
    "И всё же значения, которые отсёк верхний «ус», — редкие. Видно, насколько медиана (зелёная линия) не стремится к длинному хвосту высоких значений. Есть и очень заметные одинокие выбросы в районе 600 и 900."
   ]
  },
  {
   "cell_type": "markdown",
   "metadata": {},
   "source": [
    "<div class=\"alert alert-success\">\n",
    "<b>Комментарий ревьюера:</b>\n",
    "\n",
    "Здорово, что используешь разные типы графиков, таким образом мы лучше изучаем наши данные.\n",
    "</div>"
   ]
  },
  {
   "cell_type": "markdown",
   "metadata": {
    "cellId": "tkk5bjx927k7yz4pl2uzi"
   },
   "source": [
    "Квартиры с площадью 125 — уже редки. А на участке более 200 гистограмма сливается с нулём (это не значит, что там ровно 0, но таких квартир единицы). После 200 есть еще единичные выбросы.\n",
    "Примем верхнюю границу в 200 квадратных метров. Если отбросить значения больше 200, много данных не потеряется. \n",
    "Продолжу работать с наблюдениями, удовлетворяющими условию: 'total_area < 200'."
   ]
  },
  {
   "cell_type": "code",
   "execution_count": 36,
   "metadata": {
    "cellId": "zcihwfz7zbcek5612h6kl"
   },
   "outputs": [
    {
     "data": {
      "text/plain": [
       "15079    199.2\n",
       "6509     198.9\n",
       "16656    198.1\n",
       "11438    198.0\n",
       "10315    198.0\n",
       "Name: total_area, dtype: float64"
      ]
     },
     "execution_count": 36,
     "metadata": {},
     "output_type": "execute_result"
    }
   ],
   "source": [
    "good_data = data.query('total_area < 200')\n",
    "good_data['total_area'].sort_values(ascending = False).head()"
   ]
  },
  {
   "cell_type": "markdown",
   "metadata": {},
   "source": [
    "<div class=\"alert alert-success\">\n",
    "<b>Комментарий ревьюера:</b>\n",
    "\n",
    "Чтобы нам в ручную не задавать параметр `range` мы можем посмотреть в открытом доступе  – как считать интерквартильный размах для нижнего и верхнего уровня нормального распределения.\n",
    "    \n",
    "https://stackoverflow.com/questions/50461349/how-to-remove-outlier-from-dataframe-using-iqr\n",
    "    \n",
    "</div>"
   ]
  },
  {
   "cell_type": "markdown",
   "metadata": {
    "cellId": "2r5m4nmodrbvrz9krz5f7c"
   },
   "source": [
    "Судя по диаграмме размаха 'last_price', все квартиры дороже 12,5 миллионов считаются выбросами. На гистограмме значения от 20 миллионов стремятся к 0. Примем верхнюю границу в 200 квадратных метров. Если отбросить значения больше 20 миллионов, много данных не потеряется. \n",
    "Продолжу работать с наблюдениями, удовлетворяющими условию: 'last_price < 20000000'."
   ]
  },
  {
   "cell_type": "code",
   "execution_count": 41,
   "metadata": {
    "cellId": "pskbvc5vkki6fxf2xrtbcv"
   },
   "outputs": [
    {
     "data": {
      "text/plain": [
       "975     19999000.00\n",
       "22172   19990000.00\n",
       "3894    19990000.00\n",
       "6347    19980000.00\n",
       "21040   19950000.00\n",
       "Name: last_price, dtype: float64"
      ]
     },
     "execution_count": 41,
     "metadata": {},
     "output_type": "execute_result"
    }
   ],
   "source": [
    "good_data = good_data.query('last_price < 20000000')\n",
    "good_data['last_price'].sort_values(ascending = False).head()"
   ]
  },
  {
   "cell_type": "markdown",
   "metadata": {},
   "source": [
    "<div class=\"alert alert-success\">\n",
    "<b>Комментарий ревьюера:</b>\n",
    "\n",
    "Также мы можем увеличить сам график, чтобы его было удобнее изучать с помощью метода `plt.figure(figsize=(10,7))` или если используешь методы библиотеки `pandas`, в основном всегда есть атрибут `figsize=(10,7)`, который также поможет настроить ширину и высоту графика.\n",
    "    \n",
    "</div>"
   ]
  },
  {
   "cell_type": "markdown",
   "metadata": {
    "cellId": "oziy1wnbfys7898sk5onhi"
   },
   "source": [
    "Исследуя \"ящик с усами\" для столбца \"rooms\", можно утверждать, что выбросов, превыщающих допустимый интервал (1,5 квартиля + третий квартиль) не очень много, об этом свидетельствует пустота кружочков, если бы выбросов было много, они бы сливались в единую линию, как это было с предыдущими исследуемыми колонками. Поэтому, если мы избавимся от выбросов, совсем немного данных будет утеряно, и они никак не повлияют на конечный результат. По гистограмме заметно что крайне мало квартир превышают 5 комнат. Я уберу все значения, где количество комнат превыщают 6, так как значение там стремится к 0. Добавлю срез к двум предыдущим. Как я и обговаривала ранее в проекте, количество комнат 0 я считаю приемлимым, так как таким образом могли описывать квартиру-студию."
   ]
  },
  {
   "cell_type": "code",
   "execution_count": 45,
   "metadata": {
    "cellId": "6v7xw5bzhkxy7yudmb0pwn"
   },
   "outputs": [
    {
     "data": {
      "text/plain": [
       "1    8036\n",
       "2    7863\n",
       "3    5562\n",
       "4     994\n",
       "5     217\n",
       "0     196\n",
       "6      50\n",
       "Name: rooms, dtype: int64"
      ]
     },
     "execution_count": 45,
     "metadata": {},
     "output_type": "execute_result"
    }
   ],
   "source": [
    "good_data = good_data.query('rooms <= 6')\n",
    "good_data['rooms'].value_counts()"
   ]
  },
  {
   "cell_type": "markdown",
   "metadata": {},
   "source": [
    "<div class=\"alert alert-danger\">\n",
    "<b>Комментарий ревьюера:</b>\n",
    "\n",
    "<s>Давай постараемся автоматизировать построение графиков через цикл `for`. \n",
    "    \n",
    "Почему это важно? \n",
    "    \n",
    "- экономим своё время\n",
    "- оптимизируем код\n",
    "- делаем работу презентабельнее\n",
    "    \n",
    "Выбери любой участок кода где это сделать целесообразнее всего.\n",
    "\n",
    "</div>"
   ]
  },
  {
   "cell_type": "markdown",
   "metadata": {},
   "source": [
    "<div class=\"alert alert-info\"> <b>Комментарий студента:</b> Вывела все графики сразу циклом for.</div>"
   ]
  },
  {
   "cell_type": "markdown",
   "metadata": {},
   "source": [
    "Построю более детальную гистограмму для высоты потолков, из-за выброса (100 метров), не видно разброс значений."
   ]
  },
  {
   "cell_type": "code",
   "execution_count": 1,
   "metadata": {},
   "outputs": [
    {
     "ename": "NameError",
     "evalue": "name 'data' is not defined",
     "output_type": "error",
     "traceback": [
      "\u001b[1;31m---------------------------------------------------------------------------\u001b[0m",
      "\u001b[1;31mNameError\u001b[0m                                 Traceback (most recent call last)",
      "\u001b[1;32m<ipython-input-1-b87224a4a499>\u001b[0m in \u001b[0;36m<module>\u001b[1;34m\u001b[0m\n\u001b[1;32m----> 1\u001b[1;33m \u001b[0mdata\u001b[0m\u001b[1;33m[\u001b[0m\u001b[1;34m'ceiling_height'\u001b[0m\u001b[1;33m]\u001b[0m\u001b[1;33m.\u001b[0m\u001b[0mhist\u001b[0m\u001b[1;33m(\u001b[0m\u001b[0mbins\u001b[0m \u001b[1;33m=\u001b[0m \u001b[1;36m10\u001b[0m\u001b[1;33m,\u001b[0m \u001b[0mrange\u001b[0m \u001b[1;33m=\u001b[0m \u001b[1;33m(\u001b[0m\u001b[1;36m0\u001b[0m\u001b[1;33m,\u001b[0m\u001b[1;36m5\u001b[0m\u001b[1;33m)\u001b[0m\u001b[1;33m)\u001b[0m\u001b[1;33m\u001b[0m\u001b[1;33m\u001b[0m\u001b[0m\n\u001b[0m",
      "\u001b[1;31mNameError\u001b[0m: name 'data' is not defined"
     ]
    }
   ],
   "source": [
    "data['ceiling_height'].hist(bins = 10, range = (0,5))\n",
    "plt.title('ceiling_height')"
   ]
  },
  {
   "cell_type": "markdown",
   "metadata": {
    "cellId": "0233m32irhpjiqwa29rfhn"
   },
   "source": [
    "В диаграмме размаха для столбца 'ceiling_height' видно несколько выбросов в диапазоне до 40, а так же один выброс 100, что и было максимальным значением. На гистограмме видно, что потолки выше 3,5 метров стремятся к 0. Поэтому в срез я добавлю только те значения, где высота потолков ниже 3,5 метров."
   ]
  },
  {
   "cell_type": "code",
   "execution_count": 49,
   "metadata": {
    "cellId": "j2rvuwxup6k122l5bnc6"
   },
   "outputs": [
    {
     "data": {
      "text/plain": [
       "22843   3.49\n",
       "22063   3.48\n",
       "17417   3.47\n",
       "18000   3.47\n",
       "5195    3.47\n",
       "Name: ceiling_height, dtype: float64"
      ]
     },
     "execution_count": 49,
     "metadata": {},
     "output_type": "execute_result"
    }
   ],
   "source": [
    "good_data = good_data.query('ceiling_height < 3.5')\n",
    "good_data['ceiling_height'].sort_values(ascending = False).head()"
   ]
  },
  {
   "cell_type": "markdown",
   "metadata": {
    "cellId": "gm2ze2b697iq82upvbwxgc"
   },
   "source": [
    "Теперь у меня есть отфильтрованная от выбросов в четырех колонках таблица с данными о недвижимости good_data. Выведу основную информацию по ней. Таблица очистилась более чем на 1000 строк."
   ]
  },
  {
   "cell_type": "code",
   "execution_count": 50,
   "metadata": {
    "cellId": "rbqvtvdnyb1nouhuzdx4"
   },
   "outputs": [
    {
     "name": "stdout",
     "output_type": "stream",
     "text": [
      "<class 'pandas.core.frame.DataFrame'>\n",
      "Int64Index: 22590 entries, 0 to 23698\n",
      "Data columns (total 32 columns):\n",
      " #   Column                Non-Null Count  Dtype         \n",
      "---  ------                --------------  -----         \n",
      " 0   total_images          22590 non-null  int64         \n",
      " 1   last_price            22590 non-null  float64       \n",
      " 2   total_area            22590 non-null  float64       \n",
      " 3   first_day_exposition  22590 non-null  datetime64[ns]\n",
      " 4   rooms                 22590 non-null  int64         \n",
      " 5   ceiling_height        22590 non-null  float64       \n",
      " 6   floors_total          22590 non-null  int64         \n",
      " 7   living_area           22590 non-null  float64       \n",
      " 8   floor                 22590 non-null  int64         \n",
      " 9   is_apartment          22590 non-null  bool          \n",
      " 10  studio                22590 non-null  bool          \n",
      " 11  open_plan             22590 non-null  bool          \n",
      " 12  kitchen_area          22590 non-null  float64       \n",
      " 13  balcony               22590 non-null  int64         \n",
      " 14  locality_name         22590 non-null  object        \n",
      " 15  airports_nearest      19946 non-null  float64       \n",
      " 16  city_centers_nearest  22590 non-null  float64       \n",
      " 17  parks_around3000      17235 non-null  float64       \n",
      " 18  parks_nearest         16625 non-null  float64       \n",
      " 19  ponds_around3000      17235 non-null  float64       \n",
      " 20  ponds_nearest         17130 non-null  float64       \n",
      " 21  days_exposition       22590 non-null  int64         \n",
      " 22  price_per_sq_m        22590 non-null  float64       \n",
      " 23  price_per_sq_m_group  22590 non-null  category      \n",
      " 24  floors_total_group    22590 non-null  category      \n",
      " 25  living_area_ratio     20805 non-null  float64       \n",
      " 26  kitchen_area_ratio    20425 non-null  float64       \n",
      " 27  last_price_bin        22590 non-null  category      \n",
      " 28  weekday               19157 non-null  object        \n",
      " 29  month                 22590 non-null  object        \n",
      " 30  year                  22590 non-null  int64         \n",
      " 31  floor_level           22590 non-null  object        \n",
      "dtypes: bool(3), category(3), datetime64[ns](1), float64(14), int64(7), object(4)\n",
      "memory usage: 4.8+ MB\n"
     ]
    }
   ],
   "source": [
    "good_data.info()"
   ]
  },
  {
   "cell_type": "markdown",
   "metadata": {
    "cellId": "rg8yv0vk16zw3xqynrtr8"
   },
   "source": [
    "### Время продажи квартиры"
   ]
  },
  {
   "cell_type": "markdown",
   "metadata": {
    "cellId": "9tw5vvlz80ll03gx97qcdr"
   },
   "source": [
    "В колонке 'days_exposition' хранится количество дней, которе объявление о продаже висело на сайте. Изучу время продажи квартиры. Построю гистограмму."
   ]
  },
  {
   "cell_type": "code",
   "execution_count": 51,
   "metadata": {
    "cellId": "bv4ob350c6gvwqthsr23zr"
   },
   "outputs": [
    {
     "data": {
      "text/plain": [
       "count   23699.00\n",
       "mean      171.10\n",
       "std       206.29\n",
       "min         1.00\n",
       "25%        45.00\n",
       "50%        96.00\n",
       "75%       202.00\n",
       "max      1580.00\n",
       "Name: days_exposition, dtype: float64"
      ]
     },
     "execution_count": 51,
     "metadata": {},
     "output_type": "execute_result"
    }
   ],
   "source": [
    "data['days_exposition'].describe()"
   ]
  },
  {
   "cell_type": "code",
   "execution_count": 52,
   "metadata": {
    "cellId": "xp1k0zmwmps9assnm3od5e"
   },
   "outputs": [
    {
     "data": {
      "text/plain": [
       "<AxesSubplot:>"
      ]
     },
     "execution_count": 52,
     "metadata": {},
     "output_type": "execute_result"
    },
    {
     "data": {
      "image/png": "[encoded data removed]",
      "text/plain": [
       "<Figure size 432x288 with 1 Axes>"
      ]
     },
     "metadata": {
      "needs_background": "light"
     },
     "output_type": "display_data"
    }
   ],
   "source": [
    "data['days_exposition'].hist(bins = 50)"
   ]
  },
  {
   "cell_type": "markdown",
   "metadata": {
    "cellId": "rutaz8xm0xfkl0tjt55bp"
   },
   "source": [
    "Гистограмма показывает нисходящее распределение, большинство квартир распродаются в период до 100 дней."
   ]
  },
  {
   "cell_type": "code",
   "execution_count": 53,
   "metadata": {
    "cellId": "s0f8566gxj3f2mi51uu4s"
   },
   "outputs": [
    {
     "data": {
      "text/plain": [
       "<AxesSubplot:>"
      ]
     },
     "execution_count": 53,
     "metadata": {},
     "output_type": "execute_result"
    },
    {
     "data": {
      "image/png": "[encoded data removed]",
      "text/plain": [
       "<Figure size 432x288 with 1 Axes>"
      ]
     },
     "metadata": {
      "needs_background": "light"
     },
     "output_type": "display_data"
    }
   ],
   "source": [
    "data.boxplot('days_exposition')"
   ]
  },
  {
   "cell_type": "markdown",
   "metadata": {
    "cellId": "7ij675rixsrgp7fiwjqooi"
   },
   "source": [
    "Исходя из анализа полученных данных, среднее время продажи квартиры - 171 день, медианное время продажи - 96 дней. Продажу предлагается считать быстрой, если она состоялась в первые 45 дней с момента публикации объявления. Долгой продажу предлагается считать в том случае, если её время составляет более 202 дней (в соответствии с квартилями значений столбца)."
   ]
  },
  {
   "cell_type": "markdown",
   "metadata": {
    "cellId": "vjf2hkc9hmcbvaq5hj08d9"
   },
   "source": [
    "### Отброс аномальных значений"
   ]
  },
  {
   "cell_type": "markdown",
   "metadata": {
    "cellId": "1xyaw7vek21kbb5ju4v3lr"
   },
   "source": [
    "Некоторые столбцы я исследовала на наличие выбросов выше. Был составлен срез данных good_data. Необходимо проанализирровать и другие столбцы на наличие аномалий и добавить в этот же срез. Если вернуться к столбцу количества дней, пока объявление висело на сайте, на гистограмме можно увидеть, что после 1000 дней количество объявлений минимально, можно отбросить эти значения."
   ]
  },
  {
   "cell_type": "code",
   "execution_count": 54,
   "metadata": {
    "cellId": "6spkn3jcriaa2ipjzg48ut"
   },
   "outputs": [],
   "source": [
    "good_data = good_data.query('days_exposition < 1000')"
   ]
  },
  {
   "cell_type": "markdown",
   "metadata": {
    "cellId": "8paokrj0fqw4jvahd5d6a7"
   },
   "source": [
    "Продолжу исследования других столбцов."
   ]
  },
  {
   "cell_type": "code",
   "execution_count": 55,
   "metadata": {
    "cellId": "wgiva7botaem904ffoiqw"
   },
   "outputs": [
    {
     "data": {
      "text/plain": [
       "count   23699.00\n",
       "mean       10.67\n",
       "std         6.59\n",
       "min         1.00\n",
       "25%         5.00\n",
       "50%         9.00\n",
       "75%        16.00\n",
       "max        60.00\n",
       "Name: floors_total, dtype: float64"
      ]
     },
     "execution_count": 55,
     "metadata": {},
     "output_type": "execute_result"
    }
   ],
   "source": [
    "data['floors_total'].describe()"
   ]
  },
  {
   "cell_type": "markdown",
   "metadata": {
    "cellId": "yrvow46403a8v20be55izy"
   },
   "source": [
    "Согласно общедоступной информации, самое высокое жилое здание в Санкт-Петербурге и его окрестностях состоит из 37 этажей. Поэтому я отберу все значения в столбце, которые меньше 37 и включу в срез good_data."
   ]
  },
  {
   "cell_type": "code",
   "execution_count": 56,
   "metadata": {
    "cellId": "x4zer6a3kobfvybvgugdf"
   },
   "outputs": [
    {
     "data": {
      "text/html": [
       "<div>\n",
       "<style scoped>\n",
       "    .dataframe tbody tr th:only-of-type {\n",
       "        vertical-align: middle;\n",
       "    }\n",
       "\n",
       "    .dataframe tbody tr th {\n",
       "        vertical-align: top;\n",
       "    }\n",
       "\n",
       "    .dataframe thead th {\n",
       "        text-align: right;\n",
       "    }\n",
       "</style>\n",
       "<table border=\"1\" class=\"dataframe\">\n",
       "  <thead>\n",
       "    <tr style=\"text-align: right;\">\n",
       "      <th></th>\n",
       "      <th>total_images</th>\n",
       "      <th>last_price</th>\n",
       "      <th>total_area</th>\n",
       "      <th>first_day_exposition</th>\n",
       "      <th>rooms</th>\n",
       "      <th>ceiling_height</th>\n",
       "      <th>floors_total</th>\n",
       "      <th>living_area</th>\n",
       "      <th>floor</th>\n",
       "      <th>is_apartment</th>\n",
       "      <th>...</th>\n",
       "      <th>price_per_sq_m</th>\n",
       "      <th>price_per_sq_m_group</th>\n",
       "      <th>floors_total_group</th>\n",
       "      <th>living_area_ratio</th>\n",
       "      <th>kitchen_area_ratio</th>\n",
       "      <th>last_price_bin</th>\n",
       "      <th>weekday</th>\n",
       "      <th>month</th>\n",
       "      <th>year</th>\n",
       "      <th>floor_level</th>\n",
       "    </tr>\n",
       "  </thead>\n",
       "  <tbody>\n",
       "    <tr>\n",
       "      <th>2253</th>\n",
       "      <td>12</td>\n",
       "      <td>3800000.00</td>\n",
       "      <td>45.50</td>\n",
       "      <td>2018-06-28</td>\n",
       "      <td>2</td>\n",
       "      <td>2.88</td>\n",
       "      <td>60</td>\n",
       "      <td>27.40</td>\n",
       "      <td>4</td>\n",
       "      <td>False</td>\n",
       "      <td>...</td>\n",
       "      <td>83516.48</td>\n",
       "      <td>(80865.346, 88235.294]</td>\n",
       "      <td>(12.0, 60.0]</td>\n",
       "      <td>0.60</td>\n",
       "      <td>0.16</td>\n",
       "      <td>(3700000.0, 3800000.0]</td>\n",
       "      <td>Среда</td>\n",
       "      <td>Июнь</td>\n",
       "      <td>2018</td>\n",
       "      <td>Другой</td>\n",
       "    </tr>\n",
       "    <tr>\n",
       "      <th>16731</th>\n",
       "      <td>9</td>\n",
       "      <td>3978000.00</td>\n",
       "      <td>40.00</td>\n",
       "      <td>2018-09-24</td>\n",
       "      <td>1</td>\n",
       "      <td>2.65</td>\n",
       "      <td>52</td>\n",
       "      <td>10.50</td>\n",
       "      <td>18</td>\n",
       "      <td>False</td>\n",
       "      <td>...</td>\n",
       "      <td>99450.00</td>\n",
       "      <td>(95000.0, 101470.588]</td>\n",
       "      <td>(12.0, 60.0]</td>\n",
       "      <td>0.26</td>\n",
       "      <td>0.35</td>\n",
       "      <td>(3975800.0, 4000000.0]</td>\n",
       "      <td>None</td>\n",
       "      <td>Сентябрь</td>\n",
       "      <td>2018</td>\n",
       "      <td>Другой</td>\n",
       "    </tr>\n",
       "  </tbody>\n",
       "</table>\n",
       "<p>2 rows × 32 columns</p>\n",
       "</div>"
      ],
      "text/plain": [
       "       total_images  last_price  total_area first_day_exposition  rooms  \\\n",
       "2253             12  3800000.00       45.50           2018-06-28      2   \n",
       "16731             9  3978000.00       40.00           2018-09-24      1   \n",
       "\n",
       "       ceiling_height  floors_total  living_area  floor  is_apartment  ...  \\\n",
       "2253             2.88            60        27.40      4         False  ...   \n",
       "16731            2.65            52        10.50     18         False  ...   \n",
       "\n",
       "       price_per_sq_m    price_per_sq_m_group  floors_total_group  \\\n",
       "2253         83516.48  (80865.346, 88235.294]        (12.0, 60.0]   \n",
       "16731        99450.00   (95000.0, 101470.588]        (12.0, 60.0]   \n",
       "\n",
       "       living_area_ratio kitchen_area_ratio          last_price_bin  weekday  \\\n",
       "2253                0.60               0.16  (3700000.0, 3800000.0]    Среда   \n",
       "16731               0.26               0.35  (3975800.0, 4000000.0]     None   \n",
       "\n",
       "          month  year  floor_level  \n",
       "2253       Июнь  2018       Другой  \n",
       "16731  Сентябрь  2018       Другой  \n",
       "\n",
       "[2 rows x 32 columns]"
      ]
     },
     "execution_count": 56,
     "metadata": {},
     "output_type": "execute_result"
    }
   ],
   "source": [
    "data.query('floors_total>37')"
   ]
  },
  {
   "cell_type": "code",
   "execution_count": 57,
   "metadata": {
    "cellId": "djia8zyzbni8jue08ls6og"
   },
   "outputs": [],
   "source": [
    "good_data = good_data.query('floors_total <= 37')"
   ]
  },
  {
   "cell_type": "code",
   "execution_count": 58,
   "metadata": {
    "cellId": "0wgjsd5thcobaswn0jy1ygi"
   },
   "outputs": [
    {
     "data": {
      "text/plain": [
       "count   23699.00\n",
       "mean        5.89\n",
       "std         4.89\n",
       "min         1.00\n",
       "25%         2.00\n",
       "50%         4.00\n",
       "75%         8.00\n",
       "max        33.00\n",
       "Name: floor, dtype: float64"
      ]
     },
     "execution_count": 58,
     "metadata": {},
     "output_type": "execute_result"
    }
   ],
   "source": [
    "data['floor'].describe()"
   ]
  },
  {
   "cell_type": "code",
   "execution_count": 59,
   "metadata": {
    "cellId": "7yeljgnga57vekbdibxe3"
   },
   "outputs": [
    {
     "data": {
      "text/plain": [
       "<AxesSubplot:>"
      ]
     },
     "execution_count": 59,
     "metadata": {},
     "output_type": "execute_result"
    },
    {
     "data": {
      "image/png": "[encoded data removed]",
      "text/plain": [
       "<Figure size 432x288 with 1 Axes>"
      ]
     },
     "metadata": {
      "needs_background": "light"
     },
     "output_type": "display_data"
    }
   ],
   "source": [
    "data.boxplot('balcony')"
   ]
  },
  {
   "cell_type": "markdown",
   "metadata": {
    "cellId": "bp91f22b92ucazbi529egm"
   },
   "source": [
    "Количество балконов 3 и более - выбросы. Поэтому исключим эти значения из good_data."
   ]
  },
  {
   "cell_type": "code",
   "execution_count": 60,
   "metadata": {
    "cellId": "t6frvuo8dapicmkck3wx"
   },
   "outputs": [],
   "source": [
    "good_data = good_data.query('balcony < 3')"
   ]
  },
  {
   "cell_type": "code",
   "execution_count": 61,
   "metadata": {
    "cellId": "5gfmavb9bkwcp3ye30quru"
   },
   "outputs": [
    {
     "name": "stdout",
     "output_type": "stream",
     "text": [
      "<class 'pandas.core.frame.DataFrame'>\n",
      "Int64Index: 21821 entries, 0 to 23698\n",
      "Data columns (total 32 columns):\n",
      " #   Column                Non-Null Count  Dtype         \n",
      "---  ------                --------------  -----         \n",
      " 0   total_images          21821 non-null  int64         \n",
      " 1   last_price            21821 non-null  float64       \n",
      " 2   total_area            21821 non-null  float64       \n",
      " 3   first_day_exposition  21821 non-null  datetime64[ns]\n",
      " 4   rooms                 21821 non-null  int64         \n",
      " 5   ceiling_height        21821 non-null  float64       \n",
      " 6   floors_total          21821 non-null  int64         \n",
      " 7   living_area           21821 non-null  float64       \n",
      " 8   floor                 21821 non-null  int64         \n",
      " 9   is_apartment          21821 non-null  bool          \n",
      " 10  studio                21821 non-null  bool          \n",
      " 11  open_plan             21821 non-null  bool          \n",
      " 12  kitchen_area          21821 non-null  float64       \n",
      " 13  balcony               21821 non-null  int64         \n",
      " 14  locality_name         21821 non-null  object        \n",
      " 15  airports_nearest      19237 non-null  float64       \n",
      " 16  city_centers_nearest  21821 non-null  float64       \n",
      " 17  parks_around3000      16621 non-null  float64       \n",
      " 18  parks_nearest         16035 non-null  float64       \n",
      " 19  ponds_around3000      16621 non-null  float64       \n",
      " 20  ponds_nearest         16524 non-null  float64       \n",
      " 21  days_exposition       21821 non-null  int64         \n",
      " 22  price_per_sq_m        21821 non-null  float64       \n",
      " 23  price_per_sq_m_group  21821 non-null  category      \n",
      " 24  floors_total_group    21821 non-null  category      \n",
      " 25  living_area_ratio     20083 non-null  float64       \n",
      " 26  kitchen_area_ratio    19684 non-null  float64       \n",
      " 27  last_price_bin        21821 non-null  category      \n",
      " 28  weekday               18516 non-null  object        \n",
      " 29  month                 21821 non-null  object        \n",
      " 30  year                  21821 non-null  int64         \n",
      " 31  floor_level           21821 non-null  object        \n",
      "dtypes: bool(3), category(3), datetime64[ns](1), float64(14), int64(7), object(4)\n",
      "memory usage: 4.6+ MB\n"
     ]
    }
   ],
   "source": [
    "good_data.info()"
   ]
  },
  {
   "cell_type": "markdown",
   "metadata": {
    "cellId": "dfc528qzw9wsspp3fbg58"
   },
   "source": [
    "### Влияние на стоимость квартиры"
   ]
  },
  {
   "cell_type": "markdown",
   "metadata": {
    "cellId": "ky23bu5nkdr8ksysh0jmau"
   },
   "source": [
    "Какая из количественных переменных является фактором, влияющим больше всего на стоимость квартиры можно узнать используя Phik (показывает коэффициенты корреляции между столбцами). (Не материал Практикума, разбирали на вебинаре с наставником)."
   ]
  },
  {
   "cell_type": "code",
   "execution_count": 62,
   "metadata": {
    "cellId": "kbvcjx2shuqqf1dc109fa"
   },
   "outputs": [
    {
     "name": "stdout",
     "output_type": "stream",
     "text": [
      "Collecting phik\n",
      "  Downloading phik-0.12.0-cp38-cp38-win_amd64.whl (659 kB)\n",
      "Requirement already satisfied: numpy>=1.18.0 in c:\\users\\msofia\\anaconda3\\lib\\site-packages (from phik) (1.20.1)\n",
      "Requirement already satisfied: scipy>=1.5.2 in c:\\users\\msofia\\anaconda3\\lib\\site-packages (from phik) (1.6.2)\n",
      "Requirement already satisfied: matplotlib>=2.2.3 in c:\\users\\msofia\\anaconda3\\lib\\site-packages (from phik) (3.3.4)\n",
      "Requirement already satisfied: joblib>=0.14.1 in c:\\users\\msofia\\anaconda3\\lib\\site-packages (from phik) (1.0.1)\n",
      "Requirement already satisfied: pandas>=0.25.1 in c:\\users\\msofia\\anaconda3\\lib\\site-packages (from phik) (1.2.4)\n",
      "Requirement already satisfied: pyparsing!=2.0.4,!=2.1.2,!=2.1.6,>=2.0.3 in c:\\users\\msofia\\anaconda3\\lib\\site-packages (from matplotlib>=2.2.3->phik) (2.4.7)\n",
      "Requirement already satisfied: pillow>=6.2.0 in c:\\users\\msofia\\anaconda3\\lib\\site-packages (from matplotlib>=2.2.3->phik) (8.2.0)\n",
      "Requirement already satisfied: kiwisolver>=1.0.1 in c:\\users\\msofia\\anaconda3\\lib\\site-packages (from matplotlib>=2.2.3->phik) (1.3.1)\n",
      "Requirement already satisfied: python-dateutil>=2.1 in c:\\users\\msofia\\anaconda3\\lib\\site-packages (from matplotlib>=2.2.3->phik) (2.8.1)\n",
      "Requirement already satisfied: cycler>=0.10 in c:\\users\\msofia\\anaconda3\\lib\\site-packages (from matplotlib>=2.2.3->phik) (0.10.0)\n",
      "Requirement already satisfied: six in c:\\users\\msofia\\anaconda3\\lib\\site-packages (from cycler>=0.10->matplotlib>=2.2.3->phik) (1.15.0)\n",
      "Requirement already satisfied: pytz>=2017.3 in c:\\users\\msofia\\anaconda3\\lib\\site-packages (from pandas>=0.25.1->phik) (2021.1)\n",
      "Installing collected packages: phik\n",
      "Successfully installed phik-0.12.0\n",
      "Note: you may need to restart the kernel to use updated packages.\n"
     ]
    }
   ],
   "source": [
    "%pip install phik\n",
    "import phik\n",
    "from phik.report import plot_correlation_matrix\n",
    "from phik import report"
   ]
  },
  {
   "cell_type": "code",
   "execution_count": 63,
   "metadata": {
    "cellId": "22dbu2ul5jnayyl1j2773s"
   },
   "outputs": [
    {
     "data": {
      "text/html": [
       "<div>\n",
       "<style scoped>\n",
       "    .dataframe tbody tr th:only-of-type {\n",
       "        vertical-align: middle;\n",
       "    }\n",
       "\n",
       "    .dataframe tbody tr th {\n",
       "        vertical-align: top;\n",
       "    }\n",
       "\n",
       "    .dataframe thead th {\n",
       "        text-align: right;\n",
       "    }\n",
       "</style>\n",
       "<table border=\"1\" class=\"dataframe\">\n",
       "  <thead>\n",
       "    <tr style=\"text-align: right;\">\n",
       "      <th></th>\n",
       "      <th>last_price</th>\n",
       "      <th>total_area</th>\n",
       "      <th>rooms</th>\n",
       "      <th>ceiling_height</th>\n",
       "      <th>floor</th>\n",
       "      <th>floors_total</th>\n",
       "      <th>city_centers_nearest</th>\n",
       "    </tr>\n",
       "  </thead>\n",
       "  <tbody>\n",
       "    <tr>\n",
       "      <th>0</th>\n",
       "      <td>13000000.00</td>\n",
       "      <td>108.00</td>\n",
       "      <td>3</td>\n",
       "      <td>2.70</td>\n",
       "      <td>8</td>\n",
       "      <td>16</td>\n",
       "      <td>16028.00</td>\n",
       "    </tr>\n",
       "    <tr>\n",
       "      <th>1</th>\n",
       "      <td>3350000.00</td>\n",
       "      <td>40.40</td>\n",
       "      <td>1</td>\n",
       "      <td>2.60</td>\n",
       "      <td>1</td>\n",
       "      <td>11</td>\n",
       "      <td>18603.00</td>\n",
       "    </tr>\n",
       "    <tr>\n",
       "      <th>2</th>\n",
       "      <td>5196000.00</td>\n",
       "      <td>56.00</td>\n",
       "      <td>2</td>\n",
       "      <td>2.60</td>\n",
       "      <td>4</td>\n",
       "      <td>5</td>\n",
       "      <td>13933.00</td>\n",
       "    </tr>\n",
       "    <tr>\n",
       "      <th>4</th>\n",
       "      <td>10000000.00</td>\n",
       "      <td>100.00</td>\n",
       "      <td>2</td>\n",
       "      <td>3.03</td>\n",
       "      <td>13</td>\n",
       "      <td>14</td>\n",
       "      <td>8098.00</td>\n",
       "    </tr>\n",
       "    <tr>\n",
       "      <th>5</th>\n",
       "      <td>2890000.00</td>\n",
       "      <td>30.40</td>\n",
       "      <td>1</td>\n",
       "      <td>2.60</td>\n",
       "      <td>5</td>\n",
       "      <td>12</td>\n",
       "      <td>13552.00</td>\n",
       "    </tr>\n",
       "  </tbody>\n",
       "</table>\n",
       "</div>"
      ],
      "text/plain": [
       "   last_price  total_area  rooms  ceiling_height  floor  floors_total  \\\n",
       "0 13000000.00      108.00      3            2.70      8            16   \n",
       "1  3350000.00       40.40      1            2.60      1            11   \n",
       "2  5196000.00       56.00      2            2.60      4             5   \n",
       "4 10000000.00      100.00      2            3.03     13            14   \n",
       "5  2890000.00       30.40      1            2.60      5            12   \n",
       "\n",
       "   city_centers_nearest  \n",
       "0              16028.00  \n",
       "1              18603.00  \n",
       "2              13933.00  \n",
       "4               8098.00  \n",
       "5              13552.00  "
      ]
     },
     "execution_count": 63,
     "metadata": {},
     "output_type": "execute_result"
    }
   ],
   "source": [
    "cols_to_keep = [\"last_price\", \"total_area\", \"rooms\", \"ceiling_height\",\n",
    "                \"floor\", \"floors_total\", \"city_centers_nearest\"]\n",
    "data_phik = good_data[cols_to_keep]\n",
    "data_phik.head()"
   ]
  },
  {
   "cell_type": "code",
   "execution_count": 64,
   "metadata": {
    "cellId": "7jvjqr9sec9hdg10m1z9ih"
   },
   "outputs": [],
   "source": [
    "phik_overview = data_phik.phik_matrix(interval_cols=cols_to_keep)"
   ]
  },
  {
   "cell_type": "code",
   "execution_count": 65,
   "metadata": {
    "cellId": "g4mmiywfl0levp2g0b0eh9"
   },
   "outputs": [
    {
     "data": {
      "image/png": "[encoded data removed]",
      "text/plain": [
       "<Figure size 720x576 with 2 Axes>"
      ]
     },
     "metadata": {
      "needs_background": "light"
     },
     "output_type": "display_data"
    }
   ],
   "source": [
    "plot_correlation_matrix(phik_overview.values, \n",
    "                        x_labels=phik_overview.columns, \n",
    "                        y_labels=phik_overview.index, \n",
    "                        vmin=0, vmax=1, color_map=\"Greens\", \n",
    "                        title=r\"correlation $\\phi_K$\", \n",
    "                        fontsize_factor=1.5, \n",
    "                        figsize=(10, 8))\n",
    "plt.tight_layout()"
   ]
  },
  {
   "cell_type": "markdown",
   "metadata": {
    "cellId": "3nhvw7cbda28xfv4qhdiyh"
   },
   "source": [
    "### Вывод Phik\n",
    "Из количественных переменных больше всего влияет на стоимость квартиры общая площадь квартиры. Следующий по силе влияния фактор - удаленность от центра."
   ]
  },
  {
   "cell_type": "markdown",
   "metadata": {},
   "source": [
    "<div class=\"alert alert-success\">\n",
    "<b>Комментарий ревьюера:</b>\n",
    "\n",
    "Интересная библиотека 😊\n",
    "    \n",
    "---\n",
    "    \n",
    "Думаю стоит тебе также посмотреть библиотеку `seaborn`, там кстати тоже есть тепловая карта в методе `heatmap`. \n",
    "    \n",
    "</div>"
   ]
  },
  {
   "cell_type": "markdown",
   "metadata": {
    "cellId": "mtnbkpe2a1au0xy0rjeb8"
   },
   "source": [
    "Для исследования зависимости между стоимостью  недвижимости и категориальными переменными, буду использовать сводную таблицу."
   ]
  },
  {
   "cell_type": "code",
   "execution_count": 66,
   "metadata": {
    "cellId": "l4h0vm6vt2rzyx9ttdmrj8"
   },
   "outputs": [
    {
     "data": {
      "text/html": [
       "<div>\n",
       "<style scoped>\n",
       "    .dataframe tbody tr th:only-of-type {\n",
       "        vertical-align: middle;\n",
       "    }\n",
       "\n",
       "    .dataframe tbody tr th {\n",
       "        vertical-align: top;\n",
       "    }\n",
       "\n",
       "    .dataframe thead th {\n",
       "        text-align: right;\n",
       "    }\n",
       "</style>\n",
       "<table border=\"1\" class=\"dataframe\">\n",
       "  <thead>\n",
       "    <tr style=\"text-align: right;\">\n",
       "      <th></th>\n",
       "      <th>last_price</th>\n",
       "    </tr>\n",
       "    <tr>\n",
       "      <th>floor_level</th>\n",
       "      <th></th>\n",
       "    </tr>\n",
       "  </thead>\n",
       "  <tbody>\n",
       "    <tr>\n",
       "      <th>Другой</th>\n",
       "      <td>4650000.00</td>\n",
       "    </tr>\n",
       "    <tr>\n",
       "      <th>Первый</th>\n",
       "      <td>3850000.00</td>\n",
       "    </tr>\n",
       "    <tr>\n",
       "      <th>Последний</th>\n",
       "      <td>4100000.00</td>\n",
       "    </tr>\n",
       "  </tbody>\n",
       "</table>\n",
       "</div>"
      ],
      "text/plain": [
       "             last_price\n",
       "floor_level            \n",
       "Другой       4650000.00\n",
       "Первый       3850000.00\n",
       "Последний    4100000.00"
      ]
     },
     "execution_count": 66,
     "metadata": {},
     "output_type": "execute_result"
    }
   ],
   "source": [
    "good_data.pivot_table(index = 'floor_level', values = 'last_price', aggfunc = 'median')"
   ]
  },
  {
   "cell_type": "markdown",
   "metadata": {
    "cellId": "r8z4raet8rre8vuwb8w3de"
   },
   "source": [
    "Стоимость выше на последнем этаже, чем на первом. Но также можно увидеть, что медианная стоимость на других этажах еще выше. Поэтому буду считать, что зависимости нет."
   ]
  },
  {
   "cell_type": "code",
   "execution_count": 67,
   "metadata": {
    "cellId": "2b9rmz0dms93behmir44jq"
   },
   "outputs": [
    {
     "data": {
      "text/html": [
       "<div>\n",
       "<style scoped>\n",
       "    .dataframe tbody tr th:only-of-type {\n",
       "        vertical-align: middle;\n",
       "    }\n",
       "\n",
       "    .dataframe tbody tr th {\n",
       "        vertical-align: top;\n",
       "    }\n",
       "\n",
       "    .dataframe thead th {\n",
       "        text-align: right;\n",
       "    }\n",
       "</style>\n",
       "<table border=\"1\" class=\"dataframe\">\n",
       "  <thead>\n",
       "    <tr style=\"text-align: right;\">\n",
       "      <th></th>\n",
       "      <th>last_price</th>\n",
       "    </tr>\n",
       "    <tr>\n",
       "      <th>weekday</th>\n",
       "      <th></th>\n",
       "    </tr>\n",
       "  </thead>\n",
       "  <tbody>\n",
       "    <tr>\n",
       "      <th>Пятница</th>\n",
       "      <td>4450000.00</td>\n",
       "    </tr>\n",
       "    <tr>\n",
       "      <th>Суббота</th>\n",
       "      <td>4450000.00</td>\n",
       "    </tr>\n",
       "    <tr>\n",
       "      <th>Четверг</th>\n",
       "      <td>4450000.00</td>\n",
       "    </tr>\n",
       "    <tr>\n",
       "      <th>Среда</th>\n",
       "      <td>4499000.00</td>\n",
       "    </tr>\n",
       "    <tr>\n",
       "      <th>Вторник</th>\n",
       "      <td>4500000.00</td>\n",
       "    </tr>\n",
       "    <tr>\n",
       "      <th>Понедельник</th>\n",
       "      <td>4550000.00</td>\n",
       "    </tr>\n",
       "  </tbody>\n",
       "</table>\n",
       "</div>"
      ],
      "text/plain": [
       "             last_price\n",
       "weekday                \n",
       "Пятница      4450000.00\n",
       "Суббота      4450000.00\n",
       "Четверг      4450000.00\n",
       "Среда        4499000.00\n",
       "Вторник      4500000.00\n",
       "Понедельник  4550000.00"
      ]
     },
     "execution_count": 67,
     "metadata": {},
     "output_type": "execute_result"
    }
   ],
   "source": [
    "good_data.pivot_table(index = 'weekday',values = 'last_price', aggfunc = 'median').sort_values('last_price')"
   ]
  },
  {
   "cell_type": "markdown",
   "metadata": {
    "cellId": "mmftsb8nu8cwdhrc202w1f"
   },
   "source": [
    "В целом, стоимость не зависит от размещения в определенный день недели. Чуть выше стоимость в понедельник, но я не считаю день недели сильным фактором."
   ]
  },
  {
   "cell_type": "code",
   "execution_count": 68,
   "metadata": {
    "cellId": "s6z4hoc82pnvfnce4k6dp9"
   },
   "outputs": [
    {
     "data": {
      "text/html": [
       "<div>\n",
       "<style scoped>\n",
       "    .dataframe tbody tr th:only-of-type {\n",
       "        vertical-align: middle;\n",
       "    }\n",
       "\n",
       "    .dataframe tbody tr th {\n",
       "        vertical-align: top;\n",
       "    }\n",
       "\n",
       "    .dataframe thead th {\n",
       "        text-align: right;\n",
       "    }\n",
       "</style>\n",
       "<table border=\"1\" class=\"dataframe\">\n",
       "  <thead>\n",
       "    <tr style=\"text-align: right;\">\n",
       "      <th></th>\n",
       "      <th>last_price</th>\n",
       "    </tr>\n",
       "    <tr>\n",
       "      <th>month</th>\n",
       "      <th></th>\n",
       "    </tr>\n",
       "  </thead>\n",
       "  <tbody>\n",
       "    <tr>\n",
       "      <th>Июнь</th>\n",
       "      <td>4250000.00</td>\n",
       "    </tr>\n",
       "    <tr>\n",
       "      <th>Июль</th>\n",
       "      <td>4440000.00</td>\n",
       "    </tr>\n",
       "    <tr>\n",
       "      <th>Май</th>\n",
       "      <td>4450000.00</td>\n",
       "    </tr>\n",
       "    <tr>\n",
       "      <th>Август</th>\n",
       "      <td>4482900.00</td>\n",
       "    </tr>\n",
       "    <tr>\n",
       "      <th>Февраль</th>\n",
       "      <td>4490000.00</td>\n",
       "    </tr>\n",
       "    <tr>\n",
       "      <th>Январь</th>\n",
       "      <td>4499000.00</td>\n",
       "    </tr>\n",
       "    <tr>\n",
       "      <th>Декабрь</th>\n",
       "      <td>4500000.00</td>\n",
       "    </tr>\n",
       "    <tr>\n",
       "      <th>Март</th>\n",
       "      <td>4500000.00</td>\n",
       "    </tr>\n",
       "    <tr>\n",
       "      <th>Ноябрь</th>\n",
       "      <td>4500000.00</td>\n",
       "    </tr>\n",
       "    <tr>\n",
       "      <th>Октябрь</th>\n",
       "      <td>4500000.00</td>\n",
       "    </tr>\n",
       "    <tr>\n",
       "      <th>Сентябрь</th>\n",
       "      <td>4500000.00</td>\n",
       "    </tr>\n",
       "    <tr>\n",
       "      <th>Апрель</th>\n",
       "      <td>4650000.00</td>\n",
       "    </tr>\n",
       "  </tbody>\n",
       "</table>\n",
       "</div>"
      ],
      "text/plain": [
       "          last_price\n",
       "month               \n",
       "Июнь      4250000.00\n",
       "Июль      4440000.00\n",
       "Май       4450000.00\n",
       "Август    4482900.00\n",
       "Февраль   4490000.00\n",
       "Январь    4499000.00\n",
       "Декабрь   4500000.00\n",
       "Март      4500000.00\n",
       "Ноябрь    4500000.00\n",
       "Октябрь   4500000.00\n",
       "Сентябрь  4500000.00\n",
       "Апрель    4650000.00"
      ]
     },
     "execution_count": 68,
     "metadata": {},
     "output_type": "execute_result"
    }
   ],
   "source": [
    "good_data.pivot_table(index = 'month',values = 'last_price', aggfunc = 'median').sort_values('last_price')"
   ]
  },
  {
   "cell_type": "markdown",
   "metadata": {},
   "source": [
    "<div class=\"alert alert-success\">\n",
    "<b>Комментарий ревьюера:</b>\n",
    "\n",
    "Классная идея была категоризовать текст английский в русский, это было бы удобно для коллег.\n",
    "    \n",
    "Единственное, что нам нужно также поправить – это сортировку, можно это сделать так:\n",
    "    \n",
    "01_Январь\n",
    "    \n",
    "02_Февраль\n",
    "    \n",
    "Это как пример.\n",
    "    \n",
    "</div>"
   ]
  },
  {
   "cell_type": "markdown",
   "metadata": {
    "cellId": "mu0fapz8vrezr2d9nfwydp"
   },
   "source": [
    "В юном месяце апреле медианная стоимость жилья выше, чем в другие месяца. Но различие незначительное, поэтому месяц - не влияющий фактор."
   ]
  },
  {
   "cell_type": "code",
   "execution_count": 69,
   "metadata": {
    "cellId": "hcall0k4yvkanwaltmb5j"
   },
   "outputs": [
    {
     "data": {
      "text/html": [
       "<div>\n",
       "<style scoped>\n",
       "    .dataframe tbody tr th:only-of-type {\n",
       "        vertical-align: middle;\n",
       "    }\n",
       "\n",
       "    .dataframe tbody tr th {\n",
       "        vertical-align: top;\n",
       "    }\n",
       "\n",
       "    .dataframe thead th {\n",
       "        text-align: right;\n",
       "    }\n",
       "</style>\n",
       "<table border=\"1\" class=\"dataframe\">\n",
       "  <thead>\n",
       "    <tr style=\"text-align: right;\">\n",
       "      <th></th>\n",
       "      <th>last_price</th>\n",
       "    </tr>\n",
       "    <tr>\n",
       "      <th>year</th>\n",
       "      <th></th>\n",
       "    </tr>\n",
       "  </thead>\n",
       "  <tbody>\n",
       "    <tr>\n",
       "      <th>2017</th>\n",
       "      <td>4350000.00</td>\n",
       "    </tr>\n",
       "    <tr>\n",
       "      <th>2016</th>\n",
       "      <td>4370000.00</td>\n",
       "    </tr>\n",
       "    <tr>\n",
       "      <th>2018</th>\n",
       "      <td>4476500.00</td>\n",
       "    </tr>\n",
       "    <tr>\n",
       "      <th>2019</th>\n",
       "      <td>4900000.00</td>\n",
       "    </tr>\n",
       "    <tr>\n",
       "      <th>2015</th>\n",
       "      <td>4980000.00</td>\n",
       "    </tr>\n",
       "    <tr>\n",
       "      <th>2014</th>\n",
       "      <td>6950000.00</td>\n",
       "    </tr>\n",
       "  </tbody>\n",
       "</table>\n",
       "</div>"
      ],
      "text/plain": [
       "      last_price\n",
       "year            \n",
       "2017  4350000.00\n",
       "2016  4370000.00\n",
       "2018  4476500.00\n",
       "2019  4900000.00\n",
       "2015  4980000.00\n",
       "2014  6950000.00"
      ]
     },
     "execution_count": 69,
     "metadata": {},
     "output_type": "execute_result"
    }
   ],
   "source": [
    "good_data.pivot_table(index = 'year',values = 'last_price', aggfunc = 'median').sort_values('last_price')"
   ]
  },
  {
   "cell_type": "markdown",
   "metadata": {
    "cellId": "xtpwqu6l03p84wusgi1jfo"
   },
   "source": [
    "Медианная стоимость жилья в 2014 году была выше, чем в другие года. Год является влияющим фактором на стоимость недвижимости. Скорее всего, это связано с резким изменением курса рубля в том году."
   ]
  },
  {
   "cell_type": "markdown",
   "metadata": {
    "cellId": "0rwjpejh9aoscljdl7k7wsv"
   },
   "source": [
    "### Вывод\n",
    "На стоимость квартиры больше всего влияет общая площадь квартиры, удаленность от центра и год размещения объявления."
   ]
  },
  {
   "cell_type": "markdown",
   "metadata": {
    "cellId": "4fbljr76cwr97zecmawwgr"
   },
   "source": [
    "### Топ 10 населенных пунктов с наибольшим количеством объявлений"
   ]
  },
  {
   "cell_type": "code",
   "execution_count": 70,
   "metadata": {
    "cellId": "02pz0ol03gtktdomoafzcp"
   },
   "outputs": [],
   "source": [
    "top10_stat = good_data.pivot_table(index = 'locality_name', values = 'price_per_sq_m', aggfunc = ['count', 'median'])"
   ]
  },
  {
   "cell_type": "code",
   "execution_count": 71,
   "metadata": {
    "cellId": "vxi8r1rjalb0fdhfvzyw"
   },
   "outputs": [
    {
     "data": {
      "text/html": [
       "<div>\n",
       "<style scoped>\n",
       "    .dataframe tbody tr th:only-of-type {\n",
       "        vertical-align: middle;\n",
       "    }\n",
       "\n",
       "    .dataframe tbody tr th {\n",
       "        vertical-align: top;\n",
       "    }\n",
       "\n",
       "    .dataframe thead th {\n",
       "        text-align: right;\n",
       "    }\n",
       "</style>\n",
       "<table border=\"1\" class=\"dataframe\">\n",
       "  <thead>\n",
       "    <tr style=\"text-align: right;\">\n",
       "      <th></th>\n",
       "      <th>count</th>\n",
       "      <th>median</th>\n",
       "    </tr>\n",
       "    <tr>\n",
       "      <th>locality_name</th>\n",
       "      <th></th>\n",
       "      <th></th>\n",
       "    </tr>\n",
       "  </thead>\n",
       "  <tbody>\n",
       "    <tr>\n",
       "      <th>Санкт-Петербург</th>\n",
       "      <td>14208</td>\n",
       "      <td>103225.81</td>\n",
       "    </tr>\n",
       "    <tr>\n",
       "      <th>посёлок Мурино</th>\n",
       "      <td>503</td>\n",
       "      <td>86268.87</td>\n",
       "    </tr>\n",
       "    <tr>\n",
       "      <th>посёлок Шушары</th>\n",
       "      <td>427</td>\n",
       "      <td>76923.08</td>\n",
       "    </tr>\n",
       "    <tr>\n",
       "      <th>Всеволожск</th>\n",
       "      <td>374</td>\n",
       "      <td>65737.87</td>\n",
       "    </tr>\n",
       "    <tr>\n",
       "      <th>Пушкин</th>\n",
       "      <td>338</td>\n",
       "      <td>99725.50</td>\n",
       "    </tr>\n",
       "    <tr>\n",
       "      <th>посёлок Парголово</th>\n",
       "      <td>325</td>\n",
       "      <td>91642.86</td>\n",
       "    </tr>\n",
       "    <tr>\n",
       "      <th>Колпино</th>\n",
       "      <td>324</td>\n",
       "      <td>74349.66</td>\n",
       "    </tr>\n",
       "    <tr>\n",
       "      <th>Гатчина</th>\n",
       "      <td>294</td>\n",
       "      <td>67746.29</td>\n",
       "    </tr>\n",
       "    <tr>\n",
       "      <th>деревня Кудрово</th>\n",
       "      <td>289</td>\n",
       "      <td>91860.47</td>\n",
       "    </tr>\n",
       "    <tr>\n",
       "      <th>Выборг</th>\n",
       "      <td>226</td>\n",
       "      <td>58001.42</td>\n",
       "    </tr>\n",
       "  </tbody>\n",
       "</table>\n",
       "</div>"
      ],
      "text/plain": [
       "                   count    median\n",
       "locality_name                     \n",
       "Санкт-Петербург    14208 103225.81\n",
       "посёлок Мурино       503  86268.87\n",
       "посёлок Шушары       427  76923.08\n",
       "Всеволожск           374  65737.87\n",
       "Пушкин               338  99725.50\n",
       "посёлок Парголово    325  91642.86\n",
       "Колпино              324  74349.66\n",
       "Гатчина              294  67746.29\n",
       "деревня Кудрово      289  91860.47\n",
       "Выборг               226  58001.42"
      ]
     },
     "execution_count": 71,
     "metadata": {},
     "output_type": "execute_result"
    }
   ],
   "source": [
    "top10_stat.columns = ['count', 'median']\n",
    "top10_stat.sort_values('count', ascending = False).head(10)"
   ]
  },
  {
   "cell_type": "markdown",
   "metadata": {
    "cellId": "no5kgrvobijbzwra6q8e7"
   },
   "source": [
    "### Вывод\n",
    "Средняя (здесь медианная) стоимость жилья среди топ10 населенных пунктов по количсетву объявлений в датафрейме больше всего в Санкт-Петербурге, дешевле всего (среди этих 10) в Выборге."
   ]
  },
  {
   "cell_type": "markdown",
   "metadata": {
    "cellId": "ne5qphbb91e4byryibsf1b"
   },
   "source": [
    "### Центральная область Санкт-Петербурга"
   ]
  },
  {
   "cell_type": "markdown",
   "metadata": {
    "cellId": "aep4etl67pcz3h162xoe7g"
   },
   "source": [
    "Создаю новый датафрейм - срез из датафрейма good_data, где локация - Санкт-Петербург методом query()."
   ]
  },
  {
   "cell_type": "code",
   "execution_count": 72,
   "metadata": {
    "cellId": "7is7h7k2ap4q1swhii4xng"
   },
   "outputs": [
    {
     "data": {
      "text/plain": [
       "14208"
      ]
     },
     "execution_count": 72,
     "metadata": {},
     "output_type": "execute_result"
    }
   ],
   "source": [
    "data_sp = good_data.query('locality_name == \"Санкт-Петербург\"')\n",
    "len(data_sp)"
   ]
  },
  {
   "cell_type": "markdown",
   "metadata": {
    "cellId": "x1s634e3qgbii9b7ikyxe"
   },
   "source": [
    "Создаю столбец в датафрейме с расстоянием до центра в километрах (делю значения столбца 'city_centers_nearest' на 1000, так как сейчас значения в метрах), окргулю до целого числа."
   ]
  },
  {
   "cell_type": "code",
   "execution_count": 73,
   "metadata": {
    "cellId": "2n3g1lkn3tj5a7mt8i50vq",
    "scrolled": true
   },
   "outputs": [
    {
     "name": "stderr",
     "output_type": "stream",
     "text": [
      "<ipython-input-73-805e5f6c15cb>:1: SettingWithCopyWarning: \n",
      "A value is trying to be set on a copy of a slice from a DataFrame.\n",
      "Try using .loc[row_indexer,col_indexer] = value instead\n",
      "\n",
      "See the caveats in the documentation: https://pandas.pydata.org/pandas-docs/stable/user_guide/indexing.html#returning-a-view-versus-a-copy\n",
      "  data_sp['city_centers_nearest_km'] = round (data_sp['city_centers_nearest']/1000,0).astype('int')\n"
     ]
    },
    {
     "data": {
      "text/plain": [
       "12    1543\n",
       "15    1510\n",
       "13    1403\n",
       "14    1238\n",
       "16    1217\n",
       "11    1106\n",
       "17     849\n",
       "5      675\n",
       "10     672\n",
       "9      559\n",
       "4      537\n",
       "8      521\n",
       "6      475\n",
       "7      337\n",
       "3      277\n",
       "18     251\n",
       "2      198\n",
       "22     195\n",
       "19     150\n",
       "1      127\n",
       "21     108\n",
       "23      82\n",
       "26      53\n",
       "20      48\n",
       "24      31\n",
       "25      25\n",
       "0        8\n",
       "28       7\n",
       "29       4\n",
       "27       2\n",
       "Name: city_centers_nearest_km, dtype: int64"
      ]
     },
     "execution_count": 73,
     "metadata": {},
     "output_type": "execute_result"
    }
   ],
   "source": [
    "data_sp['city_centers_nearest_km'] = round (data_sp['city_centers_nearest']/1000,0).astype('int')\n",
    "data_sp['city_centers_nearest_km'].value_counts()"
   ]
  },
  {
   "cell_type": "markdown",
   "metadata": {},
   "source": [
    "<div class=\"alert alert-success\">\n",
    "<b>Комментарий ревьюера:</b>\n",
    "\n",
    "Кстати можно отключить предупреждения с помощью следующего способа ниже.\n",
    "    \n",
    "`import warnings` \n",
    "    \n",
    "`warnings.simplefilter('ignore')` \n",
    "    \n",
    "</div>"
   ]
  },
  {
   "cell_type": "code",
   "execution_count": 74,
   "metadata": {
    "cellId": "gyyld9eonlpknrevhmuo4j"
   },
   "outputs": [
    {
     "data": {
      "text/html": [
       "<div>\n",
       "<style scoped>\n",
       "    .dataframe tbody tr th:only-of-type {\n",
       "        vertical-align: middle;\n",
       "    }\n",
       "\n",
       "    .dataframe tbody tr th {\n",
       "        vertical-align: top;\n",
       "    }\n",
       "\n",
       "    .dataframe thead th {\n",
       "        text-align: right;\n",
       "    }\n",
       "</style>\n",
       "<table border=\"1\" class=\"dataframe\">\n",
       "  <thead>\n",
       "    <tr style=\"text-align: right;\">\n",
       "      <th></th>\n",
       "      <th>median</th>\n",
       "    </tr>\n",
       "    <tr>\n",
       "      <th>city_centers_nearest_km</th>\n",
       "      <th></th>\n",
       "    </tr>\n",
       "  </thead>\n",
       "  <tbody>\n",
       "    <tr>\n",
       "      <th>1</th>\n",
       "      <td>9200000.00</td>\n",
       "    </tr>\n",
       "    <tr>\n",
       "      <th>2</th>\n",
       "      <td>9000000.00</td>\n",
       "    </tr>\n",
       "    <tr>\n",
       "      <th>4</th>\n",
       "      <td>8300000.00</td>\n",
       "    </tr>\n",
       "    <tr>\n",
       "      <th>27</th>\n",
       "      <td>8300000.00</td>\n",
       "    </tr>\n",
       "    <tr>\n",
       "      <th>5</th>\n",
       "      <td>8274950.00</td>\n",
       "    </tr>\n",
       "    <tr>\n",
       "      <th>3</th>\n",
       "      <td>8000000.00</td>\n",
       "    </tr>\n",
       "    <tr>\n",
       "      <th>0</th>\n",
       "      <td>7600000.00</td>\n",
       "    </tr>\n",
       "    <tr>\n",
       "      <th>6</th>\n",
       "      <td>7600000.00</td>\n",
       "    </tr>\n",
       "    <tr>\n",
       "      <th>7</th>\n",
       "      <td>6800000.00</td>\n",
       "    </tr>\n",
       "    <tr>\n",
       "      <th>8</th>\n",
       "      <td>6800000.00</td>\n",
       "    </tr>\n",
       "  </tbody>\n",
       "</table>\n",
       "</div>"
      ],
      "text/plain": [
       "                            median\n",
       "city_centers_nearest_km           \n",
       "1                       9200000.00\n",
       "2                       9000000.00\n",
       "4                       8300000.00\n",
       "27                      8300000.00\n",
       "5                       8274950.00\n",
       "3                       8000000.00\n",
       "0                       7600000.00\n",
       "6                       7600000.00\n",
       "7                       6800000.00\n",
       "8                       6800000.00"
      ]
     },
     "execution_count": 74,
     "metadata": {},
     "output_type": "execute_result"
    }
   ],
   "source": [
    "data_sp_pivot = data_sp.pivot_table(index = 'city_centers_nearest_km', values = 'last_price', aggfunc = 'median').sort_values('last_price', ascending = False)\n",
    "data_sp_pivot.columns = ['median']\n",
    "data_sp_pivot.sort_values('median', ascending = False).head(10)"
   ]
  },
  {
   "cell_type": "code",
   "execution_count": 75,
   "metadata": {
    "cellId": "ov754d2z89la0bfth0yfo"
   },
   "outputs": [],
   "source": [
    "data_sp_pivot_sort = data_sp_pivot.sort_values('city_centers_nearest_km')"
   ]
  },
  {
   "cell_type": "markdown",
   "metadata": {
    "cellId": "twm6zaulmvq72pc4lrda9m"
   },
   "source": [
    "Построю график по отсортированной сводной таблице, чтобы оценить, какая область входит в центр."
   ]
  },
  {
   "cell_type": "code",
   "execution_count": 76,
   "metadata": {
    "cellId": "7zbn54op6tqhmdr7dvlqlj"
   },
   "outputs": [
    {
     "data": {
      "text/plain": [
       "<AxesSubplot:xlabel='city_centers_nearest_km'>"
      ]
     },
     "execution_count": 76,
     "metadata": {},
     "output_type": "execute_result"
    },
    {
     "data": {
      "image/png": "[encoded data removed]",
      "text/plain": [
       "<Figure size 432x288 with 1 Axes>"
      ]
     },
     "metadata": {
      "needs_background": "light"
     },
     "output_type": "display_data"
    }
   ],
   "source": [
    "data_sp_pivot_sort.plot(style = 'o-')"
   ]
  },
  {
   "cell_type": "markdown",
   "metadata": {
    "cellId": "2agzl7jpqcse3cj7e4zgvu"
   },
   "source": [
    "### Вывод\n",
    "Центральная зона - значение 'city_centers_nearest_km' не превышает 8 километров, далее идет резкий спад на графике."
   ]
  },
  {
   "cell_type": "markdown",
   "metadata": {},
   "source": [
    "<div class=\"alert alert-success\">\n",
    "<b>Комментарий ревьюера:</b>\n",
    "\n",
    "Ориентировочно да, потому что дальше идёт в том числе спад и длительная стагнация стоимости.\n",
    "    \n",
    "</div>"
   ]
  },
  {
   "cell_type": "markdown",
   "metadata": {
    "cellId": "nf9u7rb9fdfsd4wb4db11"
   },
   "source": [
    "### Сегмент квартир в центре Санкт-Петербурга"
   ]
  },
  {
   "cell_type": "markdown",
   "metadata": {
    "cellId": "ektjdpmp3ivz1lqiomsth"
   },
   "source": [
    "Выделю датафрейм с квартирами в центральной области Санкт-Петербурга ('city_centers_nearest_km' <= 8 километров)."
   ]
  },
  {
   "cell_type": "code",
   "execution_count": 77,
   "metadata": {
    "cellId": "8boxigfjujhlfira17edrc"
   },
   "outputs": [
    {
     "data": {
      "text/plain": [
       "3155"
      ]
     },
     "execution_count": 77,
     "metadata": {},
     "output_type": "execute_result"
    }
   ],
   "source": [
    "data_sp_center = data_sp.query('city_centers_nearest_km<=8')\n",
    "len(data_sp_center)"
   ]
  },
  {
   "cell_type": "markdown",
   "metadata": {
    "cellId": "yo22tpyvu0aenaarn1608p"
   },
   "source": [
    "Рассмотрю значения в колонках 'total_area','rooms','last_price', 'ceiling_height' детальнее, построю графики по ним и выделю те факторы, которые влияют на цну больше всего."
   ]
  },
  {
   "cell_type": "code",
   "execution_count": 78,
   "metadata": {
    "cellId": "5ohjj8dnli3gimq4qoozir"
   },
   "outputs": [],
   "source": [
    "pd.set_option('display.float_format', lambda x: '%.2f' % x)"
   ]
  },
  {
   "cell_type": "code",
   "execution_count": 79,
   "metadata": {
    "cellId": "zsgk96qqwur7sey96fftf9"
   },
   "outputs": [
    {
     "data": {
      "text/html": [
       "<div>\n",
       "<style scoped>\n",
       "    .dataframe tbody tr th:only-of-type {\n",
       "        vertical-align: middle;\n",
       "    }\n",
       "\n",
       "    .dataframe tbody tr th {\n",
       "        vertical-align: top;\n",
       "    }\n",
       "\n",
       "    .dataframe thead th {\n",
       "        text-align: right;\n",
       "    }\n",
       "</style>\n",
       "<table border=\"1\" class=\"dataframe\">\n",
       "  <thead>\n",
       "    <tr style=\"text-align: right;\">\n",
       "      <th></th>\n",
       "      <th>total_area</th>\n",
       "      <th>rooms</th>\n",
       "      <th>last_price</th>\n",
       "      <th>ceiling_height</th>\n",
       "    </tr>\n",
       "  </thead>\n",
       "  <tbody>\n",
       "    <tr>\n",
       "      <th>count</th>\n",
       "      <td>3155.00</td>\n",
       "      <td>3155.00</td>\n",
       "      <td>3155.00</td>\n",
       "      <td>3155.00</td>\n",
       "    </tr>\n",
       "    <tr>\n",
       "      <th>mean</th>\n",
       "      <td>72.59</td>\n",
       "      <td>2.45</td>\n",
       "      <td>8648925.53</td>\n",
       "      <td>2.81</td>\n",
       "    </tr>\n",
       "    <tr>\n",
       "      <th>std</th>\n",
       "      <td>29.64</td>\n",
       "      <td>1.10</td>\n",
       "      <td>3675334.77</td>\n",
       "      <td>0.25</td>\n",
       "    </tr>\n",
       "    <tr>\n",
       "      <th>min</th>\n",
       "      <td>12.00</td>\n",
       "      <td>0.00</td>\n",
       "      <td>1600000.00</td>\n",
       "      <td>2.00</td>\n",
       "    </tr>\n",
       "    <tr>\n",
       "      <th>25%</th>\n",
       "      <td>50.00</td>\n",
       "      <td>2.00</td>\n",
       "      <td>5950000.00</td>\n",
       "      <td>2.60</td>\n",
       "    </tr>\n",
       "    <tr>\n",
       "      <th>50%</th>\n",
       "      <td>68.00</td>\n",
       "      <td>2.00</td>\n",
       "      <td>7950000.00</td>\n",
       "      <td>2.70</td>\n",
       "    </tr>\n",
       "    <tr>\n",
       "      <th>75%</th>\n",
       "      <td>89.30</td>\n",
       "      <td>3.00</td>\n",
       "      <td>10718675.00</td>\n",
       "      <td>3.00</td>\n",
       "    </tr>\n",
       "    <tr>\n",
       "      <th>max</th>\n",
       "      <td>197.00</td>\n",
       "      <td>6.00</td>\n",
       "      <td>19999000.00</td>\n",
       "      <td>3.49</td>\n",
       "    </tr>\n",
       "  </tbody>\n",
       "</table>\n",
       "</div>"
      ],
      "text/plain": [
       "       total_area   rooms  last_price  ceiling_height\n",
       "count     3155.00 3155.00     3155.00         3155.00\n",
       "mean        72.59    2.45  8648925.53            2.81\n",
       "std         29.64    1.10  3675334.77            0.25\n",
       "min         12.00    0.00  1600000.00            2.00\n",
       "25%         50.00    2.00  5950000.00            2.60\n",
       "50%         68.00    2.00  7950000.00            2.70\n",
       "75%         89.30    3.00 10718675.00            3.00\n",
       "max        197.00    6.00 19999000.00            3.49"
      ]
     },
     "execution_count": 79,
     "metadata": {},
     "output_type": "execute_result"
    }
   ],
   "source": [
    "data_sp_center[['total_area','rooms','last_price', 'ceiling_height']].describe()"
   ]
  },
  {
   "cell_type": "code",
   "execution_count": 80,
   "metadata": {
    "cellId": "aevvzh4dwzpki7ffgtq9"
   },
   "outputs": [
    {
     "data": {
      "text/plain": [
       "<AxesSubplot:>"
      ]
     },
     "execution_count": 80,
     "metadata": {},
     "output_type": "execute_result"
    },
    {
     "data": {
      "image/png": "[encoded data removed]",
      "text/plain": [
       "<Figure size 432x288 with 1 Axes>"
      ]
     },
     "metadata": {
      "needs_background": "light"
     },
     "output_type": "display_data"
    }
   ],
   "source": [
    "data_sp_center['total_area'].hist(bins = 30)"
   ]
  },
  {
   "cell_type": "code",
   "execution_count": 81,
   "metadata": {
    "cellId": "dijt3jkwd53mwl6ty7jaa"
   },
   "outputs": [
    {
     "data": {
      "text/plain": [
       "<AxesSubplot:>"
      ]
     },
     "execution_count": 81,
     "metadata": {},
     "output_type": "execute_result"
    },
    {
     "data": {
      "image/png": "[encoded data removed]",
      "text/plain": [
       "<Figure size 432x288 with 1 Axes>"
      ]
     },
     "metadata": {
      "needs_background": "light"
     },
     "output_type": "display_data"
    }
   ],
   "source": [
    "data_sp_center['rooms'].hist(bins = 5)"
   ]
  },
  {
   "cell_type": "code",
   "execution_count": 82,
   "metadata": {
    "cellId": "wyc610wr49gfg53xli6185"
   },
   "outputs": [
    {
     "data": {
      "text/plain": [
       "(array([       0.,  2500000.,  5000000.,  7500000., 10000000., 12500000.,\n",
       "        15000000., 17500000., 20000000., 22500000.]),\n",
       " [Text(0, 0, ''),\n",
       "  Text(0, 0, ''),\n",
       "  Text(0, 0, ''),\n",
       "  Text(0, 0, ''),\n",
       "  Text(0, 0, ''),\n",
       "  Text(0, 0, ''),\n",
       "  Text(0, 0, ''),\n",
       "  Text(0, 0, ''),\n",
       "  Text(0, 0, ''),\n",
       "  Text(0, 0, '')])"
      ]
     },
     "execution_count": 82,
     "metadata": {},
     "output_type": "execute_result"
    },
    {
     "data": {
      "image/png": "[encoded data removed]",
      "text/plain": [
       "<Figure size 432x288 with 1 Axes>"
      ]
     },
     "metadata": {
      "needs_background": "light"
     },
     "output_type": "display_data"
    }
   ],
   "source": [
    "data_sp_center['last_price'].hist(bins = 30)\n",
    "plt.ticklabel_format(style='plain')\n",
    "plt.xticks(rotation = 45)"
   ]
  },
  {
   "cell_type": "code",
   "execution_count": 83,
   "metadata": {
    "cellId": "2gqym79ipq8xohrvnrnykn"
   },
   "outputs": [
    {
     "data": {
      "text/plain": [
       "<AxesSubplot:>"
      ]
     },
     "execution_count": 83,
     "metadata": {},
     "output_type": "execute_result"
    },
    {
     "data": {
      "image/png": "[encoded data removed]",
      "text/plain": [
       "<Figure size 432x288 with 1 Axes>"
      ]
     },
     "metadata": {
      "needs_background": "light"
     },
     "output_type": "display_data"
    }
   ],
   "source": [
    "data_sp_center['ceiling_height'].hist(bins = 10)"
   ]
  },
  {
   "cell_type": "code",
   "execution_count": 84,
   "metadata": {
    "cellId": "vvcqyfidssdq9dx1upomb"
   },
   "outputs": [],
   "source": [
    "cols_to_keep = [\"last_price\", \"total_area\", \"rooms\", \"ceiling_height\",\n",
    "                \"floor\", \"floors_total\", \"city_centers_nearest\"]\n",
    "data_phik = data_sp_center[cols_to_keep]"
   ]
  },
  {
   "cell_type": "code",
   "execution_count": 85,
   "metadata": {
    "cellId": "kmkh5ton18byaa4565emd"
   },
   "outputs": [],
   "source": [
    "phik_overview = data_phik.phik_matrix(interval_cols=cols_to_keep)"
   ]
  },
  {
   "cell_type": "code",
   "execution_count": 86,
   "metadata": {
    "cellId": "52y4pb5enxa4q17dhg1i35"
   },
   "outputs": [
    {
     "data": {
      "image/png": "[encoded data removed]",
      "text/plain": [
       "<Figure size 720x576 with 2 Axes>"
      ]
     },
     "metadata": {
      "needs_background": "light"
     },
     "output_type": "display_data"
    }
   ],
   "source": [
    "plot_correlation_matrix(phik_overview.values, \n",
    "                        x_labels=phik_overview.columns, \n",
    "                        y_labels=phik_overview.index, \n",
    "                        vmin=0, vmax=1, color_map=\"Greens\", \n",
    "                        title=r\"correlation $\\phi_K$\", \n",
    "                        fontsize_factor=1.5, \n",
    "                        figsize=(10, 8))\n",
    "plt.tight_layout()"
   ]
  },
  {
   "cell_type": "markdown",
   "metadata": {
    "cellId": "szm1vwdz4l0hgj4vdfwkz"
   },
   "source": [
    "Самый влияющий фактор на финальную цену недвижимости - общая площадь квартиры. В этом случае удаленность от центра не влияет на итоговую цену, потому что, скорее всего, если квартира находится в центральной области, уже не так важно насколько километров конкретно она удалена от точки центра города. Также, на финальную цену влияет количество комнат. "
   ]
  },
  {
   "cell_type": "markdown",
   "metadata": {},
   "source": [
    "<div class=\"alert alert-success\">\n",
    "<b>Комментарий ревьюера:</b>\n",
    "\n",
    "Обрати внимание, что наши действия повторяются с точки зрения построения графиков.\n",
    "    \n",
    "Это говорит о том, что мы можем создать функцию, которая будет выполнять все действия за нас.\n",
    "    \n",
    "Тем самым мы сможем оптимизировать свой код и проект целиком.\n",
    "    \n",
    "</div>"
   ]
  },
  {
   "cell_type": "code",
   "execution_count": 87,
   "metadata": {
    "cellId": "amexuokexdt8xxcaf29se2"
   },
   "outputs": [
    {
     "data": {
      "text/html": [
       "<div>\n",
       "<style scoped>\n",
       "    .dataframe tbody tr th:only-of-type {\n",
       "        vertical-align: middle;\n",
       "    }\n",
       "\n",
       "    .dataframe tbody tr th {\n",
       "        vertical-align: top;\n",
       "    }\n",
       "\n",
       "    .dataframe thead th {\n",
       "        text-align: right;\n",
       "    }\n",
       "</style>\n",
       "<table border=\"1\" class=\"dataframe\">\n",
       "  <thead>\n",
       "    <tr style=\"text-align: right;\">\n",
       "      <th></th>\n",
       "      <th>last_price</th>\n",
       "    </tr>\n",
       "    <tr>\n",
       "      <th>weekday</th>\n",
       "      <th></th>\n",
       "    </tr>\n",
       "  </thead>\n",
       "  <tbody>\n",
       "    <tr>\n",
       "      <th>Пятница</th>\n",
       "      <td>7610814.00</td>\n",
       "    </tr>\n",
       "    <tr>\n",
       "      <th>Понедельник</th>\n",
       "      <td>7700000.00</td>\n",
       "    </tr>\n",
       "    <tr>\n",
       "      <th>Среда</th>\n",
       "      <td>7900000.00</td>\n",
       "    </tr>\n",
       "    <tr>\n",
       "      <th>Четверг</th>\n",
       "      <td>8000000.00</td>\n",
       "    </tr>\n",
       "    <tr>\n",
       "      <th>Суббота</th>\n",
       "      <td>8050000.00</td>\n",
       "    </tr>\n",
       "    <tr>\n",
       "      <th>Вторник</th>\n",
       "      <td>8100000.00</td>\n",
       "    </tr>\n",
       "  </tbody>\n",
       "</table>\n",
       "</div>"
      ],
      "text/plain": [
       "             last_price\n",
       "weekday                \n",
       "Пятница      7610814.00\n",
       "Понедельник  7700000.00\n",
       "Среда        7900000.00\n",
       "Четверг      8000000.00\n",
       "Суббота      8050000.00\n",
       "Вторник      8100000.00"
      ]
     },
     "execution_count": 87,
     "metadata": {},
     "output_type": "execute_result"
    }
   ],
   "source": [
    "data_sp_center.pivot_table(index = 'weekday', values = 'last_price', aggfunc = 'median').sort_values('last_price')"
   ]
  },
  {
   "cell_type": "code",
   "execution_count": 88,
   "metadata": {
    "cellId": "w5hpba94rcgm59148a85if"
   },
   "outputs": [
    {
     "data": {
      "text/html": [
       "<div>\n",
       "<style scoped>\n",
       "    .dataframe tbody tr th:only-of-type {\n",
       "        vertical-align: middle;\n",
       "    }\n",
       "\n",
       "    .dataframe tbody tr th {\n",
       "        vertical-align: top;\n",
       "    }\n",
       "\n",
       "    .dataframe thead th {\n",
       "        text-align: right;\n",
       "    }\n",
       "</style>\n",
       "<table border=\"1\" class=\"dataframe\">\n",
       "  <thead>\n",
       "    <tr style=\"text-align: right;\">\n",
       "      <th></th>\n",
       "      <th>last_price</th>\n",
       "    </tr>\n",
       "    <tr>\n",
       "      <th>month</th>\n",
       "      <th></th>\n",
       "    </tr>\n",
       "  </thead>\n",
       "  <tbody>\n",
       "    <tr>\n",
       "      <th>Декабрь</th>\n",
       "      <td>7020000.00</td>\n",
       "    </tr>\n",
       "    <tr>\n",
       "      <th>Август</th>\n",
       "      <td>7675000.00</td>\n",
       "    </tr>\n",
       "    <tr>\n",
       "      <th>Июнь</th>\n",
       "      <td>7760000.00</td>\n",
       "    </tr>\n",
       "    <tr>\n",
       "      <th>Май</th>\n",
       "      <td>7778900.00</td>\n",
       "    </tr>\n",
       "    <tr>\n",
       "      <th>Апрель</th>\n",
       "      <td>7835000.00</td>\n",
       "    </tr>\n",
       "    <tr>\n",
       "      <th>Январь</th>\n",
       "      <td>7875000.00</td>\n",
       "    </tr>\n",
       "    <tr>\n",
       "      <th>Октябрь</th>\n",
       "      <td>8000000.00</td>\n",
       "    </tr>\n",
       "    <tr>\n",
       "      <th>Февраль</th>\n",
       "      <td>8000000.00</td>\n",
       "    </tr>\n",
       "    <tr>\n",
       "      <th>Ноябрь</th>\n",
       "      <td>8100000.00</td>\n",
       "    </tr>\n",
       "    <tr>\n",
       "      <th>Июль</th>\n",
       "      <td>8175000.00</td>\n",
       "    </tr>\n",
       "    <tr>\n",
       "      <th>Март</th>\n",
       "      <td>8190000.00</td>\n",
       "    </tr>\n",
       "    <tr>\n",
       "      <th>Сентябрь</th>\n",
       "      <td>8455000.00</td>\n",
       "    </tr>\n",
       "  </tbody>\n",
       "</table>\n",
       "</div>"
      ],
      "text/plain": [
       "          last_price\n",
       "month               \n",
       "Декабрь   7020000.00\n",
       "Август    7675000.00\n",
       "Июнь      7760000.00\n",
       "Май       7778900.00\n",
       "Апрель    7835000.00\n",
       "Январь    7875000.00\n",
       "Октябрь   8000000.00\n",
       "Февраль   8000000.00\n",
       "Ноябрь    8100000.00\n",
       "Июль      8175000.00\n",
       "Март      8190000.00\n",
       "Сентябрь  8455000.00"
      ]
     },
     "execution_count": 88,
     "metadata": {},
     "output_type": "execute_result"
    }
   ],
   "source": [
    "data_sp_center.pivot_table(index = 'month', values = 'last_price', aggfunc = 'median').sort_values('last_price')"
   ]
  },
  {
   "cell_type": "code",
   "execution_count": 89,
   "metadata": {
    "cellId": "tww394uszsomkz8l7af0v"
   },
   "outputs": [
    {
     "data": {
      "text/html": [
       "<div>\n",
       "<style scoped>\n",
       "    .dataframe tbody tr th:only-of-type {\n",
       "        vertical-align: middle;\n",
       "    }\n",
       "\n",
       "    .dataframe tbody tr th {\n",
       "        vertical-align: top;\n",
       "    }\n",
       "\n",
       "    .dataframe thead th {\n",
       "        text-align: right;\n",
       "    }\n",
       "</style>\n",
       "<table border=\"1\" class=\"dataframe\">\n",
       "  <thead>\n",
       "    <tr style=\"text-align: right;\">\n",
       "      <th></th>\n",
       "      <th>last_price</th>\n",
       "    </tr>\n",
       "    <tr>\n",
       "      <th>year</th>\n",
       "      <th></th>\n",
       "    </tr>\n",
       "  </thead>\n",
       "  <tbody>\n",
       "    <tr>\n",
       "      <th>2017</th>\n",
       "      <td>7679000.00</td>\n",
       "    </tr>\n",
       "    <tr>\n",
       "      <th>2018</th>\n",
       "      <td>7950000.00</td>\n",
       "    </tr>\n",
       "    <tr>\n",
       "      <th>2015</th>\n",
       "      <td>8100000.00</td>\n",
       "    </tr>\n",
       "    <tr>\n",
       "      <th>2019</th>\n",
       "      <td>8150000.00</td>\n",
       "    </tr>\n",
       "    <tr>\n",
       "      <th>2016</th>\n",
       "      <td>8200000.00</td>\n",
       "    </tr>\n",
       "    <tr>\n",
       "      <th>2014</th>\n",
       "      <td>9495000.00</td>\n",
       "    </tr>\n",
       "  </tbody>\n",
       "</table>\n",
       "</div>"
      ],
      "text/plain": [
       "      last_price\n",
       "year            \n",
       "2017  7679000.00\n",
       "2018  7950000.00\n",
       "2015  8100000.00\n",
       "2019  8150000.00\n",
       "2016  8200000.00\n",
       "2014  9495000.00"
      ]
     },
     "execution_count": 89,
     "metadata": {},
     "output_type": "execute_result"
    }
   ],
   "source": [
    "data_sp_center.pivot_table(index = 'year', values = 'last_price', aggfunc = 'median').sort_values('last_price')"
   ]
  },
  {
   "cell_type": "markdown",
   "metadata": {
    "cellId": "fglhc8zczua1tqsf6kkrwx"
   },
   "source": [
    "### Вывод\n",
    "На цену недвижимости в центральной области Санкт-Петербурга влияет общая площадь квартиры, количество комнат, год публикации, месяц публикации."
   ]
  },
  {
   "cell_type": "markdown",
   "metadata": {
    "cellId": "vnka0ffe75oofot9583r8k"
   },
   "source": [
    "## Общий вывод"
   ]
  },
  {
   "cell_type": "markdown",
   "metadata": {
    "cellId": "czkkvivchmia38i3f93n0c"
   },
   "source": [
    "Я провела иссследование выборки данных недвижимости, опубликованной на продажу в Санкт-Петербурге и его окрестностях с 2014 по 2019 гг. И выполнила соответсвующие исследования:\n",
    "\n",
    "1. **Время продажи квартиры**\n",
    "Исходя из анализа полученных данных, среднее время продажи квартиры - 171 день, медианное время продажи - 96 дней. Продажу предлагается считать быстрой, если она состоялась в первые 45 дней с момента публикации объявления. Долгой продажу предлагается считать в том случае, если её время составляет более 202 дней (в соответствии с квартилями значений столбца).\n",
    "2. **Факторы, влияющие на стоимость квартиры**\n",
    "Больше всего влияет на стоимость квартиры общая площадь квартиры. Следующий по силе влияния фактор - удаленность от центра. Так же на стоимость квартиры влияет год публикации объявления, в 2014 году средняя стоимость была выше, чем в другие года, скорее всего это связано с резким изменением курса рубля.\n",
    "Среди топ 10 населенных пунктов по количеству объявлений, дороже всего стоимость квадратного метра жилья в Санкт-Петербурге, дешевле всего в Выборге.\n",
    "3. **Центральная область**\n",
    "Была выявлена центральная область в городе Санкт-Петербурге, на основе изменения цены на недвижимость. После удаленности более 8 км от центра, цена жилья резко снижается.\n",
    "4. **Факторы, влияющие на стоимость квартиры в центре Санкт-Петербурга**\n",
    "Так же как и вов сей выборке, больше всего влияет на стоимость квартиры общая площадь квартиры. Однако, удаленность от центра больше не играет существенной роли, так как если квартира располагается в центральной области, не имеет значения насколько удаленно она располагается от точки центра в городе. Так же на стоимость влияет количество комнат в квартире, месяц (в Сентябре медианная стоимость жилья гораздо выше, а в Декабре ниже всего) и год (так же, в 2014 году жилье стоит в разы дороже)."
   ]
  },
  {
   "cell_type": "markdown",
   "metadata": {},
   "source": [
    "<div class=\"alert alert-success\">\n",
    "<b>Комментарий ревьюера:</b>\n",
    "\n",
    "Выводы понятны и логичны, а самое главное подкреплены выявленными фактами.\n",
    "    \n",
    "Достаточно детально проделанная работа и это не может не радовать 😊\n",
    "    \n",
    "Давай поправим мои комментарии и будем двигаться дальше.\n",
    "    \n",
    "Если у тебя вдруг есчть какие–либо вопросы, то я с радостью отвечу на них 😊\n",
    "       \n",
    "\n",
    "</div>"
   ]
  },
  {
   "cell_type": "markdown",
   "metadata": {},
   "source": [
    "<div class=\"alert alert-success\">\n",
    "<b>Комментарий ревьюера (2):</b>\n",
    "\n",
    "\n",
    "       \n",
    "В целом сам проект выполнен на хорошем уровне! На протяжении всей работы чувствуется глубина проработки задачи и это безусловный плюс для нас. Было использовано большое количество методов, которые будут помогать тебе в дальнейших проектах.\n",
    "    \n",
    "    \n",
    "Поздравляю с успешным завершением проекта 😊👍\n",
    "    \n",
    "И желаю успехов в новых работах 😊\n",
    "    \n",
    "**[общий комментарий]** Ячейки **markdown** в том числе мы можем использовать как дополнительный способ стилизации нашего проекта. Оставил ниже ссылку, с примерами стилизации.\n",
    "\n",
    "https://sqlbak.com/blog/jupyter-notebook-markdown-cheatsheet\n",
    "    \n",
    "</div>"
   ]
  },
  {
   "cell_type": "markdown",
   "metadata": {
    "cellId": "y6k2x86jccausmc6rv2qf8"
   },
   "source": [
    "## Чек-лист готовности проекта\n",
    "\n",
    "Поставьте 'x' в выполненных пунктах. Далее нажмите Shift+Enter."
   ]
  },
  {
   "cell_type": "markdown",
   "metadata": {
    "cellId": "57vq8p5opnqaudb5k0jveb"
   },
   "source": [
    "- [x]  открыт файл\n",
    "- [x]  файлы изучены (выведены первые строки, метод info())\n",
    "- [x]  определены пропущенные значения\n",
    "- [x]  заполнены пропущенные значения\n",
    "- [x]  есть пояснение, какие пропущенные значения обнаружены\n",
    "- [x]  изменены типы данных\n",
    "- [x]  есть пояснение, в каких столбцах изменены типы и почему\n",
    "- [x]  посчитано и добавлено в таблицу: цена квадратного метра\n",
    "- [x]  посчитано и добавлено в таблицу: день недели, месяц и год публикации объявления\n",
    "- [x]  посчитано и добавлено в таблицу: этаж квартиры; варианты — первый, последний, другой\n",
    "- [x]  посчитано и добавлено в таблицу: соотношение жилой и общей площади, а также отношение площади кухни к общей\n",
    "- [x]  изучены следующие параметры: площадь, цена, число комнат, высота потолков\n",
    "- [x]  построены гистограммы для каждого параметра\n",
    "- [x]  выполнено задание: \"Изучите время продажи квартиры. Постройте гистограмму. Посчитайте среднее и медиану. Опишите, сколько обычно занимает продажа. Когда можно считать, что продажи прошли очень быстро, а когда необычно долго?\"\n",
    "- [x]  выполнено задание: \"Уберите редкие и выбивающиеся значения. Опишите, какие особенности обнаружили.\"\n",
    "- [x]  выполнено задание: \"Какие факторы больше всего влияют на стоимость квартиры? Изучите, зависит ли цена от квадратного метра, числа комнат, этажа (первого или последнего), удалённости от центра. Также изучите зависимость от даты размещения: дня недели, месяца и года. \"Выберите 10 населённых пунктов с наибольшим числом объявлений. Посчитайте среднюю цену квадратного метра в этих населённых пунктах. Выделите населённые пункты с самой высокой и низкой стоимостью жилья. Эти данные можно найти по имени в столбце '*locality_name'*. \"\n",
    "- [x]  выполнено задание: \"Изучите предложения квартир: для каждой квартиры есть информация о расстоянии до центра. Выделите квартиры в Санкт-Петербурге (*'locality_name'*). Ваша задача — выяснить, какая область входит в центр. Создайте столбец с расстоянием до центра в километрах: округлите до целых значений. После этого посчитайте среднюю цену для каждого километра. Постройте график: он должен показывать, как цена зависит от удалённости от центра. Определите границу, где график сильно меняется — это и будет центральная зона. \"\n",
    "- [x]  выполнено задание: \"Выделите сегмент квартир в центре. Проанализируйте эту территорию и изучите следующие параметры: площадь, цена, число комнат, высота потолков. Также выделите факторы, которые влияют на стоимость квартиры (число комнат, этаж, удалённость от центра, дата размещения объявления). Сделайте выводы. Отличаются ли они от общих выводов по всему городу?\"\n",
    "- [x]  в каждом этапе есть выводы\n",
    "- [x]  есть общий вывод"
   ]
  }
 ],
 "metadata": {
  "ExecuteTimeLog": [
   {
    "duration": 693,
    "start_time": "2021-12-21T08:16:49.074Z"
   },
   {
    "duration": 23,
    "start_time": "2021-12-21T08:16:49.769Z"
   },
   {
    "duration": 8,
    "start_time": "2021-12-21T08:16:49.794Z"
   },
   {
    "duration": 17,
    "start_time": "2021-12-21T08:16:49.804Z"
   },
   {
    "duration": 23,
    "start_time": "2021-12-21T08:16:49.822Z"
   },
   {
    "duration": 46,
    "start_time": "2021-12-21T08:16:49.846Z"
   },
   {
    "duration": 7,
    "start_time": "2021-12-21T08:16:49.894Z"
   },
   {
    "duration": 8,
    "start_time": "2021-12-21T08:16:49.902Z"
   },
   {
    "duration": 13,
    "start_time": "2021-12-21T08:16:49.913Z"
   },
   {
    "duration": 5,
    "start_time": "2021-12-21T08:16:49.928Z"
   },
   {
    "duration": 9,
    "start_time": "2021-12-21T08:16:49.934Z"
   },
   {
    "duration": 13,
    "start_time": "2021-12-21T08:16:49.945Z"
   },
   {
    "duration": 32,
    "start_time": "2021-12-21T08:16:49.959Z"
   },
   {
    "duration": 6,
    "start_time": "2021-12-21T08:16:49.993Z"
   },
   {
    "duration": 21,
    "start_time": "2021-12-21T08:16:50.001Z"
   },
   {
    "duration": 4,
    "start_time": "2021-12-21T08:16:50.024Z"
   },
   {
    "duration": 23,
    "start_time": "2021-12-21T08:16:50.030Z"
   },
   {
    "duration": 49,
    "start_time": "2021-12-21T08:16:50.055Z"
   },
   {
    "duration": 20,
    "start_time": "2021-12-21T08:16:50.106Z"
   },
   {
    "duration": 32,
    "start_time": "2021-12-21T08:16:50.127Z"
   },
   {
    "duration": 30,
    "start_time": "2021-12-21T08:16:50.161Z"
   },
   {
    "duration": 8,
    "start_time": "2021-12-21T08:16:50.193Z"
   },
   {
    "duration": 4,
    "start_time": "2021-12-21T08:16:50.203Z"
   },
   {
    "duration": 1828,
    "start_time": "2021-12-21T08:16:50.209Z"
   },
   {
    "duration": 1854,
    "start_time": "2021-12-21T08:16:52.039Z"
   },
   {
    "duration": 9,
    "start_time": "2021-12-21T08:16:53.895Z"
   },
   {
    "duration": 1963,
    "start_time": "2021-12-21T08:16:53.907Z"
   },
   {
    "duration": 20,
    "start_time": "2021-12-21T08:16:55.874Z"
   },
   {
    "duration": 347,
    "start_time": "2021-12-21T08:16:55.896Z"
   },
   {
    "duration": 270,
    "start_time": "2021-12-21T08:16:56.245Z"
   },
   {
    "duration": 144,
    "start_time": "2021-12-21T08:16:56.517Z"
   },
   {
    "duration": 160,
    "start_time": "2021-12-21T08:16:56.663Z"
   },
   {
    "duration": 17,
    "start_time": "2021-12-21T08:16:56.824Z"
   },
   {
    "duration": 2,
    "start_time": "2021-12-21T08:16:56.843Z"
   },
   {
    "duration": 10,
    "start_time": "2021-12-21T08:16:56.847Z"
   },
   {
    "duration": 271,
    "start_time": "2021-12-21T08:16:56.859Z"
   },
   {
    "duration": 157,
    "start_time": "2021-12-21T08:16:57.131Z"
   },
   {
    "duration": 15,
    "start_time": "2021-12-21T08:16:57.291Z"
   },
   {
    "duration": 8,
    "start_time": "2021-12-21T08:16:57.308Z"
   },
   {
    "duration": 247,
    "start_time": "2021-12-21T08:16:57.318Z"
   },
   {
    "duration": 143,
    "start_time": "2021-12-21T08:16:57.567Z"
   },
   {
    "duration": 11,
    "start_time": "2021-12-21T08:16:57.712Z"
   },
   {
    "duration": 7,
    "start_time": "2021-12-21T08:16:57.725Z"
   },
   {
    "duration": 244,
    "start_time": "2021-12-21T08:16:57.734Z"
   },
   {
    "duration": 143,
    "start_time": "2021-12-21T08:16:57.980Z"
   },
   {
    "duration": 13,
    "start_time": "2021-12-21T08:16:58.124Z"
   },
   {
    "duration": 11,
    "start_time": "2021-12-21T08:16:58.139Z"
   },
   {
    "duration": 7,
    "start_time": "2021-12-21T08:16:58.152Z"
   },
   {
    "duration": 286,
    "start_time": "2021-12-21T08:16:58.160Z"
   },
   {
    "duration": 155,
    "start_time": "2021-12-21T08:16:58.447Z"
   },
   {
    "duration": 10,
    "start_time": "2021-12-21T08:16:58.604Z"
   },
   {
    "duration": 13,
    "start_time": "2021-12-21T08:16:58.615Z"
   },
   {
    "duration": 24,
    "start_time": "2021-12-21T08:16:58.629Z"
   },
   {
    "duration": 8,
    "start_time": "2021-12-21T08:16:58.655Z"
   },
   {
    "duration": 32,
    "start_time": "2021-12-21T08:16:58.665Z"
   },
   {
    "duration": 132,
    "start_time": "2021-12-21T08:16:58.699Z"
   },
   {
    "duration": 9,
    "start_time": "2021-12-21T08:16:58.832Z"
   },
   {
    "duration": 14,
    "start_time": "2021-12-21T08:16:58.843Z"
   },
   {
    "duration": 79285,
    "start_time": "2021-12-21T08:16:58.858Z"
   },
   {
    "duration": 11,
    "start_time": "2021-12-21T08:18:18.145Z"
   },
   {
    "duration": 301,
    "start_time": "2021-12-21T08:18:18.158Z"
   },
   {
    "duration": 913,
    "start_time": "2021-12-21T08:18:18.461Z"
   },
   {
    "duration": 21,
    "start_time": "2021-12-21T08:18:19.375Z"
   },
   {
    "duration": 12,
    "start_time": "2021-12-21T08:18:19.398Z"
   },
   {
    "duration": 12,
    "start_time": "2021-12-21T08:18:19.411Z"
   },
   {
    "duration": 12,
    "start_time": "2021-12-21T08:18:19.424Z"
   },
   {
    "duration": 18,
    "start_time": "2021-12-21T08:18:19.437Z"
   },
   {
    "duration": 7,
    "start_time": "2021-12-21T08:18:19.456Z"
   },
   {
    "duration": 9,
    "start_time": "2021-12-21T08:18:19.492Z"
   },
   {
    "duration": 11,
    "start_time": "2021-12-21T08:18:19.503Z"
   },
   {
    "duration": 17,
    "start_time": "2021-12-21T08:18:19.516Z"
   },
   {
    "duration": 5,
    "start_time": "2021-12-21T08:18:19.534Z"
   },
   {
    "duration": 204,
    "start_time": "2021-12-21T08:18:19.541Z"
   },
   {
    "duration": 9,
    "start_time": "2021-12-21T08:18:19.747Z"
   },
   {
    "duration": 9,
    "start_time": "2021-12-21T08:18:19.757Z"
   },
   {
    "duration": 32,
    "start_time": "2021-12-21T08:18:19.767Z"
   },
   {
    "duration": 240,
    "start_time": "2021-12-21T08:18:19.801Z"
   },
   {
    "duration": 184,
    "start_time": "2021-12-21T08:18:20.043Z"
   },
   {
    "duration": 252,
    "start_time": "2021-12-21T08:18:20.229Z"
   },
   {
    "duration": 287,
    "start_time": "2021-12-21T08:18:20.483Z"
   },
   {
    "duration": 4,
    "start_time": "2021-12-21T08:18:20.775Z"
   },
   {
    "duration": 220,
    "start_time": "2021-12-21T08:18:20.791Z"
   },
   {
    "duration": 738,
    "start_time": "2021-12-21T08:18:21.013Z"
   },
   {
    "duration": 14,
    "start_time": "2021-12-21T08:18:21.752Z"
   },
   {
    "duration": 29,
    "start_time": "2021-12-21T08:18:21.768Z"
   },
   {
    "duration": 12,
    "start_time": "2021-12-21T08:18:21.798Z"
   }
  ],
  "kernelspec": {
   "display_name": "Python 3 (ipykernel)",
   "language": "python",
   "name": "python3"
  },
  "language_info": {
   "codemirror_mode": {
    "name": "ipython",
    "version": 3
   },
   "file_extension": ".py",
   "mimetype": "text/x-python",
   "name": "python",
   "nbconvert_exporter": "python",
   "pygments_lexer": "ipython3",
   "version": "3.9.5"
  },
  "notebookId": "c60d91fe-41e3-4ee6-9b5a-26282d0f1292",
  "notebookPath": "da-ds-eda.ipynb",
  "toc": {
   "base_numbering": 1,
   "nav_menu": {},
   "number_sections": true,
   "sideBar": true,
   "skip_h1_title": true,
   "title_cell": "Содержание",
   "title_sidebar": "Contents",
   "toc_cell": true,
   "toc_position": {
    "height": "calc(100% - 180px)",
    "left": "10px",
    "top": "150px",
    "width": "233px"
   },
   "toc_section_display": true,
   "toc_window_display": true
  }
 },
 "nbformat": 4,
 "nbformat_minor": 4
}
