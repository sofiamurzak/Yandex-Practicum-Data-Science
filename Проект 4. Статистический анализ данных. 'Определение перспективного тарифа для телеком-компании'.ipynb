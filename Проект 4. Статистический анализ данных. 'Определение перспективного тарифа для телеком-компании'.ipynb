{
 "cells": [
  {
   "cell_type": "markdown",
   "id": "d4832424",
   "metadata": {},
   "source": [
    "<div class=\"alert alert-success\">\n",
    "<h3>✔ Комментарий ревьюера V.2</h3>\n",
    "    \n",
    "Внизу оставил комментарий, удачи в следующих спринтах :)\n",
    "</div> "
   ]
  },
  {
   "cell_type": "markdown",
   "id": "3cb85036",
   "metadata": {},
   "source": [
    "# <div class=\"alert alert-success\">\n",
    "<h2> Комментарий ревьюера</h2>\n",
    "    \n",
    "Привет! Меня зовут Алексей Тюрин, я буду делать ревью твоей работы. Давай будем общаться на «ты».\n",
    "\n",
    "У тебя хорошая, аккуратная работа 👍. В ней всё здорово, нужно только дополнить вывод. Можешь посмотреть комментарии и задать вопросы, если есть :)\n",
    "    \n",
    "---\n",
    "Комментарии делятся на 3 группы:\n",
    "    \n",
    "Зелёным цветом отмечены комментарии, либо подчёркивающие удачные решения, либо содержащие какую-то дополнительную информацию или советы, они формально не требуют правки, но правки приветствуются. Выделены они так:\n",
    "\n",
    "<div class=\"alert alert-success\">\n",
    "<h3>✔ Комментарий ревьюера</h3>\n",
    "    \n",
    "Тут текст    \n",
    "</div>    \n",
    "\n",
    "Жёлтым цветом выделены правки, которые желательны:\n",
    "\n",
    "<div class=\"alert alert-warning\">\n",
    "<h3>!! Комментарий ревьюера</h3>\n",
    "    \n",
    "Тут текст    \n",
    "</div>    \n",
    "\n",
    "Красным выделены правки, которые обязательны\n",
    "    \n",
    "<div class=\"alert alert-danger\">\n",
    "<h3>👀 Комментарий ревьюера</h3>\n",
    "    \n",
    "Тут текст    \n",
    "</div>    \n",
    "    \n",
    "Давай работать над проектом в диалоге: если ты **что-то меняешь** в проекте по моим рекомендациям — **пиши об этом**. Выбери для своих комментариев какой-то заметный цвет, так мне будет легче отследить изменения. Пожалуйста, **не перемещай, не изменяй и не удаляй мои комментарии**. Всё это поможет выполнить повторную проверку твоего проекта оперативнее». Если оставляешь комментарии на какой-то итерации ревью, пиши что-то вроде `комментарий студента V.номер итерации`\n",
    "</div>\n",
    "\n",
    "Цвет можно сделать, например, так\n",
    "\n",
    "<div class = \"alert alert-info\" >\n",
    "<h3>Комментарий студента</h3>\n",
    "Ревьюер душнила :)\n",
    "</div>\n",
    "\n",
    "Или так:\n",
    "    \n",
    "<div class=\"alert alert-info\" style=\"background:#ffdbf1;color:#2e00ab\">\n",
    "<h3>Комментарий студента </h3>\n",
    "    ...\n",
    "</div>"
   ]
  },
  {
   "cell_type": "markdown",
   "id": "4d1d06da",
   "metadata": {},
   "source": [
    "<div class = \"alert alert-info\" >\n",
    "<h3>Комментарий студента</h3>\n",
    "Привет, Алексей! Ревьюер НЕ душнила :)\n",
    "Спасибо за ревью, очень полезные комментарии, обязательно все их учту в дальнейших проектах и работе. Оформила итоговый вывод с объяснением выбора лучшего тарифа для абонентов.\n",
    "</div>"
   ]
  },
  {
   "cell_type": "code",
   "execution_count": 40,
   "id": "e2848817",
   "metadata": {
    "cellId": "8xezfzsqic8zeamk4p5xf"
   },
   "outputs": [],
   "source": [
    "#%pip install -q -r requirements.txt"
   ]
  },
  {
   "cell_type": "markdown",
   "id": "07adf9cd",
   "metadata": {
    "cellId": "ae8d47adxtrqv5vz3zyakq"
   },
   "source": [
    "## Содержание"
   ]
  },
  {
   "cell_type": "markdown",
   "id": "3a244ca7",
   "metadata": {
    "cellId": "cumprn334whwacf7jvzde"
   },
   "source": [
    "### Определение перспективного тарифа для телеком-компании"
   ]
  },
  {
   "cell_type": "markdown",
   "id": "398b2009",
   "metadata": {
    "cellId": "m2ekq439a8js2t41vx1yjc"
   },
   "source": [
    "#### Описание проекта\n",
    "Вы аналитик компании «Мегалайн» — федерального оператора сотовой связи. Клиентам предлагают два тарифных плана: «Смарт» и «Ультра». Чтобы скорректировать рекламный бюджет, коммерческий департамент хочет понять, какой тариф приносит больше денег.\n",
    "Вам предстоит сделать предварительный анализ тарифов на небольшой выборке клиентов. В вашем распоряжении данные 500 пользователей «Мегалайна»: кто они, откуда, каким тарифом пользуются, сколько звонков и сообщений каждый отправил за 2018 год. Нужно проанализировать поведение клиентов и сделать вывод — какой тариф лучше.\n",
    "#### Описание тарифов\n",
    "- Тариф «Смарт»\n",
    "Ежемесячная плата: 550 рублей\n",
    "Включено 500 минут разговора, 50 сообщений и 15 Гб интернет-трафика\n",
    "Стоимость услуг сверх тарифного пакета: 1. минута разговора: 3 рубля («Мегалайн» всегда округляет вверх значения минут и мегабайтов. Если пользователь проговорил всего 1 секунду, в тарифе засчитывается целая минута); 2. сообщение: 3 рубля; 3. 1 Гб интернет-трафика: 200 рублей.\n",
    "- Тариф «Ультра»\n",
    "Ежемесячная плата: 1950 рублей\n",
    "Включено 3000 минут разговора, 1000 сообщений и 30 Гб интернет-трафика\n",
    "Стоимость услуг сверх тарифного пакета: 1. минута разговора: 1 рубль; 2. сообщение: 1 рубль; 3. 1 Гб интернет-трафика: 150 рублей.\n",
    "#### Примечание:\n",
    "«Мегалайн» всегда округляет секунды до минут, а мегабайты — до гигабайт. Каждый звонок округляется отдельно: даже если он длился всего 1 секунду, будет засчитан как 1 минута.\n",
    "Для веб-трафика отдельные сессии не считаются. Вместо этого общая сумма за месяц округляется в бо́льшую сторону. Если абонент использует 1025 мегабайт в этом месяце, с него возьмут плату за 2 гигабайта."
   ]
  },
  {
   "cell_type": "markdown",
   "id": "406be539",
   "metadata": {
    "cellId": "tgve52bennnzetmpwkgu8"
   },
   "source": [
    "### Цель исселодвания\n",
    "Проверить две гипотезы:\n",
    "1. средняя выручка пользователей тарифов «Ультра» и «Смарт» различаются;\n",
    "2. средняя выручка пользователей из Москвы отличается от выручки пользователей из других регионов."
   ]
  },
  {
   "cell_type": "markdown",
   "id": "75b7b6e0",
   "metadata": {
    "cellId": "2y056sg0p5nii1vkfpznei"
   },
   "source": [
    "### Ход исследования\n",
    "1. Изучение данных\n",
    "2. Предобработка данных\n",
    "3. Расчеты по данным\n",
    "4. Анализ данных\n",
    "5. Проверка гипотез\n",
    "6. Формирование вывода"
   ]
  },
  {
   "cell_type": "markdown",
   "id": "9433901e",
   "metadata": {
    "cellId": "q2hpiwkoeb5hejk0myhml"
   },
   "source": [
    "## Изучение данных"
   ]
  },
  {
   "cell_type": "code",
   "execution_count": 41,
   "id": "13e0b4b2",
   "metadata": {
    "cellId": "tqkds1w305vhciy1a90bg"
   },
   "outputs": [],
   "source": [
    "import pandas as pd\n",
    "import numpy as np\n",
    "import matplotlib.pyplot as plt"
   ]
  },
  {
   "cell_type": "markdown",
   "id": "62c818a2",
   "metadata": {
    "cellId": "joln1s0oeejdfcnxjeos8"
   },
   "source": [
    "Изучаю данные каждой из таблиц."
   ]
  },
  {
   "cell_type": "markdown",
   "id": "fc8d587b",
   "metadata": {
    "cellId": "unm6llvtj4figat01va08s"
   },
   "source": [
    "### Датафрейм Calls"
   ]
  },
  {
   "cell_type": "markdown",
   "id": "bf78e55a",
   "metadata": {},
   "source": [
    "<div class=\"alert alert-success\">\n",
    "<h3>✔ Комментарий ревьюера</h3>\n",
    "    \n",
    "Я так понимаю ты делаешь проект локально, указывай, пожалуйста, пути так, чтобы их не приходилось править, я ниже везде поправил\n",
    "</div>  "
   ]
  },
  {
   "cell_type": "code",
   "execution_count": 42,
   "id": "841f45f2",
   "metadata": {
    "cellId": "d9je7pnt1sbx1nn1pfs3ko"
   },
   "outputs": [
    {
     "name": "stdout",
     "output_type": "stream",
     "text": [
      "[Errno 2] File b'calls.csv' does not exist: b'calls.csv'\n",
      "<class 'pandas.core.frame.DataFrame'>\n",
      "RangeIndex: 202607 entries, 0 to 202606\n",
      "Data columns (total 4 columns):\n",
      "id           202607 non-null object\n",
      "call_date    202607 non-null object\n",
      "duration     202607 non-null float64\n",
      "user_id      202607 non-null int64\n",
      "dtypes: float64(1), int64(1), object(2)\n",
      "memory usage: 6.2+ MB\n"
     ]
    },
    {
     "data": {
      "text/html": [
       "<div>\n",
       "<style scoped>\n",
       "    .dataframe tbody tr th:only-of-type {\n",
       "        vertical-align: middle;\n",
       "    }\n",
       "\n",
       "    .dataframe tbody tr th {\n",
       "        vertical-align: top;\n",
       "    }\n",
       "\n",
       "    .dataframe thead th {\n",
       "        text-align: right;\n",
       "    }\n",
       "</style>\n",
       "<table border=\"1\" class=\"dataframe\">\n",
       "  <thead>\n",
       "    <tr style=\"text-align: right;\">\n",
       "      <th></th>\n",
       "      <th>id</th>\n",
       "      <th>call_date</th>\n",
       "      <th>duration</th>\n",
       "      <th>user_id</th>\n",
       "    </tr>\n",
       "  </thead>\n",
       "  <tbody>\n",
       "    <tr>\n",
       "      <td>0</td>\n",
       "      <td>1000_0</td>\n",
       "      <td>2018-07-25</td>\n",
       "      <td>0.00</td>\n",
       "      <td>1000</td>\n",
       "    </tr>\n",
       "    <tr>\n",
       "      <td>1</td>\n",
       "      <td>1000_1</td>\n",
       "      <td>2018-08-17</td>\n",
       "      <td>0.00</td>\n",
       "      <td>1000</td>\n",
       "    </tr>\n",
       "    <tr>\n",
       "      <td>2</td>\n",
       "      <td>1000_2</td>\n",
       "      <td>2018-06-11</td>\n",
       "      <td>2.85</td>\n",
       "      <td>1000</td>\n",
       "    </tr>\n",
       "    <tr>\n",
       "      <td>3</td>\n",
       "      <td>1000_3</td>\n",
       "      <td>2018-09-21</td>\n",
       "      <td>13.80</td>\n",
       "      <td>1000</td>\n",
       "    </tr>\n",
       "    <tr>\n",
       "      <td>4</td>\n",
       "      <td>1000_4</td>\n",
       "      <td>2018-12-15</td>\n",
       "      <td>5.18</td>\n",
       "      <td>1000</td>\n",
       "    </tr>\n",
       "  </tbody>\n",
       "</table>\n",
       "</div>"
      ],
      "text/plain": [
       "       id   call_date  duration  user_id\n",
       "0  1000_0  2018-07-25      0.00     1000\n",
       "1  1000_1  2018-08-17      0.00     1000\n",
       "2  1000_2  2018-06-11      2.85     1000\n",
       "3  1000_3  2018-09-21     13.80     1000\n",
       "4  1000_4  2018-12-15      5.18     1000"
      ]
     },
     "execution_count": 42,
     "metadata": {},
     "output_type": "execute_result"
    }
   ],
   "source": [
    "try:\n",
    "    calls = pd.read_csv('calls.csv')\n",
    "except FileNotFoundError as e:\n",
    "    print(e)\n",
    "    calls = pd.read_csv('/datasets/calls.csv')\n",
    "calls.info()\n",
    "calls.head()"
   ]
  },
  {
   "cell_type": "markdown",
   "id": "4c3f0e69",
   "metadata": {
    "cellId": "u7j2g88k32a68prg8gcym"
   },
   "source": [
    "В таблице \"calls\" представлены данные о звонках пользователей. \n",
    " - id - номер звонка\n",
    " - call_date - дата звонка\n",
    " - duration - длительность звонка\n",
    " - user_id - номер абонента."
   ]
  },
  {
   "cell_type": "markdown",
   "id": "6cc20b6c",
   "metadata": {
    "cellId": "2o7cy9aqkm16n8x0snym6"
   },
   "source": [
    "### Датафрейм Internet"
   ]
  },
  {
   "cell_type": "code",
   "execution_count": 43,
   "id": "5504743e",
   "metadata": {
    "cellId": "vk4l5saevipsold5226fp"
   },
   "outputs": [
    {
     "name": "stdout",
     "output_type": "stream",
     "text": [
      "[Errno 2] File b'internet.csv' does not exist: b'internet.csv'\n",
      "<class 'pandas.core.frame.DataFrame'>\n",
      "Int64Index: 149396 entries, 0 to 149395\n",
      "Data columns (total 4 columns):\n",
      "id              149396 non-null object\n",
      "mb_used         149396 non-null float64\n",
      "session_date    149396 non-null object\n",
      "user_id         149396 non-null int64\n",
      "dtypes: float64(1), int64(1), object(2)\n",
      "memory usage: 5.7+ MB\n"
     ]
    },
    {
     "data": {
      "text/html": [
       "<div>\n",
       "<style scoped>\n",
       "    .dataframe tbody tr th:only-of-type {\n",
       "        vertical-align: middle;\n",
       "    }\n",
       "\n",
       "    .dataframe tbody tr th {\n",
       "        vertical-align: top;\n",
       "    }\n",
       "\n",
       "    .dataframe thead th {\n",
       "        text-align: right;\n",
       "    }\n",
       "</style>\n",
       "<table border=\"1\" class=\"dataframe\">\n",
       "  <thead>\n",
       "    <tr style=\"text-align: right;\">\n",
       "      <th></th>\n",
       "      <th>id</th>\n",
       "      <th>mb_used</th>\n",
       "      <th>session_date</th>\n",
       "      <th>user_id</th>\n",
       "    </tr>\n",
       "  </thead>\n",
       "  <tbody>\n",
       "    <tr>\n",
       "      <td>0</td>\n",
       "      <td>1000_0</td>\n",
       "      <td>112.95</td>\n",
       "      <td>2018-11-25</td>\n",
       "      <td>1000</td>\n",
       "    </tr>\n",
       "    <tr>\n",
       "      <td>1</td>\n",
       "      <td>1000_1</td>\n",
       "      <td>1052.81</td>\n",
       "      <td>2018-09-07</td>\n",
       "      <td>1000</td>\n",
       "    </tr>\n",
       "    <tr>\n",
       "      <td>2</td>\n",
       "      <td>1000_2</td>\n",
       "      <td>1197.26</td>\n",
       "      <td>2018-06-25</td>\n",
       "      <td>1000</td>\n",
       "    </tr>\n",
       "    <tr>\n",
       "      <td>3</td>\n",
       "      <td>1000_3</td>\n",
       "      <td>550.27</td>\n",
       "      <td>2018-08-22</td>\n",
       "      <td>1000</td>\n",
       "    </tr>\n",
       "    <tr>\n",
       "      <td>4</td>\n",
       "      <td>1000_4</td>\n",
       "      <td>302.56</td>\n",
       "      <td>2018-09-24</td>\n",
       "      <td>1000</td>\n",
       "    </tr>\n",
       "  </tbody>\n",
       "</table>\n",
       "</div>"
      ],
      "text/plain": [
       "       id  mb_used session_date  user_id\n",
       "0  1000_0   112.95   2018-11-25     1000\n",
       "1  1000_1  1052.81   2018-09-07     1000\n",
       "2  1000_2  1197.26   2018-06-25     1000\n",
       "3  1000_3   550.27   2018-08-22     1000\n",
       "4  1000_4   302.56   2018-09-24     1000"
      ]
     },
     "execution_count": 43,
     "metadata": {},
     "output_type": "execute_result"
    }
   ],
   "source": [
    "try:\n",
    "    internet = pd.read_csv('internet.csv', index_col = 0)\n",
    "except FileNotFoundError as e:\n",
    "    print(e)\n",
    "    internet = pd.read_csv('/datasets/internet.csv', index_col = 0)\n",
    "internet.info()\n",
    "internet.head()"
   ]
  },
  {
   "cell_type": "markdown",
   "id": "d26195ce",
   "metadata": {
    "cellId": "56gtjobck2qluzpzjeu2ga"
   },
   "source": [
    "В таблице \"internet\" представлены данные об использовании интернета пользователями. \n",
    "\n",
    "- id - номер сессии\n",
    "- mb_used - количество использованных мегабайтов во время сессии\n",
    "- session_date - дата сессии\n",
    "- user_id - номер абонента."
   ]
  },
  {
   "cell_type": "markdown",
   "id": "40e3fe89",
   "metadata": {
    "cellId": "38ra2wt23ud4ji8b4poa0o"
   },
   "source": [
    "### Датафрейм Messages"
   ]
  },
  {
   "cell_type": "code",
   "execution_count": 44,
   "id": "0af67c7c",
   "metadata": {
    "cellId": "i101c4w92ddv7oapsalfd"
   },
   "outputs": [
    {
     "name": "stdout",
     "output_type": "stream",
     "text": [
      "[Errno 2] File b'messages.csv' does not exist: b'messages.csv'\n",
      "<class 'pandas.core.frame.DataFrame'>\n",
      "RangeIndex: 123036 entries, 0 to 123035\n",
      "Data columns (total 3 columns):\n",
      "id              123036 non-null object\n",
      "message_date    123036 non-null object\n",
      "user_id         123036 non-null int64\n",
      "dtypes: int64(1), object(2)\n",
      "memory usage: 2.8+ MB\n"
     ]
    },
    {
     "data": {
      "text/html": [
       "<div>\n",
       "<style scoped>\n",
       "    .dataframe tbody tr th:only-of-type {\n",
       "        vertical-align: middle;\n",
       "    }\n",
       "\n",
       "    .dataframe tbody tr th {\n",
       "        vertical-align: top;\n",
       "    }\n",
       "\n",
       "    .dataframe thead th {\n",
       "        text-align: right;\n",
       "    }\n",
       "</style>\n",
       "<table border=\"1\" class=\"dataframe\">\n",
       "  <thead>\n",
       "    <tr style=\"text-align: right;\">\n",
       "      <th></th>\n",
       "      <th>id</th>\n",
       "      <th>message_date</th>\n",
       "      <th>user_id</th>\n",
       "    </tr>\n",
       "  </thead>\n",
       "  <tbody>\n",
       "    <tr>\n",
       "      <td>0</td>\n",
       "      <td>1000_0</td>\n",
       "      <td>2018-06-27</td>\n",
       "      <td>1000</td>\n",
       "    </tr>\n",
       "    <tr>\n",
       "      <td>1</td>\n",
       "      <td>1000_1</td>\n",
       "      <td>2018-10-08</td>\n",
       "      <td>1000</td>\n",
       "    </tr>\n",
       "    <tr>\n",
       "      <td>2</td>\n",
       "      <td>1000_2</td>\n",
       "      <td>2018-08-04</td>\n",
       "      <td>1000</td>\n",
       "    </tr>\n",
       "    <tr>\n",
       "      <td>3</td>\n",
       "      <td>1000_3</td>\n",
       "      <td>2018-06-16</td>\n",
       "      <td>1000</td>\n",
       "    </tr>\n",
       "    <tr>\n",
       "      <td>4</td>\n",
       "      <td>1000_4</td>\n",
       "      <td>2018-12-05</td>\n",
       "      <td>1000</td>\n",
       "    </tr>\n",
       "  </tbody>\n",
       "</table>\n",
       "</div>"
      ],
      "text/plain": [
       "       id message_date  user_id\n",
       "0  1000_0   2018-06-27     1000\n",
       "1  1000_1   2018-10-08     1000\n",
       "2  1000_2   2018-08-04     1000\n",
       "3  1000_3   2018-06-16     1000\n",
       "4  1000_4   2018-12-05     1000"
      ]
     },
     "execution_count": 44,
     "metadata": {},
     "output_type": "execute_result"
    }
   ],
   "source": [
    "try:\n",
    "    messages = pd.read_csv('messages.csv')\n",
    "except FileNotFoundError as e:\n",
    "    print(e)\n",
    "    messages = pd.read_csv('/datasets/messages.csv')\n",
    "messages.info()\n",
    "messages.head()"
   ]
  },
  {
   "cell_type": "markdown",
   "id": "24ad7809",
   "metadata": {
    "cellId": "p2admzp8i3h2x838gq3lqg"
   },
   "source": [
    "В таблице \"messages\" представлены данные об отправке смс-сообщений пользователями. \n",
    "- id - номер сообщения\n",
    "- message_date - дата отправки сообщения\n",
    "- user_id - номер абонента."
   ]
  },
  {
   "cell_type": "markdown",
   "id": "521b33ae",
   "metadata": {
    "cellId": "i8cleawb4p8pd72x9kjn1r"
   },
   "source": [
    "### Датафрейм Tariffs"
   ]
  },
  {
   "cell_type": "code",
   "execution_count": 45,
   "id": "7053dd7a",
   "metadata": {
    "cellId": "hkg6jtqqberqe091odc9p9"
   },
   "outputs": [
    {
     "name": "stdout",
     "output_type": "stream",
     "text": [
      "[Errno 2] File b'tariffs.csv' does not exist: b'tariffs.csv'\n",
      "<class 'pandas.core.frame.DataFrame'>\n",
      "RangeIndex: 2 entries, 0 to 1\n",
      "Data columns (total 8 columns):\n",
      "messages_included        2 non-null int64\n",
      "mb_per_month_included    2 non-null int64\n",
      "minutes_included         2 non-null int64\n",
      "rub_monthly_fee          2 non-null int64\n",
      "rub_per_gb               2 non-null int64\n",
      "rub_per_message          2 non-null int64\n",
      "rub_per_minute           2 non-null int64\n",
      "tariff_name              2 non-null object\n",
      "dtypes: int64(7), object(1)\n",
      "memory usage: 256.0+ bytes\n"
     ]
    },
    {
     "data": {
      "text/html": [
       "<div>\n",
       "<style scoped>\n",
       "    .dataframe tbody tr th:only-of-type {\n",
       "        vertical-align: middle;\n",
       "    }\n",
       "\n",
       "    .dataframe tbody tr th {\n",
       "        vertical-align: top;\n",
       "    }\n",
       "\n",
       "    .dataframe thead th {\n",
       "        text-align: right;\n",
       "    }\n",
       "</style>\n",
       "<table border=\"1\" class=\"dataframe\">\n",
       "  <thead>\n",
       "    <tr style=\"text-align: right;\">\n",
       "      <th></th>\n",
       "      <th>messages_included</th>\n",
       "      <th>mb_per_month_included</th>\n",
       "      <th>minutes_included</th>\n",
       "      <th>rub_monthly_fee</th>\n",
       "      <th>rub_per_gb</th>\n",
       "      <th>rub_per_message</th>\n",
       "      <th>rub_per_minute</th>\n",
       "      <th>tariff_name</th>\n",
       "    </tr>\n",
       "  </thead>\n",
       "  <tbody>\n",
       "    <tr>\n",
       "      <td>0</td>\n",
       "      <td>50</td>\n",
       "      <td>15360</td>\n",
       "      <td>500</td>\n",
       "      <td>550</td>\n",
       "      <td>200</td>\n",
       "      <td>3</td>\n",
       "      <td>3</td>\n",
       "      <td>smart</td>\n",
       "    </tr>\n",
       "    <tr>\n",
       "      <td>1</td>\n",
       "      <td>1000</td>\n",
       "      <td>30720</td>\n",
       "      <td>3000</td>\n",
       "      <td>1950</td>\n",
       "      <td>150</td>\n",
       "      <td>1</td>\n",
       "      <td>1</td>\n",
       "      <td>ultra</td>\n",
       "    </tr>\n",
       "  </tbody>\n",
       "</table>\n",
       "</div>"
      ],
      "text/plain": [
       "   messages_included  mb_per_month_included  minutes_included  \\\n",
       "0                 50                  15360               500   \n",
       "1               1000                  30720              3000   \n",
       "\n",
       "   rub_monthly_fee  rub_per_gb  rub_per_message  rub_per_minute tariff_name  \n",
       "0              550         200                3               3       smart  \n",
       "1             1950         150                1               1       ultra  "
      ]
     },
     "execution_count": 45,
     "metadata": {},
     "output_type": "execute_result"
    }
   ],
   "source": [
    "try:\n",
    "    tariffs = pd.read_csv('tariffs.csv')\n",
    "except FileNotFoundError as e:\n",
    "    print(e)\n",
    "    tariffs = pd.read_csv('/datasets/tariffs.csv')\n",
    "\n",
    "tariffs.info()\n",
    "tariffs.head()"
   ]
  },
  {
   "cell_type": "markdown",
   "id": "eddd5b5e",
   "metadata": {
    "cellId": "ey2b0ffvzgrkoefpyzrk8"
   },
   "source": [
    "В таблице \"tariffs\" представлены данные об тарифах, всего два тарифа.\n",
    "- messages_included - включенное в тариф количество сообщений\n",
    "- mb_per_month_included - включенное в тариф количество мегабайт интернета\n",
    "- minutes_included - включенное в тариф количество минут звонков\n",
    "- rub_monthly_fee - плата за тариф за месяц\n",
    "- rub_per_gb - плата за дополнительный гигабайт интернета\n",
    "- rub_per_message - плата за дополнительную отправку смс сообщений\n",
    "- rub_per_minute - плата за дополнительные минуты звонков\n",
    "- tariff_name - название тарифа"
   ]
  },
  {
   "cell_type": "markdown",
   "id": "e285d447",
   "metadata": {
    "cellId": "nmle0ml5eyoi2yuxfx22e9"
   },
   "source": [
    "### Датафрейм Users"
   ]
  },
  {
   "cell_type": "code",
   "execution_count": 46,
   "id": "19a8b9a4",
   "metadata": {
    "cellId": "qkhtpa5q4ar94x0m1wg"
   },
   "outputs": [
    {
     "name": "stdout",
     "output_type": "stream",
     "text": [
      "[Errno 2] File b'users.csv' does not exist: b'users.csv'\n",
      "<class 'pandas.core.frame.DataFrame'>\n",
      "RangeIndex: 500 entries, 0 to 499\n",
      "Data columns (total 8 columns):\n",
      "user_id       500 non-null int64\n",
      "age           500 non-null int64\n",
      "churn_date    38 non-null object\n",
      "city          500 non-null object\n",
      "first_name    500 non-null object\n",
      "last_name     500 non-null object\n",
      "reg_date      500 non-null object\n",
      "tariff        500 non-null object\n",
      "dtypes: int64(2), object(6)\n",
      "memory usage: 31.4+ KB\n"
     ]
    },
    {
     "data": {
      "text/html": [
       "<div>\n",
       "<style scoped>\n",
       "    .dataframe tbody tr th:only-of-type {\n",
       "        vertical-align: middle;\n",
       "    }\n",
       "\n",
       "    .dataframe tbody tr th {\n",
       "        vertical-align: top;\n",
       "    }\n",
       "\n",
       "    .dataframe thead th {\n",
       "        text-align: right;\n",
       "    }\n",
       "</style>\n",
       "<table border=\"1\" class=\"dataframe\">\n",
       "  <thead>\n",
       "    <tr style=\"text-align: right;\">\n",
       "      <th></th>\n",
       "      <th>user_id</th>\n",
       "      <th>age</th>\n",
       "      <th>churn_date</th>\n",
       "      <th>city</th>\n",
       "      <th>first_name</th>\n",
       "      <th>last_name</th>\n",
       "      <th>reg_date</th>\n",
       "      <th>tariff</th>\n",
       "    </tr>\n",
       "  </thead>\n",
       "  <tbody>\n",
       "    <tr>\n",
       "      <td>19</td>\n",
       "      <td>1019</td>\n",
       "      <td>63</td>\n",
       "      <td>2018-10-05</td>\n",
       "      <td>Томск</td>\n",
       "      <td>Игнатий</td>\n",
       "      <td>Круглов</td>\n",
       "      <td>2018-05-16</td>\n",
       "      <td>ultra</td>\n",
       "    </tr>\n",
       "    <tr>\n",
       "      <td>20</td>\n",
       "      <td>1020</td>\n",
       "      <td>59</td>\n",
       "      <td>2018-12-18</td>\n",
       "      <td>Чита</td>\n",
       "      <td>Тала</td>\n",
       "      <td>Костина</td>\n",
       "      <td>2018-10-22</td>\n",
       "      <td>smart</td>\n",
       "    </tr>\n",
       "    <tr>\n",
       "      <td>34</td>\n",
       "      <td>1034</td>\n",
       "      <td>66</td>\n",
       "      <td>2018-11-21</td>\n",
       "      <td>Вологда</td>\n",
       "      <td>Святослав</td>\n",
       "      <td>Бондарев</td>\n",
       "      <td>2018-08-26</td>\n",
       "      <td>smart</td>\n",
       "    </tr>\n",
       "    <tr>\n",
       "      <td>50</td>\n",
       "      <td>1050</td>\n",
       "      <td>44</td>\n",
       "      <td>2018-10-03</td>\n",
       "      <td>Тюмень</td>\n",
       "      <td>Рузана</td>\n",
       "      <td>Аничкина</td>\n",
       "      <td>2018-06-16</td>\n",
       "      <td>ultra</td>\n",
       "    </tr>\n",
       "    <tr>\n",
       "      <td>51</td>\n",
       "      <td>1051</td>\n",
       "      <td>37</td>\n",
       "      <td>2018-10-14</td>\n",
       "      <td>Москва</td>\n",
       "      <td>Кристина</td>\n",
       "      <td>Сомова</td>\n",
       "      <td>2018-05-28</td>\n",
       "      <td>smart</td>\n",
       "    </tr>\n",
       "  </tbody>\n",
       "</table>\n",
       "</div>"
      ],
      "text/plain": [
       "    user_id  age  churn_date     city first_name last_name    reg_date tariff\n",
       "19     1019   63  2018-10-05    Томск    Игнатий   Круглов  2018-05-16  ultra\n",
       "20     1020   59  2018-12-18     Чита       Тала   Костина  2018-10-22  smart\n",
       "34     1034   66  2018-11-21  Вологда  Святослав  Бондарев  2018-08-26  smart\n",
       "50     1050   44  2018-10-03   Тюмень     Рузана  Аничкина  2018-06-16  ultra\n",
       "51     1051   37  2018-10-14   Москва   Кристина    Сомова  2018-05-28  smart"
      ]
     },
     "execution_count": 46,
     "metadata": {},
     "output_type": "execute_result"
    }
   ],
   "source": [
    "try:\n",
    "    users = pd.read_csv('users.csv')\n",
    "except FileNotFoundError as e:\n",
    "    print(e)\n",
    "    users = pd.read_csv('/datasets/users.csv')\n",
    "users.info()\n",
    "users[~users['churn_date'].isna()].head()"
   ]
  },
  {
   "cell_type": "markdown",
   "id": "2df76463",
   "metadata": {
    "cellId": "cmhlijgquopsyk8kls888k"
   },
   "source": [
    "В таблице \"users\" представлены данные о пользователях, которые пользуются исследуемыми тарифами.\n",
    "- user_id - номер абонента\n",
    "- age - возраст пользователя\n",
    "- churn_date - дата отключения тарифа\n",
    "- city - город проживания пользователя\n",
    "- first_name - имя пользователя\n",
    "- last_name - фамилия пользователя\n",
    "- reg_date - дата подключения тарифа\n",
    "- tariff - название тарифа"
   ]
  },
  {
   "cell_type": "markdown",
   "id": "db68cc10",
   "metadata": {
    "cellId": "dr6s8r5i5xo41g20bwhlfv"
   },
   "source": [
    "## Предобработка данных"
   ]
  },
  {
   "cell_type": "markdown",
   "id": "542077ba",
   "metadata": {
    "cellId": "1t0n90z16utluun73ix2yi"
   },
   "source": [
    "Пропусков в каждой из таблиц не обнаружено (за исключением столбца churn_date в таблице users, но это нормально, так как это означает, что тариф у абонента еще действующий).\n",
    "В примечании указано, кто компания \"Мегалайн\" округляет длительность звонков до минуты в большую сторону. Приведу значения в таблице calls к корректным (округленным) методом np.ceil(). Нулями обозначены пропущенные вызовы, поэтому эти значения оставляю как есть."
   ]
  },
  {
   "cell_type": "code",
   "execution_count": 47,
   "id": "cba0c878",
   "metadata": {
    "cellId": "h9gh4gp1m6su1krur1qxn"
   },
   "outputs": [],
   "source": [
    "calls['duration'] = np.ceil(calls['duration'])"
   ]
  },
  {
   "cell_type": "markdown",
   "id": "16ef3836",
   "metadata": {},
   "source": [
    "<div class=\"alert alert-success\">\n",
    "<h3>✔ Комментарий ревьюера</h3>\n",
    "    \n",
    "Все верно, если применять функцию `np.ceil` именно к столбцу, а не через `apply`, то работать будет быстрее, потому что `numpy` довольно умная библиотека\n",
    "</div>  "
   ]
  },
  {
   "cell_type": "markdown",
   "id": "12515a9a",
   "metadata": {
    "cellId": "q43yegm4g8swy49v80co8o"
   },
   "source": [
    "Так же в примечании указано, что использованные гигабайты округляются в конце месяца, поэтому я сперва приведу данные к необходимому форматы даты методом pd.datetime() и выведу месяцы из даты етодом dt.month, а затем сгруппирую данные по месяцу и уникальному пользователю и округлю значения в большую сторону (при этом разделю мегабайты на 1024, чтобы получить гигабайты)."
   ]
  },
  {
   "cell_type": "code",
   "execution_count": 48,
   "id": "345c04a1",
   "metadata": {
    "cellId": "0f9m47t8pkdzkmws4xh4op"
   },
   "outputs": [],
   "source": [
    "internet['session_date'] = pd.to_datetime(internet['session_date'])"
   ]
  },
  {
   "cell_type": "code",
   "execution_count": 49,
   "id": "08c90f58",
   "metadata": {
    "cellId": "7dojyb3qeq8oda2i99g5oj"
   },
   "outputs": [],
   "source": [
    "internet['month'] = internet['session_date'].dt.month"
   ]
  },
  {
   "cell_type": "markdown",
   "id": "d470d613",
   "metadata": {},
   "source": [
    "<div class=\"alert alert-success\">\n",
    "<h3>✔ Комментарий ревьюера</h3>\n",
    "    \n",
    "Чтобы так выделять месяц, надо быть уверенной в том, что все сессии были в пределах одного года, потому что иначе так можно склеить месяцы для разных лет в один. Можно либо проверить, что всё ок, либо выделять вместе с месяцем также и год, например, через `astype('datetime64[M]')`\n",
    "</div>  "
   ]
  },
  {
   "cell_type": "code",
   "execution_count": 50,
   "id": "18f1c316",
   "metadata": {
    "cellId": "6ij26oc7qfipxoun1xjef"
   },
   "outputs": [
    {
     "data": {
      "text/html": [
       "<div>\n",
       "<style scoped>\n",
       "    .dataframe tbody tr th:only-of-type {\n",
       "        vertical-align: middle;\n",
       "    }\n",
       "\n",
       "    .dataframe tbody tr th {\n",
       "        vertical-align: top;\n",
       "    }\n",
       "\n",
       "    .dataframe thead th {\n",
       "        text-align: right;\n",
       "    }\n",
       "</style>\n",
       "<table border=\"1\" class=\"dataframe\">\n",
       "  <thead>\n",
       "    <tr style=\"text-align: right;\">\n",
       "      <th></th>\n",
       "      <th>month</th>\n",
       "      <th>user_id</th>\n",
       "      <th>mb_used</th>\n",
       "    </tr>\n",
       "  </thead>\n",
       "  <tbody>\n",
       "    <tr>\n",
       "      <td>1149</td>\n",
       "      <td>8</td>\n",
       "      <td>1000</td>\n",
       "      <td>14055.93</td>\n",
       "    </tr>\n",
       "    <tr>\n",
       "      <td>1863</td>\n",
       "      <td>10</td>\n",
       "      <td>1000</td>\n",
       "      <td>14702.49</td>\n",
       "    </tr>\n",
       "    <tr>\n",
       "      <td>611</td>\n",
       "      <td>6</td>\n",
       "      <td>1000</td>\n",
       "      <td>23233.77</td>\n",
       "    </tr>\n",
       "    <tr>\n",
       "      <td>2279</td>\n",
       "      <td>11</td>\n",
       "      <td>1000</td>\n",
       "      <td>14756.47</td>\n",
       "    </tr>\n",
       "    <tr>\n",
       "      <td>2728</td>\n",
       "      <td>12</td>\n",
       "      <td>1000</td>\n",
       "      <td>9817.61</td>\n",
       "    </tr>\n",
       "    <tr>\n",
       "      <td>...</td>\n",
       "      <td>...</td>\n",
       "      <td>...</td>\n",
       "      <td>...</td>\n",
       "    </tr>\n",
       "    <tr>\n",
       "      <td>1148</td>\n",
       "      <td>7</td>\n",
       "      <td>1498</td>\n",
       "      <td>7476.24</td>\n",
       "    </tr>\n",
       "    <tr>\n",
       "      <td>2727</td>\n",
       "      <td>11</td>\n",
       "      <td>1499</td>\n",
       "      <td>17963.31</td>\n",
       "    </tr>\n",
       "    <tr>\n",
       "      <td>1862</td>\n",
       "      <td>9</td>\n",
       "      <td>1499</td>\n",
       "      <td>1845.75</td>\n",
       "    </tr>\n",
       "    <tr>\n",
       "      <td>2278</td>\n",
       "      <td>10</td>\n",
       "      <td>1499</td>\n",
       "      <td>17788.51</td>\n",
       "    </tr>\n",
       "    <tr>\n",
       "      <td>3202</td>\n",
       "      <td>12</td>\n",
       "      <td>1499</td>\n",
       "      <td>13055.58</td>\n",
       "    </tr>\n",
       "  </tbody>\n",
       "</table>\n",
       "<p>3203 rows × 3 columns</p>\n",
       "</div>"
      ],
      "text/plain": [
       "      month  user_id   mb_used\n",
       "1149      8     1000  14055.93\n",
       "1863     10     1000  14702.49\n",
       "611       6     1000  23233.77\n",
       "2279     11     1000  14756.47\n",
       "2728     12     1000   9817.61\n",
       "...     ...      ...       ...\n",
       "1148      7     1498   7476.24\n",
       "2727     11     1499  17963.31\n",
       "1862      9     1499   1845.75\n",
       "2278     10     1499  17788.51\n",
       "3202     12     1499  13055.58\n",
       "\n",
       "[3203 rows x 3 columns]"
      ]
     },
     "execution_count": 50,
     "metadata": {},
     "output_type": "execute_result"
    }
   ],
   "source": [
    "mb_per_month = internet.groupby(['month', 'user_id']).agg('sum').reset_index()\n",
    "mb_per_month.sort_values('user_id')"
   ]
  },
  {
   "cell_type": "code",
   "execution_count": 51,
   "id": "782022d9",
   "metadata": {
    "cellId": "vqne2cjokjrdp6ec8nj5c"
   },
   "outputs": [
    {
     "data": {
      "text/html": [
       "<div>\n",
       "<style scoped>\n",
       "    .dataframe tbody tr th:only-of-type {\n",
       "        vertical-align: middle;\n",
       "    }\n",
       "\n",
       "    .dataframe tbody tr th {\n",
       "        vertical-align: top;\n",
       "    }\n",
       "\n",
       "    .dataframe thead th {\n",
       "        text-align: right;\n",
       "    }\n",
       "</style>\n",
       "<table border=\"1\" class=\"dataframe\">\n",
       "  <thead>\n",
       "    <tr style=\"text-align: right;\">\n",
       "      <th></th>\n",
       "      <th>month</th>\n",
       "      <th>user_id</th>\n",
       "      <th>mb_used</th>\n",
       "      <th>gb_used</th>\n",
       "    </tr>\n",
       "  </thead>\n",
       "  <tbody>\n",
       "    <tr>\n",
       "      <td>0</td>\n",
       "      <td>1</td>\n",
       "      <td>1005</td>\n",
       "      <td>2727.97</td>\n",
       "      <td>3.0</td>\n",
       "    </tr>\n",
       "    <tr>\n",
       "      <td>1</td>\n",
       "      <td>1</td>\n",
       "      <td>1032</td>\n",
       "      <td>24127.69</td>\n",
       "      <td>24.0</td>\n",
       "    </tr>\n",
       "    <tr>\n",
       "      <td>2</td>\n",
       "      <td>1</td>\n",
       "      <td>1045</td>\n",
       "      <td>2346.71</td>\n",
       "      <td>3.0</td>\n",
       "    </tr>\n",
       "    <tr>\n",
       "      <td>3</td>\n",
       "      <td>1</td>\n",
       "      <td>1055</td>\n",
       "      <td>17090.88</td>\n",
       "      <td>17.0</td>\n",
       "    </tr>\n",
       "    <tr>\n",
       "      <td>4</td>\n",
       "      <td>1</td>\n",
       "      <td>1071</td>\n",
       "      <td>15604.34</td>\n",
       "      <td>16.0</td>\n",
       "    </tr>\n",
       "    <tr>\n",
       "      <td>...</td>\n",
       "      <td>...</td>\n",
       "      <td>...</td>\n",
       "      <td>...</td>\n",
       "      <td>...</td>\n",
       "    </tr>\n",
       "    <tr>\n",
       "      <td>3198</td>\n",
       "      <td>12</td>\n",
       "      <td>1494</td>\n",
       "      <td>17621.21</td>\n",
       "      <td>18.0</td>\n",
       "    </tr>\n",
       "    <tr>\n",
       "      <td>3199</td>\n",
       "      <td>12</td>\n",
       "      <td>1495</td>\n",
       "      <td>23426.76</td>\n",
       "      <td>23.0</td>\n",
       "    </tr>\n",
       "    <tr>\n",
       "      <td>3200</td>\n",
       "      <td>12</td>\n",
       "      <td>1496</td>\n",
       "      <td>20736.15</td>\n",
       "      <td>21.0</td>\n",
       "    </tr>\n",
       "    <tr>\n",
       "      <td>3201</td>\n",
       "      <td>12</td>\n",
       "      <td>1497</td>\n",
       "      <td>19918.60</td>\n",
       "      <td>20.0</td>\n",
       "    </tr>\n",
       "    <tr>\n",
       "      <td>3202</td>\n",
       "      <td>12</td>\n",
       "      <td>1499</td>\n",
       "      <td>13055.58</td>\n",
       "      <td>13.0</td>\n",
       "    </tr>\n",
       "  </tbody>\n",
       "</table>\n",
       "<p>3203 rows × 4 columns</p>\n",
       "</div>"
      ],
      "text/plain": [
       "      month  user_id   mb_used  gb_used\n",
       "0         1     1005   2727.97      3.0\n",
       "1         1     1032  24127.69     24.0\n",
       "2         1     1045   2346.71      3.0\n",
       "3         1     1055  17090.88     17.0\n",
       "4         1     1071  15604.34     16.0\n",
       "...     ...      ...       ...      ...\n",
       "3198     12     1494  17621.21     18.0\n",
       "3199     12     1495  23426.76     23.0\n",
       "3200     12     1496  20736.15     21.0\n",
       "3201     12     1497  19918.60     20.0\n",
       "3202     12     1499  13055.58     13.0\n",
       "\n",
       "[3203 rows x 4 columns]"
      ]
     },
     "execution_count": 51,
     "metadata": {},
     "output_type": "execute_result"
    }
   ],
   "source": [
    "mb_per_month['gb_used'] = np.ceil(mb_per_month['mb_used']/1024)\n",
    "mb_per_month"
   ]
  },
  {
   "cell_type": "markdown",
   "id": "c8b1e807",
   "metadata": {
    "cellId": "lr7qrsnn5r41chie11slp"
   },
   "source": [
    "## Расчеты показателей\n",
    "### Количество сделанных звонков и израсходованных минут разговора по месяцам"
   ]
  },
  {
   "cell_type": "code",
   "execution_count": 52,
   "id": "f3444069",
   "metadata": {
    "cellId": "obk6v55qim94dn24z5ai"
   },
   "outputs": [],
   "source": [
    "calls['call_date'] = pd.to_datetime(calls['call_date'])\n",
    "calls['month'] = calls['call_date'].dt.month"
   ]
  },
  {
   "cell_type": "code",
   "execution_count": 53,
   "id": "d0c4e06d",
   "metadata": {
    "cellId": "y1rq3641ot416f15bnk6r"
   },
   "outputs": [
    {
     "data": {
      "text/html": [
       "<div>\n",
       "<style scoped>\n",
       "    .dataframe tbody tr th:only-of-type {\n",
       "        vertical-align: middle;\n",
       "    }\n",
       "\n",
       "    .dataframe tbody tr th {\n",
       "        vertical-align: top;\n",
       "    }\n",
       "\n",
       "    .dataframe thead th {\n",
       "        text-align: right;\n",
       "    }\n",
       "</style>\n",
       "<table border=\"1\" class=\"dataframe\">\n",
       "  <thead>\n",
       "    <tr style=\"text-align: right;\">\n",
       "      <th></th>\n",
       "      <th>month</th>\n",
       "      <th>user_id</th>\n",
       "      <th>calls_count</th>\n",
       "      <th>duration_calls_per_month</th>\n",
       "    </tr>\n",
       "  </thead>\n",
       "  <tbody>\n",
       "    <tr>\n",
       "      <td>0</td>\n",
       "      <td>1</td>\n",
       "      <td>1005</td>\n",
       "      <td>15</td>\n",
       "      <td>95.0</td>\n",
       "    </tr>\n",
       "    <tr>\n",
       "      <td>1</td>\n",
       "      <td>1</td>\n",
       "      <td>1032</td>\n",
       "      <td>61</td>\n",
       "      <td>380.0</td>\n",
       "    </tr>\n",
       "    <tr>\n",
       "      <td>2</td>\n",
       "      <td>1</td>\n",
       "      <td>1045</td>\n",
       "      <td>1</td>\n",
       "      <td>9.0</td>\n",
       "    </tr>\n",
       "    <tr>\n",
       "      <td>3</td>\n",
       "      <td>1</td>\n",
       "      <td>1055</td>\n",
       "      <td>64</td>\n",
       "      <td>551.0</td>\n",
       "    </tr>\n",
       "    <tr>\n",
       "      <td>4</td>\n",
       "      <td>1</td>\n",
       "      <td>1071</td>\n",
       "      <td>24</td>\n",
       "      <td>194.0</td>\n",
       "    </tr>\n",
       "    <tr>\n",
       "      <td>...</td>\n",
       "      <td>...</td>\n",
       "      <td>...</td>\n",
       "      <td>...</td>\n",
       "      <td>...</td>\n",
       "    </tr>\n",
       "    <tr>\n",
       "      <td>3169</td>\n",
       "      <td>12</td>\n",
       "      <td>1494</td>\n",
       "      <td>62</td>\n",
       "      <td>418.0</td>\n",
       "    </tr>\n",
       "    <tr>\n",
       "      <td>3170</td>\n",
       "      <td>12</td>\n",
       "      <td>1495</td>\n",
       "      <td>155</td>\n",
       "      <td>1031.0</td>\n",
       "    </tr>\n",
       "    <tr>\n",
       "      <td>3171</td>\n",
       "      <td>12</td>\n",
       "      <td>1496</td>\n",
       "      <td>80</td>\n",
       "      <td>518.0</td>\n",
       "    </tr>\n",
       "    <tr>\n",
       "      <td>3172</td>\n",
       "      <td>12</td>\n",
       "      <td>1497</td>\n",
       "      <td>71</td>\n",
       "      <td>545.0</td>\n",
       "    </tr>\n",
       "    <tr>\n",
       "      <td>3173</td>\n",
       "      <td>12</td>\n",
       "      <td>1499</td>\n",
       "      <td>69</td>\n",
       "      <td>492.0</td>\n",
       "    </tr>\n",
       "  </tbody>\n",
       "</table>\n",
       "<p>3174 rows × 4 columns</p>\n",
       "</div>"
      ],
      "text/plain": [
       "      month  user_id  calls_count  duration_calls_per_month\n",
       "0         1     1005           15                      95.0\n",
       "1         1     1032           61                     380.0\n",
       "2         1     1045            1                       9.0\n",
       "3         1     1055           64                     551.0\n",
       "4         1     1071           24                     194.0\n",
       "...     ...      ...          ...                       ...\n",
       "3169     12     1494           62                     418.0\n",
       "3170     12     1495          155                    1031.0\n",
       "3171     12     1496           80                     518.0\n",
       "3172     12     1497           71                     545.0\n",
       "3173     12     1499           69                     492.0\n",
       "\n",
       "[3174 rows x 4 columns]"
      ]
     },
     "execution_count": 53,
     "metadata": {},
     "output_type": "execute_result"
    }
   ],
   "source": [
    "calls_per_month = calls.pivot_table(index = ['month', 'user_id'], values = 'duration',aggfunc = ('sum','count')).reset_index()\n",
    "calls_per_month = calls_per_month.rename(columns = {'count': 'calls_count', 'sum': 'duration_calls_per_month'})\n",
    "calls_per_month"
   ]
  },
  {
   "cell_type": "markdown",
   "id": "ce742612",
   "metadata": {},
   "source": [
    "<div class=\"alert alert-success\">\n",
    "<h3>✔ Комментарий ревьюера</h3>\n",
    "    \n",
    "Если пользоваться `groupby`, то `rename` можно делать прямо в `agg`:\n",
    "    \n",
    "```python\n",
    "\n",
    "calls.groupby(...).agg(calls_count=('duration','count'), calls_sum=('duration','sum')).reset_index()\n",
    "\n",
    "```\n",
    "</div>  "
   ]
  },
  {
   "cell_type": "markdown",
   "id": "6af25636",
   "metadata": {
    "cellId": "qhkegld648c82lj4t9hr4c"
   },
   "source": [
    "### Количество отправленных сообщений по месяцам"
   ]
  },
  {
   "cell_type": "code",
   "execution_count": 54,
   "id": "58ac5321",
   "metadata": {
    "cellId": "ktw1xnkjzts5aq2yem3zgm"
   },
   "outputs": [],
   "source": [
    "messages['message_date'] = pd.to_datetime(messages['message_date'])\n",
    "messages['month'] = messages['message_date'].dt.month"
   ]
  },
  {
   "cell_type": "code",
   "execution_count": 55,
   "id": "a10e1c94",
   "metadata": {
    "cellId": "tkmzbj9ie1byw6su40xxhr"
   },
   "outputs": [],
   "source": [
    "messages_per_month = messages.pivot_table(index = ['month', 'user_id'],values =  'id',aggfunc =('count')).reset_index()\n",
    "messages_per_month = messages_per_month.rename(columns = {'id': 'messages_per_month'})"
   ]
  },
  {
   "cell_type": "code",
   "execution_count": 56,
   "id": "79e5a896",
   "metadata": {
    "cellId": "d2d2e8tvugonqxuhkh9gr"
   },
   "outputs": [
    {
     "data": {
      "text/html": [
       "<div>\n",
       "<style scoped>\n",
       "    .dataframe tbody tr th:only-of-type {\n",
       "        vertical-align: middle;\n",
       "    }\n",
       "\n",
       "    .dataframe tbody tr th {\n",
       "        vertical-align: top;\n",
       "    }\n",
       "\n",
       "    .dataframe thead th {\n",
       "        text-align: right;\n",
       "    }\n",
       "</style>\n",
       "<table border=\"1\" class=\"dataframe\">\n",
       "  <thead>\n",
       "    <tr style=\"text-align: right;\">\n",
       "      <th></th>\n",
       "      <th>month</th>\n",
       "      <th>user_id</th>\n",
       "      <th>messages_per_month</th>\n",
       "    </tr>\n",
       "  </thead>\n",
       "  <tbody>\n",
       "    <tr>\n",
       "      <td>963</td>\n",
       "      <td>8</td>\n",
       "      <td>1000</td>\n",
       "      <td>81</td>\n",
       "    </tr>\n",
       "    <tr>\n",
       "      <td>1930</td>\n",
       "      <td>11</td>\n",
       "      <td>1000</td>\n",
       "      <td>58</td>\n",
       "    </tr>\n",
       "    <tr>\n",
       "      <td>1255</td>\n",
       "      <td>9</td>\n",
       "      <td>1000</td>\n",
       "      <td>57</td>\n",
       "    </tr>\n",
       "    <tr>\n",
       "      <td>507</td>\n",
       "      <td>6</td>\n",
       "      <td>1000</td>\n",
       "      <td>60</td>\n",
       "    </tr>\n",
       "    <tr>\n",
       "      <td>2313</td>\n",
       "      <td>12</td>\n",
       "      <td>1000</td>\n",
       "      <td>70</td>\n",
       "    </tr>\n",
       "    <tr>\n",
       "      <td>...</td>\n",
       "      <td>...</td>\n",
       "      <td>...</td>\n",
       "      <td>...</td>\n",
       "    </tr>\n",
       "    <tr>\n",
       "      <td>962</td>\n",
       "      <td>7</td>\n",
       "      <td>1498</td>\n",
       "      <td>20</td>\n",
       "    </tr>\n",
       "    <tr>\n",
       "      <td>2312</td>\n",
       "      <td>11</td>\n",
       "      <td>1499</td>\n",
       "      <td>59</td>\n",
       "    </tr>\n",
       "    <tr>\n",
       "      <td>1929</td>\n",
       "      <td>10</td>\n",
       "      <td>1499</td>\n",
       "      <td>48</td>\n",
       "    </tr>\n",
       "    <tr>\n",
       "      <td>1572</td>\n",
       "      <td>9</td>\n",
       "      <td>1499</td>\n",
       "      <td>11</td>\n",
       "    </tr>\n",
       "    <tr>\n",
       "      <td>2716</td>\n",
       "      <td>12</td>\n",
       "      <td>1499</td>\n",
       "      <td>66</td>\n",
       "    </tr>\n",
       "  </tbody>\n",
       "</table>\n",
       "<p>2717 rows × 3 columns</p>\n",
       "</div>"
      ],
      "text/plain": [
       "      month  user_id  messages_per_month\n",
       "963       8     1000                  81\n",
       "1930     11     1000                  58\n",
       "1255      9     1000                  57\n",
       "507       6     1000                  60\n",
       "2313     12     1000                  70\n",
       "...     ...      ...                 ...\n",
       "962       7     1498                  20\n",
       "2312     11     1499                  59\n",
       "1929     10     1499                  48\n",
       "1572      9     1499                  11\n",
       "2716     12     1499                  66\n",
       "\n",
       "[2717 rows x 3 columns]"
      ]
     },
     "execution_count": 56,
     "metadata": {},
     "output_type": "execute_result"
    }
   ],
   "source": [
    "messages_per_month.sort_values('user_id')"
   ]
  },
  {
   "cell_type": "markdown",
   "id": "2953bd2c",
   "metadata": {
    "cellId": "shkbail34uj33u495eiqj"
   },
   "source": [
    "###  Расчет выручки"
   ]
  },
  {
   "cell_type": "markdown",
   "id": "a6a5a4a4",
   "metadata": {
    "cellId": "y8sjfld2dwvri95fslhe"
   },
   "source": [
    "Создаю датафрейм на основе всех таблиц с данными, которые я посчитала выше. Так же присоединяю информацию о пользователе. Соедняю таблицы методом merge()."
   ]
  },
  {
   "cell_type": "code",
   "execution_count": 57,
   "id": "999fb1d4",
   "metadata": {
    "cellId": "st5mqdi4vurnerwxzjjan"
   },
   "outputs": [],
   "source": [
    "df = calls_per_month.merge(messages_per_month, on = ['month','user_id'], how = 'outer')\n",
    "df = df.merge(mb_per_month, on = ['user_id','month'], how = 'outer')\n",
    "df = df.merge(users, on = 'user_id', how = 'outer')"
   ]
  },
  {
   "cell_type": "markdown",
   "id": "dfafdb18",
   "metadata": {},
   "source": [
    "<div class=\"alert alert-success\">\n",
    "<h3>✔ Комментарий ревьюера</h3>\n",
    "    \n",
    "Всё верно, с `outer` никакие записи не теряются. Колонку ниже можно не переименовывать, в `merge` можно указать колонки, по которым происходит объединение через `left_on` и `right_on`\n",
    "</div>  "
   ]
  },
  {
   "cell_type": "markdown",
   "id": "11af98f4",
   "metadata": {
    "cellId": "hwvco1zptvlo6smsxip9c8"
   },
   "source": [
    "Для того, чтобы присоединить информацию об оплате тарифов, переименную колонку tariff на tariff_name, чтобы названия колонок, по которым идет совмещение совпадали. далее методом merge() сделаю присоединение."
   ]
  },
  {
   "cell_type": "code",
   "execution_count": 58,
   "id": "908e7e2e",
   "metadata": {
    "cellId": "l1dhzp7s37yw3tu52o8vd"
   },
   "outputs": [],
   "source": [
    "df = df.rename(columns = {'tariff': 'tariff_name'})"
   ]
  },
  {
   "cell_type": "code",
   "execution_count": 59,
   "id": "24633a0f",
   "metadata": {
    "cellId": "9s51846qz5gy1izl7imjc"
   },
   "outputs": [
    {
     "data": {
      "text/html": [
       "<div>\n",
       "<style scoped>\n",
       "    .dataframe tbody tr th:only-of-type {\n",
       "        vertical-align: middle;\n",
       "    }\n",
       "\n",
       "    .dataframe tbody tr th {\n",
       "        vertical-align: top;\n",
       "    }\n",
       "\n",
       "    .dataframe thead th {\n",
       "        text-align: right;\n",
       "    }\n",
       "</style>\n",
       "<table border=\"1\" class=\"dataframe\">\n",
       "  <thead>\n",
       "    <tr style=\"text-align: right;\">\n",
       "      <th></th>\n",
       "      <th>month</th>\n",
       "      <th>user_id</th>\n",
       "      <th>calls_count</th>\n",
       "      <th>duration_calls_per_month</th>\n",
       "      <th>messages_per_month</th>\n",
       "      <th>mb_used</th>\n",
       "      <th>gb_used</th>\n",
       "      <th>age</th>\n",
       "      <th>churn_date</th>\n",
       "      <th>city</th>\n",
       "      <th>...</th>\n",
       "      <th>last_name</th>\n",
       "      <th>reg_date</th>\n",
       "      <th>tariff_name</th>\n",
       "      <th>messages_included</th>\n",
       "      <th>mb_per_month_included</th>\n",
       "      <th>minutes_included</th>\n",
       "      <th>rub_monthly_fee</th>\n",
       "      <th>rub_per_gb</th>\n",
       "      <th>rub_per_message</th>\n",
       "      <th>rub_per_minute</th>\n",
       "    </tr>\n",
       "  </thead>\n",
       "  <tbody>\n",
       "    <tr>\n",
       "      <td>0</td>\n",
       "      <td>1.0</td>\n",
       "      <td>1005</td>\n",
       "      <td>15.0</td>\n",
       "      <td>95.0</td>\n",
       "      <td>7.0</td>\n",
       "      <td>2727.97</td>\n",
       "      <td>3.0</td>\n",
       "      <td>67</td>\n",
       "      <td>NaN</td>\n",
       "      <td>Набережные Челны</td>\n",
       "      <td>...</td>\n",
       "      <td>Горлов</td>\n",
       "      <td>2018-01-25</td>\n",
       "      <td>smart</td>\n",
       "      <td>50</td>\n",
       "      <td>15360</td>\n",
       "      <td>500</td>\n",
       "      <td>550</td>\n",
       "      <td>200</td>\n",
       "      <td>3</td>\n",
       "      <td>3</td>\n",
       "    </tr>\n",
       "    <tr>\n",
       "      <td>1</td>\n",
       "      <td>2.0</td>\n",
       "      <td>1005</td>\n",
       "      <td>69.0</td>\n",
       "      <td>456.0</td>\n",
       "      <td>38.0</td>\n",
       "      <td>7383.93</td>\n",
       "      <td>8.0</td>\n",
       "      <td>67</td>\n",
       "      <td>NaN</td>\n",
       "      <td>Набережные Челны</td>\n",
       "      <td>...</td>\n",
       "      <td>Горлов</td>\n",
       "      <td>2018-01-25</td>\n",
       "      <td>smart</td>\n",
       "      <td>50</td>\n",
       "      <td>15360</td>\n",
       "      <td>500</td>\n",
       "      <td>550</td>\n",
       "      <td>200</td>\n",
       "      <td>3</td>\n",
       "      <td>3</td>\n",
       "    </tr>\n",
       "    <tr>\n",
       "      <td>2</td>\n",
       "      <td>3.0</td>\n",
       "      <td>1005</td>\n",
       "      <td>77.0</td>\n",
       "      <td>606.0</td>\n",
       "      <td>56.0</td>\n",
       "      <td>11104.25</td>\n",
       "      <td>11.0</td>\n",
       "      <td>67</td>\n",
       "      <td>NaN</td>\n",
       "      <td>Набережные Челны</td>\n",
       "      <td>...</td>\n",
       "      <td>Горлов</td>\n",
       "      <td>2018-01-25</td>\n",
       "      <td>smart</td>\n",
       "      <td>50</td>\n",
       "      <td>15360</td>\n",
       "      <td>500</td>\n",
       "      <td>550</td>\n",
       "      <td>200</td>\n",
       "      <td>3</td>\n",
       "      <td>3</td>\n",
       "    </tr>\n",
       "    <tr>\n",
       "      <td>3</td>\n",
       "      <td>4.0</td>\n",
       "      <td>1005</td>\n",
       "      <td>101.0</td>\n",
       "      <td>712.0</td>\n",
       "      <td>41.0</td>\n",
       "      <td>9351.72</td>\n",
       "      <td>10.0</td>\n",
       "      <td>67</td>\n",
       "      <td>NaN</td>\n",
       "      <td>Набережные Челны</td>\n",
       "      <td>...</td>\n",
       "      <td>Горлов</td>\n",
       "      <td>2018-01-25</td>\n",
       "      <td>smart</td>\n",
       "      <td>50</td>\n",
       "      <td>15360</td>\n",
       "      <td>500</td>\n",
       "      <td>550</td>\n",
       "      <td>200</td>\n",
       "      <td>3</td>\n",
       "      <td>3</td>\n",
       "    </tr>\n",
       "    <tr>\n",
       "      <td>4</td>\n",
       "      <td>5.0</td>\n",
       "      <td>1005</td>\n",
       "      <td>73.0</td>\n",
       "      <td>595.0</td>\n",
       "      <td>42.0</td>\n",
       "      <td>7865.53</td>\n",
       "      <td>8.0</td>\n",
       "      <td>67</td>\n",
       "      <td>NaN</td>\n",
       "      <td>Набережные Челны</td>\n",
       "      <td>...</td>\n",
       "      <td>Горлов</td>\n",
       "      <td>2018-01-25</td>\n",
       "      <td>smart</td>\n",
       "      <td>50</td>\n",
       "      <td>15360</td>\n",
       "      <td>500</td>\n",
       "      <td>550</td>\n",
       "      <td>200</td>\n",
       "      <td>3</td>\n",
       "      <td>3</td>\n",
       "    </tr>\n",
       "  </tbody>\n",
       "</table>\n",
       "<p>5 rows × 21 columns</p>\n",
       "</div>"
      ],
      "text/plain": [
       "   month  user_id  calls_count  duration_calls_per_month  messages_per_month  \\\n",
       "0    1.0     1005         15.0                      95.0                 7.0   \n",
       "1    2.0     1005         69.0                     456.0                38.0   \n",
       "2    3.0     1005         77.0                     606.0                56.0   \n",
       "3    4.0     1005        101.0                     712.0                41.0   \n",
       "4    5.0     1005         73.0                     595.0                42.0   \n",
       "\n",
       "    mb_used  gb_used  age churn_date              city  ... last_name  \\\n",
       "0   2727.97      3.0   67        NaN  Набережные Челны  ...    Горлов   \n",
       "1   7383.93      8.0   67        NaN  Набережные Челны  ...    Горлов   \n",
       "2  11104.25     11.0   67        NaN  Набережные Челны  ...    Горлов   \n",
       "3   9351.72     10.0   67        NaN  Набережные Челны  ...    Горлов   \n",
       "4   7865.53      8.0   67        NaN  Набережные Челны  ...    Горлов   \n",
       "\n",
       "     reg_date tariff_name messages_included  mb_per_month_included  \\\n",
       "0  2018-01-25       smart                50                  15360   \n",
       "1  2018-01-25       smart                50                  15360   \n",
       "2  2018-01-25       smart                50                  15360   \n",
       "3  2018-01-25       smart                50                  15360   \n",
       "4  2018-01-25       smart                50                  15360   \n",
       "\n",
       "   minutes_included  rub_monthly_fee  rub_per_gb  rub_per_message  \\\n",
       "0               500              550         200                3   \n",
       "1               500              550         200                3   \n",
       "2               500              550         200                3   \n",
       "3               500              550         200                3   \n",
       "4               500              550         200                3   \n",
       "\n",
       "   rub_per_minute  \n",
       "0               3  \n",
       "1               3  \n",
       "2               3  \n",
       "3               3  \n",
       "4               3  \n",
       "\n",
       "[5 rows x 21 columns]"
      ]
     },
     "execution_count": 59,
     "metadata": {},
     "output_type": "execute_result"
    }
   ],
   "source": [
    "df = df.merge(tariffs, on = 'tariff_name', how = 'outer')\n",
    "df.head()"
   ]
  },
  {
   "cell_type": "code",
   "execution_count": 60,
   "id": "2c8f1e19",
   "metadata": {
    "cellId": "rbadls8g77ashrtx5q8xcl"
   },
   "outputs": [],
   "source": [
    "df['gb_per_month_included'] = df['mb_per_month_included']/1024"
   ]
  },
  {
   "cell_type": "markdown",
   "id": "7e8dd4d6",
   "metadata": {
    "cellId": "6yq20ewqix3025zgxhyz6hu"
   },
   "source": [
    "Для подсчета выручки создаю фунцию revenue, при этом включая в ее тело условие отрицательности."
   ]
  },
  {
   "cell_type": "code",
   "execution_count": 61,
   "id": "74395c08",
   "metadata": {
    "cellId": "6po23wep4iuyqptnjuq1jg"
   },
   "outputs": [],
   "source": [
    "def revenue(row):\n",
    "    calls = row['duration_calls_per_month']\n",
    "    internet = row['gb_used']\n",
    "    messages = row['messages_per_month']\n",
    "    free_calls = row['minutes_included']\n",
    "    free_messages = row['messages_included']\n",
    "    free_internet = row['gb_per_month_included']\n",
    "    fee_calls = row['rub_per_minute']\n",
    "    fee_messages = row['rub_per_message']\n",
    "    fee_internet = row['rub_per_gb']\n",
    "    monthly_fee = row['rub_monthly_fee']\n",
    " \n",
    " \n",
    "    if calls > free_calls:\n",
    "        monthly_fee += (calls - free_calls) * fee_calls\n",
    " \n",
    "    if internet > free_internet:\n",
    "         monthly_fee += (internet - free_internet) * fee_internet\n",
    " \n",
    "    if messages > free_messages:\n",
    "        monthly_fee += (messages - free_messages) * fee_messages \n",
    " \n",
    "    return monthly_fee  \n",
    " \n",
    "df['revenue'] = df.apply(revenue, axis=1).round(2)"
   ]
  },
  {
   "cell_type": "markdown",
   "id": "f1ff0e8b",
   "metadata": {},
   "source": [
    "<div class=\"alert alert-success\">\n",
    "<h3>✔ Комментарий ревьюера</h3>\n",
    "    \n",
    "Очень аккуратно получилось, здорово, что объединила с таблицей с тарифами, так повышается локальность данных и к информации о тарифах доступ осуществляется быстрее. Т.к. все числа целые (ты же округляла), то `round` лишний. Ещё обращу внимание на то, что при объединении таблиц получились пропуски, выше всё работает, потому что `calls > free_calls` возвращает `False`, если `calls == None`, если условие было бы на `<`, то код бы уже не работал, поэтому возможно лучше в таких случаях явно заменять пропуски нулями\n",
    "</div>  "
   ]
  },
  {
   "cell_type": "markdown",
   "id": "347e7968",
   "metadata": {
    "cellId": "0a0fynktris531enug7o5x6"
   },
   "source": [
    "## Анализ данных"
   ]
  },
  {
   "cell_type": "markdown",
   "id": "a6c5ce67",
   "metadata": {
    "cellId": "m45lf6snogcc9xibomeikc"
   },
   "source": [
    "### Анализ средних показателей по месяцам для тарифов"
   ]
  },
  {
   "cell_type": "code",
   "execution_count": 62,
   "id": "6ee839a0",
   "metadata": {
    "cellId": "41g9pedxuyqdu06d6mouk7"
   },
   "outputs": [
    {
     "data": {
      "text/plain": [
       "Text(0, 0.5, 'Среднее кол-во сообщений')"
      ]
     },
     "execution_count": 62,
     "metadata": {},
     "output_type": "execute_result"
    },
    {
     "data": {
      "image/png": "[encoded data removed]",
      "text/plain": [
       "<Figure size 432x288 with 1 Axes>"
      ]
     },
     "metadata": {
      "needs_background": "light"
     },
     "output_type": "display_data"
    }
   ],
   "source": [
    "df_smart = df[df['tariff_name']=='smart']\n",
    "df_smart = df_smart.pivot_table(index = 'month', values = 'messages_per_month', aggfunc = 'mean').sort_values(by = 'month')\n",
    "ax = df_smart.plot(kind = 'bar', y = 'messages_per_month', color = 'green')\n",
    "plt.title('Среднее количество сообщений в месяц')\n",
    "plt.xlabel('месяц')\n",
    "plt.ylabel('Среднее кол-во сообщений')\n",
    "\n",
    "df_ultra = df[df['tariff_name']=='ultra']\n",
    "df_ultra = df_ultra.pivot_table(index = 'month', values = 'messages_per_month', aggfunc = 'mean').sort_values(by = 'month')\n",
    "df_ultra.plot(kind = 'bar', y = 'messages_per_month', ax=ax, color = 'red', alpha = 0.25)\n",
    "ax.legend(['smart','ultra'])\n",
    "plt.xlabel('месяц')\n",
    "plt.ylabel('Среднее кол-во сообщений')"
   ]
  },
  {
   "cell_type": "markdown",
   "id": "4bb2e7cc",
   "metadata": {},
   "source": [
    "<div class=\"alert alert-success\">\n",
    "<h3>✔ Комментарий ревьюера</h3>\n",
    "    \n",
    "Должно было смутить то, что месяц стал вещественным, это произошло потому, что после объединение в столбце с месяцами оказалось два прпоуска, стоило проверить, откуда они взялись\n",
    "</div>  "
   ]
  },
  {
   "cell_type": "markdown",
   "id": "82439682",
   "metadata": {
    "cellId": "5h64bmvhigao943kucy7wo"
   },
   "source": [
    "**Вывод:** \n",
    "Абоненты тарифа ультра в среднем отправляют большее количество сообщений, чем абоненты тарифа смарт. К тому же, количество отправленных сообщений имеет тенденцию роста в зависимости от месяца года."
   ]
  },
  {
   "cell_type": "code",
   "execution_count": 63,
   "id": "26bb4043",
   "metadata": {
    "cellId": "bzh5wit5s2jvsqgo4h9mxi"
   },
   "outputs": [
    {
     "data": {
      "text/plain": [
       "<matplotlib.legend.Legend at 0x7fe1bafc7b90>"
      ]
     },
     "execution_count": 63,
     "metadata": {},
     "output_type": "execute_result"
    },
    {
     "data": {
      "image/png": "[encoded data removed]",
      "text/plain": [
       "<Figure size 432x288 with 1 Axes>"
      ]
     },
     "metadata": {
      "needs_background": "light"
     },
     "output_type": "display_data"
    }
   ],
   "source": [
    "df_smart = df[df['tariff_name']=='smart']\n",
    "df_smart = df_smart.pivot_table(index = 'month', values = 'duration_calls_per_month', aggfunc = 'mean').sort_values(by = 'month')\n",
    "ax = df_smart.plot(kind = 'bar', y = 'duration_calls_per_month', color = 'lightgreen')\n",
    "plt.title('Средняя длительность звонков в месяц')\n",
    "plt.xlabel('месяц')\n",
    "plt.ylabel('Средняя длительность звонков')\n",
    "\n",
    "df_ultra = df[df['tariff_name']=='ultra']\n",
    "df_ultra = df_ultra.pivot_table(index = 'month', values = 'duration_calls_per_month', aggfunc = 'mean').sort_values(by = 'month')\n",
    "df_ultra.plot(kind = 'bar', y = 'duration_calls_per_month', ax=ax, color = 'red', alpha = 0.25)\n",
    "ax.legend(['smart','ultra'])"
   ]
  },
  {
   "cell_type": "markdown",
   "id": "ed61e0d6",
   "metadata": {
    "cellId": "68nawoq1prfl3uq716y5e"
   },
   "source": [
    "**Вывод**\n",
    "Абоненты тарифа ультра в среднем разговаривают большее количество времени, чем абоненты тарифа смарт. К тому же, длительность звонков имеет тенденцию роста в зависимости от месяца года."
   ]
  },
  {
   "cell_type": "code",
   "execution_count": 64,
   "id": "5fd96a05",
   "metadata": {
    "cellId": "u66oupag0cqi9zeronhfkg"
   },
   "outputs": [
    {
     "data": {
      "text/plain": [
       "<matplotlib.legend.Legend at 0x7fe1baebf110>"
      ]
     },
     "execution_count": 64,
     "metadata": {},
     "output_type": "execute_result"
    },
    {
     "data": {
      "image/png": "[encoded data removed]",
      "text/plain": [
       "<Figure size 432x288 with 1 Axes>"
      ]
     },
     "metadata": {
      "needs_background": "light"
     },
     "output_type": "display_data"
    }
   ],
   "source": [
    "df_smart = df[df['tariff_name']=='smart']\n",
    "df_smart = df_smart.pivot_table(index = 'month', values = 'gb_used', aggfunc = 'mean').sort_values(by = 'month')\n",
    "ax = df_smart.plot(kind = 'bar', y = 'gb_used', color = 'yellow')\n",
    "plt.title('Среднее использование интернета (гб) в месяц')\n",
    "plt.xlabel('месяц')\n",
    "plt.ylabel('Среднее использование интернета')\n",
    "\n",
    "df_ultra = df[df['tariff_name']=='ultra']\n",
    "df_ultra = df_ultra.pivot_table(index = 'month', values = 'gb_used', aggfunc = 'mean').sort_values(by = 'month')\n",
    "df_ultra.plot(kind = 'bar', y = 'gb_used', ax=ax, color = 'red', alpha = 0.25)\n",
    "ax.legend(['smart','ultra'])"
   ]
  },
  {
   "cell_type": "markdown",
   "id": "0f328298",
   "metadata": {},
   "source": [
    "<div class=\"alert alert-success\">\n",
    "<h3>✔ Комментарий ревьюера</h3>\n",
    "    \n",
    "Метки в легенду можно добавлять через параметр `label` при построении самого графика, т.е.\n",
    "\n",
    "```python\n",
    "\n",
    "df_ultra = df_ultra.pivot_table(index = 'month', values = 'gb_used', aggfunc = 'mean').sort_values(by = 'month')\n",
    "df_ultra.plot(kind = 'bar', y = 'gb_used', ax=ax, color = 'red', alpha = 0.25, label='ultra')\n",
    "\n",
    "```\n",
    "</div>  "
   ]
  },
  {
   "cell_type": "markdown",
   "id": "acbbc685",
   "metadata": {
    "cellId": "r9c2931lgwzt9igo2k43p"
   },
   "source": [
    "**Вывод:** \n",
    "Абоненты тарифа ультра в среднем исползуют большее количество интернета, чем абоненты тарифа смарт. К тому же, количество гб имеет тенденцию роста в зависимости от месяца года."
   ]
  },
  {
   "cell_type": "markdown",
   "id": "2df17190",
   "metadata": {
    "cellId": "othywn5pwuiuj3y75qzaf"
   },
   "source": [
    "### Анализ распределений значений для тарифов"
   ]
  },
  {
   "cell_type": "code",
   "execution_count": 65,
   "id": "6f49bf41",
   "metadata": {
    "cellId": "mpivoeo96ev010dqi9ty"
   },
   "outputs": [
    {
     "data": {
      "text/plain": [
       "Text(0.5, 1.0, 'Гистограмма распределения использования интернета')"
      ]
     },
     "execution_count": 65,
     "metadata": {},
     "output_type": "execute_result"
    },
    {
     "data": {
      "image/png": "[encoded data removed]",
      "text/plain": [
       "<Figure size 432x288 with 1 Axes>"
      ]
     },
     "metadata": {
      "needs_background": "light"
     },
     "output_type": "display_data"
    }
   ],
   "source": [
    "df_smart = df[df['tariff_name']=='smart']\n",
    "\n",
    "ax = df_smart.hist('gb_used',color = 'yellow', bins = 10)\n",
    "\n",
    "plt.xlabel('Количество использованных гб')\n",
    "plt.ylabel('Частотность')\n",
    "\n",
    "df_ultra = df[df['tariff_name']=='ultra']\n",
    "\n",
    "df_ultra.hist('gb_used', ax=ax, color = 'red', alpha = 0.2, bins = 10)\n",
    "plt.legend(['smart', 'ultra'])\n",
    "plt.title(\"Гистограмма распределения использования интернета\")"
   ]
  },
  {
   "cell_type": "markdown",
   "id": "ab70ab07",
   "metadata": {
    "cellId": "0lqc530y1xh6mqyzjca2yf"
   },
   "source": [
    "**Вывод:** Гистограмма использования интернетами абонентами обоих тарифов имеет нормальное распредление. Частотность использования интернета на тарифе смарт выше, чем на тарифе ультра."
   ]
  },
  {
   "cell_type": "markdown",
   "id": "dfe17325",
   "metadata": {},
   "source": [
    "<div class=\"alert alert-success\">\n",
    "<h3>✔ Комментарий ревьюера</h3>\n",
    "    \n",
    "Частотность выше, потому что у Смарта больше пользователей, тут скорее важен тот факт, что размах значений примерно одинаковый, т.е. интернетом пользователи двух тарифов пользуются примерно одинаково, несмотря на то, что лимит у пользователей Ультра в два раза выше\n",
    "</div>  "
   ]
  },
  {
   "cell_type": "code",
   "execution_count": 66,
   "id": "834efcec",
   "metadata": {
    "cellId": "8katq0hx4g8bhteu2kbdpt"
   },
   "outputs": [
    {
     "data": {
      "text/plain": [
       "Text(0.5, 1.0, 'Гистограмма распределения длительности звонков')"
      ]
     },
     "execution_count": 66,
     "metadata": {},
     "output_type": "execute_result"
    },
    {
     "data": {
      "image/png": "[encoded data removed]",
      "text/plain": [
       "<Figure size 432x288 with 1 Axes>"
      ]
     },
     "metadata": {
      "needs_background": "light"
     },
     "output_type": "display_data"
    }
   ],
   "source": [
    "df_smart = df[df['tariff_name']=='smart']\n",
    "\n",
    "ax = df_smart.hist('duration_calls_per_month',color = 'lightgreen', bins = 10)\n",
    "\n",
    "plt.xlabel('Длительность звонков')\n",
    "plt.ylabel('Частотность')\n",
    "\n",
    "df_ultra = df[df['tariff_name']=='ultra']\n",
    "\n",
    "df_ultra.hist('duration_calls_per_month', ax=ax, color = 'red', alpha = 0.2, bins = 10)\n",
    "plt.legend(['smart', 'ultra'])\n",
    "plt.title(\"Гистограмма распределения длительности звонков\")"
   ]
  },
  {
   "cell_type": "markdown",
   "id": "224e5c8d",
   "metadata": {
    "cellId": "qmhh0d65u5zwiiwyy1mv8"
   },
   "source": [
    "**Вывод:** Гистограмма длительности разговоров по телефону абонентами обоих тарифов имеет нормальное распредление, однако на графикке видно, что в левом хвосте гистограммы частотность довольно высокая, это объясняется достаточным количеством нулевых значений в данных (пропущенные звонки), поэтому это нормально. Частотность звонков выше на тарифе смарт. По графику так же видно, что средняя длительность выше на тарифе ультра."
   ]
  },
  {
   "cell_type": "code",
   "execution_count": 67,
   "id": "5f3d448c",
   "metadata": {
    "cellId": "2x278kt9f440kujl2w96rim"
   },
   "outputs": [
    {
     "data": {
      "text/plain": [
       "Text(0.5, 1.0, 'Гистограмма распределения оправленных сообщений')"
      ]
     },
     "execution_count": 67,
     "metadata": {},
     "output_type": "execute_result"
    },
    {
     "data": {
      "image/png": "[encoded data removed]",
      "text/plain": [
       "<Figure size 432x288 with 1 Axes>"
      ]
     },
     "metadata": {
      "needs_background": "light"
     },
     "output_type": "display_data"
    }
   ],
   "source": [
    "df_smart = df[df['tariff_name']=='smart']\n",
    "\n",
    "ax = df_smart.hist('messages_per_month',color = 'green', bins = 10)\n",
    "\n",
    "plt.xlabel('Количество отправленных сообщений')\n",
    "plt.ylabel('Частотность')\n",
    "\n",
    "df_ultra = df[df['tariff_name']=='ultra']\n",
    "\n",
    "df_ultra.hist('messages_per_month', ax=ax, color = 'red', alpha = 0.2, bins = 10)\n",
    "plt.legend(['smart', 'ultra'])\n",
    "plt.title(\"Гистограмма распределения оправленных сообщений\")"
   ]
  },
  {
   "cell_type": "markdown",
   "id": "808b8e56",
   "metadata": {
    "cellId": "5p26z7bo75rvukrmx1nld"
   },
   "source": [
    "**Вывод:** Гистограмма количества отправленных сообщений имеет распредление Пуассона, это обуславливается тем, что большинство людей, пользующихся услгуами связи совсем не отправляют смс-сообщения, либо отправляют маленькое количество. Частотность отправки сообщений на тарифе смарт выше, на графике видно, что среднее количество отправленных сообщений выше на тарифе ультра."
   ]
  },
  {
   "cell_type": "markdown",
   "id": "ab42b7fc",
   "metadata": {},
   "source": [
    "<div class=\"alert alert-success\">\n",
    "<h3>✔ Комментарий ревьюера</h3>\n",
    "    \n",
    "Распределение Пуассона обуславливается тем, что оно описывает число событий, котоыре происходят с какой-то интенсивностью, на временном промежутке. Тут события это сообщения, а интервал -- месяц\n",
    "</div>  "
   ]
  },
  {
   "cell_type": "markdown",
   "id": "7e23598a",
   "metadata": {
    "cellId": "mvkoz8cd0ko2adutw1zsgn"
   },
   "source": [
    "### Статистические показатели"
   ]
  },
  {
   "cell_type": "markdown",
   "id": "ec87b857",
   "metadata": {
    "cellId": "e5rhxta4chjeiapsoublc7"
   },
   "source": [
    "В сводной таблице выведу статистические показатели (дисперсию, стандартное отклонение, среднее) для каждого тарифа для каждой услуги. "
   ]
  },
  {
   "cell_type": "code",
   "execution_count": 68,
   "id": "fd7f9b62",
   "metadata": {
    "cellId": "wjgkdatkbacn9cf5vliis"
   },
   "outputs": [
    {
     "data": {
      "text/html": [
       "<div>\n",
       "<style scoped>\n",
       "    .dataframe tbody tr th:only-of-type {\n",
       "        vertical-align: middle;\n",
       "    }\n",
       "\n",
       "    .dataframe tbody tr th {\n",
       "        vertical-align: top;\n",
       "    }\n",
       "\n",
       "    .dataframe thead tr th {\n",
       "        text-align: left;\n",
       "    }\n",
       "\n",
       "    .dataframe thead tr:last-of-type th {\n",
       "        text-align: right;\n",
       "    }\n",
       "</style>\n",
       "<table border=\"1\" class=\"dataframe\">\n",
       "  <thead>\n",
       "    <tr>\n",
       "      <th></th>\n",
       "      <th colspan=\"3\" halign=\"left\">var</th>\n",
       "      <th colspan=\"3\" halign=\"left\">std</th>\n",
       "      <th colspan=\"3\" halign=\"left\">mean</th>\n",
       "    </tr>\n",
       "    <tr>\n",
       "      <th></th>\n",
       "      <th>duration_calls_per_month</th>\n",
       "      <th>gb_used</th>\n",
       "      <th>messages_per_month</th>\n",
       "      <th>duration_calls_per_month</th>\n",
       "      <th>gb_used</th>\n",
       "      <th>messages_per_month</th>\n",
       "      <th>duration_calls_per_month</th>\n",
       "      <th>gb_used</th>\n",
       "      <th>messages_per_month</th>\n",
       "    </tr>\n",
       "    <tr>\n",
       "      <th>tariff_name</th>\n",
       "      <th></th>\n",
       "      <th></th>\n",
       "      <th></th>\n",
       "      <th></th>\n",
       "      <th></th>\n",
       "      <th></th>\n",
       "      <th></th>\n",
       "      <th></th>\n",
       "      <th></th>\n",
       "    </tr>\n",
       "  </thead>\n",
       "  <tbody>\n",
       "    <tr>\n",
       "      <td>smart</td>\n",
       "      <td>35844</td>\n",
       "      <td>32</td>\n",
       "      <td>717</td>\n",
       "      <td>189</td>\n",
       "      <td>5</td>\n",
       "      <td>26</td>\n",
       "      <td>419</td>\n",
       "      <td>16</td>\n",
       "      <td>38</td>\n",
       "    </tr>\n",
       "    <tr>\n",
       "      <td>ultra</td>\n",
       "      <td>94203</td>\n",
       "      <td>94</td>\n",
       "      <td>2109</td>\n",
       "      <td>306</td>\n",
       "      <td>9</td>\n",
       "      <td>45</td>\n",
       "      <td>545</td>\n",
       "      <td>19</td>\n",
       "      <td>61</td>\n",
       "    </tr>\n",
       "  </tbody>\n",
       "</table>\n",
       "</div>"
      ],
      "text/plain": [
       "                                 var                             \\\n",
       "            duration_calls_per_month gb_used messages_per_month   \n",
       "tariff_name                                                       \n",
       "smart                          35844      32                717   \n",
       "ultra                          94203      94               2109   \n",
       "\n",
       "                                 std                             \\\n",
       "            duration_calls_per_month gb_used messages_per_month   \n",
       "tariff_name                                                       \n",
       "smart                            189       5                 26   \n",
       "ultra                            306       9                 45   \n",
       "\n",
       "                                mean                             \n",
       "            duration_calls_per_month gb_used messages_per_month  \n",
       "tariff_name                                                      \n",
       "smart                            419      16                 38  \n",
       "ultra                            545      19                 61  "
      ]
     },
     "execution_count": 68,
     "metadata": {},
     "output_type": "execute_result"
    }
   ],
   "source": [
    "df_var_std = df.pivot_table(index = ['tariff_name'], values = ['messages_per_month', 'duration_calls_per_month','gb_used'], aggfunc = ['var','std','mean'])\n",
    "df_var_std.astype('int64')"
   ]
  },
  {
   "cell_type": "markdown",
   "id": "3ea0e4d7",
   "metadata": {},
   "source": [
    "<div class=\"alert alert-success\">\n",
    "<h3>✔ Комментарий ревьюера</h3>\n",
    "    \n",
    "Здорово, что округлила значения. Напомню, что правило трёх сигм работает только для нормального распределения\n",
    "</div>  "
   ]
  },
  {
   "cell_type": "markdown",
   "id": "711fbc3b",
   "metadata": {
    "cellId": "awuwdpf8ew6abed9iyy527"
   },
   "source": [
    "Руководствуясь правилом трех сигм, практически все значения распредления лежат в промежутке (среднее - ст.откл; среднее + ст.откл)"
   ]
  },
  {
   "cell_type": "markdown",
   "id": "1041c6d8",
   "metadata": {
    "cellId": "lk5meucf1pj10fjjgb6se"
   },
   "source": [
    "## Проверка гипотез"
   ]
  },
  {
   "cell_type": "markdown",
   "id": "3cb8e184",
   "metadata": {
    "cellId": "9ko50rd5wn7n9dm40gq8w"
   },
   "source": [
    "### Гипотеза 1 "
   ]
  },
  {
   "cell_type": "markdown",
   "id": "d5280df6",
   "metadata": {
    "cellId": "97cdrbjag3judzzuaqdl7n"
   },
   "source": [
    "- H0 - Cредняя выручка пользователей тарифов «Ультра» и «Смарт» совпадает\n",
    "- H1 - Средняя выручка пользователей тарифов «Ультра» и «Смарт» различается"
   ]
  },
  {
   "cell_type": "markdown",
   "id": "475ee66a",
   "metadata": {
    "cellId": "k0w2ikzdx28mm4ii2nd1m8"
   },
   "source": [
    "Для проверки двусторонней гипотезы в python буду использовать t-тест для проверки гипотезы о равенсве средних двух генеральных совокупностей, alpha (критический уровень статистической значимости) возьму 0.05. Я не использую дополнительный параметр equal_var = False, потому что у нас достаточно большие и одинаковые по размеру выборки, к тому же в обеих измерена одна и та же переменная — нет оснований полагать, что разброс будет сильно отличаться."
   ]
  },
  {
   "cell_type": "markdown",
   "id": "c561fcce",
   "metadata": {},
   "source": [
    "<div class=\"alert alert-success\">\n",
    "<h3>✔ Комментарий ревьюера</h3>\n",
    "    \n",
    "Выборки всё таки разного размера, да и дисперсии разные хотя бы потому, что пользователи ультры не выходят за рамки тарифа, а у смарта выходят. В целом, общая рекомендация такая, что можно всегда указывать `equal_var=False`, так тест ведёт себя в среднем лучше, можно тут посмотреть табличку: https://ru.wikipedia.org/wiki/T-%D0%BA%D1%80%D0%B8%D1%82%D0%B5%D1%80%D0%B8%D0%B9_%D0%A3%D1%8D%D0%BB%D1%87%D0%B0\n",
    "\n",
    "Все импорты лучше собирать в самом начале работы, так сразу будет понятно, какие у проекта зависимости\n",
    "</div>  "
   ]
  },
  {
   "cell_type": "code",
   "execution_count": 69,
   "id": "7143fb70",
   "metadata": {
    "cellId": "y7s1rq1j7bb4cfcges5wt"
   },
   "outputs": [],
   "source": [
    "from scipy import stats as st"
   ]
  },
  {
   "cell_type": "code",
   "execution_count": 70,
   "id": "bfa0b3d7",
   "metadata": {
    "cellId": "fhfj717g3099agzfrz1hlp"
   },
   "outputs": [],
   "source": [
    "df_smart = df[df['tariff_name']=='smart']\n",
    "df_ultra = df[df['tariff_name']=='ultra']"
   ]
  },
  {
   "cell_type": "code",
   "execution_count": 71,
   "id": "d021d976",
   "metadata": {
    "cellId": "p1lacnpnkaskw8z9q0rvzq"
   },
   "outputs": [
    {
     "name": "stdout",
     "output_type": "stream",
     "text": [
      "p-значение:  8.08190955548901e-161\n",
      "Отвергаем нулевую гипотезу\n"
     ]
    }
   ],
   "source": [
    "alpha = 0.05\n",
    "results = st.ttest_ind(df_smart['revenue'], df_ultra['revenue'])\n",
    "print('p-значение: ', results.pvalue)\n",
    "\n",
    "if results.pvalue < alpha:\n",
    "    print(\"Отвергаем нулевую гипотезу\")\n",
    "else:\n",
    "    print(\"Не получилось отвергнуть нулевую гипотезу\") "
   ]
  },
  {
   "cell_type": "markdown",
   "id": "6e56b887",
   "metadata": {
    "cellId": "t1sij7wfs9dv1j7w6vdzyj"
   },
   "source": [
    "**Вывод:** T-test показал, что p-value гораздо меньше критического уровня статистической значимости, поэтому нулевую гипотезу можно отвергнуть, а альтернативную гипотезу не отвергать - Средняя выручка пользователей тарифов «Ультра» и «Смарт» различается."
   ]
  },
  {
   "cell_type": "code",
   "execution_count": 72,
   "id": "65c154f6",
   "metadata": {
    "cellId": "y6x0vagtu5m1c1cog6ore2"
   },
   "outputs": [
    {
     "data": {
      "text/plain": [
       "Text(0.5, 1.0, 'Гистограмма распределения выручки')"
      ]
     },
     "execution_count": 72,
     "metadata": {},
     "output_type": "execute_result"
    },
    {
     "data": {
      "image/png": "[encoded data removed]",
      "text/plain": [
       "<Figure size 432x288 with 1 Axes>"
      ]
     },
     "metadata": {
      "needs_background": "light"
     },
     "output_type": "display_data"
    }
   ],
   "source": [
    "ax = df_smart.hist('revenue',color = 'blue', bins = 20, range = (300,4000))\n",
    "\n",
    "plt.xlabel('Выручка')\n",
    "plt.ylabel('Частотность')\n",
    "\n",
    "\n",
    "df_ultra.hist('revenue', ax=ax, color = 'red', alpha = 0.7, bins = 20,range = (300,4000))\n",
    "plt.legend(['smart', 'ultra'])\n",
    "plt.title(\"Гистограмма распределения выручки\")"
   ]
  },
  {
   "cell_type": "markdown",
   "id": "65a24a44",
   "metadata": {
    "cellId": "ak6420ma1bhpepri35axrh"
   },
   "source": [
    "Для наглядного подтверждения гипотезы, я вывела график распредления выручки для обоих тарифов. Наглядно видно, что распределения значений сильно отличаются между собой, средняя величина генеральной совокупности так же будет различаться."
   ]
  },
  {
   "cell_type": "markdown",
   "id": "5e3b8184",
   "metadata": {
    "cellId": "iwpshjoowtjztvdlazvwha"
   },
   "source": [
    "### Гипотеза 2"
   ]
  },
  {
   "cell_type": "markdown",
   "id": "972ce02a",
   "metadata": {
    "cellId": "iihisia5xtdsysft95ldmp"
   },
   "source": [
    "- H0 - средняя выручка пользователей из Москвы совпадает с выручкой пользователей из других регионов.\n",
    "- Н1 - средняя выручка пользователей из Москвы отличается от выручки пользователей из других регионов."
   ]
  },
  {
   "cell_type": "markdown",
   "id": "3f25c902",
   "metadata": {
    "cellId": "0l27po7s4pfc18oddap73"
   },
   "source": [
    "Для проверки двусторонней гипотезы в python буду использовать t-тест для проверки гипотезы о равенсве средних двух генеральных совокупностей, alpha (критический уровень статистической значимости) возьму 0.05. Я не использую дополнительный параметр equal_var = False, потому что у нас достаточно большие и одинаковые по размеру выборки, к тому же в обеих измерена одна и та же переменная — нет оснований полагать, что разброс будет сильно отличаться."
   ]
  },
  {
   "cell_type": "code",
   "execution_count": 73,
   "id": "7dc79da8",
   "metadata": {
    "cellId": "ztjrytpmf5ohy7cz34qz"
   },
   "outputs": [],
   "source": [
    "df_moscow = df[df['city']=='Москва']\n",
    "df_regions = df[df['city']!='Москва']"
   ]
  },
  {
   "cell_type": "code",
   "execution_count": 74,
   "id": "065ae9b4",
   "metadata": {
    "cellId": "ggrcyew1lx8i9i0krwm4o"
   },
   "outputs": [
    {
     "name": "stdout",
     "output_type": "stream",
     "text": [
      "p-значение:  0.5400751614511182\n",
      "Не получилось отвергнуть нулевую гипотезу\n"
     ]
    }
   ],
   "source": [
    "alpha = 0.05\n",
    "results = st.ttest_ind(df_moscow['revenue'], df_regions['revenue'])\n",
    "print('p-значение: ', results.pvalue)\n",
    "\n",
    "if results.pvalue < alpha:\n",
    "    print(\"Отвергаем нулевую гипотезу\")\n",
    "else:\n",
    "    print(\"Не получилось отвергнуть нулевую гипотезу\") "
   ]
  },
  {
   "cell_type": "markdown",
   "id": "2cfd47cc",
   "metadata": {
    "cellId": "scuwm41ur6h3ps983m7xxv"
   },
   "source": [
    "**Вывод:** T-test показал, что p-value гораздо больше критического уровня статистической значимости, поэтому нулевую гипотезу нельзя отвергнуть, а альтернативную гипотезу отвергаем.средняя выручка пользователей из Москвы совпадает с выручкой пользователей из других регионов."
   ]
  },
  {
   "cell_type": "code",
   "execution_count": 75,
   "id": "4d030ce0",
   "metadata": {
    "cellId": "gr88yj5dorpr1yrl450d2e"
   },
   "outputs": [
    {
     "data": {
      "text/plain": [
       "Text(0.5, 1.0, 'Гистограмма распределения выручки')"
      ]
     },
     "execution_count": 75,
     "metadata": {},
     "output_type": "execute_result"
    },
    {
     "data": {
      "image/png": "[encoded data removed]",
      "text/plain": [
       "<Figure size 432x288 with 1 Axes>"
      ]
     },
     "metadata": {
      "needs_background": "light"
     },
     "output_type": "display_data"
    }
   ],
   "source": [
    "\n",
    "ax = df_moscow.hist('revenue',color = 'blue', bins = 20, range = (300,4000))\n",
    "\n",
    "plt.xlabel('Выручка')\n",
    "plt.ylabel('Частотность')\n",
    "\n",
    "df_regions.hist('revenue', ax=ax, color = 'red', alpha = 0.2, bins = 20,range = (300,4000))\n",
    "plt.legend(['Москва', 'Регионы'])\n",
    "plt.title(\"Гистограмма распределения выручки\")"
   ]
  },
  {
   "cell_type": "markdown",
   "id": "fdb127e0",
   "metadata": {
    "cellId": "7tbd8wyalvxq8vcrlkd8"
   },
   "source": [
    "Для наглядного подтверждения гипотезы, я вывела график распредления выручки для обоих датафреймов. Наглядно видно, что распределения значений повторяют друг друга, только с различной частнотностью, средняя величина генеральной совокупности так же будет схожа."
   ]
  },
  {
   "cell_type": "markdown",
   "id": "fae6eaa2",
   "metadata": {
    "cellId": "ooe6f35txw9n909mwjp5os"
   },
   "source": [
    "##  Общий вывод"
   ]
  },
  {
   "cell_type": "markdown",
   "id": "73a7f82a",
   "metadata": {
    "cellId": "zj6q90q7hiheywg8dpxtej"
   },
   "source": [
    "Проанализировав подготовленные данные датафрейма, **были сделаны следующие выводы:**\n",
    "- Абоненты тарифа \"Ультра\" в среднем разговаривают большее количество времени, чем абоненты тарифа \"Смарт\". К тому же, длительность звонков имеет тенденцию роста в зависимости от месяца года. Гистограмма длительности разговоров по телефону абонентами обоих тарифов имеет нормальное распредление, однако на графикке видно, что в левом хвосте гистограммы частотность довольно высокая, это объясняется достаточным количеством нулевых значений в данных (пропущенные звонки), поэтому это нормально. Частотность звонков выше на тарифе \"Смарт\". По графику так же видно, что средняя длительность выше на тарифе ультра.\n",
    "- Абоненты тарифа \"Ультра\" в среднем исползуют большее количество интернета, чем абоненты тарифа смарт. К тому же, количество гб имеет тенденцию роста в зависимости от месяца года. Гистограмма использования интернетами абонентами обоих тарифов имеет нормальное распредление. Частотность использования интернета на тарифе \"Смарт\" выше, чем на тарифе ультра.\n",
    "- Абоненты тарифа \"Ультра\" в среднем отправляют большее количество сообщений, чем абоненты тарифа \"Смарт\". К тому же, количество отправленных сообщений имеет тенденцию роста в зависимости от месяца года. Гистограмма количества отправленных сообщений имеет распредление Пуассона, это обуславливается тем, что большинство людей, пользующихся услгуами связи совсем не отправляют смс-сообщения, либо отправляют маленькое количество. Частотность отправки сообщений на тарифе смарт выше, на графике видно, что среднее количество отправленных сообщений выше на тарифе ультра.\n",
    "\n",
    "**Были протестированы 2 гипотезы:**\n",
    "1. Первая гипотеза (Cредняя выручка пользователей тарифов «Ультра» и «Смарт» совпадает) **была отвергнута**, так как t-test показал, что p-value гораздо меньше значения alpha (сатистическая значимость). Соответственно, средняя выручка пользователей тарифов «Ультра» и «Смарт» различается.\n",
    "2. Вторая гипотеза (Средняя выручка пользователей из Москвы совпадает с выручкой пользователей из других регионов) **не была отвергнута**, так как t-test показал, что p-value гораздо больше значения alpha (сатистическая значимость). Соответственно, средняя выручка пользователей из Москвы совпадает с выручкой пользователей из других регионов."
   ]
  },
  {
   "cell_type": "markdown",
   "id": "fc2f2824",
   "metadata": {},
   "source": [
    "**Выбор тарифа:**\n",
    "\n",
    "Проанализировав поведение клиентов каждого тарифа, можно сделать определенные выводы. На гистограмме использования интернета размах значений у двух тарифов примерно одинаковый, то есть интернетом пользователи двух тарифов пользуются примерно одинаково, несмотря на то, что лимит у пользователей \"Ультра\" выше. Такая же ситуация и с длительностью звонков, у абонентов обоих тарифов размах на гистограмме примерно одинаковый, а у пользователей тарифа \"Ультра\" лимит звонков выше. Схожая ситуация и с смс-сообщениями, в тариф \"Ультра\" включено 1000 сообщений, но абоненты используют максимум чуть больше 200 сообщений, а размахи на гистограмме использования сообщений примерно одинаковые для абонентов обоих тарифов. \n",
    "Выручка у тарифа \"Ультра\" выше из-за стоимости тарифного плана. Но по факту такой высокий тарифный план не оправдан, так как абоненты используют меньше лимита. \n",
    "\n",
    "**Вывод: Для клиентов тариф \"Смарт\" лучше.**"
   ]
  },
  {
   "cell_type": "markdown",
   "id": "ce652e55",
   "metadata": {},
   "source": [
    "<div class=\"alert alert-success\">\n",
    "<h3>✔ Комментарий ревьюера V.2</h3>\n",
    "    \n",
    "Да, для клиентов в этом смысле лучше Смарт, но наша цель заработать денег, поэтому для оператора Ультра перспективней, потому что нагрузка на сеть та же, что и у Смарта, а денег клиенты платят больше\n",
    "</div> "
   ]
  },
  {
   "cell_type": "markdown",
   "id": "5ef81ea9",
   "metadata": {},
   "source": [
    "<div class=\"alert alert-danger\">\n",
    "<h3>👀 Комментарий ревьюера</h3>\n",
    "    \n",
    "В работе надо было определить перспективный тариф, этого в выводе и не хватает :) Метрику для определения лучшего тарифа можно выбрать какую хочется. \n",
    "    \n",
    "> Нужно проанализировать поведение клиентов и сделать вывод — какой тариф лучше.\n",
    "</div>   "
   ]
  }
 ],
 "metadata": {
  "ExecuteTimeLog": [
   {
    "duration": 4,
    "start_time": "2022-01-12T18:59:18.308Z"
   },
   {
    "duration": 958,
    "start_time": "2022-01-12T18:59:18.314Z"
   },
   {
    "duration": 2555,
    "start_time": "2022-01-12T18:59:19.275Z"
   },
   {
    "duration": -3487,
    "start_time": "2022-01-12T18:59:25.321Z"
   },
   {
    "duration": -3486,
    "start_time": "2022-01-12T18:59:25.322Z"
   },
   {
    "duration": -3487,
    "start_time": "2022-01-12T18:59:25.324Z"
   },
   {
    "duration": -3488,
    "start_time": "2022-01-12T18:59:25.326Z"
   },
   {
    "duration": -3488,
    "start_time": "2022-01-12T18:59:25.327Z"
   },
   {
    "duration": -3488,
    "start_time": "2022-01-12T18:59:25.329Z"
   },
   {
    "duration": -3488,
    "start_time": "2022-01-12T18:59:25.330Z"
   },
   {
    "duration": -3643,
    "start_time": "2022-01-12T18:59:25.487Z"
   },
   {
    "duration": -3645,
    "start_time": "2022-01-12T18:59:25.490Z"
   },
   {
    "duration": -3667,
    "start_time": "2022-01-12T18:59:25.513Z"
   },
   {
    "duration": -3667,
    "start_time": "2022-01-12T18:59:25.515Z"
   },
   {
    "duration": -3671,
    "start_time": "2022-01-12T18:59:25.520Z"
   },
   {
    "duration": -3672,
    "start_time": "2022-01-12T18:59:25.522Z"
   },
   {
    "duration": -3673,
    "start_time": "2022-01-12T18:59:25.524Z"
   },
   {
    "duration": -3672,
    "start_time": "2022-01-12T18:59:25.525Z"
   },
   {
    "duration": -3673,
    "start_time": "2022-01-12T18:59:25.527Z"
   },
   {
    "duration": -3673,
    "start_time": "2022-01-12T18:59:25.528Z"
   },
   {
    "duration": -3673,
    "start_time": "2022-01-12T18:59:25.530Z"
   },
   {
    "duration": -3673,
    "start_time": "2022-01-12T18:59:25.531Z"
   },
   {
    "duration": -3847,
    "start_time": "2022-01-12T18:59:25.707Z"
   },
   {
    "duration": -3848,
    "start_time": "2022-01-12T18:59:25.709Z"
   },
   {
    "duration": -3875,
    "start_time": "2022-01-12T18:59:25.738Z"
   },
   {
    "duration": -3876,
    "start_time": "2022-01-12T18:59:25.740Z"
   },
   {
    "duration": -3877,
    "start_time": "2022-01-12T18:59:25.742Z"
   },
   {
    "duration": -3877,
    "start_time": "2022-01-12T18:59:25.743Z"
   },
   {
    "duration": -3878,
    "start_time": "2022-01-12T18:59:25.745Z"
   },
   {
    "duration": -3879,
    "start_time": "2022-01-12T18:59:25.747Z"
   },
   {
    "duration": -3832,
    "start_time": "2022-01-12T18:59:25.749Z"
   },
   {
    "duration": -3837,
    "start_time": "2022-01-12T18:59:25.755Z"
   },
   {
    "duration": -3864,
    "start_time": "2022-01-12T18:59:25.784Z"
   },
   {
    "duration": -3985,
    "start_time": "2022-01-12T18:59:25.906Z"
   },
   {
    "duration": -3986,
    "start_time": "2022-01-12T18:59:25.908Z"
   },
   {
    "duration": -3987,
    "start_time": "2022-01-12T18:59:25.910Z"
   },
   {
    "duration": 3,
    "start_time": "2022-01-12T19:02:00.895Z"
   },
   {
    "duration": 15,
    "start_time": "2022-01-12T19:02:00.901Z"
   },
   {
    "duration": 499,
    "start_time": "2022-01-12T19:02:00.918Z"
   },
   {
    "duration": 435,
    "start_time": "2022-01-12T19:02:01.419Z"
   },
   {
    "duration": 362,
    "start_time": "2022-01-12T19:02:01.857Z"
   },
   {
    "duration": 242,
    "start_time": "2022-01-12T19:02:02.221Z"
   },
   {
    "duration": 248,
    "start_time": "2022-01-12T19:02:02.466Z"
   },
   {
    "duration": 5,
    "start_time": "2022-01-12T19:02:02.717Z"
   },
   {
    "duration": 32,
    "start_time": "2022-01-12T19:02:02.724Z"
   },
   {
    "duration": 24,
    "start_time": "2022-01-12T19:02:02.758Z"
   },
   {
    "duration": 80,
    "start_time": "2022-01-12T19:02:02.785Z"
   },
   {
    "duration": 22,
    "start_time": "2022-01-12T19:02:02.867Z"
   },
   {
    "duration": 88,
    "start_time": "2022-01-12T19:02:02.891Z"
   },
   {
    "duration": 78,
    "start_time": "2022-01-12T19:02:02.981Z"
   },
   {
    "duration": 41,
    "start_time": "2022-01-12T19:02:03.061Z"
   },
   {
    "duration": 41,
    "start_time": "2022-01-12T19:02:03.117Z"
   },
   {
    "duration": 13,
    "start_time": "2022-01-12T19:02:03.160Z"
   },
   {
    "duration": 56,
    "start_time": "2022-01-12T19:02:03.176Z"
   },
   {
    "duration": 6,
    "start_time": "2022-01-12T19:02:03.237Z"
   },
   {
    "duration": 36,
    "start_time": "2022-01-12T19:02:03.245Z"
   },
   {
    "duration": 5,
    "start_time": "2022-01-12T19:02:03.283Z"
   },
   {
    "duration": 384,
    "start_time": "2022-01-12T19:02:03.291Z"
   },
   {
    "duration": 422,
    "start_time": "2022-01-12T19:02:03.678Z"
   },
   {
    "duration": 417,
    "start_time": "2022-01-12T19:02:04.102Z"
   },
   {
    "duration": 411,
    "start_time": "2022-01-12T19:02:04.523Z"
   },
   {
    "duration": 441,
    "start_time": "2022-01-12T19:02:04.936Z"
   },
   {
    "duration": 400,
    "start_time": "2022-01-12T19:02:05.379Z"
   },
   {
    "duration": 413,
    "start_time": "2022-01-12T19:02:05.781Z"
   },
   {
    "duration": 52,
    "start_time": "2022-01-12T19:02:06.197Z"
   },
   {
    "duration": 477,
    "start_time": "2022-01-12T19:02:06.251Z"
   },
   {
    "duration": 9,
    "start_time": "2022-01-12T19:02:06.730Z"
   },
   {
    "duration": 11,
    "start_time": "2022-01-12T19:02:06.741Z"
   },
   {
    "duration": 494,
    "start_time": "2022-01-12T19:02:06.754Z"
   },
   {
    "duration": 8,
    "start_time": "2022-01-12T19:02:07.251Z"
   },
   {
    "duration": 9,
    "start_time": "2022-01-12T19:02:07.261Z"
   },
   {
    "duration": 549,
    "start_time": "2022-01-12T19:02:07.272Z"
   },
   {
    "duration": 4,
    "start_time": "2022-01-12T19:56:41.811Z"
   },
   {
    "duration": 5,
    "start_time": "2022-01-12T19:56:41.819Z"
   },
   {
    "duration": 467,
    "start_time": "2022-01-12T19:56:41.828Z"
   },
   {
    "duration": 492,
    "start_time": "2022-01-12T19:56:42.298Z"
   },
   {
    "duration": 347,
    "start_time": "2022-01-12T19:56:42.793Z"
   },
   {
    "duration": 239,
    "start_time": "2022-01-12T19:56:43.143Z"
   },
   {
    "duration": 339,
    "start_time": "2022-01-12T19:56:43.386Z"
   },
   {
    "duration": 6,
    "start_time": "2022-01-12T19:56:43.730Z"
   },
   {
    "duration": 32,
    "start_time": "2022-01-12T19:56:43.738Z"
   },
   {
    "duration": 49,
    "start_time": "2022-01-12T19:56:43.772Z"
   },
   {
    "duration": 42,
    "start_time": "2022-01-12T19:56:43.824Z"
   },
   {
    "duration": 18,
    "start_time": "2022-01-12T19:56:43.869Z"
   },
   {
    "duration": 71,
    "start_time": "2022-01-12T19:56:43.918Z"
   },
   {
    "duration": 82,
    "start_time": "2022-01-12T19:56:43.991Z"
   },
   {
    "duration": 64,
    "start_time": "2022-01-12T19:56:44.075Z"
   },
   {
    "duration": 40,
    "start_time": "2022-01-12T19:56:44.142Z"
   },
   {
    "duration": 34,
    "start_time": "2022-01-12T19:56:44.185Z"
   },
   {
    "duration": 39,
    "start_time": "2022-01-12T19:56:44.225Z"
   },
   {
    "duration": 6,
    "start_time": "2022-01-12T19:56:44.268Z"
   },
   {
    "duration": 61,
    "start_time": "2022-01-12T19:56:44.277Z"
   },
   {
    "duration": 5,
    "start_time": "2022-01-12T19:56:44.341Z"
   },
   {
    "duration": 382,
    "start_time": "2022-01-12T19:56:44.348Z"
   },
   {
    "duration": 439,
    "start_time": "2022-01-12T19:56:44.733Z"
   },
   {
    "duration": 445,
    "start_time": "2022-01-12T19:56:45.174Z"
   },
   {
    "duration": 416,
    "start_time": "2022-01-12T19:56:45.622Z"
   },
   {
    "duration": 389,
    "start_time": "2022-01-12T19:56:46.041Z"
   },
   {
    "duration": 412,
    "start_time": "2022-01-12T19:56:46.433Z"
   },
   {
    "duration": 417,
    "start_time": "2022-01-12T19:56:46.848Z"
   },
   {
    "duration": 61,
    "start_time": "2022-01-12T19:56:47.267Z"
   },
   {
    "duration": 3,
    "start_time": "2022-01-12T19:56:47.330Z"
   },
   {
    "duration": 12,
    "start_time": "2022-01-12T19:56:47.335Z"
   },
   {
    "duration": 7,
    "start_time": "2022-01-12T19:56:47.350Z"
   },
   {
    "duration": 527,
    "start_time": "2022-01-12T19:56:47.359Z"
   },
   {
    "duration": 10,
    "start_time": "2022-01-12T19:56:47.889Z"
   },
   {
    "duration": 20,
    "start_time": "2022-01-12T19:56:47.901Z"
   },
   {
    "duration": 522,
    "start_time": "2022-01-12T19:56:47.924Z"
   },
   {
    "duration": 112,
    "start_time": "2022-01-13T09:12:32.970Z"
   },
   {
    "duration": 156,
    "start_time": "2022-01-13T09:12:37.437Z"
   }
  ],
  "kernelspec": {
   "display_name": "Python 3 (ipykernel)",
   "language": "python",
   "name": "python3"
  },
  "language_info": {
   "codemirror_mode": {
    "name": "ipython",
    "version": 3
   },
   "file_extension": ".py",
   "mimetype": "text/x-python",
   "name": "python",
   "nbconvert_exporter": "python",
   "pygments_lexer": "ipython3",
   "version": "3.9.5"
  },
  "notebookId": "a0ed1c0e-3862-4f5c-8d68-584802bb4d92",
  "notebookPath": "Untitled.ipynb",
  "toc": {
   "base_numbering": 1,
   "nav_menu": {},
   "number_sections": true,
   "sideBar": true,
   "skip_h1_title": true,
   "title_cell": "Table of Contents",
   "title_sidebar": "Contents",
   "toc_cell": false,
   "toc_position": {},
   "toc_section_display": true,
   "toc_window_display": true
  }
 },
 "nbformat": 4,
 "nbformat_minor": 5
}
