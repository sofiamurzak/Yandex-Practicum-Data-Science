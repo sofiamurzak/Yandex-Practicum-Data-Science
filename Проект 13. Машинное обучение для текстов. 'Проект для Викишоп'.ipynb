{
 "cells": [
  {
   "cell_type": "markdown",
   "metadata": {
    "id": "9ouJai8iWquU"
   },
   "source": [
    "<div style=\"border:solid blue 2px; padding: 20px\">\n",
    "<font color='blue'>Привет, Софья!</font>\n",
    "\n",
    "Твоё решение проверил <font color='blue'>Александр Цымбалов</font>\n",
    "\n",
    "Если у тебя будут какие-то <font color='blue'>вопросы</font>, то обязательно их <font color='blue'>задавай</font>\n",
    "\n",
    "Я буду обращаться к тебе на \"ты\", ведь все мы здесь студенты)\n",
    "Но если тебе некомфортно, то дай знать, пожалуйста\n",
    "<br><br>\n",
    "Мои комментарии будут в отдельных ячейках <font color='blue'>Markdown</font> с заголовком «Комментарий ревьюера».\n",
    "\n",
    "**Пожалуйста, не перемещай, не изменяй и не удаляй их**. \n",
    "Я буду использовать цветовую разметку:\n",
    "\n",
    "<div class=\"alert alert-danger\">\n",
    "<b>Комментарий ревьюера ❌:</b> Замечания, которые необходимо обработать, иначе я не смогу принять проект </div>\n",
    "\n",
    "<div class=\"alert alert-warning\">\n",
    "<b>Комментарий ревьюера ⚠️:</b> Небольшие замечания или вопросы по пониманию темы. Если есть желание и время, то у тебя есть возможность сделать проект ещё лучше </div>\n",
    "\n",
    "<div class=\"alert alert-success\">\n",
    "<b>Комментарий ревьюера ✔️:</b> Хвалебные отзывы или другого рода комментарии)</div>\n",
    "\n",
    "**Если ты что-то меняешь в проекте или отвечаешь на мои комменатри — пиши об этом.**\n",
    "\n",
    "Мне будет <font color='blue'> легче </font> отследить изменения, если ты выделишь свои комментарии:\n",
    "<div class=\"alert alert-info\"> <b>Комментарий студента:</b> Лучше в таком формате, но как тебе <font color='blue'> удобно </font></div></font>\n",
    "\n",
    "Версии комментариев я буду нумеровать\n",
    "\n",
    "<br>"
   ]
  },
  {
   "cell_type": "markdown",
   "metadata": {
    "id": "QrMpcCnMWqua"
   },
   "source": [
    "<div style=\"border:solid blue 2px; padding: 20px\">\n",
    "<font color='blue'>Итог 1 ревью</font>\n",
    "    \n",
    "Определенно хорошая работа! Ты здорово проанализировала данные, предобработала их, обучила модели и выбрала самую лучшую. Отдельно хочу похвалить за использование catboost и подробное комментирование шагов! Есть проблемы, которые необходимо исправить:\n",
    "    <ul>\n",
    "        <li>Порядок очистки и лемматизации</li>\n",
    "        <li>Catboost (либо победить и получить результат, либо удалить код)</li>\n",
    "    </ul>\n",
    "Удачи! Жду на второе ревью!"
   ]
  },
  {
   "cell_type": "markdown",
   "metadata": {
    "id": "vmqkRzTJqaBa"
   },
   "source": [
    "<div class=\"alert alert-info\"> <b>Комментарий студента:</b> Исправила все критические ошибки и доп. комментарии, получилось обучить модель CatBoost, спасибо за совет. И за ревью. <font color='blue'> "
   ]
  },
  {
   "cell_type": "markdown",
   "metadata": {},
   "source": [
    "<div style=\"border:solid green 2px; padding: 20px\">\n",
    "<font color='blue'>Итог 2 ревью</font>\n",
    "    \n",
    "Ошибки были исправлены! Здорово, что у нас получилось обучить ещё и catboost. <br>Спасибо, что прислушалась к моим комментариям. Удачи на курсе!"
   ]
  },
  {
   "cell_type": "markdown",
   "metadata": {
    "id": "Mbpb14UvhXTv"
   },
   "source": [
    "## Проект для \"Викишоп\" (без BERT)"
   ]
  },
  {
   "cell_type": "markdown",
   "metadata": {
    "id": "4gUxDRtwWquc"
   },
   "source": [
    "<div class=\"alert alert-warning\">\n",
    "<b>1 Комментарий ревьюера ⚠️:</b> Для того, чтобы превратить текст в заголовок, между названием и \"#\" должен быть пробел </div>"
   ]
  },
  {
   "cell_type": "markdown",
   "metadata": {
    "id": "7wnAngrCWzIC"
   },
   "source": [
    "<div class=\"alert alert-info\"> <b>Комментарий студента:</b> исправила <font color='blue'> "
   ]
  },
  {
   "cell_type": "markdown",
   "metadata": {
    "id": "OvHK5qt1hU9u"
   },
   "source": [
    "Интернет-магазин «Викишоп» запускает новый сервис. Теперь пользователи могут редактировать и дополнять описания товаров, как в вики-сообществах. То есть клиенты предлагают свои правки и комментируют изменения других. Магазину нужен инструмент, который будет искать токсичные комментарии и отправлять их на модерацию. \n",
    "\n",
    "Обучите модель классифицировать комментарии на позитивные и негативные. В вашем распоряжении набор данных с разметкой о токсичности правок.\n",
    "\n",
    "Постройте модель со значением метрики качества *F1* не меньше 0.75. \n",
    "\n",
    "**Инструкция по выполнению проекта**\n",
    "\n",
    "1. Загрузите и подготовьте данные.\n",
    "2. Обучите разные модели. \n",
    "3. Сделайте выводы.\n",
    "\n",
    "Для выполнения проекта применять *BERT* необязательно, но вы можете попробовать.\n",
    "\n",
    "**Описание данных**\n",
    "\n",
    "Данные находятся в файле `toxic_comments.csv`. Столбец *text* в нём содержит текст комментария, а *toxic* — целевой признак."
   ]
  },
  {
   "cell_type": "markdown",
   "metadata": {
    "id": "usQ70Cfqhfvo"
   },
   "source": [
    "## Подготовка"
   ]
  },
  {
   "cell_type": "markdown",
   "metadata": {
    "id": "Bvtil-HRhiGn"
   },
   "source": [
    "Импортирую все необходимые библиотеки для реализации проекта."
   ]
  },
  {
   "cell_type": "code",
   "execution_count": 3,
   "metadata": {
    "colab": {
     "base_uri": "https://localhost:8080/"
    },
    "id": "zWQRlz_oFwvP",
    "outputId": "f27401a2-5ce8-4e42-8e4f-603f6b290aa8"
   },
   "outputs": [
    {
     "name": "stdout",
     "output_type": "stream",
     "text": [
      "Collecting catboost\n",
      "  Downloading catboost-1.0.5-cp37-none-manylinux1_x86_64.whl (76.6 MB)\n",
      "\u001b[K     |████████████████████████████████| 76.6 MB 44 kB/s \n",
      "\u001b[?25hRequirement already satisfied: plotly in /usr/local/lib/python3.7/dist-packages (from catboost) (5.5.0)\n",
      "Requirement already satisfied: scipy in /usr/local/lib/python3.7/dist-packages (from catboost) (1.4.1)\n",
      "Requirement already satisfied: six in /usr/local/lib/python3.7/dist-packages (from catboost) (1.15.0)\n",
      "Requirement already satisfied: graphviz in /usr/local/lib/python3.7/dist-packages (from catboost) (0.10.1)\n",
      "Requirement already satisfied: numpy>=1.16.0 in /usr/local/lib/python3.7/dist-packages (from catboost) (1.21.6)\n",
      "Requirement already satisfied: matplotlib in /usr/local/lib/python3.7/dist-packages (from catboost) (3.2.2)\n",
      "Requirement already satisfied: pandas>=0.24.0 in /usr/local/lib/python3.7/dist-packages (from catboost) (1.3.5)\n",
      "Requirement already satisfied: pytz>=2017.3 in /usr/local/lib/python3.7/dist-packages (from pandas>=0.24.0->catboost) (2022.1)\n",
      "Requirement already satisfied: python-dateutil>=2.7.3 in /usr/local/lib/python3.7/dist-packages (from pandas>=0.24.0->catboost) (2.8.2)\n",
      "Requirement already satisfied: kiwisolver>=1.0.1 in /usr/local/lib/python3.7/dist-packages (from matplotlib->catboost) (1.4.2)\n",
      "Requirement already satisfied: pyparsing!=2.0.4,!=2.1.2,!=2.1.6,>=2.0.1 in /usr/local/lib/python3.7/dist-packages (from matplotlib->catboost) (3.0.8)\n",
      "Requirement already satisfied: cycler>=0.10 in /usr/local/lib/python3.7/dist-packages (from matplotlib->catboost) (0.11.0)\n",
      "Requirement already satisfied: typing-extensions in /usr/local/lib/python3.7/dist-packages (from kiwisolver>=1.0.1->matplotlib->catboost) (4.2.0)\n",
      "Requirement already satisfied: tenacity>=6.2.0 in /usr/local/lib/python3.7/dist-packages (from plotly->catboost) (8.0.1)\n",
      "Installing collected packages: catboost\n",
      "Successfully installed catboost-1.0.5\n"
     ]
    }
   ],
   "source": [
    "#pip install catboost"
   ]
  },
  {
   "cell_type": "code",
   "execution_count": 4,
   "metadata": {
    "colab": {
     "base_uri": "https://localhost:8080/"
    },
    "id": "kUqLkuvxhVyo",
    "outputId": "f0bce8bd-3221-40be-c1fe-b1f8ba981003"
   },
   "outputs": [
    {
     "name": "stdout",
     "output_type": "stream",
     "text": [
      "Requirement already satisfied: spacy in /usr/local/lib/python3.7/dist-packages (2.2.4)\n",
      "Requirement already satisfied: requests<3.0.0,>=2.13.0 in /usr/local/lib/python3.7/dist-packages (from spacy) (2.23.0)\n",
      "Requirement already satisfied: blis<0.5.0,>=0.4.0 in /usr/local/lib/python3.7/dist-packages (from spacy) (0.4.1)\n",
      "Requirement already satisfied: tqdm<5.0.0,>=4.38.0 in /usr/local/lib/python3.7/dist-packages (from spacy) (4.64.0)\n",
      "Requirement already satisfied: thinc==7.4.0 in /usr/local/lib/python3.7/dist-packages (from spacy) (7.4.0)\n",
      "Requirement already satisfied: cymem<2.1.0,>=2.0.2 in /usr/local/lib/python3.7/dist-packages (from spacy) (2.0.6)\n",
      "Requirement already satisfied: wasabi<1.1.0,>=0.4.0 in /usr/local/lib/python3.7/dist-packages (from spacy) (0.9.1)\n",
      "Requirement already satisfied: setuptools in /usr/local/lib/python3.7/dist-packages (from spacy) (57.4.0)\n",
      "Requirement already satisfied: numpy>=1.15.0 in /usr/local/lib/python3.7/dist-packages (from spacy) (1.21.6)\n",
      "Requirement already satisfied: preshed<3.1.0,>=3.0.2 in /usr/local/lib/python3.7/dist-packages (from spacy) (3.0.6)\n",
      "Requirement already satisfied: murmurhash<1.1.0,>=0.28.0 in /usr/local/lib/python3.7/dist-packages (from spacy) (1.0.7)\n",
      "Requirement already satisfied: plac<1.2.0,>=0.9.6 in /usr/local/lib/python3.7/dist-packages (from spacy) (1.1.3)\n",
      "Requirement already satisfied: srsly<1.1.0,>=1.0.2 in /usr/local/lib/python3.7/dist-packages (from spacy) (1.0.5)\n",
      "Requirement already satisfied: catalogue<1.1.0,>=0.0.7 in /usr/local/lib/python3.7/dist-packages (from spacy) (1.0.0)\n",
      "Requirement already satisfied: importlib-metadata>=0.20 in /usr/local/lib/python3.7/dist-packages (from catalogue<1.1.0,>=0.0.7->spacy) (4.11.3)\n",
      "Requirement already satisfied: typing-extensions>=3.6.4 in /usr/local/lib/python3.7/dist-packages (from importlib-metadata>=0.20->catalogue<1.1.0,>=0.0.7->spacy) (4.2.0)\n",
      "Requirement already satisfied: zipp>=0.5 in /usr/local/lib/python3.7/dist-packages (from importlib-metadata>=0.20->catalogue<1.1.0,>=0.0.7->spacy) (3.8.0)\n",
      "Requirement already satisfied: idna<3,>=2.5 in /usr/local/lib/python3.7/dist-packages (from requests<3.0.0,>=2.13.0->spacy) (2.10)\n",
      "Requirement already satisfied: certifi>=2017.4.17 in /usr/local/lib/python3.7/dist-packages (from requests<3.0.0,>=2.13.0->spacy) (2021.10.8)\n",
      "Requirement already satisfied: chardet<4,>=3.0.2 in /usr/local/lib/python3.7/dist-packages (from requests<3.0.0,>=2.13.0->spacy) (3.0.4)\n",
      "Requirement already satisfied: urllib3!=1.25.0,!=1.25.1,<1.26,>=1.21.1 in /usr/local/lib/python3.7/dist-packages (from requests<3.0.0,>=2.13.0->spacy) (1.24.3)\n",
      "Collecting en_core_web_sm==2.2.5\n",
      "  Downloading https://github.com/explosion/spacy-models/releases/download/en_core_web_sm-2.2.5/en_core_web_sm-2.2.5.tar.gz (12.0 MB)\n",
      "\u001b[K     |████████████████████████████████| 12.0 MB 8.0 MB/s \n",
      "\u001b[?25hRequirement already satisfied: spacy>=2.2.2 in /usr/local/lib/python3.7/dist-packages (from en_core_web_sm==2.2.5) (2.2.4)\n",
      "Requirement already satisfied: srsly<1.1.0,>=1.0.2 in /usr/local/lib/python3.7/dist-packages (from spacy>=2.2.2->en_core_web_sm==2.2.5) (1.0.5)\n",
      "Requirement already satisfied: cymem<2.1.0,>=2.0.2 in /usr/local/lib/python3.7/dist-packages (from spacy>=2.2.2->en_core_web_sm==2.2.5) (2.0.6)\n",
      "Requirement already satisfied: requests<3.0.0,>=2.13.0 in /usr/local/lib/python3.7/dist-packages (from spacy>=2.2.2->en_core_web_sm==2.2.5) (2.23.0)\n",
      "Requirement already satisfied: setuptools in /usr/local/lib/python3.7/dist-packages (from spacy>=2.2.2->en_core_web_sm==2.2.5) (57.4.0)\n",
      "Requirement already satisfied: blis<0.5.0,>=0.4.0 in /usr/local/lib/python3.7/dist-packages (from spacy>=2.2.2->en_core_web_sm==2.2.5) (0.4.1)\n",
      "Requirement already satisfied: thinc==7.4.0 in /usr/local/lib/python3.7/dist-packages (from spacy>=2.2.2->en_core_web_sm==2.2.5) (7.4.0)\n",
      "Requirement already satisfied: preshed<3.1.0,>=3.0.2 in /usr/local/lib/python3.7/dist-packages (from spacy>=2.2.2->en_core_web_sm==2.2.5) (3.0.6)\n",
      "Requirement already satisfied: numpy>=1.15.0 in /usr/local/lib/python3.7/dist-packages (from spacy>=2.2.2->en_core_web_sm==2.2.5) (1.21.6)\n",
      "Requirement already satisfied: catalogue<1.1.0,>=0.0.7 in /usr/local/lib/python3.7/dist-packages (from spacy>=2.2.2->en_core_web_sm==2.2.5) (1.0.0)\n",
      "Requirement already satisfied: plac<1.2.0,>=0.9.6 in /usr/local/lib/python3.7/dist-packages (from spacy>=2.2.2->en_core_web_sm==2.2.5) (1.1.3)\n",
      "Requirement already satisfied: wasabi<1.1.0,>=0.4.0 in /usr/local/lib/python3.7/dist-packages (from spacy>=2.2.2->en_core_web_sm==2.2.5) (0.9.1)\n",
      "Requirement already satisfied: tqdm<5.0.0,>=4.38.0 in /usr/local/lib/python3.7/dist-packages (from spacy>=2.2.2->en_core_web_sm==2.2.5) (4.64.0)\n",
      "Requirement already satisfied: murmurhash<1.1.0,>=0.28.0 in /usr/local/lib/python3.7/dist-packages (from spacy>=2.2.2->en_core_web_sm==2.2.5) (1.0.7)\n",
      "Requirement already satisfied: importlib-metadata>=0.20 in /usr/local/lib/python3.7/dist-packages (from catalogue<1.1.0,>=0.0.7->spacy>=2.2.2->en_core_web_sm==2.2.5) (4.11.3)\n",
      "Requirement already satisfied: typing-extensions>=3.6.4 in /usr/local/lib/python3.7/dist-packages (from importlib-metadata>=0.20->catalogue<1.1.0,>=0.0.7->spacy>=2.2.2->en_core_web_sm==2.2.5) (4.2.0)\n",
      "Requirement already satisfied: zipp>=0.5 in /usr/local/lib/python3.7/dist-packages (from importlib-metadata>=0.20->catalogue<1.1.0,>=0.0.7->spacy>=2.2.2->en_core_web_sm==2.2.5) (3.8.0)\n",
      "Requirement already satisfied: urllib3!=1.25.0,!=1.25.1,<1.26,>=1.21.1 in /usr/local/lib/python3.7/dist-packages (from requests<3.0.0,>=2.13.0->spacy>=2.2.2->en_core_web_sm==2.2.5) (1.24.3)\n",
      "Requirement already satisfied: idna<3,>=2.5 in /usr/local/lib/python3.7/dist-packages (from requests<3.0.0,>=2.13.0->spacy>=2.2.2->en_core_web_sm==2.2.5) (2.10)\n",
      "Requirement already satisfied: chardet<4,>=3.0.2 in /usr/local/lib/python3.7/dist-packages (from requests<3.0.0,>=2.13.0->spacy>=2.2.2->en_core_web_sm==2.2.5) (3.0.4)\n",
      "Requirement already satisfied: certifi>=2017.4.17 in /usr/local/lib/python3.7/dist-packages (from requests<3.0.0,>=2.13.0->spacy>=2.2.2->en_core_web_sm==2.2.5) (2021.10.8)\n",
      "\u001b[38;5;2m✔ Download and installation successful\u001b[0m\n",
      "You can now load the model via spacy.load('en_core_web_sm')\n",
      "\u001b[38;5;2m✔ Linking successful\u001b[0m\n",
      "/usr/local/lib/python3.7/dist-packages/en_core_web_sm -->\n",
      "/usr/local/lib/python3.7/dist-packages/spacy/data/en\n",
      "You can now load the model via spacy.load('en')\n",
      "[nltk_data] Downloading package stopwords to /root/nltk_data...\n",
      "[nltk_data]   Package stopwords is already up-to-date!\n"
     ]
    }
   ],
   "source": [
    "import pandas as pd\n",
    "import numpy as np\n",
    "import spacy\n",
    "import re\n",
    "\n",
    "\n",
    "# Install spaCy (run in terminal/prompt)\n",
    "import sys\n",
    "!{sys.executable} -m pip install spacy\n",
    "# Download spaCy's  'en' Model\n",
    "!{sys.executable} -m spacy download en\n",
    "from sklearn.feature_extraction.text import CountVectorizer\n",
    "import nltk\n",
    "nltk.download('stopwords')\n",
    "from nltk.corpus import stopwords\n",
    "from sklearn.feature_extraction.text import TfidfVectorizer\n",
    "\n",
    "from sklearn.model_selection import train_test_split, GridSearchCV\n",
    "from sklearn.linear_model import LogisticRegression\n",
    "from catboost import CatBoostClassifier\n",
    "from lightgbm import LGBMClassifier\n",
    "from sklearn.ensemble import RandomForestClassifier\n",
    "from sklearn.metrics import f1_score\n",
    "\n",
    "import warnings\n",
    "warnings.filterwarnings(\"ignore\")"
   ]
  },
  {
   "cell_type": "markdown",
   "metadata": {
    "id": "SMwM0q88jbkK"
   },
   "source": [
    "Загружаю исходные данные, преобразовываю их в датафрейм и вывожу первые 5 строк для ознакомления с данными."
   ]
  },
  {
   "cell_type": "code",
   "execution_count": 5,
   "metadata": {
    "id": "MYeVDFPdhkVN"
   },
   "outputs": [],
   "source": [
    "try:\n",
    "  data = pd.read_csv('/content/toxic_comments.csv')\n",
    "except FileNotFoundError as e:\n",
    "    print(e)\n",
    "    data = pd.read_csv('/datasets/toxic_comments.csv')"
   ]
  },
  {
   "cell_type": "markdown",
   "metadata": {
    "id": "dGFm1srAWquj"
   },
   "source": [
    "<div class=\"alert alert-success\">\n",
    "<b>1 Комментарий ревьюера ✔️:</b> Круто, что ты не просто используешь try/except, но и ловишь конкретную ошибку</div>\n"
   ]
  },
  {
   "cell_type": "code",
   "execution_count": 6,
   "metadata": {
    "colab": {
     "base_uri": "https://localhost:8080/",
     "height": 206
    },
    "id": "AMWDUYPUhxnk",
    "outputId": "d3ed9fbd-a9e9-47b6-d92d-74212f0ee84d"
   },
   "outputs": [
    {
     "data": {
      "text/html": [
       "\n",
       "  <div id=\"df-591bb090-5334-494c-a046-d02429302110\">\n",
       "    <div class=\"colab-df-container\">\n",
       "      <div>\n",
       "<style scoped>\n",
       "    .dataframe tbody tr th:only-of-type {\n",
       "        vertical-align: middle;\n",
       "    }\n",
       "\n",
       "    .dataframe tbody tr th {\n",
       "        vertical-align: top;\n",
       "    }\n",
       "\n",
       "    .dataframe thead th {\n",
       "        text-align: right;\n",
       "    }\n",
       "</style>\n",
       "<table border=\"1\" class=\"dataframe\">\n",
       "  <thead>\n",
       "    <tr style=\"text-align: right;\">\n",
       "      <th></th>\n",
       "      <th>text</th>\n",
       "      <th>toxic</th>\n",
       "    </tr>\n",
       "  </thead>\n",
       "  <tbody>\n",
       "    <tr>\n",
       "      <th>0</th>\n",
       "      <td>Explanation\\nWhy the edits made under my usern...</td>\n",
       "      <td>0</td>\n",
       "    </tr>\n",
       "    <tr>\n",
       "      <th>1</th>\n",
       "      <td>D'aww! He matches this background colour I'm s...</td>\n",
       "      <td>0</td>\n",
       "    </tr>\n",
       "    <tr>\n",
       "      <th>2</th>\n",
       "      <td>Hey man, I'm really not trying to edit war. It...</td>\n",
       "      <td>0</td>\n",
       "    </tr>\n",
       "    <tr>\n",
       "      <th>3</th>\n",
       "      <td>\"\\nMore\\nI can't make any real suggestions on ...</td>\n",
       "      <td>0</td>\n",
       "    </tr>\n",
       "    <tr>\n",
       "      <th>4</th>\n",
       "      <td>You, sir, are my hero. Any chance you remember...</td>\n",
       "      <td>0</td>\n",
       "    </tr>\n",
       "  </tbody>\n",
       "</table>\n",
       "</div>\n",
       "      <button class=\"colab-df-convert\" onclick=\"convertToInteractive('df-591bb090-5334-494c-a046-d02429302110')\"\n",
       "              title=\"Convert this dataframe to an interactive table.\"\n",
       "              style=\"display:none;\">\n",
       "        \n",
       "  <svg xmlns=\"http://www.w3.org/2000/svg\" height=\"24px\"viewBox=\"0 0 24 24\"\n",
       "       width=\"24px\">\n",
       "    <path d=\"M0 0h24v24H0V0z\" fill=\"none\"/>\n",
       "    <path d=\"M18.56 5.44l.94 2.06.94-2.06 2.06-.94-2.06-.94-.94-2.06-.94 2.06-2.06.94zm-11 1L8.5 8.5l.94-2.06 2.06-.94-2.06-.94L8.5 2.5l-.94 2.06-2.06.94zm10 10l.94 2.06.94-2.06 2.06-.94-2.06-.94-.94-2.06-.94 2.06-2.06.94z\"/><path d=\"M17.41 7.96l-1.37-1.37c-.4-.4-.92-.59-1.43-.59-.52 0-1.04.2-1.43.59L10.3 9.45l-7.72 7.72c-.78.78-.78 2.05 0 2.83L4 21.41c.39.39.9.59 1.41.59.51 0 1.02-.2 1.41-.59l7.78-7.78 2.81-2.81c.8-.78.8-2.07 0-2.86zM5.41 20L4 18.59l7.72-7.72 1.47 1.35L5.41 20z\"/>\n",
       "  </svg>\n",
       "      </button>\n",
       "      \n",
       "  <style>\n",
       "    .colab-df-container {\n",
       "      display:flex;\n",
       "      flex-wrap:wrap;\n",
       "      gap: 12px;\n",
       "    }\n",
       "\n",
       "    .colab-df-convert {\n",
       "      background-color: #E8F0FE;\n",
       "      border: none;\n",
       "      border-radius: 50%;\n",
       "      cursor: pointer;\n",
       "      display: none;\n",
       "      fill: #1967D2;\n",
       "      height: 32px;\n",
       "      padding: 0 0 0 0;\n",
       "      width: 32px;\n",
       "    }\n",
       "\n",
       "    .colab-df-convert:hover {\n",
       "      background-color: #E2EBFA;\n",
       "      box-shadow: 0px 1px 2px rgba(60, 64, 67, 0.3), 0px 1px 3px 1px rgba(60, 64, 67, 0.15);\n",
       "      fill: #174EA6;\n",
       "    }\n",
       "\n",
       "    [theme=dark] .colab-df-convert {\n",
       "      background-color: #3B4455;\n",
       "      fill: #D2E3FC;\n",
       "    }\n",
       "\n",
       "    [theme=dark] .colab-df-convert:hover {\n",
       "      background-color: #434B5C;\n",
       "      box-shadow: 0px 1px 3px 1px rgba(0, 0, 0, 0.15);\n",
       "      filter: drop-shadow(0px 1px 2px rgba(0, 0, 0, 0.3));\n",
       "      fill: #FFFFFF;\n",
       "    }\n",
       "  </style>\n",
       "\n",
       "      <script>\n",
       "        const buttonEl =\n",
       "          document.querySelector('#df-591bb090-5334-494c-a046-d02429302110 button.colab-df-convert');\n",
       "        buttonEl.style.display =\n",
       "          google.colab.kernel.accessAllowed ? 'block' : 'none';\n",
       "\n",
       "        async function convertToInteractive(key) {\n",
       "          const element = document.querySelector('#df-591bb090-5334-494c-a046-d02429302110');\n",
       "          const dataTable =\n",
       "            await google.colab.kernel.invokeFunction('convertToInteractive',\n",
       "                                                     [key], {});\n",
       "          if (!dataTable) return;\n",
       "\n",
       "          const docLinkHtml = 'Like what you see? Visit the ' +\n",
       "            '<a target=\"_blank\" href=https://colab.research.google.com/notebooks/data_table.ipynb>data table notebook</a>'\n",
       "            + ' to learn more about interactive tables.';\n",
       "          element.innerHTML = '';\n",
       "          dataTable['output_type'] = 'display_data';\n",
       "          await google.colab.output.renderOutput(dataTable, element);\n",
       "          const docLink = document.createElement('div');\n",
       "          docLink.innerHTML = docLinkHtml;\n",
       "          element.appendChild(docLink);\n",
       "        }\n",
       "      </script>\n",
       "    </div>\n",
       "  </div>\n",
       "  "
      ],
      "text/plain": [
       "                                                text  toxic\n",
       "0  Explanation\\nWhy the edits made under my usern...      0\n",
       "1  D'aww! He matches this background colour I'm s...      0\n",
       "2  Hey man, I'm really not trying to edit war. It...      0\n",
       "3  \"\\nMore\\nI can't make any real suggestions on ...      0\n",
       "4  You, sir, are my hero. Any chance you remember...      0"
      ]
     },
     "execution_count": 6,
     "metadata": {},
     "output_type": "execute_result"
    }
   ],
   "source": [
    "data.head()"
   ]
  },
  {
   "cell_type": "code",
   "execution_count": 7,
   "metadata": {
    "colab": {
     "base_uri": "https://localhost:8080/"
    },
    "id": "Ciu95F8ijhMF",
    "outputId": "bfe5a789-12e9-434e-fb72-abf7888a4ea8"
   },
   "outputs": [
    {
     "data": {
      "text/plain": [
       "text     0\n",
       "toxic    0\n",
       "dtype: int64"
      ]
     },
     "execution_count": 7,
     "metadata": {},
     "output_type": "execute_result"
    }
   ],
   "source": [
    "data.isna().sum()"
   ]
  },
  {
   "cell_type": "code",
   "execution_count": 8,
   "metadata": {
    "colab": {
     "base_uri": "https://localhost:8080/"
    },
    "id": "Yu5SyYlojj1O",
    "outputId": "32524717-d9f8-4ff5-ae28-8512f8a5ab85"
   },
   "outputs": [
    {
     "data": {
      "text/plain": [
       "(159571, 2)"
      ]
     },
     "execution_count": 8,
     "metadata": {},
     "output_type": "execute_result"
    }
   ],
   "source": [
    "data.shape"
   ]
  },
  {
   "cell_type": "markdown",
   "metadata": {
    "id": "t_QDco36jgVa"
   },
   "source": [
    "Исходные данные состоят из двух столбцов и 159571 строк с заполненными данными.\n",
    "\n",
    "- text - текст комментария (латиницей)\n",
    "- toxic - признак негативного комментария (1-комментарий токсичный, 0-комментарий нормальный)"
   ]
  },
  {
   "cell_type": "markdown",
   "metadata": {
    "id": "9QxiuhYFj_wJ"
   },
   "source": [
    "Чтобы алгоритмы умели определять тематику и тональность текста, их нужно обучить на корпусе (англ. corpus). Это набор текстов, в котором эмоции и ключевые слова уже размечены.\n",
    "Создадим корпус постов. Преобразуем столбец text в список текстов."
   ]
  },
  {
   "cell_type": "markdown",
   "metadata": {
    "id": "dVKA2hmYWqul"
   },
   "source": [
    "<div class=\"alert alert-success\">\n",
    "<b>1 Комментарий ревьюера ✔️:</b> Верный анализ задачи!</div>\n"
   ]
  },
  {
   "cell_type": "code",
   "execution_count": 9,
   "metadata": {
    "id": "y1AxWmUUjVqU"
   },
   "outputs": [],
   "source": [
    "corpus = data['text'].values"
   ]
  },
  {
   "cell_type": "markdown",
   "metadata": {
    "id": "8kEaXGmuqkqF"
   },
   "source": [
    "От лишних символов текст очистят регулярные выражения. Это инструмент для поиска слова или числа по шаблону. Он определяет, из каких частей состоит строка и какие в них символы. В лемматизированном тексте твита нужно оставить только символы латиницей и пробелы. Чтобы их найти, напишем регулярное выражение.  После этой операции в тексте можно обнаружить лишние пробелы, для анализа они — помеха. Пробелы устраняются комбинацией функций join() и split()."
   ]
  },
  {
   "cell_type": "code",
   "execution_count": 11,
   "metadata": {
    "id": "5Ln1tAKJZJg2"
   },
   "outputs": [],
   "source": [
    "def clear_text(text):\n",
    "    text=re.sub(r'[^a-zA-Z]', ' ', text)\n",
    "    text=text.split()\n",
    "    return \" \".join(text)"
   ]
  },
  {
   "cell_type": "code",
   "execution_count": 13,
   "metadata": {
    "id": "GlJ_aSdMZNE-"
   },
   "outputs": [],
   "source": [
    "data['text'] = data['text'].apply(clear_text)"
   ]
  },
  {
   "cell_type": "markdown",
   "metadata": {
    "id": "5BiwRNLBpftA"
   },
   "source": [
    "Так как все комментарии в исходных данных написаны на английском языке, библиотека pymystem3 для лемматизации не подойдет, так как она ориентирвоана на русский язык. \n",
    "\n",
    "Самостоятельно мной была изучена библиотека spaCy для лемматизации английских комментариев. spaCy является относительно новым пакетом и на данный момент считается стандартом в индустрии NLP. Он поставляется с предварительно созданными моделями, которые могут анализировать текст и выполнять различный функционал, связанный с NLP. Для работы с англоязычными комментариями была загружена специальная модель \"en\". spaCy по умолчанию определяет часть речи и назначает соответствующую лемму, поэтому не нуждается в дополнительных POS-тегах."
   ]
  },
  {
   "cell_type": "markdown",
   "metadata": {
    "id": "n2tijK_CWqum"
   },
   "source": [
    "<div class=\"alert alert-success\">\n",
    "<b>1 Комментарий ревьюера ✔️:</b> Правильно! pymystem3 тут не подойдет, но spacy как раз для нашей задачи! </div>\n"
   ]
  },
  {
   "cell_type": "code",
   "execution_count": null,
   "metadata": {
    "id": "0zvZSMf-pM52"
   },
   "outputs": [],
   "source": [
    "# nlp = spacy.load('en', disable=['parser', 'ner'])"
   ]
  },
  {
   "cell_type": "code",
   "execution_count": 10,
   "metadata": {
    "id": "BYRxPL5iWqum"
   },
   "outputs": [],
   "source": [
    "# код ревьюера, различия в версиях библиотек\n",
    "\n",
    "nlp = spacy.load('en_core_web_sm', disable=['parser', 'ner'])"
   ]
  },
  {
   "cell_type": "code",
   "execution_count": 14,
   "metadata": {
    "id": "q3DLIuCOoQS7"
   },
   "outputs": [],
   "source": [
    "def lemmatize(text):\n",
    "  doc = nlp(text)\n",
    "  return \" \".join([token.lemma_ for token in doc])"
   ]
  },
  {
   "cell_type": "code",
   "execution_count": 15,
   "metadata": {
    "id": "ffPxDEldpOtU"
   },
   "outputs": [],
   "source": [
    "data['lemma'] = data['text'].apply(lemmatize)"
   ]
  },
  {
   "cell_type": "markdown",
   "metadata": {
    "id": "A1Ne7azJWqun"
   },
   "source": [
    "<div class=\"alert alert-success\">\n",
    "<b>1 Комментарий ревьюера ✔️:</b> Всё верно! Регулярным выражением достаточно просто можно избавиться от проблемных символов</div>\n"
   ]
  },
  {
   "cell_type": "markdown",
   "metadata": {
    "id": "cuV5oKdJWqun"
   },
   "source": [
    "<div class=\"alert alert-success\">\n",
    "<b>1 Комментарий ревьюера ✔️:</b> Лемматизация и очистка текста отличная!</div>\n",
    "\n",
    "<div class=\"alert alert-danger\">\n",
    "<b>1 Комментарий ревьюера ❌:</b> Сначала нужно очистить текст, а потом делать лемматизацию. Слова с цифрой, странным символом на конце, буквами в разном регистре могут ломать лемматизатор? Советую проверить пример: went, go, 9go, 1wEnt, 3went3, GoinG, going</div>"
   ]
  },
  {
   "cell_type": "markdown",
   "metadata": {
    "id": "Eumb5wp1omJt"
   },
   "source": [
    "<div class=\"alert alert-info\"> <b>Комментарий студента:</b> исправила порядок обработки текста<font color='blue'> "
   ]
  },
  {
   "cell_type": "markdown",
   "metadata": {
    "id": "A1Ne7azJWqun"
   },
   "source": [
    "<div class=\"alert alert-success\">\n",
    "<b>2 Комментарий ревьюера ✔️:</b> Отлично!</div>\n"
   ]
  },
  {
   "cell_type": "markdown",
   "metadata": {
    "id": "Y2CtyD8ju0Qb"
   },
   "source": [
    "Так как spaCy заменяет все местоимения на PRON, я удалю это слово из комментариев, чтобы оно не влияло на метрику TFIDF."
   ]
  },
  {
   "cell_type": "markdown",
   "metadata": {
    "id": "3qdtjyzHWquo"
   },
   "source": [
    "<div class=\"alert alert-warning\">\n",
    "<b>1 Комментарий ревьюера ⚠️:</b> Из-за разницы в версиях библиотек это уже неактуально </div>"
   ]
  },
  {
   "cell_type": "markdown",
   "metadata": {
    "id": "Y0xcIFZYosXh"
   },
   "source": [
    "<div class=\"alert alert-info\"> <b>Комментарий студента:</b> хм, все еще остались -PRON- даже с использованием кода ревьюера. поэтому снова прогнала код удаления. <font color='blue'> "
   ]
  },
  {
   "cell_type": "markdown",
   "metadata": {
    "id": "A1Ne7azJWqun"
   },
   "source": [
    "<div class=\"alert alert-success\">\n",
    "<b>2 Комментарий ревьюера ✔️:</b> Что-то странное, я использовал твой код для местоимения ¯\\_(ツ)_/¯<br>Ладно, нам это не вредит. Так тоже можно делать</div>\n"
   ]
  },
  {
   "cell_type": "code",
   "execution_count": 17,
   "metadata": {
    "id": "J_qjsnwFtVUo"
   },
   "outputs": [],
   "source": [
    "data['lemma'] = data['lemma'].str.replace('-PRON-','')"
   ]
  },
  {
   "cell_type": "code",
   "execution_count": 18,
   "metadata": {
    "colab": {
     "base_uri": "https://localhost:8080/",
     "height": 206
    },
    "id": "CJEdaGnYuu3W",
    "outputId": "bc9ea269-a896-4f55-a425-56d808f1bbb3"
   },
   "outputs": [
    {
     "data": {
      "text/html": [
       "\n",
       "  <div id=\"df-aa48b642-d302-4e3e-89a1-8a80d3176374\">\n",
       "    <div class=\"colab-df-container\">\n",
       "      <div>\n",
       "<style scoped>\n",
       "    .dataframe tbody tr th:only-of-type {\n",
       "        vertical-align: middle;\n",
       "    }\n",
       "\n",
       "    .dataframe tbody tr th {\n",
       "        vertical-align: top;\n",
       "    }\n",
       "\n",
       "    .dataframe thead th {\n",
       "        text-align: right;\n",
       "    }\n",
       "</style>\n",
       "<table border=\"1\" class=\"dataframe\">\n",
       "  <thead>\n",
       "    <tr style=\"text-align: right;\">\n",
       "      <th></th>\n",
       "      <th>text</th>\n",
       "      <th>toxic</th>\n",
       "      <th>lemma</th>\n",
       "    </tr>\n",
       "  </thead>\n",
       "  <tbody>\n",
       "    <tr>\n",
       "      <th>0</th>\n",
       "      <td>Explanation Why the edits made under my userna...</td>\n",
       "      <td>0</td>\n",
       "      <td>explanation why the edit make under  username ...</td>\n",
       "    </tr>\n",
       "    <tr>\n",
       "      <th>1</th>\n",
       "      <td>D aww He matches this background colour I m se...</td>\n",
       "      <td>0</td>\n",
       "      <td>D aww  match this background colour  m seeming...</td>\n",
       "    </tr>\n",
       "    <tr>\n",
       "      <th>2</th>\n",
       "      <td>Hey man I m really not trying to edit war It s...</td>\n",
       "      <td>0</td>\n",
       "      <td>hey man  m really not try to edit war  s just ...</td>\n",
       "    </tr>\n",
       "    <tr>\n",
       "      <th>3</th>\n",
       "      <td>More I can t make any real suggestions on impr...</td>\n",
       "      <td>0</td>\n",
       "      <td>More  can t make any real suggestion on improv...</td>\n",
       "    </tr>\n",
       "    <tr>\n",
       "      <th>4</th>\n",
       "      <td>You sir are my hero Any chance you remember wh...</td>\n",
       "      <td>0</td>\n",
       "      <td>sir be  hero any chance  remember what page t...</td>\n",
       "    </tr>\n",
       "  </tbody>\n",
       "</table>\n",
       "</div>\n",
       "      <button class=\"colab-df-convert\" onclick=\"convertToInteractive('df-aa48b642-d302-4e3e-89a1-8a80d3176374')\"\n",
       "              title=\"Convert this dataframe to an interactive table.\"\n",
       "              style=\"display:none;\">\n",
       "        \n",
       "  <svg xmlns=\"http://www.w3.org/2000/svg\" height=\"24px\"viewBox=\"0 0 24 24\"\n",
       "       width=\"24px\">\n",
       "    <path d=\"M0 0h24v24H0V0z\" fill=\"none\"/>\n",
       "    <path d=\"M18.56 5.44l.94 2.06.94-2.06 2.06-.94-2.06-.94-.94-2.06-.94 2.06-2.06.94zm-11 1L8.5 8.5l.94-2.06 2.06-.94-2.06-.94L8.5 2.5l-.94 2.06-2.06.94zm10 10l.94 2.06.94-2.06 2.06-.94-2.06-.94-.94-2.06-.94 2.06-2.06.94z\"/><path d=\"M17.41 7.96l-1.37-1.37c-.4-.4-.92-.59-1.43-.59-.52 0-1.04.2-1.43.59L10.3 9.45l-7.72 7.72c-.78.78-.78 2.05 0 2.83L4 21.41c.39.39.9.59 1.41.59.51 0 1.02-.2 1.41-.59l7.78-7.78 2.81-2.81c.8-.78.8-2.07 0-2.86zM5.41 20L4 18.59l7.72-7.72 1.47 1.35L5.41 20z\"/>\n",
       "  </svg>\n",
       "      </button>\n",
       "      \n",
       "  <style>\n",
       "    .colab-df-container {\n",
       "      display:flex;\n",
       "      flex-wrap:wrap;\n",
       "      gap: 12px;\n",
       "    }\n",
       "\n",
       "    .colab-df-convert {\n",
       "      background-color: #E8F0FE;\n",
       "      border: none;\n",
       "      border-radius: 50%;\n",
       "      cursor: pointer;\n",
       "      display: none;\n",
       "      fill: #1967D2;\n",
       "      height: 32px;\n",
       "      padding: 0 0 0 0;\n",
       "      width: 32px;\n",
       "    }\n",
       "\n",
       "    .colab-df-convert:hover {\n",
       "      background-color: #E2EBFA;\n",
       "      box-shadow: 0px 1px 2px rgba(60, 64, 67, 0.3), 0px 1px 3px 1px rgba(60, 64, 67, 0.15);\n",
       "      fill: #174EA6;\n",
       "    }\n",
       "\n",
       "    [theme=dark] .colab-df-convert {\n",
       "      background-color: #3B4455;\n",
       "      fill: #D2E3FC;\n",
       "    }\n",
       "\n",
       "    [theme=dark] .colab-df-convert:hover {\n",
       "      background-color: #434B5C;\n",
       "      box-shadow: 0px 1px 3px 1px rgba(0, 0, 0, 0.15);\n",
       "      filter: drop-shadow(0px 1px 2px rgba(0, 0, 0, 0.3));\n",
       "      fill: #FFFFFF;\n",
       "    }\n",
       "  </style>\n",
       "\n",
       "      <script>\n",
       "        const buttonEl =\n",
       "          document.querySelector('#df-aa48b642-d302-4e3e-89a1-8a80d3176374 button.colab-df-convert');\n",
       "        buttonEl.style.display =\n",
       "          google.colab.kernel.accessAllowed ? 'block' : 'none';\n",
       "\n",
       "        async function convertToInteractive(key) {\n",
       "          const element = document.querySelector('#df-aa48b642-d302-4e3e-89a1-8a80d3176374');\n",
       "          const dataTable =\n",
       "            await google.colab.kernel.invokeFunction('convertToInteractive',\n",
       "                                                     [key], {});\n",
       "          if (!dataTable) return;\n",
       "\n",
       "          const docLinkHtml = 'Like what you see? Visit the ' +\n",
       "            '<a target=\"_blank\" href=https://colab.research.google.com/notebooks/data_table.ipynb>data table notebook</a>'\n",
       "            + ' to learn more about interactive tables.';\n",
       "          element.innerHTML = '';\n",
       "          dataTable['output_type'] = 'display_data';\n",
       "          await google.colab.output.renderOutput(dataTable, element);\n",
       "          const docLink = document.createElement('div');\n",
       "          docLink.innerHTML = docLinkHtml;\n",
       "          element.appendChild(docLink);\n",
       "        }\n",
       "      </script>\n",
       "    </div>\n",
       "  </div>\n",
       "  "
      ],
      "text/plain": [
       "                                                text  toxic  \\\n",
       "0  Explanation Why the edits made under my userna...      0   \n",
       "1  D aww He matches this background colour I m se...      0   \n",
       "2  Hey man I m really not trying to edit war It s...      0   \n",
       "3  More I can t make any real suggestions on impr...      0   \n",
       "4  You sir are my hero Any chance you remember wh...      0   \n",
       "\n",
       "                                               lemma  \n",
       "0  explanation why the edit make under  username ...  \n",
       "1  D aww  match this background colour  m seeming...  \n",
       "2  hey man  m really not try to edit war  s just ...  \n",
       "3  More  can t make any real suggestion on improv...  \n",
       "4   sir be  hero any chance  remember what page t...  "
      ]
     },
     "execution_count": 18,
     "metadata": {},
     "output_type": "execute_result"
    }
   ],
   "source": [
    "data.head()"
   ]
  },
  {
   "cell_type": "markdown",
   "metadata": {
    "id": "Mf6C_d1FwIK6"
   },
   "source": [
    "Чтобы преобразовать корпус текстов в мешок слов, обратимся к классу CountVectorizer(). У больших корпусов и мешки слов выходят большие, но часть слов в них может быть бессмысленной. Чаще всего от союзов, предлогов итд можно избавиться, причём тема текста и смысл предложения не изменятся. Когда мешок слов меньше и чище, проще найти слова, важные для классификации текстов.\n",
    "\n",
    "Чтобы почистить мешок слов, найдём стоп-слова, то есть слова без смысловой нагрузки. Их много, и для каждого языка — свои. Вызовем функцию stopwords.words(), передадим ей аргумент 'english', то есть англоязычные стоп-слова (так как комментарии в исходных данных на английском языке)."
   ]
  },
  {
   "cell_type": "code",
   "execution_count": 19,
   "metadata": {
    "colab": {
     "base_uri": "https://localhost:8080/"
    },
    "id": "9pE0K-bfvTH4",
    "outputId": "a15ef367-8be3-4473-d1a2-21a0d65e3807"
   },
   "outputs": [
    {
     "name": "stdout",
     "output_type": "stream",
     "text": [
      "Размер мешка без учёта стоп-слов: (159571, 168790)\n"
     ]
    }
   ],
   "source": [
    "count_vect = CountVectorizer()\n",
    "bow = count_vect.fit_transform(corpus)\n",
    "\n",
    "print(\"Размер мешка без учёта стоп-слов:\", bow.shape)"
   ]
  },
  {
   "cell_type": "code",
   "execution_count": 20,
   "metadata": {
    "colab": {
     "base_uri": "https://localhost:8080/"
    },
    "id": "ZKeOPt7gw5TP",
    "outputId": "91c930bb-c1d5-4c6d-c8b8-456fbd65ef99"
   },
   "outputs": [
    {
     "name": "stdout",
     "output_type": "stream",
     "text": [
      "Размер мешка с учётом стоп-слов: (159571, 168645)\n"
     ]
    }
   ],
   "source": [
    "stop_words = set(stopwords.words('english'))\n",
    "count_vect = CountVectorizer(stop_words=stop_words)\n",
    "bow = count_vect.fit_transform(corpus)\n",
    "print(\"Размер мешка с учётом стоп-слов:\", bow.shape)"
   ]
  },
  {
   "cell_type": "markdown",
   "metadata": {
    "id": "2wOi-mB6Wqup"
   },
   "source": [
    "<div class=\"alert alert-warning\">\n",
    "<b>1 Комментарий ревьюера ⚠️:</b> Круто, что ты не забыла такой способ работы с текстом! Ты ведь не используешь дальше мешок слов? </div>"
   ]
  },
  {
   "cell_type": "markdown",
   "metadata": {
    "id": "k0XQY2r7o2Dy"
   },
   "source": [
    "<div class=\"alert alert-info\"> <b>Комментарий студента:</b> дальше не использую. <font color='blue'> "
   ]
  },
  {
   "cell_type": "markdown",
   "metadata": {
    "id": "A1Ne7azJWqun"
   },
   "source": [
    "<div class=\"alert alert-success\">\n",
    "<b>2 Комментарий ревьюера ✔️:</b> Хорошо</div>\n"
   ]
  },
  {
   "cell_type": "markdown",
   "metadata": {
    "id": "IysziC1dxLAG"
   },
   "source": [
    "Мешок слов совсем немного, но очистился."
   ]
  },
  {
   "cell_type": "markdown",
   "metadata": {
    "id": "kmABvfSOAKxp"
   },
   "source": [
    "##Обучение моделей"
   ]
  },
  {
   "cell_type": "markdown",
   "metadata": {
    "id": "Y9uSv4dnANvy"
   },
   "source": [
    "Разделю выборки на обучаемую и тестовую, размер тестовой выборки будет 25%. Проверю корректность разбивки, посмотрев на размеры выборок методом shape."
   ]
  },
  {
   "cell_type": "code",
   "execution_count": 21,
   "metadata": {
    "id": "91a2N6rot2eh"
   },
   "outputs": [],
   "source": [
    "train, test = train_test_split(data, test_size=0.25, random_state=12345)"
   ]
  },
  {
   "cell_type": "markdown",
   "metadata": {
    "id": "Kr735JZjWquq"
   },
   "source": [
    "<div class=\"alert alert-success\">\n",
    "<b>1 Комментарий ревьюера ✔️:</b> Правильное разбиение на выборки!</div>\n"
   ]
  },
  {
   "cell_type": "code",
   "execution_count": 22,
   "metadata": {
    "colab": {
     "base_uri": "https://localhost:8080/"
    },
    "id": "tQpRGXGC2lus",
    "outputId": "21cd67fd-e327-49ac-f504-72cc3d6f807e"
   },
   "outputs": [
    {
     "data": {
      "text/plain": [
       "(119678, 3)"
      ]
     },
     "execution_count": 22,
     "metadata": {},
     "output_type": "execute_result"
    }
   ],
   "source": [
    "train.shape"
   ]
  },
  {
   "cell_type": "code",
   "execution_count": 23,
   "metadata": {
    "colab": {
     "base_uri": "https://localhost:8080/"
    },
    "id": "u-VK_F7H2m8h",
    "outputId": "73998e61-b2c7-4567-f006-658cb73eb0ee"
   },
   "outputs": [
    {
     "data": {
      "text/plain": [
       "(39893, 3)"
      ]
     },
     "execution_count": 23,
     "metadata": {},
     "output_type": "execute_result"
    }
   ],
   "source": [
    "test.shape"
   ]
  },
  {
   "cell_type": "code",
   "execution_count": 24,
   "metadata": {
    "id": "G5bj4l6o2ocL"
   },
   "outputs": [],
   "source": [
    "train['corpus'] = train['lemma'].values\n",
    "test['corpus'] = test['lemma'].values"
   ]
  },
  {
   "cell_type": "markdown",
   "metadata": {
    "id": "WhOIaIYeAaDu"
   },
   "source": [
    "Оценка важности слова определяется величиной TF-IDF. То есть TF отвечает за количество упоминаний слова в отдельном тексте, а IDF отражает частоту его употребления во всём корпусе. Формула TFIDF следующая:\n",
    " ![image.png](data:image/png;base64,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)\n",
    "![image.png](data:image/png;base64,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)\n",
    "![image.png](data:image/png;base64,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)\n",
    "\n",
    "IDF нужна в формуле, чтобы уменьшить вес слов, наиболее распространённых в любом другом тексте заданного корпуса. Большая величина TF-IDF говорит об уникальности слова в тексте по отношению к корпусу. Чем чаще оно встречается в конкретном тексте и реже в остальных, тем выше значение TF-IDF.\n",
    "Функцию fit() для TFIDF запускаю только на обучающей выборке, иначе тестирование будет нечестным:в модели будут учтены частоты слов из тестовой выборки.\n"
   ]
  },
  {
   "cell_type": "markdown",
   "metadata": {
    "id": "Cmx3dtyOWquw"
   },
   "source": [
    "<div class=\"alert alert-success\">\n",
    "<b>1 Комментарий ревьюера ✔️:</b> Правильное определение TFIDF. Здорово, что ты в конце также упомянула о проблеме утечки тестовых данных! Верно, обучим только на train выборке для предотвращения утечки информации о частоте слов из теста</div>\n"
   ]
  },
  {
   "cell_type": "code",
   "execution_count": 25,
   "metadata": {
    "id": "cnzrCpCg28L2"
   },
   "outputs": [],
   "source": [
    "count_tf_idf = TfidfVectorizer(stop_words=stop_words)\n",
    "tf_idf_train = count_tf_idf.fit_transform(train['corpus'])"
   ]
  },
  {
   "cell_type": "code",
   "execution_count": 26,
   "metadata": {
    "colab": {
     "base_uri": "https://localhost:8080/"
    },
    "id": "vIq4pxmT3_7t",
    "outputId": "916d05d1-6c8b-4070-a3c6-392acc6b8d26"
   },
   "outputs": [
    {
     "data": {
      "text/plain": [
       "(119678, 133246)"
      ]
     },
     "execution_count": 26,
     "metadata": {},
     "output_type": "execute_result"
    }
   ],
   "source": [
    "tf_idf_train.shape"
   ]
  },
  {
   "cell_type": "markdown",
   "metadata": {
    "id": "RWK-6iS1BOQD"
   },
   "source": [
    "Выделю целевой признак для каждой выборки."
   ]
  },
  {
   "cell_type": "code",
   "execution_count": 27,
   "metadata": {
    "id": "k9PqG88r4EP3"
   },
   "outputs": [],
   "source": [
    "target_train = train['toxic']\n",
    "target_test = test['toxic']"
   ]
  },
  {
   "cell_type": "code",
   "execution_count": 28,
   "metadata": {
    "colab": {
     "base_uri": "https://localhost:8080/"
    },
    "id": "5Fh71OpA4hSw",
    "outputId": "c01a9840-7540-4d93-b706-1ad4664c3126"
   },
   "outputs": [
    {
     "data": {
      "text/plain": [
       "(39893, 133246)"
      ]
     },
     "execution_count": 28,
     "metadata": {},
     "output_type": "execute_result"
    }
   ],
   "source": [
    "tf_idf_test = count_tf_idf.transform(test['corpus'])\n",
    "tf_idf_test.shape"
   ]
  },
  {
   "cell_type": "markdown",
   "metadata": {
    "id": "Rx8GJv3tBR3u"
   },
   "source": [
    "Проверю баланс классов для целевого признака обучающей выборки. Алгоритмы машинного обучения считают все объекты обучающей выборки равнозначными по умолчанию. Если важно указать, что какие-то объекты важнее, их классу присваивается вес. Если баланс классов далек от равнозначного, в модели используется параметр clss_weight='balanced'."
   ]
  },
  {
   "cell_type": "markdown",
   "metadata": {
    "id": "n4wPLxwRWquy"
   },
   "source": [
    "<div class=\"alert alert-success\">\n",
    "<b>1 Комментарий ревьюера ✔️:</b> Нашла дисбаланс в таргете, а также предложила способ борьбы с ним через взвешивание весов!</div>\n"
   ]
  },
  {
   "cell_type": "code",
   "execution_count": 29,
   "metadata": {
    "colab": {
     "base_uri": "https://localhost:8080/"
    },
    "id": "FnBjDpjW_-VA",
    "outputId": "fc5548f7-176b-4157-e470-b48501e6855e"
   },
   "outputs": [
    {
     "data": {
      "text/plain": [
       "0    0.898578\n",
       "1    0.101422\n",
       "Name: toxic, dtype: float64"
      ]
     },
     "execution_count": 29,
     "metadata": {},
     "output_type": "execute_result"
    }
   ],
   "source": [
    "target_train.value_counts(normalize=True)"
   ]
  },
  {
   "cell_type": "markdown",
   "metadata": {
    "id": "EuypxkNABtGf"
   },
   "source": [
    "####Логистическая регрессия"
   ]
  },
  {
   "cell_type": "code",
   "execution_count": null,
   "metadata": {
    "colab": {
     "base_uri": "https://localhost:8080/"
    },
    "id": "Ts8qqPMa47x9",
    "outputId": "065f8fcd-7770-4e2d-e015-3f8e6d0891bc"
   },
   "outputs": [
    {
     "name": "stdout",
     "output_type": "stream",
     "text": [
      "Fitting 3 folds for each of 72 candidates, totalling 216 fits\n",
      "Best Score: 0.7615517251082418\n",
      "Best Hyperparameters: {'C': 2, 'class_weight': 'balanced', 'fit_intercept': True, 'penalty': 'l2', 'random_state': 12345, 'solver': 'saga'}\n"
     ]
    }
   ],
   "source": [
    "model_lr = LogisticRegression()\n",
    "parameters = {'fit_intercept':[True,False], \n",
    "              'penalty':['l1','l2','elasticnet','none'], \n",
    "              'C':[1,1.5,2], \n",
    "              'random_state':[12345], \n",
    "              'class_weight':['balanced'],\n",
    "              'solver':['liblinear', 'saga', 'lbfgs']}\n",
    "cv = 3\n",
    "search = GridSearchCV(estimator=model_lr, \n",
    "                      param_grid=parameters, \n",
    "                      cv=cv, \n",
    "                      scoring='f1', \n",
    "                      verbose=1)\n",
    "result = search.fit(tf_idf_train, target_train)\n",
    "print('Best Score: %s' % result.best_score_)\n",
    "print('Best Hyperparameters: %s' % result.best_params_)"
   ]
  },
  {
   "cell_type": "markdown",
   "metadata": {
    "id": "_-ZfMJ2gWquy"
   },
   "source": [
    "<div class=\"alert alert-success\">\n",
    "<b>1 Комментарий ревьюера ✔️:</b> Круто, что ты подбираешь гиперпараметры через GridSearchCV, а также сразу кросс-валидируешься. Неплохие результаты обучения!</div>\n"
   ]
  },
  {
   "cell_type": "markdown",
   "metadata": {
    "id": "oQrfTeG3tgqv"
   },
   "source": [
    "Проверяю модель на тестовой выборке."
   ]
  },
  {
   "cell_type": "code",
   "execution_count": null,
   "metadata": {
    "colab": {
     "base_uri": "https://localhost:8080/"
    },
    "id": "o9FNpYsHoLbq",
    "outputId": "28023d23-261e-4feb-bf49-0c69bfd7c3ab"
   },
   "outputs": [
    {
     "name": "stdout",
     "output_type": "stream",
     "text": [
      "F1 score для Логистической Регрессии:  0.7629002090438991\n"
     ]
    }
   ],
   "source": [
    "model_lr = LogisticRegression(fit_intercept=True,\n",
    "                              C=2,\n",
    "                              penalty='l2',\n",
    "                              random_state=12345,\n",
    "                              solver='saga',\n",
    "                              class_weight='balanced')\n",
    "model_lr.fit(tf_idf_train, target_train)\n",
    "predictions = model_lr.predict(tf_idf_test)\n",
    "result = f1_score(target_test, predictions)\n",
    "print('F1 score для Логистической Регрессии: ',result)"
   ]
  },
  {
   "cell_type": "markdown",
   "metadata": {
    "id": "sQ-JLPYbWquz"
   },
   "source": [
    "<div class=\"alert alert-success\">\n",
    "<b>1 Комментарий ревьюера ✔️:</b> Порог пройден!</div>\n"
   ]
  },
  {
   "cell_type": "markdown",
   "metadata": {
    "id": "qMjV2R_EyZyZ"
   },
   "source": [
    "#### CatBoost"
   ]
  },
  {
   "cell_type": "code",
   "execution_count": 30,
   "metadata": {
    "id": "jGmu0_PFLk-W"
   },
   "outputs": [],
   "source": [
    "target_train_cb = target_train\n",
    "features_train_cb = train['lemma']\n",
    "target_test_cb = target_test\n",
    "features_test_cb = test['lemma']"
   ]
  },
  {
   "cell_type": "code",
   "execution_count": 35,
   "metadata": {
    "id": "JNeOpmwelEgu"
   },
   "outputs": [],
   "source": [
    "target_train_cat = pd.DataFrame(data=target_train, columns = ['toxic'])\n",
    "target_test_cat = pd.DataFrame(data=target_test, columns = ['toxic'])"
   ]
  },
  {
   "cell_type": "code",
   "execution_count": 31,
   "metadata": {
    "id": "Wdqx00_Pkfq1"
   },
   "outputs": [],
   "source": [
    "features_train_cat = pd.DataFrame(data=features_train_cb,columns = ['lemma'])"
   ]
  },
  {
   "cell_type": "code",
   "execution_count": 33,
   "metadata": {
    "id": "ha6Yjq9Hk4UE"
   },
   "outputs": [],
   "source": [
    "features_test_cat = pd.DataFrame(data=features_test_cb,columns = ['lemma'])"
   ]
  },
  {
   "cell_type": "code",
   "execution_count": 34,
   "metadata": {
    "id": "4k824Nhj_T9h"
   },
   "outputs": [],
   "source": [
    "parameters = {'eval_metric':'F1',\n",
    "              'text_features': ['lemma'],\n",
    "              'random_state':12345,\n",
    "              'verbose':100}\n",
    "\n",
    "model_cb = CatBoostClassifier(**parameters)"
   ]
  },
  {
   "cell_type": "markdown",
   "metadata": {
    "id": "QYaejL-sWqu0"
   },
   "source": [
    "<div class=\"alert alert-danger\">\n",
    "<b>1 Комментарий ревьюера ❌:</b> В text_features нужно передать название столбца с текстовыми данными, а для этого необходимо train и test привести к pd.Dataframe (одно из решений твоей проблемы)</div>"
   ]
  },
  {
   "cell_type": "markdown",
   "metadata": {
    "id": "FWIG4Y4Ho54h"
   },
   "source": [
    "<div class=\"alert alert-info\"> <b>Комментарий студента:</b> исправила, все вышло. <font color='blue'> "
   ]
  },
  {
   "cell_type": "markdown",
   "metadata": {
    "id": "A1Ne7azJWqun"
   },
   "source": [
    "<div class=\"alert alert-success\">\n",
    "<b>2 Комментарий ревьюера ✔️:</b> Супер!</div>\n"
   ]
  },
  {
   "cell_type": "code",
   "execution_count": 36,
   "metadata": {
    "colab": {
     "base_uri": "https://localhost:8080/"
    },
    "id": "hFRK9LLvq5kP",
    "outputId": "6a9727e9-4931-415d-a0ae-ebd55788b0c1"
   },
   "outputs": [
    {
     "name": "stdout",
     "output_type": "stream",
     "text": [
      "Learning rate set to 0.079478\n",
      "0:\tlearn: 0.6938138\ttotal: 421ms\tremaining: 7m 1s\n",
      "100:\tlearn: 0.7389595\ttotal: 38.4s\tremaining: 5m 41s\n",
      "200:\tlearn: 0.7624553\ttotal: 1m 19s\tremaining: 5m 14s\n",
      "300:\tlearn: 0.7750655\ttotal: 1m 57s\tremaining: 4m 33s\n",
      "400:\tlearn: 0.7836225\ttotal: 2m 36s\tremaining: 3m 54s\n",
      "500:\tlearn: 0.7920283\ttotal: 3m 14s\tremaining: 3m 13s\n",
      "600:\tlearn: 0.7986251\ttotal: 3m 52s\tremaining: 2m 34s\n",
      "700:\tlearn: 0.8028910\ttotal: 4m 30s\tremaining: 1m 55s\n",
      "800:\tlearn: 0.8080651\ttotal: 5m 8s\tremaining: 1m 16s\n",
      "900:\tlearn: 0.8130282\ttotal: 5m 45s\tremaining: 38s\n",
      "999:\tlearn: 0.8157751\ttotal: 6m 22s\tremaining: 0us\n"
     ]
    },
    {
     "data": {
      "text/plain": [
       "<catboost.core.CatBoostClassifier at 0x7fde00880a10>"
      ]
     },
     "execution_count": 36,
     "metadata": {},
     "output_type": "execute_result"
    }
   ],
   "source": [
    "model_cb.fit(features_train_cat, target_train_cat)"
   ]
  },
  {
   "cell_type": "code",
   "execution_count": 37,
   "metadata": {
    "id": "ggtphQn3sKpo"
   },
   "outputs": [],
   "source": [
    "test_pred = model_cb.predict(features_test_cat)"
   ]
  },
  {
   "cell_type": "code",
   "execution_count": 40,
   "metadata": {
    "colab": {
     "base_uri": "https://localhost:8080/"
    },
    "id": "gaqzyc-AnVSD",
    "outputId": "80f03be3-7685-41bf-83c6-2f9c24727707"
   },
   "outputs": [
    {
     "name": "stdout",
     "output_type": "stream",
     "text": [
      "F1 метрика на тестовой выборке модели CatBoost: 0.7838383838383838\n"
     ]
    }
   ],
   "source": [
    "f1 = f1_score(target_test_cat, test_pred)\n",
    "print('F1 метрика на тестовой выборке модели CatBoost:',f1)"
   ]
  },
  {
   "cell_type": "markdown",
   "metadata": {
    "id": "9QgHajxEyy2Y"
   },
   "source": [
    "####Случайный лес"
   ]
  },
  {
   "cell_type": "code",
   "execution_count": null,
   "metadata": {
    "colab": {
     "base_uri": "https://localhost:8080/"
    },
    "id": "GosE8zNRud4L",
    "outputId": "b1cac8fa-85fc-4f59-a8ea-3dd4767e85d8"
   },
   "outputs": [
    {
     "name": "stdout",
     "output_type": "stream",
     "text": [
      "Fitting 3 folds for each of 12 candidates, totalling 36 fits\n",
      "Best Score для модели случайного леса: 0.0004941118406809578\n",
      "Best Hyperparameters для модели случайного леса: {'max_depth': 14, 'n_estimators': 50}\n"
     ]
    }
   ],
   "source": [
    "model_forest = RandomForestClassifier(random_state=12345)\n",
    "    \n",
    "parametrs = {'n_estimators': range(50, 81, 10),'max_depth': [6,10,14]}\n",
    "search = GridSearchCV(estimator=model_forest, \n",
    "                      param_grid=parametrs,\n",
    "                      cv=3, \n",
    "                      verbose=1, \n",
    "                      scoring='f1')\n",
    "result = search.fit(tf_idf_train, target_train)\n",
    "\n",
    "print('Best Score для модели случайного леса: %s' % result.best_score_)\n",
    "print('Best Hyperparameters для модели случайного леса: %s' % result.best_params_)"
   ]
  },
  {
   "cell_type": "code",
   "execution_count": null,
   "metadata": {
    "colab": {
     "base_uri": "https://localhost:8080/"
    },
    "id": "1VqtXxoCxqP3",
    "outputId": "598d866f-d226-4c73-957d-cacc920a2345"
   },
   "outputs": [
    {
     "name": "stdout",
     "output_type": "stream",
     "text": [
      "F1 score для Случайного леса:  0.0\n"
     ]
    }
   ],
   "source": [
    "model_lr = RandomForestClassifier(random_state=12345,\n",
    "                                  max_depth=14,\n",
    "                                  n_estimators=50)\n",
    "model_lr.fit(tf_idf_train, target_train)\n",
    "predictions = model_lr.predict(tf_idf_test)\n",
    "result = f1_score(target_test, predictions)\n",
    "print('F1 score для Случайного леса: ',result)"
   ]
  },
  {
   "cell_type": "markdown",
   "metadata": {
    "id": "A4taNgnhyHhK"
   },
   "source": [
    "##Вывод"
   ]
  },
  {
   "cell_type": "markdown",
   "metadata": {
    "id": "6YyU1g43yLpt"
   },
   "source": [
    "Среди рассмотренных моделей, лучший результат показала модель CatBoostClassifier, метрика F1 на тестовой выборке показала результат 0.7838 , что выше требуемого значения (0.75). Поэтому я бы выбрала данную модель для классификации тональности комментариев. Следующий лучший результат у модели Логистической Регрессии с подобранными гиперпараметрами. Таким образом, метрика F1 на тестовой выборке показала результат 0.7629, что так же выше требуемого значения (0.75). Моедль Случайного леса показала совершенно неприемлемый результат метрики F1, это произошло из-за того, что количество перебираемых гиперпараметров слишком мало, а для большего количества требуется больше времени и ресурсов для обучения."
   ]
  },
  {
   "cell_type": "markdown",
   "metadata": {
    "id": "64NtO-7XWqu1"
   },
   "source": [
    "<div class=\"alert alert-success\">\n",
    "<b>1 Комментарий ревьюера ✔️:</b> Отличный вывод!</div>\n"
   ]
  },
  {
   "cell_type": "markdown",
   "metadata": {
    "id": "A1Ne7azJWqun"
   },
   "source": [
    "<div class=\"alert alert-success\">\n",
    "<b>2 Комментарий ревьюера ✔️:</b> Всё верно!</div>\n"
   ]
  },
  {
   "cell_type": "markdown",
   "metadata": {
    "id": "P7PLdzyEp-nm"
   },
   "source": [
    "<div class=\"alert alert-info\"> <b>Комментарий студента:</b> исправила вывод с учетом успешно обученной модели CatBoost. <font color='blue'> "
   ]
  }
 ],
 "metadata": {
  "ExecuteTimeLog": [
   {
    "duration": 74507,
    "start_time": "2022-05-13T20:41:48.972Z"
   },
   {
    "duration": 1249,
    "start_time": "2022-05-13T20:43:03.481Z"
   },
   {
    "duration": 428,
    "start_time": "2022-05-13T20:43:04.732Z"
   },
   {
    "duration": 0,
    "start_time": "2022-05-13T20:43:05.162Z"
   },
   {
    "duration": 0,
    "start_time": "2022-05-13T20:43:05.164Z"
   },
   {
    "duration": 42367,
    "start_time": "2022-05-13T20:44:02.884Z"
   },
   {
    "duration": 113,
    "start_time": "2022-05-13T20:44:52.412Z"
   },
   {
    "duration": 3,
    "start_time": "2022-05-13T20:47:04.021Z"
   },
   {
    "duration": 64,
    "start_time": "2022-05-13T20:47:19.380Z"
   },
   {
    "duration": 875,
    "start_time": "2022-05-13T20:47:43.646Z"
   },
   {
    "duration": 3,
    "start_time": "2022-05-13T20:48:19.113Z"
   },
   {
    "duration": 35,
    "start_time": "2022-05-13T20:48:20.724Z"
   },
   {
    "duration": 7,
    "start_time": "2022-05-13T20:50:39.178Z"
   },
   {
    "duration": 7,
    "start_time": "2022-05-13T20:51:16.733Z"
   },
   {
    "duration": 963,
    "start_time": "2022-05-13T21:13:23.382Z"
   },
   {
    "duration": 6,
    "start_time": "2022-05-13T21:13:59.716Z"
   },
   {
    "duration": 8,
    "start_time": "2022-05-13T21:14:02.847Z"
   },
   {
    "duration": 3,
    "start_time": "2022-05-13T21:14:13.898Z"
   },
   {
    "duration": 4568,
    "start_time": "2022-05-13T21:14:14.135Z"
   },
   {
    "duration": 181,
    "start_time": "2022-05-13T21:14:21.650Z"
   },
   {
    "duration": 59,
    "start_time": "2022-05-13T21:15:03.592Z"
   },
   {
    "duration": 20,
    "start_time": "2022-05-13T21:15:11.238Z"
   },
   {
    "duration": 4,
    "start_time": "2022-05-13T21:15:19.006Z"
   },
   {
    "duration": 7,
    "start_time": "2022-05-13T21:15:22.239Z"
   },
   {
    "duration": 4,
    "start_time": "2022-05-13T21:15:27.942Z"
   },
   {
    "duration": 4,
    "start_time": "2022-05-13T21:15:31.803Z"
   },
   {
    "duration": 4,
    "start_time": "2022-05-13T21:15:37.079Z"
   },
   {
    "duration": 3,
    "start_time": "2022-05-13T21:15:40.626Z"
   },
   {
    "duration": 4,
    "start_time": "2022-05-13T21:15:48.067Z"
   },
   {
    "duration": 3,
    "start_time": "2022-05-13T21:16:14.159Z"
   },
   {
    "duration": 138630,
    "start_time": "2022-05-13T21:16:16.769Z"
   },
   {
    "duration": 4,
    "start_time": "2022-05-13T21:19:07.067Z"
   },
   {
    "duration": 20132,
    "start_time": "2022-05-13T21:19:09.932Z"
   },
   {
    "duration": 2445,
    "start_time": "2022-05-13T21:19:37.509Z"
   },
   {
    "duration": 6,
    "start_time": "2022-05-13T21:20:58.330Z"
   },
   {
    "duration": 5,
    "start_time": "2022-05-13T21:21:01.834Z"
   },
   {
    "duration": 5,
    "start_time": "2022-05-13T21:21:08.663Z"
   },
   {
    "duration": 6,
    "start_time": "2022-05-13T21:21:12.735Z"
   },
   {
    "duration": 12,
    "start_time": "2022-05-13T21:21:21.842Z"
   }
  ],
  "colab": {
   "collapsed_sections": [],
   "name": "Проект правки 1.ipynb",
   "provenance": []
  },
  "kernelspec": {
   "display_name": "Python 3 (ipykernel)",
   "language": "python",
   "name": "python3"
  },
  "language_info": {
   "codemirror_mode": {
    "name": "ipython",
    "version": 3
   },
   "file_extension": ".py",
   "mimetype": "text/x-python",
   "name": "python",
   "nbconvert_exporter": "python",
   "pygments_lexer": "ipython3",
   "version": "3.9.5"
  },
  "toc": {
   "base_numbering": 1,
   "nav_menu": {},
   "number_sections": true,
   "sideBar": true,
   "skip_h1_title": true,
   "title_cell": "Table of Contents",
   "title_sidebar": "Contents",
   "toc_cell": false,
   "toc_position": {},
   "toc_section_display": true,
   "toc_window_display": false
  }
 },
 "nbformat": 4,
 "nbformat_minor": 1
}
