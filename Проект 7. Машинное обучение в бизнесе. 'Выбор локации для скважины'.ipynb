{
 "cells": [
  {
   "cell_type": "markdown",
   "metadata": {},
   "source": [
    "Привет, меня зовут Артем Хуршудов. Сегодня я проверю твой проект.\n",
    "<br> Дальнейшее общение будет происходить на \"ты\" если это не вызывает никаких проблем.\n",
    "<br> Желательно реагировать на каждый мой комментарий ('исправил', 'не понятно как исправить ошибку', ...)\n",
    "<br> Пожалуйста, не удаляй комментарии ревьюера, так как они повышают качество повторного ревью.\n",
    "\n",
    "Комментарии будут в <font color='green'>зеленой</font>, <font color='blue'>синей</font> или <font color='red'>красной</font> рамках:\n",
    "\n",
    "<div class=\"alert alert-block alert-success\">\n",
    "<b>Успех:</b> Если все сделано отлично\n",
    "</div>\n",
    "\n",
    "<div class=\"alert alert-block alert-info\">\n",
    "<b>Совет: </b> Если можно немного улучшить\n",
    "</div>\n",
    "\n",
    "<div class=\"alert alert-block alert-danger\">\n",
    "<b>Ошибка:</b> Если требуются исправления. Работа не может быть принята с красными комментариями.\n",
    "</div>\n",
    "\n",
    "-------------------\n",
    "\n",
    "Будет очень хорошо, если ты будешь помечать свои действия следующим образом:\n",
    "<div class=\"alert alert-block alert-warning\">\n",
    "<b>Комментарий студента:</b> ...\n",
    "</div>\n",
    "\n",
    "<div class=\"alert alert-block alert-warning\">\n",
    "<b>Изменения:</b> Были внесены следующие изменения ...\n",
    "</div>\n",
    "\n",
    "### <font color='orange'>Общее впечатление</font>\n",
    "* Большое спасибо за проделанную работу. Видно, что приложено много усилий.\n",
    "* Выводы и рассуждения получились содержательными, их было интересно читать.\n",
    "* Отлично, что риск убытков посчитан верно.\n",
    "* Над этим проектом нужно будет еще немного поработать. Однако, изменения не должны занять много времени.\n",
    "* В работе я оставил несколько советов. Буду рад, если ты учтешь их.\n",
    "* С радостью отвечу на твои вопросы, если они есть. Лучше всего их собрать в следующей ячейке. Жду новую версию проекта."
   ]
  },
  {
   "cell_type": "markdown",
   "metadata": {},
   "source": [
    "<div class=\"alert alert-block alert-warning\">\n",
    "\n",
    "<b>Комментарий студента: </b> Спасибо за качественное ревью проекта, рада, что старания оценены. Исправила все критические ошибки, а так же исправила моменты по твоим советам. Интересный факт про наименование константных переменных, буду пользоваться, так действительно понятнее в коде, что эти переменные определены :)\n",
    "</div>"
   ]
  },
  {
   "cell_type": "markdown",
   "metadata": {},
   "source": [
    "### <font color='orange'>Общее впечатление (ревью 2)</font>\n",
    "* После исправлений проект улучшился и теперь он может быть зачтен.\n",
    "* Для удобства все новые комментарии обозначены фразой \"ревью 2\".\n",
    "* Удачи в дальнейшем обучении и следующих работах!"
   ]
  },
  {
   "cell_type": "code",
   "execution_count": 2,
   "metadata": {
    "cellId": "tospxmraha93rqde97o0t"
   },
   "outputs": [],
   "source": [
    "#%pip install -q -r requirements-ml.txt"
   ]
  },
  {
   "cell_type": "code",
   "execution_count": 3,
   "metadata": {
    "cellId": "kbvk070m41gt08snxlepd"
   },
   "outputs": [
    {
     "name": "stdout",
     "output_type": "stream",
     "text": [
      "Defaulting to user installation because normal site-packages is not writeable\n",
      "Collecting scikit-learn==0.22.1\n",
      "  Downloading scikit_learn-0.22.1-cp37-cp37m-manylinux1_x86_64.whl (7.0 MB)\n",
      "\u001b[K     |████████████████████████████████| 7.0 MB 1.8 MB/s eta 0:00:01\n",
      "\u001b[?25hRequirement already satisfied: scipy>=0.17.0 in /opt/conda/lib/python3.7/site-packages (from scikit-learn==0.22.1) (1.4.1)\n",
      "Requirement already satisfied: joblib>=0.11 in /opt/conda/lib/python3.7/site-packages (from scikit-learn==0.22.1) (1.0.1)\n",
      "Requirement already satisfied: numpy>=1.11.0 in /opt/conda/lib/python3.7/site-packages (from scikit-learn==0.22.1) (1.19.5)\n",
      "Installing collected packages: scikit-learn\n",
      "Successfully installed scikit-learn-0.22.1\n",
      "Note: you may need to restart the kernel to use updated packages.\n"
     ]
    }
   ],
   "source": [
    "%pip install scikit-learn==0.22.1"
   ]
  },
  {
   "cell_type": "markdown",
   "metadata": {
    "cellId": "kbctp2p869v3lem4ju7o"
   },
   "source": [
    "# Выбор локации для скважины"
   ]
  },
  {
   "cell_type": "markdown",
   "metadata": {
    "cellId": "n4xyipd08fnay7w14uyci"
   },
   "source": [
    "## Описание проекта\n",
    "\n",
    "Допустим, вы работаете в добывающей компании «ГлавРосГосНефть».\n",
    "\n",
    "Вам предоставлены пробы нефти в трёх регионах: в каждом 10 000 месторождений, где измерили качество нефти и объём её запасов. Постройте модель машинного обучения, которая поможет определить регион, где добыча принесёт наибольшую прибыль. \n",
    "\n",
    "Шаги для выбора локации:\n",
    "\n",
    "- В избранном регионе ищут месторождения, для каждого определяют значения признаков;\n",
    "- Строят модель и оценивают объём запасов;\n",
    "- Выбирают месторождения с самым высокими оценками значений. Количество месторождений зависит от бюджета компании и стоимости разработки одной скважины;\n",
    "- Прибыль равна суммарной прибыли отобранных месторождений.\n",
    "\n",
    "### Условия задачи:\n",
    "\n",
    "- Для обучения модели подходит только линейная регрессия (остальные — недостаточно предсказуемые).\n",
    "- При разведке региона исследуют 500 точек, из которых с помощью машинного обучения выбирают 200 лучших для разработки.\n",
    "- Бюджет на разработку скважин в регионе — 10 млрд рублей.\n",
    "- При нынешних ценах один баррель сырья приносит 450 рублей дохода. Доход с каждой единицы продукта составляет 450 тыс. рублей, поскольку объём указан в тысячах баррелей.\n",
    "- После оценки рисков нужно оставить лишь те регионы, в которых вероятность убытков меньше 2.5%. Среди них выбирают регион с наибольшей средней прибылью.\n",
    "\n",
    "Данные синтетические: детали контрактов и характеристики месторождений не разглашаются.\n",
    "\n",
    "### Цель исследования:\n",
    "Постройте модель для определения региона, где добыча принесёт наибольшую прибыль. Проанализируйте возможную прибыль и риски техникой Bootstrap.Таким образом, выбрать лучшую локацию длу бурения скважины.\n",
    "\n",
    "### Ход исследования:\n",
    "1. Загрузка и подготовка исходных данных\n",
    "2. Обучение и проверка модели для каждого региона\n",
    "3. Подготовка к расчёту прибыли\n",
    "4. Расчёт прибыли по выбранным скважинам и предсказаниям модели\n",
    "5. Расчёт рисков\n",
    "6. Общий вывод\n"
   ]
  },
  {
   "cell_type": "markdown",
   "metadata": {
    "cellId": "3wn57atk561d5v7n57gohr"
   },
   "source": [
    "## Загрузка и подготовка данных"
   ]
  },
  {
   "cell_type": "markdown",
   "metadata": {
    "cellId": "p4kau7vm6gnf0snqpmyofj"
   },
   "source": [
    "Импортирую все необходимые библиотеки и модули, необходимые для реализации проекта."
   ]
  },
  {
   "cell_type": "code",
   "execution_count": 4,
   "metadata": {
    "cellId": "0ufp5kx6sexi5l72qbdsl"
   },
   "outputs": [],
   "source": [
    "import pandas as pd\n",
    "import numpy as np\n",
    "import matplotlib.pyplot as plt\n",
    "from pandas.plotting import scatter_matrix\n",
    "\n",
    "from sklearn.model_selection import train_test_split\n",
    "from sklearn.preprocessing import StandardScaler\n",
    "from sklearn.utils import shuffle\n",
    "\n",
    "from sklearn.linear_model import LinearRegression\n",
    "\n",
    "from sklearn.metrics import mean_squared_error\n",
    "from scipy import stats as st\n",
    "\n",
    "pd.options.mode.chained_assignment = None"
   ]
  },
  {
   "cell_type": "code",
   "execution_count": 5,
   "metadata": {
    "cellId": "fdhbz8g6qkoztgnyvoqx6p"
   },
   "outputs": [],
   "source": [
    "import warnings\n",
    "warnings.filterwarnings(\"ignore\") "
   ]
  },
  {
   "cell_type": "markdown",
   "metadata": {},
   "source": [
    "<div class=\"alert alert-block alert-success\">\n",
    "<b>Успех:</b> Отлично, что все импорты собраны в верхней части ноутбука! Если у того, кто будет запускать твой ноутбук будут отсутствовать некоторые библиотеки, то он это увидит сразу, а не в процессе!\n",
    "</div>"
   ]
  },
  {
   "cell_type": "markdown",
   "metadata": {
    "cellId": "vs2jh0nk9wgg6bqvut5107"
   },
   "source": [
    "Дано три исходных файла с данными. Импортирую их методом read_csv библиотеки pandas, оформлю в датафрейм."
   ]
  },
  {
   "cell_type": "code",
   "execution_count": 6,
   "metadata": {
    "cellId": "b2hpgqcuzg9fzkr5xn0xs4"
   },
   "outputs": [
    {
     "name": "stdout",
     "output_type": "stream",
     "text": [
      "[Errno 2] File b'geo_data_0.csv' does not exist: b'geo_data_0.csv'\n"
     ]
    }
   ],
   "source": [
    "try:\n",
    "    data0 = pd.read_csv('geo_data_0.csv')\n",
    "except FileNotFoundError as e:\n",
    "    print(e)\n",
    "    data0 = pd.read_csv('/datasets/geo_data_0.csv')\n",
    "    \n",
    "data0.name = 'geo_data_0'"
   ]
  },
  {
   "cell_type": "code",
   "execution_count": 7,
   "metadata": {
    "cellId": "9xyyqvhcmomnjx4nyhvnp"
   },
   "outputs": [
    {
     "name": "stdout",
     "output_type": "stream",
     "text": [
      "[Errno 2] File b'geo_data_1.csv' does not exist: b'geo_data_1.csv'\n"
     ]
    }
   ],
   "source": [
    "try:\n",
    "    data1 = pd.read_csv('geo_data_1.csv')\n",
    "except FileNotFoundError as e:\n",
    "    print(e)\n",
    "    data1 = pd.read_csv('/datasets/geo_data_1.csv')\n",
    "\n",
    "data1.name = 'geo_data_1'"
   ]
  },
  {
   "cell_type": "code",
   "execution_count": 8,
   "metadata": {
    "cellId": "crab7yq9u4qns04gztxnv"
   },
   "outputs": [
    {
     "name": "stdout",
     "output_type": "stream",
     "text": [
      "[Errno 2] File b'geo_data_2.csv' does not exist: b'geo_data_2.csv'\n"
     ]
    }
   ],
   "source": [
    "try:\n",
    "    data2 = pd.read_csv('geo_data_2.csv')\n",
    "except FileNotFoundError as e:\n",
    "    print(e)\n",
    "    data2 = pd.read_csv('/datasets/geo_data_2.csv')\n",
    "    \n",
    "data2.name = 'geo_data_2'"
   ]
  },
  {
   "cell_type": "code",
   "execution_count": 9,
   "metadata": {
    "cellId": "cybxuwehtounxbc2oz808p"
   },
   "outputs": [],
   "source": [
    "data_total = [data0, data1, data2]"
   ]
  },
  {
   "cell_type": "code",
   "execution_count": 10,
   "metadata": {
    "cellId": "a79tqp62ukjnt3odvhq7ri"
   },
   "outputs": [
    {
     "name": "stdout",
     "output_type": "stream",
     "text": [
      "Набор данных geo_data_0\n",
      "      id        f0        f1        f2     product\n",
      "0  txEyH  0.705745 -0.497823  1.221170  105.280062\n",
      "1  2acmU  1.334711 -0.340164  4.365080   73.037750\n",
      "2  409Wp  1.022732  0.151990  1.419926   85.265647\n",
      "3  iJLyR -0.032172  0.139033  2.978566  168.620776\n",
      "4  Xdl7t  1.988431  0.155413  4.751769  154.036647\n",
      "\n",
      "<class 'pandas.core.frame.DataFrame'>\n",
      "RangeIndex: 100000 entries, 0 to 99999\n",
      "Data columns (total 5 columns):\n",
      "id         100000 non-null object\n",
      "f0         100000 non-null float64\n",
      "f1         100000 non-null float64\n",
      "f2         100000 non-null float64\n",
      "product    100000 non-null float64\n",
      "dtypes: float64(4), object(1)\n",
      "memory usage: 3.8+ MB\n",
      "\n",
      "\n",
      "Набор данных geo_data_1\n",
      "      id         f0         f1        f2     product\n",
      "0  kBEdx -15.001348  -8.276000 -0.005876    3.179103\n",
      "1  62mP7  14.272088  -3.475083  0.999183   26.953261\n",
      "2  vyE1P   6.263187  -5.948386  5.001160  134.766305\n",
      "3  KcrkZ -13.081196 -11.506057  4.999415  137.945408\n",
      "4  AHL4O  12.702195  -8.147433  5.004363  134.766305\n",
      "\n",
      "<class 'pandas.core.frame.DataFrame'>\n",
      "RangeIndex: 100000 entries, 0 to 99999\n",
      "Data columns (total 5 columns):\n",
      "id         100000 non-null object\n",
      "f0         100000 non-null float64\n",
      "f1         100000 non-null float64\n",
      "f2         100000 non-null float64\n",
      "product    100000 non-null float64\n",
      "dtypes: float64(4), object(1)\n",
      "memory usage: 3.8+ MB\n",
      "\n",
      "\n",
      "Набор данных geo_data_2\n",
      "      id        f0        f1        f2     product\n",
      "0  fwXo0 -1.146987  0.963328 -0.828965   27.758673\n",
      "1  WJtFt  0.262778  0.269839 -2.530187   56.069697\n",
      "2  ovLUW  0.194587  0.289035 -5.586433   62.871910\n",
      "3  q6cA6  2.236060 -0.553760  0.930038  114.572842\n",
      "4  WPMUX -0.515993  1.716266  5.899011  149.600746\n",
      "\n",
      "<class 'pandas.core.frame.DataFrame'>\n",
      "RangeIndex: 100000 entries, 0 to 99999\n",
      "Data columns (total 5 columns):\n",
      "id         100000 non-null object\n",
      "f0         100000 non-null float64\n",
      "f1         100000 non-null float64\n",
      "f2         100000 non-null float64\n",
      "product    100000 non-null float64\n",
      "dtypes: float64(4), object(1)\n",
      "memory usage: 3.8+ MB\n",
      "\n",
      "\n"
     ]
    }
   ],
   "source": [
    "for data in data_total:\n",
    "    print('Набор данных', data.name)\n",
    "    print(data.head())\n",
    "    print()\n",
    "    data.info()\n",
    "    print()\n",
    "    print()"
   ]
  },
  {
   "cell_type": "markdown",
   "metadata": {
    "cellId": "ud295tu9jt8ypk3x1pfwjk"
   },
   "source": [
    "В каждом датасете находится информация по конкретному региону. Все значения в столбцах заполнены значениями.\n",
    "\n",
    "В датафрейме 5 столбцов:\n",
    "- **id** — уникальный идентификатор скважины;\n",
    "- **f0, f1, f2** — три признака точек (неважно, что они означают, но сами признаки значимы);\n",
    "- **product** — объём запасов в скважине (тыс. баррелей).\n"
   ]
  },
  {
   "cell_type": "markdown",
   "metadata": {
    "cellId": "j3jbf960al5wa76k5bi0t"
   },
   "source": [
    "В датафреймах id, f0, f1, f2 - признаки, product - целевой признак, который будет предсказывать обученнная модель в дальнейших шагах проекта."
   ]
  },
  {
   "cell_type": "code",
   "execution_count": 11,
   "metadata": {
    "cellId": "ehah2y26qzj3ivtgmwm03"
   },
   "outputs": [
    {
     "name": "stdout",
     "output_type": "stream",
     "text": [
      "Количество уникальных id для geo_data_0 99990\n",
      "Количество уникальных id для geo_data_1 99996\n",
      "Количество уникальных id для geo_data_2 99996\n"
     ]
    }
   ],
   "source": [
    "for data in data_total:\n",
    "    print('Количество уникальных id для', data.name, data['id'].nunique())"
   ]
  },
  {
   "cell_type": "markdown",
   "metadata": {
    "cellId": "4typr6u6utref0i8kjfa"
   },
   "source": [
    "Для предсказания целевого признака product - id скважины в наборе данных бесполезен, так как почти все id в датасетах уникальны и не могут дать никакой информации для предсказания,  поэтому этот столбец можно удалить в каждом датафрейме."
   ]
  },
  {
   "cell_type": "code",
   "execution_count": 12,
   "metadata": {
    "cellId": "ytmgcsh1dtgu4xtivqjd4"
   },
   "outputs": [],
   "source": [
    "data0 = data0.drop('id', axis=1)\n",
    "data1 = data1.drop('id', axis=1)\n",
    "data2 = data2.drop('id', axis=1)"
   ]
  },
  {
   "cell_type": "markdown",
   "metadata": {
    "cellId": "03du3392l17jyt5e8mlrbwa"
   },
   "source": [
    "Методом describe() выведу основные статистические показатели для каждого набора данных."
   ]
  },
  {
   "cell_type": "code",
   "execution_count": 13,
   "metadata": {
    "cellId": "fqf70ua7i1dqhjejgfoa6k"
   },
   "outputs": [
    {
     "name": "stdout",
     "output_type": "stream",
     "text": [
      "Статистические показатели для датасета geo_data_0\n",
      "                  f0             f1             f2        product\n",
      "count  100000.000000  100000.000000  100000.000000  100000.000000\n",
      "mean        0.500419       0.250143       2.502647      92.500000\n",
      "std         0.871832       0.504433       3.248248      44.288691\n",
      "min        -1.408605      -0.848218     -12.088328       0.000000\n",
      "25%        -0.072580      -0.200881       0.287748      56.497507\n",
      "50%         0.502360       0.250252       2.515969      91.849972\n",
      "75%         1.073581       0.700646       4.715088     128.564089\n",
      "max         2.362331       1.343769      16.003790     185.364347\n",
      "Статистические показатели для датасета geo_data_1\n",
      "                  f0             f1             f2        product\n",
      "count  100000.000000  100000.000000  100000.000000  100000.000000\n",
      "mean        1.141296      -4.796579       2.494541      68.825000\n",
      "std         8.965932       5.119872       1.703572      45.944423\n",
      "min       -31.609576     -26.358598      -0.018144       0.000000\n",
      "25%        -6.298551      -8.267985       1.000021      26.953261\n",
      "50%         1.153055      -4.813172       2.011479      57.085625\n",
      "75%         8.621015      -1.332816       3.999904     107.813044\n",
      "max        29.421755      18.734063       5.019721     137.945408\n",
      "Статистические показатели для датасета geo_data_2\n",
      "                  f0             f1             f2        product\n",
      "count  100000.000000  100000.000000  100000.000000  100000.000000\n",
      "mean        0.002023      -0.002081       2.495128      95.000000\n",
      "std         1.732045       1.730417       3.473445      44.749921\n",
      "min        -8.760004      -7.084020     -11.970335       0.000000\n",
      "25%        -1.162288      -1.174820       0.130359      59.450441\n",
      "50%         0.009424      -0.009482       2.484236      94.925613\n",
      "75%         1.158535       1.163678       4.858794     130.595027\n",
      "max         7.238262       7.844801      16.739402     190.029838\n"
     ]
    }
   ],
   "source": [
    "for data in data_total:\n",
    "    print('Статистические показатели для датасета', data.name)\n",
    "    print(data.describe())"
   ]
  },
  {
   "cell_type": "markdown",
   "metadata": {
    "cellId": "9u6cmnoshcmiegch0rakxi"
   },
   "source": [
    "В каждом датасете показатели среднего и медианного значения для каждого из признака приблизительно равны, что означает, что сущетсвенного количества выбросов (экстремальных значений) в данных нет."
   ]
  },
  {
   "cell_type": "markdown",
   "metadata": {},
   "source": [
    "<div class=\"alert alert-block alert-success\">\n",
    "<b>Успех:</b> Данные загружены корректно, первичный осмотр проведен. Согласен, что колонку id можно удалить.\n",
    "</div>"
   ]
  },
  {
   "cell_type": "markdown",
   "metadata": {
    "cellId": "xaqy91a2ovogrw68dam136"
   },
   "source": [
    "Для того, чтобы исследовать данные на мультиколлинеарность, выведу матрицу корреляции импортированным методом scatter_matrix() между всеми столбцами, кроме \"product\", так как этот столбец с целевым признаком. Мультиколлинеарность — корреляция независимых переменных, которая затрудняет оценку и анализ общего результата. В машинном обучении мультиколлинеарность может стать причиной переобучаемости модели, что приведет к неверному результату."
   ]
  },
  {
   "cell_type": "code",
   "execution_count": 14,
   "metadata": {
    "cellId": "m29jgt5jstn0xok9exgrk"
   },
   "outputs": [
    {
     "name": "stdout",
     "output_type": "stream",
     "text": [
      "Scatter Matrix для geo_data_0\n",
      "Scatter Matrix для geo_data_1\n",
      "Scatter Matrix для geo_data_2\n"
     ]
    },
    {
     "data": {
      "image/png": "[encoded data removed]",
      "text/plain": [
       "<Figure size 360x360 with 9 Axes>"
      ]
     },
     "metadata": {
      "needs_background": "light"
     },
     "output_type": "display_data"
    },
    {
     "data": {
      "image/png": "[encoded data removed]",
      "text/plain": [
       "<Figure size 360x360 with 9 Axes>"
      ]
     },
     "metadata": {
      "needs_background": "light"
     },
     "output_type": "display_data"
    },
    {
     "data": {
      "image/png": "[encoded data removed]",
      "text/plain": [
       "<Figure size 360x360 with 9 Axes>"
      ]
     },
     "metadata": {
      "needs_background": "light"
     },
     "output_type": "display_data"
    }
   ],
   "source": [
    "for data in data_total:\n",
    "    print('Scatter Matrix для', data.name)\n",
    "    scatter_matrix(data.drop(['product'],axis =1), figsize=(5, 5), color = 'purple')"
   ]
  },
  {
   "cell_type": "markdown",
   "metadata": {
    "cellId": "gh1gelvjdh73kxf2bacpt"
   },
   "source": [
    "По графикам можно заметить, что ни в одном датасете не выявлена сильная зависимость между признаками, значит мультиколлинеарность отсутствует и можно оставить все признаки в данных для обучения модели в дальнейших шагах."
   ]
  },
  {
   "cell_type": "markdown",
   "metadata": {
    "cellId": "neayq7visocb901zdbkjl"
   },
   "source": [
    "**Вывод:** Исходные данные не нуждаются в детальной обработке, так как пропусков в значениях нет, значительных выбросов тоже нет. Мультиколлинеарность признаков отсутствует, поэтому все признаки оставлены в датасетах. Исключен признак \"id\", так как почти в каждой строке он уникален и никак не улучшит обучение модели. Замечено, что значения в признаках f1,f0,f2 разного масштаба, поэтому в следующем шаге необходимо будет их стандартизировать."
   ]
  },
  {
   "cell_type": "markdown",
   "metadata": {},
   "source": [
    "<div class=\"alert alert-block alert-success\">\n",
    "<b>Успех:</b> Радует, что распределения были визуализированы.\n",
    "</div>"
   ]
  },
  {
   "cell_type": "markdown",
   "metadata": {
    "cellId": "2k9qn8srmscn0jtda8mk78"
   },
   "source": [
    "## Обучение и проверка модели"
   ]
  },
  {
   "cell_type": "markdown",
   "metadata": {
    "cellId": "uz1irpiwq6qdnogmiaxpnn"
   },
   "source": [
    "Разделю данные каждого датасета на две выборки - обучаемую, валидационную в отношении 75:25. Так как имеется три датасета, я напишу функцию для упрощения и оптимизации разбивок. Так же в функцию помещу масштабирование переменных f0,f1,f2."
   ]
  },
  {
   "cell_type": "code",
   "execution_count": 15,
   "metadata": {
    "cellId": "u1h7ps09boz7uqqvdhldo"
   },
   "outputs": [],
   "source": [
    "def split_scale (data):\n",
    "    features = data.drop('product', axis=1)\n",
    "    target = data['product']\n",
    "    features_train, features_valid, target_train, target_valid = train_test_split(features, target, test_size=0.25, random_state=12345)\n",
    "\n",
    "    numeric = ['f0', 'f1', 'f2']\n",
    "    scaler = StandardScaler()\n",
    "    scaler.fit(features_train[numeric])\n",
    "\n",
    "    features_train[numeric] = scaler.transform(features_train[numeric])\n",
    "    features_valid[numeric] = scaler.transform(features_valid[numeric])\n",
    "    \n",
    "    return features_train, features_valid, target_train, target_valid   "
   ]
  },
  {
   "cell_type": "markdown",
   "metadata": {},
   "source": [
    "<div class=\"alert alert-block alert-success\">\n",
    "<b>Успех:</b> Хорошо, что scaler был обучен только на тренировочной части данных!\n",
    "</div>"
   ]
  },
  {
   "cell_type": "code",
   "execution_count": 16,
   "metadata": {
    "cellId": "2fyi8bnq5o5gktatp265ep"
   },
   "outputs": [],
   "source": [
    "features_train_0, features_valid_0, target_train_0, target_valid_0 = split_scale(data0)\n",
    "features_train_1, features_valid_1, target_train_1, target_valid_1 = split_scale(data1)\n",
    "features_train_2, features_valid_2, target_train_2, target_valid_2 = split_scale(data2)"
   ]
  },
  {
   "cell_type": "markdown",
   "metadata": {
    "cellId": "xaxsmp830nnykdb9qjd3cq"
   },
   "source": [
    "Методом shape проверю, что разделение прошло успешно на одном из датасетов на одной из выборок."
   ]
  },
  {
   "cell_type": "code",
   "execution_count": 17,
   "metadata": {
    "cellId": "higs4kfdvknveuwrjol4kg"
   },
   "outputs": [
    {
     "name": "stdout",
     "output_type": "stream",
     "text": [
      "(75000, 3)\n"
     ]
    },
    {
     "data": {
      "text/plain": [
       "(75000,)"
      ]
     },
     "execution_count": 17,
     "metadata": {},
     "output_type": "execute_result"
    }
   ],
   "source": [
    "print(features_train_0.shape)\n",
    "target_train_0.shape"
   ]
  },
  {
   "cell_type": "markdown",
   "metadata": {
    "cellId": "w9l69wq62muc1lbvkmgij"
   },
   "source": [
    "Так как в целевом признаке содержатся количественные переменная, для обучения подойдет модель линейной регрессии. Создам функцию для обучения выборок из датасетов, а так же выведении метрики RMSE (квадратный корень из средней квадратичной ошибки)и среднего показателя предсказанного целевого признака, чтобы сравнить это значение далее с истинным средним значением целевого признака валидационной выборки для проверки корректности обучения и качества модели обучения."
   ]
  },
  {
   "cell_type": "code",
   "execution_count": 18,
   "metadata": {
    "cellId": "y66sudij73jo4hncd0qf7b"
   },
   "outputs": [],
   "source": [
    "def model(features_train, features_valid, target_train, target_valid):\n",
    "    \n",
    "    model = LinearRegression()\n",
    "    model.fit(features_train, target_train)\n",
    "    predictions_valid = pd.Series(model.predict(features_valid))\n",
    "\n",
    "    rmse = mean_squared_error(target_valid, predictions_valid)**0.5\n",
    "    mean_pred_pr = predictions_valid.mean()\n",
    "    \n",
    "    return predictions_valid, rmse, mean_pred_pr"
   ]
  },
  {
   "cell_type": "code",
   "execution_count": 19,
   "metadata": {
    "cellId": "tcqrtuawvcq5r0kbm77pa8"
   },
   "outputs": [],
   "source": [
    "predictions_valid_0, rmse_0, mean_pred_pr_0 = model(features_train_0, features_valid_0, target_train_0, target_valid_0)\n",
    "predictions_valid_1, rmse_1, mean_pred_pr_1 = model(features_train_1, features_valid_1, target_train_1, target_valid_1)\n",
    "predictions_valid_2, rmse_2, mean_pred_pr_2 = model(features_train_2, features_valid_2, target_train_2, target_valid_2)"
   ]
  },
  {
   "cell_type": "code",
   "execution_count": 20,
   "metadata": {
    "cellId": "0im2pk7f401vqqh3tpu934i"
   },
   "outputs": [
    {
     "name": "stdout",
     "output_type": "stream",
     "text": [
      "Регион 1: среднее значение предсказанного признака: 92.59; RMSE: 37.58\n",
      "Регион 2: среднее значение предсказанного признака: 68.73; RMSE: 0.89\n",
      "Регион 3: среднее значение предсказанного признака: 94.97; RMSE: 40.03\n"
     ]
    }
   ],
   "source": [
    "print(f'Регион 1: среднее значение предсказанного признака: {mean_pred_pr_0:.2f}; RMSE: {rmse_0:.2f}')\n",
    "print(f'Регион 2: среднее значение предсказанного признака: {mean_pred_pr_1:.2f}; RMSE: {rmse_1:.2f}')\n",
    "print(f'Регион 3: среднее значение предсказанного признака: {mean_pred_pr_2:.2f}; RMSE: {rmse_2:.2f}')"
   ]
  },
  {
   "cell_type": "code",
   "execution_count": 21,
   "metadata": {
    "cellId": "umsig8kpzht83p85v5y7"
   },
   "outputs": [
    {
     "name": "stdout",
     "output_type": "stream",
     "text": [
      "Регион 1: среднее значение предсказанного признака: 92.59; реальное среднее значение целевого признака: 92.08\n",
      "Регион 2: среднее значение предсказанного признака: 68.73; реальное среднее значение целевого признака: 68.72\n",
      "Регион 3: среднее значение предсказанного признака: 94.97; реальное среднее значение целевого признака: 94.88\n"
     ]
    }
   ],
   "source": [
    "print(f'Регион 1: среднее значение предсказанного признака: {mean_pred_pr_0:.2f}; реальное среднее значение целевого признака: {target_valid_0.mean():.2f}')\n",
    "print(f'Регион 2: среднее значение предсказанного признака: {mean_pred_pr_1:.2f}; реальное среднее значение целевого признака: {target_valid_1.mean():.2f}')\n",
    "print(f'Регион 3: среднее значение предсказанного признака: {mean_pred_pr_2:.2f}; реальное среднее значение целевого признака: {target_valid_2.mean():.2f}')"
   ]
  },
  {
   "cell_type": "markdown",
   "metadata": {
    "cellId": "2xap96xc525d4lu0hq3uf"
   },
   "source": [
    "**Вывод:** Сравнив значения реального среднего значения целевого признака валидационной выборки с средним предсказанным значением, можно сделать вывод, что модель обучилась хорошо. В каждом из регионов ссреднее предсказанных значений от реального среднего отличается на несколько сотых. Метрика RMSE ниже всего у второго региона, что означает что квадратный корень из средней квадратичной ошибки результатов обученной модели меньше единицы и предсказанные данные почти точь в точь совпадают с данными реальными. "
   ]
  },
  {
   "cell_type": "markdown",
   "metadata": {},
   "source": [
    "<div class=\"alert alert-block alert-success\">\n",
    "<b>Успех:</b> Модели обучены корректно. Радует, что ты активно используешь функции. Это помогает избежать дублирования кода, а значит уменьшает вероятность совершить ошибку/опечатку!\n",
    "</div>"
   ]
  },
  {
   "cell_type": "markdown",
   "metadata": {
    "cellId": "nq2x8s4o6lmg60fhb4ixeq"
   },
   "source": [
    "## Подготовка к расчёту прибыли"
   ]
  },
  {
   "cell_type": "markdown",
   "metadata": {
    "cellId": "cunm8sq0xo7qf811pwbjs"
   },
   "source": [
    "При разведке региона исследуют 500 точек, из которых с помощью машинного обучения выбирают 200 лучших для разработки.\n",
    "Бюджет на разработку скважин в регионе — 10 млрд рублей.\n",
    "При нынешних ценах один баррель сырья приносит 450 рублей дохода. Доход с каждой единицы продукта составляет 450 тыс. рублей, поскольку объём указан в тысячах баррелей.\n",
    "После оценки рисков нужно оставить лишь те регионы, в которых вероятность убытков меньше 2.5%. Среди них выбирают регион с наибольшей средней прибылью."
   ]
  },
  {
   "cell_type": "markdown",
   "metadata": {
    "cellId": "glgsugc284ws34miv20hhl"
   },
   "source": [
    "Сохраню все ключевые значения для расчётов в отдельных переменных."
   ]
  },
  {
   "cell_type": "code",
   "execution_count": 22,
   "metadata": {
    "cellId": "8uzlc69r474v3ml6ddyj"
   },
   "outputs": [],
   "source": [
    "EXPLORED = 500\n",
    "BEST = 200\n",
    "BUDGET = 10000000000\n",
    "REVENUE_PER_BARREL = 450\n",
    "REVENUE_PER_PRODUCT = 450000\n",
    "RISK = 2.5\n",
    "SAMPLES = 1000"
   ]
  },
  {
   "cell_type": "markdown",
   "metadata": {},
   "source": [
    "<div class=\"alert alert-block alert-info\">\n",
    "\n",
    "<b>Совет: </b> В названиях константных переменных лучше использовать только БОЛЬШИЕ буквы. Это соглашение между программистами: https://pythonworld.ru/osnovy/pep-8-rukovodstvo-po-napisaniyu-koda-na-python.html#id29 .\n",
    "</div>"
   ]
  },
  {
   "cell_type": "markdown",
   "metadata": {},
   "source": [
    "<div class=\"alert alert-block alert-warning\">\n",
    "\n",
    "<b>Изменения: </b> В названиях константных переменных использовала большие буквы.\n",
    "</div>"
   ]
  },
  {
   "cell_type": "markdown",
   "metadata": {},
   "source": [
    "<div class=\"alert alert-block alert-success\">\n",
    "<b>Успех (ревью 2):</b> Спасибо!\n",
    "</div>"
   ]
  },
  {
   "cell_type": "code",
   "execution_count": 24,
   "metadata": {
    "cellId": "i15gw1adjhr5cewn2zy5"
   },
   "outputs": [
    {
     "name": "stdout",
     "output_type": "stream",
     "text": [
      "Объём сырья для безубыточной разработки новой скважины: 111 тыс. баррелей\n"
     ]
    }
   ],
   "source": [
    "breakevenpoint = BUDGET/REVENUE_PER_PRODUCT/200\n",
    "print(f'Объём сырья для безубыточной разработки новой скважины: {breakevenpoint:.0f} тыс. баррелей')"
   ]
  },
  {
   "cell_type": "code",
   "execution_count": 25,
   "metadata": {
    "cellId": "yuc2637sngi7twz0m92k"
   },
   "outputs": [
    {
     "name": "stdout",
     "output_type": "stream",
     "text": [
      "Среднее значение product geo_data_0: 92.50\n",
      "Разница безубыточного объема сырья для разработки и среднего значения: 18.61\n",
      "Среднее значение product geo_data_1: 68.83\n",
      "Разница безубыточного объема сырья для разработки и среднего значения: 42.29\n",
      "Среднее значение product geo_data_2: 95.00\n",
      "Разница безубыточного объема сырья для разработки и среднего значения: 16.11\n"
     ]
    }
   ],
   "source": [
    "for data in data_total:\n",
    "    product_mean = data['product'].mean()\n",
    "    print(f'Среднее значение product {data.name}: {product_mean:.2f}')\n",
    "    print(f'Разница безубыточного объема сырья для разработки и среднего значения: {breakevenpoint-product_mean:.2f}')"
   ]
  },
  {
   "cell_type": "markdown",
   "metadata": {
    "cellId": "lmqoa7tuajh3xcqnr8ot5"
   },
   "source": [
    "Разница безубыточного объема сырья для разработки и среднего значения в каждом из регионов больше нуля, что означает, что данный проект можно сделать прибыльным, выбрав лучшие для разработки скважины."
   ]
  },
  {
   "cell_type": "markdown",
   "metadata": {},
   "source": [
    "<div class=\"alert alert-block alert-success\">\n",
    "<b>Успех:</b> Точка безубыточности найдена верно, сравнение проведено!\n",
    "</div>"
   ]
  },
  {
   "cell_type": "markdown",
   "metadata": {
    "cellId": "x0p90cfevs9ap9kc4u96z"
   },
   "source": [
    "## Расчёт прибыли и рисков "
   ]
  },
  {
   "cell_type": "markdown",
   "metadata": {
    "cellId": "sevpknu2yie82pt1awp65"
   },
   "source": [
    "Для расчета прибыли, необходимо выделить 200 скважин с максимальными значениями предсказаний, просуммировать целевое значение объёма сырья, соответствующее этим предсказаниям и рассчитать прибыль для полученного объема сырья. Для подсчета создам функцию, которая принимает на вход значения предсказаний, значения целевого признака, и выводит рассчитанную прибыль на выходе."
   ]
  },
  {
   "cell_type": "code",
   "execution_count": 26,
   "metadata": {
    "cellId": "r52yhgq42b32a8j4ulmeo"
   },
   "outputs": [],
   "source": [
    "def revenue (target_valid, predictions_valid, best):\n",
    "    \n",
    "    top200 = predictions_valid.sort_values(ascending=False)\n",
    "    target_values = target_valid.reset_index(drop=True)[top200.index][:best] \n",
    "    revenue = target_values.sum()*REVENUE_PER_PRODUCT\n",
    "    \n",
    "    return revenue"
   ]
  },
  {
   "cell_type": "code",
   "execution_count": 28,
   "metadata": {
    "cellId": "crixnmsmxkrnn8p3ot37"
   },
   "outputs": [],
   "source": [
    "income_0 = revenue(target_valid_0, predictions_valid_0, BEST)-BUDGET\n",
    "income_1 = revenue(target_valid_1, predictions_valid_1, BEST)-BUDGET\n",
    "income_2 = revenue(target_valid_2, predictions_valid_2, BEST)-BUDGET"
   ]
  },
  {
   "cell_type": "code",
   "execution_count": 29,
   "metadata": {
    "cellId": "op5poh3iocimaqbewzs8t"
   },
   "outputs": [
    {
     "name": "stdout",
     "output_type": "stream",
     "text": [
      "Прибыль с 200 лучших скважин для региона 1: 3321 миллионов рублей\n",
      "Прибыль с 200 лучших скважин для региона 2: 2415 миллионов рублей\n",
      "Прибыль с 200 лучших скважин для региона 3: 2710 миллионов рублей\n"
     ]
    }
   ],
   "source": [
    "print(f'Прибыль с 200 лучших скважин для региона 1: {income_0/1000000:.0f} миллионов рублей')\n",
    "print(f'Прибыль с 200 лучших скважин для региона 2: {income_1/1000000:.0f} миллионов рублей')\n",
    "print(f'Прибыль с 200 лучших скважин для региона 3: {income_2/1000000:.0f} миллионов рублей')"
   ]
  },
  {
   "cell_type": "markdown",
   "metadata": {
    "cellId": "mlhbgbelaueileybfc6k6"
   },
   "source": [
    "По расчетам, каждый из регионов в случае выбора 200 лучших по предсказаниям скважин принесет большой объем прибыли. Однако, этот эксперимент был проведен в случае поиска 200 лучших скважин из всех 25000 имеющихся в валидационной выборке. На самом деле, такой подход принесет очень большую трату ресурсов - времени и денег. В данной задаче при разведке региона исследуют 500 точек, из которых с помощью машинного обучения выбирают 200 лучших для разработки.\n",
    "\n",
    "Поэтому я напишу новую функцию расчета выручки, и после этого напишу функцию, которая будет на вход принимать пердсказанные значения, истинные значения, количество bootstrap выборок и количество исследований."
   ]
  },
  {
   "cell_type": "code",
   "execution_count": 31,
   "metadata": {
    "cellId": "inushsxgkfmv4eed5gdsi"
   },
   "outputs": [],
   "source": [
    "def profit (target_valid, predictions_valid, BEST):\n",
    "    \n",
    "    top200 = predictions_valid.sort_values(ascending=False)\n",
    "    target_values = target_valid[top200.index][:BEST] \n",
    "    revenue = target_values.sum()*REVENUE_PER_PRODUCT-BUDGET\n",
    "    \n",
    "    return profit"
   ]
  },
  {
   "cell_type": "markdown",
   "metadata": {},
   "source": [
    "<div class=\"alert alert-block alert-info\">\n",
    "<b>Совет: </b> Желательно, чтобы эта функция возвращала прибыль, а не выручку. Эту функцию лучше было бы назвать profit, так как revenue – это выручка.\n",
    "    \n",
    "В этом шаге нужно было определить всего одну функцию, которая бы использовалась при бутстраппирвоании.\n",
    "</div>"
   ]
  },
  {
   "cell_type": "markdown",
   "metadata": {},
   "source": [
    "<div class=\"alert alert-block alert-warning\">\n",
    "\n",
    "<b>Изменения: </b> Изменила расчет функции, чтобы найти прибыль, а не выручку. Изменила название функции.\n",
    "</div>"
   ]
  },
  {
   "cell_type": "markdown",
   "metadata": {},
   "source": [
    "<div class=\"alert alert-block alert-success\">\n",
    "<b>Успех (ревью 2):</b> ОК.\n",
    "</div>"
   ]
  },
  {
   "cell_type": "code",
   "execution_count": 38,
   "metadata": {
    "cellId": "jfeqvjh74pbouuudcv924s"
   },
   "outputs": [],
   "source": [
    "def income_bootstrap(predictions_valid, target_valid, samples, explored):\n",
    "    \n",
    "    state = np.random.RandomState(12345)\n",
    "    values = []\n",
    "    \n",
    "    for i in range(samples):\n",
    "        target_subsample = target_valid.reset_index(drop=True).sample(explored, replace=True, random_state=state) \n",
    "        predictions_subsample = predictions_valid[target_subsample.index] \n",
    "        income_values = revenue(target_subsample, predictions_subsample, BEST)\n",
    "        values.append(income_values)\n",
    "    \n",
    "    values = pd.Series(values)\n",
    "    lower_q = int(values.quantile(0.025))\n",
    "    upper_q = int(values.quantile(0.975))\n",
    "    mean = int(values.mean())\n",
    "    risk_region = (values<0).mean()*100\n",
    "    \n",
    "    print('Средняя прибыль региона для 200 лучших скважин:', mean)\n",
    "    print('Доверительный интервал: 2.5 квантиль - ', lower_q,'; 97.5 квантиль - ', upper_q)\n",
    "    print('Риск убытков:', risk_region,'%')\n",
    "    if risk_region<RISK:\n",
    "        print (f'Риск убытков не превышает 2.5%, можно рассматривать данный регион.')\n",
    "    else:\n",
    "        print (f'Риск убытков превышает 2.5%, не стоит рассматривать данный регион.')"
   ]
  },
  {
   "cell_type": "markdown",
   "metadata": {},
   "source": [
    "<div class=\"alert alert-block alert-danger\">\n",
    "<b>Ошибка:</b> Для подсчета доверительного интервала стоит использовать метод квантилей, так как мы реализуем технику бутстрап.\n",
    "</div>\n",
    "\n",
    "<div class=\"alert alert-block alert-info\">\n",
    "\n",
    "<b>Совет: </b> Риск можно было найти чуть проще: `(values < 0).mean()`, если объект типа pandas Series или numpy array.\n",
    "</div>"
   ]
  },
  {
   "cell_type": "markdown",
   "metadata": {},
   "source": [
    "<div class=\"alert alert-block alert-warning\">\n",
    "\n",
    "<b>Изменения: </b> Изменила расчет риска, изменила расчет и вывод доверительного интервала.\n",
    "</div>"
   ]
  },
  {
   "cell_type": "markdown",
   "metadata": {},
   "source": [
    "<div class=\"alert alert-block alert-success\">\n",
    "<b>Успех (ревью 2):</b> Верно, молодец!\n",
    "</div>"
   ]
  },
  {
   "cell_type": "code",
   "execution_count": 39,
   "metadata": {
    "cellId": "0yimps6qtioidvhfz4q5w9r"
   },
   "outputs": [
    {
     "name": "stdout",
     "output_type": "stream",
     "text": [
      "Расчеты для региона 1\n",
      "Средняя прибыль региона для 200 лучших скважин: 425938526\n",
      "Доверительный интервал: 2.5 квантиль -  -102090094 ; 97.5 квантиль -  947976353\n",
      "Риск убытков: 6.0 %\n",
      "Риск убытков превышает 2.5%, не стоит рассматривать данный регион.\n"
     ]
    }
   ],
   "source": [
    "print('Расчеты для региона 1')\n",
    "income_bootstrap (predictions_valid_0, target_valid_0, SAMPLES, EXPLORED)"
   ]
  },
  {
   "cell_type": "code",
   "execution_count": 42,
   "metadata": {
    "cellId": "n8powo0sbyjmg448lhj5"
   },
   "outputs": [
    {
     "name": "stdout",
     "output_type": "stream",
     "text": [
      "Расчеты для региона 2\n",
      "Средняя прибыль региона для 200 лучших скважин: 515222773\n",
      "Доверительный интервал: 2.5 квантиль -  68873225 ; 97.5 квантиль -  931547591\n",
      "Риск убытков: 1.0 %\n",
      "Риск убытков не превышает 2.5%, можно рассматривать данный регион.\n"
     ]
    }
   ],
   "source": [
    "print('Расчеты для региона 2')\n",
    "income_bootstrap (predictions_valid_1, target_valid_1, SAMPLES, EXPLORED)"
   ]
  },
  {
   "cell_type": "code",
   "execution_count": 43,
   "metadata": {
    "cellId": "svl7jvlqzarmvuss6h53ao"
   },
   "outputs": [
    {
     "name": "stdout",
     "output_type": "stream",
     "text": [
      "Расчеты для региона 3\n",
      "Средняя прибыль региона для 200 лучших скважин: 435008362\n",
      "Доверительный интервал: 2.5 квантиль -  -128880547 ; 97.5 квантиль -  969706954\n",
      "Риск убытков: 6.4 %\n",
      "Риск убытков превышает 2.5%, не стоит рассматривать данный регион.\n"
     ]
    }
   ],
   "source": [
    "print('Расчеты для региона 3')\n",
    "income_bootstrap (predictions_valid_2, target_valid_2, SAMPLES, EXPLORED)"
   ]
  },
  {
   "cell_type": "markdown",
   "metadata": {
    "cellId": "nfv08fnt74ql9ivvd4v4r"
   },
   "source": [
    "## Общий вывод"
   ]
  },
  {
   "cell_type": "markdown",
   "metadata": {
    "cellId": "idl02g7xaos655zw4tltze"
   },
   "source": [
    "1. Модель линейной регресии хорошо предсказала значения для целевого признака product, о чем свидетельствует сравнение истинных средних значений на валидационной выборке и предсказанных моделью значений. Метрика RMSE ниже всего для предсказаний Региона 2, что говорит о том, что корень из средней квадратической ошибки (отклонение от истинного значений) низкое, модель сработала качсетвеннее всего.\n",
    "\n",
    "2. При расчетах, учитвая возможность исследования абсолютно всех доступных скважин валидационной выборки (25тыс. штук), при выборе 200 лучших скважин, средняя прибыль для регионов была 3321 млн. рублей, 2415 млн. рублей, 2710 млн. рублей соответственно. Однако, такой подход считается ресурсозатратным для компании, поэтому было решено при разведке региона исследовать 500 точек, из которых выбирать 200 лучших для разработки.\n",
    "\n",
    "3. Используя технику Bootstrap с 1000 выборок, была рассчитана средняя прибыль для 200 лучших скважин из 500 выбранных для каждого региона, так же был рассчитан доверительный интервал и риск убыточности. Вероятность убытков в условии не должна превышать 2,5%, однако для регионов 1 и 3 значение риска убыточности 6% и 6,4% соответственно, поэтому рассматривать данные регионы не позволительно. Так же нижние границы доверительного интервала для регионов 1 и 3 отрицательные, что так же подтверждает вывод о том, что более 2.5% значений имеют отрицательную прибыль.\n",
    "\n",
    "4. Построенная модель для определения региона, где добыча принесёт наибольшую прибыль указала на **регион 2**, так как риск убытков в регионе 1%, средняя прибыль региона для 200 лучших скважин около 515 миллионов рублей, а левая граница доверительного интервала имеет положительное значение. "
   ]
  },
  {
   "cell_type": "markdown",
   "metadata": {},
   "source": [
    "<div class=\"alert alert-block alert-success\">\n",
    "<b>Успех:</b> Приятно видеть подробный вывод в конце проекта. С выбором региона согласен.\n",
    "</div>"
   ]
  },
  {
   "cell_type": "markdown",
   "metadata": {},
   "source": [
    "<div class=\"alert alert-block alert-warning\">\n",
    "\n",
    "<b>Изменения: </b> Добавила в вывод комментарий по поводу границ доверительного интервала.\n",
    "</div>"
   ]
  },
  {
   "cell_type": "markdown",
   "metadata": {},
   "source": [
    "<div class=\"alert alert-block alert-success\">\n",
    "<b>Успех (ревью 2):</b> Отлично!\n",
    "</div>"
   ]
  },
  {
   "cell_type": "markdown",
   "metadata": {
    "cellId": "kszao68ykrepfw9ps9redc"
   },
   "source": [
    "## Чек-лист готовности проекта"
   ]
  },
  {
   "cell_type": "markdown",
   "metadata": {
    "cellId": "60wlo1ib7rlczl8uauvs"
   },
   "source": [
    "Поставьте 'x' в выполненных пунктах. Далее нажмите Shift+Enter."
   ]
  },
  {
   "cell_type": "markdown",
   "metadata": {
    "cellId": "dac7mtpp248gl9ixk8bv1j"
   },
   "source": [
    "- [x]  Jupyter Notebook открыт\n",
    "- [x]  Весь код выполняется без ошибок\n",
    "- [x]  Ячейки с кодом расположены в порядке исполнения\n",
    "- [x]  Выполнен шаг 1: данные подготовлены\n",
    "- [x]  Выполнен шаг 2: модели обучены и проверены\n",
    "    - [x]  Данные корректно разбиты на обучающую и валидационную выборки\n",
    "    - [x]  Модели обучены, предсказания сделаны\n",
    "    - [x]  Предсказания и правильные ответы на валидационной выборке сохранены\n",
    "    - [x]  На экране напечатаны результаты\n",
    "    - [x]  Сделаны выводы\n",
    "- [x]  Выполнен шаг 3: проведена подготовка к расчёту прибыли\n",
    "    - [x]  Для всех ключевых значений созданы константы Python\n",
    "    - [x]  Посчитано минимальное среднее количество продукта в месторождениях региона, достаточное для разработки\n",
    "    - [x]  По предыдущему пункту сделаны выводы\n",
    "    - [x]  Написана функция расчёта прибыли\n",
    "- [x]  Выполнен шаг 4: посчитаны риски и прибыль\n",
    "    - [x]  Проведена процедура *Bootstrap*\n",
    "    - [x]  Все параметры бутстрепа соответствуют условию\n",
    "    - [x]  Найдены все нужные величины\n",
    "    - [x]  Предложен регион для разработки месторождения\n",
    "    - [x]  Выбор региона обоснован"
   ]
  }
 ],
 "metadata": {
  "ExecuteTimeLog": [
   {
    "duration": 4,
    "start_time": "2022-03-13T20:17:15.887Z"
   },
   {
    "duration": 3,
    "start_time": "2022-03-13T20:17:33.163Z"
   },
   {
    "duration": 5408,
    "start_time": "2022-03-13T20:17:33.167Z"
   },
   {
    "duration": 1151,
    "start_time": "2022-03-13T20:17:38.578Z"
   },
   {
    "duration": 2,
    "start_time": "2022-03-13T20:17:39.732Z"
   },
   {
    "duration": 347,
    "start_time": "2022-03-13T20:17:39.736Z"
   },
   {
    "duration": 351,
    "start_time": "2022-03-13T20:17:40.085Z"
   },
   {
    "duration": 329,
    "start_time": "2022-03-13T20:17:40.437Z"
   },
   {
    "duration": 2,
    "start_time": "2022-03-13T20:17:40.768Z"
   },
   {
    "duration": 39,
    "start_time": "2022-03-13T20:17:40.772Z"
   },
   {
    "duration": 54,
    "start_time": "2022-03-13T20:17:40.813Z"
   },
   {
    "duration": 12,
    "start_time": "2022-03-13T20:17:40.869Z"
   },
   {
    "duration": 97,
    "start_time": "2022-03-13T20:17:40.905Z"
   },
   {
    "duration": 28837,
    "start_time": "2022-03-13T20:17:41.008Z"
   },
   {
    "duration": 6,
    "start_time": "2022-03-13T20:18:09.847Z"
   },
   {
    "duration": 91,
    "start_time": "2022-03-13T20:18:09.855Z"
   },
   {
    "duration": 4,
    "start_time": "2022-03-13T20:18:09.948Z"
   },
   {
    "duration": 16,
    "start_time": "2022-03-13T20:18:09.953Z"
   },
   {
    "duration": 58,
    "start_time": "2022-03-13T20:18:09.971Z"
   },
   {
    "duration": 76,
    "start_time": "2022-03-13T20:18:10.031Z"
   },
   {
    "duration": 127,
    "start_time": "2022-03-13T20:18:10.109Z"
   },
   {
    "duration": 2,
    "start_time": "2022-03-13T20:18:14.658Z"
   },
   {
    "duration": 108,
    "start_time": "2022-03-13T20:19:48.430Z"
   },
   {
    "duration": 3,
    "start_time": "2022-03-13T20:20:57.225Z"
   },
   {
    "duration": 10,
    "start_time": "2022-03-13T20:21:06.201Z"
   },
   {
    "duration": 3,
    "start_time": "2022-03-13T20:21:25.645Z"
   },
   {
    "duration": 457,
    "start_time": "2022-03-13T20:21:34.676Z"
   },
   {
    "duration": 18,
    "start_time": "2022-03-13T20:21:42.358Z"
   },
   {
    "duration": 5,
    "start_time": "2022-03-13T20:21:45.189Z"
   },
   {
    "duration": 4,
    "start_time": "2022-03-13T20:22:07.339Z"
   },
   {
    "duration": 3,
    "start_time": "2022-03-13T20:22:23.474Z"
   },
   {
    "duration": 7,
    "start_time": "2022-03-13T20:24:59.483Z"
   },
   {
    "duration": 4375,
    "start_time": "2022-03-13T20:25:09.968Z"
   },
   {
    "duration": 9,
    "start_time": "2022-03-13T20:25:39.325Z"
   },
   {
    "duration": 3560,
    "start_time": "2022-03-13T20:25:41.346Z"
   },
   {
    "duration": 5,
    "start_time": "2022-03-13T20:27:33.364Z"
   },
   {
    "duration": 3486,
    "start_time": "2022-03-13T20:27:36.300Z"
   },
   {
    "duration": 8,
    "start_time": "2022-03-13T20:27:55.327Z"
   },
   {
    "duration": 3646,
    "start_time": "2022-03-13T20:27:57.130Z"
   },
   {
    "duration": 109,
    "start_time": "2022-03-13T20:28:50.451Z"
   },
   {
    "duration": 350,
    "start_time": "2022-03-13T20:28:57.539Z"
   },
   {
    "duration": 3571,
    "start_time": "2022-03-13T20:29:09.029Z"
   },
   {
    "duration": 3578,
    "start_time": "2022-03-13T20:29:12.606Z"
   },
   {
    "duration": 120,
    "start_time": "2022-03-13T20:32:35.937Z"
   }
  ],
  "kernelspec": {
   "display_name": "Python 3 (ipykernel)",
   "language": "python",
   "name": "python3"
  },
  "language_info": {
   "codemirror_mode": {
    "name": "ipython",
    "version": 3
   },
   "file_extension": ".py",
   "mimetype": "text/x-python",
   "name": "python",
   "nbconvert_exporter": "python",
   "pygments_lexer": "ipython3",
   "version": "3.9.5"
  },
  "notebookId": "ee866ea6-7223-429a-a800-4643faa28e8b",
  "notebookPath": "ds-ml-business.ipynb",
  "toc": {
   "base_numbering": 1,
   "nav_menu": {},
   "number_sections": true,
   "sideBar": true,
   "skip_h1_title": true,
   "title_cell": "Table of Contents",
   "title_sidebar": "Contents",
   "toc_cell": false,
   "toc_position": {},
   "toc_section_display": true,
   "toc_window_display": false
  }
 },
 "nbformat": 4,
 "nbformat_minor": 4
}
