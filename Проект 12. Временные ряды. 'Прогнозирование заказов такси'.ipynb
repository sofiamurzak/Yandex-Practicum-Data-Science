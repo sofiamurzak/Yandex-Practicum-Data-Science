{
 "cells": [
  {
   "cell_type": "markdown",
   "metadata": {},
   "source": [
    "Привет, меня зовут Артем Хуршудов. Сегодня я проверю твой проект.\n",
    "<br> Дальнейшее общение будет происходить на \"ты\" если это не вызывает никаких проблем.\n",
    "<br> Желательно реагировать на каждый мой комментарий ('исправил', 'не понятно как исправить ошибку', ...)\n",
    "<br> Пожалуйста, не удаляй комментарии ревьюера, так как они повышают качество повторного ревью.\n",
    "\n",
    "Комментарии будут в <font color='green'>зеленой</font>, <font color='blue'>синей</font> или <font color='red'>красной</font> рамках:\n",
    "\n",
    "<div class=\"alert alert-block alert-success\">\n",
    "<b>Успех:</b> Если все сделано отлично\n",
    "</div>\n",
    "\n",
    "<div class=\"alert alert-block alert-info\">\n",
    "<b>Совет: </b> Если можно немного улучшить\n",
    "</div>\n",
    "\n",
    "<div class=\"alert alert-block alert-danger\">\n",
    "<b>Ошибка:</b> Если требуются исправления. Работа не может быть принята с красными комментариями.\n",
    "</div>\n",
    "\n",
    "-------------------\n",
    "\n",
    "Будет очень хорошо, если ты будешь помечать свои действия следующим образом:\n",
    "<div class=\"alert alert-block alert-warning\">\n",
    "<b>Комментарий студента:</b> ...\n",
    "</div>\n",
    "\n",
    "<div class=\"alert alert-block alert-warning\">\n",
    "<b>Изменения:</b> Были внесены следующие изменения ...\n",
    "</div>\n",
    "\n",
    "#### <font color='orange'>Полезные ссылки:</font>\n",
    "* Полезная лекция про временные ряды: https://www.youtube.com/watch?v=u433nrxdf5k .\n",
    "\n",
    "### <font color='orange'>Общее впечатление</font>\n",
    "* Большое спасибо за проделанную работу. Видно, что приложено много усилий.\n",
    "* Отлично, что ноутбук хорошо структурирован. Приятно проверять такие работы.\n",
    "* Тебе удалось добиться очень хорошего качества, поздравляю!\n",
    "* Проект может быть зачтен, но я его отправлю назад, чтобы у тебя была возможность задать вопросы, при желании. Однако, ты можешь просто вернуть проект в таком же виде и я его зачту."
   ]
  },
  {
   "cell_type": "markdown",
   "metadata": {},
   "source": [
    "<div class=\"alert alert-block alert-warning\">\n",
    "<b>Комментарий студента:</b> Спасибо за ревью! Возвращаю работу на зачет.\n",
    "</div>"
   ]
  },
  {
   "cell_type": "markdown",
   "metadata": {},
   "source": [
    "### <font color='orange'>Общее впечатление (ревью 2)</font>\n",
    "* Проект зачтен!\n",
    "* Удачи в дальнейшем обучении и следующих работах!"
   ]
  },
  {
   "cell_type": "markdown",
   "metadata": {
    "id": "1V0ugQ4XI9K6"
   },
   "source": [
    "#Прогнозирование заказов такси\n"
   ]
  },
  {
   "cell_type": "markdown",
   "metadata": {
    "id": "1UHgpFKEJJta"
   },
   "source": [
    "## Описание проекта\n",
    "Компания «Чётенькое такси» собрала исторические данные о заказах такси в аэропортах. Чтобы привлекать больше водителей в период пиковой нагрузки, нужно спрогнозировать количество заказов такси на следующий час. \n",
    "\n",
    "### Цель исследования\n",
    "Построить модель для прогнозирования количества заказов на следующий час. При этом значение метрики RMSE на тестовой выборке должно быть не больше 48.\n",
    "\n",
    "### Ход исследования\n",
    "1. Загрузка данных, ресемплирование по одному часу\n",
    "2. Анализ данных\n",
    "3. Обучение различных моделей с подбором гиперпараметров\n",
    "4. Формирование вывода\n",
    "\n"
   ]
  },
  {
   "cell_type": "markdown",
   "metadata": {
    "id": "tRV-2cuUKSZb"
   },
   "source": [
    "## Загрузка данных"
   ]
  },
  {
   "cell_type": "markdown",
   "metadata": {
    "id": "uWJb-HsMNdJx"
   },
   "source": [
    "Импортирую библиотеки и модули, которые будут необходимы в выполнении проекта."
   ]
  },
  {
   "cell_type": "code",
   "execution_count": 1,
   "metadata": {
    "colab": {
     "base_uri": "https://localhost:8080/"
    },
    "id": "nKYFUMbAKa8s",
    "outputId": "b2460710-dfed-44cd-e2cd-a0c819c7fc9c"
   },
   "outputs": [
    {
     "name": "stdout",
     "output_type": "stream",
     "text": [
      "Requirement already satisfied: catboost in /usr/local/lib/python3.7/dist-packages (1.0.5)\n",
      "Requirement already satisfied: scipy in /usr/local/lib/python3.7/dist-packages (from catboost) (1.4.1)\n",
      "Requirement already satisfied: plotly in /usr/local/lib/python3.7/dist-packages (from catboost) (5.5.0)\n",
      "Requirement already satisfied: graphviz in /usr/local/lib/python3.7/dist-packages (from catboost) (0.10.1)\n",
      "Requirement already satisfied: matplotlib in /usr/local/lib/python3.7/dist-packages (from catboost) (3.2.2)\n",
      "Requirement already satisfied: numpy>=1.16.0 in /usr/local/lib/python3.7/dist-packages (from catboost) (1.21.6)\n",
      "Requirement already satisfied: six in /usr/local/lib/python3.7/dist-packages (from catboost) (1.15.0)\n",
      "Requirement already satisfied: pandas>=0.24.0 in /usr/local/lib/python3.7/dist-packages (from catboost) (1.3.5)\n",
      "Requirement already satisfied: pytz>=2017.3 in /usr/local/lib/python3.7/dist-packages (from pandas>=0.24.0->catboost) (2022.1)\n",
      "Requirement already satisfied: python-dateutil>=2.7.3 in /usr/local/lib/python3.7/dist-packages (from pandas>=0.24.0->catboost) (2.8.2)\n",
      "Requirement already satisfied: kiwisolver>=1.0.1 in /usr/local/lib/python3.7/dist-packages (from matplotlib->catboost) (1.4.2)\n",
      "Requirement already satisfied: cycler>=0.10 in /usr/local/lib/python3.7/dist-packages (from matplotlib->catboost) (0.11.0)\n",
      "Requirement already satisfied: pyparsing!=2.0.4,!=2.1.2,!=2.1.6,>=2.0.1 in /usr/local/lib/python3.7/dist-packages (from matplotlib->catboost) (3.0.8)\n",
      "Requirement already satisfied: typing-extensions in /usr/local/lib/python3.7/dist-packages (from kiwisolver>=1.0.1->matplotlib->catboost) (4.2.0)\n",
      "Requirement already satisfied: tenacity>=6.2.0 in /usr/local/lib/python3.7/dist-packages (from plotly->catboost) (8.0.1)\n"
     ]
    }
   ],
   "source": [
    "%pip install catboost"
   ]
  },
  {
   "cell_type": "code",
   "execution_count": 26,
   "metadata": {
    "id": "LsK3W2sdKBDU"
   },
   "outputs": [],
   "source": [
    "import pandas as pd\n",
    "import matplotlib.pyplot as plt\n",
    "\n",
    "from statsmodels.tsa.seasonal import seasonal_decompose\n",
    "\n",
    "from sklearn.linear_model import LinearRegression\n",
    "from sklearn.ensemble import RandomForestRegressor\n",
    "import lightgbm as lgb\n",
    "from lightgbm import LGBMRegressor\n",
    "from catboost import CatBoostRegressor\n",
    "\n",
    "from sklearn.model_selection import train_test_split, GridSearchCV, TimeSeriesSplit\n",
    "from sklearn.metrics import mean_squared_error\n",
    "\n",
    "import time\n",
    "\n",
    "import warnings\n",
    "warnings.filterwarnings(\"ignore\")"
   ]
  },
  {
   "cell_type": "markdown",
   "metadata": {},
   "source": [
    "<div class=\"alert alert-block alert-success\">\n",
    "<b>Успех:</b> Отлично, что все импорты собраны в первой ячейке ноутбука! Если у того, кто будет запускать твой ноутбук будут отсутствовать некоторые библиотеки, то он это увидит сразу, а не в процессе!\n",
    "</div>"
   ]
  },
  {
   "cell_type": "markdown",
   "metadata": {
    "id": "HKiqI0H1Njpx"
   },
   "source": [
    "Загружаю данные в рабочую среду методом read_csv. Преобразовываю даты в нужный формат методом parse_dates, а так же делаю даты индексом датафрейма."
   ]
  },
  {
   "cell_type": "code",
   "execution_count": 3,
   "metadata": {
    "id": "iD-WwrsjKdQO"
   },
   "outputs": [],
   "source": [
    "try:\n",
    "    data = pd.read_csv('/content/taxi.csv',index_col=[0], parse_dates=[0])\n",
    "except FileNotFoundError as e:\n",
    "    print(e)\n",
    "    data = pd.read_csv('/datasets/taxi.csv',index_col=[0], parse_dates=[0])"
   ]
  },
  {
   "cell_type": "code",
   "execution_count": 4,
   "metadata": {
    "colab": {
     "base_uri": "https://localhost:8080/",
     "height": 237
    },
    "id": "3qyIEnPYKq7a",
    "outputId": "546c2231-1f34-4788-fd1f-985fd5a5a87e"
   },
   "outputs": [
    {
     "data": {
      "text/html": [
       "\n",
       "  <div id=\"df-fb2873ed-8b14-43aa-860a-b5734f4712d7\">\n",
       "    <div class=\"colab-df-container\">\n",
       "      <div>\n",
       "<style scoped>\n",
       "    .dataframe tbody tr th:only-of-type {\n",
       "        vertical-align: middle;\n",
       "    }\n",
       "\n",
       "    .dataframe tbody tr th {\n",
       "        vertical-align: top;\n",
       "    }\n",
       "\n",
       "    .dataframe thead th {\n",
       "        text-align: right;\n",
       "    }\n",
       "</style>\n",
       "<table border=\"1\" class=\"dataframe\">\n",
       "  <thead>\n",
       "    <tr style=\"text-align: right;\">\n",
       "      <th></th>\n",
       "      <th>num_orders</th>\n",
       "    </tr>\n",
       "    <tr>\n",
       "      <th>datetime</th>\n",
       "      <th></th>\n",
       "    </tr>\n",
       "  </thead>\n",
       "  <tbody>\n",
       "    <tr>\n",
       "      <th>2018-03-01 00:00:00</th>\n",
       "      <td>9</td>\n",
       "    </tr>\n",
       "    <tr>\n",
       "      <th>2018-03-01 00:10:00</th>\n",
       "      <td>14</td>\n",
       "    </tr>\n",
       "    <tr>\n",
       "      <th>2018-03-01 00:20:00</th>\n",
       "      <td>28</td>\n",
       "    </tr>\n",
       "    <tr>\n",
       "      <th>2018-03-01 00:30:00</th>\n",
       "      <td>20</td>\n",
       "    </tr>\n",
       "    <tr>\n",
       "      <th>2018-03-01 00:40:00</th>\n",
       "      <td>32</td>\n",
       "    </tr>\n",
       "  </tbody>\n",
       "</table>\n",
       "</div>\n",
       "      <button class=\"colab-df-convert\" onclick=\"convertToInteractive('df-fb2873ed-8b14-43aa-860a-b5734f4712d7')\"\n",
       "              title=\"Convert this dataframe to an interactive table.\"\n",
       "              style=\"display:none;\">\n",
       "        \n",
       "  <svg xmlns=\"http://www.w3.org/2000/svg\" height=\"24px\"viewBox=\"0 0 24 24\"\n",
       "       width=\"24px\">\n",
       "    <path d=\"M0 0h24v24H0V0z\" fill=\"none\"/>\n",
       "    <path d=\"M18.56 5.44l.94 2.06.94-2.06 2.06-.94-2.06-.94-.94-2.06-.94 2.06-2.06.94zm-11 1L8.5 8.5l.94-2.06 2.06-.94-2.06-.94L8.5 2.5l-.94 2.06-2.06.94zm10 10l.94 2.06.94-2.06 2.06-.94-2.06-.94-.94-2.06-.94 2.06-2.06.94z\"/><path d=\"M17.41 7.96l-1.37-1.37c-.4-.4-.92-.59-1.43-.59-.52 0-1.04.2-1.43.59L10.3 9.45l-7.72 7.72c-.78.78-.78 2.05 0 2.83L4 21.41c.39.39.9.59 1.41.59.51 0 1.02-.2 1.41-.59l7.78-7.78 2.81-2.81c.8-.78.8-2.07 0-2.86zM5.41 20L4 18.59l7.72-7.72 1.47 1.35L5.41 20z\"/>\n",
       "  </svg>\n",
       "      </button>\n",
       "      \n",
       "  <style>\n",
       "    .colab-df-container {\n",
       "      display:flex;\n",
       "      flex-wrap:wrap;\n",
       "      gap: 12px;\n",
       "    }\n",
       "\n",
       "    .colab-df-convert {\n",
       "      background-color: #E8F0FE;\n",
       "      border: none;\n",
       "      border-radius: 50%;\n",
       "      cursor: pointer;\n",
       "      display: none;\n",
       "      fill: #1967D2;\n",
       "      height: 32px;\n",
       "      padding: 0 0 0 0;\n",
       "      width: 32px;\n",
       "    }\n",
       "\n",
       "    .colab-df-convert:hover {\n",
       "      background-color: #E2EBFA;\n",
       "      box-shadow: 0px 1px 2px rgba(60, 64, 67, 0.3), 0px 1px 3px 1px rgba(60, 64, 67, 0.15);\n",
       "      fill: #174EA6;\n",
       "    }\n",
       "\n",
       "    [theme=dark] .colab-df-convert {\n",
       "      background-color: #3B4455;\n",
       "      fill: #D2E3FC;\n",
       "    }\n",
       "\n",
       "    [theme=dark] .colab-df-convert:hover {\n",
       "      background-color: #434B5C;\n",
       "      box-shadow: 0px 1px 3px 1px rgba(0, 0, 0, 0.15);\n",
       "      filter: drop-shadow(0px 1px 2px rgba(0, 0, 0, 0.3));\n",
       "      fill: #FFFFFF;\n",
       "    }\n",
       "  </style>\n",
       "\n",
       "      <script>\n",
       "        const buttonEl =\n",
       "          document.querySelector('#df-fb2873ed-8b14-43aa-860a-b5734f4712d7 button.colab-df-convert');\n",
       "        buttonEl.style.display =\n",
       "          google.colab.kernel.accessAllowed ? 'block' : 'none';\n",
       "\n",
       "        async function convertToInteractive(key) {\n",
       "          const element = document.querySelector('#df-fb2873ed-8b14-43aa-860a-b5734f4712d7');\n",
       "          const dataTable =\n",
       "            await google.colab.kernel.invokeFunction('convertToInteractive',\n",
       "                                                     [key], {});\n",
       "          if (!dataTable) return;\n",
       "\n",
       "          const docLinkHtml = 'Like what you see? Visit the ' +\n",
       "            '<a target=\"_blank\" href=https://colab.research.google.com/notebooks/data_table.ipynb>data table notebook</a>'\n",
       "            + ' to learn more about interactive tables.';\n",
       "          element.innerHTML = '';\n",
       "          dataTable['output_type'] = 'display_data';\n",
       "          await google.colab.output.renderOutput(dataTable, element);\n",
       "          const docLink = document.createElement('div');\n",
       "          docLink.innerHTML = docLinkHtml;\n",
       "          element.appendChild(docLink);\n",
       "        }\n",
       "      </script>\n",
       "    </div>\n",
       "  </div>\n",
       "  "
      ],
      "text/plain": [
       "                     num_orders\n",
       "datetime                       \n",
       "2018-03-01 00:00:00           9\n",
       "2018-03-01 00:10:00          14\n",
       "2018-03-01 00:20:00          28\n",
       "2018-03-01 00:30:00          20\n",
       "2018-03-01 00:40:00          32"
      ]
     },
     "execution_count": 4,
     "metadata": {},
     "output_type": "execute_result"
    }
   ],
   "source": [
    "data.head()"
   ]
  },
  {
   "cell_type": "code",
   "execution_count": 5,
   "metadata": {
    "colab": {
     "base_uri": "https://localhost:8080/"
    },
    "id": "6fjIgvRjLiCj",
    "outputId": "f8da7300-0b88-41e5-df9d-614e2e381326"
   },
   "outputs": [
    {
     "name": "stdout",
     "output_type": "stream",
     "text": [
      "<class 'pandas.core.frame.DataFrame'>\n",
      "DatetimeIndex: 26496 entries, 2018-03-01 00:00:00 to 2018-08-31 23:50:00\n",
      "Data columns (total 1 columns):\n",
      " #   Column      Non-Null Count  Dtype\n",
      "---  ------      --------------  -----\n",
      " 0   num_orders  26496 non-null  int64\n",
      "dtypes: int64(1)\n",
      "memory usage: 414.0 KB\n"
     ]
    }
   ],
   "source": [
    "data.info()"
   ]
  },
  {
   "cell_type": "markdown",
   "metadata": {
    "id": "UsYvn56hN15V"
   },
   "source": [
    "В датафрейме всего 1 столбец - количество заказов, в нем 26496 заполненных значений в формате целых чисел."
   ]
  },
  {
   "cell_type": "markdown",
   "metadata": {
    "id": "lRYqB1YMgH4N"
   },
   "source": [
    "## Анализ данных"
   ]
  },
  {
   "cell_type": "markdown",
   "metadata": {
    "id": "bNbd2O87gIQy"
   },
   "source": [
    "\n",
    "Чтобы проверить, в хронологическом ли порядке расположены даты и время, посмотрю атрибут индекса таблицы is_monotonic. Если порядок соблюдён, атрибут вернёт True, если нет — False."
   ]
  },
  {
   "cell_type": "code",
   "execution_count": 6,
   "metadata": {
    "colab": {
     "base_uri": "https://localhost:8080/"
    },
    "id": "0fif2TwLNZWD",
    "outputId": "757eb145-4f25-45dd-b381-0bd692b0d349"
   },
   "outputs": [
    {
     "data": {
      "text/plain": [
       "True"
      ]
     },
     "execution_count": 6,
     "metadata": {},
     "output_type": "execute_result"
    }
   ],
   "source": [
    "data.index.is_monotonic"
   ]
  },
  {
   "cell_type": "markdown",
   "metadata": {
    "id": "1fpST_mEOTw6"
   },
   "source": [
    "Данные расположены в хронологическом порядке, поэтому дополнительная сортировка не нужна. Построю первый график временного ряда."
   ]
  },
  {
   "cell_type": "code",
   "execution_count": 7,
   "metadata": {
    "colab": {
     "base_uri": "https://localhost:8080/",
     "height": 324
    },
    "id": "Hl_EprTHOQvW",
    "outputId": "0765fa91-4afe-4638-ed6b-133f5ea9940e"
   },
   "outputs": [
    {
     "data": {
      "text/plain": [
       "<matplotlib.axes._subplots.AxesSubplot at 0x7eff51d11390>"
      ]
     },
     "execution_count": 7,
     "metadata": {},
     "output_type": "execute_result"
    },
    {
     "data": {
      "image/png": "[encoded data removed]",
      "text/plain": [
       "<Figure size 432x288 with 1 Axes>"
      ]
     },
     "metadata": {
      "needs_background": "light"
     },
     "output_type": "display_data"
    }
   ],
   "source": [
    "data.plot(title = 'График временного ряда', color = 'orange')"
   ]
  },
  {
   "cell_type": "markdown",
   "metadata": {
    "id": "gUQxxYtsOyr5"
   },
   "source": [
    "По данному графику невозможно ничего оценить и провести анализ, необходимы дополнительные инструменты обработки временного ряда. Начну с ресемплирования временного ряда.Ресемплирование, или ресемплинг — это изменение интервала со значениями ряда. В каждой группе ресемплинга вычисляется агрегированное значение ряда."
   ]
  },
  {
   "cell_type": "code",
   "execution_count": 8,
   "metadata": {
    "id": "bXGW9Z0rK6HV"
   },
   "outputs": [],
   "source": [
    "data = data.resample('1H').sum()"
   ]
  },
  {
   "cell_type": "code",
   "execution_count": 9,
   "metadata": {
    "colab": {
     "base_uri": "https://localhost:8080/",
     "height": 324
    },
    "id": "-NL1KLxFLO7I",
    "outputId": "fe8d4221-3427-45f3-eb59-27146543f5b2"
   },
   "outputs": [
    {
     "data": {
      "text/plain": [
       "<matplotlib.axes._subplots.AxesSubplot at 0x7eff66621b90>"
      ]
     },
     "execution_count": 9,
     "metadata": {},
     "output_type": "execute_result"
    },
    {
     "data": {
      "image/png": "[encoded data removed]",
      "text/plain": [
       "<Figure size 432x288 with 1 Axes>"
      ]
     },
     "metadata": {
      "needs_background": "light"
     },
     "output_type": "display_data"
    }
   ],
   "source": [
    "data.plot(title = 'График временного ряда с ресемплингом (1 час)', color = 'orange')"
   ]
  },
  {
   "cell_type": "markdown",
   "metadata": {
    "id": "FvZhyuEHQjdo"
   },
   "source": [
    "График информативнее не стал, так как интервал ресемплирования очень мал (1 час)."
   ]
  },
  {
   "cell_type": "markdown",
   "metadata": {},
   "source": [
    "<div class=\"alert alert-block alert-success\">\n",
    "<b>Успех:</b> Данные загружены корректно, первичный осмотр проведен. Ресемплинг был сделан верно.\n",
    "</div>"
   ]
  },
  {
   "cell_type": "markdown",
   "metadata": {
    "id": "oUVUBAedQviP"
   },
   "source": [
    "Чтобы во временном ряду снизить колебания, применю скользящее среднее.\n",
    "Скользящее среднее — метод сглаживания временных рядов. Его суть заключается в поиске значений, которые меньше всего подвержены колебаниям, то есть средних арифметических."
   ]
  },
  {
   "cell_type": "code",
   "execution_count": 10,
   "metadata": {
    "colab": {
     "base_uri": "https://localhost:8080/",
     "height": 298
    },
    "id": "0rdVEMv4QkD6",
    "outputId": "316448bd-edf1-4e58-cc48-25f44d03cedb"
   },
   "outputs": [
    {
     "data": {
      "text/plain": [
       "Text(0.5, 1.0, 'Скользящее среднее')"
      ]
     },
     "execution_count": 10,
     "metadata": {},
     "output_type": "execute_result"
    },
    {
     "data": {
      "image/png": "[encoded data removed]",
      "text/plain": [
       "<Figure size 432x288 with 1 Axes>"
      ]
     },
     "metadata": {
      "needs_background": "light"
     },
     "output_type": "display_data"
    }
   ],
   "source": [
    "data_rolling = data.rolling(168).mean()\n",
    "plt.plot(data, color = 'blue')\n",
    "plt.plot(data_rolling, color='orange')\n",
    "plt.title('Скользящее среднее')"
   ]
  },
  {
   "cell_type": "markdown",
   "metadata": {
    "id": "Bl_8RbykXSox"
   },
   "source": [
    "По графику скользящего среднего видно, что количество заказов растет с течением времени."
   ]
  },
  {
   "cell_type": "code",
   "execution_count": 11,
   "metadata": {
    "id": "v3iiavE3TB03"
   },
   "outputs": [],
   "source": [
    "data = data.dropna()"
   ]
  },
  {
   "cell_type": "markdown",
   "metadata": {
    "id": "SIIRGsETZNSn"
   },
   "source": [
    "Перейду к трендам и сезонностям количества заказов временного ряда. Тренд  — плавное изменение среднего значения ряда без повторяющихся закономерностей. \n",
    "Сезонность — циклично повторяющиеся закономерности во временном ряду. Тренды и сезонность зависят от масштаба данных. Нельзя увидеть закономерности, повторяющиеся каждое лето, если есть данные только за год."
   ]
  },
  {
   "cell_type": "code",
   "execution_count": 12,
   "metadata": {
    "id": "S08P47_CQ8xn"
   },
   "outputs": [],
   "source": [
    "decomposed = seasonal_decompose(data) "
   ]
  },
  {
   "cell_type": "code",
   "execution_count": 13,
   "metadata": {
    "colab": {
     "base_uri": "https://localhost:8080/",
     "height": 324
    },
    "id": "jCyodL38YR2G",
    "outputId": "ae56d740-22ae-4349-90bd-d6a24e4ed13d"
   },
   "outputs": [
    {
     "data": {
      "text/plain": [
       "<matplotlib.axes._subplots.AxesSubplot at 0x7eff51200c50>"
      ]
     },
     "execution_count": 13,
     "metadata": {},
     "output_type": "execute_result"
    },
    {
     "data": {
      "image/png": "[encoded data removed]",
      "text/plain": [
       "<Figure size 432x288 with 1 Axes>"
      ]
     },
     "metadata": {
      "needs_background": "light"
     },
     "output_type": "display_data"
    }
   ],
   "source": [
    "decomposed.trend.plot(title = 'Тренд', color='orange')"
   ]
  },
  {
   "cell_type": "markdown",
   "metadata": {
    "id": "FTcaEw_uZgnE"
   },
   "source": [
    "График тренда показывает, что растет количество заказов такси с течением времени."
   ]
  },
  {
   "cell_type": "code",
   "execution_count": 14,
   "metadata": {
    "colab": {
     "base_uri": "https://localhost:8080/",
     "height": 270
    },
    "id": "t5906NVIYj5H",
    "outputId": "662115b3-c0d3-4035-e16e-59d675ca3645"
   },
   "outputs": [
    {
     "data": {
      "text/plain": [
       "<matplotlib.axes._subplots.AxesSubplot at 0x7eff510f5c50>"
      ]
     },
     "execution_count": 14,
     "metadata": {},
     "output_type": "execute_result"
    },
    {
     "data": {
      "image/png": "[encoded data removed]",
      "text/plain": [
       "<Figure size 1440x216 with 1 Axes>"
      ]
     },
     "metadata": {
      "needs_background": "light"
     },
     "output_type": "display_data"
    }
   ],
   "source": [
    "decomposed.seasonal.plot(figsize=(20,3), title = 'Сезонность', color='orange')"
   ]
  },
  {
   "cell_type": "markdown",
   "metadata": {
    "id": "-3hsg2zXZsA5"
   },
   "source": [
    "График сезонности невозможно проанализировать в таком масштабе, так как сезонность показывается внутри одного дня. А дней в рассматриваемом периоде много. Можно детализировать график (например в периоде 3 дней), чтобы посмотреть как меняется сезонность в течение дня."
   ]
  },
  {
   "cell_type": "code",
   "execution_count": 15,
   "metadata": {
    "colab": {
     "base_uri": "https://localhost:8080/",
     "height": 336
    },
    "id": "QQTIu6aRaJ3_",
    "outputId": "c3aae1be-d400-4ba2-8847-4800562b6fd8"
   },
   "outputs": [
    {
     "data": {
      "text/plain": [
       "<matplotlib.axes._subplots.AxesSubplot at 0x7eff51215410>"
      ]
     },
     "execution_count": 15,
     "metadata": {},
     "output_type": "execute_result"
    },
    {
     "data": {
      "image/png": "[encoded data removed]",
      "text/plain": [
       "<Figure size 432x288 with 1 Axes>"
      ]
     },
     "metadata": {
      "needs_background": "light"
     },
     "output_type": "display_data"
    }
   ],
   "source": [
    "decomposed.seasonal['2018-03-01':'2018-03-03'].plot(title = 'Сезонность в течение 3 дней', color='orange')"
   ]
  },
  {
   "cell_type": "markdown",
   "metadata": {
    "id": "tHJY5ZmVa6OI"
   },
   "source": [
    "График сезонности внутри одного дня показывает, что пик сезонности находится в полночь, меньше всего заказов приходится на раннее утро, потом заказы растут, виден пик в обеденное время и после него заметное снижение."
   ]
  },
  {
   "cell_type": "code",
   "execution_count": 16,
   "metadata": {
    "id": "FsRTmb_DbBJF"
   },
   "outputs": [],
   "source": [
    "decomposed = seasonal_decompose(data.resample('1D').sum()) "
   ]
  },
  {
   "cell_type": "code",
   "execution_count": 17,
   "metadata": {
    "colab": {
     "base_uri": "https://localhost:8080/",
     "height": 265
    },
    "id": "F9xIOsOIbTjH",
    "outputId": "b2cc8bd2-34c3-48c7-a7d0-f323fa9a0467"
   },
   "outputs": [
    {
     "data": {
      "text/plain": [
       "<matplotlib.axes._subplots.AxesSubplot at 0x7eff50f20710>"
      ]
     },
     "execution_count": 17,
     "metadata": {},
     "output_type": "execute_result"
    },
    {
     "data": {
      "image/png": "[encoded data removed]",
      "text/plain": [
       "<Figure size 1440x216 with 1 Axes>"
      ]
     },
     "metadata": {
      "needs_background": "light"
     },
     "output_type": "display_data"
    }
   ],
   "source": [
    "decomposed.seasonal['2018-03-05':'2018-03-12'].plot(figsize=(20,3), color='orange')"
   ]
  },
  {
   "cell_type": "markdown",
   "metadata": {
    "id": "cqnq7NZ8b_Sa"
   },
   "source": [
    "При ресемплировании на 1 день, сезонность показывает, что в понедельник большой рост заказов, во вторник минимальное значение, далее в течение недели заказы растут, в пятницу снова пик, в воксресенье резкий спад."
   ]
  },
  {
   "cell_type": "markdown",
   "metadata": {},
   "source": [
    "<div class=\"alert alert-block alert-success\">\n",
    "<b>Успех:</b> Декомпозиция была сделана верно. Хорошо, что сезонность была визуализирована на более коротком интервале!\n",
    "</div>"
   ]
  },
  {
   "cell_type": "markdown",
   "metadata": {
    "id": "4NWZRlz2gNoQ"
   },
   "source": [
    "## Обучение моделей с подбором гиперпарамтеров"
   ]
  },
  {
   "cell_type": "markdown",
   "metadata": {
    "id": "gbLLgPuPgRZz"
   },
   "source": [
    "Чтобы обучить модель, необходимо добавить признаков для обучения. Дополнительные признаки - час, день недели, скользящее среднее, лаги. Для того, чтобы не изменять исходны датасет, в функции так же создаю копию данных."
   ]
  },
  {
   "cell_type": "code",
   "execution_count": 18,
   "metadata": {
    "id": "oL7E-ydIcVhm"
   },
   "outputs": [],
   "source": [
    "def make_features(df, max_lag, rolling_mean_size):\n",
    "    data_copy = data.copy()\n",
    "    data['hour'] = data.index.hour\n",
    "    data['dayofweek'] = data.index.dayofweek\n",
    "    for lag in range(1, max_lag + 1):\n",
    "        data['lag_{}'.format(lag)] = data['num_orders'].shift(lag)\n",
    "    data['rolling_mean'] = data['num_orders'].shift().rolling(rolling_mean_size).mean()\n",
    "    return data"
   ]
  },
  {
   "cell_type": "code",
   "execution_count": 20,
   "metadata": {
    "id": "M3tIHATj8yxA"
   },
   "outputs": [],
   "source": [
    "data1 = make_features(data, 24, 12)"
   ]
  },
  {
   "cell_type": "markdown",
   "metadata": {},
   "source": [
    "<div class=\"alert alert-block alert-success\">\n",
    "<b>Успех:</b> Отлично, что эта функция не изменяет глобальную переменную.\n",
    "</div>"
   ]
  },
  {
   "cell_type": "markdown",
   "metadata": {
    "id": "FzU6Wi2O8-Eu"
   },
   "source": [
    "Разбиваю выборки на обучаемую и тестовую (размером 10% от исходных данных). Устанавливаю параметр shuffle=False, чтоюы данные не перемешивались, шли в хронологическом порядке. Выведу минимальные и максимальные значения выборок, чтобы убедиться, что разбитие произошло корректно."
   ]
  },
  {
   "cell_type": "code",
   "execution_count": 21,
   "metadata": {
    "colab": {
     "base_uri": "https://localhost:8080/"
    },
    "id": "51NsAwt_gCaj",
    "outputId": "d12fca6c-c2d2-408b-cd91-de58f9115c72"
   },
   "outputs": [
    {
     "name": "stdout",
     "output_type": "stream",
     "text": [
      "2018-03-01 00:00:00 2018-08-13 13:00:00\n",
      "2018-08-13 14:00:00 2018-08-31 23:00:00\n"
     ]
    }
   ],
   "source": [
    "train, test = train_test_split(data1, shuffle=False, test_size=0.1)\n",
    "\n",
    "print(train.index.min(), train.index.max())\n",
    "print(test.index.min(), test.index.max())"
   ]
  },
  {
   "cell_type": "markdown",
   "metadata": {
    "id": "rf-0ooQj9f5Q"
   },
   "source": [
    "Получить признаки для первых значений обучающей выборки нельзя: исторических данных по ним нет. Их нужно удалить."
   ]
  },
  {
   "cell_type": "code",
   "execution_count": 22,
   "metadata": {
    "id": "KUJ7dEQ77YOT"
   },
   "outputs": [],
   "source": [
    "train = train.dropna()"
   ]
  },
  {
   "cell_type": "markdown",
   "metadata": {
    "id": "_PPWm8d19owe"
   },
   "source": [
    "Целевой признак, который необходимо предсказать - num_orders, формирую датафреймы с признаками и целевым признаком для каждой из выборок."
   ]
  },
  {
   "cell_type": "code",
   "execution_count": 24,
   "metadata": {
    "id": "fl5sJPSh9khI"
   },
   "outputs": [],
   "source": [
    "target_train = train['num_orders']\n",
    "features_train = train.drop('num_orders', axis=1)\n",
    "\n",
    "features_test = test.drop('num_orders', axis=1)\n",
    "target_test = test['num_orders']"
   ]
  },
  {
   "cell_type": "markdown",
   "metadata": {
    "id": "wdbgaC3j-PfN"
   },
   "source": [
    "Для подбора гиперпараметров буду использовать GridSearchCV. В GridSearchCV нужно использовать TimeSeriesSplit() для параметра cv, так как ряд временной."
   ]
  },
  {
   "cell_type": "markdown",
   "metadata": {},
   "source": [
    "<div class=\"alert alert-block alert-success\">\n",
    "<b>Успех:</b> Разбиение было сделано верно.\n",
    "</div>"
   ]
  },
  {
   "cell_type": "markdown",
   "metadata": {
    "id": "ry8QoY8tB1Nt"
   },
   "source": [
    "### Обучение моделей на обучаемой выборке"
   ]
  },
  {
   "cell_type": "markdown",
   "metadata": {
    "id": "kAm5O4R__J1T"
   },
   "source": [
    "####Линейная регрессия"
   ]
  },
  {
   "cell_type": "code",
   "execution_count": 27,
   "metadata": {
    "colab": {
     "base_uri": "https://localhost:8080/"
    },
    "id": "4yyMe0kH90fQ",
    "outputId": "a325a77f-da23-47e7-a796-04f5dd2b1f4a"
   },
   "outputs": [
    {
     "name": "stdout",
     "output_type": "stream",
     "text": [
      "Best Score для модели Линейной Регрессии: -27.708173431826783\n",
      "Best Hyperparameters для модели Линейной Регрессии: {'fit_intercept': False, 'normalize': True}\n"
     ]
    }
   ],
   "source": [
    "model_lr = LinearRegression()\n",
    "parameters = {'fit_intercept':[True,False], 'normalize':[True,False]}\n",
    "cv = TimeSeriesSplit(n_splits=3)\n",
    "search = GridSearchCV(estimator=model_lr, \n",
    "                      param_grid=parameters, \n",
    "                      cv=cv, \n",
    "                      scoring='neg_root_mean_squared_error', \n",
    "                      verbose=False)\n",
    "\n",
    "result = search.fit(features_train, target_train)\n",
    "print('Best Score для модели Линейной Регрессии: %s' % result.best_score_)\n",
    "print('Best Hyperparameters для модели Линейной Регрессии: %s' % result.best_params_)"
   ]
  },
  {
   "cell_type": "markdown",
   "metadata": {},
   "source": [
    "<div class=\"alert alert-block alert-success\">\n",
    "<b>Успех:</b> Молодец, что использовала подходящий под данные сплиттер!\n",
    "</div>"
   ]
  },
  {
   "cell_type": "markdown",
   "metadata": {
    "id": "ZfuLU3gm_M8U"
   },
   "source": [
    "#### Случайный лес"
   ]
  },
  {
   "cell_type": "code",
   "execution_count": 28,
   "metadata": {
    "colab": {
     "base_uri": "https://localhost:8080/"
    },
    "id": "2GV1waGg-9bT",
    "outputId": "1dfc00e1-890f-4d0e-d3f6-c8a2c649b8f4"
   },
   "outputs": [
    {
     "name": "stdout",
     "output_type": "stream",
     "text": [
      "Best Score для модели случайного леса: -26.79841483103843\n",
      "Best Hyperparameters для модели случайного леса: {'max_depth': 14, 'n_estimators': 70}\n"
     ]
    }
   ],
   "source": [
    "model_forest = RandomForestRegressor(random_state=12345)\n",
    "cv = TimeSeriesSplit(n_splits=3)\n",
    "parametrs = {'n_estimators': range(50, 81, 10),'max_depth': [6,10,14]}\n",
    "search = GridSearchCV(estimator=model_forest, \n",
    "                      param_grid=parametrs,\n",
    "                      cv=cv, \n",
    "                      verbose=False, \n",
    "                      scoring='neg_root_mean_squared_error')\n",
    "result = search.fit(features_train, target_train)\n",
    "\n",
    "print('Best Score для модели случайного леса: %s' % result.best_score_)\n",
    "print('Best Hyperparameters для модели случайного леса: %s' % result.best_params_)"
   ]
  },
  {
   "cell_type": "markdown",
   "metadata": {
    "id": "-HovL28Q_fXR"
   },
   "source": [
    "#### CatBoost"
   ]
  },
  {
   "cell_type": "code",
   "execution_count": null,
   "metadata": {
    "id": "KuVN-Nbv_czt"
   },
   "outputs": [],
   "source": [
    "model_cat = CatBoostRegressor(loss_function='RMSE')\n",
    "cv = TimeSeriesSplit(n_splits=3)\n",
    "parameters = {'learning_rate': [0.1, 0.5],\n",
    "              'iterations': [500],\n",
    "              'depth': [5,9]}\n",
    "\n",
    "search = GridSearchCV(estimator=model_cat, \n",
    "                      param_grid=parameters,\n",
    "                      cv=cv, \n",
    "                      scoring='neg_root_mean_squared_error',\n",
    "                      verbose=False)\n",
    "result = search.fit(features_train, target_train)\n",
    "\n",
    "print('Best Score для модели catboost: %s' % result.best_score_)\n",
    "print('Best Hyperparameters catboost: %s' % result.best_params_)"
   ]
  },
  {
   "cell_type": "markdown",
   "metadata": {
    "id": "oNnF1BpDAoN9"
   },
   "source": [
    "**Примечание** Почему-то для CatBoost параметр verbose=False не работает и в output выходит полотно с перебором всевозможных значений. Для того, чтобы это не занимало большее пространство проекта, output удалила, получившиеся лучшие параметры вставила ниже."
   ]
  },
  {
   "cell_type": "markdown",
   "metadata": {
    "id": "vOGjN70YAkqo"
   },
   "source": [
    "![image.png](data:image/png;base64,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)"
   ]
  },
  {
   "cell_type": "markdown",
   "metadata": {
    "id": "oHZoyivrABgI"
   },
   "source": [
    "#### Light GBM"
   ]
  },
  {
   "cell_type": "code",
   "execution_count": 31,
   "metadata": {
    "colab": {
     "base_uri": "https://localhost:8080/"
    },
    "id": "yN1_8w-5_7ke",
    "outputId": "3698d780-8931-427c-fc66-f231328e7559"
   },
   "outputs": [
    {
     "name": "stdout",
     "output_type": "stream",
     "text": [
      "Best Score для модели Light GBM: -26.755064007701293\n",
      "Best Hyperparameters Light GBM: {'learning_rate': 0.05, 'n_estimators': 500, 'num_leaves': 50}\n"
     ]
    }
   ],
   "source": [
    "model_gbm = LGBMRegressor(random_state=12345)\n",
    "cv = TimeSeriesSplit(n_splits=3) \n",
    "parameters = {'n_estimators': [500, 1000],\n",
    "              'num_leaves': [50,80], \n",
    "              'learning_rate':[0.05, 0.1, 0.5]}\n",
    "\n",
    "search = GridSearchCV(estimator=model_gbm, \n",
    "                      param_grid=parameters,\n",
    "                      cv=cv, \n",
    "                      verbose=False, \n",
    "                      scoring='neg_root_mean_squared_error')\n",
    "\n",
    "result = search.fit(features_train, target_train)\n",
    "\n",
    "print('Best Score для модели Light GBM: %s' % result.best_score_)\n",
    "print('Best Hyperparameters Light GBM: %s' % result.best_params_)"
   ]
  },
  {
   "cell_type": "markdown",
   "metadata": {
    "id": "UadIST96BOEa"
   },
   "source": [
    "**Вывод** \n",
    "Все модели при обучении и предсказании на обучаемой выборке показали приемлемый результат (RMSE менее 48). Лучше всего результат у модели CatBoost, далее у модели Light GBM. Худший результат у модели Linear Regression. Метрика качества могла бы быть еще лучше, если перебирать большее количество гиперпараметров. Я в обучении ограничилась некоторым количеством параметров, чтобы не перегружать среду выполнения, а так же сэкономить время выполнения проекта."
   ]
  },
  {
   "cell_type": "markdown",
   "metadata": {},
   "source": [
    "<div class=\"alert alert-block alert-success\">\n",
    "<b>Успех:</b> Молодец, что попробовала разные модели в этом шаге!\n",
    "</div>"
   ]
  },
  {
   "cell_type": "markdown",
   "metadata": {
    "id": "YGnFpTsVB8M0"
   },
   "source": [
    "### Прогноз на тестовой выборке"
   ]
  },
  {
   "cell_type": "code",
   "execution_count": 32,
   "metadata": {
    "id": "Aw1oZdzlCVn8"
   },
   "outputs": [],
   "source": [
    "def time_rmse (model, features_train, target_train, features_test, target_test):\n",
    "    start = time.time()\n",
    "    model.fit(features_train, target_train)\n",
    "    end = time.time()\n",
    "    time_to_fit = end - start\n",
    "    \n",
    "    start = time.time()\n",
    "    predictions = model.predict(features_test)\n",
    "    end = time.time()\n",
    "    time_to_predict = end - start\n",
    "    \n",
    "    rmse = mean_squared_error(target_test, predictions)**0.5\n",
    "    \n",
    "    return print(f'Метрика качества (RMSE) модели: {rmse}; Время обучения модели: {time_to_fit}; Скорость предсказания: {time_to_predict}')"
   ]
  },
  {
   "cell_type": "markdown",
   "metadata": {
    "id": "_XtqoOeqCBgN"
   },
   "source": [
    "#### Линейная регрессия"
   ]
  },
  {
   "cell_type": "code",
   "execution_count": 33,
   "metadata": {
    "colab": {
     "base_uri": "https://localhost:8080/"
    },
    "id": "xRzvO6CyAUUW",
    "outputId": "2f5960ae-4de6-48f2-ffb7-88c2372ab2c4"
   },
   "outputs": [
    {
     "name": "stdout",
     "output_type": "stream",
     "text": [
      "Метрика качества (RMSE) модели: 45.19222075742227; Время обучения модели: 0.018178939819335938; Скорость предсказания: 0.00787663459777832\n"
     ]
    }
   ],
   "source": [
    "model = LinearRegression(fit_intercept=False, normalize=True)\n",
    "time_rmse(model, features_train, target_train, features_test, target_test)"
   ]
  },
  {
   "cell_type": "markdown",
   "metadata": {
    "id": "cY16zJK1Cutz"
   },
   "source": [
    "#### Случайный лес"
   ]
  },
  {
   "cell_type": "code",
   "execution_count": 34,
   "metadata": {
    "colab": {
     "base_uri": "https://localhost:8080/"
    },
    "id": "AJRNuw8pCpbN",
    "outputId": "690f7811-5cb1-4631-9cf0-a6c4bd704eeb"
   },
   "outputs": [
    {
     "name": "stdout",
     "output_type": "stream",
     "text": [
      "Метрика качества (RMSE) модели: 43.50794579199192; Время обучения модели: 5.266676187515259; Скорость предсказания: 0.027139902114868164\n"
     ]
    }
   ],
   "source": [
    "model = RandomForestRegressor(max_depth=14, n_estimators=70)\n",
    "time_rmse(model, features_train, target_train, features_test, target_test)"
   ]
  },
  {
   "cell_type": "markdown",
   "metadata": {
    "id": "zoWdaEy2C81B"
   },
   "source": [
    "#### CatBoost"
   ]
  },
  {
   "cell_type": "code",
   "execution_count": 35,
   "metadata": {
    "colab": {
     "base_uri": "https://localhost:8080/"
    },
    "id": "aTOCMiT7C5vK",
    "outputId": "9bf9b03d-265c-4712-be42-735fe3dfcb61"
   },
   "outputs": [
    {
     "name": "stdout",
     "output_type": "stream",
     "text": [
      "0:\tlearn: 36.9507113\ttotal: 14.3ms\tremaining: 7.13s\n",
      "1:\tlearn: 35.3964026\ttotal: 27.2ms\tremaining: 6.78s\n",
      "2:\tlearn: 33.9825388\ttotal: 39.3ms\tremaining: 6.51s\n",
      "3:\tlearn: 32.7843730\ttotal: 57.5ms\tremaining: 7.13s\n",
      "4:\tlearn: 31.7881169\ttotal: 73.8ms\tremaining: 7.3s\n",
      "5:\tlearn: 30.8050151\ttotal: 84.1ms\tremaining: 6.92s\n",
      "6:\tlearn: 30.0024498\ttotal: 105ms\tremaining: 7.37s\n",
      "7:\tlearn: 29.3208336\ttotal: 118ms\tremaining: 7.24s\n",
      "8:\tlearn: 28.6395772\ttotal: 137ms\tremaining: 7.47s\n",
      "9:\tlearn: 28.0765696\ttotal: 157ms\tremaining: 7.7s\n",
      "10:\tlearn: 27.5849661\ttotal: 168ms\tremaining: 7.48s\n",
      "11:\tlearn: 27.0898166\ttotal: 180ms\tremaining: 7.33s\n",
      "12:\tlearn: 26.6738986\ttotal: 197ms\tremaining: 7.37s\n",
      "13:\tlearn: 26.2863401\ttotal: 210ms\tremaining: 7.3s\n",
      "14:\tlearn: 25.9838123\ttotal: 231ms\tremaining: 7.46s\n",
      "15:\tlearn: 25.7068820\ttotal: 246ms\tremaining: 7.46s\n",
      "16:\tlearn: 25.4852533\ttotal: 262ms\tremaining: 7.45s\n",
      "17:\tlearn: 25.2339144\ttotal: 279ms\tremaining: 7.48s\n",
      "18:\tlearn: 25.0112711\ttotal: 294ms\tremaining: 7.46s\n",
      "19:\tlearn: 24.8487977\ttotal: 299ms\tremaining: 7.18s\n",
      "20:\tlearn: 24.7007952\ttotal: 305ms\tremaining: 6.97s\n",
      "21:\tlearn: 24.5579522\ttotal: 313ms\tremaining: 6.81s\n",
      "22:\tlearn: 24.4059876\ttotal: 329ms\tremaining: 6.82s\n",
      "23:\tlearn: 24.2852687\ttotal: 342ms\tremaining: 6.79s\n",
      "24:\tlearn: 24.1454758\ttotal: 358ms\tremaining: 6.8s\n",
      "25:\tlearn: 24.0002866\ttotal: 374ms\tremaining: 6.82s\n",
      "26:\tlearn: 23.9539406\ttotal: 389ms\tremaining: 6.82s\n",
      "27:\tlearn: 23.9268215\ttotal: 405ms\tremaining: 6.83s\n",
      "28:\tlearn: 23.8152851\ttotal: 420ms\tremaining: 6.83s\n",
      "29:\tlearn: 23.7686426\ttotal: 425ms\tremaining: 6.66s\n",
      "30:\tlearn: 23.6550999\ttotal: 429ms\tremaining: 6.5s\n",
      "31:\tlearn: 23.5860247\ttotal: 435ms\tremaining: 6.37s\n",
      "32:\tlearn: 23.5681518\ttotal: 443ms\tremaining: 6.27s\n",
      "33:\tlearn: 23.5450108\ttotal: 449ms\tremaining: 6.15s\n",
      "34:\tlearn: 23.4018117\ttotal: 453ms\tremaining: 6.02s\n",
      "35:\tlearn: 23.3133980\ttotal: 459ms\tremaining: 5.92s\n",
      "36:\tlearn: 23.1905495\ttotal: 465ms\tremaining: 5.82s\n",
      "37:\tlearn: 23.1146247\ttotal: 470ms\tremaining: 5.71s\n",
      "38:\tlearn: 23.0453372\ttotal: 475ms\tremaining: 5.62s\n",
      "39:\tlearn: 23.0075513\ttotal: 481ms\tremaining: 5.53s\n",
      "40:\tlearn: 22.9934671\ttotal: 486ms\tremaining: 5.44s\n",
      "41:\tlearn: 22.9706572\ttotal: 492ms\tremaining: 5.36s\n",
      "42:\tlearn: 22.8711595\ttotal: 496ms\tremaining: 5.27s\n",
      "43:\tlearn: 22.8397480\ttotal: 503ms\tremaining: 5.21s\n",
      "44:\tlearn: 22.7567708\ttotal: 508ms\tremaining: 5.13s\n",
      "45:\tlearn: 22.6950154\ttotal: 519ms\tremaining: 5.12s\n",
      "46:\tlearn: 22.6054496\ttotal: 531ms\tremaining: 5.11s\n",
      "47:\tlearn: 22.5934341\ttotal: 545ms\tremaining: 5.13s\n",
      "48:\tlearn: 22.5310890\ttotal: 558ms\tremaining: 5.13s\n",
      "49:\tlearn: 22.4824743\ttotal: 570ms\tremaining: 5.13s\n",
      "50:\tlearn: 22.4712010\ttotal: 585ms\tremaining: 5.15s\n",
      "51:\tlearn: 22.3807408\ttotal: 602ms\tremaining: 5.18s\n",
      "52:\tlearn: 22.3249197\ttotal: 619ms\tremaining: 5.22s\n",
      "53:\tlearn: 22.2796414\ttotal: 634ms\tremaining: 5.24s\n",
      "54:\tlearn: 22.2018115\ttotal: 647ms\tremaining: 5.24s\n",
      "55:\tlearn: 22.1892242\ttotal: 662ms\tremaining: 5.25s\n",
      "56:\tlearn: 22.1459333\ttotal: 677ms\tremaining: 5.26s\n",
      "57:\tlearn: 22.1372597\ttotal: 684ms\tremaining: 5.21s\n",
      "58:\tlearn: 22.1297713\ttotal: 689ms\tremaining: 5.15s\n",
      "59:\tlearn: 22.0974278\ttotal: 695ms\tremaining: 5.1s\n",
      "60:\tlearn: 22.0496791\ttotal: 702ms\tremaining: 5.05s\n",
      "61:\tlearn: 22.0338011\ttotal: 707ms\tremaining: 4.99s\n",
      "62:\tlearn: 22.0258555\ttotal: 713ms\tremaining: 4.95s\n",
      "63:\tlearn: 21.9963967\ttotal: 717ms\tremaining: 4.88s\n",
      "64:\tlearn: 21.9902916\ttotal: 723ms\tremaining: 4.84s\n",
      "65:\tlearn: 21.9232926\ttotal: 728ms\tremaining: 4.78s\n",
      "66:\tlearn: 21.9100468\ttotal: 738ms\tremaining: 4.77s\n",
      "67:\tlearn: 21.8632720\ttotal: 753ms\tremaining: 4.78s\n",
      "68:\tlearn: 21.8566399\ttotal: 769ms\tremaining: 4.8s\n",
      "69:\tlearn: 21.8148707\ttotal: 788ms\tremaining: 4.84s\n",
      "70:\tlearn: 21.7851249\ttotal: 796ms\tremaining: 4.81s\n",
      "71:\tlearn: 21.7752431\ttotal: 801ms\tremaining: 4.76s\n",
      "72:\tlearn: 21.6985528\ttotal: 814ms\tremaining: 4.76s\n",
      "73:\tlearn: 21.6692554\ttotal: 828ms\tremaining: 4.76s\n",
      "74:\tlearn: 21.6576524\ttotal: 839ms\tremaining: 4.76s\n",
      "75:\tlearn: 21.6200493\ttotal: 855ms\tremaining: 4.77s\n",
      "76:\tlearn: 21.5616969\ttotal: 866ms\tremaining: 4.76s\n",
      "77:\tlearn: 21.5227735\ttotal: 880ms\tremaining: 4.76s\n",
      "78:\tlearn: 21.5035332\ttotal: 897ms\tremaining: 4.78s\n",
      "79:\tlearn: 21.4934824\ttotal: 909ms\tremaining: 4.77s\n",
      "80:\tlearn: 21.4357047\ttotal: 924ms\tremaining: 4.78s\n",
      "81:\tlearn: 21.3923544\ttotal: 937ms\tremaining: 4.78s\n",
      "82:\tlearn: 21.3816989\ttotal: 949ms\tremaining: 4.77s\n",
      "83:\tlearn: 21.3424063\ttotal: 958ms\tremaining: 4.74s\n",
      "84:\tlearn: 21.2966664\ttotal: 965ms\tremaining: 4.71s\n",
      "85:\tlearn: 21.2629136\ttotal: 969ms\tremaining: 4.67s\n",
      "86:\tlearn: 21.2330189\ttotal: 977ms\tremaining: 4.64s\n",
      "87:\tlearn: 21.1940141\ttotal: 981ms\tremaining: 4.59s\n",
      "88:\tlearn: 21.1500287\ttotal: 987ms\tremaining: 4.56s\n",
      "89:\tlearn: 21.1443541\ttotal: 991ms\tremaining: 4.52s\n",
      "90:\tlearn: 21.0866077\ttotal: 997ms\tremaining: 4.48s\n",
      "91:\tlearn: 21.0471935\ttotal: 1.01s\tremaining: 4.48s\n",
      "92:\tlearn: 20.9961038\ttotal: 1.01s\tremaining: 4.44s\n",
      "93:\tlearn: 20.9456207\ttotal: 1.03s\tremaining: 4.44s\n",
      "94:\tlearn: 20.9418405\ttotal: 1.03s\tremaining: 4.41s\n",
      "95:\tlearn: 20.9168944\ttotal: 1.04s\tremaining: 4.38s\n",
      "96:\tlearn: 20.8927125\ttotal: 1.04s\tremaining: 4.34s\n",
      "97:\tlearn: 20.8664444\ttotal: 1.05s\tremaining: 4.31s\n",
      "98:\tlearn: 20.8607080\ttotal: 1.06s\tremaining: 4.29s\n",
      "99:\tlearn: 20.8145517\ttotal: 1.06s\tremaining: 4.26s\n",
      "100:\tlearn: 20.7570506\ttotal: 1.07s\tremaining: 4.22s\n",
      "101:\tlearn: 20.7159890\ttotal: 1.07s\tremaining: 4.2s\n",
      "102:\tlearn: 20.7118606\ttotal: 1.08s\tremaining: 4.16s\n",
      "103:\tlearn: 20.6733669\ttotal: 1.08s\tremaining: 4.13s\n",
      "104:\tlearn: 20.6301293\ttotal: 1.09s\tremaining: 4.1s\n",
      "105:\tlearn: 20.5952615\ttotal: 1.09s\tremaining: 4.07s\n",
      "106:\tlearn: 20.5469964\ttotal: 1.1s\tremaining: 4.04s\n",
      "107:\tlearn: 20.5433786\ttotal: 1.11s\tremaining: 4.04s\n",
      "108:\tlearn: 20.4658947\ttotal: 1.12s\tremaining: 4.03s\n",
      "109:\tlearn: 20.4606497\ttotal: 1.14s\tremaining: 4.04s\n",
      "110:\tlearn: 20.4149920\ttotal: 1.15s\tremaining: 4.04s\n",
      "111:\tlearn: 20.3644708\ttotal: 1.17s\tremaining: 4.05s\n",
      "112:\tlearn: 20.3564942\ttotal: 1.18s\tremaining: 4.03s\n",
      "113:\tlearn: 20.3276232\ttotal: 1.18s\tremaining: 4s\n",
      "114:\tlearn: 20.3038103\ttotal: 1.19s\tremaining: 3.97s\n",
      "115:\tlearn: 20.2525392\ttotal: 1.19s\tremaining: 3.95s\n",
      "116:\tlearn: 20.2143966\ttotal: 1.21s\tremaining: 3.96s\n",
      "117:\tlearn: 20.1821610\ttotal: 1.22s\tremaining: 3.96s\n",
      "118:\tlearn: 20.1531597\ttotal: 1.24s\tremaining: 3.97s\n",
      "119:\tlearn: 20.0977976\ttotal: 1.25s\tremaining: 3.96s\n",
      "120:\tlearn: 20.0640358\ttotal: 1.26s\tremaining: 3.94s\n",
      "121:\tlearn: 20.0148877\ttotal: 1.26s\tremaining: 3.92s\n",
      "122:\tlearn: 20.0113511\ttotal: 1.27s\tremaining: 3.89s\n",
      "123:\tlearn: 19.9789091\ttotal: 1.27s\tremaining: 3.87s\n",
      "124:\tlearn: 19.9737579\ttotal: 1.28s\tremaining: 3.84s\n",
      "125:\tlearn: 19.9474425\ttotal: 1.28s\tremaining: 3.81s\n",
      "126:\tlearn: 19.9089836\ttotal: 1.29s\tremaining: 3.8s\n",
      "127:\tlearn: 19.8974853\ttotal: 1.31s\tremaining: 3.8s\n",
      "128:\tlearn: 19.8683661\ttotal: 1.32s\tremaining: 3.79s\n",
      "129:\tlearn: 19.8213462\ttotal: 1.34s\tremaining: 3.8s\n",
      "130:\tlearn: 19.7922104\ttotal: 1.36s\tremaining: 3.82s\n",
      "131:\tlearn: 19.7452919\ttotal: 1.37s\tremaining: 3.83s\n",
      "132:\tlearn: 19.7238574\ttotal: 1.39s\tremaining: 3.84s\n",
      "133:\tlearn: 19.6844975\ttotal: 1.4s\tremaining: 3.83s\n",
      "134:\tlearn: 19.6615399\ttotal: 1.43s\tremaining: 3.87s\n",
      "135:\tlearn: 19.6196778\ttotal: 1.45s\tremaining: 3.87s\n",
      "136:\tlearn: 19.6144832\ttotal: 1.45s\tremaining: 3.85s\n",
      "137:\tlearn: 19.5597391\ttotal: 1.46s\tremaining: 3.83s\n",
      "138:\tlearn: 19.5166370\ttotal: 1.47s\tremaining: 3.81s\n",
      "139:\tlearn: 19.4908619\ttotal: 1.47s\tremaining: 3.78s\n",
      "140:\tlearn: 19.4672289\ttotal: 1.48s\tremaining: 3.76s\n",
      "141:\tlearn: 19.4459640\ttotal: 1.48s\tremaining: 3.74s\n",
      "142:\tlearn: 19.4153367\ttotal: 1.49s\tremaining: 3.71s\n",
      "143:\tlearn: 19.3685183\ttotal: 1.49s\tremaining: 3.69s\n",
      "144:\tlearn: 19.3337565\ttotal: 1.5s\tremaining: 3.67s\n",
      "145:\tlearn: 19.3313704\ttotal: 1.5s\tremaining: 3.64s\n",
      "146:\tlearn: 19.3047137\ttotal: 1.51s\tremaining: 3.62s\n",
      "147:\tlearn: 19.2727501\ttotal: 1.51s\tremaining: 3.6s\n",
      "148:\tlearn: 19.2401435\ttotal: 1.52s\tremaining: 3.58s\n",
      "149:\tlearn: 19.2056157\ttotal: 1.52s\tremaining: 3.56s\n",
      "150:\tlearn: 19.1706784\ttotal: 1.53s\tremaining: 3.54s\n",
      "151:\tlearn: 19.1528397\ttotal: 1.54s\tremaining: 3.52s\n",
      "152:\tlearn: 19.1211614\ttotal: 1.54s\tremaining: 3.5s\n",
      "153:\tlearn: 19.0912455\ttotal: 1.55s\tremaining: 3.48s\n",
      "154:\tlearn: 19.0524928\ttotal: 1.55s\tremaining: 3.46s\n",
      "155:\tlearn: 19.0493711\ttotal: 1.56s\tremaining: 3.44s\n",
      "156:\tlearn: 19.0118946\ttotal: 1.56s\tremaining: 3.42s\n",
      "157:\tlearn: 19.0094958\ttotal: 1.57s\tremaining: 3.39s\n",
      "158:\tlearn: 19.0054594\ttotal: 1.59s\tremaining: 3.4s\n",
      "159:\tlearn: 18.9645365\ttotal: 1.6s\tremaining: 3.4s\n",
      "160:\tlearn: 18.9362400\ttotal: 1.61s\tremaining: 3.39s\n",
      "161:\tlearn: 18.8974615\ttotal: 1.61s\tremaining: 3.37s\n",
      "162:\tlearn: 18.8697610\ttotal: 1.62s\tremaining: 3.35s\n",
      "163:\tlearn: 18.8340821\ttotal: 1.62s\tremaining: 3.33s\n",
      "164:\tlearn: 18.7941431\ttotal: 1.63s\tremaining: 3.32s\n",
      "165:\tlearn: 18.7704897\ttotal: 1.65s\tremaining: 3.31s\n",
      "166:\tlearn: 18.7402683\ttotal: 1.66s\tremaining: 3.32s\n",
      "167:\tlearn: 18.7100321\ttotal: 1.68s\tremaining: 3.32s\n",
      "168:\tlearn: 18.6838377\ttotal: 1.69s\tremaining: 3.32s\n",
      "169:\tlearn: 18.6559442\ttotal: 1.71s\tremaining: 3.32s\n",
      "170:\tlearn: 18.6358781\ttotal: 1.72s\tremaining: 3.31s\n",
      "171:\tlearn: 18.6043049\ttotal: 1.73s\tremaining: 3.29s\n",
      "172:\tlearn: 18.5774784\ttotal: 1.73s\tremaining: 3.27s\n",
      "173:\tlearn: 18.5411003\ttotal: 1.74s\tremaining: 3.25s\n",
      "174:\tlearn: 18.5391295\ttotal: 1.74s\tremaining: 3.24s\n",
      "175:\tlearn: 18.5141698\ttotal: 1.75s\tremaining: 3.22s\n",
      "176:\tlearn: 18.4872011\ttotal: 1.75s\tremaining: 3.2s\n",
      "177:\tlearn: 18.4575884\ttotal: 1.76s\tremaining: 3.18s\n",
      "178:\tlearn: 18.4327240\ttotal: 1.76s\tremaining: 3.16s\n",
      "179:\tlearn: 18.3966452\ttotal: 1.77s\tremaining: 3.16s\n",
      "180:\tlearn: 18.3949588\ttotal: 1.78s\tremaining: 3.14s\n",
      "181:\tlearn: 18.3627255\ttotal: 1.79s\tremaining: 3.12s\n",
      "182:\tlearn: 18.3337687\ttotal: 1.8s\tremaining: 3.11s\n",
      "183:\tlearn: 18.2940106\ttotal: 1.81s\tremaining: 3.1s\n",
      "184:\tlearn: 18.2678287\ttotal: 1.81s\tremaining: 3.08s\n",
      "185:\tlearn: 18.2432418\ttotal: 1.82s\tremaining: 3.07s\n",
      "186:\tlearn: 18.2402826\ttotal: 1.82s\tremaining: 3.05s\n",
      "187:\tlearn: 18.2095468\ttotal: 1.83s\tremaining: 3.04s\n",
      "188:\tlearn: 18.1869506\ttotal: 1.83s\tremaining: 3.02s\n",
      "189:\tlearn: 18.1576786\ttotal: 1.84s\tremaining: 3s\n",
      "190:\tlearn: 18.1332677\ttotal: 1.85s\tremaining: 2.99s\n",
      "191:\tlearn: 18.1011913\ttotal: 1.85s\tremaining: 2.97s\n",
      "192:\tlearn: 18.0748540\ttotal: 1.85s\tremaining: 2.95s\n",
      "193:\tlearn: 18.0440930\ttotal: 1.86s\tremaining: 2.94s\n",
      "194:\tlearn: 18.0239071\ttotal: 1.87s\tremaining: 2.92s\n",
      "195:\tlearn: 18.0007502\ttotal: 1.87s\tremaining: 2.9s\n",
      "196:\tlearn: 17.9925738\ttotal: 1.88s\tremaining: 2.89s\n",
      "197:\tlearn: 17.9705790\ttotal: 1.88s\tremaining: 2.87s\n",
      "198:\tlearn: 17.9690350\ttotal: 1.89s\tremaining: 2.85s\n",
      "199:\tlearn: 17.9367025\ttotal: 1.89s\tremaining: 2.84s\n",
      "200:\tlearn: 17.9056513\ttotal: 1.9s\tremaining: 2.83s\n",
      "201:\tlearn: 17.8964104\ttotal: 1.91s\tremaining: 2.81s\n",
      "202:\tlearn: 17.8724403\ttotal: 1.91s\tremaining: 2.8s\n",
      "203:\tlearn: 17.8580866\ttotal: 1.92s\tremaining: 2.78s\n",
      "204:\tlearn: 17.8559736\ttotal: 1.92s\tremaining: 2.77s\n",
      "205:\tlearn: 17.8288283\ttotal: 1.93s\tremaining: 2.75s\n",
      "206:\tlearn: 17.8111706\ttotal: 1.93s\tremaining: 2.74s\n",
      "207:\tlearn: 17.7905798\ttotal: 1.95s\tremaining: 2.73s\n",
      "208:\tlearn: 17.7725165\ttotal: 1.97s\tremaining: 2.74s\n",
      "209:\tlearn: 17.7457111\ttotal: 1.98s\tremaining: 2.73s\n",
      "210:\tlearn: 17.7296512\ttotal: 1.99s\tremaining: 2.73s\n",
      "211:\tlearn: 17.7025157\ttotal: 2s\tremaining: 2.72s\n",
      "212:\tlearn: 17.6760879\ttotal: 2.02s\tremaining: 2.72s\n",
      "213:\tlearn: 17.6473011\ttotal: 2.03s\tremaining: 2.72s\n",
      "214:\tlearn: 17.6129239\ttotal: 2.05s\tremaining: 2.72s\n",
      "215:\tlearn: 17.5933573\ttotal: 2.07s\tremaining: 2.72s\n",
      "216:\tlearn: 17.5693945\ttotal: 2.08s\tremaining: 2.71s\n",
      "217:\tlearn: 17.5426047\ttotal: 2.08s\tremaining: 2.69s\n",
      "218:\tlearn: 17.5142392\ttotal: 2.09s\tremaining: 2.68s\n",
      "219:\tlearn: 17.5039153\ttotal: 2.09s\tremaining: 2.67s\n",
      "220:\tlearn: 17.4819708\ttotal: 2.1s\tremaining: 2.65s\n",
      "221:\tlearn: 17.4613774\ttotal: 2.1s\tremaining: 2.63s\n",
      "222:\tlearn: 17.4558008\ttotal: 2.11s\tremaining: 2.62s\n",
      "223:\tlearn: 17.4479863\ttotal: 2.12s\tremaining: 2.61s\n",
      "224:\tlearn: 17.4295892\ttotal: 2.12s\tremaining: 2.59s\n",
      "225:\tlearn: 17.4156215\ttotal: 2.13s\tremaining: 2.58s\n",
      "226:\tlearn: 17.3947675\ttotal: 2.14s\tremaining: 2.57s\n",
      "227:\tlearn: 17.3787140\ttotal: 2.15s\tremaining: 2.56s\n",
      "228:\tlearn: 17.3514037\ttotal: 2.17s\tremaining: 2.57s\n",
      "229:\tlearn: 17.3313393\ttotal: 2.19s\tremaining: 2.57s\n",
      "230:\tlearn: 17.3017434\ttotal: 2.21s\tremaining: 2.57s\n",
      "231:\tlearn: 17.2777898\ttotal: 2.22s\tremaining: 2.56s\n",
      "232:\tlearn: 17.2573845\ttotal: 2.23s\tremaining: 2.56s\n",
      "233:\tlearn: 17.2392264\ttotal: 2.25s\tremaining: 2.56s\n",
      "234:\tlearn: 17.2136192\ttotal: 2.27s\tremaining: 2.56s\n",
      "235:\tlearn: 17.1928542\ttotal: 2.28s\tremaining: 2.56s\n",
      "236:\tlearn: 17.1711160\ttotal: 2.3s\tremaining: 2.55s\n",
      "237:\tlearn: 17.1545806\ttotal: 2.31s\tremaining: 2.55s\n",
      "238:\tlearn: 17.1340536\ttotal: 2.33s\tremaining: 2.54s\n",
      "239:\tlearn: 17.1263066\ttotal: 2.35s\tremaining: 2.54s\n",
      "240:\tlearn: 17.1029929\ttotal: 2.37s\tremaining: 2.55s\n",
      "241:\tlearn: 17.0855058\ttotal: 2.38s\tremaining: 2.54s\n",
      "242:\tlearn: 17.0650881\ttotal: 2.4s\tremaining: 2.54s\n",
      "243:\tlearn: 17.0489026\ttotal: 2.41s\tremaining: 2.53s\n",
      "244:\tlearn: 17.0213703\ttotal: 2.42s\tremaining: 2.52s\n",
      "245:\tlearn: 17.0009995\ttotal: 2.43s\tremaining: 2.51s\n",
      "246:\tlearn: 16.9781075\ttotal: 2.44s\tremaining: 2.49s\n",
      "247:\tlearn: 16.9643631\ttotal: 2.44s\tremaining: 2.48s\n",
      "248:\tlearn: 16.9423296\ttotal: 2.45s\tremaining: 2.47s\n",
      "249:\tlearn: 16.9272835\ttotal: 2.45s\tremaining: 2.45s\n",
      "250:\tlearn: 16.9024158\ttotal: 2.46s\tremaining: 2.44s\n",
      "251:\tlearn: 16.8836591\ttotal: 2.47s\tremaining: 2.43s\n",
      "252:\tlearn: 16.8825563\ttotal: 2.48s\tremaining: 2.42s\n",
      "253:\tlearn: 16.8593952\ttotal: 2.48s\tremaining: 2.41s\n",
      "254:\tlearn: 16.8488117\ttotal: 2.49s\tremaining: 2.39s\n",
      "255:\tlearn: 16.8376623\ttotal: 2.5s\tremaining: 2.38s\n",
      "256:\tlearn: 16.8152369\ttotal: 2.5s\tremaining: 2.37s\n",
      "257:\tlearn: 16.8022485\ttotal: 2.51s\tremaining: 2.35s\n",
      "258:\tlearn: 16.7760850\ttotal: 2.52s\tremaining: 2.34s\n",
      "259:\tlearn: 16.7648059\ttotal: 2.52s\tremaining: 2.33s\n",
      "260:\tlearn: 16.7452339\ttotal: 2.54s\tremaining: 2.32s\n",
      "261:\tlearn: 16.7215660\ttotal: 2.55s\tremaining: 2.32s\n",
      "262:\tlearn: 16.7086335\ttotal: 2.56s\tremaining: 2.31s\n",
      "263:\tlearn: 16.6935443\ttotal: 2.58s\tremaining: 2.31s\n",
      "264:\tlearn: 16.6669286\ttotal: 2.6s\tremaining: 2.31s\n",
      "265:\tlearn: 16.6481186\ttotal: 2.61s\tremaining: 2.3s\n",
      "266:\tlearn: 16.6194434\ttotal: 2.62s\tremaining: 2.28s\n",
      "267:\tlearn: 16.6035768\ttotal: 2.63s\tremaining: 2.28s\n",
      "268:\tlearn: 16.5824716\ttotal: 2.65s\tremaining: 2.27s\n",
      "269:\tlearn: 16.5643055\ttotal: 2.66s\tremaining: 2.27s\n",
      "270:\tlearn: 16.5443233\ttotal: 2.68s\tremaining: 2.27s\n",
      "271:\tlearn: 16.5205472\ttotal: 2.69s\tremaining: 2.26s\n",
      "272:\tlearn: 16.5045502\ttotal: 2.71s\tremaining: 2.25s\n",
      "273:\tlearn: 16.4836751\ttotal: 2.72s\tremaining: 2.24s\n",
      "274:\tlearn: 16.4600597\ttotal: 2.73s\tremaining: 2.23s\n",
      "275:\tlearn: 16.4418682\ttotal: 2.75s\tremaining: 2.23s\n",
      "276:\tlearn: 16.4158069\ttotal: 2.76s\tremaining: 2.22s\n",
      "277:\tlearn: 16.4145557\ttotal: 2.78s\tremaining: 2.22s\n",
      "278:\tlearn: 16.3911784\ttotal: 2.8s\tremaining: 2.21s\n",
      "279:\tlearn: 16.3715511\ttotal: 2.81s\tremaining: 2.21s\n",
      "280:\tlearn: 16.3525734\ttotal: 2.83s\tremaining: 2.21s\n",
      "281:\tlearn: 16.3393288\ttotal: 2.84s\tremaining: 2.19s\n",
      "282:\tlearn: 16.3217074\ttotal: 2.85s\tremaining: 2.19s\n",
      "283:\tlearn: 16.3181547\ttotal: 2.86s\tremaining: 2.18s\n",
      "284:\tlearn: 16.3044354\ttotal: 2.87s\tremaining: 2.17s\n",
      "285:\tlearn: 16.2880138\ttotal: 2.88s\tremaining: 2.15s\n",
      "286:\tlearn: 16.2724874\ttotal: 2.88s\tremaining: 2.14s\n",
      "287:\tlearn: 16.2561350\ttotal: 2.89s\tremaining: 2.13s\n",
      "288:\tlearn: 16.2402900\ttotal: 2.89s\tremaining: 2.11s\n",
      "289:\tlearn: 16.2165415\ttotal: 2.9s\tremaining: 2.1s\n",
      "290:\tlearn: 16.2011242\ttotal: 2.9s\tremaining: 2.09s\n",
      "291:\tlearn: 16.1977461\ttotal: 2.91s\tremaining: 2.07s\n",
      "292:\tlearn: 16.1775154\ttotal: 2.93s\tremaining: 2.07s\n",
      "293:\tlearn: 16.1588696\ttotal: 2.95s\tremaining: 2.07s\n",
      "294:\tlearn: 16.1428298\ttotal: 2.96s\tremaining: 2.06s\n",
      "295:\tlearn: 16.1235833\ttotal: 2.98s\tremaining: 2.06s\n",
      "296:\tlearn: 16.1002902\ttotal: 3s\tremaining: 2.05s\n",
      "297:\tlearn: 16.0878432\ttotal: 3.01s\tremaining: 2.04s\n",
      "298:\tlearn: 16.0666214\ttotal: 3.03s\tremaining: 2.04s\n",
      "299:\tlearn: 16.0442844\ttotal: 3.04s\tremaining: 2.03s\n",
      "300:\tlearn: 16.0304209\ttotal: 3.05s\tremaining: 2.02s\n",
      "301:\tlearn: 16.0045526\ttotal: 3.06s\tremaining: 2.01s\n",
      "302:\tlearn: 15.9813411\ttotal: 3.08s\tremaining: 2s\n",
      "303:\tlearn: 15.9631912\ttotal: 3.09s\tremaining: 2s\n",
      "304:\tlearn: 15.9350622\ttotal: 3.1s\tremaining: 1.99s\n",
      "305:\tlearn: 15.9202512\ttotal: 3.11s\tremaining: 1.97s\n",
      "306:\tlearn: 15.8989424\ttotal: 3.12s\tremaining: 1.96s\n",
      "307:\tlearn: 15.8820303\ttotal: 3.12s\tremaining: 1.95s\n",
      "308:\tlearn: 15.8675105\ttotal: 3.13s\tremaining: 1.93s\n",
      "309:\tlearn: 15.8493226\ttotal: 3.13s\tremaining: 1.92s\n",
      "310:\tlearn: 15.8303381\ttotal: 3.14s\tremaining: 1.91s\n",
      "311:\tlearn: 15.8260851\ttotal: 3.15s\tremaining: 1.9s\n",
      "312:\tlearn: 15.8076850\ttotal: 3.15s\tremaining: 1.88s\n",
      "313:\tlearn: 15.7974252\ttotal: 3.16s\tremaining: 1.87s\n",
      "314:\tlearn: 15.7751548\ttotal: 3.17s\tremaining: 1.86s\n",
      "315:\tlearn: 15.7624974\ttotal: 3.17s\tremaining: 1.85s\n",
      "316:\tlearn: 15.7463962\ttotal: 3.18s\tremaining: 1.83s\n",
      "317:\tlearn: 15.7319227\ttotal: 3.18s\tremaining: 1.82s\n",
      "318:\tlearn: 15.7049827\ttotal: 3.19s\tremaining: 1.81s\n",
      "319:\tlearn: 15.6817016\ttotal: 3.2s\tremaining: 1.8s\n",
      "320:\tlearn: 15.6588377\ttotal: 3.2s\tremaining: 1.79s\n",
      "321:\tlearn: 15.6467207\ttotal: 3.21s\tremaining: 1.77s\n",
      "322:\tlearn: 15.6348669\ttotal: 3.21s\tremaining: 1.76s\n",
      "323:\tlearn: 15.6239719\ttotal: 3.22s\tremaining: 1.75s\n",
      "324:\tlearn: 15.6085518\ttotal: 3.23s\tremaining: 1.74s\n",
      "325:\tlearn: 15.6074624\ttotal: 3.23s\tremaining: 1.72s\n",
      "326:\tlearn: 15.5995735\ttotal: 3.24s\tremaining: 1.71s\n",
      "327:\tlearn: 15.5914837\ttotal: 3.24s\tremaining: 1.7s\n",
      "328:\tlearn: 15.5830445\ttotal: 3.25s\tremaining: 1.69s\n",
      "329:\tlearn: 15.5606670\ttotal: 3.25s\tremaining: 1.68s\n",
      "330:\tlearn: 15.5480311\ttotal: 3.27s\tremaining: 1.67s\n",
      "331:\tlearn: 15.5373446\ttotal: 3.28s\tremaining: 1.66s\n",
      "332:\tlearn: 15.5231825\ttotal: 3.3s\tremaining: 1.65s\n",
      "333:\tlearn: 15.4947706\ttotal: 3.31s\tremaining: 1.65s\n",
      "334:\tlearn: 15.4780834\ttotal: 3.33s\tremaining: 1.64s\n",
      "335:\tlearn: 15.4667483\ttotal: 3.34s\tremaining: 1.63s\n",
      "336:\tlearn: 15.4489836\ttotal: 3.36s\tremaining: 1.63s\n",
      "337:\tlearn: 15.4342161\ttotal: 3.37s\tremaining: 1.61s\n",
      "338:\tlearn: 15.4211799\ttotal: 3.38s\tremaining: 1.6s\n",
      "339:\tlearn: 15.4057756\ttotal: 3.38s\tremaining: 1.59s\n",
      "340:\tlearn: 15.3943726\ttotal: 3.39s\tremaining: 1.58s\n",
      "341:\tlearn: 15.3855819\ttotal: 3.39s\tremaining: 1.57s\n",
      "342:\tlearn: 15.3648080\ttotal: 3.4s\tremaining: 1.56s\n",
      "343:\tlearn: 15.3445733\ttotal: 3.41s\tremaining: 1.54s\n",
      "344:\tlearn: 15.3321457\ttotal: 3.41s\tremaining: 1.53s\n",
      "345:\tlearn: 15.3171750\ttotal: 3.42s\tremaining: 1.52s\n",
      "346:\tlearn: 15.3028369\ttotal: 3.42s\tremaining: 1.51s\n",
      "347:\tlearn: 15.2789987\ttotal: 3.44s\tremaining: 1.5s\n",
      "348:\tlearn: 15.2710070\ttotal: 3.45s\tremaining: 1.49s\n",
      "349:\tlearn: 15.2524426\ttotal: 3.47s\tremaining: 1.49s\n",
      "350:\tlearn: 15.2489700\ttotal: 3.48s\tremaining: 1.48s\n",
      "351:\tlearn: 15.2288316\ttotal: 3.49s\tremaining: 1.47s\n",
      "352:\tlearn: 15.2175529\ttotal: 3.5s\tremaining: 1.46s\n",
      "353:\tlearn: 15.2035257\ttotal: 3.5s\tremaining: 1.44s\n",
      "354:\tlearn: 15.1884127\ttotal: 3.51s\tremaining: 1.43s\n",
      "355:\tlearn: 15.1710405\ttotal: 3.52s\tremaining: 1.43s\n",
      "356:\tlearn: 15.1490617\ttotal: 3.54s\tremaining: 1.42s\n",
      "357:\tlearn: 15.1349470\ttotal: 3.55s\tremaining: 1.41s\n",
      "358:\tlearn: 15.1257873\ttotal: 3.56s\tremaining: 1.4s\n",
      "359:\tlearn: 15.1023008\ttotal: 3.58s\tremaining: 1.39s\n",
      "360:\tlearn: 15.0881124\ttotal: 3.59s\tremaining: 1.38s\n",
      "361:\tlearn: 15.0764863\ttotal: 3.61s\tremaining: 1.37s\n",
      "362:\tlearn: 15.0601910\ttotal: 3.61s\tremaining: 1.36s\n",
      "363:\tlearn: 15.0419649\ttotal: 3.62s\tremaining: 1.35s\n",
      "364:\tlearn: 15.0238940\ttotal: 3.63s\tremaining: 1.34s\n",
      "365:\tlearn: 15.0110083\ttotal: 3.64s\tremaining: 1.33s\n",
      "366:\tlearn: 14.9936620\ttotal: 3.65s\tremaining: 1.32s\n",
      "367:\tlearn: 14.9759035\ttotal: 3.67s\tremaining: 1.32s\n",
      "368:\tlearn: 14.9634028\ttotal: 3.68s\tremaining: 1.31s\n",
      "369:\tlearn: 14.9468369\ttotal: 3.7s\tremaining: 1.3s\n",
      "370:\tlearn: 14.9396842\ttotal: 3.72s\tremaining: 1.29s\n",
      "371:\tlearn: 14.9226794\ttotal: 3.72s\tremaining: 1.28s\n",
      "372:\tlearn: 14.9095551\ttotal: 3.73s\tremaining: 1.27s\n",
      "373:\tlearn: 14.8987142\ttotal: 3.73s\tremaining: 1.26s\n",
      "374:\tlearn: 14.8978289\ttotal: 3.74s\tremaining: 1.25s\n",
      "375:\tlearn: 14.8792110\ttotal: 3.74s\tremaining: 1.23s\n",
      "376:\tlearn: 14.8629470\ttotal: 3.75s\tremaining: 1.22s\n",
      "377:\tlearn: 14.8621345\ttotal: 3.75s\tremaining: 1.21s\n",
      "378:\tlearn: 14.8491123\ttotal: 3.75s\tremaining: 1.2s\n",
      "379:\tlearn: 14.8481951\ttotal: 3.76s\tremaining: 1.19s\n",
      "380:\tlearn: 14.8321432\ttotal: 3.77s\tremaining: 1.18s\n",
      "381:\tlearn: 14.8119074\ttotal: 3.77s\tremaining: 1.17s\n",
      "382:\tlearn: 14.8005300\ttotal: 3.78s\tremaining: 1.15s\n",
      "383:\tlearn: 14.7866058\ttotal: 3.78s\tremaining: 1.14s\n",
      "384:\tlearn: 14.7858398\ttotal: 3.79s\tremaining: 1.13s\n",
      "385:\tlearn: 14.7702954\ttotal: 3.79s\tremaining: 1.12s\n",
      "386:\tlearn: 14.7679066\ttotal: 3.79s\tremaining: 1.11s\n",
      "387:\tlearn: 14.7577694\ttotal: 3.8s\tremaining: 1.1s\n",
      "388:\tlearn: 14.7434294\ttotal: 3.8s\tremaining: 1.08s\n",
      "389:\tlearn: 14.7285534\ttotal: 3.81s\tremaining: 1.07s\n",
      "390:\tlearn: 14.7119501\ttotal: 3.81s\tremaining: 1.06s\n",
      "391:\tlearn: 14.6976101\ttotal: 3.82s\tremaining: 1.05s\n",
      "392:\tlearn: 14.6967334\ttotal: 3.82s\tremaining: 1.04s\n",
      "393:\tlearn: 14.6831959\ttotal: 3.83s\tremaining: 1.03s\n",
      "394:\tlearn: 14.6721949\ttotal: 3.83s\tremaining: 1.02s\n",
      "395:\tlearn: 14.6558196\ttotal: 3.84s\tremaining: 1.01s\n",
      "396:\tlearn: 14.6416471\ttotal: 3.84s\tremaining: 997ms\n",
      "397:\tlearn: 14.6326341\ttotal: 3.85s\tremaining: 987ms\n",
      "398:\tlearn: 14.6216601\ttotal: 3.85s\tremaining: 976ms\n",
      "399:\tlearn: 14.6072638\ttotal: 3.86s\tremaining: 965ms\n",
      "400:\tlearn: 14.5972799\ttotal: 3.86s\tremaining: 954ms\n",
      "401:\tlearn: 14.5872378\ttotal: 3.87s\tremaining: 943ms\n",
      "402:\tlearn: 14.5745611\ttotal: 3.88s\tremaining: 933ms\n",
      "403:\tlearn: 14.5645232\ttotal: 3.89s\tremaining: 924ms\n",
      "404:\tlearn: 14.5411723\ttotal: 3.89s\tremaining: 913ms\n",
      "405:\tlearn: 14.5330018\ttotal: 3.9s\tremaining: 903ms\n",
      "406:\tlearn: 14.5170131\ttotal: 3.9s\tremaining: 892ms\n",
      "407:\tlearn: 14.4992784\ttotal: 3.91s\tremaining: 881ms\n",
      "408:\tlearn: 14.4912804\ttotal: 3.91s\tremaining: 870ms\n",
      "409:\tlearn: 14.4656399\ttotal: 3.92s\tremaining: 860ms\n",
      "410:\tlearn: 14.4638360\ttotal: 3.92s\tremaining: 849ms\n",
      "411:\tlearn: 14.4476951\ttotal: 3.93s\tremaining: 839ms\n",
      "412:\tlearn: 14.4308697\ttotal: 3.93s\tremaining: 828ms\n",
      "413:\tlearn: 14.4148508\ttotal: 3.94s\tremaining: 818ms\n",
      "414:\tlearn: 14.3975981\ttotal: 3.94s\tremaining: 807ms\n",
      "415:\tlearn: 14.3803280\ttotal: 3.94s\tremaining: 797ms\n",
      "416:\tlearn: 14.3628051\ttotal: 3.96s\tremaining: 787ms\n",
      "417:\tlearn: 14.3619127\ttotal: 3.96s\tremaining: 777ms\n",
      "418:\tlearn: 14.3545057\ttotal: 3.96s\tremaining: 767ms\n",
      "419:\tlearn: 14.3391866\ttotal: 3.97s\tremaining: 756ms\n",
      "420:\tlearn: 14.3292538\ttotal: 3.97s\tremaining: 746ms\n",
      "421:\tlearn: 14.3240212\ttotal: 3.98s\tremaining: 735ms\n",
      "422:\tlearn: 14.3054678\ttotal: 3.98s\tremaining: 725ms\n",
      "423:\tlearn: 14.2932204\ttotal: 3.99s\tremaining: 715ms\n",
      "424:\tlearn: 14.2821810\ttotal: 3.99s\tremaining: 705ms\n",
      "425:\tlearn: 14.2804662\ttotal: 4s\tremaining: 694ms\n",
      "426:\tlearn: 14.2703326\ttotal: 4s\tremaining: 684ms\n",
      "427:\tlearn: 14.2606519\ttotal: 4.01s\tremaining: 674ms\n",
      "428:\tlearn: 14.2488567\ttotal: 4.01s\tremaining: 664ms\n",
      "429:\tlearn: 14.2278860\ttotal: 4.02s\tremaining: 654ms\n",
      "430:\tlearn: 14.2198343\ttotal: 4.02s\tremaining: 644ms\n",
      "431:\tlearn: 14.2100397\ttotal: 4.03s\tremaining: 634ms\n",
      "432:\tlearn: 14.2042359\ttotal: 4.03s\tremaining: 624ms\n",
      "433:\tlearn: 14.1926554\ttotal: 4.03s\tremaining: 614ms\n",
      "434:\tlearn: 14.1886266\ttotal: 4.04s\tremaining: 604ms\n",
      "435:\tlearn: 14.1715672\ttotal: 4.04s\tremaining: 594ms\n",
      "436:\tlearn: 14.1571224\ttotal: 4.05s\tremaining: 584ms\n",
      "437:\tlearn: 14.1468416\ttotal: 4.05s\tremaining: 574ms\n",
      "438:\tlearn: 14.1382329\ttotal: 4.06s\tremaining: 564ms\n",
      "439:\tlearn: 14.1374817\ttotal: 4.07s\tremaining: 555ms\n",
      "440:\tlearn: 14.1230597\ttotal: 4.07s\tremaining: 545ms\n",
      "441:\tlearn: 14.1223404\ttotal: 4.08s\tremaining: 535ms\n",
      "442:\tlearn: 14.1118355\ttotal: 4.08s\tremaining: 525ms\n",
      "443:\tlearn: 14.0902953\ttotal: 4.08s\tremaining: 515ms\n",
      "444:\tlearn: 14.0756159\ttotal: 4.09s\tremaining: 505ms\n",
      "445:\tlearn: 14.0622415\ttotal: 4.09s\tremaining: 496ms\n",
      "446:\tlearn: 14.0477209\ttotal: 4.1s\tremaining: 486ms\n",
      "447:\tlearn: 14.0277175\ttotal: 4.1s\tremaining: 476ms\n",
      "448:\tlearn: 14.0269955\ttotal: 4.11s\tremaining: 467ms\n",
      "449:\tlearn: 14.0139494\ttotal: 4.11s\tremaining: 457ms\n",
      "450:\tlearn: 13.9952464\ttotal: 4.12s\tremaining: 447ms\n",
      "451:\tlearn: 13.9726425\ttotal: 4.12s\tremaining: 438ms\n",
      "452:\tlearn: 13.9610810\ttotal: 4.13s\tremaining: 428ms\n",
      "453:\tlearn: 13.9458687\ttotal: 4.13s\tremaining: 419ms\n",
      "454:\tlearn: 13.9392571\ttotal: 4.14s\tremaining: 409ms\n",
      "455:\tlearn: 13.9235359\ttotal: 4.14s\tremaining: 400ms\n",
      "456:\tlearn: 13.9085111\ttotal: 4.15s\tremaining: 390ms\n",
      "457:\tlearn: 13.8908758\ttotal: 4.15s\tremaining: 381ms\n",
      "458:\tlearn: 13.8730201\ttotal: 4.16s\tremaining: 372ms\n",
      "459:\tlearn: 13.8546091\ttotal: 4.16s\tremaining: 362ms\n",
      "460:\tlearn: 13.8494705\ttotal: 4.17s\tremaining: 353ms\n",
      "461:\tlearn: 13.8341702\ttotal: 4.17s\tremaining: 343ms\n",
      "462:\tlearn: 13.8327309\ttotal: 4.18s\tremaining: 334ms\n",
      "463:\tlearn: 13.8233721\ttotal: 4.18s\tremaining: 325ms\n",
      "464:\tlearn: 13.8087872\ttotal: 4.19s\tremaining: 315ms\n",
      "465:\tlearn: 13.7942118\ttotal: 4.2s\tremaining: 306ms\n",
      "466:\tlearn: 13.7856096\ttotal: 4.2s\tremaining: 297ms\n",
      "467:\tlearn: 13.7733029\ttotal: 4.21s\tremaining: 288ms\n",
      "468:\tlearn: 13.7638280\ttotal: 4.21s\tremaining: 278ms\n",
      "469:\tlearn: 13.7516435\ttotal: 4.22s\tremaining: 269ms\n",
      "470:\tlearn: 13.7444418\ttotal: 4.22s\tremaining: 260ms\n",
      "471:\tlearn: 13.7327909\ttotal: 4.23s\tremaining: 251ms\n",
      "472:\tlearn: 13.7235715\ttotal: 4.23s\tremaining: 242ms\n",
      "473:\tlearn: 13.7044369\ttotal: 4.24s\tremaining: 232ms\n",
      "474:\tlearn: 13.6877449\ttotal: 4.24s\tremaining: 223ms\n",
      "475:\tlearn: 13.6795995\ttotal: 4.25s\tremaining: 214ms\n",
      "476:\tlearn: 13.6587688\ttotal: 4.25s\tremaining: 205ms\n",
      "477:\tlearn: 13.6494235\ttotal: 4.25s\tremaining: 196ms\n",
      "478:\tlearn: 13.6372810\ttotal: 4.26s\tremaining: 187ms\n",
      "479:\tlearn: 13.6247251\ttotal: 4.26s\tremaining: 178ms\n",
      "480:\tlearn: 13.6089931\ttotal: 4.27s\tremaining: 169ms\n",
      "481:\tlearn: 13.6075439\ttotal: 4.27s\tremaining: 160ms\n",
      "482:\tlearn: 13.6054209\ttotal: 4.28s\tremaining: 151ms\n",
      "483:\tlearn: 13.6047780\ttotal: 4.28s\tremaining: 142ms\n",
      "484:\tlearn: 13.6037373\ttotal: 4.29s\tremaining: 133ms\n",
      "485:\tlearn: 13.5925192\ttotal: 4.29s\tremaining: 124ms\n",
      "486:\tlearn: 13.5812660\ttotal: 4.29s\tremaining: 115ms\n",
      "487:\tlearn: 13.5778254\ttotal: 4.3s\tremaining: 106ms\n",
      "488:\tlearn: 13.5681173\ttotal: 4.31s\tremaining: 96.9ms\n",
      "489:\tlearn: 13.5473342\ttotal: 4.32s\tremaining: 88.1ms\n",
      "490:\tlearn: 13.5320723\ttotal: 4.32s\tremaining: 79.2ms\n",
      "491:\tlearn: 13.5257424\ttotal: 4.33s\tremaining: 70.3ms\n",
      "492:\tlearn: 13.5121386\ttotal: 4.33s\tremaining: 61.5ms\n",
      "493:\tlearn: 13.4985395\ttotal: 4.33s\tremaining: 52.6ms\n",
      "494:\tlearn: 13.4837670\ttotal: 4.34s\tremaining: 43.9ms\n",
      "495:\tlearn: 13.4719807\ttotal: 4.35s\tremaining: 35.1ms\n",
      "496:\tlearn: 13.4624658\ttotal: 4.35s\tremaining: 26.3ms\n",
      "497:\tlearn: 13.4549339\ttotal: 4.36s\tremaining: 17.5ms\n",
      "498:\tlearn: 13.4421015\ttotal: 4.36s\tremaining: 8.74ms\n",
      "499:\tlearn: 13.4347526\ttotal: 4.37s\tremaining: 0us\n",
      "Метрика качества (RMSE) модели: 41.07047922226021; Время обучения модели: 4.766511917114258; Скорость предсказания: 0.004019498825073242\n"
     ]
    }
   ],
   "source": [
    "model = CatBoostRegressor(loss_function=\"RMSE\",\n",
    "                          depth=5, \n",
    "                          iterations=500, \n",
    "                          learning_rate=0.1)\n",
    "time_rmse(model, features_train, target_train, features_test, target_test)"
   ]
  },
  {
   "cell_type": "code",
   "execution_count": 36,
   "metadata": {
    "colab": {
     "base_uri": "https://localhost:8080/"
    },
    "id": "7YFgMGsiDKcV",
    "outputId": "18d33435-cd22-4745-c205-96508aae7145"
   },
   "outputs": [
    {
     "name": "stdout",
     "output_type": "stream",
     "text": [
      "Метрика качества (RMSE) модели: 42.384091635239336; Время обучения модели: 12.658803701400757; Скорость предсказания: 0.0175168514251709\n"
     ]
    }
   ],
   "source": [
    "model = LGBMRegressor(learning_rate=0.05, n_estimators=500, num_leaves=50)\n",
    "time_rmse(model, features_train, target_train, features_test, target_test)"
   ]
  },
  {
   "cell_type": "markdown",
   "metadata": {},
   "source": [
    "<div class=\"alert alert-block alert-success\">\n",
    "<b>Успех:</b> Тестирование было сделано верно.\n",
    "</div>"
   ]
  },
  {
   "cell_type": "markdown",
   "metadata": {
    "id": "9sDCBARfEJWv"
   },
   "source": [
    "### Сравнение результатов"
   ]
  },
  {
   "cell_type": "code",
   "execution_count": 37,
   "metadata": {
    "colab": {
     "base_uri": "https://localhost:8080/",
     "height": 175
    },
    "id": "KxuWX6L8DTyY",
    "outputId": "18d967f3-90ca-44b0-cf83-af7512a81861"
   },
   "outputs": [
    {
     "data": {
      "text/html": [
       "\n",
       "  <div id=\"df-61be6a65-a596-4c85-81b5-a3f75bd3b1dc\">\n",
       "    <div class=\"colab-df-container\">\n",
       "      <div>\n",
       "<style scoped>\n",
       "    .dataframe tbody tr th:only-of-type {\n",
       "        vertical-align: middle;\n",
       "    }\n",
       "\n",
       "    .dataframe tbody tr th {\n",
       "        vertical-align: top;\n",
       "    }\n",
       "\n",
       "    .dataframe thead th {\n",
       "        text-align: right;\n",
       "    }\n",
       "</style>\n",
       "<table border=\"1\" class=\"dataframe\">\n",
       "  <thead>\n",
       "    <tr style=\"text-align: right;\">\n",
       "      <th></th>\n",
       "      <th>model</th>\n",
       "      <th>RMSE</th>\n",
       "      <th>fittime</th>\n",
       "      <th>predicttime</th>\n",
       "    </tr>\n",
       "  </thead>\n",
       "  <tbody>\n",
       "    <tr>\n",
       "      <th>0</th>\n",
       "      <td>LinearRegression</td>\n",
       "      <td>45.19</td>\n",
       "      <td>0.018</td>\n",
       "      <td>0.008</td>\n",
       "    </tr>\n",
       "    <tr>\n",
       "      <th>1</th>\n",
       "      <td>RandomForestRegressor</td>\n",
       "      <td>43.51</td>\n",
       "      <td>5.267</td>\n",
       "      <td>0.027</td>\n",
       "    </tr>\n",
       "    <tr>\n",
       "      <th>2</th>\n",
       "      <td>CatBoostRegressor</td>\n",
       "      <td>41.07</td>\n",
       "      <td>4.767</td>\n",
       "      <td>0.004</td>\n",
       "    </tr>\n",
       "    <tr>\n",
       "      <th>3</th>\n",
       "      <td>LGBMRegressor</td>\n",
       "      <td>42.38</td>\n",
       "      <td>12.658</td>\n",
       "      <td>0.017</td>\n",
       "    </tr>\n",
       "  </tbody>\n",
       "</table>\n",
       "</div>\n",
       "      <button class=\"colab-df-convert\" onclick=\"convertToInteractive('df-61be6a65-a596-4c85-81b5-a3f75bd3b1dc')\"\n",
       "              title=\"Convert this dataframe to an interactive table.\"\n",
       "              style=\"display:none;\">\n",
       "        \n",
       "  <svg xmlns=\"http://www.w3.org/2000/svg\" height=\"24px\"viewBox=\"0 0 24 24\"\n",
       "       width=\"24px\">\n",
       "    <path d=\"M0 0h24v24H0V0z\" fill=\"none\"/>\n",
       "    <path d=\"M18.56 5.44l.94 2.06.94-2.06 2.06-.94-2.06-.94-.94-2.06-.94 2.06-2.06.94zm-11 1L8.5 8.5l.94-2.06 2.06-.94-2.06-.94L8.5 2.5l-.94 2.06-2.06.94zm10 10l.94 2.06.94-2.06 2.06-.94-2.06-.94-.94-2.06-.94 2.06-2.06.94z\"/><path d=\"M17.41 7.96l-1.37-1.37c-.4-.4-.92-.59-1.43-.59-.52 0-1.04.2-1.43.59L10.3 9.45l-7.72 7.72c-.78.78-.78 2.05 0 2.83L4 21.41c.39.39.9.59 1.41.59.51 0 1.02-.2 1.41-.59l7.78-7.78 2.81-2.81c.8-.78.8-2.07 0-2.86zM5.41 20L4 18.59l7.72-7.72 1.47 1.35L5.41 20z\"/>\n",
       "  </svg>\n",
       "      </button>\n",
       "      \n",
       "  <style>\n",
       "    .colab-df-container {\n",
       "      display:flex;\n",
       "      flex-wrap:wrap;\n",
       "      gap: 12px;\n",
       "    }\n",
       "\n",
       "    .colab-df-convert {\n",
       "      background-color: #E8F0FE;\n",
       "      border: none;\n",
       "      border-radius: 50%;\n",
       "      cursor: pointer;\n",
       "      display: none;\n",
       "      fill: #1967D2;\n",
       "      height: 32px;\n",
       "      padding: 0 0 0 0;\n",
       "      width: 32px;\n",
       "    }\n",
       "\n",
       "    .colab-df-convert:hover {\n",
       "      background-color: #E2EBFA;\n",
       "      box-shadow: 0px 1px 2px rgba(60, 64, 67, 0.3), 0px 1px 3px 1px rgba(60, 64, 67, 0.15);\n",
       "      fill: #174EA6;\n",
       "    }\n",
       "\n",
       "    [theme=dark] .colab-df-convert {\n",
       "      background-color: #3B4455;\n",
       "      fill: #D2E3FC;\n",
       "    }\n",
       "\n",
       "    [theme=dark] .colab-df-convert:hover {\n",
       "      background-color: #434B5C;\n",
       "      box-shadow: 0px 1px 3px 1px rgba(0, 0, 0, 0.15);\n",
       "      filter: drop-shadow(0px 1px 2px rgba(0, 0, 0, 0.3));\n",
       "      fill: #FFFFFF;\n",
       "    }\n",
       "  </style>\n",
       "\n",
       "      <script>\n",
       "        const buttonEl =\n",
       "          document.querySelector('#df-61be6a65-a596-4c85-81b5-a3f75bd3b1dc button.colab-df-convert');\n",
       "        buttonEl.style.display =\n",
       "          google.colab.kernel.accessAllowed ? 'block' : 'none';\n",
       "\n",
       "        async function convertToInteractive(key) {\n",
       "          const element = document.querySelector('#df-61be6a65-a596-4c85-81b5-a3f75bd3b1dc');\n",
       "          const dataTable =\n",
       "            await google.colab.kernel.invokeFunction('convertToInteractive',\n",
       "                                                     [key], {});\n",
       "          if (!dataTable) return;\n",
       "\n",
       "          const docLinkHtml = 'Like what you see? Visit the ' +\n",
       "            '<a target=\"_blank\" href=https://colab.research.google.com/notebooks/data_table.ipynb>data table notebook</a>'\n",
       "            + ' to learn more about interactive tables.';\n",
       "          element.innerHTML = '';\n",
       "          dataTable['output_type'] = 'display_data';\n",
       "          await google.colab.output.renderOutput(dataTable, element);\n",
       "          const docLink = document.createElement('div');\n",
       "          docLink.innerHTML = docLinkHtml;\n",
       "          element.appendChild(docLink);\n",
       "        }\n",
       "      </script>\n",
       "    </div>\n",
       "  </div>\n",
       "  "
      ],
      "text/plain": [
       "                   model   RMSE  fittime  predicttime\n",
       "0       LinearRegression  45.19    0.018        0.008\n",
       "1  RandomForestRegressor  43.51    5.267        0.027\n",
       "2      CatBoostRegressor  41.07    4.767        0.004\n",
       "3          LGBMRegressor  42.38   12.658        0.017"
      ]
     },
     "execution_count": 37,
     "metadata": {},
     "output_type": "execute_result"
    }
   ],
   "source": [
    "result = pd.DataFrame({'model':['LinearRegression','RandomForestRegressor','CatBoostRegressor','LGBMRegressor'],\n",
    "             'RMSE':[45.19,43.51,41.07,42.38],\n",
    "             'fittime':[0.018,5.267,4.767,12.658],\n",
    "             'predicttime':[0.008,0.027,0.004,0.017]})\n",
    "result"
   ]
  },
  {
   "cell_type": "markdown",
   "metadata": {
    "id": "s4t7Anl1EZhR"
   },
   "source": [
    "## Вывод"
   ]
  },
  {
   "cell_type": "markdown",
   "metadata": {
    "id": "hurkn4KyEbzX"
   },
   "source": [
    "Каждая из моделей прошла допустимый порог значения метрики качества RMSE, все получившиеся значения менее 48. Лучший результат показала модель CatBoostRegressor, метрика RMSE чуть больше 41. К тому же у этой модели скорость предсказания лучше всего. Мой выбор - модель CatBoostRegressor.\n",
    "\n",
    "Интересно заметить, что метрика качества на тестовой выборке значительно ухудщилась по сравнению с метрикой на обучаемой выборке. Это может означать, что модель недообучилась или переобучилась.\n",
    "\n",
    "Построю график, чтобы посмотреть визуально, насколько совпадают предсказания выбранной модели CatBoostRegressor с исходынми значениями тестовой выборки."
   ]
  },
  {
   "cell_type": "code",
   "execution_count": null,
   "metadata": {
    "colab": {
     "base_uri": "https://localhost:8080/",
     "height": 390
    },
    "id": "8no4C0bGEmps",
    "outputId": "6a17b5fa-d471-4f91-d8f4-05b06cd610ab"
   },
   "outputs": [],
   "source": [
    "model = CatBoostRegressor(loss_function=\"RMSE\",\n",
    "                          depth=5, \n",
    "                          iterations=500, \n",
    "                          learning_rate=0.1)\n",
    "model.fit(features_train, target_train)\n",
    "predictions = model.predict(features_test)\n",
    "\n",
    "plt.figure(figsize=(13,6))\n",
    "plt.title('Исходные и предсказанные значения модели CatBoostRegressor')\n",
    "plt.plot(target_test, label='Initial data', color='yellow')\n",
    "predictions = pd.Series(predictions, index=target_test.index)\n",
    "plt.plot(predictions, label ='Predicted data', color='orange')"
   ]
  },
  {
   "cell_type": "markdown",
   "metadata": {},
   "source": [
    "<div class=\"alert alert-block alert-success\">\n",
    "<b>Успех:</b> Приятно видеть вывод в конце проекта! Хорошо, что предсказания были визуализированы!\n",
    "</div>"
   ]
  },
  {
   "cell_type": "code",
   "execution_count": null,
   "metadata": {},
   "outputs": [],
   "source": []
  }
 ],
 "metadata": {
  "colab": {
   "collapsed_sections": [],
   "name": "Untitled2.ipynb",
   "provenance": []
  },
  "kernelspec": {
   "display_name": "Python 3 (ipykernel)",
   "language": "python",
   "name": "python3"
  },
  "language_info": {
   "codemirror_mode": {
    "name": "ipython",
    "version": 3
   },
   "file_extension": ".py",
   "mimetype": "text/x-python",
   "name": "python",
   "nbconvert_exporter": "python",
   "pygments_lexer": "ipython3",
   "version": "3.9.5"
  },
  "toc": {
   "base_numbering": 1,
   "nav_menu": {},
   "number_sections": true,
   "sideBar": true,
   "skip_h1_title": true,
   "title_cell": "Table of Contents",
   "title_sidebar": "Contents",
   "toc_cell": false,
   "toc_position": {},
   "toc_section_display": true,
   "toc_window_display": false
  }
 },
 "nbformat": 4,
 "nbformat_minor": 1
}
